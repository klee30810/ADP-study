{
 "cells": [
  {
   "cell_type": "code",
   "execution_count": 1,
   "id": "7c90c7d7",
   "metadata": {
    "_cell_guid": "b1076dfc-b9ad-4769-8c92-a6c4dae69d19",
    "_uuid": "8f2839f25d086af736a60e9eeb907d3b93b6e0e5",
    "execution": {
     "iopub.execute_input": "2022-11-06T13:54:53.780844Z",
     "iopub.status.busy": "2022-11-06T13:54:53.780487Z",
     "iopub.status.idle": "2022-11-06T13:54:53.796902Z",
     "shell.execute_reply": "2022-11-06T13:54:53.796089Z"
    },
    "papermill": {
     "duration": 0.026304,
     "end_time": "2022-11-06T13:54:53.798823",
     "exception": false,
     "start_time": "2022-11-06T13:54:53.772519",
     "status": "completed"
    },
    "tags": []
   },
   "outputs": [
    {
     "name": "stdout",
     "output_type": "stream",
     "text": [
      "/kaggle/input/adp-p7/mg.png\n"
     ]
    }
   ],
   "source": [
    "# This Python 3 environment comes with many helpful analytics libraries installed\n",
    "# It is defined by the kaggle/python Docker image: https://github.com/kaggle/docker-python\n",
    "# For example, here's several helpful packages to load\n",
    "\n",
    "import numpy as np # linear algebra\n",
    "import pandas as pd # data processing, CSV file I/O (e.g. pd.read_csv)\n",
    "\n",
    "# Input data files are available in the read-only \"../input/\" directory\n",
    "# For example, running this (by clicking run or pressing Shift+Enter) will list all files under the input directory\n",
    "\n",
    "import os\n",
    "for dirname, _, filenames in os.walk('/kaggle/input'):\n",
    "    for filename in filenames:\n",
    "        print(os.path.join(dirname, filename))\n",
    "\n",
    "# You can write up to 20GB to the current directory (/kaggle/working/) that gets preserved as output when you create a version using \"Save & Run All\" \n",
    "# You can also write temporary files to /kaggle/temp/, but they won't be saved outside of the current session"
   ]
  },
  {
   "cell_type": "markdown",
   "id": "bbeb0afe",
   "metadata": {
    "papermill": {
     "duration": 0.005533,
     "end_time": "2022-11-06T13:54:53.810396",
     "exception": false,
     "start_time": "2022-11-06T13:54:53.804863",
     "status": "completed"
    },
    "tags": []
   },
   "source": [
    "# 1.군집분석 "
   ]
  },
  {
   "cell_type": "markdown",
   "id": "7ff8e432",
   "metadata": {
    "papermill": {
     "duration": 0.005291,
     "end_time": "2022-11-06T13:54:53.821320",
     "exception": false,
     "start_time": "2022-11-06T13:54:53.816029",
     "status": "completed"
    },
    "tags": []
   },
   "source": [
    "- 데이터 경로 /kaggle/input/adp-p7/problem1.csv \n",
    "\n",
    "### 데이터 설명\n",
    "- InvoiceNo: Invoice number. Nominal, a 6-digit integral number uniquely assigned to each transaction. If this code starts with letter 'c', it indicates a cancellation.     \n",
    "- StockCode: Product (item) code. Nominal, a 5-digit integral number uniquely assigned to each distinct product.     \n",
    "- Description: Product (item) name. Nominal.    \n",
    "- Quantity: The quantities of each product (item) per transaction. Numeric.     \n",
    "- InvoiceDate: Invice Date and time. Numeric, the day and time when each transaction was generated.   \n",
    "- UnitPrice: Unit price. Numeric, Product price per unit in sterling.    \n",
    "- CustomerID: Customer number. Nominal, a 5-digit integral number uniquely assigned to each customer.     \n",
    "- Country: Country name. Nominal, the name of the country where each customer resides.     \n",
    "\n",
    "\n",
    "### 데이터 출처\n",
    "- https://archive.ics.uci.edu/ml/index.php"
   ]
  },
  {
   "cell_type": "markdown",
   "id": "fd7b2a0d",
   "metadata": {
    "papermill": {
     "duration": 0.005302,
     "end_time": "2022-11-06T13:54:53.832061",
     "exception": false,
     "start_time": "2022-11-06T13:54:53.826759",
     "status": "completed"
    },
    "tags": []
   },
   "source": [
    "## 1.1 F(소비자별 구매빈도), M(소비자별 총 구매액) feature를 새로 생성해서 그 결과값으로 탐색적 분석 실시\n"
   ]
  },
  {
   "cell_type": "code",
   "execution_count": null,
   "id": "d8a726dc",
   "metadata": {
    "papermill": {
     "duration": 0.005262,
     "end_time": "2022-11-06T13:54:53.842805",
     "exception": false,
     "start_time": "2022-11-06T13:54:53.837543",
     "status": "completed"
    },
    "tags": []
   },
   "outputs": [],
   "source": []
  },
  {
   "cell_type": "markdown",
   "id": "36de314e",
   "metadata": {
    "papermill": {
     "duration": 0.005226,
     "end_time": "2022-11-06T13:54:53.854287",
     "exception": false,
     "start_time": "2022-11-06T13:54:53.849061",
     "status": "completed"
    },
    "tags": []
   },
   "source": [
    "## 1.2 F, M feature 기반으로 군집분석 실시, 필요시 이상값 보정"
   ]
  },
  {
   "cell_type": "code",
   "execution_count": null,
   "id": "0a588a2f",
   "metadata": {
    "papermill": {
     "duration": 0.0052,
     "end_time": "2022-11-06T13:54:53.864877",
     "exception": false,
     "start_time": "2022-11-06T13:54:53.859677",
     "status": "completed"
    },
    "tags": []
   },
   "outputs": [],
   "source": []
  },
  {
   "cell_type": "markdown",
   "id": "120a11dc",
   "metadata": {
    "papermill": {
     "duration": 0.005218,
     "end_time": "2022-11-06T13:54:53.875603",
     "exception": false,
     "start_time": "2022-11-06T13:54:53.870385",
     "status": "completed"
    },
    "tags": []
   },
   "source": [
    "## 1.3 군집 결과의 적합성을 군집 내 응집도, 군집 간 분리도의 개념을 사용해서 서술"
   ]
  },
  {
   "cell_type": "code",
   "execution_count": null,
   "id": "a85b639c",
   "metadata": {
    "papermill": {
     "duration": 0.005262,
     "end_time": "2022-11-06T13:54:53.886286",
     "exception": false,
     "start_time": "2022-11-06T13:54:53.881024",
     "status": "completed"
    },
    "tags": []
   },
   "outputs": [],
   "source": []
  },
  {
   "cell_type": "markdown",
   "id": "0278f38c",
   "metadata": {
    "papermill": {
     "duration": 0.005282,
     "end_time": "2022-11-06T13:54:53.896945",
     "exception": false,
     "start_time": "2022-11-06T13:54:53.891663",
     "status": "completed"
    },
    "tags": []
   },
   "source": [
    "## 1.4 적합된 군집 별 특성에 대한 의견과 비즈니스적 판단 제시"
   ]
  },
  {
   "cell_type": "markdown",
   "id": "a9221e96",
   "metadata": {
    "papermill": {
     "duration": 0.005174,
     "end_time": "2022-11-06T13:54:53.907488",
     "exception": false,
     "start_time": "2022-11-06T13:54:53.902314",
     "status": "completed"
    },
    "tags": []
   },
   "source": [
    "# 2번 시계열분석\n",
    "- 경로 : /kaggle/input/adp-p7/problem2.csv\n",
    "- 데이터 설명    \n",
    "  각 raw는 관광지 A의 1990년 1월 부터 25년동안의 매달 평균 이용객 숫자이다."
   ]
  },
  {
   "cell_type": "markdown",
   "id": "8213fc69",
   "metadata": {
    "papermill": {
     "duration": 0.005335,
     "end_time": "2022-11-06T13:54:53.918446",
     "exception": false,
     "start_time": "2022-11-06T13:54:53.913111",
     "status": "completed"
    },
    "tags": []
   },
   "source": [
    "## 2-1 EDA와 시각화를 진행하라"
   ]
  },
  {
   "cell_type": "code",
   "execution_count": null,
   "id": "892e74d9",
   "metadata": {
    "papermill": {
     "duration": 0.005381,
     "end_time": "2022-11-06T13:54:53.929361",
     "exception": false,
     "start_time": "2022-11-06T13:54:53.923980",
     "status": "completed"
    },
    "tags": []
   },
   "outputs": [],
   "source": []
  },
  {
   "cell_type": "markdown",
   "id": "c29d44eb",
   "metadata": {
    "papermill": {
     "duration": 0.005291,
     "end_time": "2022-11-06T13:54:53.940248",
     "exception": false,
     "start_time": "2022-11-06T13:54:53.934957",
     "status": "completed"
    },
    "tags": []
   },
   "source": [
    "## 2-2 결측치 처리와 해당 결측치 처리 방식에 대한 논리적 근거를 제시하라"
   ]
  },
  {
   "cell_type": "code",
   "execution_count": null,
   "id": "2db4c01f",
   "metadata": {
    "papermill": {
     "duration": 0.005245,
     "end_time": "2022-11-06T13:54:53.951060",
     "exception": false,
     "start_time": "2022-11-06T13:54:53.945815",
     "status": "completed"
    },
    "tags": []
   },
   "outputs": [],
   "source": []
  },
  {
   "cell_type": "markdown",
   "id": "07ac6a38",
   "metadata": {
    "papermill": {
     "duration": 0.005606,
     "end_time": "2022-11-06T13:54:53.962205",
     "exception": false,
     "start_time": "2022-11-06T13:54:53.956599",
     "status": "completed"
    },
    "tags": []
   },
   "source": [
    "## 2-3 계절성을 반영한 시계열 모델을 제시하고 정확도 측면에서 모델 성능 평가 할 것"
   ]
  },
  {
   "cell_type": "code",
   "execution_count": null,
   "id": "6d117d04",
   "metadata": {
    "papermill": {
     "duration": 0.005339,
     "end_time": "2022-11-06T13:54:53.973169",
     "exception": false,
     "start_time": "2022-11-06T13:54:53.967830",
     "status": "completed"
    },
    "tags": []
   },
   "outputs": [],
   "source": []
  },
  {
   "cell_type": "markdown",
   "id": "2d277dc8",
   "metadata": {
    "papermill": {
     "duration": 0.005334,
     "end_time": "2022-11-06T13:54:53.984180",
     "exception": false,
     "start_time": "2022-11-06T13:54:53.978846",
     "status": "completed"
    },
    "tags": []
   },
   "source": [
    "## 2-4 분석 결과 활용 가능 여부에 대한 분석 전문가로서의 제안"
   ]
  },
  {
   "cell_type": "code",
   "execution_count": null,
   "id": "5cbed65d",
   "metadata": {
    "papermill": {
     "duration": 0.005491,
     "end_time": "2022-11-06T13:54:53.995345",
     "exception": false,
     "start_time": "2022-11-06T13:54:53.989854",
     "status": "completed"
    },
    "tags": []
   },
   "outputs": [],
   "source": []
  },
  {
   "cell_type": "markdown",
   "id": "d5a681c8",
   "metadata": {
    "papermill": {
     "duration": 0.005332,
     "end_time": "2022-11-06T13:54:54.006469",
     "exception": false,
     "start_time": "2022-11-06T13:54:54.001137",
     "status": "completed"
    },
    "tags": []
   },
   "source": [
    "# 3번\n"
   ]
  },
  {
   "cell_type": "markdown",
   "id": "0b2c6d5b",
   "metadata": {
    "papermill": {
     "duration": 0.005405,
     "end_time": "2022-11-06T13:54:54.017545",
     "exception": false,
     "start_time": "2022-11-06T13:54:54.012140",
     "status": "completed"
    },
    "tags": []
   },
   "source": [
    "## 3-1 서울에서 영동까지 100km/h로 가고 영동에서 서울까지 80km/로 돌아왔을 때, 평균 속도는?"
   ]
  },
  {
   "cell_type": "code",
   "execution_count": null,
   "id": "64dc26ce",
   "metadata": {
    "papermill": {
     "duration": 0.005453,
     "end_time": "2022-11-06T13:54:54.028626",
     "exception": false,
     "start_time": "2022-11-06T13:54:54.023173",
     "status": "completed"
    },
    "tags": []
   },
   "outputs": [],
   "source": []
  },
  {
   "cell_type": "markdown",
   "id": "ca00af24",
   "metadata": {
    "papermill": {
     "duration": 0.005229,
     "end_time": "2022-11-06T13:54:54.039391",
     "exception": false,
     "start_time": "2022-11-06T13:54:54.034162",
     "status": "completed"
    },
    "tags": []
   },
   "source": [
    "## 3-2 연매출이 3000, 4000, 5000이었다면 연평균 몇배가 증가한 것인가?"
   ]
  },
  {
   "cell_type": "code",
   "execution_count": null,
   "id": "bd4fe0de",
   "metadata": {
    "papermill": {
     "duration": 0.005267,
     "end_time": "2022-11-06T13:54:54.050185",
     "exception": false,
     "start_time": "2022-11-06T13:54:54.044918",
     "status": "completed"
    },
    "tags": []
   },
   "outputs": [],
   "source": []
  },
  {
   "cell_type": "markdown",
   "id": "f48c0ed3",
   "metadata": {
    "papermill": {
     "duration": 0.005292,
     "end_time": "2022-11-06T13:54:54.061014",
     "exception": false,
     "start_time": "2022-11-06T13:54:54.055722",
     "status": "completed"
    },
    "tags": []
   },
   "source": [
    "## 3-3 남성, 여성의 등산, 수영에 대한 취미 선호도 빈도표(2x2)를 보고, 남성 중에서 등산을 좋아할 확률을 구하시오\n",
    "\n",
    "![image](https://github.com/Datamanim/datarepo/blob/main/adp/p7/problem3_3.png?raw=true)"
   ]
  },
  {
   "cell_type": "code",
   "execution_count": null,
   "id": "45758f72",
   "metadata": {
    "papermill": {
     "duration": 0.005281,
     "end_time": "2022-11-06T13:54:54.071682",
     "exception": false,
     "start_time": "2022-11-06T13:54:54.066401",
     "status": "completed"
    },
    "tags": []
   },
   "outputs": [],
   "source": []
  },
  {
   "cell_type": "markdown",
   "id": "ab2a8285",
   "metadata": {
    "papermill": {
     "duration": 0.005249,
     "end_time": "2022-11-06T13:54:54.082504",
     "exception": false,
     "start_time": "2022-11-06T13:54:54.077255",
     "status": "completed"
    },
    "tags": []
   },
   "source": [
    "## 3-4 표본 10개의 분산이 90일 때 신뢰도 95%로 모분산의 신뢰구간을 추정"
   ]
  },
  {
   "cell_type": "code",
   "execution_count": null,
   "id": "43f2692a",
   "metadata": {
    "papermill": {
     "duration": 0.00521,
     "end_time": "2022-11-06T13:54:54.093055",
     "exception": false,
     "start_time": "2022-11-06T13:54:54.087845",
     "status": "completed"
    },
    "tags": []
   },
   "outputs": [],
   "source": []
  },
  {
   "cell_type": "markdown",
   "id": "0726b15e",
   "metadata": {
    "papermill": {
     "duration": 0.005238,
     "end_time": "2022-11-06T13:54:54.103852",
     "exception": false,
     "start_time": "2022-11-06T13:54:54.098614",
     "status": "completed"
    },
    "tags": []
   },
   "source": [
    "# 4번 임상 대상 20명에 대해 혈압약 투약 이전과 이후의 차이가 24, 표준편차 9  신뢰구간 95%, 차이가 존재하는지 확인하려한다."
   ]
  },
  {
   "cell_type": "markdown",
   "id": "8556a190",
   "metadata": {
    "papermill": {
     "duration": 0.005224,
     "end_time": "2022-11-06T13:54:54.114643",
     "exception": false,
     "start_time": "2022-11-06T13:54:54.109419",
     "status": "completed"
    },
    "tags": []
   },
   "source": [
    "## 4-1 귀무가설과 연구가설을 제시하시오"
   ]
  },
  {
   "cell_type": "code",
   "execution_count": null,
   "id": "cc7b52d3",
   "metadata": {
    "papermill": {
     "duration": 0.005296,
     "end_time": "2022-11-06T13:54:54.125398",
     "exception": false,
     "start_time": "2022-11-06T13:54:54.120102",
     "status": "completed"
    },
    "tags": []
   },
   "outputs": [],
   "source": []
  },
  {
   "cell_type": "markdown",
   "id": "1627282f",
   "metadata": {
    "papermill": {
     "duration": 0.005234,
     "end_time": "2022-11-06T13:54:54.136008",
     "exception": false,
     "start_time": "2022-11-06T13:54:54.130774",
     "status": "completed"
    },
    "tags": []
   },
   "source": [
    "## 4-2 검정 후 귀무가설 기각 여부 제시"
   ]
  },
  {
   "cell_type": "code",
   "execution_count": null,
   "id": "1319d5fb",
   "metadata": {
    "papermill": {
     "duration": 0.005316,
     "end_time": "2022-11-06T13:54:54.146921",
     "exception": false,
     "start_time": "2022-11-06T13:54:54.141605",
     "status": "completed"
    },
    "tags": []
   },
   "outputs": [],
   "source": []
  },
  {
   "cell_type": "markdown",
   "id": "4827bed6",
   "metadata": {
    "papermill": {
     "duration": 0.005268,
     "end_time": "2022-11-06T13:54:54.157618",
     "exception": false,
     "start_time": "2022-11-06T13:54:54.152350",
     "status": "completed"
    },
    "tags": []
   },
   "source": [
    "# 5번 공장 X,Y,Z의 평균 출하 소요시간을 여러 일자에 거쳐 측정한 데이터이다. 각 공장의 중위수의 차이가 존재하는지 확인하려 한다.\n",
    "- problem5.csv"
   ]
  },
  {
   "cell_type": "markdown",
   "id": "8375e7dc",
   "metadata": {
    "papermill": {
     "duration": 0.005179,
     "end_time": "2022-11-06T13:54:54.168103",
     "exception": false,
     "start_time": "2022-11-06T13:54:54.162924",
     "status": "completed"
    },
    "tags": []
   },
   "source": [
    "## 5-1. 연구가설과 귀무가설을 설정하시오"
   ]
  },
  {
   "cell_type": "code",
   "execution_count": null,
   "id": "acebfdd3",
   "metadata": {
    "papermill": {
     "duration": 0.005169,
     "end_time": "2022-11-06T13:54:54.178690",
     "exception": false,
     "start_time": "2022-11-06T13:54:54.173521",
     "status": "completed"
    },
    "tags": []
   },
   "outputs": [],
   "source": []
  },
  {
   "cell_type": "markdown",
   "id": "8d7890b6",
   "metadata": {
    "papermill": {
     "duration": 0.005277,
     "end_time": "2022-11-06T13:54:54.189326",
     "exception": false,
     "start_time": "2022-11-06T13:54:54.184049",
     "status": "completed"
    },
    "tags": []
   },
   "source": [
    "## 5-2. 검정통계량을 구하고 가설을 채택하시오"
   ]
  },
  {
   "cell_type": "code",
   "execution_count": null,
   "id": "e5c7df3d",
   "metadata": {
    "papermill": {
     "duration": 0.005199,
     "end_time": "2022-11-06T13:54:54.199834",
     "exception": false,
     "start_time": "2022-11-06T13:54:54.194635",
     "status": "completed"
    },
    "tags": []
   },
   "outputs": [],
   "source": []
  },
  {
   "cell_type": "markdown",
   "id": "b298071e",
   "metadata": {
    "papermill": {
     "duration": 0.005227,
     "end_time": "2022-11-06T13:54:54.210485",
     "exception": false,
     "start_time": "2022-11-06T13:54:54.205258",
     "status": "completed"
    },
    "tags": []
   },
   "source": [
    "# 6번 1개년 50억, 2개년 60억, 3개년 70억의 예산을 가지고 NPV(순현재가치)가 가장 높아지는 안을 제시하시오.\n",
    "\n",
    "![image](https://github.com/Datamanim/datarepo/blob/main/adp/p7/problem6.png?raw=true)"
   ]
  },
  {
   "cell_type": "code",
   "execution_count": null,
   "id": "28eb9069",
   "metadata": {
    "papermill": {
     "duration": 0.005329,
     "end_time": "2022-11-06T13:54:54.221121",
     "exception": false,
     "start_time": "2022-11-06T13:54:54.215792",
     "status": "completed"
    },
    "tags": []
   },
   "outputs": [],
   "source": []
  }
 ],
 "metadata": {
  "kernelspec": {
   "display_name": "Python 3",
   "language": "python",
   "name": "python3"
  },
  "language_info": {
   "codemirror_mode": {
    "name": "ipython",
    "version": 3
   },
   "file_extension": ".py",
   "mimetype": "text/x-python",
   "name": "python",
   "nbconvert_exporter": "python",
   "pygments_lexer": "ipython3",
   "version": "3.7.12"
  },
  "papermill": {
   "default_parameters": {},
   "duration": 7.912248,
   "end_time": "2022-11-06T13:54:54.746502",
   "environment_variables": {},
   "exception": null,
   "input_path": "__notebook__.ipynb",
   "output_path": "__notebook__.ipynb",
   "parameters": {},
   "start_time": "2022-11-06T13:54:46.834254",
   "version": "2.3.4"
  }
 },
 "nbformat": 4,
 "nbformat_minor": 5
}
