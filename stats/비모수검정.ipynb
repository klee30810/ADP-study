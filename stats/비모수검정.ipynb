{
 "cells": [
  {
   "cell_type": "markdown",
   "id": "74065b3f",
   "metadata": {},
   "source": [
    "https://recipesds.tistory.com/entry/%EC%96%B4%EB%94%94%EC%97%90-%EC%96%B4%EB%96%A4-%EB%AA%A8%EC%88%98-%EA%B2%80%EC%A0%95%EA%B3%BC-%EB%B9%84%EB%AA%A8%EC%88%98-%EA%B2%80%EC%A0%95%EC%9D%84-%EC%93%B8-%EC%88%98-%EC%9E%88%EB%8A%94%EC%A7%80-%EB%8C%80%ED%83%90%ED%97%98-%EA%B7%B8%EB%A6%AC%EA%B3%A0-%ED%8C%8C%EC%9D%B4%EC%8D%AC"
   ]
  },
  {
   "cell_type": "code",
   "execution_count": 3,
   "id": "05bb7766",
   "metadata": {},
   "outputs": [],
   "source": [
    "import scipy.stats as stats\n",
    "import statsmodels\n",
    "import pingouin as pg"
   ]
  },
  {
   "cell_type": "markdown",
   "id": "11e128b2",
   "metadata": {},
   "source": [
    "1) 서로 다른 두 집단의 평균 비교 : (모수) Independent samples t-test, (비모수) ManWhitney test\n",
    "\n",
    "- H0 : 두 집단의 평균의 차이가 없다\n",
    "- H1 : 두 집단의 평균의 차이가 있다"
   ]
  },
  {
   "cell_type": "code",
   "execution_count": null,
   "id": "ff5766cd",
   "metadata": {},
   "outputs": [],
   "source": [
    "stats.ttest_ind(group1, group2, equal_var=True)\n",
    "# equal_var=False : Welch's t test\n",
    "stats.mannwhitneyu(group1, group2)"
   ]
  },
  {
   "cell_type": "markdown",
   "id": "7c439142",
   "metadata": {},
   "source": [
    "2) 서로 다른 두 집단의 비율 비교 : t(z) test\n",
    "\n",
    "- H0 : 두 집단의 비율의 차이가 없다\n",
    "- H1 : 두 집단의 비율의 차이가 있다"
   ]
  },
  {
   "cell_type": "code",
   "execution_count": null,
   "id": "4e8681f6",
   "metadata": {},
   "outputs": [],
   "source": [
    "from statsmodels.stats.proportion import proportions_ztest\n",
    " \n",
    "count = np.array([count_b, count_a])\n",
    "nobs = np.array([n_b, n_a])\n",
    "stat, pval = proportions_ztest(count, nobs, alternative=\"larger\")"
   ]
  },
  {
   "cell_type": "markdown",
   "id": "cdb434f1",
   "metadata": {},
   "source": [
    "3) 대응표본의 차이 유무 : (모수)Paired t test, (비모수) Wilcoxon 순위 검정\n",
    "\n",
    "- H0 : 대응표본의 차이가 없다\n",
    "- H1 : 대응표본의 차이가 있다"
   ]
  },
  {
   "cell_type": "code",
   "execution_count": null,
   "id": "4d42422e",
   "metadata": {},
   "outputs": [],
   "source": [
    "stats.ttest_rel(group1, group2)\n",
    "stats.wilcoxon(group1, group2)"
   ]
  },
  {
   "cell_type": "markdown",
   "id": "e63df5ba",
   "metadata": {},
   "source": [
    "4) 3 집단 이상의 평균 차이 확인 : (모수) ANOVA F-test, Welch's ANOVA[이분산] (비모수) Kruskal-Wallis\n",
    "\n",
    "- H0 : 모든 집단의 평균 차이가 없다\n",
    "- H1 : 적어도 한 개 집단의 평균은 차이가 난다"
   ]
  },
  {
   "cell_type": "code",
   "execution_count": null,
   "id": "d65b5402",
   "metadata": {},
   "outputs": [],
   "source": [
    "stats.f_oneway(group1, group2, group3)\n",
    "pg.welch_anova(dv='score', between='group', data=df)\n",
    "stats.kruskal(group1, group2, group3)"
   ]
  },
  {
   "cell_type": "markdown",
   "id": "c5a8ff10",
   "metadata": {},
   "source": [
    "5) 3개 이상 집단에서 변화의 차이 확인 : (모수)RMANOVA F-test, (비모수) Friedman\n",
    "\n",
    "- H0 : 각 id에 대해서 짝을 지은 3개 이상의 그룹에 대한 dependent variable의 평균은 모두 차이가 없다\n",
    "- H1 : 각 id에 대해서 짝을 지은 3개 이상의 그룹에 대한 dependent variable의 평균은 최소 1 그룹은 차이가 난다"
   ]
  },
  {
   "cell_type": "code",
   "execution_count": null,
   "id": "d6cbbadc",
   "metadata": {},
   "outputs": [],
   "source": [
    "from statsmodels.stats.anova import AnovaRM\n",
    "\n",
    "AnovaRM(data=df, depvar='dep_var', subject='unique_id', within=['groups']).fit()\n",
    "stats.friedmanchisquare(group1, gruop2, group3)"
   ]
  },
  {
   "cell_type": "markdown",
   "id": "76d56da5",
   "metadata": {},
   "source": [
    "6) 독립성, 동질성 확인 : chi2 test, (기대도수 5%이하 셀이 전체 20% 이상) Fisher Exact test\n",
    "\n",
    "- 독립성 검정\n",
    "    - H0 : 범주들 끼리는 서로 관련이 없다(독립적, 범주에 따라 차이가 없다)\n",
    "    - H1 : 범주들 끼리는 서로 관련이 있다(범주에 따라 차이가 있다)\n",
    "- 동질성 검정    \n",
    "    - H0 : 범주들 끼리는 서로 분포가 동일\n",
    "    - H1 : 범주들 끼리는 서로 분포가 동일하지 않음\n"
   ]
  },
  {
   "cell_type": "code",
   "execution_count": null,
   "id": "ebb89a7a",
   "metadata": {},
   "outputs": [],
   "source": [
    "chi2, pval, dof, expect = stats.chi2_contingency([group1, group2])\n",
    "\n",
    "data = [[8,4], [4,9]]\n",
    "stats.fisher_exact(data)"
   ]
  },
  {
   "cell_type": "markdown",
   "id": "7e645657",
   "metadata": {},
   "source": [
    "7) 정규성 : Shapiro-Wilk\n",
    "\n",
    "- H0 : 표본 유추 집단은 정규분포다\n",
    "- H1 : 표본 유추 집단은 정규분포가 아니다"
   ]
  },
  {
   "cell_type": "code",
   "execution_count": null,
   "id": "618fac31",
   "metadata": {},
   "outputs": [],
   "source": [
    "stat, pval = stats.shapiro(data)"
   ]
  },
  {
   "cell_type": "markdown",
   "id": "ca0f4e2e",
   "metadata": {},
   "source": [
    "8) 등분산성 : (정규성) Bartlett, (비정규성), Levene\n",
    "\n",
    "- H0 : 표본으로 유추한 각 집단의 모집단 분산은 동질\n",
    "- H1 : 표본으로 유추한 각 집단의 모집단 분산은 동질하지 않다"
   ]
  },
  {
   "cell_type": "code",
   "execution_count": null,
   "id": "e1b548f9",
   "metadata": {},
   "outputs": [],
   "source": [
    "stats.bartlett(group1, gruop2, group3)\n",
    "stats.levent(group1, gruop2, group3)"
   ]
  },
  {
   "cell_type": "markdown",
   "id": "d8efa7c5",
   "metadata": {},
   "source": [
    "9) 맥니마 검정 : paired 범주형 두 데이터의 분포의 동일한지 검정, 독립성이 만족하지 않을 떄 사용\n",
    "- ex) 시식 전,후 / 프로모션 전, 후\n",
    "- 독립성 불만족 (만족 시 chi2 test)\n",
    "- 연속형 자료 paired t-test / 범주형 자료 mcnemar"
   ]
  },
  {
   "cell_type": "code",
   "execution_count": null,
   "id": "854a913c",
   "metadata": {},
   "outputs": [],
   "source": [
    "table = pd.DataFrame([[9,12], [24,35]], index=[\"전_있음\", \"전_없음\"] , columns=[\"후_있음\", \"후_없음\"])\n",
    "\n",
    "# 라이브러리 검정\n",
    "from statsmodels.stats.contingency_tables import mcnemar\n",
    "\n",
    "# correction=False는 연속성 보정 허용 X\n",
    "# exact가 True -> 이항분포, False -> 카이제곱분포 사용\n",
    "\n",
    "mc = mcnemar(table.values, exact=False, correction=False)"
   ]
  },
  {
   "cell_type": "code",
   "execution_count": null,
   "id": "3955e97f",
   "metadata": {},
   "outputs": [],
   "source": []
  },
  {
   "cell_type": "code",
   "execution_count": null,
   "id": "5c756c46",
   "metadata": {},
   "outputs": [],
   "source": []
  },
  {
   "cell_type": "code",
   "execution_count": null,
   "id": "c38beb93",
   "metadata": {},
   "outputs": [],
   "source": []
  },
  {
   "cell_type": "code",
   "execution_count": null,
   "id": "4e4e1ab3",
   "metadata": {},
   "outputs": [],
   "source": []
  }
 ],
 "metadata": {
  "kernelspec": {
   "display_name": "adp",
   "language": "python",
   "name": "adp_class"
  },
  "language_info": {
   "codemirror_mode": {
    "name": "ipython",
    "version": 3
   },
   "file_extension": ".py",
   "mimetype": "text/x-python",
   "name": "python",
   "nbconvert_exporter": "python",
   "pygments_lexer": "ipython3",
   "version": "3.10.16"
  }
 },
 "nbformat": 4,
 "nbformat_minor": 5
}
