{
 "cells": [
  {
   "cell_type": "markdown",
   "id": "dda688a9",
   "metadata": {},
   "source": [
    "https://recipesds.tistory.com/entry/%EC%96%B4%EB%94%94%EC%97%90-%EC%96%B4%EB%96%A4-%EB%AA%A8%EC%88%98-%EA%B2%80%EC%A0%95%EA%B3%BC-%EB%B9%84%EB%AA%A8%EC%88%98-%EA%B2%80%EC%A0%95%EC%9D%84-%EC%93%B8-%EC%88%98-%EC%9E%88%EB%8A%94%EC%A7%80-%EB%8C%80%ED%83%90%ED%97%98-%EA%B7%B8%EB%A6%AC%EA%B3%A0-%ED%8C%8C%EC%9D%B4%EC%8D%AC"
   ]
  },
  {
   "cell_type": "code",
   "execution_count": 3,
   "id": "6d5868cf",
   "metadata": {},
   "outputs": [],
   "source": [
    "import scipy.stats as stats\n",
    "import statsmodels\n",
    "import pingouin as pg"
   ]
  },
  {
   "cell_type": "markdown",
   "id": "d4f8d5c8",
   "metadata": {},
   "source": [
    "1) 서로 다른 두 집단의 평균 비교 : (모수) Independent samples t-test, (비모수) ManWhitney test\n",
    "\n",
    "- H0 : 두 집단의 평균의 차이가 없다\n",
    "- H1 : 두 집단의 평균의 차이가 있다"
   ]
  },
  {
   "cell_type": "code",
   "execution_count": null,
   "id": "14062cc3",
   "metadata": {},
   "outputs": [],
   "source": [
    "stats.ttest_ind(group1, group2, equal_var=True)\n",
    "# equal_var=False : Welch's t test\n",
    "stats.mannwhitneyu(group1, group2)"
   ]
  },
  {
   "cell_type": "markdown",
   "id": "c7300cbe",
   "metadata": {},
   "source": [
    "2) 서로 다른 두 집단의 비율 비교 : t(z) test\n",
    "\n",
    "- H0 : 두 집단의 비율의 차이가 없다\n",
    "- H1 : 두 집단의 비율의 차이가 있다"
   ]
  },
  {
   "cell_type": "code",
   "execution_count": null,
   "id": "c2e45c53",
   "metadata": {},
   "outputs": [],
   "source": [
    "from statsmodels.stats.proportion import proportions_ztest\n",
    " \n",
    "count = np.array([count_b, count_a])\n",
    "nobs = np.array([n_b, n_a])\n",
    "stat, pval = proportions_ztest(count, nobs, alternative=\"larger\")"
   ]
  },
  {
   "cell_type": "markdown",
   "id": "fe52e30d",
   "metadata": {},
   "source": [
    "3) 대응표본의 차이 유무 : (모수)Paired t test, (비모수) Wilcoxon 순위 검정\n",
    "\n",
    "- H0 : 대응표본의 차이가 없다\n",
    "- H1 : 대응표본의 차이가 있다"
   ]
  },
  {
   "cell_type": "code",
   "execution_count": null,
   "id": "7dd37752",
   "metadata": {},
   "outputs": [],
   "source": [
    "stats.ttest_rel(group1, group2)\n",
    "stats.wilcoxon(group1, group2)"
   ]
  },
  {
   "cell_type": "markdown",
   "id": "fb60bc35",
   "metadata": {},
   "source": [
    "4) 3 집단 이상의 평균 차이 확인 : (모수) ANOVA F-test, Welch's ANOVA[이분산] (비모수) Kruskal-Wallis\n",
    "\n",
    "- H0 : 모든 집단의 평균 차이가 없다\n",
    "- H1 : 적어도 한 개 집단의 평균은 차이가 난다"
   ]
  },
  {
   "cell_type": "code",
   "execution_count": null,
   "id": "3a438674",
   "metadata": {},
   "outputs": [],
   "source": [
    "stats.f_oneway(group1, group2, group3)\n",
    "pg.welch_anova(dv='score', between='group', data=df)\n",
    "stats.kruskal(group1, group2, group3)"
   ]
  },
  {
   "cell_type": "markdown",
   "id": "206be79b",
   "metadata": {},
   "source": [
    "5) 3개 이상 집단에서 변화의 차이 확인 : (모수)RMANOVA F-test, (비모수) Friedman\n",
    "\n",
    "- H0 : 각 id에 대해서 짝을 지은 3개 이상의 그룹에 대한 dependent variable의 평균은 모두 차이가 없다\n",
    "- H1 : 각 id에 대해서 짝을 지은 3개 이상의 그룹에 대한 dependent variable의 평균은 최소 1 그룹은 차이가 난다"
   ]
  },
  {
   "cell_type": "code",
   "execution_count": null,
   "id": "72d7a5cc",
   "metadata": {},
   "outputs": [],
   "source": [
    "from statsmodels.stats.anova import AnovaRM\n",
    "\n",
    "AnovaRM(data=df, depvar='dep_var', subject='unique_id', within=['groups']).fit()\n",
    "stats.friedmanchisquare(group1, gruop2, group3)"
   ]
  },
  {
   "cell_type": "markdown",
   "id": "9ca8e85f",
   "metadata": {},
   "source": [
    "6) 독립성, 동질성 확인 : chi2 test, (기대도수 5%이하 셀이 전체 20% 이상) Fisher Exact test\n",
    "\n",
    "- 독립성 검정\n",
    "    - H0 : 범주들 끼리는 서로 관련이 없다(독립적, 범주에 따라 차이가 없다)\n",
    "    - H1 : 범주들 끼리는 서로 관련이 있다(범주에 따라 차이가 있다)\n",
    "- 동질성 검정    \n",
    "    - H0 : 범주들 끼리는 서로 분포가 동일\n",
    "    - H1 : 범주들 끼리는 서로 분포가 동일하지 않음\n"
   ]
  },
  {
   "cell_type": "code",
   "execution_count": null,
   "id": "be769442",
   "metadata": {},
   "outputs": [],
   "source": [
    "chi2, pval, dof, expect = stats.chi2_contingency([group1, group2])\n",
    "\n",
    "data = [[8,4], [4,9]]\n",
    "stats.fisher_exact(data)"
   ]
  },
  {
   "cell_type": "markdown",
   "id": "7f7a845d",
   "metadata": {},
   "source": [
    "7) 정규성 : Shapiro-Wilk\n",
    "\n",
    "- H0 : 표본 유추 집단은 정규분포다\n",
    "- H1 : 표본 유추 집단은 정규분포가 아니다"
   ]
  },
  {
   "cell_type": "code",
   "execution_count": null,
   "id": "fa3a4c37",
   "metadata": {},
   "outputs": [],
   "source": [
    "stat, pval = stats.shapiro(data)"
   ]
  },
  {
   "cell_type": "markdown",
   "id": "6c66bae1",
   "metadata": {},
   "source": [
    "8) 등분산성 : (정규성) Bartlett, (비정규성), Levene\n",
    "\n",
    "- H0 : 표본으로 유추한 각 집단의 모집단 분산은 동질\n",
    "- H1 : 표본으로 유추한 각 집단의 모집단 분산은 동질하지 않다"
   ]
  },
  {
   "cell_type": "code",
   "execution_count": null,
   "id": "8c0f07b6",
   "metadata": {},
   "outputs": [],
   "source": [
    "stats.bartlett(group1, gruop2, group3)\n",
    "stats.levent(group1, gruop2, group3)"
   ]
  },
  {
   "cell_type": "code",
   "execution_count": null,
   "id": "5ce59c43",
   "metadata": {},
   "outputs": [],
   "source": []
  },
  {
   "cell_type": "code",
   "execution_count": null,
   "id": "dab9fbd8",
   "metadata": {},
   "outputs": [],
   "source": []
  },
  {
   "cell_type": "code",
   "execution_count": null,
   "id": "3ecc53d1",
   "metadata": {},
   "outputs": [],
   "source": []
  },
  {
   "cell_type": "code",
   "execution_count": null,
   "id": "0d07ddde",
   "metadata": {},
   "outputs": [],
   "source": []
  },
  {
   "cell_type": "code",
   "execution_count": null,
   "id": "d42757aa",
   "metadata": {},
   "outputs": [],
   "source": []
  },
  {
   "cell_type": "code",
   "execution_count": null,
   "id": "49344f76",
   "metadata": {},
   "outputs": [],
   "source": []
  }
 ],
 "metadata": {
  "kernelspec": {
   "display_name": "adp",
   "language": "python",
   "name": "adp_class"
  },
  "language_info": {
   "codemirror_mode": {
    "name": "ipython",
    "version": 3
   },
   "file_extension": ".py",
   "mimetype": "text/x-python",
   "name": "python",
   "nbconvert_exporter": "python",
   "pygments_lexer": "ipython3",
   "version": "3.10.16"
  }
 },
 "nbformat": 4,
 "nbformat_minor": 5
}
