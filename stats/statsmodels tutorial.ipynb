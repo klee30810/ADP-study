{
 "cells": [
  {
   "cell_type": "code",
   "execution_count": 2,
   "id": "d0bebab0",
   "metadata": {},
   "outputs": [],
   "source": [
    "import numpy as np\n",
    "import pandas as pd\n",
    "import matplotlib.pyplot as plt\n",
    "import seaborn as sns\n",
    "\n",
    "from scipy import stats\n",
    "import statsmodels"
   ]
  },
  {
   "cell_type": "markdown",
   "id": "2ea91499",
   "metadata": {},
   "source": [
    "# statsmodels\n",
    "\n",
    "01 사후분석\n",
    "- stats\n",
    "    - multicomp\n",
    "        - MultiComparison\n",
    "            - allpairtest\n",
    "    - pairwise_tukeyhsd\n",
    "\n",
    "02 시계열분석\n",
    "- graphics.tsaplots\n",
    "    - plot_acf\n",
    "    - plot_pacf\n",
    "- tsa\n",
    "    - arima_model\n",
    "        - ARIMA\n",
    "    - statesplace.sarimax\n",
    "        - SARIMAX\n",
    "\n",
    "03 ANOVA (scipy모듈과 함께써야 모두 커버가능, 이분산 anova의 경우 pingouin모듈의 welch_anova를 사용)\n",
    "- 다원분산분석 or 이원분산분석\n",
    "- 일원분산분석\n",
    "    - stats.anova\n",
    "        - anova_lm\n",
    "\n",
    "04 회귀분석    \n",
    "- formula.api\n",
    "    - ols"
   ]
  },
  {
   "cell_type": "markdown",
   "id": "07825939",
   "metadata": {},
   "source": [
    "### 세 집단 이상 검정 (independent)\n",
    "정규성(shapiro), 등분산(levene) 검정 결과에 따라 시행하는 검정이 다름\n",
    "- 정규성 만족, 등분산 만족 : one-way anova\n",
    "- 정규성 만족, 등분산 불만족 : welch's anova\n",
    "- 정규성 불만족 : kruskal-wallis H test"
   ]
  },
  {
   "cell_type": "code",
   "execution_count": 3,
   "id": "db8f3c95",
   "metadata": {},
   "outputs": [
    {
     "data": {
      "text/html": [
       "<div>\n",
       "<style scoped>\n",
       "    .dataframe tbody tr th:only-of-type {\n",
       "        vertical-align: middle;\n",
       "    }\n",
       "\n",
       "    .dataframe tbody tr th {\n",
       "        vertical-align: top;\n",
       "    }\n",
       "\n",
       "    .dataframe thead th {\n",
       "        text-align: right;\n",
       "    }\n",
       "</style>\n",
       "<table border=\"1\" class=\"dataframe\">\n",
       "  <thead>\n",
       "    <tr style=\"text-align: right;\">\n",
       "      <th></th>\n",
       "      <th>x1</th>\n",
       "      <th>x2</th>\n",
       "      <th>x3</th>\n",
       "    </tr>\n",
       "  </thead>\n",
       "  <tbody>\n",
       "    <tr>\n",
       "      <th>0</th>\n",
       "      <td>211.363083</td>\n",
       "      <td>390.834112</td>\n",
       "      <td>304.256435</td>\n",
       "    </tr>\n",
       "    <tr>\n",
       "      <th>1</th>\n",
       "      <td>117.428643</td>\n",
       "      <td>412.045140</td>\n",
       "      <td>421.324048</td>\n",
       "    </tr>\n",
       "    <tr>\n",
       "      <th>2</th>\n",
       "      <td>231.636723</td>\n",
       "      <td>358.911848</td>\n",
       "      <td>375.089471</td>\n",
       "    </tr>\n",
       "    <tr>\n",
       "      <th>3</th>\n",
       "      <td>244.284666</td>\n",
       "      <td>196.344885</td>\n",
       "      <td>266.095665</td>\n",
       "    </tr>\n",
       "    <tr>\n",
       "      <th>4</th>\n",
       "      <td>242.221433</td>\n",
       "      <td>240.837145</td>\n",
       "      <td>225.647526</td>\n",
       "    </tr>\n",
       "  </tbody>\n",
       "</table>\n",
       "</div>"
      ],
      "text/plain": [
       "           x1          x2          x3\n",
       "0  211.363083  390.834112  304.256435\n",
       "1  117.428643  412.045140  421.324048\n",
       "2  231.636723  358.911848  375.089471\n",
       "3  244.284666  196.344885  266.095665\n",
       "4  242.221433  240.837145  225.647526"
      ]
     },
     "execution_count": 3,
     "metadata": {},
     "output_type": "execute_result"
    }
   ],
   "source": [
    "df = pd.read_csv('https://raw.githubusercontent.com/Datamanim/datarepo/main/scipy/anova.csv')\n",
    "df.head()"
   ]
  },
  {
   "cell_type": "code",
   "execution_count": 5,
   "id": "50dc55c3",
   "metadata": {},
   "outputs": [
    {
     "name": "stdout",
     "output_type": "stream",
     "text": [
      "ShapiroResult(statistic=0.9979788064956665, pvalue=0.27388232946395874)\n",
      "ShapiroResult(statistic=0.9979414939880371, pvalue=0.25899720191955566)\n",
      "ShapiroResult(statistic=0.9987626671791077, pvalue=0.7304413914680481)\n"
     ]
    }
   ],
   "source": [
    "x1 = df['x1']; x2 = df['x2']; x3 = df['x3']\n",
    "\n",
    "print(stats.shapiro(x1))\n",
    "print(stats.shapiro(x2))\n",
    "print(stats.shapiro(x3))\n",
    "# 셋 다 정규성 만족"
   ]
  },
  {
   "cell_type": "code",
   "execution_count": 7,
   "id": "0e69cf51",
   "metadata": {},
   "outputs": [
    {
     "data": {
      "text/plain": [
       "LeveneResult(statistic=2.71270174202054, pvalue=0.06652021922816238)"
      ]
     },
     "execution_count": 7,
     "metadata": {},
     "output_type": "execute_result"
    }
   ],
   "source": [
    "stats.levene(x1, x2, x3)\n",
    "# 등분산 만족"
   ]
  },
  {
   "cell_type": "code",
   "execution_count": 13,
   "id": "482b7aa6",
   "metadata": {},
   "outputs": [
    {
     "data": {
      "text/html": [
       "<div>\n",
       "<style scoped>\n",
       "    .dataframe tbody tr th:only-of-type {\n",
       "        vertical-align: middle;\n",
       "    }\n",
       "\n",
       "    .dataframe tbody tr th {\n",
       "        vertical-align: top;\n",
       "    }\n",
       "\n",
       "    .dataframe thead th {\n",
       "        text-align: right;\n",
       "    }\n",
       "</style>\n",
       "<table border=\"1\" class=\"dataframe\">\n",
       "  <thead>\n",
       "    <tr style=\"text-align: right;\">\n",
       "      <th></th>\n",
       "      <th>df</th>\n",
       "      <th>sum_sq</th>\n",
       "      <th>mean_sq</th>\n",
       "      <th>F</th>\n",
       "      <th>PR(&gt;F)</th>\n",
       "    </tr>\n",
       "  </thead>\n",
       "  <tbody>\n",
       "    <tr>\n",
       "      <th>C(variable)</th>\n",
       "      <td>2.0</td>\n",
       "      <td>3.774347e+06</td>\n",
       "      <td>1.887173e+06</td>\n",
       "      <td>209.884999</td>\n",
       "      <td>4.919153e-86</td>\n",
       "    </tr>\n",
       "    <tr>\n",
       "      <th>Residual</th>\n",
       "      <td>2997.0</td>\n",
       "      <td>2.694742e+07</td>\n",
       "      <td>8.991464e+03</td>\n",
       "      <td>NaN</td>\n",
       "      <td>NaN</td>\n",
       "    </tr>\n",
       "  </tbody>\n",
       "</table>\n",
       "</div>"
      ],
      "text/plain": [
       "                 df        sum_sq       mean_sq           F        PR(>F)\n",
       "C(variable)     2.0  3.774347e+06  1.887173e+06  209.884999  4.919153e-86\n",
       "Residual     2997.0  2.694742e+07  8.991464e+03         NaN           NaN"
      ]
     },
     "execution_count": 13,
     "metadata": {},
     "output_type": "execute_result"
    }
   ],
   "source": [
    "# from statsmodels.formula.api import ols\n",
    "from statsmodels.formula.api import ols\n",
    "from statsmodels.stats.anova import anova_lm\n",
    "\n",
    "dfm = df.melt()\n",
    "model = ols('value ~ C(variable)', dfm).fit()\n",
    "anova_lm(model)\n",
    "\n",
    "# 적어도 하나의 평균은 다르다"
   ]
  },
  {
   "cell_type": "code",
   "execution_count": 14,
   "id": "77f0c750",
   "metadata": {},
   "outputs": [
    {
     "data": {
      "text/plain": [
       "F_onewayResult(statistic=209.88499932318638, pvalue=4.919152988455592e-86)"
      ]
     },
     "execution_count": 14,
     "metadata": {},
     "output_type": "execute_result"
    }
   ],
   "source": [
    "stats.f_oneway(x1, x2, x3)\n",
    "\n",
    "# 적어도 하나의 평균은 다르다"
   ]
  },
  {
   "cell_type": "code",
   "execution_count": 15,
   "id": "1af27c1d",
   "metadata": {},
   "outputs": [
    {
     "data": {
      "text/html": [
       "<div>\n",
       "<style scoped>\n",
       "    .dataframe tbody tr th:only-of-type {\n",
       "        vertical-align: middle;\n",
       "    }\n",
       "\n",
       "    .dataframe tbody tr th {\n",
       "        vertical-align: top;\n",
       "    }\n",
       "\n",
       "    .dataframe thead th {\n",
       "        text-align: right;\n",
       "    }\n",
       "</style>\n",
       "<table border=\"1\" class=\"dataframe\">\n",
       "  <thead>\n",
       "    <tr style=\"text-align: right;\">\n",
       "      <th></th>\n",
       "      <th>x1</th>\n",
       "      <th>x2</th>\n",
       "      <th>x3</th>\n",
       "    </tr>\n",
       "  </thead>\n",
       "  <tbody>\n",
       "    <tr>\n",
       "      <th>0</th>\n",
       "      <td>271.492970</td>\n",
       "      <td>207.178968</td>\n",
       "      <td>246.551192</td>\n",
       "    </tr>\n",
       "    <tr>\n",
       "      <th>1</th>\n",
       "      <td>190.387794</td>\n",
       "      <td>243.734862</td>\n",
       "      <td>260.304399</td>\n",
       "    </tr>\n",
       "    <tr>\n",
       "      <th>2</th>\n",
       "      <td>259.255029</td>\n",
       "      <td>262.782198</td>\n",
       "      <td>306.919615</td>\n",
       "    </tr>\n",
       "    <tr>\n",
       "      <th>3</th>\n",
       "      <td>211.415004</td>\n",
       "      <td>217.065336</td>\n",
       "      <td>275.642095</td>\n",
       "    </tr>\n",
       "    <tr>\n",
       "      <th>4</th>\n",
       "      <td>242.178040</td>\n",
       "      <td>294.741132</td>\n",
       "      <td>284.794069</td>\n",
       "    </tr>\n",
       "  </tbody>\n",
       "</table>\n",
       "</div>"
      ],
      "text/plain": [
       "           x1          x2          x3\n",
       "0  271.492970  207.178968  246.551192\n",
       "1  190.387794  243.734862  260.304399\n",
       "2  259.255029  262.782198  306.919615\n",
       "3  211.415004  217.065336  275.642095\n",
       "4  242.178040  294.741132  284.794069"
      ]
     },
     "execution_count": 15,
     "metadata": {},
     "output_type": "execute_result"
    }
   ],
   "source": [
    "df = pd.read_csv('https://raw.githubusercontent.com/Datamanim/datarepo/main/scipy/anova2.csv')\n",
    "df.head()"
   ]
  },
  {
   "cell_type": "code",
   "execution_count": 16,
   "id": "bc4658f4",
   "metadata": {},
   "outputs": [
    {
     "name": "stdout",
     "output_type": "stream",
     "text": [
      "ShapiroResult(statistic=0.9886646866798401, pvalue=0.5584300756454468)\n",
      "ShapiroResult(statistic=0.992436408996582, pvalue=0.8518696427345276)\n",
      "ShapiroResult(statistic=0.9848726987838745, pvalue=0.31093811988830566)\n"
     ]
    }
   ],
   "source": [
    "x1 = df['x1']; x2 = df['x2']; x3 = df['x3']\n",
    "\n",
    "print(stats.shapiro(x1))\n",
    "print(stats.shapiro(x2))\n",
    "print(stats.shapiro(x3))\n",
    "# 셋 다 정규성 만족"
   ]
  },
  {
   "cell_type": "code",
   "execution_count": 18,
   "id": "f4649b91",
   "metadata": {},
   "outputs": [
    {
     "data": {
      "text/plain": [
       "LeveneResult(statistic=1.845797549925243, pvalue=0.15970603203148068)"
      ]
     },
     "execution_count": 18,
     "metadata": {},
     "output_type": "execute_result"
    }
   ],
   "source": [
    "stats.levene(x1, x2, x3)\n",
    "# 등분산 만족"
   ]
  },
  {
   "cell_type": "code",
   "execution_count": 19,
   "id": "504d42c1",
   "metadata": {},
   "outputs": [
    {
     "data": {
      "text/plain": [
       "F_onewayResult(statistic=2.386152612702158, pvalue=0.09374426938585284)"
      ]
     },
     "execution_count": 19,
     "metadata": {},
     "output_type": "execute_result"
    }
   ],
   "source": [
    "stats.f_oneway(x1, x2,  x3)\n",
    "# 평균은 동일하다고 볼 수 있다."
   ]
  },
  {
   "cell_type": "code",
   "execution_count": 21,
   "id": "4bd6e6fc",
   "metadata": {},
   "outputs": [
    {
     "data": {
      "text/html": [
       "<div>\n",
       "<style scoped>\n",
       "    .dataframe tbody tr th:only-of-type {\n",
       "        vertical-align: middle;\n",
       "    }\n",
       "\n",
       "    .dataframe tbody tr th {\n",
       "        vertical-align: top;\n",
       "    }\n",
       "\n",
       "    .dataframe thead th {\n",
       "        text-align: right;\n",
       "    }\n",
       "</style>\n",
       "<table border=\"1\" class=\"dataframe\">\n",
       "  <thead>\n",
       "    <tr style=\"text-align: right;\">\n",
       "      <th></th>\n",
       "      <th>value</th>\n",
       "      <th>target</th>\n",
       "    </tr>\n",
       "  </thead>\n",
       "  <tbody>\n",
       "    <tr>\n",
       "      <th>0</th>\n",
       "      <td>223.208318</td>\n",
       "      <td>a</td>\n",
       "    </tr>\n",
       "    <tr>\n",
       "      <th>1</th>\n",
       "      <td>321.065660</td>\n",
       "      <td>a</td>\n",
       "    </tr>\n",
       "    <tr>\n",
       "      <th>2</th>\n",
       "      <td>281.544249</td>\n",
       "      <td>a</td>\n",
       "    </tr>\n",
       "    <tr>\n",
       "      <th>3</th>\n",
       "      <td>255.508098</td>\n",
       "      <td>a</td>\n",
       "    </tr>\n",
       "    <tr>\n",
       "      <th>4</th>\n",
       "      <td>261.764930</td>\n",
       "      <td>a</td>\n",
       "    </tr>\n",
       "  </tbody>\n",
       "</table>\n",
       "</div>"
      ],
      "text/plain": [
       "        value target\n",
       "0  223.208318      a\n",
       "1  321.065660      a\n",
       "2  281.544249      a\n",
       "3  255.508098      a\n",
       "4  261.764930      a"
      ]
     },
     "execution_count": 21,
     "metadata": {},
     "output_type": "execute_result"
    }
   ],
   "source": [
    "df = pd.read_csv('https://raw.githubusercontent.com/Datamanim/datarepo/main/scipy/anova8.csv')\n",
    "df.head()"
   ]
  },
  {
   "cell_type": "code",
   "execution_count": 23,
   "id": "0f241d7c",
   "metadata": {},
   "outputs": [
    {
     "name": "stdout",
     "output_type": "stream",
     "text": [
      "ShapiroResult(statistic=0.9666388034820557, pvalue=0.01229821890592575)\n",
      "ShapiroResult(statistic=0.9713969230651855, pvalue=0.1093384176492691)\n",
      "ShapiroResult(statistic=0.9651245474815369, pvalue=0.4156579077243805)\n"
     ]
    }
   ],
   "source": [
    "a = df.loc[df['target']=='a']['value']\n",
    "b = df.loc[df['target']=='b']['value']\n",
    "c = df.loc[df['target']=='c']['value']\n",
    "\n",
    "print(stats.shapiro(a))\n",
    "print(stats.shapiro(b))\n",
    "print(stats.shapiro(c))\n",
    "# a가 정규성 불만족"
   ]
  },
  {
   "cell_type": "code",
   "execution_count": 24,
   "id": "8ac717e5",
   "metadata": {},
   "outputs": [
    {
     "data": {
      "text/plain": [
       "LeveneResult(statistic=1.4817966330841852, pvalue=0.2297504921313145)"
      ]
     },
     "execution_count": 24,
     "metadata": {},
     "output_type": "execute_result"
    }
   ],
   "source": [
    "stats.levene(a,b,c)\n",
    "# 등분산 만족"
   ]
  },
  {
   "cell_type": "code",
   "execution_count": 26,
   "id": "06a17574",
   "metadata": {},
   "outputs": [
    {
     "name": "stdout",
     "output_type": "stream",
     "text": [
      "F_onewayResult(statistic=2.7145676300093733, pvalue=0.06871171968864054)\n",
      "KruskalResult(statistic=6.9277037668798584, pvalue=0.03130893110123)\n"
     ]
    }
   ],
   "source": [
    "print(stats.f_oneway(a,b,c))\n",
    "print(stats.kruskal(a,b,c))\n",
    "# 두 검정 결과에 차이 존재"
   ]
  },
  {
   "cell_type": "code",
   "execution_count": 27,
   "id": "4697c3f2",
   "metadata": {},
   "outputs": [
    {
     "data": {
      "text/html": [
       "<div>\n",
       "<style scoped>\n",
       "    .dataframe tbody tr th:only-of-type {\n",
       "        vertical-align: middle;\n",
       "    }\n",
       "\n",
       "    .dataframe tbody tr th {\n",
       "        vertical-align: top;\n",
       "    }\n",
       "\n",
       "    .dataframe thead th {\n",
       "        text-align: right;\n",
       "    }\n",
       "</style>\n",
       "<table border=\"1\" class=\"dataframe\">\n",
       "  <thead>\n",
       "    <tr style=\"text-align: right;\">\n",
       "      <th></th>\n",
       "      <th>value</th>\n",
       "      <th>target</th>\n",
       "    </tr>\n",
       "  </thead>\n",
       "  <tbody>\n",
       "    <tr>\n",
       "      <th>0</th>\n",
       "      <td>240.187831</td>\n",
       "      <td>a</td>\n",
       "    </tr>\n",
       "    <tr>\n",
       "      <th>1</th>\n",
       "      <td>186.091464</td>\n",
       "      <td>a</td>\n",
       "    </tr>\n",
       "    <tr>\n",
       "      <th>2</th>\n",
       "      <td>201.137519</td>\n",
       "      <td>a</td>\n",
       "    </tr>\n",
       "    <tr>\n",
       "      <th>3</th>\n",
       "      <td>268.445811</td>\n",
       "      <td>a</td>\n",
       "    </tr>\n",
       "    <tr>\n",
       "      <th>4</th>\n",
       "      <td>287.581475</td>\n",
       "      <td>a</td>\n",
       "    </tr>\n",
       "  </tbody>\n",
       "</table>\n",
       "</div>"
      ],
      "text/plain": [
       "        value target\n",
       "0  240.187831      a\n",
       "1  186.091464      a\n",
       "2  201.137519      a\n",
       "3  268.445811      a\n",
       "4  287.581475      a"
      ]
     },
     "execution_count": 27,
     "metadata": {},
     "output_type": "execute_result"
    }
   ],
   "source": [
    "df = pd.read_csv('https://raw.githubusercontent.com/Datamanim/datarepo/main/scipy/anova10.csv')\n",
    "df.head()"
   ]
  },
  {
   "cell_type": "code",
   "execution_count": 29,
   "id": "0a0d20cf",
   "metadata": {},
   "outputs": [
    {
     "name": "stdout",
     "output_type": "stream",
     "text": [
      "ShapiroResult(statistic=0.9835558533668518, pvalue=0.24877400696277618)\n",
      "ShapiroResult(statistic=0.9923046231269836, pvalue=0.9479172825813293)\n",
      "ShapiroResult(statistic=0.9523516893386841, pvalue=0.19537121057510376)\n"
     ]
    }
   ],
   "source": [
    "a = df.loc[df['target']=='a']['value']\n",
    "b = df.loc[df['target']=='b']['value']\n",
    "c = df.loc[df['target']=='c']['value']\n",
    "\n",
    "print(stats.shapiro(a))\n",
    "print(stats.shapiro(b))\n",
    "print(stats.shapiro(c))\n",
    "# 모두 정규성 만족"
   ]
  },
  {
   "cell_type": "code",
   "execution_count": 30,
   "id": "aaa7fbff",
   "metadata": {},
   "outputs": [
    {
     "data": {
      "text/plain": [
       "LeveneResult(statistic=4.530341210288782, pvalue=0.011923468290294031)"
      ]
     },
     "execution_count": 30,
     "metadata": {},
     "output_type": "execute_result"
    }
   ],
   "source": [
    "stats.levene(a,b,c)\n",
    "# 등분산 불만족"
   ]
  },
  {
   "cell_type": "code",
   "execution_count": 32,
   "id": "c001b5aa",
   "metadata": {},
   "outputs": [
    {
     "data": {
      "text/html": [
       "<div>\n",
       "<style scoped>\n",
       "    .dataframe tbody tr th:only-of-type {\n",
       "        vertical-align: middle;\n",
       "    }\n",
       "\n",
       "    .dataframe tbody tr th {\n",
       "        vertical-align: top;\n",
       "    }\n",
       "\n",
       "    .dataframe thead th {\n",
       "        text-align: right;\n",
       "    }\n",
       "</style>\n",
       "<table border=\"1\" class=\"dataframe\">\n",
       "  <thead>\n",
       "    <tr style=\"text-align: right;\">\n",
       "      <th></th>\n",
       "      <th>Source</th>\n",
       "      <th>ddof1</th>\n",
       "      <th>ddof2</th>\n",
       "      <th>F</th>\n",
       "      <th>p-unc</th>\n",
       "      <th>np2</th>\n",
       "    </tr>\n",
       "  </thead>\n",
       "  <tbody>\n",
       "    <tr>\n",
       "      <th>0</th>\n",
       "      <td>target</td>\n",
       "      <td>2</td>\n",
       "      <td>69.100989</td>\n",
       "      <td>2.244923</td>\n",
       "      <td>0.113608</td>\n",
       "      <td>0.029613</td>\n",
       "    </tr>\n",
       "  </tbody>\n",
       "</table>\n",
       "</div>"
      ],
      "text/plain": [
       "   Source  ddof1      ddof2         F     p-unc       np2\n",
       "0  target      2  69.100989  2.244923  0.113608  0.029613"
      ]
     },
     "execution_count": 32,
     "metadata": {},
     "output_type": "execute_result"
    }
   ],
   "source": [
    "import pingouin as pg\n",
    "pg.welch_anova(dv='value', between='target', data=df)\n",
    "# p-unc : 각 평균값의 차이가 없음"
   ]
  }
 ],
 "metadata": {
  "kernelspec": {
   "display_name": "adp",
   "language": "python",
   "name": "adp_class"
  },
  "language_info": {
   "codemirror_mode": {
    "name": "ipython",
    "version": 3
   },
   "file_extension": ".py",
   "mimetype": "text/x-python",
   "name": "python",
   "nbconvert_exporter": "python",
   "pygments_lexer": "ipython3",
   "version": "3.7.13"
  }
 },
 "nbformat": 4,
 "nbformat_minor": 5
}
