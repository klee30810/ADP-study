{
 "cells": [
  {
   "cell_type": "code",
   "execution_count": 9,
   "id": "7f529162",
   "metadata": {},
   "outputs": [],
   "source": [
    "import pandas as pd\n",
    "import numpy as np\n",
    "import matplotlib.pyplot as plt\n",
    "import seaborn as sns\n",
    "\n",
    "from scipy import stats\n",
    "import missingno as msno"
   ]
  },
  {
   "cell_type": "markdown",
   "id": "a2a64244",
   "metadata": {},
   "source": [
    "# 2. 전처리\n",
    "## 2-1. 결측치 처리\n",
    "- 0이나 특정 상수로 대치, 대푯값, 단순확률대치법, 다른 변수들로부터 모델링햐여 결측값 예측, 결측값 여부를 새로운 특징으로 추출, 보간법(시계열)\n",
    "- 데이터 양에 비해 결측치가 극소수이거나, 절대다수인 경우 결측치가 있는 행이나 열 자체를 삭제하기도 함"
   ]
  },
  {
   "cell_type": "markdown",
   "id": "496a1465",
   "metadata": {},
   "source": [
    "### 결측치 확인"
   ]
  },
  {
   "cell_type": "code",
   "execution_count": 6,
   "id": "0d77b619",
   "metadata": {},
   "outputs": [
    {
     "name": "stdout",
     "output_type": "stream",
     "text": [
      "Alcohol      0\n",
      "Malicacid    0\n",
      "Ash          0\n",
      "Magnesium    0\n",
      "Hue          0\n",
      "dtype: int64\n"
     ]
    }
   ],
   "source": [
    "wine = pd.read_csv(\"https://raw.githubusercontent.com/algoboni/pythoncodebook1-1/main/2-1_wine.csv\",\n",
    "                  index_col=0).filter(['Alcohol', 'Malicacid', 'Ash', 'Magnesium', 'Hue'])\n",
    "\n",
    "print(wine.isna().sum())"
   ]
  },
  {
   "cell_type": "code",
   "execution_count": 7,
   "id": "d945945a",
   "metadata": {},
   "outputs": [
    {
     "name": "stdout",
     "output_type": "stream",
     "text": [
      "Alcohol      24\n",
      "Malicacid     0\n",
      "Ash          24\n",
      "Magnesium     0\n",
      "Hue           0\n",
      "dtype: int64\n"
     ]
    }
   ],
   "source": [
    "# 임의 결측치 데이터 생성\n",
    "from numpy.random import randint\n",
    "wine_m = wine.copy()\n",
    "for col in ['Alcohol', 'Ash']:\n",
    "    random_idx = randint(0, len(wine), 25)\n",
    "    wine_m.loc[random_idx, col] = np.nan\n",
    "print(wine_m.isna().sum())"
   ]
  },
  {
   "cell_type": "code",
   "execution_count": 14,
   "id": "ab8d41b9",
   "metadata": {},
   "outputs": [
    {
     "data": {
      "image/png": "[encoded data removed]",
      "text/plain": [
       "<Figure size 576x288 with 2 Axes>"
      ]
     },
     "metadata": {
      "needs_background": "light"
     },
     "output_type": "display_data"
    }
   ],
   "source": [
    "plt.rcParams['figure.figsize'] = (5,5)\n",
    "plt.rcParams['font.family'] = \"AppleGothic\"\n",
    "plt.rcParams['font.size'] = 12\n",
    "plt.rcParams['axes.unicode_minus'] = False\n",
    "\n",
    "fig, ax = plt.subplots(1,2, figsize=(8,4))\n",
    "plt.subplots_adjust(wspace=0.5)\n",
    "\n",
    "msno.matrix(df=wine, figsize=(5,5), fontsize=12, ax=ax[0], sparkline=False)\n",
    "ax[0].set_ylabel(\"original\");\n",
    "\n",
    "msno.matrix(df=wine_m, figsize=(5,5), fontsize=12, ax=ax[1], sparkline=False)\n",
    "ax[1].set_ylabel(\"missing data\");\n",
    "\n",
    "plt.show()"
   ]
  },
  {
   "cell_type": "markdown",
   "id": "f4dad49b",
   "metadata": {},
   "source": [
    "### Zero imputation & Constant imputation"
   ]
  },
  {
   "cell_type": "code",
   "execution_count": 15,
   "id": "4ea1237b",
   "metadata": {},
   "outputs": [
    {
     "data": {
      "text/html": [
       "<div>\n",
       "<style scoped>\n",
       "    .dataframe tbody tr th:only-of-type {\n",
       "        vertical-align: middle;\n",
       "    }\n",
       "\n",
       "    .dataframe tbody tr th {\n",
       "        vertical-align: top;\n",
       "    }\n",
       "\n",
       "    .dataframe thead th {\n",
       "        text-align: right;\n",
       "    }\n",
       "</style>\n",
       "<table border=\"1\" class=\"dataframe\">\n",
       "  <thead>\n",
       "    <tr style=\"text-align: right;\">\n",
       "      <th></th>\n",
       "      <th>Alcohol</th>\n",
       "      <th>Ash</th>\n",
       "    </tr>\n",
       "  </thead>\n",
       "  <tbody>\n",
       "    <tr>\n",
       "      <th>0</th>\n",
       "      <td>14.23</td>\n",
       "      <td>2.43</td>\n",
       "    </tr>\n",
       "    <tr>\n",
       "      <th>1</th>\n",
       "      <td>NaN</td>\n",
       "      <td>2.14</td>\n",
       "    </tr>\n",
       "    <tr>\n",
       "      <th>2</th>\n",
       "      <td>NaN</td>\n",
       "      <td>2.67</td>\n",
       "    </tr>\n",
       "    <tr>\n",
       "      <th>3</th>\n",
       "      <td>NaN</td>\n",
       "      <td>2.50</td>\n",
       "    </tr>\n",
       "    <tr>\n",
       "      <th>4</th>\n",
       "      <td>13.24</td>\n",
       "      <td>2.87</td>\n",
       "    </tr>\n",
       "    <tr>\n",
       "      <th>5</th>\n",
       "      <td>NaN</td>\n",
       "      <td>2.45</td>\n",
       "    </tr>\n",
       "    <tr>\n",
       "      <th>6</th>\n",
       "      <td>14.39</td>\n",
       "      <td>2.45</td>\n",
       "    </tr>\n",
       "    <tr>\n",
       "      <th>7</th>\n",
       "      <td>14.06</td>\n",
       "      <td>2.61</td>\n",
       "    </tr>\n",
       "    <tr>\n",
       "      <th>8</th>\n",
       "      <td>14.83</td>\n",
       "      <td>2.17</td>\n",
       "    </tr>\n",
       "    <tr>\n",
       "      <th>9</th>\n",
       "      <td>13.86</td>\n",
       "      <td>2.27</td>\n",
       "    </tr>\n",
       "  </tbody>\n",
       "</table>\n",
       "</div>"
      ],
      "text/plain": [
       "   Alcohol   Ash\n",
       "0    14.23  2.43\n",
       "1      NaN  2.14\n",
       "2      NaN  2.67\n",
       "3      NaN  2.50\n",
       "4    13.24  2.87\n",
       "5      NaN  2.45\n",
       "6    14.39  2.45\n",
       "7    14.06  2.61\n",
       "8    14.83  2.17\n",
       "9    13.86  2.27"
      ]
     },
     "execution_count": 15,
     "metadata": {},
     "output_type": "execute_result"
    }
   ],
   "source": [
    "wine_m[['Alcohol', 'Ash']].head(10)"
   ]
  },
  {
   "cell_type": "code",
   "execution_count": 16,
   "id": "14b5a80c",
   "metadata": {},
   "outputs": [
    {
     "data": {
      "text/html": [
       "<div>\n",
       "<style scoped>\n",
       "    .dataframe tbody tr th:only-of-type {\n",
       "        vertical-align: middle;\n",
       "    }\n",
       "\n",
       "    .dataframe tbody tr th {\n",
       "        vertical-align: top;\n",
       "    }\n",
       "\n",
       "    .dataframe thead th {\n",
       "        text-align: right;\n",
       "    }\n",
       "</style>\n",
       "<table border=\"1\" class=\"dataframe\">\n",
       "  <thead>\n",
       "    <tr style=\"text-align: right;\">\n",
       "      <th></th>\n",
       "      <th>Alcohol</th>\n",
       "      <th>Ash</th>\n",
       "    </tr>\n",
       "  </thead>\n",
       "  <tbody>\n",
       "    <tr>\n",
       "      <th>0</th>\n",
       "      <td>14.23</td>\n",
       "      <td>2.43</td>\n",
       "    </tr>\n",
       "    <tr>\n",
       "      <th>1</th>\n",
       "      <td>0.00</td>\n",
       "      <td>2.14</td>\n",
       "    </tr>\n",
       "    <tr>\n",
       "      <th>2</th>\n",
       "      <td>0.00</td>\n",
       "      <td>2.67</td>\n",
       "    </tr>\n",
       "    <tr>\n",
       "      <th>3</th>\n",
       "      <td>0.00</td>\n",
       "      <td>2.50</td>\n",
       "    </tr>\n",
       "    <tr>\n",
       "      <th>4</th>\n",
       "      <td>13.24</td>\n",
       "      <td>2.87</td>\n",
       "    </tr>\n",
       "    <tr>\n",
       "      <th>5</th>\n",
       "      <td>0.00</td>\n",
       "      <td>2.45</td>\n",
       "    </tr>\n",
       "    <tr>\n",
       "      <th>6</th>\n",
       "      <td>14.39</td>\n",
       "      <td>2.45</td>\n",
       "    </tr>\n",
       "    <tr>\n",
       "      <th>7</th>\n",
       "      <td>14.06</td>\n",
       "      <td>2.61</td>\n",
       "    </tr>\n",
       "    <tr>\n",
       "      <th>8</th>\n",
       "      <td>14.83</td>\n",
       "      <td>2.17</td>\n",
       "    </tr>\n",
       "    <tr>\n",
       "      <th>9</th>\n",
       "      <td>13.86</td>\n",
       "      <td>2.27</td>\n",
       "    </tr>\n",
       "  </tbody>\n",
       "</table>\n",
       "</div>"
      ],
      "text/plain": [
       "   Alcohol   Ash\n",
       "0    14.23  2.43\n",
       "1     0.00  2.14\n",
       "2     0.00  2.67\n",
       "3     0.00  2.50\n",
       "4    13.24  2.87\n",
       "5     0.00  2.45\n",
       "6    14.39  2.45\n",
       "7    14.06  2.61\n",
       "8    14.83  2.17\n",
       "9    13.86  2.27"
      ]
     },
     "execution_count": 16,
     "metadata": {},
     "output_type": "execute_result"
    }
   ],
   "source": [
    "wine_imp = wine_m.fillna(0)\n",
    "wine_imp[['Alcohol', 'Ash']].head(10)"
   ]
  },
  {
   "cell_type": "markdown",
   "id": "f4cd8e3c",
   "metadata": {},
   "source": [
    "### 대푯값으로 채우는 방법\n",
    "- 해당 변수의 결측되지 않은 다른 값들로 구한 평균값, 중앙값, 최빈값 등의 대푯값으로 결측치 대치\n",
    "- 로그 변환 등을 통해 치우침이 적은 분포로 데이터 변환 후, 대푯값 구해 대치"
   ]
  },
  {
   "cell_type": "code",
   "execution_count": 17,
   "id": "1e55bbc7",
   "metadata": {},
   "outputs": [
    {
     "data": {
      "text/html": [
       "<div>\n",
       "<style scoped>\n",
       "    .dataframe tbody tr th:only-of-type {\n",
       "        vertical-align: middle;\n",
       "    }\n",
       "\n",
       "    .dataframe tbody tr th {\n",
       "        vertical-align: top;\n",
       "    }\n",
       "\n",
       "    .dataframe thead th {\n",
       "        text-align: right;\n",
       "    }\n",
       "</style>\n",
       "<table border=\"1\" class=\"dataframe\">\n",
       "  <thead>\n",
       "    <tr style=\"text-align: right;\">\n",
       "      <th></th>\n",
       "      <th>Alcohol</th>\n",
       "      <th>Ash</th>\n",
       "    </tr>\n",
       "  </thead>\n",
       "  <tbody>\n",
       "    <tr>\n",
       "      <th>0</th>\n",
       "      <td>14.23</td>\n",
       "      <td>2.43</td>\n",
       "    </tr>\n",
       "    <tr>\n",
       "      <th>1</th>\n",
       "      <td>NaN</td>\n",
       "      <td>2.14</td>\n",
       "    </tr>\n",
       "    <tr>\n",
       "      <th>2</th>\n",
       "      <td>NaN</td>\n",
       "      <td>2.67</td>\n",
       "    </tr>\n",
       "    <tr>\n",
       "      <th>3</th>\n",
       "      <td>NaN</td>\n",
       "      <td>2.50</td>\n",
       "    </tr>\n",
       "    <tr>\n",
       "      <th>4</th>\n",
       "      <td>13.24</td>\n",
       "      <td>2.87</td>\n",
       "    </tr>\n",
       "    <tr>\n",
       "      <th>5</th>\n",
       "      <td>NaN</td>\n",
       "      <td>2.45</td>\n",
       "    </tr>\n",
       "    <tr>\n",
       "      <th>6</th>\n",
       "      <td>14.39</td>\n",
       "      <td>2.45</td>\n",
       "    </tr>\n",
       "    <tr>\n",
       "      <th>7</th>\n",
       "      <td>14.06</td>\n",
       "      <td>2.61</td>\n",
       "    </tr>\n",
       "    <tr>\n",
       "      <th>8</th>\n",
       "      <td>14.83</td>\n",
       "      <td>2.17</td>\n",
       "    </tr>\n",
       "    <tr>\n",
       "      <th>9</th>\n",
       "      <td>13.86</td>\n",
       "      <td>2.27</td>\n",
       "    </tr>\n",
       "  </tbody>\n",
       "</table>\n",
       "</div>"
      ],
      "text/plain": [
       "   Alcohol   Ash\n",
       "0    14.23  2.43\n",
       "1      NaN  2.14\n",
       "2      NaN  2.67\n",
       "3      NaN  2.50\n",
       "4    13.24  2.87\n",
       "5      NaN  2.45\n",
       "6    14.39  2.45\n",
       "7    14.06  2.61\n",
       "8    14.83  2.17\n",
       "9    13.86  2.27"
      ]
     },
     "execution_count": 17,
     "metadata": {},
     "output_type": "execute_result"
    }
   ],
   "source": [
    "wine_m[['Alcohol', 'Ash']].head(10)"
   ]
  },
  {
   "cell_type": "code",
   "execution_count": 21,
   "id": "8abc9fae",
   "metadata": {},
   "outputs": [
    {
     "name": "stdout",
     "output_type": "stream",
     "text": [
      "alcohol mean: 13.02, ash mean: 2.36\n",
      "   Alcohol   Ash\n",
      "0    14.23  2.43\n",
      "1    13.02  2.14\n",
      "2    13.02  2.67\n",
      "3    13.02  2.50\n",
      "4    13.24  2.87\n",
      "5    13.02  2.45\n",
      "6    14.39  2.45\n",
      "7    14.06  2.61\n",
      "8    14.83  2.17\n",
      "9    13.86  2.27\n"
     ]
    }
   ],
   "source": [
    "# 결측치를 대표값 'mean'으로 대치\n",
    "from sklearn.impute import SimpleImputer\n",
    "\n",
    "# strategy = 'mean', 'median', or 'most_frequent'\n",
    "imputer = SimpleImputer(missing_values=np.nan, strategy='mean')\n",
    "wine_imp1 = imputer.fit_transform(wine_m)\n",
    "wine_imp1 = pd.DataFrame(wine_imp1, columns=wine_m.columns)\n",
    "\n",
    "al_mean = wine_m['Alcohol'].mean()\n",
    "as_mean = wine_m['Ash'].mean()\n",
    "\n",
    "print(f'alcohol mean: {al_mean:.2f}, ash mean: {as_mean:.2f}')\n",
    "print(wine_imp1[['Alcohol', 'Ash']].head(10).round(2))"
   ]
  },
  {
   "cell_type": "markdown",
   "id": "61adeb3b",
   "metadata": {},
   "source": [
    "### 단순확률대치법\n",
    "- 유사한 데이터셋에서 랜덤하게 샘플링한 값으로 대치\n",
    "    - Hot-deck : 현재 진행중인 연구에서 비슷한 성향 데이터 중 랜덤 선택\n",
    "    - Cold-deck : 외부 출처 혹은 비슷한 연구에서 대체할 데이터 가져오는 것"
   ]
  },
  {
   "cell_type": "code",
   "execution_count": 23,
   "id": "a19c0b37",
   "metadata": {},
   "outputs": [
    {
     "data": {
      "text/plain": [
       "Alcohol      0\n",
       "Malicacid    0\n",
       "Ash          0\n",
       "Magnesium    0\n",
       "Hue          0\n",
       "dtype: int64"
      ]
     },
     "execution_count": 23,
     "metadata": {},
     "output_type": "execute_result"
    }
   ],
   "source": [
    "# Hot-Deck\n",
    "# wine이 wine_m과 비슷한 성향이라고 가정하고 wine에서 랜덤하게 선택하여 wine_m 대치\n",
    "wine_imp2 = wine_m.copy()\n",
    "\n",
    "for feature in ['Alcohol', 'Ash']:\n",
    "    missing_idx = wine_imp2.loc[wine_imp2[feature].isna()==True].index\n",
    "    wine_imp2.loc[missing_idx, feature] = wine[feature].sample(len(missing_idx)).values\n",
    "\n",
    "wine_imp2.isna().sum()"
   ]
  },
  {
   "cell_type": "code",
   "execution_count": 24,
   "id": "7aacf343",
   "metadata": {},
   "outputs": [
    {
     "data": {
      "text/html": [
       "<div>\n",
       "<style scoped>\n",
       "    .dataframe tbody tr th:only-of-type {\n",
       "        vertical-align: middle;\n",
       "    }\n",
       "\n",
       "    .dataframe tbody tr th {\n",
       "        vertical-align: top;\n",
       "    }\n",
       "\n",
       "    .dataframe thead th {\n",
       "        text-align: right;\n",
       "    }\n",
       "</style>\n",
       "<table border=\"1\" class=\"dataframe\">\n",
       "  <thead>\n",
       "    <tr style=\"text-align: right;\">\n",
       "      <th></th>\n",
       "      <th>Alcohol</th>\n",
       "      <th>Malicacid</th>\n",
       "      <th>Ash</th>\n",
       "      <th>Magnesium</th>\n",
       "      <th>Hue</th>\n",
       "    </tr>\n",
       "  </thead>\n",
       "  <tbody>\n",
       "    <tr>\n",
       "      <th>0</th>\n",
       "      <td>14.23</td>\n",
       "      <td>1.71</td>\n",
       "      <td>2.43</td>\n",
       "      <td>127</td>\n",
       "      <td>1.04</td>\n",
       "    </tr>\n",
       "    <tr>\n",
       "      <th>1</th>\n",
       "      <td>12.69</td>\n",
       "      <td>1.78</td>\n",
       "      <td>2.14</td>\n",
       "      <td>100</td>\n",
       "      <td>1.05</td>\n",
       "    </tr>\n",
       "    <tr>\n",
       "      <th>2</th>\n",
       "      <td>13.86</td>\n",
       "      <td>2.36</td>\n",
       "      <td>2.67</td>\n",
       "      <td>101</td>\n",
       "      <td>1.03</td>\n",
       "    </tr>\n",
       "    <tr>\n",
       "      <th>3</th>\n",
       "      <td>14.13</td>\n",
       "      <td>1.95</td>\n",
       "      <td>2.50</td>\n",
       "      <td>113</td>\n",
       "      <td>0.86</td>\n",
       "    </tr>\n",
       "    <tr>\n",
       "      <th>4</th>\n",
       "      <td>13.24</td>\n",
       "      <td>2.59</td>\n",
       "      <td>2.87</td>\n",
       "      <td>118</td>\n",
       "      <td>1.04</td>\n",
       "    </tr>\n",
       "  </tbody>\n",
       "</table>\n",
       "</div>"
      ],
      "text/plain": [
       "   Alcohol  Malicacid   Ash  Magnesium   Hue\n",
       "0    14.23       1.71  2.43        127  1.04\n",
       "1    12.69       1.78  2.14        100  1.05\n",
       "2    13.86       2.36  2.67        101  1.03\n",
       "3    14.13       1.95  2.50        113  0.86\n",
       "4    13.24       2.59  2.87        118  1.04"
      ]
     },
     "execution_count": 24,
     "metadata": {},
     "output_type": "execute_result"
    }
   ],
   "source": [
    "wine_imp2.head()"
   ]
  },
  {
   "cell_type": "markdown",
   "id": "23955d0e",
   "metadata": {},
   "source": [
    "### 다른 변수들로 모델링하여 결측값 예측\n",
    "- KNN imputer : 정확할 때가 많지만, 전체 데이터셋을 올려야해서 메모리가 많이 필요하고 이상치에 민감, \n",
    "- 기타 회귀 및 분류 알고리즘 이용 가능"
   ]
  },
  {
   "cell_type": "code",
   "execution_count": 25,
   "id": "feb87e96",
   "metadata": {},
   "outputs": [
    {
     "data": {
      "text/plain": [
       "Alcohol      0\n",
       "Malicacid    0\n",
       "Ash          0\n",
       "Magnesium    0\n",
       "Hue          0\n",
       "dtype: int64"
      ]
     },
     "execution_count": 25,
     "metadata": {},
     "output_type": "execute_result"
    }
   ],
   "source": [
    "from sklearn.impute import KNNImputer\n",
    "\n",
    "imputer = KNNImputer(n_neighbors=3)\n",
    "wine_imp3 = imputer.fit_transform(wine_m)\n",
    "wine_imp3 = pd.DataFrame(wine_imp3, columns=wine_m.columns)\n",
    "wine_imp3.isna().sum()"
   ]
  },
  {
   "cell_type": "markdown",
   "id": "c9957bca",
   "metadata": {},
   "source": [
    "### 보간법\n",
    "- 시계열 데이터 결측치 대치 : linear, polynomial, spline\n",
    "- 맨 앞의 결측치는 보간되지 않으므로 단순하게 다음값으로 채움"
   ]
  },
  {
   "cell_type": "code",
   "execution_count": 26,
   "id": "da06e8a9",
   "metadata": {},
   "outputs": [
    {
     "data": {
      "text/plain": [
       "Alcohol      0\n",
       "Malicacid    0\n",
       "Ash          0\n",
       "Magnesium    0\n",
       "Hue          0\n",
       "dtype: int64"
      ]
     },
     "execution_count": 26,
     "metadata": {},
     "output_type": "execute_result"
    }
   ],
   "source": [
    "wine_imp4 = wine_m.interpolate(method='linear')\n",
    "wine_imp4.isna().sum()"
   ]
  },
  {
   "cell_type": "markdown",
   "id": "dbefb9ce",
   "metadata": {},
   "source": [
    "### 실제값과 대치값 비교"
   ]
  },
  {
   "cell_type": "code",
   "execution_count": 29,
   "id": "28d59461",
   "metadata": {},
   "outputs": [
    {
     "data": {
      "text/html": [
       "<div>\n",
       "<style scoped>\n",
       "    .dataframe tbody tr th:only-of-type {\n",
       "        vertical-align: middle;\n",
       "    }\n",
       "\n",
       "    .dataframe tbody tr th {\n",
       "        vertical-align: top;\n",
       "    }\n",
       "\n",
       "    .dataframe thead th {\n",
       "        text-align: right;\n",
       "    }\n",
       "</style>\n",
       "<table border=\"1\" class=\"dataframe\">\n",
       "  <thead>\n",
       "    <tr style=\"text-align: right;\">\n",
       "      <th></th>\n",
       "      <th>실제값</th>\n",
       "      <th>mean대치</th>\n",
       "      <th>Hotdeck</th>\n",
       "      <th>KNN</th>\n",
       "      <th>linear interpolate</th>\n",
       "    </tr>\n",
       "  </thead>\n",
       "  <tbody>\n",
       "    <tr>\n",
       "      <th>MAE</th>\n",
       "      <td>0.0</td>\n",
       "      <td>0.084</td>\n",
       "      <td>0.107</td>\n",
       "      <td>0.105</td>\n",
       "      <td>0.072</td>\n",
       "    </tr>\n",
       "    <tr>\n",
       "      <th>MSE</th>\n",
       "      <td>0.0</td>\n",
       "      <td>0.067</td>\n",
       "      <td>0.140</td>\n",
       "      <td>0.122</td>\n",
       "      <td>0.054</td>\n",
       "    </tr>\n",
       "  </tbody>\n",
       "</table>\n",
       "</div>"
      ],
      "text/plain": [
       "     실제값  mean대치  Hotdeck    KNN  linear interpolate\n",
       "MAE  0.0   0.084    0.107  0.105               0.072\n",
       "MSE  0.0   0.067    0.140  0.122               0.054"
      ]
     },
     "execution_count": 29,
     "metadata": {},
     "output_type": "execute_result"
    }
   ],
   "source": [
    "from sklearn.metrics import mean_absolute_error, mean_squared_error\n",
    "\n",
    "feature = 'Alcohol'\n",
    "report = pd.DataFrame({'실제값':wine[feature], \"mean대치\":wine_imp1[feature],\n",
    "                      'Hotdeck':wine_imp2[feature], 'KNN':wine_imp3[feature],\n",
    "                      'linear interpolate':wine_imp4[feature]})\n",
    "\n",
    "score_report = pd.DataFrame(index=['MAE', 'MSE'])\n",
    "for col in report.columns:\n",
    "    mae = mean_absolute_error(report['실제값'], report[col])\n",
    "    mse = mean_squared_error(report['실제값'], report[col])\n",
    "    score_report.loc['MAE', col] = mae\n",
    "    score_report.loc['MSE', col] = mse\n",
    "\n",
    "score_report.round(3)"
   ]
  },
  {
   "cell_type": "code",
   "execution_count": 30,
   "id": "8e3a0282",
   "metadata": {},
   "outputs": [
    {
     "data": {
      "text/html": [
       "<div>\n",
       "<style scoped>\n",
       "    .dataframe tbody tr th:only-of-type {\n",
       "        vertical-align: middle;\n",
       "    }\n",
       "\n",
       "    .dataframe tbody tr th {\n",
       "        vertical-align: top;\n",
       "    }\n",
       "\n",
       "    .dataframe thead th {\n",
       "        text-align: right;\n",
       "    }\n",
       "</style>\n",
       "<table border=\"1\" class=\"dataframe\">\n",
       "  <thead>\n",
       "    <tr style=\"text-align: right;\">\n",
       "      <th></th>\n",
       "      <th>실제값</th>\n",
       "      <th>mean대치</th>\n",
       "      <th>Hotdeck</th>\n",
       "      <th>KNN</th>\n",
       "      <th>linear interpolate</th>\n",
       "    </tr>\n",
       "  </thead>\n",
       "  <tbody>\n",
       "    <tr>\n",
       "      <th>MAE</th>\n",
       "      <td>0.0</td>\n",
       "      <td>0.032</td>\n",
       "      <td>0.048</td>\n",
       "      <td>0.041</td>\n",
       "      <td>0.038</td>\n",
       "    </tr>\n",
       "    <tr>\n",
       "      <th>MSE</th>\n",
       "      <td>0.0</td>\n",
       "      <td>0.012</td>\n",
       "      <td>0.024</td>\n",
       "      <td>0.018</td>\n",
       "      <td>0.016</td>\n",
       "    </tr>\n",
       "  </tbody>\n",
       "</table>\n",
       "</div>"
      ],
      "text/plain": [
       "     실제값  mean대치  Hotdeck    KNN  linear interpolate\n",
       "MAE  0.0   0.032    0.048  0.041               0.038\n",
       "MSE  0.0   0.012    0.024  0.018               0.016"
      ]
     },
     "execution_count": 30,
     "metadata": {},
     "output_type": "execute_result"
    }
   ],
   "source": [
    "from sklearn.metrics import mean_absolute_error, mean_squared_error\n",
    "\n",
    "feature = 'Ash'\n",
    "report = pd.DataFrame({'실제값':wine[feature], \"mean대치\":wine_imp1[feature],\n",
    "                      'Hotdeck':wine_imp2[feature], 'KNN':wine_imp3[feature],\n",
    "                      'linear interpolate':wine_imp4[feature]})\n",
    "\n",
    "score_report = pd.DataFrame(index=['MAE', 'MSE'])\n",
    "for col in report.columns:\n",
    "    mae = mean_absolute_error(report['실제값'], report[col])\n",
    "    mse = mean_squared_error(report['실제값'], report[col])\n",
    "    score_report.loc['MAE', col] = mae\n",
    "    score_report.loc['MSE', col] = mse\n",
    "\n",
    "score_report.round(3)"
   ]
  },
  {
   "cell_type": "markdown",
   "id": "162b6ee8",
   "metadata": {},
   "source": [
    "## 2-2. 이상치 처리\n",
    "- 이상치 데이터 판정기준\n",
    "\n",
    "1) ESD : mean-3\\*std < data < mean+3\\*std \n",
    "\n",
    "2) 기하평균 - 2.5 \\* std < data < 기하평균 + 2.5 \\* std\n",
    "\n",
    "3) Q1 - 1.5\\* IQR < data < Q3 + 1.5\\* IQR\n",
    "\n",
    "4) DBSCAN 통해 -1로 분류되는 값\n",
    "\n",
    "- 이상치 처리방법 : 절단, 조정, 클리핑"
   ]
  },
  {
   "cell_type": "code",
   "execution_count": 31,
   "id": "a2506d66",
   "metadata": {},
   "outputs": [
    {
     "name": "stdout",
     "output_type": "stream",
     "text": [
      "이상치 index Int64Index([123, 137, 173], dtype='int64')\n"
     ]
    }
   ],
   "source": [
    "wine = pd.read_csv(\"https://raw.githubusercontent.com/algoboni/pythoncodebook1-1/main/2-1_wine.csv\",\n",
    "                  index_col=0).filter(['Alcohol', 'Malicacid', 'Ash', 'Magnesium', 'Hue'])\n",
    "\n",
    "IQR = wine['Malicacid'].quantile(0.75) - wine['Malicacid'].quantile(0.25)\n",
    "top = wine['Malicacid'].quantile(0.75) + IQR * 1.5\n",
    "down = wine['Malicacid'].quantile(0.25) - IQR * 1.5\n",
    "\n",
    "out_id = wine.loc[(wine['Malicacid']>=top) | (wine['Malicacid']<=down)].index\n",
    "print(\"이상치 index\", out_id)"
   ]
  },
  {
   "cell_type": "markdown",
   "id": "384ff492",
   "metadata": {},
   "source": [
    "### 절단\n",
    "- 절단 후 새로운 이상치 생길 수 있으나 이는 분석가가 상황에 맞게 설정 필요"
   ]
  },
  {
   "cell_type": "code",
   "execution_count": 32,
   "id": "e04fa100",
   "metadata": {},
   "outputs": [
    {
     "data": {
      "image/png": "[encoded data removed]",
      "text/plain": [
       "<Figure size 720x360 with 2 Axes>"
      ]
     },
     "metadata": {
      "needs_background": "light"
     },
     "output_type": "display_data"
    }
   ],
   "source": [
    "prep_df = wine[['Malicacid']].drop(out_id, axis=0)\n",
    "\n",
    "plt.rcParams['figure.figsize'] = (10,5)\n",
    "plt.rcParams['font.size'] = 12\n",
    "plt.rcParams['axes.unicode_minus'] = False\n",
    "\n",
    "fig, axes = plt.subplots(1,2)\n",
    "for data, ax, title in zip([wine[['Malicacid']], prep_df], axes, ['Before', 'After']):\n",
    "    data.boxplot(ax=ax)\n",
    "    ax.set_title(\"{} ({})\".format(title, len(data)))\n",
    "plt.show()"
   ]
  },
  {
   "cell_type": "markdown",
   "id": "3f259392",
   "metadata": {},
   "source": [
    "### 조정\n",
    "- 이상치를 앞서 정해진 이상치의 상한과 하한선으로 보정"
   ]
  },
  {
   "cell_type": "code",
   "execution_count": 34,
   "id": "36e37d5a",
   "metadata": {},
   "outputs": [
    {
     "data": {
      "image/png": "[encoded data removed]",
      "text/plain": [
       "<Figure size 720x360 with 2 Axes>"
      ]
     },
     "metadata": {
      "needs_background": "light"
     },
     "output_type": "display_data"
    }
   ],
   "source": [
    "prep_df2 = wine[['Malicacid']].clip(down, top)\n",
    "\n",
    "plt.rcParams['figure.figsize'] = (10,5)\n",
    "plt.rcParams['font.size'] = 12\n",
    "plt.rcParams['axes.unicode_minus'] = False\n",
    "\n",
    "fig, axes = plt.subplots(1,2)\n",
    "for data, ax, title in zip([wine[['Malicacid']], prep_df2], axes, ['Before', 'After']):\n",
    "    data.boxplot(ax=ax)\n",
    "    ax.set_title(\"{} ({})\".format(title, len(data)))\n",
    "plt.show()"
   ]
  },
  {
   "cell_type": "markdown",
   "id": "536f3117",
   "metadata": {},
   "source": [
    "### 클리핑\n",
    "- 이상치 상, 하한을 특정값으로 지정하여, 벗어나는 값을 조정\n",
    "- 이상치 경계값에 대한 확실한 정보를 가지고 있거나, 데이터를 특정 경계값으로 제한하고 싶을 때"
   ]
  },
  {
   "cell_type": "code",
   "execution_count": 35,
   "id": "5af8f6ad",
   "metadata": {},
   "outputs": [
    {
     "data": {
      "image/png": "[encoded data removed]",
      "text/plain": [
       "<Figure size 720x360 with 2 Axes>"
      ]
     },
     "metadata": {
      "needs_background": "light"
     },
     "output_type": "display_data"
    }
   ],
   "source": [
    "prep_df3 = wine[['Malicacid']].clip(1,5)\n",
    "\n",
    "plt.rcParams['figure.figsize'] = (10,5)\n",
    "plt.rcParams['font.size'] = 12\n",
    "plt.rcParams['axes.unicode_minus'] = False\n",
    "\n",
    "fig, axes = plt.subplots(1,2)\n",
    "for data, ax, title in zip([wine[['Malicacid']], prep_df3], axes, ['Before', 'After']):\n",
    "    data.boxplot(ax=ax)\n",
    "    ax.set_title(\"{} ({})\".format(title, len(data)))\n",
    "plt.show()"
   ]
  },
  {
   "cell_type": "markdown",
   "id": "9b5c71f7",
   "metadata": {},
   "source": [
    "## 2-3 클래스 불균형 처리\n",
    "- 오버샘플링 & 언더샘플링"
   ]
  },
  {
   "cell_type": "code",
   "execution_count": null,
   "id": "f69c3003",
   "metadata": {},
   "outputs": [],
   "source": []
  },
  {
   "cell_type": "code",
   "execution_count": null,
   "id": "c85f9194",
   "metadata": {},
   "outputs": [],
   "source": []
  },
  {
   "cell_type": "code",
   "execution_count": null,
   "id": "7d1316b1",
   "metadata": {},
   "outputs": [],
   "source": []
  },
  {
   "cell_type": "code",
   "execution_count": null,
   "id": "416cce04",
   "metadata": {},
   "outputs": [],
   "source": []
  },
  {
   "cell_type": "code",
   "execution_count": null,
   "id": "0259fb73",
   "metadata": {},
   "outputs": [],
   "source": []
  }
 ],
 "metadata": {
  "kernelspec": {
   "display_name": "adp",
   "language": "python",
   "name": "adp_class"
  },
  "language_info": {
   "codemirror_mode": {
    "name": "ipython",
    "version": 3
   },
   "file_extension": ".py",
   "mimetype": "text/x-python",
   "name": "python",
   "nbconvert_exporter": "python",
   "pygments_lexer": "ipython3",
   "version": "3.7.13"
  }
 },
 "nbformat": 4,
 "nbformat_minor": 5
}
