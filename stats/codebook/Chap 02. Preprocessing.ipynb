{
 "cells": [
  {
   "cell_type": "markdown",
   "id": "905056dd",
   "metadata": {},
   "source": [
    "# 2. 전처리\n",
    "## 2-1. 결측치 처리\n",
    "- 0이나 특정 상수로 대치, 대푯값, 단순확률대치법, 다른 변수들로부터 모델링햐여 결측값 예측, 결측값 여부를 새로운 특징으로 추출, 보간법(시계열)\n",
    "- 데이터 양에 비해 결측치가 극소수이거나, 절대다수인 경우 결측치가 있는 행이나 열 자체를 삭제하기도 함\n",
    "\n",
    "### 결측치 확인"
   ]
  },
  {
   "cell_type": "code",
   "execution_count": null,
   "id": "817ab335",
   "metadata": {},
   "outputs": [],
   "source": []
  }
 ],
 "metadata": {
  "kernelspec": {
   "display_name": "adp",
   "language": "python",
   "name": "adp_class"
  },
  "language_info": {
   "codemirror_mode": {
    "name": "ipython",
    "version": 3
   },
   "file_extension": ".py",
   "mimetype": "text/x-python",
   "name": "python",
   "nbconvert_exporter": "python",
   "pygments_lexer": "ipython3",
   "version": "3.7.13"
  }
 },
 "nbformat": 4,
 "nbformat_minor": 5
}
