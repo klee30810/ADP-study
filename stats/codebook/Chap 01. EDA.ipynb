{
 "cells": [
  {
   "cell_type": "markdown",
   "id": "07798f91",
   "metadata": {},
   "source": [
    "# 1. 탐색적 데이터 분석\n",
    "- 질적 변수 (명목척도) : 도수분포표, 상대도수분포표, 상관계수, 막대그래프, 파이그래프\n",
    "- 양적 변수 (수치형 데이터, 등간척도, 비율척도) : 도수분포표, 상대도수분포표, 대푯값, 산포도, 왜도, 첨도, 상관계수, 줄기잎그림, 히스토그램, 오자이브, 상자그림, 산점도"
   ]
  },
  {
   "cell_type": "markdown",
   "id": "4a8404e5",
   "metadata": {},
   "source": [
    "## 1-1 공통"
   ]
  },
  {
   "cell_type": "code",
   "execution_count": 31,
   "id": "7423e072",
   "metadata": {},
   "outputs": [],
   "source": [
    "import pandas as pd\n",
    "import numpy as np\n",
    "import matplotlib.pyplot as plt\n",
    "import seaborn as sns\n",
    "\n",
    "from scipy import stats\n",
    "from scipy.stats import mstats"
   ]
  },
  {
   "cell_type": "code",
   "execution_count": 7,
   "id": "90d07c73",
   "metadata": {},
   "outputs": [
    {
     "data": {
      "text/html": [
       "<div>\n",
       "<style scoped>\n",
       "    .dataframe tbody tr th:only-of-type {\n",
       "        vertical-align: middle;\n",
       "    }\n",
       "\n",
       "    .dataframe tbody tr th {\n",
       "        vertical-align: top;\n",
       "    }\n",
       "\n",
       "    .dataframe thead th {\n",
       "        text-align: right;\n",
       "    }\n",
       "</style>\n",
       "<table border=\"1\" class=\"dataframe\">\n",
       "  <thead>\n",
       "    <tr style=\"text-align: right;\">\n",
       "      <th></th>\n",
       "      <th>PassengerId</th>\n",
       "      <th>Survived</th>\n",
       "      <th>Pclass</th>\n",
       "      <th>Name</th>\n",
       "      <th>Sex</th>\n",
       "      <th>Age</th>\n",
       "      <th>SibSp</th>\n",
       "      <th>Parch</th>\n",
       "      <th>Ticket</th>\n",
       "      <th>Fare</th>\n",
       "      <th>Cabin</th>\n",
       "      <th>Embarked</th>\n",
       "    </tr>\n",
       "  </thead>\n",
       "  <tbody>\n",
       "    <tr>\n",
       "      <th>0</th>\n",
       "      <td>1</td>\n",
       "      <td>0</td>\n",
       "      <td>3</td>\n",
       "      <td>Braund, Mr. Owen Harris</td>\n",
       "      <td>male</td>\n",
       "      <td>22.0</td>\n",
       "      <td>1</td>\n",
       "      <td>0</td>\n",
       "      <td>A/5 21171</td>\n",
       "      <td>7.2500</td>\n",
       "      <td>NaN</td>\n",
       "      <td>S</td>\n",
       "    </tr>\n",
       "    <tr>\n",
       "      <th>1</th>\n",
       "      <td>2</td>\n",
       "      <td>1</td>\n",
       "      <td>1</td>\n",
       "      <td>Cumings, Mrs. John Bradley (Florence Briggs Th...</td>\n",
       "      <td>female</td>\n",
       "      <td>38.0</td>\n",
       "      <td>1</td>\n",
       "      <td>0</td>\n",
       "      <td>PC 17599</td>\n",
       "      <td>71.2833</td>\n",
       "      <td>C85</td>\n",
       "      <td>C</td>\n",
       "    </tr>\n",
       "    <tr>\n",
       "      <th>2</th>\n",
       "      <td>3</td>\n",
       "      <td>1</td>\n",
       "      <td>3</td>\n",
       "      <td>Heikkinen, Miss. Laina</td>\n",
       "      <td>female</td>\n",
       "      <td>26.0</td>\n",
       "      <td>0</td>\n",
       "      <td>0</td>\n",
       "      <td>STON/O2. 3101282</td>\n",
       "      <td>7.9250</td>\n",
       "      <td>NaN</td>\n",
       "      <td>S</td>\n",
       "    </tr>\n",
       "    <tr>\n",
       "      <th>3</th>\n",
       "      <td>4</td>\n",
       "      <td>1</td>\n",
       "      <td>1</td>\n",
       "      <td>Futrelle, Mrs. Jacques Heath (Lily May Peel)</td>\n",
       "      <td>female</td>\n",
       "      <td>35.0</td>\n",
       "      <td>1</td>\n",
       "      <td>0</td>\n",
       "      <td>113803</td>\n",
       "      <td>53.1000</td>\n",
       "      <td>C123</td>\n",
       "      <td>S</td>\n",
       "    </tr>\n",
       "    <tr>\n",
       "      <th>4</th>\n",
       "      <td>5</td>\n",
       "      <td>0</td>\n",
       "      <td>3</td>\n",
       "      <td>Allen, Mr. William Henry</td>\n",
       "      <td>male</td>\n",
       "      <td>35.0</td>\n",
       "      <td>0</td>\n",
       "      <td>0</td>\n",
       "      <td>373450</td>\n",
       "      <td>8.0500</td>\n",
       "      <td>NaN</td>\n",
       "      <td>S</td>\n",
       "    </tr>\n",
       "  </tbody>\n",
       "</table>\n",
       "</div>"
      ],
      "text/plain": [
       "   PassengerId  Survived  Pclass  \\\n",
       "0            1         0       3   \n",
       "1            2         1       1   \n",
       "2            3         1       3   \n",
       "3            4         1       1   \n",
       "4            5         0       3   \n",
       "\n",
       "                                                Name     Sex   Age  SibSp  \\\n",
       "0                            Braund, Mr. Owen Harris    male  22.0      1   \n",
       "1  Cumings, Mrs. John Bradley (Florence Briggs Th...  female  38.0      1   \n",
       "2                             Heikkinen, Miss. Laina  female  26.0      0   \n",
       "3       Futrelle, Mrs. Jacques Heath (Lily May Peel)  female  35.0      1   \n",
       "4                           Allen, Mr. William Henry    male  35.0      0   \n",
       "\n",
       "   Parch            Ticket     Fare Cabin Embarked  \n",
       "0      0         A/5 21171   7.2500   NaN        S  \n",
       "1      0          PC 17599  71.2833   C85        C  \n",
       "2      0  STON/O2. 3101282   7.9250   NaN        S  \n",
       "3      0            113803  53.1000  C123        S  \n",
       "4      0            373450   8.0500   NaN        S  "
      ]
     },
     "execution_count": 7,
     "metadata": {},
     "output_type": "execute_result"
    }
   ],
   "source": [
    "titanic = pd.read_csv(\"https://raw.githubusercontent.com/algoboni/pythoncodebook1-1/main/1-1_titanic.csv\")\n",
    "titanic.head()"
   ]
  },
  {
   "cell_type": "code",
   "execution_count": 8,
   "id": "e3c4b902",
   "metadata": {},
   "outputs": [
    {
     "name": "stdout",
     "output_type": "stream",
     "text": [
      "<class 'pandas.core.frame.DataFrame'>\n",
      "RangeIndex: 891 entries, 0 to 890\n",
      "Data columns (total 12 columns):\n",
      " #   Column       Non-Null Count  Dtype  \n",
      "---  ------       --------------  -----  \n",
      " 0   PassengerId  891 non-null    int64  \n",
      " 1   Survived     891 non-null    int64  \n",
      " 2   Pclass       891 non-null    int64  \n",
      " 3   Name         891 non-null    object \n",
      " 4   Sex          891 non-null    object \n",
      " 5   Age          714 non-null    float64\n",
      " 6   SibSp        891 non-null    int64  \n",
      " 7   Parch        891 non-null    int64  \n",
      " 8   Ticket       891 non-null    object \n",
      " 9   Fare         891 non-null    float64\n",
      " 10  Cabin        204 non-null    object \n",
      " 11  Embarked     889 non-null    object \n",
      "dtypes: float64(2), int64(5), object(5)\n",
      "memory usage: 83.7+ KB\n"
     ]
    }
   ],
   "source": [
    "titanic.info()"
   ]
  },
  {
   "cell_type": "code",
   "execution_count": 9,
   "id": "44816562",
   "metadata": {},
   "outputs": [
    {
     "name": "stdout",
     "output_type": "stream",
     "text": [
      "<class 'pandas.core.frame.DataFrame'>\n",
      "RangeIndex: 891 entries, 0 to 890\n",
      "Data columns (total 10 columns):\n",
      " #   Column    Non-Null Count  Dtype   \n",
      "---  ------    --------------  -----   \n",
      " 0   Survived  891 non-null    category\n",
      " 1   Pclass    891 non-null    category\n",
      " 2   Name      891 non-null    category\n",
      " 3   Sex       891 non-null    category\n",
      " 4   Age       714 non-null    float64 \n",
      " 5   SibSp     891 non-null    int64   \n",
      " 6   Parch     891 non-null    int64   \n",
      " 7   Ticket    891 non-null    category\n",
      " 8   Fare      891 non-null    float64 \n",
      " 9   Embarked  889 non-null    category\n",
      "dtypes: category(6), float64(2), int64(2)\n",
      "memory usage: 96.2 KB\n"
     ]
    }
   ],
   "source": [
    "del_feature = ['PassengerId', 'Cabin']\n",
    "titanic = titanic.drop(del_feature, axis=1)\n",
    "\n",
    "qual = ['Survived', 'Pclass', 'Name', 'Sex', 'Ticket', 'Embarked']\n",
    "quan = ['Age', 'SibSp', 'Parch', 'Fare']\n",
    "for col in qual:\n",
    "    titanic[col] = titanic[col].astype('category')\n",
    "titanic.info()"
   ]
  },
  {
   "cell_type": "code",
   "execution_count": 10,
   "id": "1fb308d8",
   "metadata": {},
   "outputs": [
    {
     "data": {
      "text/html": [
       "<div>\n",
       "<style scoped>\n",
       "    .dataframe tbody tr th:only-of-type {\n",
       "        vertical-align: middle;\n",
       "    }\n",
       "\n",
       "    .dataframe tbody tr th {\n",
       "        vertical-align: top;\n",
       "    }\n",
       "\n",
       "    .dataframe thead th {\n",
       "        text-align: right;\n",
       "    }\n",
       "</style>\n",
       "<table border=\"1\" class=\"dataframe\">\n",
       "  <thead>\n",
       "    <tr style=\"text-align: right;\">\n",
       "      <th></th>\n",
       "      <th>Age</th>\n",
       "      <th>SibSp</th>\n",
       "      <th>Parch</th>\n",
       "      <th>Fare</th>\n",
       "    </tr>\n",
       "  </thead>\n",
       "  <tbody>\n",
       "    <tr>\n",
       "      <th>count</th>\n",
       "      <td>714.000000</td>\n",
       "      <td>891.000000</td>\n",
       "      <td>891.000000</td>\n",
       "      <td>891.000000</td>\n",
       "    </tr>\n",
       "    <tr>\n",
       "      <th>mean</th>\n",
       "      <td>29.699118</td>\n",
       "      <td>0.523008</td>\n",
       "      <td>0.381594</td>\n",
       "      <td>32.204208</td>\n",
       "    </tr>\n",
       "    <tr>\n",
       "      <th>std</th>\n",
       "      <td>14.526497</td>\n",
       "      <td>1.102743</td>\n",
       "      <td>0.806057</td>\n",
       "      <td>49.693429</td>\n",
       "    </tr>\n",
       "    <tr>\n",
       "      <th>min</th>\n",
       "      <td>0.420000</td>\n",
       "      <td>0.000000</td>\n",
       "      <td>0.000000</td>\n",
       "      <td>0.000000</td>\n",
       "    </tr>\n",
       "    <tr>\n",
       "      <th>25%</th>\n",
       "      <td>20.125000</td>\n",
       "      <td>0.000000</td>\n",
       "      <td>0.000000</td>\n",
       "      <td>7.910400</td>\n",
       "    </tr>\n",
       "    <tr>\n",
       "      <th>50%</th>\n",
       "      <td>28.000000</td>\n",
       "      <td>0.000000</td>\n",
       "      <td>0.000000</td>\n",
       "      <td>14.454200</td>\n",
       "    </tr>\n",
       "    <tr>\n",
       "      <th>75%</th>\n",
       "      <td>38.000000</td>\n",
       "      <td>1.000000</td>\n",
       "      <td>0.000000</td>\n",
       "      <td>31.000000</td>\n",
       "    </tr>\n",
       "    <tr>\n",
       "      <th>max</th>\n",
       "      <td>80.000000</td>\n",
       "      <td>8.000000</td>\n",
       "      <td>6.000000</td>\n",
       "      <td>512.329200</td>\n",
       "    </tr>\n",
       "  </tbody>\n",
       "</table>\n",
       "</div>"
      ],
      "text/plain": [
       "              Age       SibSp       Parch        Fare\n",
       "count  714.000000  891.000000  891.000000  891.000000\n",
       "mean    29.699118    0.523008    0.381594   32.204208\n",
       "std     14.526497    1.102743    0.806057   49.693429\n",
       "min      0.420000    0.000000    0.000000    0.000000\n",
       "25%     20.125000    0.000000    0.000000    7.910400\n",
       "50%     28.000000    0.000000    0.000000   14.454200\n",
       "75%     38.000000    1.000000    0.000000   31.000000\n",
       "max     80.000000    8.000000    6.000000  512.329200"
      ]
     },
     "execution_count": 10,
     "metadata": {},
     "output_type": "execute_result"
    }
   ],
   "source": [
    "titanic.describe(include=['float64', 'int64'])"
   ]
  },
  {
   "cell_type": "code",
   "execution_count": 11,
   "id": "d2aa312d",
   "metadata": {},
   "outputs": [
    {
     "data": {
      "text/html": [
       "<div>\n",
       "<style scoped>\n",
       "    .dataframe tbody tr th:only-of-type {\n",
       "        vertical-align: middle;\n",
       "    }\n",
       "\n",
       "    .dataframe tbody tr th {\n",
       "        vertical-align: top;\n",
       "    }\n",
       "\n",
       "    .dataframe thead th {\n",
       "        text-align: right;\n",
       "    }\n",
       "</style>\n",
       "<table border=\"1\" class=\"dataframe\">\n",
       "  <thead>\n",
       "    <tr style=\"text-align: right;\">\n",
       "      <th></th>\n",
       "      <th>Survived</th>\n",
       "      <th>Pclass</th>\n",
       "      <th>Name</th>\n",
       "      <th>Sex</th>\n",
       "      <th>Ticket</th>\n",
       "      <th>Embarked</th>\n",
       "    </tr>\n",
       "  </thead>\n",
       "  <tbody>\n",
       "    <tr>\n",
       "      <th>count</th>\n",
       "      <td>891</td>\n",
       "      <td>891</td>\n",
       "      <td>891</td>\n",
       "      <td>891</td>\n",
       "      <td>891</td>\n",
       "      <td>889</td>\n",
       "    </tr>\n",
       "    <tr>\n",
       "      <th>unique</th>\n",
       "      <td>2</td>\n",
       "      <td>3</td>\n",
       "      <td>891</td>\n",
       "      <td>2</td>\n",
       "      <td>681</td>\n",
       "      <td>3</td>\n",
       "    </tr>\n",
       "    <tr>\n",
       "      <th>top</th>\n",
       "      <td>0</td>\n",
       "      <td>3</td>\n",
       "      <td>Abbing, Mr. Anthony</td>\n",
       "      <td>male</td>\n",
       "      <td>1601</td>\n",
       "      <td>S</td>\n",
       "    </tr>\n",
       "    <tr>\n",
       "      <th>freq</th>\n",
       "      <td>549</td>\n",
       "      <td>491</td>\n",
       "      <td>1</td>\n",
       "      <td>577</td>\n",
       "      <td>7</td>\n",
       "      <td>644</td>\n",
       "    </tr>\n",
       "  </tbody>\n",
       "</table>\n",
       "</div>"
      ],
      "text/plain": [
       "        Survived  Pclass                 Name   Sex Ticket Embarked\n",
       "count        891     891                  891   891    891      889\n",
       "unique         2       3                  891     2    681        3\n",
       "top            0       3  Abbing, Mr. Anthony  male   1601        S\n",
       "freq         549     491                    1   577      7      644"
      ]
     },
     "execution_count": 11,
     "metadata": {},
     "output_type": "execute_result"
    }
   ],
   "source": [
    "titanic.describe(include=['category'])"
   ]
  },
  {
   "cell_type": "markdown",
   "id": "0addc5d0",
   "metadata": {},
   "source": [
    "## 1-2 질적변수\n",
    "### 도수분포표"
   ]
  },
  {
   "cell_type": "code",
   "execution_count": 13,
   "id": "95e36855",
   "metadata": {},
   "outputs": [
    {
     "data": {
      "text/html": [
       "<div>\n",
       "<style scoped>\n",
       "    .dataframe tbody tr th:only-of-type {\n",
       "        vertical-align: middle;\n",
       "    }\n",
       "\n",
       "    .dataframe tbody tr th {\n",
       "        vertical-align: top;\n",
       "    }\n",
       "\n",
       "    .dataframe thead th {\n",
       "        text-align: right;\n",
       "    }\n",
       "</style>\n",
       "<table border=\"1\" class=\"dataframe\">\n",
       "  <thead>\n",
       "    <tr style=\"text-align: right;\">\n",
       "      <th></th>\n",
       "      <th>Survived</th>\n",
       "    </tr>\n",
       "  </thead>\n",
       "  <tbody>\n",
       "    <tr>\n",
       "      <th>0</th>\n",
       "      <td>549</td>\n",
       "    </tr>\n",
       "    <tr>\n",
       "      <th>1</th>\n",
       "      <td>342</td>\n",
       "    </tr>\n",
       "  </tbody>\n",
       "</table>\n",
       "</div>"
      ],
      "text/plain": [
       "   Survived\n",
       "0       549\n",
       "1       342"
      ]
     },
     "execution_count": 13,
     "metadata": {},
     "output_type": "execute_result"
    }
   ],
   "source": [
    "freq = pd.DataFrame(titanic['Survived'].value_counts())\n",
    "freq"
   ]
  },
  {
   "cell_type": "code",
   "execution_count": 14,
   "id": "a37b0fd0",
   "metadata": {},
   "outputs": [
    {
     "data": {
      "text/html": [
       "<div>\n",
       "<style scoped>\n",
       "    .dataframe tbody tr th:only-of-type {\n",
       "        vertical-align: middle;\n",
       "    }\n",
       "\n",
       "    .dataframe tbody tr th {\n",
       "        vertical-align: top;\n",
       "    }\n",
       "\n",
       "    .dataframe thead th {\n",
       "        text-align: right;\n",
       "    }\n",
       "</style>\n",
       "<table border=\"1\" class=\"dataframe\">\n",
       "  <thead>\n",
       "    <tr style=\"text-align: right;\">\n",
       "      <th></th>\n",
       "      <th>도수</th>\n",
       "      <th>상대도수</th>\n",
       "    </tr>\n",
       "  </thead>\n",
       "  <tbody>\n",
       "    <tr>\n",
       "      <th>0</th>\n",
       "      <td>549</td>\n",
       "      <td>0.616162</td>\n",
       "    </tr>\n",
       "    <tr>\n",
       "      <th>1</th>\n",
       "      <td>342</td>\n",
       "      <td>0.383838</td>\n",
       "    </tr>\n",
       "  </tbody>\n",
       "</table>\n",
       "</div>"
      ],
      "text/plain": [
       "    도수      상대도수\n",
       "0  549  0.616162\n",
       "1  342  0.383838"
      ]
     },
     "execution_count": 14,
     "metadata": {},
     "output_type": "execute_result"
    }
   ],
   "source": [
    "freq['상대도수'] = titanic['Survived'].value_counts(normalize=True)\n",
    "freq = freq.rename(columns={'Survived':'도수'})\n",
    "freq"
   ]
  },
  {
   "cell_type": "markdown",
   "id": "90809c45",
   "metadata": {},
   "source": [
    "### 상관계수\n",
    "- 스피어만 순위계수, 켄달의 타우 : 관측치가 서열척도로 된 상관관계"
   ]
  },
  {
   "cell_type": "code",
   "execution_count": 19,
   "id": "1b771a73",
   "metadata": {},
   "outputs": [
    {
     "name": "stdout",
     "output_type": "stream",
     "text": [
      "-0.33966793665005257 1.6876081409966053e-25\n",
      "-0.32353318439409545 3.932785644652632e-24\n"
     ]
    }
   ],
   "source": [
    "corr, p = stats.spearmanr(titanic['Survived'], titanic['Pclass'])\n",
    "print(corr, p)\n",
    "\n",
    "corr2, p2 = stats.kendalltau(titanic['Survived'], titanic['Pclass'])\n",
    "print(corr2, p2)"
   ]
  },
  {
   "cell_type": "code",
   "execution_count": 27,
   "id": "4b2b39cd",
   "metadata": {},
   "outputs": [
    {
     "data": {
      "image/png": "[encoded data removed]",
      "text/plain": [
       "<Figure size 720x360 with 2 Axes>"
      ]
     },
     "metadata": {
      "needs_background": "light"
     },
     "output_type": "display_data"
    }
   ],
   "source": [
    "plt.rcParams['figure.figsize'] = (5,5)\n",
    "plt.rcParams['font.family'] = 'AppleGothic'\n",
    "plt.rcParams['font.size'] = 12\n",
    "plt.rcParams['axes.unicode_minus'] = False\n",
    "fig, ax = plt.subplots(1, 2, figsize=(10, 5))\n",
    "\n",
    "ax[0].set_title('Survived 막대 그래프')\n",
    "freq['도수'].plot.bar(ax=ax[0], color=['yellow', 'purple']);\n",
    "\n",
    "ax[1].set_title('Survived 파이 그래프')\n",
    "ax[1].pie(freq['도수'].values, labels=freq['도수'].index, \n",
    "          autopct=\"%.2f%%\", colors=['yellow', 'purple']);\n",
    "\n",
    "plt.show()"
   ]
  },
  {
   "cell_type": "markdown",
   "id": "a89a930a",
   "metadata": {},
   "source": [
    "## 1-3 양적변수\n",
    "### 도수분포표, 상대도수분포표"
   ]
  },
  {
   "cell_type": "code",
   "execution_count": 29,
   "id": "70938c9b",
   "metadata": {},
   "outputs": [
    {
     "data": {
      "text/html": [
       "<div>\n",
       "<style scoped>\n",
       "    .dataframe tbody tr th:only-of-type {\n",
       "        vertical-align: middle;\n",
       "    }\n",
       "\n",
       "    .dataframe tbody tr th {\n",
       "        vertical-align: top;\n",
       "    }\n",
       "\n",
       "    .dataframe thead th {\n",
       "        text-align: right;\n",
       "    }\n",
       "</style>\n",
       "<table border=\"1\" class=\"dataframe\">\n",
       "  <thead>\n",
       "    <tr style=\"text-align: right;\">\n",
       "      <th></th>\n",
       "      <th>계급</th>\n",
       "      <th>도수</th>\n",
       "      <th>상대도수</th>\n",
       "    </tr>\n",
       "  </thead>\n",
       "  <tbody>\n",
       "    <tr>\n",
       "      <th>2</th>\n",
       "      <td>(0.34, 16.336]</td>\n",
       "      <td>100</td>\n",
       "      <td>0.140056</td>\n",
       "    </tr>\n",
       "    <tr>\n",
       "      <th>0</th>\n",
       "      <td>(16.336, 32.252]</td>\n",
       "      <td>346</td>\n",
       "      <td>0.484594</td>\n",
       "    </tr>\n",
       "    <tr>\n",
       "      <th>1</th>\n",
       "      <td>(32.252, 48.168]</td>\n",
       "      <td>188</td>\n",
       "      <td>0.263305</td>\n",
       "    </tr>\n",
       "    <tr>\n",
       "      <th>3</th>\n",
       "      <td>(48.168, 64.084]</td>\n",
       "      <td>69</td>\n",
       "      <td>0.096639</td>\n",
       "    </tr>\n",
       "    <tr>\n",
       "      <th>4</th>\n",
       "      <td>(64.084, 80.0]</td>\n",
       "      <td>11</td>\n",
       "      <td>0.015406</td>\n",
       "    </tr>\n",
       "  </tbody>\n",
       "</table>\n",
       "</div>"
      ],
      "text/plain": [
       "                 계급   도수      상대도수\n",
       "2    (0.34, 16.336]  100  0.140056\n",
       "0  (16.336, 32.252]  346  0.484594\n",
       "1  (32.252, 48.168]  188  0.263305\n",
       "3  (48.168, 64.084]   69  0.096639\n",
       "4    (64.084, 80.0]   11  0.015406"
      ]
     },
     "execution_count": 29,
     "metadata": {},
     "output_type": "execute_result"
    }
   ],
   "source": [
    "result1 = pd.cut(titanic['Age'], bins=5)\n",
    "freq1 = pd.DataFrame(result1.value_counts()).reset_index()\n",
    "freq1 = freq1.rename(columns={'index':'계급', 'Age':'도수'}).sort_values(by='계급')\n",
    "\n",
    "freq1['상대도수'] = freq1['도수'].apply(lambda x : x / freq1['도수'].sum())\n",
    "freq1"
   ]
  },
  {
   "cell_type": "code",
   "execution_count": 30,
   "id": "93cd3731",
   "metadata": {},
   "outputs": [
    {
     "data": {
      "text/html": [
       "<div>\n",
       "<style scoped>\n",
       "    .dataframe tbody tr th:only-of-type {\n",
       "        vertical-align: middle;\n",
       "    }\n",
       "\n",
       "    .dataframe tbody tr th {\n",
       "        vertical-align: top;\n",
       "    }\n",
       "\n",
       "    .dataframe thead th {\n",
       "        text-align: right;\n",
       "    }\n",
       "</style>\n",
       "<table border=\"1\" class=\"dataframe\">\n",
       "  <thead>\n",
       "    <tr style=\"text-align: right;\">\n",
       "      <th></th>\n",
       "      <th>계급</th>\n",
       "      <th>도수</th>\n",
       "      <th>상대도수</th>\n",
       "    </tr>\n",
       "  </thead>\n",
       "  <tbody>\n",
       "    <tr>\n",
       "      <th>1</th>\n",
       "      <td>[0.0, 20.0)</td>\n",
       "      <td>164</td>\n",
       "      <td>0.229692</td>\n",
       "    </tr>\n",
       "    <tr>\n",
       "      <th>0</th>\n",
       "      <td>[20.0, 40.0)</td>\n",
       "      <td>387</td>\n",
       "      <td>0.542017</td>\n",
       "    </tr>\n",
       "    <tr>\n",
       "      <th>2</th>\n",
       "      <td>[40.0, 60.0)</td>\n",
       "      <td>137</td>\n",
       "      <td>0.191877</td>\n",
       "    </tr>\n",
       "    <tr>\n",
       "      <th>3</th>\n",
       "      <td>[60.0, inf)</td>\n",
       "      <td>26</td>\n",
       "      <td>0.036415</td>\n",
       "    </tr>\n",
       "  </tbody>\n",
       "</table>\n",
       "</div>"
      ],
      "text/plain": [
       "             계급   도수      상대도수\n",
       "1   [0.0, 20.0)  164  0.229692\n",
       "0  [20.0, 40.0)  387  0.542017\n",
       "2  [40.0, 60.0)  137  0.191877\n",
       "3   [60.0, inf)   26  0.036415"
      ]
     },
     "execution_count": 30,
     "metadata": {},
     "output_type": "execute_result"
    }
   ],
   "source": [
    "result2 = pd.cut(titanic['Age'], bins=[0, 20, 40, 60, float('inf')], right=False)\n",
    "freq2 = pd.DataFrame(result2.value_counts()).reset_index()\n",
    "freq2 = freq2.rename(columns={'index':'계급', 'Age':'도수'}).sort_values(by='계급')\n",
    "\n",
    "freq2['상대도수'] = freq2['도수'].apply(lambda x : x / freq2['도수'].sum())\n",
    "freq2"
   ]
  },
  {
   "cell_type": "markdown",
   "id": "a07a9661",
   "metadata": {},
   "source": [
    "### 계산적 대푯값"
   ]
  },
  {
   "cell_type": "code",
   "execution_count": 32,
   "id": "dd615eae",
   "metadata": {},
   "outputs": [
    {
     "name": "stdout",
     "output_type": "stream",
     "text": [
      "4.166666666666667\n",
      "3.2598444275495897\n",
      "2.5174825174825175\n",
      "3.0\n",
      "5.082650227325635\n"
     ]
    }
   ],
   "source": [
    "ex = [1,2,3,4,5,10]\n",
    "\n",
    "# 산술평균, 기하평균, 조화평균\n",
    "print(np.mean(ex))\n",
    "print(mstats.gmean(ex))\n",
    "print(mstats.hmean(ex))\n",
    "\n",
    "# 절사평균\n",
    "print(mstats.tmean(ex, (1,5)))\n",
    "\n",
    "# 평방평균 : 산술평균의 제곱근 : 비정상적 관측치 영향 부각\n",
    "print(np.sqrt(np.mean(np.array(ex)**2)))"
   ]
  },
  {
   "cell_type": "markdown",
   "id": "67e99e34",
   "metadata": {},
   "source": [
    "### 위치적 대표값"
   ]
  },
  {
   "cell_type": "code",
   "execution_count": 33,
   "id": "aee26c6e",
   "metadata": {},
   "outputs": [
    {
     "name": "stdout",
     "output_type": "stream",
     "text": [
      "14.4542\n",
      "8.05\n",
      "7.9104\n",
      "14.4542\n",
      "31.0\n",
      "14.4542\n",
      "31.0\n"
     ]
    }
   ],
   "source": [
    "# 중위수, 최빈값, 1사분위수, 2사분위수, 3사분위수, 50백분위수, 75백분위수\n",
    "print(titanic['Fare'].median())\n",
    "print(titanic['Fare'].mode()[0])\n",
    "print(titanic['Fare'].quantile(q=0.25))\n",
    "print(titanic['Fare'].quantile(q=0.5))\n",
    "print(titanic['Fare'].quantile(q=0.75))\n",
    "print(np.percentile(titanic['Fare'], 50))\n",
    "print(np.percentile(titanic['Fare'], 75))"
   ]
  },
  {
   "cell_type": "markdown",
   "id": "8b9fb05b",
   "metadata": {},
   "source": [
    "### 절대적 산포도"
   ]
  },
  {
   "cell_type": "code",
   "execution_count": 40,
   "id": "21b4f9af",
   "metadata": {},
   "outputs": [
    {
     "name": "stdout",
     "output_type": "stream",
     "text": [
      "range 512.3292\n",
      "iqr 23.0896\n",
      "평균편차 28.163691848778324\n",
      "사분편차 11.5448\n",
      "모분산 2466.6653116850434\n",
      "표본분산 2469.436845743117\n",
      "모표준편차 49.66553444477411\n",
      "표본표준편차 49.693428597180905\n"
     ]
    }
   ],
   "source": [
    "print('range', titanic['Fare'].max() - titanic['Fare'].min())\n",
    "\n",
    "iqr = titanic['Fare'].quantile(0.75) - titanic['Fare'].quantile(0.25)\n",
    "print('iqr', iqr)\n",
    "\n",
    "md = np.mean(np.abs(np.array(titanic['Fare'])-np.mean(titanic['Fare'])))\n",
    "print('평균편차', md)\n",
    "print('사분편차', iqr/2)\n",
    "\n",
    "print('모분산', titanic['Fare'].var(ddof=0))\n",
    "print('표본분산', titanic['Fare'].var(ddof=1))\n",
    "\n",
    "print('모표준편차', titanic['Fare'].std(ddof=0))\n",
    "print('표본표준편차', titanic['Fare'].std(ddof=1))"
   ]
  },
  {
   "cell_type": "markdown",
   "id": "725dd511",
   "metadata": {},
   "source": [
    "### 상대적 산포도\n",
    "- 사분위 편차계수 : 사분편차 / 중앙값\n",
    "- 평균편차계수 : 평균편차 / 산술평균\n",
    "- 변동계수 : 표준편차 / 산술평균 => 자료의 단위가 다르거나 평균의 차이가 클 때 평균에 대한 표준편차의 상대적 크기 비교"
   ]
  },
  {
   "cell_type": "code",
   "execution_count": 41,
   "id": "15a24960",
   "metadata": {},
   "outputs": [
    {
     "name": "stdout",
     "output_type": "stream",
     "text": [
      "사분위편차계수 0.7987159441546402\n",
      "평균편차계수 0.8745345290361098\n",
      "모집단변동계수 1.5422063630081684\n",
      "표본집단변동계수 1.5430725278408517\n"
     ]
    }
   ],
   "source": [
    "print('사분위편차계수', iqr/2/titanic['Fare'].median())\n",
    "print('평균편차계수', md/titanic['Fare'].mean())\n",
    "print('모집단변동계수', titanic['Fare'].std(ddof=0)/titanic['Fare'].mean())\n",
    "print('표본집단변동계수', titanic['Fare'].std(ddof=1)/titanic['Fare'].mean())"
   ]
  },
  {
   "cell_type": "markdown",
   "id": "cac38365",
   "metadata": {},
   "source": [
    "### 왜도, 첨도\n",
    "- 첨도 3 : 정규분포"
   ]
  },
  {
   "cell_type": "code",
   "execution_count": 44,
   "id": "f6d412e3",
   "metadata": {},
   "outputs": [
    {
     "name": "stdout",
     "output_type": "stream",
     "text": [
      "왜도, 첨도\n",
      "4.787316519674893 33.39814088089868\n",
      "bias 차이\n",
      "4.787316519674893 33.39814088089869\n",
      "4.7792532923723545 33.20428925264474\n"
     ]
    }
   ],
   "source": [
    "print('왜도, 첨도')\n",
    "print(titanic['Fare'].skew(), titanic['Fare'].kurt())\n",
    "\n",
    "print('bias 차이')\n",
    "print(stats.skew(titanic['Fare'], bias=False), stats.kurtosis(titanic['Fare'], bias=False))\n",
    "print(stats.skew(titanic['Fare'], bias=True), stats.kurtosis(titanic['Fare'], bias=True))\n"
   ]
  },
  {
   "cell_type": "markdown",
   "id": "73621a84",
   "metadata": {},
   "source": [
    "### 상관계수 : 피어슨의 적률 상관계수"
   ]
  },
  {
   "cell_type": "code",
   "execution_count": 46,
   "id": "5cd84941",
   "metadata": {},
   "outputs": [
    {
     "data": {
      "text/plain": [
       "(0.09314251789411518, 0.012904553407042496)"
      ]
     },
     "execution_count": 46,
     "metadata": {},
     "output_type": "execute_result"
    }
   ],
   "source": [
    "titanic = titanic.dropna(axis=0)\n",
    "corr, p = stats.pearsonr(titanic['Age'], titanic['Fare'])\n",
    "corr, p"
   ]
  },
  {
   "cell_type": "markdown",
   "id": "bbbf2d94",
   "metadata": {},
   "source": [
    "### 양적변수 탐색 시각화"
   ]
  },
  {
   "cell_type": "code",
   "execution_count": 48,
   "id": "e4250eb8",
   "metadata": {},
   "outputs": [
    {
     "data": {
      "image/png": "[encoded data removed]",
      "text/plain": [
       "<Figure size 540x360 with 1 Axes>"
      ]
     },
     "metadata": {
      "needs_background": "light"
     },
     "output_type": "display_data"
    }
   ],
   "source": [
    "import stemgraphic\n",
    "stemgraphic.stem_graphic(titanic['Age'])\n",
    "plt.show()"
   ]
  },
  {
   "cell_type": "code",
   "execution_count": 49,
   "id": "84eea912",
   "metadata": {},
   "outputs": [
    {
     "data": {
      "image/png": "[encoded data removed]",
      "text/plain": [
       "<Figure size 864x288 with 3 Axes>"
      ]
     },
     "metadata": {
      "needs_background": "light"
     },
     "output_type": "display_data"
    }
   ],
   "source": [
    "fig, ax = plt.subplots(1,3,figsize=(12,4))\n",
    "ax[0].hist(titanic['Age'])\n",
    "ax[0].set_title('normal')\n",
    "ax[1].hist(titanic['Age'], bins=4)\n",
    "ax[1].set_title('bins 4 histogram')\n",
    "ax[2].hist(titanic['Age'], bins=[i for i in range(0, 90, 10)])\n",
    "ax[2].set_title('bins range histogram')\n",
    "plt.show()"
   ]
  },
  {
   "cell_type": "code",
   "execution_count": 55,
   "id": "290cac9b",
   "metadata": {},
   "outputs": [
    {
     "name": "stdout",
     "output_type": "stream",
     "text": [
      "         계급   도수  누적도수   계급값\n",
      "4   (0, 10]   64    64   5.0\n",
      "2  (10, 20]  115   179  15.0\n",
      "0  (20, 30]  230   409  25.0\n",
      "1  (30, 40]  154   563  35.0\n",
      "3  (40, 50]   86   649  45.0\n",
      "5  (50, 60]   42   691  55.0\n",
      "6  (60, 70]   16   707  65.0\n",
      "7  (70, 80]    5   712  75.0\n"
     ]
    },
    {
     "data": {
      "image/png": "[encoded data removed]",
      "text/plain": [
       "<Figure size 360x360 with 1 Axes>"
      ]
     },
     "metadata": {
      "needs_background": "light"
     },
     "output_type": "display_data"
    }
   ],
   "source": [
    "result1 = pd.cut(titanic['Age'], bins=[i for i in range(0, 90, 10)])\n",
    "freq1 = pd.DataFrame(result1.value_counts()).reset_index().rename(columns={'index':'계급', 'Age':'도수'}).sort_values(by='계급')\n",
    "freq1['누적도수'] = freq1['도수'].cumsum()\n",
    "freq1['계급값'] = freq1['계급'].apply(lambda x: np.median([x.left, x.right]))\n",
    "print(freq1)\n",
    "\n",
    "plt.plot(freq1['계급값'], freq1['누적도수'], marker='o');\n",
    "plt.xticks(freq1['계급값'])\n",
    "plt.xlabel('누적도수')\n",
    "plt.ylabel('계급값')\n",
    "plt.title('Ogive')\n",
    "plt.show()"
   ]
  },
  {
   "cell_type": "code",
   "execution_count": 60,
   "id": "e6cb06e7",
   "metadata": {},
   "outputs": [
    {
     "data": {
      "image/png": "[encoded data removed]",
      "text/plain": [
       "<Figure size 360x360 with 1 Axes>"
      ]
     },
     "metadata": {
      "needs_background": "light"
     },
     "output_type": "display_data"
    }
   ],
   "source": [
    "titanic[['Age']].boxplot(vert=False, medianprops={'color':'red'})\n",
    "plt.title('box plot')\n",
    "plt.yticks(ticks=[1], labels=['Age'])\n",
    "plt.show()"
   ]
  },
  {
   "cell_type": "code",
   "execution_count": 68,
   "id": "3dc61163",
   "metadata": {},
   "outputs": [
    {
     "data": {
      "image/png": "[encoded data removed]",
      "text/plain": [
       "<Figure size 576x288 with 2 Axes>"
      ]
     },
     "metadata": {
      "needs_background": "light"
     },
     "output_type": "display_data"
    }
   ],
   "source": [
    "fig, ax = plt.subplots(1,2,figsize=(8,4))\n",
    "plt.subplots_adjust(wspace=0.3)\n",
    "\n",
    "ax[0].scatter(titanic['Age'], titanic['Fare']);\n",
    "ax[0].set_title(f\"Scatter plot (corr: {stats.pearsonr(titanic['Age'], titanic['Fare'])[0]: .2f}, p: {stats.pearsonr(titanic['Age'], titanic['Fare'])[1]: .2f})\")\n",
    "ax[0].set_xlabel('Age')\n",
    "ax[0].set_ylabel('Fare')\n",
    "\n",
    "Xs = [1,3,5,7,9,15,20,10]; Ys = [10,20,45,76,70,100,80,90]\n",
    "ax[1].scatter(Xs, Ys)\n",
    "ax[1].set_title(f\"Scatter plot (corr: {stats.pearsonr(Xs, Ys)[0]:.2f}), p: {stats.pearsonr(Xs, Ys)[1]:.2f}\")\n",
    "ax[1].set_xlabel('Xs')\n",
    "ax[1].set_ylabel(\"Ys\")\n",
    "\n",
    "plt.show()\n"
   ]
  },
  {
   "cell_type": "code",
   "execution_count": 65,
   "id": "8d0e0c02",
   "metadata": {},
   "outputs": [
    {
     "data": {
      "text/plain": [
       "0.09314251789411518"
      ]
     },
     "execution_count": 65,
     "metadata": {},
     "output_type": "execute_result"
    }
   ],
   "source": []
  },
  {
   "cell_type": "code",
   "execution_count": null,
   "id": "20c0c1c6",
   "metadata": {},
   "outputs": [],
   "source": []
  },
  {
   "cell_type": "code",
   "execution_count": null,
   "id": "3ceb4fca",
   "metadata": {},
   "outputs": [],
   "source": []
  },
  {
   "cell_type": "code",
   "execution_count": null,
   "id": "97cd3aa1",
   "metadata": {},
   "outputs": [],
   "source": []
  },
  {
   "cell_type": "code",
   "execution_count": null,
   "id": "7117c7f9",
   "metadata": {},
   "outputs": [],
   "source": []
  },
  {
   "cell_type": "code",
   "execution_count": null,
   "id": "d6d6d7d7",
   "metadata": {},
   "outputs": [],
   "source": []
  },
  {
   "cell_type": "code",
   "execution_count": null,
   "id": "58b86a85",
   "metadata": {},
   "outputs": [],
   "source": []
  },
  {
   "cell_type": "code",
   "execution_count": null,
   "id": "7386a72c",
   "metadata": {},
   "outputs": [],
   "source": []
  },
  {
   "cell_type": "code",
   "execution_count": null,
   "id": "00bf9649",
   "metadata": {},
   "outputs": [],
   "source": []
  }
 ],
 "metadata": {
  "kernelspec": {
   "display_name": "adp",
   "language": "python",
   "name": "adp_class"
  },
  "language_info": {
   "codemirror_mode": {
    "name": "ipython",
    "version": 3
   },
   "file_extension": ".py",
   "mimetype": "text/x-python",
   "name": "python",
   "nbconvert_exporter": "python",
   "pygments_lexer": "ipython3",
   "version": "3.7.13"
  }
 },
 "nbformat": 4,
 "nbformat_minor": 5
}
