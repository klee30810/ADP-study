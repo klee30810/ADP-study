{
 "cells": [
  {
   "cell_type": "code",
   "execution_count": 39,
   "id": "99682e05",
   "metadata": {},
   "outputs": [],
   "source": [
    "import pandas as pd\n",
    "import numpy as np\n",
    "import math\n",
    "np.random.seed(1)\n",
    "\n",
    "import matplotlib.pyplot as plt\n",
    "import seaborn as sns\n",
    "import seaborn.objects as so\n",
    "\n",
    "import warnings\n",
    "warnings.filterwarnings('ignore')\n",
    "\n",
    "from scipy import stats\n",
    "import pingouin as pg\n",
    "import statsmodels.api as sm\n",
    "import statsmodels.formula.api as smf"
   ]
  },
  {
   "cell_type": "markdown",
   "id": "3d3d313d",
   "metadata": {},
   "source": [
    "# Chap 14. 비모수검정\n",
    "- 추론통계 : 표본데이터를 바탕으로 모집단에 대한 추론 수행\n",
    "    - 모수통계 : 표본데이터가 정규분포를 따른다는 가정 하에서 모집단 모수와 신뢰구간에 대한 추정\n",
    "    - 비모수통계 : 표본데이터에 대한 엄격한 가정을 요규하지 않음. 모집단의 분포에 대해 잘 모르거나 표본 데이터가 정규분포를 따른다고 가정하기 어렵거나(편향), 표본 크기가 작거나, 이상점이 문제가 되거나, 전통적 통계적 검정방법이 존재하지 않을 경우 사용\n",
    "- 비모수 검정 :  표본 데이터가 특정 분포를 가질것 요구하지 않음, 모수통계 가정(정규변환, 이상치제거, 데이터 증가) 충족 가능 시 모수통계 이용 바람직\n",
    "    1) 순위검정 : 데이터의 순위 이용\n",
    "    2) 퍼뮤테이션 검정 & 부트스트래핑 : 데이터 표본의 재추출을 통해 생성한 경험적 분포 이용\n",
    "     \n",
    "## 14.1 순위검정\n",
    "\n",
    "### 독립표본 평균검정 : \n",
    "- 윌콕슨 순위합 검정 : 두 집단 간 차이 검정(두 집단이 동일한 분포의 모집단으로부터 생성되었는가, 중위수 기반), **모수 통계의 독립표본 T검정에 해당**\n",
    "\n",
    "1) 순위부여 : 두 집단의 관측값을 통합하고 작은 값에서부터 큰 값 순으로 순위부여\n",
    "\n",
    "2) 집단별 순위합 평균 계산\n",
    "\n",
    "3) 두 집단의 순위합 평균이 같은지 검정 : 중위수가 동일하다는 귀무가설이 사실이면, 두 집단 순위합 평균이 비슷할 것 기대\n",
    "\n",
    "- 크루스칼-월리스 검정 : 세 개 이상의 집단간 차이 검정, **모수통계 일원분산분석**\n",
    "\n",
    "1) 순위부여 : 두 집단의 관측값을 통합하고 작은 값에서부터 큰 값 순으로 순위부여\n",
    "\n",
    "2) 집단별 순위합 평균 계산\n",
    "\n",
    "3) 두 집단의 순위합 평균이 같은지 검정 : 모든 집단 순위합 평균의 차이가 0인지 검정\n",
    "\n",
    "### 대응표본 평균검정 \n",
    "- 윌콕슨 부호순위 검정 : 서로다른 집단에 속한 관측값이 짝을 이루고 있는 경우 or 관측값이 반복적으로 측정된 경우의 두 집단 간 차이 검정, **모수통계 대응표본 T검정**\n",
    "\n",
    "1) 짝을 이룬 값 간 차이 계산\n",
    "\n",
    "2) 차이에 대한 순위 부여 : 차이가 0이 아닌 모든 케이스에 대해 절대값 기준으로 작은 값에서부터 큰 값의 순서로 순위 부여\n",
    "\n",
    "3) +/-의 차이를 갖는 케이스에 대해 각각 평균 순위 계산\n",
    "\n",
    "4) 두 집단의 평균 순위가 같은 지 검정 : 대응표본 각 쌍의 짝을 이룬 값 간 차이의 중위수가 0이라는 귀무가설 검정\n",
    "\n",
    "- 프리드먼 검정 : 반복측정된 세 개 이상의 집단간 차이 검정, **모수통계의 반복측정 분산분석**\n",
    "\n",
    "1) 각 케이스 별/집단 별 순위 부여 : 각 케이스를 대상으로 반복측정된 변수(집단)에 대한 순위 부여\n",
    "\n",
    "2) 집단별 평균 순위 계산\n",
    "\n",
    "3) 모든 집단간 평균 순위가 같은지 검정 : 모든 집단의 평균 순위의 차이가 0인지 검정"
   ]
  },
  {
   "cell_type": "code",
   "execution_count": 3,
   "id": "9ace64ab",
   "metadata": {},
   "outputs": [
    {
     "name": "stdout",
     "output_type": "stream",
     "text": [
      "0.055552000000000004 0.038201\n",
      "RanksumsResult(statistic=np.float64(3.7492606798089265), pvalue=np.float64(0.00017735665596242502))\n"
     ]
    }
   ],
   "source": [
    "# 독립표본 평균검정\n",
    "# 수감률이 지역별로 다른가\n",
    "crime = pd.read_csv('../data/kwak/UScrime.csv').drop('rownames', axis=1)\n",
    "print(crime.loc[crime['So']==1,'Prob'].median(), crime.loc[crime['So']==0,'Prob'].median())\n",
    "print(stats.ranksums(crime.loc[crime['So']==1,'Prob'], crime.loc[crime['So']==0,'Prob']))"
   ]
  },
  {
   "cell_type": "code",
   "execution_count": 4,
   "id": "9d0b2682",
   "metadata": {},
   "outputs": [
    {
     "name": "stdout",
     "output_type": "stream",
     "text": [
      "       Ozone\n",
      "Month       \n",
      "5       18.0\n",
      "6       23.0\n",
      "7       60.0\n",
      "8       45.0\n",
      "9       23.0\n",
      "KruskalResult(statistic=np.float64(26.308626792507006), pvalue=np.float64(2.741846175019204e-05))\n"
     ]
    }
   ],
   "source": [
    "# 독립표본 평균검정\n",
    "# 변수 여러개\n",
    "airqual = pd.read_csv(\"../data/kwak/airquality.csv\").drop('rownames', axis=1).dropna()\n",
    "print(airqual[['Month','Ozone']].groupby('Month').median())\n",
    "print(stats.kruskal(airqual.loc[airqual['Month']==5, 'Ozone'], airqual.loc[airqual['Month']==6, 'Ozone'], airqual.loc[airqual['Month']==7, 'Ozone'], airqual.loc[airqual['Month']==8, 'Ozone'], airqual.loc[airqual['Month']==9, 'Ozone']))"
   ]
  },
  {
   "cell_type": "code",
   "execution_count": 5,
   "id": "0fce0f12",
   "metadata": {},
   "outputs": [
    {
     "name": "stdout",
     "output_type": "stream",
     "text": [
      "Y1    102.95\n",
      "Y2     92.95\n",
      "dtype: float64\n",
      "WilcoxonResult(statistic=np.float64(96.5), pvalue=np.float64(0.0051520795710785945))\n"
     ]
    }
   ],
   "source": [
    "# 대응표본 평균검정\n",
    "# 수확량 Y1, Y2는 연속된 년도 이므로 독립이라 보기 어려움\n",
    "immer = pd.read_csv(\"../data/kwak/immer.csv\").drop('rownames', axis=1)\n",
    "print(immer[['Y1', 'Y2']].median())\n",
    "print(stats.wilcoxon(immer['Y1'], immer['Y2']))"
   ]
  },
  {
   "cell_type": "code",
   "execution_count": 6,
   "id": "4462bbae",
   "metadata": {},
   "outputs": [
    {
     "name": "stdout",
     "output_type": "stream",
     "text": [
      "FriedmanchisquareResult(statistic=np.float64(11.400000000000006), pvalue=np.float64(0.003345965457471265))\n"
     ]
    }
   ],
   "source": [
    "# 대응표본 평균검정\n",
    "# 3조건에 대한 짝 데이터\n",
    "data = {\n",
    "    \"cond1\" : np.random.normal(loc=5, scale=1, size=10),\n",
    "    \"cond2\" : np.random.normal(loc=6, scale=1, size=10),\n",
    "    \"cond3\" : np.random.normal(loc=7, scale=1, size=10),\n",
    "}\n",
    "\n",
    "print(stats.friedmanchisquare(data['cond1'], data['cond2'], data['cond3']))"
   ]
  },
  {
   "cell_type": "markdown",
   "id": "738dda93",
   "metadata": {},
   "source": [
    "## 14.2 퍼뮤테이션 검정\n",
    "- 무작위로 배열한 표본 데이터로부터 귀무가설이 사실이라는 가정 하에서 표본통계량 분포를 생성한 후 통계적 검정\n",
    "- 정확검정 exact test / 근사검정 approximate test\n",
    "\n",
    "1) 검정통계량 $t=\\frac{\\bar{X}-\\mu}{\\frac{s}{\\sqrt{n}}}$ 계산\n",
    "\n",
    "2) 전체 중 일부분을 무작위로 선정하여 A case에, 나머지를 B case에 할당한 후, 이런 방식으로 만들어진 새로운 데이터에 대해 t값 다시 계산\n",
    "\n",
    "3) 일부분을 A,B에 할당하는 가능한 모든 경우의 수에 대해 새로운 t값 계산하는 과정 반복 수행 $(_nC_k)$\n",
    "    - 너무 많은 케이스가 있을 경우, 몬테카를로 시뮬레이션도 진행\n",
    "    \n",
    "4) t값을 작은 값에서 큰 값 순서대로 배열하여 확률분포(경험적 분포) 생성\n",
    "\n",
    "5) 원래 데이터의 검정통계량 t값이 확률분포 상 가운데 95% 영역 바깥에 위치하면 A, B의 모집단 평균이 같다는 귀무가설 기각"
   ]
  },
  {
   "cell_type": "code",
   "execution_count": 37,
   "id": "1bb15e9e",
   "metadata": {},
   "outputs": [
    {
     "name": "stdout",
     "output_type": "stream",
     "text": [
      "0.03968253968253968\n",
      "(np.float64(-12.799999999999997), 0.0398)\n",
      "TtestResult(statistic=np.float64(-2.6666666666666656), pvalue=np.float64(0.02850921057299458), df=np.float64(8.0))\n"
     ]
    }
   ],
   "source": [
    "# 두 집단 permutation 독립표본 평균검정\n",
    "math_data = pd.DataFrame({'area' : ['A', 'A', 'A', 'A', 'A', 'B', 'B', 'B', 'B', 'B'], 'score' : [73, 68, 79, 85, 65, 77, 91, 88, 83, 95]})\n",
    "\n",
    "def mean_diff(x, y):\n",
    "    return np.mean(x) - np.mean(y)\n",
    "\n",
    "def median_diff(x, y):\n",
    "    return np.median(x) - np.median(y)\n",
    "\n",
    "def permutation_test_manual(data1, data2, n_permutations=10000):\n",
    "    observed_diff = np.mean(data1) - np.mean(data2)\n",
    "    combined = np.concatenate([data1, data2])\n",
    "\n",
    "    count = 0\n",
    "    for _ in range(n_permutations):\n",
    "        np.random.shuffle(combined)\n",
    "        permuted_diff = np.mean(combined[:len(data1)]) - np.mean(combined[len(data1):])\n",
    "        if abs(permuted_diff) >= abs(observed_diff):\n",
    "            count += 1\n",
    "\n",
    "    p_value = count / n_permutations\n",
    "    return observed_diff, p_value\n",
    "\n",
    "print(stats.permutation_test((math_data.loc[math_data['area']=='A', 'score'], math_data.loc[math_data['area']=='B', 'score']), statistic=mean_diff, permutation_type='independent', n_resamples=10000).pvalue)\n",
    "print(permutation_test_manual(math_data.loc[math_data['area']=='A', 'score'], math_data.loc[math_data['area']=='B', 'score']))\n",
    "print(stats.ttest_ind(math_data.loc[math_data['area']=='A', 'score'], math_data.loc[math_data['area']=='B', 'score']))"
   ]
  },
  {
   "cell_type": "code",
   "execution_count": 67,
   "id": "8b24105e",
   "metadata": {},
   "outputs": [
    {
     "name": "stdout",
     "output_type": "stream",
     "text": [
      "FriedmanchisquareResult(statistic=np.float64(73.78571428571435), pvalue=np.float64(9.498077769131953e-17))\n",
      "KruskalResult(statistic=np.float64(96.93743600064833), pvalue=np.float64(8.91873433246198e-22))\n"
     ]
    }
   ],
   "source": [
    "# 두 집단 이상일 경우 : Kruskal(independent), Friedman(paired)\n",
    "from sklearn.datasets import load_iris\n",
    "\n",
    "iris = load_iris()\n",
    "iris_df = pd.DataFrame(data=iris.data, columns=iris.feature_names)\n",
    "iris_df['species'] = iris.target\n",
    "iris_df['species'] = iris_df['species'].map({0: 'setosa', 1: 'versicolor', 2: 'virginica'})\n",
    "iris_data = iris_df[['sepal length (cm)', 'species']]\n",
    "\n",
    "# 1. 각 그룹별 데이터 추출\n",
    "groups = [iris_data.loc[iris_data[\"species\"] == species, \"sepal length (cm)\"].values for species in iris_data[\"species\"].unique()]\n",
    "\n",
    "print(stats.friedmanchisquare(*groups))\n",
    "print(stats.kruskal(*groups))"
   ]
  },
  {
   "cell_type": "markdown",
   "id": "49d6ed44",
   "metadata": {},
   "source": [
    "## 14.3 부트스트래핑\n",
    "(https://velog.io/@lazy_learner/%EA%B0%80%EC%84%A4%EA%B2%80%EC%A0%95-t-test-%EB%A7%90%EA%B3%A0-%EC%88%9C%EC%97%B4-%EA%B2%80%EC%A0%95-%EC%96%B4%EB%95%8C%EC%9A%94)\n",
    "- 검정통계량의 분포를 시각화 함으로써 실험 결과의 검정력 설명할 떄 직관적으로 이해를 도울 수 있음\n",
    "- H0 : 각 집단 실험 결과에 차이가 없는 동일한 그룹\n",
    "### 절차\n",
    "1. 가설검정에 사용한 각 집단의 샘플 데이터들을 하나로 합쳐서 잘 섞는다.\n",
    "2. 통제 집단(control group)과 동일한 크기의 표본을 복원 추출하고 통계량(A)을 계산한다.\n",
    "3. 실험 집단(test group)과 동일한 크기의 표본을 복원 추출하고 통계량(B)을 계산한다.\n",
    "4. A와 B의 차이를 기록한다. : 한번 쯤을 나타날 만한 값(검정통계량)\n",
    "5. 1~4번을 N번 반복하여 검정 통계량 분포를 생성하고, 두 집단의 기존 관측값의 차이가 해당 분포 내 어느 위치에 있는지 확인한다.\n",
    "###\n",
    "- 부트스트랩 : 무작위 복원 추출의 n번 반복, 현재 데이터에서 발생가능한 변동성을 알아보기 위해 반복적으로 표본 추출\n",
    "=> 모집단 통계량 추정을 위해 현재 보유한 데이터로 표본 통계량을 무수히 많이 추정, 확률의 독립성 및 가정 만족\n"
   ]
  },
  {
   "cell_type": "code",
   "execution_count": 107,
   "id": "35ae8604",
   "metadata": {},
   "outputs": [
    {
     "name": "stdout",
     "output_type": "stream",
     "text": [
      "1.934237262541905\n"
     ]
    },
    {
     "data": {
      "image/png": "[encoded data removed]",
      "text/plain": [
       "<Figure size 640x480 with 1 Axes>"
      ]
     },
     "metadata": {},
     "output_type": "display_data"
    }
   ],
   "source": [
    "# A, B 상품그룹 검색의 평균 체류시간 차이 검정\n",
    "## 데이터 확인\n",
    "np.random.seed(2022)\n",
    "n = 50000\n",
    "\n",
    "a = abs(np.random.normal(loc=5, scale=4, size=n))\n",
    "b = abs(np.random.normal(loc=7, scale=5, size=n))\n",
    "\n",
    "df_a = pd.DataFrame({\"Group\": [\"A\"] * n, \"Duration time\": a})\n",
    "df_b = pd.DataFrame({\"Group\": [\"B\"] * n, \"Duration time\": b})\n",
    "df = pd.concat([df_a, df_b], ignore_index=True)\n",
    "\n",
    "fig, ax = plt.subplots()\n",
    "sns.histplot(df_a['Duration time'], ax=ax);\n",
    "sns.histplot(df_b['Duration time'], color='red', ax=ax);\n",
    "\n",
    "print(np.mean(df_b['Duration time']) - np.mean(df_a['Duration time']))"
   ]
  },
  {
   "cell_type": "code",
   "execution_count": 108,
   "id": "919af472",
   "metadata": {},
   "outputs": [
    {
     "data": {
      "image/png": "[encoded data removed]",
      "text/plain": [
       "<Figure size 640x480 with 1 Axes>"
      ]
     },
     "metadata": {},
     "output_type": "display_data"
    }
   ],
   "source": [
    "## 순열 검정 통계량 분포 생성\n",
    "# 데이터 셔플링\n",
    "df_samples = df.sample(frac=1, ignore_index=True, random_state=1)\n",
    "n_a, n_b = df_samples['Group'].value_counts()\n",
    "\n",
    "sample_mean_list = []\n",
    "\n",
    "# 순열 검정 통계량 생성\n",
    "n_extract = 5000\n",
    "for _ in range(n):\n",
    "    sample_a = df_samples.sample(n=n_a, replace=True)['Duration time']\n",
    "    sample_b = df_samples.sample(n=n_b, replace=True)['Duration time']\n",
    "    \n",
    "    sample_mean_a = np.mean(sample_a)\n",
    "    sample_mean_b = np.mean(sample_b)\n",
    "    \n",
    "    sample_mean_list.append(sample_mean_b - sample_mean_a)\n",
    "    \n",
    "    if n == (n_extract/2):\n",
    "        print(\"half way done\")\n",
    "    \n",
    "# 분포 확인\n",
    "sns.histplot(sample_mean_list, bins=20);\n",
    "sigma_1_left = np.mean(sample_mean_list) - np.std(sample_mean_list)\n",
    "sigma_1_right = np.mean(sample_mean_list) + np.std(sample_mean_list)\n",
    "\n",
    "sigma_2_left = np.mean(sample_mean_list) - (np.std(sample_mean_list) * 2)\n",
    "sigma_2_right = np.mean(sample_mean_list) + (np.std(sample_mean_list) * 2)\n",
    "\n",
    "plt.axvline(x=sigma_1_left, ymin=0, ymax=1, color=\"g\", ls=\"--\");\n",
    "plt.axvline(x=sigma_1_right, ymin=0, ymax=1, color=\"g\", ls=\"--\");\n",
    "\n",
    "plt.axvline(x=sigma_2_left, ymin=0, ymax=1, color=\"r\", ls=\"--\");\n",
    "plt.axvline(x=sigma_2_right, ymin=0, ymax=1, color=\"r\", ls=\"--\");"
   ]
  },
  {
   "cell_type": "code",
   "execution_count": 109,
   "id": "7aae5eba",
   "metadata": {},
   "outputs": [
    {
     "name": "stdout",
     "output_type": "stream",
     "text": [
      "0.051810600769287715 0.026004018267985252\n"
     ]
    }
   ],
   "source": [
    "print(sigma_2_right, sigma_1_right)"
   ]
  },
  {
   "cell_type": "code",
   "execution_count": null,
   "id": "4df02eaf",
   "metadata": {},
   "outputs": [],
   "source": []
  },
  {
   "cell_type": "code",
   "execution_count": null,
   "id": "b07e7d0a",
   "metadata": {},
   "outputs": [],
   "source": []
  },
  {
   "cell_type": "code",
   "execution_count": null,
   "id": "f3948b0b",
   "metadata": {},
   "outputs": [],
   "source": []
  }
 ],
 "metadata": {
  "kernelspec": {
   "display_name": "adp",
   "language": "python",
   "name": "adp_class"
  },
  "language_info": {
   "codemirror_mode": {
    "name": "ipython",
    "version": 3
   },
   "file_extension": ".py",
   "mimetype": "text/x-python",
   "name": "python",
   "nbconvert_exporter": "python",
   "pygments_lexer": "ipython3",
   "version": "3.10.16"
  }
 },
 "nbformat": 4,
 "nbformat_minor": 5
}
