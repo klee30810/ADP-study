{
 "cells": [
  {
   "cell_type": "code",
   "execution_count": 2,
   "id": "08400acc",
   "metadata": {},
   "outputs": [],
   "source": [
    "## https://truman.tistory.com/103 그래프 연습!!\n",
    "from matplotlib import font_manager, rc\n",
    "# font_name = font_manager.FontProperties(fname='C:\\windows/fonts/malgun.ttf').get_name()\n",
    "# rc('font', family=font_name)"
   ]
  },
  {
   "cell_type": "code",
   "execution_count": 3,
   "id": "e3896859",
   "metadata": {},
   "outputs": [],
   "source": [
    "import pandas as pd\n",
    "import numpy as np\n",
    "import matplotlib.pyplot as plt\n",
    "import seaborn as sns\n",
    "\n",
    "import warnings\n",
    "warnings.filterwarnings('ignore')\n",
    "\n",
    "from scipy import stats"
   ]
  },
  {
   "cell_type": "markdown",
   "id": "8ae0e34f",
   "metadata": {},
   "source": [
    "# 5. 독립성검정과 적합성 검정\n",
    "## 5.1 카이제곱 검정\n",
    "- chi-square test : 교차표상의 빈도를 바탕으로 수행\n",
    "    - 교차표를 이용하면 범주형으로 수집된 두 변수의 범주 조합에 따른 조합별 빈도를 살펴볼 수 있으며, 이를 통해 두 변수간 관계 파악 가능\n",
    "- 독립성 검정 : 두 범주형 변수 간의 관련성이 모집단에서 존재하는지 검정\n",
    "- 적합성 검정 : 범주별 빈도를 바탕으로 모집단에서 기대되는 비율 분포가 존재하는지 검정"
   ]
  },
  {
   "cell_type": "code",
   "execution_count": 4,
   "id": "ab5f3dde",
   "metadata": {},
   "outputs": [
    {
     "data": {
      "text/html": [
       "<div>\n",
       "<style scoped>\n",
       "    .dataframe tbody tr th:only-of-type {\n",
       "        vertical-align: middle;\n",
       "    }\n",
       "\n",
       "    .dataframe tbody tr th {\n",
       "        vertical-align: top;\n",
       "    }\n",
       "\n",
       "    .dataframe thead th {\n",
       "        text-align: right;\n",
       "    }\n",
       "</style>\n",
       "<table border=\"1\" class=\"dataframe\">\n",
       "  <thead>\n",
       "    <tr style=\"text-align: right;\">\n",
       "      <th></th>\n",
       "      <th>with seatbelt</th>\n",
       "      <th>without seatbelt</th>\n",
       "      <th>All</th>\n",
       "    </tr>\n",
       "    <tr>\n",
       "      <th>1</th>\n",
       "      <th></th>\n",
       "      <th></th>\n",
       "      <th></th>\n",
       "    </tr>\n",
       "  </thead>\n",
       "  <tbody>\n",
       "    <tr>\n",
       "      <th>dead</th>\n",
       "      <td>47</td>\n",
       "      <td>135</td>\n",
       "      <td>182</td>\n",
       "    </tr>\n",
       "    <tr>\n",
       "      <th>major injury</th>\n",
       "      <td>151</td>\n",
       "      <td>312</td>\n",
       "      <td>463</td>\n",
       "    </tr>\n",
       "    <tr>\n",
       "      <th>minor injury</th>\n",
       "      <td>1443</td>\n",
       "      <td>1781</td>\n",
       "      <td>3224</td>\n",
       "    </tr>\n",
       "    <tr>\n",
       "      <th>All</th>\n",
       "      <td>1641</td>\n",
       "      <td>2228</td>\n",
       "      <td>3869</td>\n",
       "    </tr>\n",
       "  </tbody>\n",
       "</table>\n",
       "</div>"
      ],
      "text/plain": [
       "0             with seatbelt  without seatbelt   All\n",
       "1                                                  \n",
       "dead                     47               135   182\n",
       "major injury            151               312   463\n",
       "minor injury           1443              1781  3224\n",
       "All                    1641              2228  3869"
      ]
     },
     "execution_count": 4,
     "metadata": {},
     "output_type": "execute_result"
    }
   ],
   "source": [
    "data = pd.DataFrame([['with seatbelt', 'minor injury', 1443], ['with seatbelt', 'major injury', 151], ['with seatbelt', 'dead', 47], ['without seatbelt', 'minor injury', 1781], ['without seatbelt', 'major injury', 312], ['without seatbelt', 'dead', 135]])\n",
    "survivors = pd.crosstab(columns=data[0], index=data[1], values=data[2], aggfunc='sum', margins=True)\n",
    "\n",
    "survivors"
   ]
  },
  {
   "cell_type": "code",
   "execution_count": 5,
   "id": "ea79a450",
   "metadata": {},
   "outputs": [
    {
     "data": {
      "text/html": [
       "<div>\n",
       "<style scoped>\n",
       "    .dataframe tbody tr th:only-of-type {\n",
       "        vertical-align: middle;\n",
       "    }\n",
       "\n",
       "    .dataframe tbody tr th {\n",
       "        vertical-align: top;\n",
       "    }\n",
       "\n",
       "    .dataframe thead th {\n",
       "        text-align: right;\n",
       "    }\n",
       "</style>\n",
       "<table border=\"1\" class=\"dataframe\">\n",
       "  <thead>\n",
       "    <tr style=\"text-align: right;\">\n",
       "      <th></th>\n",
       "      <th>with seatbelt</th>\n",
       "      <th>without seatbelt</th>\n",
       "      <th>All</th>\n",
       "    </tr>\n",
       "    <tr>\n",
       "      <th>1</th>\n",
       "      <th></th>\n",
       "      <th></th>\n",
       "      <th></th>\n",
       "    </tr>\n",
       "  </thead>\n",
       "  <tbody>\n",
       "    <tr>\n",
       "      <th>dead</th>\n",
       "      <td>0.028641</td>\n",
       "      <td>0.060592</td>\n",
       "      <td>0.047041</td>\n",
       "    </tr>\n",
       "    <tr>\n",
       "      <th>major injury</th>\n",
       "      <td>0.092017</td>\n",
       "      <td>0.140036</td>\n",
       "      <td>0.119669</td>\n",
       "    </tr>\n",
       "    <tr>\n",
       "      <th>minor injury</th>\n",
       "      <td>0.879342</td>\n",
       "      <td>0.799372</td>\n",
       "      <td>0.833290</td>\n",
       "    </tr>\n",
       "  </tbody>\n",
       "</table>\n",
       "</div>"
      ],
      "text/plain": [
       "0             with seatbelt  without seatbelt       All\n",
       "1                                                      \n",
       "dead               0.028641          0.060592  0.047041\n",
       "major injury       0.092017          0.140036  0.119669\n",
       "minor injury       0.879342          0.799372  0.833290"
      ]
     },
     "execution_count": 5,
     "metadata": {},
     "output_type": "execute_result"
    }
   ],
   "source": [
    "survivors_ratio = pd.crosstab(columns=data[0], index=data[1], values=data[2], aggfunc='sum', margins=True, normalize='columns')\n",
    "survivors_ratio"
   ]
  },
  {
   "cell_type": "code",
   "execution_count": 6,
   "id": "d63e1c66",
   "metadata": {},
   "outputs": [
    {
     "data": {
      "image/png": "[encoded data removed]",
      "text/plain": [
       "<Figure size 432x288 with 1 Axes>"
      ]
     },
     "metadata": {
      "needs_background": "light"
     },
     "output_type": "display_data"
    }
   ],
   "source": [
    "survivors.plot(kind='barh', stacked=True);"
   ]
  },
  {
   "cell_type": "markdown",
   "id": "33a9176e",
   "metadata": {},
   "source": [
    "### $\\chi^2$ 검정\n",
    "- 범주형 변수 간 관련성이 모집다에서 존재하는지 검정\n",
    "- $\\chi^2$ 검정은 기대빈도(변수 간 서로 관련성이 없을 때 기대할 수 있는 예상 빈도)와 관측빈도(교차표 상의 실제 빈도)의 비교를 통해 계산되는 $\\chi^2$ 값을 검정통계량으로 사용\n",
    "- 통계적으로 유의할 경우 변수간 관련성 존재\n",
    "$$ \\chi^2 = \\sum_{ij}\\frac{(o_{ij}-e_{ij})^2}{e_{ij}},\\quad df=(행\\ 변수의\\ 범주\\ 갯수-1)\\times (열\\ 변수의\\ 범주\\ 갯수-1)$$\n",
    "- 예시)\n",
    "  - 안전벨트 & 경상 기대빈도= 83.3% * 1641 = 1367.0\n",
    "  - 안전벨트 X & 경상 기대빈도 = 83.3% * 2228 = 1855.9\n",
    "  - 안전벨트 & 중상 기대빈도= 12.0% * 1641 = 196.9\n",
    "  - 안전벨트 X & 중상 기대빈도 = 12.0% * 2228 = 267.4\n",
    "  - 안전벨트 & 사망 기대빈도= 4.7% * 1641 = 77.1\n",
    "  - 안전벨트 X & 사망 기대빈도 = 4.7% * 2228 = 104.7\n",
    "  $\\chi^2=\\frac{(1443-1367)^2}{1367}+\\frac{(1781-1855.9)^2}{1855.9}+\\frac{(151-196.9)^2}{196.9}+\\frac{(312-167.4)^2}{267.4}+\\frac{(47-77.1)^2}{77.1}+\\frac{(135-104.7)^2}{104.7}=45.91$"
   ]
  },
  {
   "cell_type": "code",
   "execution_count": 7,
   "id": "4cebe4b6",
   "metadata": {},
   "outputs": [
    {
     "data": {
      "text/plain": [
       "1.0734213518048819e-10"
      ]
     },
     "execution_count": 7,
     "metadata": {},
     "output_type": "execute_result"
    }
   ],
   "source": [
    "1-stats.chi2.cdf(45.91, df =(3-1)*(2-1) )"
   ]
  },
  {
   "cell_type": "code",
   "execution_count": 8,
   "id": "819ee9a2",
   "metadata": {},
   "outputs": [
    {
     "data": {
      "text/plain": [
       "5.991464547107979"
      ]
     },
     "execution_count": 8,
     "metadata": {},
     "output_type": "execute_result"
    }
   ],
   "source": [
    "stats.chi2.ppf(1-0.05, df=2)"
   ]
  },
  {
   "cell_type": "markdown",
   "id": "0937556b",
   "metadata": {},
   "source": [
    "## 5.2 독립성 검정\n",
    "- 두 범주형 변수가 서로 독립인지 검정"
   ]
  },
  {
   "cell_type": "code",
   "execution_count": 12,
   "id": "9b44d0f6",
   "metadata": {},
   "outputs": [
    {
     "data": {
      "text/html": [
       "<div>\n",
       "<style scoped>\n",
       "    .dataframe tbody tr th:only-of-type {\n",
       "        vertical-align: middle;\n",
       "    }\n",
       "\n",
       "    .dataframe tbody tr th {\n",
       "        vertical-align: top;\n",
       "    }\n",
       "\n",
       "    .dataframe thead th {\n",
       "        text-align: right;\n",
       "    }\n",
       "</style>\n",
       "<table border=\"1\" class=\"dataframe\">\n",
       "  <thead>\n",
       "    <tr style=\"text-align: right;\">\n",
       "      <th></th>\n",
       "      <th>class</th>\n",
       "      <th>age</th>\n",
       "      <th>sex</th>\n",
       "      <th>survived</th>\n",
       "    </tr>\n",
       "  </thead>\n",
       "  <tbody>\n",
       "    <tr>\n",
       "      <th>0</th>\n",
       "      <td>1</td>\n",
       "      <td>1</td>\n",
       "      <td>1</td>\n",
       "      <td>1</td>\n",
       "    </tr>\n",
       "    <tr>\n",
       "      <th>1</th>\n",
       "      <td>1</td>\n",
       "      <td>1</td>\n",
       "      <td>1</td>\n",
       "      <td>1</td>\n",
       "    </tr>\n",
       "    <tr>\n",
       "      <th>2</th>\n",
       "      <td>1</td>\n",
       "      <td>1</td>\n",
       "      <td>1</td>\n",
       "      <td>1</td>\n",
       "    </tr>\n",
       "    <tr>\n",
       "      <th>3</th>\n",
       "      <td>1</td>\n",
       "      <td>1</td>\n",
       "      <td>1</td>\n",
       "      <td>1</td>\n",
       "    </tr>\n",
       "    <tr>\n",
       "      <th>4</th>\n",
       "      <td>1</td>\n",
       "      <td>1</td>\n",
       "      <td>1</td>\n",
       "      <td>1</td>\n",
       "    </tr>\n",
       "  </tbody>\n",
       "</table>\n",
       "</div>"
      ],
      "text/plain": [
       "   class  age  sex  survived\n",
       "0      1    1    1         1\n",
       "1      1    1    1         1\n",
       "2      1    1    1         1\n",
       "3      1    1    1         1\n",
       "4      1    1    1         1"
      ]
     },
     "execution_count": 12,
     "metadata": {},
     "output_type": "execute_result"
    }
   ],
   "source": [
    "titanic = pd.read_csv('../data/kwak/titanic.csv').drop(columns='rownames')\n",
    "titanic.head()"
   ]
  },
  {
   "cell_type": "code",
   "execution_count": 13,
   "id": "e6860301",
   "metadata": {},
   "outputs": [
    {
     "data": {
      "text/html": [
       "<div>\n",
       "<style scoped>\n",
       "    .dataframe tbody tr th:only-of-type {\n",
       "        vertical-align: middle;\n",
       "    }\n",
       "\n",
       "    .dataframe tbody tr th {\n",
       "        vertical-align: top;\n",
       "    }\n",
       "\n",
       "    .dataframe thead th {\n",
       "        text-align: right;\n",
       "    }\n",
       "</style>\n",
       "<table border=\"1\" class=\"dataframe\">\n",
       "  <thead>\n",
       "    <tr style=\"text-align: right;\">\n",
       "      <th>class</th>\n",
       "      <th>1</th>\n",
       "      <th>2</th>\n",
       "      <th>3</th>\n",
       "      <th>4</th>\n",
       "    </tr>\n",
       "    <tr>\n",
       "      <th>survived</th>\n",
       "      <th></th>\n",
       "      <th></th>\n",
       "      <th></th>\n",
       "      <th></th>\n",
       "    </tr>\n",
       "  </thead>\n",
       "  <tbody>\n",
       "    <tr>\n",
       "      <th>0</th>\n",
       "      <td>122</td>\n",
       "      <td>167</td>\n",
       "      <td>528</td>\n",
       "      <td>673</td>\n",
       "    </tr>\n",
       "    <tr>\n",
       "      <th>1</th>\n",
       "      <td>203</td>\n",
       "      <td>118</td>\n",
       "      <td>178</td>\n",
       "      <td>212</td>\n",
       "    </tr>\n",
       "  </tbody>\n",
       "</table>\n",
       "</div>"
      ],
      "text/plain": [
       "class       1    2    3    4\n",
       "survived                    \n",
       "0         122  167  528  673\n",
       "1         203  118  178  212"
      ]
     },
     "execution_count": 13,
     "metadata": {},
     "output_type": "execute_result"
    }
   ],
   "source": [
    "titanic_ct = pd.crosstab(index=titanic['survived'], columns=titanic['class'])#, margins=True, normalize='columns')\n",
    "titanic_ct"
   ]
  },
  {
   "cell_type": "code",
   "execution_count": 14,
   "id": "fc448cd9",
   "metadata": {},
   "outputs": [
    {
     "data": {
      "text/plain": [
       "(190.40110361683327,\n",
       " 4.999927529868003e-41,\n",
       " 3,\n",
       " array([[220.01363017, 192.93502953, 477.93730123, 599.11403907],\n",
       "        [104.98636983,  92.06497047, 228.06269877, 285.88596093]]))"
      ]
     },
     "execution_count": 14,
     "metadata": {},
     "output_type": "execute_result"
    }
   ],
   "source": [
    "stats.chi2_contingency(titanic_ct)"
   ]
  },
  {
   "cell_type": "markdown",
   "id": "2ebd5c98",
   "metadata": {},
   "source": [
    "## 5.3 적합성 검정\n",
    "- 범주형 변수가 하나일 때 범주별 비율 분포에 대한 가설 검정\n",
    "- 관측한 빈도를 토대로 모집단에서의 집단 별 비율 분포 검정"
   ]
  },
  {
   "cell_type": "code",
   "execution_count": 15,
   "id": "d2ad6737",
   "metadata": {},
   "outputs": [
    {
     "data": {
      "text/plain": [
       "Power_divergenceResult(statistic=7.0, pvalue=0.0301973834223185)"
      ]
     },
     "execution_count": 15,
     "metadata": {},
     "output_type": "execute_result"
    }
   ],
   "source": [
    "telecom_user = [60,55,35]\n",
    "stats.chisquare(telecom_user)"
   ]
  },
  {
   "cell_type": "code",
   "execution_count": 16,
   "id": "e432c5d6",
   "metadata": {},
   "outputs": [
    {
     "data": {
      "text/plain": [
       "Power_divergenceResult(statistic=3.2222222222222223, pvalue=0.19966564006790188)"
      ]
     },
     "execution_count": 16,
     "metadata": {},
     "output_type": "execute_result"
    }
   ],
   "source": [
    "stats.chisquare(telecom_user, [0.45*(60+55+35), 0.30*(60+55+35), 0.25*(60+55+35)])"
   ]
  },
  {
   "cell_type": "code",
   "execution_count": 17,
   "id": "180be681",
   "metadata": {},
   "outputs": [
    {
     "data": {
      "text/plain": [
       "Power_divergenceResult(statistic=10.177777777777774, pvalue=0.0061648659341430895)"
      ]
     },
     "execution_count": 17,
     "metadata": {},
     "output_type": "execute_result"
    }
   ],
   "source": [
    "stats.chisquare(telecom_user,[45/85*(60+55+35), 25/85*(60+55+35), 15/85*(60+55+35)])"
   ]
  },
  {
   "cell_type": "code",
   "execution_count": 18,
   "id": "cffc2746",
   "metadata": {},
   "outputs": [
    {
     "data": {
      "text/html": [
       "<div>\n",
       "<style scoped>\n",
       "    .dataframe tbody tr th:only-of-type {\n",
       "        vertical-align: middle;\n",
       "    }\n",
       "\n",
       "    .dataframe tbody tr th {\n",
       "        vertical-align: top;\n",
       "    }\n",
       "\n",
       "    .dataframe thead th {\n",
       "        text-align: right;\n",
       "    }\n",
       "</style>\n",
       "<table border=\"1\" class=\"dataframe\">\n",
       "  <thead>\n",
       "    <tr style=\"text-align: right;\">\n",
       "      <th></th>\n",
       "      <th>Hair</th>\n",
       "      <th>Eye</th>\n",
       "      <th>Sex</th>\n",
       "      <th>Freq</th>\n",
       "    </tr>\n",
       "  </thead>\n",
       "  <tbody>\n",
       "    <tr>\n",
       "      <th>0</th>\n",
       "      <td>Black</td>\n",
       "      <td>Brown</td>\n",
       "      <td>Male</td>\n",
       "      <td>32</td>\n",
       "    </tr>\n",
       "    <tr>\n",
       "      <th>1</th>\n",
       "      <td>Brown</td>\n",
       "      <td>Brown</td>\n",
       "      <td>Male</td>\n",
       "      <td>53</td>\n",
       "    </tr>\n",
       "    <tr>\n",
       "      <th>2</th>\n",
       "      <td>Red</td>\n",
       "      <td>Brown</td>\n",
       "      <td>Male</td>\n",
       "      <td>10</td>\n",
       "    </tr>\n",
       "    <tr>\n",
       "      <th>3</th>\n",
       "      <td>Blond</td>\n",
       "      <td>Brown</td>\n",
       "      <td>Male</td>\n",
       "      <td>3</td>\n",
       "    </tr>\n",
       "    <tr>\n",
       "      <th>4</th>\n",
       "      <td>Black</td>\n",
       "      <td>Blue</td>\n",
       "      <td>Male</td>\n",
       "      <td>11</td>\n",
       "    </tr>\n",
       "  </tbody>\n",
       "</table>\n",
       "</div>"
      ],
      "text/plain": [
       "    Hair    Eye   Sex  Freq\n",
       "0  Black  Brown  Male    32\n",
       "1  Brown  Brown  Male    53\n",
       "2    Red  Brown  Male    10\n",
       "3  Blond  Brown  Male     3\n",
       "4  Black   Blue  Male    11"
      ]
     },
     "execution_count": 18,
     "metadata": {},
     "output_type": "execute_result"
    }
   ],
   "source": [
    "haireye = pd.read_csv(\"../data/kwak/HairEyeColor.csv\").drop(columns='rownames')\n",
    "haireye.head()"
   ]
  },
  {
   "cell_type": "code",
   "execution_count": null,
   "id": "89153fbf",
   "metadata": {},
   "outputs": [],
   "source": []
  }
 ],
 "metadata": {
  "kaggle": {
   "accelerator": "none",
   "dataSources": [],
   "isGpuEnabled": false,
   "isInternetEnabled": true,
   "language": "python",
   "sourceType": "notebook"
  },
  "kernelspec": {
   "display_name": "adp",
   "language": "python",
   "name": "adp_class"
  },
  "language_info": {
   "codemirror_mode": {
    "name": "ipython",
    "version": 3
   },
   "file_extension": ".py",
   "mimetype": "text/x-python",
   "name": "python",
   "nbconvert_exporter": "python",
   "pygments_lexer": "ipython3",
   "version": "3.7.13"
  }
 },
 "nbformat": 4,
 "nbformat_minor": 5
}
