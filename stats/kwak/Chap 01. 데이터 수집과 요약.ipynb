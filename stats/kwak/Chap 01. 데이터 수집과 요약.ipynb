{
 "cells": [
  {
   "cell_type": "code",
   "execution_count": 1,
   "id": "b18ea500",
   "metadata": {},
   "outputs": [
    {
     "name": "stderr",
     "output_type": "stream",
     "text": [
      "/Users/klee30810/miniconda3/envs/adp_class/lib/python3.7/site-packages/outdated/utils.py:18: OutdatedPackageWarning: The package outdated is out of date. Your version is 0.2.1, the latest is 0.2.2.\n",
      "Set the environment variable OUTDATED_IGNORE=1 to disable these warnings.\n",
      "  **kwargs\n",
      "/Users/klee30810/miniconda3/envs/adp_class/lib/python3.7/site-packages/outdated/utils.py:18: OutdatedPackageWarning: The package pingouin is out of date. Your version is 0.5.1, the latest is 0.5.4.\n",
      "Set the environment variable OUTDATED_IGNORE=1 to disable these warnings.\n",
      "  **kwargs\n"
     ]
    }
   ],
   "source": [
    "import numpy as np\n",
    "import pandas as pd\n",
    "\n",
    "from scipy import stats\n",
    "import statsmodels\n",
    "import pingouin as pg\n",
    "\n",
    "import matplotlib.pyplot as plt\n",
    "import seaborn as sns"
   ]
  },
  {
   "cell_type": "markdown",
   "id": "b1a59b20",
   "metadata": {},
   "source": [
    "## 1.1 data extraction\n",
    "### 신뢰도 분석\n",
    "- 신뢰도 : 측정척도가 측정하려고 의도하는 것을 얼마나 정확하게 오차없이 측정하고 있는지 나타냄\n",
    "- 동일한 대상을 유사한 척도로 측정할 경우 일관된 결과를 산출하는 정도\n",
    "    - 동일한 개념을 측정하기 위해 고안된 서로 다른 측정도구가 같은 결과를 산출한다는 의미\n",
    "- 크론바흐 알파계수 : 하나의 개념을 여러 측정항목으로 측정할 때 나타나는 항목간의 일관성이나 동질성의 정도 0~1\n",
    "    - 0.8이상 바람직 / 0.6~0.8 수용할 만 / 0.6미만 신뢰도 부족\n",
    "$$ \\alpha ={k \\over k-1}\\left(1-{\\sum_{{i=1}}^{k}\\sigma_{{y_{i}}}^{2}\n",
    "        \\over\\sigma_{x}^{2}}\\right) $$"
   ]
  },
  {
   "cell_type": "code",
   "execution_count": 4,
   "id": "8f8d2992",
   "metadata": {},
   "outputs": [
    {
     "name": "stdout",
     "output_type": "stream",
     "text": [
      "<class 'pandas.core.frame.DataFrame'>\n",
      "RangeIndex: 700 entries, 0 to 699\n",
      "Data columns (total 3 columns):\n",
      " #   Column  Non-Null Count  Dtype  \n",
      "---  ------  --------------  -----  \n",
      " 0   ACT     700 non-null    int64  \n",
      " 1   SATV    700 non-null    int64  \n",
      " 2   SATQ    687 non-null    float64\n",
      "dtypes: float64(1), int64(2)\n",
      "memory usage: 16.5 KB\n"
     ]
    }
   ],
   "source": [
    "sat = pd.read_csv(\"../data/kwak/sat.act.csv\")\n",
    "sat = sat[['ACT', 'SATV', 'SATQ']]\n",
    "sat.info()"
   ]
  },
  {
   "cell_type": "code",
   "execution_count": 5,
   "id": "0388326a",
   "metadata": {},
   "outputs": [
    {
     "data": {
      "text/plain": [
       "(0.6146499490506105, array([0.562, 0.662]))"
      ]
     },
     "execution_count": 5,
     "metadata": {},
     "output_type": "execute_result"
    }
   ],
   "source": [
    "pg.cronbach_alpha(data=sat)"
   ]
  },
  {
   "cell_type": "code",
   "execution_count": null,
   "id": "a61f277b",
   "metadata": {},
   "outputs": [],
   "source": []
  }
 ],
 "metadata": {
  "kernelspec": {
   "display_name": "adp",
   "language": "python",
   "name": "adp_class"
  },
  "language_info": {
   "codemirror_mode": {
    "name": "ipython",
    "version": 3
   },
   "file_extension": ".py",
   "mimetype": "text/x-python",
   "name": "python",
   "nbconvert_exporter": "python",
   "pygments_lexer": "ipython3",
   "version": "3.7.13"
  }
 },
 "nbformat": 4,
 "nbformat_minor": 5
}
