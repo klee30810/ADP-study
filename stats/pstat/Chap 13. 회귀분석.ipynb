{
 "cells": [
  {
   "cell_type": "markdown",
   "id": "00bc262f",
   "metadata": {},
   "source": [
    "# Chap 13. 회귀분석\n",
    "## 13.1 서론\n",
    "- 두 개 이상의 변수에 대하여 관측값을 얻게 됨\n",
    "\n",
    "1) 변수들이 서로 관련이 있는가\n",
    "\n",
    "2) 관련이 있다면 얼마나 밀접하게 관련있는가\n",
    "\n",
    "3) 관심이 있는 변수의 값을 그 외 다른 변수의 값으로부터 예측할 수 있는가"
   ]
  },
  {
   "cell_type": "markdown",
   "id": "7a9549fa",
   "metadata": {},
   "source": [
    "## 13.2 단순선형회귀모형\n",
    "x, y의 관계를 규명하거나, x로부터 y를 예측하게 된다\n",
    "- x: 독립변수, 설명변수 => 실험하는 사람에 의하여 통제되어 독립적으로 주어짐\n",
    "- y: 종속변수, 반응변수 => 독립변수와 오차에 의해서 결정\n",
    "$$ y=\\beta_0 + \\beta_1 x $$\n",
    "- 관계 : 변수 x가 1단위 증가하면 변수 y는 x의 위치와 상관없이 $\\beta_1$만큼 증가\n",
    "- 실제 관측된 두 변수의 자룟값은 직선위에 놓인 점들이 오차와 같은 설명될 수 없는 요인에 의하여 변동된 것으로 보며, 이 오차부분은 관측될 수 없지만 어떤 확률적 성질을 갖는다고 보고 문제에 접근\n",
    "    - 종속변수 : 독립변수와의 직선관계에 의하여 설명되는 상수 부분과, 독립변수로는 설명되지 않는 오차의 합\n",
    "> **단순선형회귀모형**\n",
    ">\n",
    "> 확률변수 Y가 독립변수 x와 오차라는 $\\epsilon$에 의해 설명되는 종속변수라고 하면, 다음과 같이 표현 가능 $$ Y_i = \\beta_0 + \\beta_1 x_i + \\epsilon_i,\\quad i=1,2,...,n $$\n",
    ">\n",
    "> 조건\n",
    "> 1) $\\beta_1, \\beta_0$은 직선식을 결정하는 미지의 회귀 모수.\n",
    ">\n",
    "> 2) 오차 $\\epsilon_i$들은 서로 독립이며 평균이 0, 분산이 $\\sigma^2$인 정규분포를 따르는 확률변수.\n",
    ">\n",
    "> 3) $Y_i$는 독립변수를 $x_i$로 고정시켰을 때의 종속변수의 값\n",
    "\n",
    "- 실제 관측값은 직선상의 점 $\\beta_0+\\beta_1 x_i$가 정규분포를 따르는 오차 $\\epsilon_i$에 의하여 변동된 것으로 해석"
   ]
  },
  {
   "cell_type": "code",
   "execution_count": 1,
   "id": "557c86cd",
   "metadata": {},
   "outputs": [],
   "source": [
    "import pandas as pd\n",
    "import numpy as np\n",
    "\n",
    "from scipy import stats\n",
    "import statsmodels.formula.api as sm\n",
    "from statsmodels import regression\n",
    "import statsmodels\n",
    "\n",
    "import matplotlib.pyplot as plt\n",
    "import seaborn as sns\n",
    "from matplotlib import font_manager, rc, rcParams"
   ]
  },
  {
   "cell_type": "code",
   "execution_count": 2,
   "id": "8d1cc6e3",
   "metadata": {},
   "outputs": [
    {
     "data": {
      "image/png": "[encoded data removed]",
      "text/plain": [
       "<Figure size 432x288 with 1 Axes>"
      ]
     },
     "metadata": {
      "needs_background": "light"
     },
     "output_type": "display_data"
    }
   ],
   "source": [
    "# example 1\n",
    "x = [3,3,4,5,6,6,7,8,8,9]\n",
    "y = [9,5,12,9,14,16,22,18,24,22]\n",
    "\n",
    "sns.scatterplot(x=x,y=y);"
   ]
  },
  {
   "cell_type": "code",
   "execution_count": 3,
   "id": "f48e942a",
   "metadata": {},
   "outputs": [
    {
     "name": "stdout",
     "output_type": "stream",
     "text": [
      "10 -3.0\n"
     ]
    }
   ],
   "source": [
    "# prob 2.2\n",
    "a = 10\n",
    "b = (1-a)/3\n",
    "print(a,b)"
   ]
  },
  {
   "cell_type": "code",
   "execution_count": 4,
   "id": "90b0e58f",
   "metadata": {},
   "outputs": [],
   "source": [
    "# prob 2.8\n",
    "beta0 = 8\n",
    "beta1 = -6\n",
    "sigma = 4"
   ]
  },
  {
   "cell_type": "code",
   "execution_count": 5,
   "id": "37d599f4",
   "metadata": {},
   "outputs": [
    {
     "name": "stdout",
     "output_type": "stream",
     "text": [
      "6 9\n"
     ]
    }
   ],
   "source": [
    "# prob 2.10\n",
    "# 1\n",
    "# y = 2 + 4x + epsilon\n",
    "print(6, 9)"
   ]
  },
  {
   "cell_type": "code",
   "execution_count": 6,
   "id": "1074f0c4",
   "metadata": {},
   "outputs": [
    {
     "name": "stdout",
     "output_type": "stream",
     "text": [
      "10 9\n"
     ]
    }
   ],
   "source": [
    "# 2\n",
    "print(10, 9)"
   ]
  },
  {
   "cell_type": "markdown",
   "id": "06ba1a7b",
   "metadata": {},
   "source": [
    "\n"
   ]
  },
  {
   "cell_type": "markdown",
   "id": "545beb96",
   "metadata": {},
   "source": [
    "## 13.3 최소제곱추정법을 이용한 모수의 추정\n",
    "- 최소제곱추정법 : 실제 관측치와 선형회귀예측직선 값의 차이 ($d_i=y_i-(b_0+b_1x_i))$의 제곱합을 최소화하는 모수를 찾는 것\n",
    "$$D = \\sum^n_{i=1}d_i^2=\\sum^n_{i=1}(y_i-(b_0+b_1x_i))^2, \\\\ estimate\\ \\beta_0,\\ \\beta_1$$\n",
    "- 정의\n",
    "$$\\bar{x}=\\frac{1}{n}\\sum x_i,\\ \\bar{y}=\\frac{1}{n}\\sum y_i \\\\ S_{xx}=\\sum(x_i-\\bar{x})^2=\\sum x^2_i - n\\bar{x}^2 = \\sum x_i^2-\\frac{(\\sum x_i)^2}{n}\\\\ S_{yy}=\\sum(y-\\bar{y})^2=\\sum y_i^2 - n\\bar{y}^2=\\sum y_i^2-\\frac{(\\sum y_i)^2}{n} \\\\ S_{xy} = \\sum(x_i-\\bar{x})(y_i-\\bar{y})=\\sum x_iy_i - n\\bar{x}\\bar{y} - \\sum x_iy_i - \\frac{(\\sum x_i)(\\sum y_i)}{n}$$\n",
    "- 단순선형회귀모형의 $\\beta_0,\\ \\beta_1$의 최소제곱추정량은 D를 편미분한여 다음과 같이 얻을 수 있다\n",
    "$$\\hat{\\beta_1}=\\frac{S_{xy}}{S_{xx}},\\quad \\hat{\\beta_0}=\\bar{y}-\\hat{\\beta_1}\\bar{x}\\\\ \\hat{y}=\\hat{\\beta_0}+\\hat{\\beta_1}x$$\n",
    "- 잔차 : 관측값과 추정량 사이의 차이\n",
    "$$ 예측값:\\ \\hat{y_i}=\\hat{\\beta_0}+\\hat{\\beta_1}x_i \\\\ 잔차:\\ \\epsilon_i=y_i-\\hat{y_i}=y_i-(\\hat{\\beta_0}+\\hat{\\beta_1}x_i) $$\n",
    "- 단순선형회귀모형에서 최소제곱추정량에 의한 잔차는 양수 또는 음수를 갖게 되고 잔차의 합은 0이 된다 $\\sum e_i=0$\n",
    "- 잔차가 오차의 추정량이므로, 오차의 분산을 측정하기 위해 관측되지 않은 확률변수인 오차 대신에 잔차를 사용한다. 잔차제곱합 이용\n",
    "$$잔차제곱합: SSE=\\sum e^2_i = S_{yy}-\\frac{S_{xy}^2}{S_{xx}}$$\n",
    "- 오차의 분산 $\\sigma^2$의 추정량으로 잔차제곱합을 n-2로 나눈 값 이용 : 평균제곱오차\n",
    "$$s^2 = MSE = \\frac{SSE}{n-2} $$\n",
    "    - 오차분산의 추정량은 두 개의 모수($\\beta_0,\\ \\beta_1$)을 추정하고 남은 n-2가 SSE의 자유도\n"
   ]
  },
  {
   "cell_type": "code",
   "execution_count": 7,
   "id": "19ae58d7",
   "metadata": {},
   "outputs": [
    {
     "name": "stdout",
     "output_type": "stream",
     "text": [
      "y = -1.0709 + 2.7408x\n",
      "63.65281173594132 7.956601466992665\n"
     ]
    }
   ],
   "source": [
    "# example 2\n",
    "x_bar = np.mean(x) ; y_bar = np.mean(y)\n",
    "s_xx = np.std(x,ddof=1) ** 2 * (len(x)-1)\n",
    "s_yy = np.std(y,ddof=1) ** 2 * (len(y)-1)\n",
    "s_xy = np.sum(np.multiply(x,y)) - np.sum(x) * np.sum(y)/len(y)\n",
    "\n",
    "beta_1 = s_xy / s_xx\n",
    "beta_0 = y_bar - beta_1 * x_bar\n",
    "\n",
    "print(f\"y = {beta_0:.4f} + {beta_1:.4f}x\")\n",
    "\n",
    "y_hat = beta_0 + np.multiply(beta_1,x)\n",
    "sse = np.sum(np.diff([y_hat, y], axis=0)**2)\n",
    "s_hat = sse / (len(y_hat)-2)\n",
    "print(sse, s_hat)"
   ]
  },
  {
   "cell_type": "code",
   "execution_count": 8,
   "id": "1093f38b",
   "metadata": {},
   "outputs": [
    {
     "data": {
      "image/png": "[encoded data removed]",
      "text/plain": [
       "<Figure size 432x288 with 1 Axes>"
      ]
     },
     "metadata": {
      "needs_background": "light"
     },
     "output_type": "display_data"
    }
   ],
   "source": [
    "# prob 3.2\n",
    "x = [0,1,6,3,5]\n",
    "y = [4,3,0,2,1]\n",
    "# 1\n",
    "sns.scatterplot(x=x,y=y);"
   ]
  },
  {
   "cell_type": "code",
   "execution_count": 9,
   "id": "b582a23b",
   "metadata": {},
   "outputs": [
    {
     "name": "stdout",
     "output_type": "stream",
     "text": [
      "y = 3.8462 + -0.6154x\n",
      "[3.84615385 3.23076923 0.15384615 2.         0.76923077]\n"
     ]
    },
    {
     "data": {
      "image/png": "[encoded data removed]",
      "text/plain": [
       "<Figure size 432x288 with 1 Axes>"
      ]
     },
     "metadata": {
      "needs_background": "light"
     },
     "output_type": "display_data"
    }
   ],
   "source": [
    "# 3\n",
    "x_bar = np.mean(x) ; y_bar = np.mean(y)\n",
    "s_xx = np.sum(np.power(x,2)) - np.sum(x)**2/len(x)\n",
    "s_yy = np.sum(np.power(y,2)) - np.sum(y)**2/len(y)\n",
    "s_xy = np.sum(np.multiply(x,y)) - np.sum(x) * np.sum(y) / len(y)\n",
    "\n",
    "beta_1 = s_xy / s_xx ; beta_0 = y_bar - beta_1 * x_bar\n",
    "print(f\"y = {beta_0:.4f} + {beta_1:.4f}x\")\n",
    "\n",
    "y_hat = beta_0 + np.multiply(beta_1,x)\n",
    "print(y_hat)\n",
    "sns.lineplot(x=x, y=y_hat);"
   ]
  },
  {
   "cell_type": "code",
   "execution_count": 10,
   "id": "d56f20ac",
   "metadata": {},
   "outputs": [
    {
     "name": "stdout",
     "output_type": "stream",
     "text": [
      "y = 5.4286 + -0.6071x\n"
     ]
    },
    {
     "data": {
      "image/png": "[encoded data removed]",
      "text/plain": [
       "<Figure size 432x288 with 1 Axes>"
      ]
     },
     "metadata": {
      "needs_background": "light"
     },
     "output_type": "display_data"
    }
   ],
   "source": [
    "# prob 3.4\n",
    "x = [1,2,3,5,6,7] ; y = [4,6,3,1,3,1]\n",
    "# 1\n",
    "x_bar = np.mean(x) ; y_bar = np.mean(y)\n",
    "s_xx = np.sum(np.power(x,2)) - np.sum(x)**2/len(x)\n",
    "s_yy = np.sum(np.power(y,2)) - np.sum(y)**2/len(y)\n",
    "s_xy = np.sum(np.multiply(x,y)) - np.sum(x) * np.sum(y) / len(y)\n",
    "\n",
    "beta_1 = s_xy / s_xx ; beta_0 = y_bar - beta_1 * x_bar\n",
    "print(f\"y = {beta_0:.4f} + {beta_1:.4f}x\")\n",
    "\n",
    "y_hat = beta_0 + np.multiply(beta_1,x)\n",
    "sns.lineplot(x=x,y=y_hat);"
   ]
  },
  {
   "cell_type": "code",
   "execution_count": 11,
   "id": "23c4205c",
   "metadata": {},
   "outputs": [
    {
     "name": "stdout",
     "output_type": "stream",
     "text": [
      "1.7857142857142865\n"
     ]
    }
   ],
   "source": [
    "# 2\n",
    "print(beta_0 + beta_1 * 6)"
   ]
  },
  {
   "cell_type": "code",
   "execution_count": 12,
   "id": "d7f706a3",
   "metadata": {},
   "outputs": [
    {
     "data": {
      "image/png": "[encoded data removed]",
      "text/plain": [
       "<Figure size 432x288 with 1 Axes>"
      ]
     },
     "metadata": {
      "needs_background": "light"
     },
     "output_type": "display_data"
    }
   ],
   "source": [
    "# prob 3.6\n",
    "x = [1,2,3,3,4,5]\n",
    "y = [9,5,6,3,3,1]\n",
    "# 1\n",
    "sns.scatterplot(x=x, y=y);"
   ]
  },
  {
   "cell_type": "code",
   "execution_count": 13,
   "id": "125a1f73",
   "metadata": {},
   "outputs": [
    {
     "name": "stdout",
     "output_type": "stream",
     "text": [
      "3.0 4.5 10.0 39.5 -18.0\n"
     ]
    }
   ],
   "source": [
    "# 2\n",
    "x_bar = np.mean(x) ; y_bar = np.mean(y)\n",
    "s_xx = np.sum(np.power(x,2)) - np.sum(x)**2/len(x)\n",
    "s_yy = np.sum(np.power(y,2)) - np.sum(y)**2/len(y)\n",
    "s_xy = np.sum(np.multiply(x,y)) - np.sum(x) * np.sum(y) / len(y)\n",
    "\n",
    "print(x_bar, y_bar, s_xx, s_yy, s_xy)"
   ]
  },
  {
   "cell_type": "code",
   "execution_count": 14,
   "id": "59dcae44",
   "metadata": {},
   "outputs": [
    {
     "name": "stdout",
     "output_type": "stream",
     "text": [
      "y = 9.9000 + -1.8000x\n"
     ]
    }
   ],
   "source": [
    "# 3 \n",
    "beta_1 = s_xy / s_xx ; beta_0 = y_bar - beta_1 * x_bar\n",
    "print(f\"y = {beta_0:.4f} + {beta_1:.4f}x\")"
   ]
  },
  {
   "cell_type": "code",
   "execution_count": 15,
   "id": "36e24d26",
   "metadata": {},
   "outputs": [
    {
     "data": {
      "image/png": "[encoded data removed]",
      "text/plain": [
       "<Figure size 432x288 with 1 Axes>"
      ]
     },
     "metadata": {
      "needs_background": "light"
     },
     "output_type": "display_data"
    }
   ],
   "source": [
    "# 4\n",
    "y_hat = beta_0 + np.multiply(beta_1, x)\n",
    "sns.scatterplot(x=x, y=y);\n",
    "sns.lineplot(x=x, y=y_hat);\n",
    "\n",
    "plt.show()"
   ]
  },
  {
   "cell_type": "code",
   "execution_count": 16,
   "id": "25f7297c",
   "metadata": {},
   "outputs": [
    {
     "name": "stdout",
     "output_type": "stream",
     "text": [
      "y = 1.4541 + 0.2474x\n"
     ]
    }
   ],
   "source": [
    "# prob 3.8 #####\n",
    "n = 14 ; x_bar = 3.5; y_bar = 2.32\n",
    "s_xx = 10.82 ; s_yy = 1.035 ; s_xy = 2.677\n",
    "\n",
    "# 1\n",
    "beta_1 = s_xy / s_xx ;\n",
    "beta_0 = y_bar - beta_1 * x_bar\n",
    "print(f\"y = {beta_0:.4f} + {beta_1:.4f}x\")"
   ]
  },
  {
   "cell_type": "code",
   "execution_count": 17,
   "id": "c4dfc170",
   "metadata": {},
   "outputs": [
    {
     "name": "stdout",
     "output_type": "stream",
     "text": [
      "80.86133791790378 20.215334479475946\n"
     ]
    }
   ],
   "source": [
    "# 2, 3\n",
    "y_hat = beta_0 + np.multiply(beta_1, x)\n",
    "sse = np.sum(np.diff([y_hat, y], axis=0)**2)\n",
    "s_hat = sse / (len(y_hat)-2)\n",
    "print(sse, s_hat)"
   ]
  },
  {
   "cell_type": "code",
   "execution_count": 18,
   "id": "bb2fe791",
   "metadata": {},
   "outputs": [
    {
     "name": "stdout",
     "output_type": "stream",
     "text": [
      "y = -0.1050 + 7.5520x\n"
     ]
    }
   ],
   "source": [
    "# prob 3.10\n",
    "x_bar = 156; y_bar = 1178 ; n = 20\n",
    "x2_sum = 1262 ; y2_sum = 69390; xy_sum = 9203\n",
    "\n",
    "s_xx = x2_sum - n * (x_bar**2)\n",
    "s_yy = y2_sum - n * (y_bar**2)\n",
    "s_xy = xy_sum - n * x_bar * y_bar\n",
    "beta_1 = s_xy / s_xx \n",
    "beta_0 = y_bar - beta_1 * x_bar\n",
    "print(f\"y = {beta_0:.4f} + {beta_1:.4f}x\")"
   ]
  },
  {
   "cell_type": "code",
   "execution_count": 19,
   "id": "4a880187",
   "metadata": {},
   "outputs": [
    {
     "name": "stdout",
     "output_type": "stream",
     "text": [
      "<class 'pandas.core.frame.DataFrame'>\n",
      "RangeIndex: 11 entries, 0 to 10\n",
      "Data columns (total 2 columns):\n",
      " #   Column   Non-Null Count  Dtype  \n",
      "---  ------   --------------  -----  \n",
      " 0   수소(ppm)  11 non-null     float64\n",
      " 1   탄소(ppm)  11 non-null     float64\n",
      "dtypes: float64(2)\n",
      "memory usage: 304.0 bytes\n"
     ]
    }
   ],
   "source": [
    "# prob 3.12\n",
    "path = '../data/pstat/예제, 연습문제/'\n",
    "data = pd.read_excel(path + 'ch4.xlsx',sheet_name='3.4',header=0)\n",
    "data.info()"
   ]
  },
  {
   "cell_type": "code",
   "execution_count": 20,
   "id": "8fa97158",
   "metadata": {},
   "outputs": [
    {
     "data": {
      "image/png": "[encoded data removed]",
      "text/plain": [
       "<Figure size 432x288 with 1 Axes>"
      ]
     },
     "metadata": {
      "needs_background": "light"
     },
     "output_type": "display_data"
    }
   ],
   "source": [
    "# 1\n",
    "data = data.rename(columns={'수소(ppm)':'hydrogen', '탄소(ppm)': 'carbon'})\n",
    "sns.scatterplot(x='hydrogen', y='carbon', data=data);"
   ]
  },
  {
   "cell_type": "code",
   "execution_count": 21,
   "id": "3984d41c",
   "metadata": {},
   "outputs": [
    {
     "name": "stdout",
     "output_type": "stream",
     "text": [
      "y = 18.0593 + 0.7912x\n",
      "62.367037926250646\n"
     ]
    },
    {
     "data": {
      "image/png": "[encoded data removed]",
      "text/plain": [
       "<Figure size 432x288 with 1 Axes>"
      ]
     },
     "metadata": {
      "needs_background": "light"
     },
     "output_type": "display_data"
    }
   ],
   "source": [
    "# 2\n",
    "x = data['hydrogen'] ; y = data['carbon']\n",
    "x_bar = np.mean(x) ; y_bar = np.mean(y)\n",
    "s_xx = np.sum(np.power(x,2)) - np.sum(x)**2/len(x)\n",
    "s_yy = np.sum(np.power(y,2)) - np.sum(y)**2/len(y)\n",
    "s_xy = np.sum(np.multiply(x,y)) - np.sum(x) * np.sum(y) / len(y)\n",
    "\n",
    "beta_1 = s_xy / s_xx ; beta_0 = y_bar - beta_1 * x_bar\n",
    "print(f\"y = {beta_0:.4f} + {beta_1:.4f}x\")\n",
    "\n",
    "y_hat = beta_0 + np.multiply(beta_1,x)\n",
    "sns.lineplot(x=x,y=y_hat);\n",
    "sns.scatterplot(x=x, y=y);\n",
    "\n",
    "print(beta_0 + beta_1 * 56)"
   ]
  },
  {
   "cell_type": "code",
   "execution_count": 22,
   "id": "4dde851c",
   "metadata": {},
   "outputs": [],
   "source": [
    "### prob 3.14"
   ]
  },
  {
   "cell_type": "code",
   "execution_count": 23,
   "id": "7c1e6d18",
   "metadata": {},
   "outputs": [],
   "source": [
    "### prob 3.15"
   ]
  },
  {
   "cell_type": "code",
   "execution_count": 24,
   "id": "793a9fb6",
   "metadata": {},
   "outputs": [],
   "source": [
    "### prob 3.16"
   ]
  },
  {
   "cell_type": "code",
   "execution_count": 25,
   "id": "f8cdf8a3",
   "metadata": {},
   "outputs": [],
   "source": [
    "### prob 3.17"
   ]
  },
  {
   "cell_type": "markdown",
   "id": "a41b930a",
   "metadata": {},
   "source": [
    "## 13.4 단순선형회귀모형에서의 추론\n",
    "$$Y_i = \\beta_0 + \\beta_1x_i + \\epsilon_i$$\n",
    "- 오차$\\epsilon_i$가 평균이 0이고 분산이 $\\sigma^2$인 정규분포를 따르고, $\\epsilon_1,\\dots, \\epsilon_n$이 서로 독립이라고 가정할 때, 추정회귀직선은 편차의 제곱합을 최소로 하는 모수를 선탠하여 얻은 값\n",
    "- 추정직선은 주어진 자료로부터 얻은 값이므로 주어진 x값의 구간에서만 그 관계가 유효하다. 값의 구간을 훨씬 넘어간 값에 대해서는 관계를 확장할 수 없다.\n",
    "\n",
    "### 기울기 $\\beta_1$\n",
    "- 추정량 $\\beta_1$ : 정규분포를 따르는 관측값들의 선형결합 ($\\hat{\\beta_1}=\\sum^n_{i=1}w_i y_i$)으로 이루어져 있으므로 정규분포를 따르게 되고, 평균은 $\\beta_1$, 분산은 $\\frac{\\sigma^2}{S_{xx}}$이 된다.\n",
    "- $\\beta_1$의 추론은 10장의 모평균 추론과 비슷\n",
    "> **$\\hat{\\beta_1}$의 표준오차**\n",
    "> $$S.E.(\\hat{\\beta_1})=\\frac{\\sigma}{\\sqrt{S_{xx}}}$$\n",
    "> \n",
    "> 단, 오차의 표준편차가 알려져 있지 않을 떄는 그 자리에 $s=\\sqrt\\frac{SSE}{n-2}$를 대입하여 표준오차 추정\n",
    "- 최소제곱 추정량을 $\\frac{추정량-모수}{추정된 추정량의 표준오차}$의 형태로 표준화하면, t분포를 따르고 분포는 SSE의 자유도가 된다.\n",
    "> **$\\hat{\\beta_1}$의 표본분포**\n",
    "> $$t=\\frac{(\\hat{\\beta_1}-\\beta_1)}{\\frac{s}{\\sqrt{S_{xx}}}}\\sim t(n-2)$$\n",
    "- 오차의 분산 $\\sigma^2$값이 알려져 있다면 표준정규분포를 사용하나, 실제로 오차의 분산이 알려진 경우는 거의 없으므로, 오차의 분산이 알려지지 않은 경우만 다룰 것\n",
    "> **기울기 $\\beta_1$에 관한 추론**\n",
    ">\n",
    "> $\\beta_1$의 $100(1-\\alpha)$ 신뢰구간 : $\\hat{\\beta_1} \\pm t_{\\alpha/2}(n-2)\\times\\frac{s}{\\sqrt{S_{xx}}}$\n",
    ">\n",
    "> 가설 $H_0$ : $\\beta_1=\\beta_{10}$에 대한 검정(유의수준 $\\alpha$):\n",
    ">$$ 검정통계량:\\ t=\\frac{\\hat{\\beta_1}-\\beta_{10}}{\\frac{s}{\\sqrt{S_{xx}}}} $$\n",
    "> t통계량은 $H_0$가 맞을 때 자유도가 n-2인 t분포를 따른다.\n",
    "> 각 대립가설에 대한 기각역:\n",
    "> $$H_1:\\beta_1 > \\beta_{10} \\quad\\quad R:t\\geq t_{\\alpha}(n-2) \\\\ H_1:\\beta_1 < \\beta_{10} \\quad\\quad R:t\\leq -t_{\\alpha}(n-2) \\\\ H_1:\\beta_1 \\neq \\beta_{10} \\quad\\quad R:|t|\\geq t_{\\alpha/2}(n-2)$$\n",
    "- $\\beta_1=0$인지 아닌지는 관심의 대상이 된다. 기울기가 0이면 반응변수의 기댓값은 $E(Y)=\\beta_0+\\beta_1x=\\beta_0$이 되고, 독립변수가 종속변수를 예측하는 데 전혀 정보를 제공하지 못함\n",
    "- 귀무가설이 기각되지 않는 경우 : 종속변수가 독립변수에 의해 설명될 수 없다??\n",
    "    - 두 변수 사이에 직선관계가 존재하지만 자료에서 얻어진 x갑의 범위 내에서는 직선관계가 나타내지 않을 수 있다\n",
    "    - 두 변수 사이 곡선관계가 존재한다면 부적절한 모형을 바탕으로 검정한 것\n",
    "    \n",
    "    => 따라서 기각되지 않는 경우 산점도를 통해 곡선관계를 확인하여야 하며, 기가되지 않는 경우 두 변수 사이에 관계가 없는 것이 아닌, 직선관계가 없다고 해석해야 함"
   ]
  },
  {
   "cell_type": "code",
   "execution_count": 26,
   "id": "85192a62",
   "metadata": {},
   "outputs": [
    {
     "name": "stdout",
     "output_type": "stream",
     "text": [
      "y = -1.0709 + 2.7408x\n",
      "63.65281173594132 7.956601466992665\n"
     ]
    }
   ],
   "source": [
    "# example 3\n",
    "x = [3,3,4,5,6,6,7,8,8,9]\n",
    "y = [9,5,12,9,14,16,22,18,24,22]\n",
    "\n",
    "x_bar = np.mean(x) ; y_bar = np.mean(y)\n",
    "s_xx = np.std(x,ddof=1) ** 2 * (len(x)-1)\n",
    "s_yy = np.std(y,ddof=1) ** 2 * (len(y)-1)\n",
    "s_xy = np.sum(np.multiply(x,y)) - np.sum(x) * np.sum(y)/len(y)\n",
    "\n",
    "beta_1 = s_xy / s_xx\n",
    "beta_0 = y_bar - beta_1 * x_bar\n",
    "\n",
    "print(f\"y = {beta_0:.4f} + {beta_1:.4f}x\")\n",
    "\n",
    "y_hat = beta_0 + np.multiply(beta_1,x)\n",
    "sse = np.sum(np.diff([y_hat, y], axis=0)**2)\n",
    "s_hat = sse / (len(y_hat)-2)\n",
    "print(sse, s_hat)"
   ]
  },
  {
   "cell_type": "code",
   "execution_count": 27,
   "id": "26752b1b",
   "metadata": {},
   "outputs": [
    {
     "name": "stdout",
     "output_type": "stream",
     "text": [
      "2.740831295843521 1.017096665429011\n"
     ]
    }
   ],
   "source": [
    "alpha = 0.05\n",
    "\n",
    "t_alpha = stats.t.ppf(1-alpha/2, df=len(y)-2)\n",
    "print(beta_1, t_alpha * np.sqrt(s_hat) / np.sqrt(s_xx))"
   ]
  },
  {
   "cell_type": "code",
   "execution_count": 28,
   "id": "ca89f018",
   "metadata": {},
   "outputs": [
    {
     "name": "stdout",
     "output_type": "stream",
     "text": [
      "6.214127443804077 1.8595480375228424\n"
     ]
    }
   ],
   "source": [
    "# exmaple 4\n",
    "t_val = beta_1 / (np.sqrt(s_hat)/np.sqrt(s_xx))\n",
    "t_alpha = stats.t.ppf(1-alpha, df=len(y)-2)\n",
    "print(t_val, t_alpha)"
   ]
  },
  {
   "cell_type": "markdown",
   "id": "a2d0b7ee",
   "metadata": {},
   "source": [
    "### 절편$\\beta_0$에 관한 추론\n",
    "> $\\hat{\\beta_0}$의 추정된 표준오차와 표본분포\n",
    "> $$추정된 표준오차 : s\\sqrt{\\frac{1}{n}+\\frac{\\bar{x}^2}{S_{xx}}}$$\n",
    "> $$표본분포 : t=\\frac{(\\hat{\\beta_0}-\\beta_0)}{s\\sqrt{\\frac{1}{n}+\\frac{\\bar{x}^2}{S_{xx}}}} \\approx t(n-2) $$\n",
    "- $\\beta_1$ 검정 경우와 검정툥계량의 분포가 같으므로 기각역은 똑같이 구할 수 있다.\n",
    "\n",
    "> **절편$\\beta_0$에 관한 추론**\n",
    ">\n",
    "> $100(1-\\alpha)%$의 신뢰구간 : $\\hat{\\beta_0}\\pm t_{\\alpha/2}(n-2)\\times s\\sqrt{\\frac{1}{n}+\\frac{\\bar{x}^2}{S_{xx}}}$\n",
    ">\n",
    "> 귀무가설 $H_0$ : $\\beta_0=\\beta_{00}$에 대한 검정(유의수준 $\\alpha$)\n",
    "> 검정통계량 $t=\\frac{\\hat{\\beta_0}-\\beta_{00}}{s\\sqrt{\\frac{1}{n}+\\frac{\\bar{x}^2}{S_{xx}}}}$\n",
    "> 이 t통계량은 $H_0$가 맞을 때 자유도가 n-2인 t분포를 따른다"
   ]
  },
  {
   "cell_type": "code",
   "execution_count": 29,
   "id": "9e64ee7d",
   "metadata": {},
   "outputs": [
    {
     "name": "stdout",
     "output_type": "stream",
     "text": [
      "-1.0709046454767748 6.343618122456856\n"
     ]
    }
   ],
   "source": [
    "# example 5\n",
    "t_alpha = stats.t.ppf(1-alpha/2, df=len(y)-2)\n",
    "print(beta_0, t_alpha*np.sqrt(s_hat)*np.sqrt((1/len(y))+(x_bar**2/s_xx)))"
   ]
  },
  {
   "cell_type": "code",
   "execution_count": 30,
   "id": "1c7d49c7",
   "metadata": {},
   "outputs": [
    {
     "name": "stdout",
     "output_type": "stream",
     "text": [
      "-0.3892905425617672 2.3060041350333704\n"
     ]
    }
   ],
   "source": [
    "t_val = beta_0 / (np.sqrt(s_hat)*np.sqrt((1/len(y))+(x_bar**2/s_xx)))\n",
    "print(t_val, t_alpha)"
   ]
  },
  {
   "cell_type": "markdown",
   "id": "1de80463",
   "metadata": {},
   "source": [
    "- 신뢰구간에 0이 포함되므로, $H_0:\\beta_0=0$에 대한 유의수준 5%의 양측검정결과는 기각할 수 없다는 것을 알 수 있다. \n",
    "- $\\beta_0$은 x=0에서의 종속변수의 기댓값에 대응된다. 자료의 x범위가 3~7이므로 직선식을 x=0으로 확장하는 것은 적절하지 못함"
   ]
  },
  {
   "cell_type": "markdown",
   "id": "5ccaf237",
   "metadata": {},
   "source": [
    "### 평균반응 $\\beta_0 + \\beta_1 x*$에 관한 추론\n",
    "- 평균반응 $\\beta_0 + \\beta_1 x*$에 관한 추론은 $\\hat{\\beta_0} + \\hat{\\beta_1} x*$에 관한 추론으로 이루어짐\n",
    "\n",
    "> **$\\hat{\\beta_0} + \\hat{\\beta_1} x*$의 추정된 표준오차와 표준분포**\n",
    "> $$추정된\\ 표준오차:\\ s\\sqrt{\\frac{1}{n}+\\frac{(x*-\\bar{x})^2}{S_{xx}}} $$\n",
    "> $$표본분포:\\ t=\\frac{(\\hat{\\beta_0}+\\hat{\\beta_1}x*)-({\\beta_0}+{\\beta_1}x*)}{s\\sqrt{\\frac{1}{n}+\\frac{(x*-\\bar{x})^2}{S_{xx}}}}\\sim t(n-2)$$\n",
    "\n",
    "> **평균반응 $\\beta_0 + \\beta_1 x*$에 관한 추론**\n",
    "> \n",
    "> $100(1-\\alpha)$% 신뢰구간 : $(\\beta_0+\\beta_1 x*)t_{\\alpha/2}(n-2)\\times s\\sqrt{\\frac{1}{n}+\\frac{(x*-\\bar{x})^2}{S_{xx}}}$\n",
    ">\n",
    "> 귀무가설 $H_0: \\beta_0+\\beta_1x*=\\mu_0$에 대한 검정(유의수준$\\alpha$)\n",
    "> 검정통계량: $t=\\frac{(\\hat{\\beta_0}+\\hat{\\beta_1}x*)-\\mu_0}{s\\sqrt{\\frac{1}{n}+\\frac{(x*-\\bar{x})^2}{S_{xx}}}}$\n",
    "> 이 t통계량은 $H_0$이 맞을 때 자유도가 n-2인 t분포를 따른다"
   ]
  },
  {
   "cell_type": "code",
   "execution_count": 31,
   "id": "dd130b68",
   "metadata": {},
   "outputs": [
    {
     "name": "stdout",
     "output_type": "stream",
     "text": [
      "y = -1.0709 + 2.7408x\n"
     ]
    }
   ],
   "source": [
    "# example 6\n",
    "print(f\"y = {beta_0:.4f} + {beta_1:.4f}x\")"
   ]
  },
  {
   "cell_type": "code",
   "execution_count": 32,
   "id": "82418dbe",
   "metadata": {},
   "outputs": [
    {
     "name": "stdout",
     "output_type": "stream",
     "text": [
      "15.374083129584351 2.0594637821505715\n"
     ]
    }
   ],
   "source": [
    "# x* = 6\n",
    "x = [3,3,4,5,6,6,7,8,8,9]\n",
    "y = [9,5,12,9,14,16,22,18,24,22]\n",
    "\n",
    "x_bar = np.mean(x) ; y_bar = np.mean(y)\n",
    "s_xx = np.std(x,ddof=1) ** 2 * (len(x)-1)\n",
    "s_yy = np.std(y,ddof=1) ** 2 * (len(y)-1)\n",
    "s_xy = np.sum(np.multiply(x,y)) - np.sum(x) * np.sum(y)/len(y)\n",
    "n = len(y)\n",
    "\n",
    "beta_1 = s_xy / s_xx\n",
    "beta_0 = y_bar - beta_1 * x_bar\n",
    "\n",
    "y_hat = beta_0 + np.multiply(beta_1,x)\n",
    "sse = np.sum(np.diff([y_hat, y], axis=0)**2)\n",
    "s_hat = np.sqrt(sse / (len(y_hat)-2))\n",
    "\n",
    "alpha = 0.05\n",
    "t_alpha = stats.t.ppf(1-alpha/2, df=len(y)-2)\n",
    "print(beta_0 + beta_1 * 6, t_alpha * s_hat * np.sqrt(1/n + (6 - x_bar)**2/s_xx))"
   ]
  },
  {
   "cell_type": "code",
   "execution_count": 33,
   "id": "b902865c",
   "metadata": {},
   "outputs": [
    {
     "name": "stdout",
     "output_type": "stream",
     "text": [
      "24.96699266503667 4.199759509471604\n"
     ]
    }
   ],
   "source": [
    "# x* = 9.5\n",
    "print(beta_0 + beta_1 * 9.5, t_alpha * s_hat * np.sqrt(1/n + (9.5 - x_bar)**2/s_xx))"
   ]
  },
  {
   "cell_type": "markdown",
   "id": "46358ffa",
   "metadata": {},
   "source": [
    "- x가 $\\bar{x}$에 가까울 수록 신뢰구간의 폭은 좁아진다 : 평균반응 추정량에 대한 표준오차가 x가 $\\bar{x}$에 가까울 수록 작아지고 멀어질 수록 커지므로, 예측 정확도가 달라진다.\n",
    "- **독립변수의 범위를 크게 벗어나는 x값에 대한 추정은 표준편차가 커져 정확도가 떨어질 수 있고, 직선관계 모델이 아닐 수도 있다.**\n",
    "    - 자료의 범위를 크게 벗어나는 독립변수의 값의 평균반응에 대하여 추정을 원하면 더 많은 자료를 얻어 추정하는 독립변수의 값을 포함하거나, 그 값에 가깝도록 자료의 범위를 넓혀주는 작업이 필요하다."
   ]
  },
  {
   "cell_type": "code",
   "execution_count": 71,
   "id": "98c3f7a5",
   "metadata": {
    "scrolled": true
   },
   "outputs": [],
   "source": [
    "# example 12\n",
    "# path = '../data/pstat/예제, 연습문제/'\n",
    "# data = pd.read_excel(path + 'ch2.xlsx',sheet_name='예제12',header=None)\n",
    "# data.info()"
   ]
  },
  {
   "cell_type": "markdown",
   "id": "7a73cc3e",
   "metadata": {},
   "source": [
    "### 반응변수 Y의 예측\n",
    "- 평균반응 : 특정 복용량으로 처방된 모든 환자에 대하여 약의 효과지속기간의 평균\n",
    "- 반응값 추론 : 한 환자에 대한 효과지속기단을 다루는 것\n",
    "    - 평균반응값 + 오차 : $Y=\\beta_0 +\\beta_1 x* + \\epsilon$\n",
    "    - 오차$\\epsilon$의 평균이 0이기 때문에 반응변수값의 추정량은 평균반응의 추정량과 같이 $\\hat{\\beta_0}+\\hat{\\beta_1}x*$가 되지만 오차 $\\epsilon$의 분산에 의하여 예측값의 표준오차는 평균반응 예측하는 경우 보다 조금 큰 값을 갖게 된다.\n",
    "    \n",
    "> $x=x*$에서 반응변수 Y 예측값의 추정된 오차 $s\\sqrt{1+\\frac{1}{n}+\\frac{(x*-\\bar{x})^2}{S_{xx}}}$\n",
    "> **$x=x*$에서 반응변수 Y 예측값 $\\beta_0 + \\beta_1 x* + \\epsilon$에 관한 추론**\n",
    "> \n",
    "> $100(1-\\alpha)$% 신뢰구간 : $(\\beta_0+\\beta_1 x*)t_{\\alpha/2}(n-2)\\times s\\sqrt{1+\\frac{1}{n}+\\frac{(x*-\\bar{x})^2}{S_{xx}}}$"
   ]
  },
  {
   "cell_type": "code",
   "execution_count": 40,
   "id": "8290acb7",
   "metadata": {},
   "outputs": [
    {
     "name": "stdout",
     "output_type": "stream",
     "text": [
      "15.374083129584351 6.822891850762887\n"
     ]
    }
   ],
   "source": [
    "# example 7\n",
    "x = [3,3,4,5,6,6,7,8,8,9]\n",
    "y = [9,5,12,9,14,16,22,18,24,22]\n",
    "\n",
    "x_bar = np.mean(x) ; y_bar = np.mean(y)\n",
    "s_xx = np.std(x,ddof=1) ** 2 * (len(x)-1)\n",
    "s_yy = np.std(y,ddof=1) ** 2 * (len(y)-1)\n",
    "s_xy = np.sum(np.multiply(x,y)) - np.sum(x) * np.sum(y)/len(y)\n",
    "n = len(y)\n",
    "\n",
    "beta_1 = s_xy / s_xx\n",
    "beta_0 = y_bar - beta_1 * x_bar\n",
    "\n",
    "y_hat = beta_0 + np.multiply(beta_1,x)\n",
    "sse = np.sum(np.diff([y_hat, y], axis=0)**2)\n",
    "var = sse / (len(y_hat)-2)\n",
    "s_hat = np.sqrt(var)\n",
    "\n",
    "# x*=6\n",
    "alpha = 0.05\n",
    "t_alpha = stats.t.ppf(1-alpha/2, df=len(y)-2)\n",
    "print(beta_0 + beta_1 * 6, s_hat* t_alpha * np.sqrt(1+1/n+(6-x_bar)**2/s_xx))"
   ]
  },
  {
   "cell_type": "code",
   "execution_count": 42,
   "id": "f481b2a3",
   "metadata": {},
   "outputs": [
    {
     "name": "stdout",
     "output_type": "stream",
     "text": [
      "3.8461538461538463 -0.6153846153846154 0.05128205128205129\n"
     ]
    }
   ],
   "source": [
    "# prob 4.1\n",
    "# 1\n",
    "x = [0,1,6,3,5] ; y = [4,3,0,2,1] ; n = len(y)\n",
    "\n",
    "x_bar = np.mean(x) ; y_bar = np.mean(y)\n",
    "s_xx = np.std(x, ddof=1)**2 * (len(x)-1)\n",
    "s_yy = np.std(y, ddof=1)**2 * (len(y)-1)\n",
    "s_xy = np.sum(np.multiply(x, y)) - np.sum(x) * np.sum(y) / n\n",
    "\n",
    "beta_1 = s_xy / s_xx ; beta_0 = y_bar - beta_1 * x_bar\n",
    "y_hat = beta_0 + np.multiply(beta_1, x)\n",
    "sse = np.sum(np.diff([y_hat, y], axis=0)**2)\n",
    "var_hat = sse / (len(y_hat)-2)\n",
    "s_hat = np.sqrt(var_hat)\n",
    "\n",
    "print(beta_0, beta_1, var_hat)"
   ]
  },
  {
   "cell_type": "code",
   "execution_count": 43,
   "id": "61674c96",
   "metadata": {},
   "outputs": [
    {
     "name": "stdout",
     "output_type": "stream",
     "text": [
      "-13.856406460551018 3.182446305284263\n"
     ]
    }
   ],
   "source": [
    "# 2\n",
    "alpha = 0.05\n",
    "t_alpha = stats.t.ppf(1-alpha/2, df=n-2)\n",
    "t_val = beta_1 / (s_hat / np.sqrt(s_xx))\n",
    "print(t_val, t_alpha)"
   ]
  },
  {
   "cell_type": "code",
   "execution_count": 45,
   "id": "e2339e47",
   "metadata": {},
   "outputs": [
    {
     "name": "stdout",
     "output_type": "stream",
     "text": [
      "2.3076923076923075 0.14133740238749226\n"
     ]
    }
   ],
   "source": [
    "# 3\n",
    "print(beta_0 + beta_1 * 2.5, t_alpha * s_hat / np.sqrt(s_xx))"
   ]
  },
  {
   "cell_type": "code",
   "execution_count": 46,
   "id": "7d3cb78f",
   "metadata": {},
   "outputs": [
    {
     "name": "stdout",
     "output_type": "stream",
     "text": [
      "3.8461538461538463 0.5326001414323351\n"
     ]
    }
   ],
   "source": [
    "# 4\n",
    "print(beta_0, t_alpha * s_hat * np.sqrt(1/n+x_bar**2/s_xx))"
   ]
  },
  {
   "cell_type": "code",
   "execution_count": 50,
   "id": "dfa3ad0d",
   "metadata": {},
   "outputs": [
    {
     "name": "stdout",
     "output_type": "stream",
     "text": [
      "-0.6153846153846154 0.14133740238749226\n"
     ]
    }
   ],
   "source": [
    "# prob 4.2\n",
    "print(beta_1, t_alpha * s_hat / np.sqrt(s_xx))"
   ]
  },
  {
   "cell_type": "code",
   "execution_count": 64,
   "id": "439a1bc8",
   "metadata": {},
   "outputs": [
    {
     "data": {
      "image/png": "[encoded data removed]",
      "text/plain": [
       "<Figure size 432x288 with 1 Axes>"
      ]
     },
     "metadata": {
      "needs_background": "light"
     },
     "output_type": "display_data"
    }
   ],
   "source": [
    "# prob 4.4\n",
    "x = [200.8, 194.6, 183.5, 190.5, 210.2, 170.5, 220.0]\n",
    "y = [207.0, 199.0, 188.0, 191.2, 211.0, 176.2, 218.0]\n",
    "n = len(x)\n",
    "# 1\n",
    "sns.scatterplot(x=x, y=y);"
   ]
  },
  {
   "cell_type": "code",
   "execution_count": 67,
   "id": "29c17f8c",
   "metadata": {},
   "outputs": [
    {
     "name": "stdout",
     "output_type": "stream",
     "text": [
      "y = 28.335917511319934 + 0.8700449437418878x\n"
     ]
    },
    {
     "data": {
      "image/png": "[encoded data removed]",
      "text/plain": [
       "<Figure size 432x288 with 1 Axes>"
      ]
     },
     "metadata": {
      "needs_background": "light"
     },
     "output_type": "display_data"
    }
   ],
   "source": [
    "# 2\n",
    "x_bar = np.mean(x) ; y_bar = np.mean(y) ;\n",
    "s_xx = np.std(x, ddof=1)**2 * (len(x)-1)\n",
    "s_yy = np.std(y, ddof=1)**2 * (len(y)-1)\n",
    "s_xy = np.sum(np.multiply(x, y)) - np.sum(x) * np.sum(y) / n\n",
    "\n",
    "beta_1 = s_xy / s_xx ; beta_0 = y_bar - beta_1 * x_bar\n",
    "y_hat = beta_0 + np.multiply(beta_1, x)\n",
    "sse = np.sum(np.diff([y_hat, y], axis=0)**2)\n",
    "var_hat = sse / (len(y_hat)-2)\n",
    "s_hat = np.sqrt(var_hat)\n",
    "print(f\"y = {beta_0} + {beta_1}x\")\n",
    "\n",
    "sns.scatterplot(x=x, y=y);\n",
    "sns.lineplot(x=x, y=y_hat);\n",
    "plt.show()"
   ]
  },
  {
   "cell_type": "code",
   "execution_count": 62,
   "id": "9ad60269",
   "metadata": {},
   "outputs": [
    {
     "name": "stdout",
     "output_type": "stream",
     "text": [
      "0.8700449437418878 0.15324471083149466\n"
     ]
    }
   ],
   "source": [
    "# 3\n",
    "alpha = 0.05\n",
    "t_alpha = stats.t.ppf(1-alpha/2, df=n-2)\n",
    "print(beta_1, t_alpha * s_hat / np.sqrt(s_xx))"
   ]
  },
  {
   "cell_type": "code",
   "execution_count": 68,
   "id": "42863b87",
   "metadata": {},
   "outputs": [
    {
     "name": "stdout",
     "output_type": "stream",
     "text": [
      "y = 112.25184135977338 + 0.9674220963172805x\n"
     ]
    }
   ],
   "source": [
    "# prob 4.6\n",
    "# 1\n",
    "n = 15 ; x_bar = 10.8 ; y_bar = 122.7\n",
    "s_xx = 70.6 ; s_yy = 98.5 ; s_xy = 68.3\n",
    "\n",
    "beta_1 = s_xy / s_xx ; beta_0 = y_bar - beta_1 * x_bar\n",
    "print(f\"y = {beta_0} + {beta_1}x\")"
   ]
  },
  {
   "cell_type": "code",
   "execution_count": 70,
   "id": "be614739",
   "metadata": {},
   "outputs": [
    {
     "name": "stdout",
     "output_type": "stream",
     "text": [
      "32.425070821529744\n",
      "2.4942362170407497\n"
     ]
    }
   ],
   "source": [
    "# 2\n",
    "sse = s_yy - s_xy**2 / s_xx ; print(sse)\n",
    "var_hat = sse / (n-2); print(var_hat)"
   ]
  },
  {
   "cell_type": "code",
   "execution_count": 72,
   "id": "bafb1393",
   "metadata": {},
   "outputs": [
    {
     "data": {
      "text/plain": [
       "0.9674220963172805"
      ]
     },
     "execution_count": 72,
     "metadata": {},
     "output_type": "execute_result"
    }
   ],
   "source": [
    "# 3\n",
    "beta_1 * 1"
   ]
  },
  {
   "cell_type": "code",
   "execution_count": 76,
   "id": "1e1084b6",
   "metadata": {},
   "outputs": [
    {
     "data": {
      "image/png": "[encoded data removed]",
      "text/plain": [
       "<Figure size 432x288 with 1 Axes>"
      ]
     },
     "metadata": {
      "needs_background": "light"
     },
     "output_type": "display_data"
    }
   ],
   "source": [
    "# prob 4.8\n",
    "# 1\n",
    "x = [1,2,3,4,5,6,7,8,9,10,11,12,13,14,15]\n",
    "y = [355,211,197,166,142,106,104,60,56,38,36,32,21,19,15]\n",
    "\n",
    "sns.scatterplot(x=x,y=y);"
   ]
  },
  {
   "cell_type": "code",
   "execution_count": 79,
   "id": "9fec8519",
   "metadata": {},
   "outputs": [
    {
     "name": "stdout",
     "output_type": "stream",
     "text": [
      "y = 259.58095238095234 + -19.46428571428571 x\n"
     ]
    }
   ],
   "source": [
    "# 2\n",
    "x_bar = np.mean(x) ; y_bar = np.mean(y) ; n = len(x)\n",
    "s_xx = np.std(x, ddof=1)**2 * (len(x)-1)\n",
    "s_yy = np.std(y, ddof=1)**2 * (len(y)-1)\n",
    "s_xy = np.sum(np.multiply(x, y)) - np.sum(x) * np.sum(y) / n\n",
    "\n",
    "beta_1 = s_xy / s_xx ; beta_0 = y_bar - beta_1 * x_bar\n",
    "print(f\"y = {beta_0} + {beta_1} x\")"
   ]
  },
  {
   "cell_type": "code",
   "execution_count": 80,
   "id": "2d7149d7",
   "metadata": {},
   "outputs": [
    {
     "name": "stdout",
     "output_type": "stream",
     "text": [
      "-110.24047619047616\n"
     ]
    }
   ],
   "source": [
    "# 3\n",
    "print(beta_0 + beta_1 * 19)"
   ]
  },
  {
   "cell_type": "markdown",
   "id": "1d753442",
   "metadata": {},
   "source": [
    "## 13.5 선형관계의 강도\n",
    "> $$ y_i \\quad = \\quad \\hat{y_i} \\quad + \\quad e_i = (\\hat{\\beta_0}) \\quad + \\quad (y_i-\\hat{\\beta_0}-\\hat{\\beta_1}x_i) \\\\ 관측된\\ 종속변수 \\quad = \\quad 선형관계로\\ 설명되는\\ y부분 \\quad + \\quad 선형관계로 \\ 설명되지\\ 않는\\ 부분 \\\\ (SST) \\quad = \\quad (SSR) \\quad + \\quad (SSE) $$\n",
    "- 모든 관측점이 직선 위에 놓이는 경우, 잔차 $e_i$는 모두 0이 되고, y값은 x로 표현되는 선형관계로 완전히 설명될 수 있다. 따라서 잔차들이 값이 0으로부터 멀어질수록 선형관계가 약하다고 할 수 있는데\n",
    "$$ SSE = \\sum e^2_i =\\sum(y_i-\\hat{\\beta_0}-\\hat{\\beta_1}x_i)^2=S_{yy}-\\frac{S_{xy}^2}{S_{xx}}$$\n",
    "는 자료의 전체적인 경향이 선형관계에서 얼만큼 벗어났는가 측정하는 값으로 해석 가능\n",
    "- 자료의 y값들이 나타내는 변동의 크기는 총제곱합(total sum of squares) $$ SST = S_{yy}=\\sum(y_i-\\bar{y})^2$$ 로 측정될 수 있고, \n",
    "$$S_{yy}=(S_{yy}-\\frac{S_{xy}^2}{S_{xx}})+\\frac{S_{xy}^2}{S_{xx}}=SSE+\\frac{S_{xy}^2}{S_{xx}} = \\sum(y_i-\\hat{y_i})^2 + \\sum(\\hat{y_i}-\\bar{y})^2$$ 를 통하여, SSE가 y의 총 변동 SST의 한 부분을 형성함을 알 수 있다.\n",
    "- 이때, $SSR = \\frac{S_{xy}^2}{S_{xx}}$을 자료의 y값들의 총 변동 중에서 회귀모형에 의해서 설명될 수 있는 부분이라고 해석가능한데 이를 SSR (회귀제곱합)이라고 한다.\n",
    "- 선형모형이 주어진 자료에 적합하다는 것은 SSR이 SST의 대부분에 해당된다. 회귀모형을 고려하지 않는다면, 종속변수의 예측값으로 평균$\\bar{y}$를 사용할 것이고, 이러한 예측값을 사용하는데 따른 오차의 제곱합 SSE는 SST자체가 될 것.\n",
    "> **결정계수 : 선형모형이 어느정도 적합한가의 측도**\n",
    "> $$R^2=\\frac{SSR}{SST}=\\frac{S_{xy}^2}{S_{xx}S_{yy}}=1-\\frac{SSE}{SST}$$\n",
    "- 결정계수의 값은 항상 0~1\n",
    "- 표본상관계수 $\\gamma = \\frac{S_{xy}}{\\sqrt{S_{xx}S_{yy}}}$로서, $R^2$는 표본상관계수의 제곱 => 결정계수의 값이 1에 가까울 수록, 산점도에서 관측점들이 직선 주위에 가깝게 몰려있고, 선형회귀모형이 관측결과를 잘 설명해준다고 할 수 있다.\n",
    "- $R^2$가 0에 가까운 경우\n",
    "    1) 산점도에서 특별한 경향이 안 보이는 경우 => 더 좋은 모형 기대 불가\n",
    "    2) 산점도에서 관측점들이 곡선 경향을 보이는 경우 => 비선형모형 고려 필요"
   ]
  },
  {
   "cell_type": "code",
   "execution_count": 81,
   "id": "e7bb3412",
   "metadata": {},
   "outputs": [
    {
     "data": {
      "text/plain": [
       "0.8283828208791015"
      ]
     },
     "execution_count": 81,
     "metadata": {},
     "output_type": "execute_result"
    }
   ],
   "source": [
    "# example 8\n",
    "x = [3,3,4,5,6,6,7,8,8,9]\n",
    "y = [9,5,12,9,14,16,22,18,24,22]\n",
    "\n",
    "x_bar = np.mean(x) ; y_bar = np.mean(y) ; n = len(x)\n",
    "s_xx = np.std(x,ddof=1) ** 2 * (len(x)-1)\n",
    "s_yy = np.std(y,ddof=1) ** 2 * (len(y)-1)\n",
    "s_xy = np.sum(np.multiply(x,y)) - np.sum(x) * np.sum(y)/len(y)\n",
    "\n",
    "beta_1 = s_xy / s_xx ; beta_0 = y_bar - beta_1 * x_bar\n",
    "r2 = s_xy ** 2/ (s_xx * s_yy); r2"
   ]
  },
  {
   "cell_type": "code",
   "execution_count": 87,
   "id": "06c67a27",
   "metadata": {},
   "outputs": [
    {
     "data": {
      "text/plain": [
       "0.5189918991899191"
      ]
     },
     "execution_count": 87,
     "metadata": {},
     "output_type": "execute_result"
    }
   ],
   "source": [
    "# prob 5.2\n",
    "\n",
    "s_xx = 10.1 ; s_yy = 16.5 ; s_xy = 9.3\n",
    "r2 = s_xy**2 / (s_xx * s_yy); r2"
   ]
  },
  {
   "cell_type": "code",
   "execution_count": 91,
   "id": "51efa855",
   "metadata": {},
   "outputs": [
    {
     "data": {
      "text/plain": [
       "0.9846153846153847"
      ]
     },
     "execution_count": 91,
     "metadata": {},
     "output_type": "execute_result"
    }
   ],
   "source": [
    "# prob 5.4\n",
    "x = [0,1,6,3,5] ; y = [4,3,0,2,1] ; n = len(y)\n",
    "# 1\n",
    "x_bar = np.mean(x) ; y_bar = np.mean(y)\n",
    "s_xx = np.sum(np.power(x, 2)) - n * x_bar**2\n",
    "s_yy = np.sum(np.power(y, 2)) - n * y_bar**2\n",
    "s_xy = np.sum(np.multiply(x,y)) - n * x_bar * y_bar\n",
    "r2 = s_xy ** 2 / (s_xx * s_yy); r2"
   ]
  },
  {
   "cell_type": "code",
   "execution_count": 95,
   "id": "aa5f4729",
   "metadata": {},
   "outputs": [
    {
     "data": {
      "text/plain": [
       "-0.9922778767136677"
      ]
     },
     "execution_count": 95,
     "metadata": {},
     "output_type": "execute_result"
    }
   ],
   "source": [
    "# 2\n",
    "gamma = s_xy / np.sqrt(s_xx * s_yy)\n",
    "gamma"
   ]
  },
  {
   "cell_type": "code",
   "execution_count": null,
   "id": "81411805",
   "metadata": {},
   "outputs": [],
   "source": [
    "# 3\n"
   ]
  },
  {
   "cell_type": "code",
   "execution_count": null,
   "id": "3247dc01",
   "metadata": {},
   "outputs": [],
   "source": []
  },
  {
   "cell_type": "code",
   "execution_count": null,
   "id": "14b7c8c3",
   "metadata": {},
   "outputs": [],
   "source": []
  },
  {
   "cell_type": "code",
   "execution_count": null,
   "id": "c420bcce",
   "metadata": {},
   "outputs": [],
   "source": []
  },
  {
   "cell_type": "code",
   "execution_count": null,
   "id": "194c15b2",
   "metadata": {},
   "outputs": [],
   "source": []
  },
  {
   "cell_type": "code",
   "execution_count": 35,
   "id": "5d263d39",
   "metadata": {},
   "outputs": [
    {
     "data": {
      "text/html": [
       "<table class=\"simpletable\">\n",
       "<caption>OLS Regression Results</caption>\n",
       "<tr>\n",
       "  <th>Dep. Variable:</th>         <td>weight</td>      <th>  R-squared:         </th> <td>   0.542</td>\n",
       "</tr>\n",
       "<tr>\n",
       "  <th>Model:</th>                   <td>OLS</td>       <th>  Adj. R-squared:    </th> <td>   0.533</td>\n",
       "</tr>\n",
       "<tr>\n",
       "  <th>Method:</th>             <td>Least Squares</td>  <th>  F-statistic:       </th> <td>   58.01</td>\n",
       "</tr>\n",
       "<tr>\n",
       "  <th>Date:</th>             <td>Wed, 24 Jan 2024</td> <th>  Prob (F-statistic):</th> <td>7.40e-10</td>\n",
       "</tr>\n",
       "<tr>\n",
       "  <th>Time:</th>                 <td>21:59:12</td>     <th>  Log-Likelihood:    </th> <td> -168.30</td>\n",
       "</tr>\n",
       "<tr>\n",
       "  <th>No. Observations:</th>      <td>    51</td>      <th>  AIC:               </th> <td>   340.6</td>\n",
       "</tr>\n",
       "<tr>\n",
       "  <th>Df Residuals:</th>          <td>    49</td>      <th>  BIC:               </th> <td>   344.5</td>\n",
       "</tr>\n",
       "<tr>\n",
       "  <th>Df Model:</th>              <td>     1</td>      <th>                     </th>     <td> </td>   \n",
       "</tr>\n",
       "<tr>\n",
       "  <th>Covariance Type:</th>      <td>nonrobust</td>    <th>                     </th>     <td> </td>   \n",
       "</tr>\n",
       "</table>\n",
       "<table class=\"simpletable\">\n",
       "<tr>\n",
       "      <td></td>         <th>coef</th>     <th>std err</th>      <th>t</th>      <th>P>|t|</th>  <th>[0.025</th>    <th>0.975]</th>  \n",
       "</tr>\n",
       "<tr>\n",
       "  <th>Intercept</th> <td> -100.7820</td> <td>   20.912</td> <td>   -4.819</td> <td> 0.000</td> <td> -142.806</td> <td>  -58.758</td>\n",
       "</tr>\n",
       "<tr>\n",
       "  <th>height</th>    <td>    0.9479</td> <td>    0.124</td> <td>    7.616</td> <td> 0.000</td> <td>    0.698</td> <td>    1.198</td>\n",
       "</tr>\n",
       "</table>\n",
       "<table class=\"simpletable\">\n",
       "<tr>\n",
       "  <th>Omnibus:</th>       <td> 5.480</td> <th>  Durbin-Watson:     </th> <td>   2.220</td>\n",
       "</tr>\n",
       "<tr>\n",
       "  <th>Prob(Omnibus):</th> <td> 0.065</td> <th>  Jarque-Bera (JB):  </th> <td>   4.425</td>\n",
       "</tr>\n",
       "<tr>\n",
       "  <th>Skew:</th>          <td> 0.569</td> <th>  Prob(JB):          </th> <td>   0.109</td>\n",
       "</tr>\n",
       "<tr>\n",
       "  <th>Kurtosis:</th>      <td> 3.886</td> <th>  Cond. No.          </th> <td>3.75e+03</td>\n",
       "</tr>\n",
       "</table><br/><br/>Notes:<br/>[1] Standard Errors assume that the covariance matrix of the errors is correctly specified.<br/>[2] The condition number is large, 3.75e+03. This might indicate that there are<br/>strong multicollinearity or other numerical problems."
      ],
      "text/plain": [
       "<class 'statsmodels.iolib.summary.Summary'>\n",
       "\"\"\"\n",
       "                            OLS Regression Results                            \n",
       "==============================================================================\n",
       "Dep. Variable:                 weight   R-squared:                       0.542\n",
       "Model:                            OLS   Adj. R-squared:                  0.533\n",
       "Method:                 Least Squares   F-statistic:                     58.01\n",
       "Date:                Wed, 24 Jan 2024   Prob (F-statistic):           7.40e-10\n",
       "Time:                        21:59:12   Log-Likelihood:                -168.30\n",
       "No. Observations:                  51   AIC:                             340.6\n",
       "Df Residuals:                      49   BIC:                             344.5\n",
       "Df Model:                           1                                         \n",
       "Covariance Type:            nonrobust                                         \n",
       "==============================================================================\n",
       "                 coef    std err          t      P>|t|      [0.025      0.975]\n",
       "------------------------------------------------------------------------------\n",
       "Intercept   -100.7820     20.912     -4.819      0.000    -142.806     -58.758\n",
       "height         0.9479      0.124      7.616      0.000       0.698       1.198\n",
       "==============================================================================\n",
       "Omnibus:                        5.480   Durbin-Watson:                   2.220\n",
       "Prob(Omnibus):                  0.065   Jarque-Bera (JB):                4.425\n",
       "Skew:                           0.569   Prob(JB):                        0.109\n",
       "Kurtosis:                       3.886   Cond. No.                     3.75e+03\n",
       "==============================================================================\n",
       "\n",
       "Notes:\n",
       "[1] Standard Errors assume that the covariance matrix of the errors is correctly specified.\n",
       "[2] The condition number is large, 3.75e+03. This might indicate that there are\n",
       "strong multicollinearity or other numerical problems.\n",
       "\"\"\""
      ]
     },
     "execution_count": 35,
     "metadata": {},
     "output_type": "execute_result"
    }
   ],
   "source": [
    "# example 9\n",
    "height = [181, 161, 170, 160, 158, 168, 162, 179, 183, 178, 171, 177, 163, \n",
    "          158, 160, 160, 158, 173, 160, 163, 167, 165, 163, 173, 178, 170, \n",
    "          167, 177, 175, 169,152, 158, 160, 160, 159, 180, 169, 162, 178, \n",
    "          173, 173, 171, 171, 170, 160, 167, 168, 166, 164, 173, 180]\n",
    "\n",
    "weight = [78,49,52,53,50,57,53,54,71,73,55,73,51,53,65,48,59,64,48,53,78,\n",
    "          45,56,70,68,59,55,64,59,55,38,45,50,46,50,63,71,52,74,52,61,65,\n",
    "          68,57,47,48,58,59,55,74,74]\n",
    "\n",
    "data = pd.DataFrame({'height':height, 'weight':weight})\n",
    "fit = sm.ols('weight ~ height', data=data).fit()\n",
    "fit.summary()"
   ]
  },
  {
   "cell_type": "code",
   "execution_count": 36,
   "id": "a35c9524",
   "metadata": {},
   "outputs": [
    {
     "data": {
      "text/html": [
       "<div>\n",
       "<style scoped>\n",
       "    .dataframe tbody tr th:only-of-type {\n",
       "        vertical-align: middle;\n",
       "    }\n",
       "\n",
       "    .dataframe tbody tr th {\n",
       "        vertical-align: top;\n",
       "    }\n",
       "\n",
       "    .dataframe thead th {\n",
       "        text-align: right;\n",
       "    }\n",
       "</style>\n",
       "<table border=\"1\" class=\"dataframe\">\n",
       "  <thead>\n",
       "    <tr style=\"text-align: right;\">\n",
       "      <th></th>\n",
       "      <th>0</th>\n",
       "      <th>1</th>\n",
       "    </tr>\n",
       "  </thead>\n",
       "  <tbody>\n",
       "    <tr>\n",
       "      <th>Intercept</th>\n",
       "      <td>-142.806014</td>\n",
       "      <td>-58.757955</td>\n",
       "    </tr>\n",
       "    <tr>\n",
       "      <th>height</th>\n",
       "      <td>0.697793</td>\n",
       "      <td>1.197985</td>\n",
       "    </tr>\n",
       "  </tbody>\n",
       "</table>\n",
       "</div>"
      ],
      "text/plain": [
       "                    0          1\n",
       "Intercept -142.806014 -58.757955\n",
       "height       0.697793   1.197985"
      ]
     },
     "execution_count": 36,
     "metadata": {},
     "output_type": "execute_result"
    }
   ],
   "source": [
    "fit.conf_int(0.05)"
   ]
  },
  {
   "cell_type": "code",
   "execution_count": 37,
   "id": "fd059426",
   "metadata": {},
   "outputs": [
    {
     "data": {
      "image/png": "[encoded data removed]",
      "text/plain": [
       "<Figure size 432x288 with 4 Axes>"
      ]
     },
     "metadata": {
      "needs_background": "light"
     },
     "output_type": "display_data"
    }
   ],
   "source": [
    "font_name = font_manager.FontProperties().get_name()\n",
    "rc('font', family=font_name, size=10)\n",
    "rcParams['axes.unicode_minus'] = False\n",
    "\n",
    "fig, axes = plt.subplots(nrows=2,ncols=2)\n",
    "slope, intercept = np.polyfit(height, weight, 1)\n",
    "abline_values = [slope * i + intercept for i in height]\n",
    "data = pd.DataFrame([height, weight, abline_values]).T.rename(columns={0:'height', 1:'weight', 2:'abline_values'})\n",
    "fig1_1 = sns.lineplot(x=\"height\", y=\"abline_values\", data=data, ax=axes[0,0]);\n",
    "fig1_1.set_title(\"height regression\")\n",
    "fig1_1.set_xlabel('height')\n",
    "fig1_1.set_ylabel('weight')\n",
    "fig1_2 = sns.scatterplot(x='height', y='weight', data=data, ax=axes[0,0]);\n",
    "plt.tight_layout()\n",
    "\n",
    "r = fit.resid\n",
    "fig2 = sns.scatterplot(x=height, y=r, ax=axes[0,1]);\n",
    "fig2.set_title('height residual plot')\n",
    "fig2.set_xlabel(\"height\")\n",
    "fig2.set_ylabel('weight')\n",
    "plt.tight_layout()\n",
    "\n",
    "fig3 = stats.probplot(r, dist='norm', plot=axes[1,0])\n",
    "# fig3.title(\"redisuals normal prob plot\")\n",
    "# plt.title(\"redisuals normal prob plot\")\n",
    "plt.show()\n"
   ]
  },
  {
   "cell_type": "code",
   "execution_count": null,
   "id": "47875e38",
   "metadata": {},
   "outputs": [],
   "source": []
  }
 ],
 "metadata": {
  "kernelspec": {
   "display_name": "adp",
   "language": "python",
   "name": "adp_class"
  },
  "language_info": {
   "codemirror_mode": {
    "name": "ipython",
    "version": 3
   },
   "file_extension": ".py",
   "mimetype": "text/x-python",
   "name": "python",
   "nbconvert_exporter": "python",
   "pygments_lexer": "ipython3",
   "version": "3.7.13"
  }
 },
 "nbformat": 4,
 "nbformat_minor": 5
}
