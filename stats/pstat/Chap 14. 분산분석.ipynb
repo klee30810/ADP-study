{
 "cells": [
  {
   "cell_type": "code",
   "execution_count": 3,
   "id": "236b7ac5",
   "metadata": {},
   "outputs": [],
   "source": [
    "import pandas as pd\n",
    "import numpy as np\n",
    "\n",
    "from scipy import stats\n",
    "import statsmodels.formula.api as sm\n",
    "from statsmodels import regression\n",
    "import statsmodels\n",
    "\n",
    "import matplotlib.pyplot as plt\n",
    "import seaborn as sns\n",
    "from matplotlib import font_manager, rc, rcParams"
   ]
  },
  {
   "cell_type": "markdown",
   "id": "3a4b6c71",
   "metadata": {},
   "source": [
    "# Chap 14. 분산분석\n",
    "## 14.1 서론\n",
    "- 셋 이상의 모집단 간의 평균을 비교하는 방법\n",
    "- 관측값들이 달라지는 것을 여러 요인으로 나누어 각 요인들이 얼마나 변화의 정도에 기여하였는가 분석"
   ]
  },
  {
   "cell_type": "markdown",
   "id": "920fe313",
   "metadata": {},
   "source": [
    "## 14.2 일원배치 분산분석\n",
    "- 관측값 분해 : 개개 관측값의 총평균에 대한 편차 $(y_{ij}-\\bar{y})$, 각 코팅처리 간의 평균값의 차이에 기인하는 부분 $(\\bar{y_i})$ 동일한 코팅처리 내에서 발생하는 측정값의 오차에 의한 부분, $(y_{ij}-\\bar{y_i})$ $$관측값\\ = \\ (총평균)\\ +\\ (처리에\\ 의한\\ 편차)\\ + \\ (잔차) $$ $$ y_{ij}\\ =\\quad \\bar{y}\\quad (\\bar{y_i}-\\bar{y})\\quad +\\ (y_{ij}-\\bar{y_i})$$\n",
    "- 만일 네 코팅에서 얻어진 평균 마모도 차이가 없다면 $(\\bar{y_i}-\\bar{y})$는 0에 가까워야 함\n",
    "  - 전체 처리효과들의 변동을 측정하는 양으로, 이 행렬의 모든 원소 제곱합을 하면 **처리제곱합**(treatment sum of squares, SStr) $$SStr = \\sum^n_{i=1} n_i(\\bar{y_i}-\\bar{y})^2$$\n",
    "- $(y_{ij}-\\bar{y_i})$ : 각 관측값과, 관측값이 속한 처리 평균과의 편차 => 실험에 사용되는 물질 자체의 변동값이나, 측정기기의 변동값 반영 / **랜덤오차**\n",
    "  - 모든 랜덤오차의 제곱합 : **오차제곱합**(error sum of squares, SSE), 각 처리마다 잔차의 제곱합을 구한 후, 모든 처리에서 그 값을 합한 것 $$SSE = \\sum^n_{i=1} \\sum^{n_i}_{j=1}(y_ij-\\bar{y_i})^2$$\n",
    "- $(y_{ij}-\\bar{y})$ : 개개 관측치의 총평균에 대한 잔차, 모든 편차들의 제곱합, **총제곱합**(Total sum of squares, SST) $$SST = \\sum^n_{i=1} \\sum^{n_i}_{j=1}(y_{ij}-\\bar{y})^2$$\n",
    "> $$SST\\ =\\ SStr\\ +\\ SSE$$\n",
    ">\n",
    "> (제곱합의 자유도) = (제곱을 하여 더하는 항의 수) - (각 항들에 의하여 만족되는 선형 제약조건의 수)\n",
    "\n",
    "예시)\n",
    "- 처리제곱합은 4개 항의 합 $\\sum^4_{i=1}n_i(\\bar{y_i}-\\bar{y})^2$\n",
    "- 각 항들은 다음의 한 가지 제약조건 만족 $\\sum^n_{i-1}n_i (\\bar{y_i}-\\bar{y})=0$\n",
    "- 총평균 $\\bar{y}$는 처리평균들의 가중평균의 제약조건 등호 성립 $\\bar{y}=\\frac{\\sum n_i\\bar{y_i}}{\\sum n_i}$\n",
    "- 결과적으로 처리제곱합 자유도 : 4개 case -1 / 오차제곱합의 자유도 : 총 데이터갯수 - 4개 case / 총제곱합 자유도 총 데이터 갯수 - 1\n",
    "$$\\sum^k_{i=1}\\sum^{n_i}_{j=1}(y_{ij}-\\bar{y})^2 = \\sum^k_{i=1}n_i(\\bar{y_i}-\\bar{y})^2+\\sum^k_{i=1}\\sum^{n_i}_{j=1}(y_{ij}-\\bar{y_i})^2$$\n",
    "$$총제곱합(\\sum^k_{i=1}n_i-1)\\ =\\ 처리제곱합(k-1)\\ +\\ 오차제곱합(\\sum^k_{i=1}n_i-k)$$\n",
    "- 평균제곱(mean square) = $\\frac{제곱합}{자유도}$\n",
    "\n",
    "### 제곱합의 간편 계산식\n",
    "$T_i=\\sum^{n_i}_{j=1}y_{ij}$ : 처리 i에서의 모든 관측값의 합계\n",
    "\n",
    "$T=\\sum^k_{i=1}T_i=\\sum^{k}_{i=1}\\sum^{n_i}_{j=1}y_{ij}$ : 모든 관측값의 총계\n",
    "$$SST=\\sum^k_{i=1}\\sum^{n_i}_{j=1}y_{ij}^2-\\frac{T^2}{n},$$"
   ]
  },
  {
   "cell_type": "code",
   "execution_count": 4,
   "id": "5fc8df70",
   "metadata": {},
   "outputs": [
    {
     "data": {
      "text/html": [
       "<div>\n",
       "<style scoped>\n",
       "    .dataframe tbody tr th:only-of-type {\n",
       "        vertical-align: middle;\n",
       "    }\n",
       "\n",
       "    .dataframe tbody tr th {\n",
       "        vertical-align: top;\n",
       "    }\n",
       "\n",
       "    .dataframe thead th {\n",
       "        text-align: right;\n",
       "    }\n",
       "</style>\n",
       "<table border=\"1\" class=\"dataframe\">\n",
       "  <thead>\n",
       "    <tr style=\"text-align: right;\">\n",
       "      <th></th>\n",
       "      <th>y</th>\n",
       "      <th>treat</th>\n",
       "    </tr>\n",
       "  </thead>\n",
       "  <tbody>\n",
       "    <tr>\n",
       "      <th>0</th>\n",
       "      <td>10</td>\n",
       "      <td>A</td>\n",
       "    </tr>\n",
       "    <tr>\n",
       "      <th>1</th>\n",
       "      <td>15</td>\n",
       "      <td>A</td>\n",
       "    </tr>\n",
       "    <tr>\n",
       "      <th>2</th>\n",
       "      <td>8</td>\n",
       "      <td>A</td>\n",
       "    </tr>\n",
       "    <tr>\n",
       "      <th>3</th>\n",
       "      <td>12</td>\n",
       "      <td>A</td>\n",
       "    </tr>\n",
       "    <tr>\n",
       "      <th>4</th>\n",
       "      <td>15</td>\n",
       "      <td>A</td>\n",
       "    </tr>\n",
       "  </tbody>\n",
       "</table>\n",
       "</div>"
      ],
      "text/plain": [
       "    y treat\n",
       "0  10     A\n",
       "1  15     A\n",
       "2   8     A\n",
       "3  12     A\n",
       "4  15     A"
      ]
     },
     "execution_count": 4,
     "metadata": {},
     "output_type": "execute_result"
    }
   ],
   "source": [
    "# example 4\n",
    "y = np.array([10,15,8,12,15,14,18,21,15,17,16,14,15,17,15,18,12,15,17,15,16,15])\n",
    "treat = np.repeat(['A','B','C','D'], [5,4,7,6])\n",
    "data = pd.DataFrame({'y':y, 'treat':treat})\n",
    "data.head()"
   ]
  },
  {
   "cell_type": "code",
   "execution_count": 5,
   "id": "08c71360",
   "metadata": {},
   "outputs": [
    {
     "data": {
      "text/html": [
       "<div>\n",
       "<style scoped>\n",
       "    .dataframe tbody tr th:only-of-type {\n",
       "        vertical-align: middle;\n",
       "    }\n",
       "\n",
       "    .dataframe tbody tr th {\n",
       "        vertical-align: top;\n",
       "    }\n",
       "\n",
       "    .dataframe thead th {\n",
       "        text-align: right;\n",
       "    }\n",
       "</style>\n",
       "<table border=\"1\" class=\"dataframe\">\n",
       "  <thead>\n",
       "    <tr style=\"text-align: right;\">\n",
       "      <th></th>\n",
       "      <th>df</th>\n",
       "      <th>sum_sq</th>\n",
       "      <th>mean_sq</th>\n",
       "      <th>F</th>\n",
       "      <th>PR(&gt;F)</th>\n",
       "    </tr>\n",
       "  </thead>\n",
       "  <tbody>\n",
       "    <tr>\n",
       "      <th>treat</th>\n",
       "      <td>3.0</td>\n",
       "      <td>68.0</td>\n",
       "      <td>22.666667</td>\n",
       "      <td>4.340426</td>\n",
       "      <td>0.018136</td>\n",
       "    </tr>\n",
       "    <tr>\n",
       "      <th>Residual</th>\n",
       "      <td>18.0</td>\n",
       "      <td>94.0</td>\n",
       "      <td>5.222222</td>\n",
       "      <td>NaN</td>\n",
       "      <td>NaN</td>\n",
       "    </tr>\n",
       "  </tbody>\n",
       "</table>\n",
       "</div>"
      ],
      "text/plain": [
       "            df  sum_sq    mean_sq         F    PR(>F)\n",
       "treat      3.0    68.0  22.666667  4.340426  0.018136\n",
       "Residual  18.0    94.0   5.222222       NaN       NaN"
      ]
     },
     "execution_count": 5,
     "metadata": {},
     "output_type": "execute_result"
    }
   ],
   "source": [
    "from statsmodels.stats.anova import anova_lm\n",
    "import statsmodels.formula.api as sm\n",
    "\n",
    "lmfit = sm.ols('y ~ treat', data=data).fit()\n",
    "anova_lm(lmfit)"
   ]
  },
  {
   "cell_type": "code",
   "execution_count": 8,
   "id": "3770f934",
   "metadata": {},
   "outputs": [],
   "source": [
    "# example 1\n",
    "a = [10,15,8,12,15] ; b = [14,18,21,15] ; c = [17,16,14,15,17,15,18] ; d = [12,15,17,15,16,15]"
   ]
  },
  {
   "cell_type": "code",
   "execution_count": 9,
   "id": "2a40d133",
   "metadata": {},
   "outputs": [
    {
     "name": "stdout",
     "output_type": "stream",
     "text": [
      "162.0 68.0 94.0\n"
     ]
    }
   ],
   "source": [
    "# example 2\n",
    "ta = np.sum(a) ; tb = np.sum(b) ; tc = np.sum(c) ; td = np.sum(d)\n",
    "t = ta + tb + tc + td\n",
    "t2 = np.sum(np.power(a,2)) + np.sum(np.power(b,2)) + np.sum(np.power(c,2)) + np.sum(np.power(d,2))\n",
    "\n",
    "sst = t2 - t**2/(len(a) + len(b) + len(c) + len(d))\n",
    "sstr = ta**2/len(a) + tb**2/len(b) + tc**2/len(c) + td**2/len(d) - t**2/(len(a) + len(b) + len(c) + len(d))\n",
    "sse = sst - sstr\n",
    "print(sst, sstr, sse)"
   ]
  },
  {
   "cell_type": "code",
   "execution_count": 10,
   "id": "7fd30975",
   "metadata": {},
   "outputs": [
    {
     "name": "stdout",
     "output_type": "stream",
     "text": [
      "처리 : 312.0000, 2, 156.0\n",
      "오차 : 170.0000, 9, 18.88888888888889\n",
      "합계 : 482.0000, 11\n"
     ]
    }
   ],
   "source": [
    "# prob 2.2\n",
    "a = [35,24,28,21] ; b = [19,14,14,13] ; c = [21,16,21,14]\n",
    "ta = np.sum(a) ; tb = np.sum(b) ; tc = np.sum(c)\n",
    "t = ta + tb + tc\n",
    "t2 = np.sum(np.power(a,2)) + np.sum(np.power(b,2)) + np.sum(np.power(c,2))\n",
    "\n",
    "sst = t2 - t**2/(len(a) + len(b) + len(c))\n",
    "sstr = ta**2/len(a) + tb**2/len(b) + tc**2/len(c) - t**2/(len(a) + len(b) + len(c) )\n",
    "sse = sst - sstr\n",
    "\n",
    "k = 3\n",
    "df_tr = k - 1 ; df_e = (len(a) + len(b) + len(c)) - k ; df = df_tr + df_e\n",
    "\n",
    "mstr = sstr / (k-1)\n",
    "mse = sse / (len(a)+len(b)+len(c)-k)\n",
    "\n",
    "print(f\"처리 : {sstr:.4f}, {df_tr}, {mstr}\")\n",
    "print(f\"오차 : {sse:.4f}, {df_e}, {mse}\")\n",
    "print(f\"합계 : {sst:.4f}, {df}\")"
   ]
  },
  {
   "cell_type": "code",
   "execution_count": 11,
   "id": "cbc1b272",
   "metadata": {},
   "outputs": [],
   "source": [
    "# prob 2.4"
   ]
  },
  {
   "cell_type": "code",
   "execution_count": null,
   "id": "86a890ca",
   "metadata": {},
   "outputs": [],
   "source": []
  },
  {
   "cell_type": "code",
   "execution_count": null,
   "id": "e5a79114",
   "metadata": {},
   "outputs": [],
   "source": []
  },
  {
   "cell_type": "markdown",
   "id": "2bee7d81",
   "metadata": {},
   "source": [
    "## 14.3 일원배치 분산분석모형에서의 추론\n",
    "\n",
    "### F분포\n",
    "- k개 모집단 모평균 차이가 없다는 귀무가설이 있을 때, 귀무가설이 맞다면 $\\bar{y_i}-\\bar{y}$ 값들이 작아질 것이고, 이것의 함수인 평균처리 제곱($MStr=\\sum n_i(\\bar{y_i}-\\bar{y})^2$도 작아질 것. 귀무가설이 기각되면 평균처리 제곱도 커질 것\n",
    "- 평균처리제곱의 크기에 따라 귀무가설 기각 여부를 결정하는데, 그 기준으로 공통분산 추정치인 평균오차제곱($MSE=s^2$)이 쓰일 것\n",
    "=> 평균오차제곱에 대한 평균처리제곱의 비율($\\frac{MStr}{MSE}$)에 따라 기각여부 결정. 이 통계량은 모평균이 동일하다는 귀무가설 하에서 자유도가 (k-1, n-k)인 F분포를 따른다. $$F=\\frac{MStr}{MSE}=\\frac{SStr/(k-1)}{SSE/(n-k)}\\sim F(k-1, n-k)$$\n",
    "- 분자와 분모의 자유도에 의하여 결정 : $F_{\\alpha}(v_i, v_2), \\quad F_{1-\\alpha}(v_1, v_2)=\\frac{1}{F_\\alpha(v_2, v_1)}$\n",
    "> **F분포를 이용한 모평균의 동일성 검정**\n",
    ">\n",
    ">$$F=\\frac{MStr}{MSE}=\\frac{SStr/(k-1)}{SSE/(n-k)}\\sim F(k-1, n-k)$$\n",
    ">검정통계량의 분포는 귀무가설이 맞을 때 자유도가 (k-1, n-k)인 F분포를 따르고 유의수준 $\\alpha$의 기각역은 다음과 같음 $$R:F=\\frac{MStr}{MSE}\\geq f_\\alpha(k-1, n-k)$$\n",
    "> 이때 $n=\\sum^k_{i=1}n_i$, $F_\\alpha(k-1, n-k)$는 자유도 (k-1, n-k)인 F분포에서의 상위 $\\alpha$확률을 주는 경계값"
   ]
  },
  {
   "cell_type": "code",
   "execution_count": 2,
   "id": "d12bde44",
   "metadata": {},
   "outputs": [],
   "source": [
    "# example 3\n",
    "a = [10,15,8,12,15] ; \n",
    "alpha = 0.05"
   ]
  },
  {
   "cell_type": "code",
   "execution_count": null,
   "id": "69b89f8c",
   "metadata": {},
   "outputs": [],
   "source": []
  }
 ],
 "metadata": {
  "kernelspec": {
   "display_name": "adp",
   "language": "python",
   "name": "adp_class"
  },
  "language_info": {
   "codemirror_mode": {
    "name": "ipython",
    "version": 3
   },
   "file_extension": ".py",
   "mimetype": "text/x-python",
   "name": "python",
   "nbconvert_exporter": "python",
   "pygments_lexer": "ipython3",
   "version": "3.7.13"
  }
 },
 "nbformat": 4,
 "nbformat_minor": 5
}
