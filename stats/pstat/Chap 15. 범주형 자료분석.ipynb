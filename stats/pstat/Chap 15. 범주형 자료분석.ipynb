{
 "cells": [
  {
   "cell_type": "code",
   "execution_count": 1,
   "id": "61d7a47e",
   "metadata": {},
   "outputs": [],
   "source": [
    "import pandas as pd\n",
    "import numpy as np\n",
    "\n",
    "from scipy import stats\n",
    "import statsmodels.formula.api as sm\n",
    "from statsmodels import regression\n",
    "import statsmodels\n",
    "\n",
    "import matplotlib.pyplot as plt\n",
    "import seaborn as sns\n",
    "from matplotlib import font_manager, rc, rcParams"
   ]
  },
  {
   "cell_type": "markdown",
   "id": "ec94ffb0",
   "metadata": {},
   "source": [
    "# 15. 범주형 자료분석\n",
    "## 15.1 서론\n",
    "- 범주형 자료 : 관측치들이 몇 개의 범주로 분류되고 각 범주의 도수로 자료가 주어지는 것"
   ]
  },
  {
   "cell_type": "code",
   "execution_count": 21,
   "id": "15471acb",
   "metadata": {},
   "outputs": [
    {
     "data": {
      "text/plain": [
       "Power_divergenceResult(statistic=2.62, pvalue=0.26982005638468687)"
      ]
     },
     "execution_count": 21,
     "metadata": {},
     "output_type": "execute_result"
    }
   ],
   "source": [
    "# example 9 \n",
    "obs = [18,55,27]\n",
    "pr = [0.25, 0.5, 0.25]\n",
    "n = np.sum(obs)\n",
    "exp = np.multiply(n, pr)\n",
    "df = len(obs) - 1\n",
    "\n",
    "stats.chisquare(obs, exp)"
   ]
  },
  {
   "cell_type": "code",
   "execution_count": 23,
   "id": "eea11f01",
   "metadata": {},
   "outputs": [
    {
     "data": {
      "text/plain": [
       "(8.22398544438018,\n",
       " 0.01637511094543408,\n",
       " 2,\n",
       " array([[30.4, 20.8, 28.8],\n",
       "        [26.6, 18.2, 25.2]]))"
      ]
     },
     "execution_count": 23,
     "metadata": {},
     "output_type": "execute_result"
    }
   ],
   "source": [
    "# example 10\n",
    "data = pd.DataFrame([['a', 'ok', 37], ['a', 'mid', 24], ['a', 'ng', 19], ['b', 'ok', 17], ['b', 'mid', 33], ['b', 'ng', 20]])\n",
    "diet = pd.crosstab(columns=data[1], index=data[0], values=data[2], aggfunc='sum')#, margins=True)\n",
    "\n",
    "stats.chi2_contingency(diet)"
   ]
  },
  {
   "cell_type": "code",
   "execution_count": null,
   "id": "02763776",
   "metadata": {},
   "outputs": [],
   "source": []
  },
  {
   "cell_type": "code",
   "execution_count": null,
   "id": "7479943e",
   "metadata": {},
   "outputs": [],
   "source": []
  },
  {
   "cell_type": "code",
   "execution_count": null,
   "id": "35ba3e2a",
   "metadata": {},
   "outputs": [],
   "source": []
  },
  {
   "cell_type": "code",
   "execution_count": 2,
   "id": "ce1a70e5",
   "metadata": {},
   "outputs": [
    {
     "name": "stdout",
     "output_type": "stream",
     "text": [
      "0.18 0.55 0.27\n"
     ]
    }
   ],
   "source": [
    "# example 1\n",
    "a = 18 ; b = 55 ; c = 27\n",
    "all_sum = 100\n",
    "pa = a / all_sum\n",
    "pb = b / all_sum\n",
    "pc = c / all_sum\n",
    "print(pa, pb, pc)"
   ]
  },
  {
   "cell_type": "code",
   "execution_count": 4,
   "id": "db26c566",
   "metadata": {},
   "outputs": [
    {
     "data": {
      "text/html": [
       "<div>\n",
       "<style scoped>\n",
       "    .dataframe tbody tr th:only-of-type {\n",
       "        vertical-align: middle;\n",
       "    }\n",
       "\n",
       "    .dataframe tbody tr th {\n",
       "        vertical-align: top;\n",
       "    }\n",
       "\n",
       "    .dataframe thead th {\n",
       "        text-align: right;\n",
       "    }\n",
       "</style>\n",
       "<table border=\"1\" class=\"dataframe\">\n",
       "  <thead>\n",
       "    <tr style=\"text-align: right;\">\n",
       "      <th>1</th>\n",
       "      <th>mid</th>\n",
       "      <th>ng</th>\n",
       "      <th>ok</th>\n",
       "      <th>All</th>\n",
       "    </tr>\n",
       "    <tr>\n",
       "      <th>0</th>\n",
       "      <th></th>\n",
       "      <th></th>\n",
       "      <th></th>\n",
       "      <th></th>\n",
       "    </tr>\n",
       "  </thead>\n",
       "  <tbody>\n",
       "    <tr>\n",
       "      <th>a</th>\n",
       "      <td>24</td>\n",
       "      <td>19</td>\n",
       "      <td>37</td>\n",
       "      <td>80</td>\n",
       "    </tr>\n",
       "    <tr>\n",
       "      <th>b</th>\n",
       "      <td>33</td>\n",
       "      <td>20</td>\n",
       "      <td>17</td>\n",
       "      <td>70</td>\n",
       "    </tr>\n",
       "    <tr>\n",
       "      <th>All</th>\n",
       "      <td>57</td>\n",
       "      <td>39</td>\n",
       "      <td>54</td>\n",
       "      <td>150</td>\n",
       "    </tr>\n",
       "  </tbody>\n",
       "</table>\n",
       "</div>"
      ],
      "text/plain": [
       "1    mid  ng  ok  All\n",
       "0                    \n",
       "a     24  19  37   80\n",
       "b     33  20  17   70\n",
       "All   57  39  54  150"
      ]
     },
     "execution_count": 4,
     "metadata": {},
     "output_type": "execute_result"
    }
   ],
   "source": [
    "# example 3\n",
    "data = pd.DataFrame([['a', 'ok', 37], ['a', 'mid', 24], ['a', 'ng', 19], ['b', 'ok', 17], ['b', 'mid', 33], ['b', 'ng', 20]])\n",
    "diet = pd.crosstab(columns=data[1], index=data[0], values=data[2], aggfunc='sum', margins=True)\n",
    "\n",
    "diet"
   ]
  },
  {
   "cell_type": "code",
   "execution_count": 13,
   "id": "c6f120cf",
   "metadata": {},
   "outputs": [
    {
     "data": {
      "text/plain": [
       "'동질성 검정의 귀무가설은 p_{Ai} = p_{Bi}'"
      ]
     },
     "execution_count": 13,
     "metadata": {},
     "output_type": "execute_result"
    }
   ],
   "source": [
    "diet_ratio = pd.crosstab(columns=data[1], index=data[0], values=data[2], aggfunc='sum', margins=True, normalize='columns')\n",
    "diet_ratio\n",
    "\"동질성 검정의 귀무가설은 p_{Ai} = p_{Bi}\""
   ]
  },
  {
   "cell_type": "code",
   "execution_count": 15,
   "id": "8eb7c99c",
   "metadata": {},
   "outputs": [
    {
     "name": "stdout",
     "output_type": "stream",
     "text": [
      "1       less  much   ok   All\n",
      "0                            \n",
      "female    25   388  196   609\n",
      "male      26   378  237   641\n",
      "All       51   766  433  1250\n"
     ]
    },
    {
     "data": {
      "text/plain": [
       "'독립성 검정 : 방영에 대한 의견은 개인의 성별과 무관하다는 귀무가설 검정'"
      ]
     },
     "execution_count": 15,
     "metadata": {},
     "output_type": "execute_result"
    }
   ],
   "source": [
    "# example 3\n",
    "data = pd.DataFrame([['male', 'much', 378], ['male', 'ok', 237], ['male', 'less', 26], ['female', 'much', 388], ['female', 'ok', 196], ['female', 'less', 25]])\n",
    "watch = pd.crosstab(columns=data[1], index=data[0], values=data[2], aggfunc='sum', margins=True)\n",
    "\n",
    "print(watch)\n",
    "\"독립성 검정 : 방영에 대한 의견은 개인의 성별과 무관하다는 귀무가설 검정\""
   ]
  },
  {
   "cell_type": "markdown",
   "id": "69105501",
   "metadata": {},
   "source": [
    "## 15.2 피어슨의 카이제곱 적합도 검정\n",
    "- 귀무가설에서 제시한 각 범주의 비율이 실제 자료에 적합한가?\n",
    "$$H_0:p_1=p_{10},\\dots,p_k=p_{k0}$$\n",
    "$$Observed=n_i\\quad Expected=n\\times p_{i0] \\\\ \\chi^2=\\sum\\frac{(O-E)^2}{E}=\\sum^k_{i=1}\\frac{(n_i-np_{i0})^2}{np_{i0}} \\ quad df=(범주의\\ 갯수)-1$$\n",
    "\n",
    "> **피어슨의 $\\chi^2$ 적합도 검정**\n",
    ">\n",
    "> $$H0:p_1=p_{10}, \\dots, p_k=p_{k0}$$\n",
    "> $$chi^2=\\sum\\frac{(O-E)^2}{E}=\\sum^k_{i=1}\\frac{(n_i-np_{i0})^2}{np_{i0}} \\ quad df=(범주의\\ 갯수)-1$$\n",
    "> 유의수준 $\\alpha$에 대한 기각역은 $R:\\chi^2\\geq\\chi^2_\\alpha(k-1)$"
   ]
  },
  {
   "cell_type": "code",
   "execution_count": null,
   "id": "2fa8f593",
   "metadata": {},
   "outputs": [],
   "source": []
  },
  {
   "cell_type": "code",
   "execution_count": null,
   "id": "461e96ee",
   "metadata": {},
   "outputs": [],
   "source": []
  },
  {
   "cell_type": "code",
   "execution_count": null,
   "id": "ff76be93",
   "metadata": {},
   "outputs": [],
   "source": []
  },
  {
   "cell_type": "code",
   "execution_count": null,
   "id": "50b93790",
   "metadata": {},
   "outputs": [],
   "source": []
  },
  {
   "cell_type": "code",
   "execution_count": null,
   "id": "205e26ee",
   "metadata": {},
   "outputs": [],
   "source": []
  },
  {
   "cell_type": "code",
   "execution_count": null,
   "id": "898b368d",
   "metadata": {},
   "outputs": [],
   "source": []
  },
  {
   "cell_type": "code",
   "execution_count": null,
   "id": "4ca70c58",
   "metadata": {},
   "outputs": [],
   "source": []
  },
  {
   "cell_type": "code",
   "execution_count": null,
   "id": "e3036934",
   "metadata": {},
   "outputs": [],
   "source": []
  },
  {
   "cell_type": "code",
   "execution_count": null,
   "id": "d434e9b9",
   "metadata": {},
   "outputs": [],
   "source": []
  },
  {
   "cell_type": "code",
   "execution_count": null,
   "id": "d9bdd2d1",
   "metadata": {},
   "outputs": [],
   "source": []
  },
  {
   "cell_type": "code",
   "execution_count": null,
   "id": "5f7b7acd",
   "metadata": {},
   "outputs": [],
   "source": []
  },
  {
   "cell_type": "code",
   "execution_count": null,
   "id": "09a3b1a5",
   "metadata": {},
   "outputs": [],
   "source": []
  },
  {
   "cell_type": "code",
   "execution_count": null,
   "id": "b1cc4a03",
   "metadata": {},
   "outputs": [],
   "source": []
  },
  {
   "cell_type": "code",
   "execution_count": null,
   "id": "d309c612",
   "metadata": {},
   "outputs": [],
   "source": []
  },
  {
   "cell_type": "code",
   "execution_count": null,
   "id": "cbe61694",
   "metadata": {},
   "outputs": [],
   "source": []
  },
  {
   "cell_type": "code",
   "execution_count": null,
   "id": "7aae2665",
   "metadata": {},
   "outputs": [],
   "source": []
  },
  {
   "cell_type": "code",
   "execution_count": null,
   "id": "b1240971",
   "metadata": {},
   "outputs": [],
   "source": []
  },
  {
   "cell_type": "code",
   "execution_count": null,
   "id": "a166937d",
   "metadata": {},
   "outputs": [],
   "source": []
  },
  {
   "cell_type": "code",
   "execution_count": null,
   "id": "0ea0ef5c",
   "metadata": {},
   "outputs": [],
   "source": []
  },
  {
   "cell_type": "code",
   "execution_count": null,
   "id": "fb41374b",
   "metadata": {},
   "outputs": [],
   "source": []
  },
  {
   "cell_type": "code",
   "execution_count": null,
   "id": "98a129ef",
   "metadata": {},
   "outputs": [],
   "source": []
  },
  {
   "cell_type": "code",
   "execution_count": null,
   "id": "e08aad04",
   "metadata": {},
   "outputs": [],
   "source": []
  },
  {
   "cell_type": "code",
   "execution_count": null,
   "id": "2fbb67c0",
   "metadata": {},
   "outputs": [],
   "source": []
  },
  {
   "cell_type": "code",
   "execution_count": null,
   "id": "ebdff378",
   "metadata": {},
   "outputs": [],
   "source": []
  },
  {
   "cell_type": "code",
   "execution_count": null,
   "id": "6e70642d",
   "metadata": {},
   "outputs": [],
   "source": []
  },
  {
   "cell_type": "code",
   "execution_count": null,
   "id": "550ae1a3",
   "metadata": {},
   "outputs": [],
   "source": []
  }
 ],
 "metadata": {
  "kernelspec": {
   "display_name": "adp",
   "language": "python",
   "name": "adp_class"
  },
  "language_info": {
   "codemirror_mode": {
    "name": "ipython",
    "version": 3
   },
   "file_extension": ".py",
   "mimetype": "text/x-python",
   "name": "python",
   "nbconvert_exporter": "python",
   "pygments_lexer": "ipython3",
   "version": "3.7.13"
  }
 },
 "nbformat": 4,
 "nbformat_minor": 5
}
