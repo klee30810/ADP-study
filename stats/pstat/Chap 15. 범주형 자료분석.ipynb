{
 "cells": [
  {
   "cell_type": "code",
   "execution_count": 1,
   "id": "fb26fad5",
   "metadata": {},
   "outputs": [],
   "source": [
    "import pandas as pd\n",
    "import numpy as np\n",
    "\n",
    "from scipy import stats\n",
    "import statsmodels.formula.api as sm\n",
    "from statsmodels import regression\n",
    "import statsmodels\n",
    "\n",
    "import matplotlib.pyplot as plt\n",
    "import seaborn as sns\n",
    "from matplotlib import font_manager, rc, rcParams"
   ]
  },
  {
   "cell_type": "markdown",
   "id": "2c1808bf",
   "metadata": {},
   "source": [
    "# 15. 범주형 자료분석\n",
    "## 15.1 서론\n",
    "- 범주형 자료 : 관측치들이 몇 개의 범주로 분류되고 각 범주의 도수로 자료가 주어지는 것"
   ]
  },
  {
   "cell_type": "code",
   "execution_count": 24,
   "id": "806bf89b",
   "metadata": {},
   "outputs": [
    {
     "data": {
      "text/plain": [
       "Power_divergenceResult(statistic=2.62, pvalue=0.26982005638468687)"
      ]
     },
     "execution_count": 24,
     "metadata": {},
     "output_type": "execute_result"
    }
   ],
   "source": [
    "# example 9 \n",
    "obs = [18,55,27]\n",
    "pr = [0.25, 0.5, 0.25]\n",
    "n = np.sum(obs)\n",
    "exp = np.multiply(n, pr)\n",
    "df = len(obs) - 1\n",
    "\n",
    "stats.chisquare(obs, exp) # 적합도 검정"
   ]
  },
  {
   "cell_type": "code",
   "execution_count": 25,
   "id": "09bd53cb",
   "metadata": {},
   "outputs": [
    {
     "data": {
      "text/plain": [
       "(8.22398544438018,\n",
       " 0.01637511094543408,\n",
       " 2,\n",
       " array([[30.4, 20.8, 28.8],\n",
       "        [26.6, 18.2, 25.2]]))"
      ]
     },
     "execution_count": 25,
     "metadata": {},
     "output_type": "execute_result"
    }
   ],
   "source": [
    "# example 10\n",
    "data = pd.DataFrame([['a', 'ok', 37], ['a', 'mid', 24], ['a', 'ng', 19], ['b', 'ok', 17], ['b', 'mid', 33], ['b', 'ng', 20]])\n",
    "diet = pd.crosstab(columns=data[1], index=data[0], values=data[2], aggfunc='sum')#, margins=True)\n",
    "\n",
    "stats.chi2_contingency(diet) # 동질성 검정"
   ]
  },
  {
   "cell_type": "code",
   "execution_count": 2,
   "id": "b2eb4f18",
   "metadata": {},
   "outputs": [
    {
     "name": "stdout",
     "output_type": "stream",
     "text": [
      "0.18 0.55 0.27\n"
     ]
    }
   ],
   "source": [
    "# example 1\n",
    "a = 18 ; b = 55 ; c = 27\n",
    "all_sum = 100\n",
    "pa = a / all_sum\n",
    "pb = b / all_sum\n",
    "pc = c / all_sum\n",
    "print(pa, pb, pc)"
   ]
  },
  {
   "cell_type": "code",
   "execution_count": 4,
   "id": "69c0d956",
   "metadata": {},
   "outputs": [
    {
     "data": {
      "text/html": [
       "<div>\n",
       "<style scoped>\n",
       "    .dataframe tbody tr th:only-of-type {\n",
       "        vertical-align: middle;\n",
       "    }\n",
       "\n",
       "    .dataframe tbody tr th {\n",
       "        vertical-align: top;\n",
       "    }\n",
       "\n",
       "    .dataframe thead th {\n",
       "        text-align: right;\n",
       "    }\n",
       "</style>\n",
       "<table border=\"1\" class=\"dataframe\">\n",
       "  <thead>\n",
       "    <tr style=\"text-align: right;\">\n",
       "      <th>1</th>\n",
       "      <th>mid</th>\n",
       "      <th>ng</th>\n",
       "      <th>ok</th>\n",
       "      <th>All</th>\n",
       "    </tr>\n",
       "    <tr>\n",
       "      <th>0</th>\n",
       "      <th></th>\n",
       "      <th></th>\n",
       "      <th></th>\n",
       "      <th></th>\n",
       "    </tr>\n",
       "  </thead>\n",
       "  <tbody>\n",
       "    <tr>\n",
       "      <th>a</th>\n",
       "      <td>24</td>\n",
       "      <td>19</td>\n",
       "      <td>37</td>\n",
       "      <td>80</td>\n",
       "    </tr>\n",
       "    <tr>\n",
       "      <th>b</th>\n",
       "      <td>33</td>\n",
       "      <td>20</td>\n",
       "      <td>17</td>\n",
       "      <td>70</td>\n",
       "    </tr>\n",
       "    <tr>\n",
       "      <th>All</th>\n",
       "      <td>57</td>\n",
       "      <td>39</td>\n",
       "      <td>54</td>\n",
       "      <td>150</td>\n",
       "    </tr>\n",
       "  </tbody>\n",
       "</table>\n",
       "</div>"
      ],
      "text/plain": [
       "1    mid  ng  ok  All\n",
       "0                    \n",
       "a     24  19  37   80\n",
       "b     33  20  17   70\n",
       "All   57  39  54  150"
      ]
     },
     "execution_count": 4,
     "metadata": {},
     "output_type": "execute_result"
    }
   ],
   "source": [
    "# example 2\n",
    "data = pd.DataFrame([['a', 'ok', 37], ['a', 'mid', 24], ['a', 'ng', 19], ['b', 'ok', 17], ['b', 'mid', 33], ['b', 'ng', 20]])\n",
    "diet = pd.crosstab(columns=data[1], index=data[0], values=data[2], aggfunc='sum', margins=True)\n",
    "\n",
    "diet"
   ]
  },
  {
   "cell_type": "code",
   "execution_count": 13,
   "id": "90e6d740",
   "metadata": {},
   "outputs": [
    {
     "data": {
      "text/plain": [
       "'동질성 검정의 귀무가설은 p_{Ai} = p_{Bi}'"
      ]
     },
     "execution_count": 13,
     "metadata": {},
     "output_type": "execute_result"
    }
   ],
   "source": [
    "diet_ratio = pd.crosstab(columns=data[1], index=data[0], values=data[2], aggfunc='sum', margins=True, normalize='columns')\n",
    "diet_ratio\n",
    "\"동질성 검정의 귀무가설은 p_{Ai} = p_{Bi}\""
   ]
  },
  {
   "cell_type": "code",
   "execution_count": 15,
   "id": "60f25271",
   "metadata": {},
   "outputs": [
    {
     "name": "stdout",
     "output_type": "stream",
     "text": [
      "1       less  much   ok   All\n",
      "0                            \n",
      "female    25   388  196   609\n",
      "male      26   378  237   641\n",
      "All       51   766  433  1250\n"
     ]
    },
    {
     "data": {
      "text/plain": [
       "'독립성 검정 : 방영에 대한 의견은 개인의 성별과 무관하다는 귀무가설 검정'"
      ]
     },
     "execution_count": 15,
     "metadata": {},
     "output_type": "execute_result"
    }
   ],
   "source": [
    "# example 3\n",
    "data = pd.DataFrame([['male', 'much', 378], ['male', 'ok', 237], ['male', 'less', 26], ['female', 'much', 388], ['female', 'ok', 196], ['female', 'less', 25]])\n",
    "watch = pd.crosstab(columns=data[1], index=data[0], values=data[2], aggfunc='sum', margins=True)\n",
    "\n",
    "print(watch)\n",
    "\"독립성 검정 : 방영에 대한 의견은 개인의 성별과 무관하다는 귀무가설 검정\""
   ]
  },
  {
   "cell_type": "markdown",
   "id": "a39896f2",
   "metadata": {},
   "source": [
    "## 15.2 피어슨의 $\\chi^2$(카이제곱) 적합도 검정\n",
    "- 귀무가설에서 제시한 각 범주의 비율이 실제 자료에 적합한가?\n",
    "$$H_0:p_1=p_{10},\\dots,p_k=p_{k0}$$\n",
    "$$Observed=n_i\\quad Expected=n\\times p_{i0] \\\\ \\chi^2=\\sum\\frac{(O-E)^2}{E}=\\sum^k_{i=1}\\frac{(n_i-np_{i0})^2}{np_{i0}} \\ quad df=(범주의\\ 갯수)-1$$\n",
    "\n",
    "> **피어슨의 $\\chi^2$ 적합도 검정**\n",
    ">\n",
    "> $$H0:p_1=p_{10}, \\dots, p_k=p_{k0}$$\n",
    "> $$\\chi^2=\\sum\\frac{(O-E)^2}{E}=\\sum^k_{i=1}\\frac{(n_i-np_{i0})^2}{np_{i0}} \\quad df=(범주의\\ 갯수)-1$$\n",
    "> 유의수준 $\\alpha$에 대한 기각역은 $R:\\chi^2\\geq\\chi^2_\\alpha(k-1)$\n",
    "\n",
    "> **$\\chi^2$ 분포의 특성**\n",
    ">\n",
    "> 1) 독립인 표본으로부터 계산된 $\\chi^2$통계량들을 더하면, 그 합도 $\\chi^2$ 분포를 따르며, 자유도는 각 자유도의 합과 같다 $$\\chi^2(k_1)+\\dots+\\chi^2(k_r)\\sim \\chi^2(k_1+\\dots+k_r)$$\n",
    "> 2) $\\chi^2$통계량을 계산하는데 만약 모수의 추정치를 사용하였다면, 통계량 분포의 자유도는 추정한 모수의 개수만큼 감소하게 된다 $$\\chi^2의 자유도=(모수를\\ 알고\\ 있을\\ 경우의\\ 자유도)-(추정된\\ 모수의\\ 수)$$\n",
    "\n",
    "- 피어슨 $\\chi^2$검정은 표본의 크기가 큰 경우에만 적합 : 각 칸의 기대도수가 5 이상이면 가능\n",
    "    - 기대도수가 5보다 작은 칸이 많은 경우에는, 여러 칸을 합하여 기대도수를 크게 하거나, $2\\times 2$ 분할표에서는 피셔의 정확검정법 사용"
   ]
  },
  {
   "cell_type": "code",
   "execution_count": 33,
   "id": "c53d9360",
   "metadata": {},
   "outputs": [
    {
     "name": "stdout",
     "output_type": "stream",
     "text": [
      "2.62\n"
     ]
    },
    {
     "data": {
      "text/plain": [
       "7.377758908227871"
      ]
     },
     "execution_count": 33,
     "metadata": {},
     "output_type": "execute_result"
    }
   ],
   "source": [
    "# example 4\n",
    "obs = [18, 55, 27]\n",
    "exp = [25, 50 ,25]\n",
    "chi2 = np.sum(np.divide(np.subtract(obs, exp)**2, exp)); print(chi2)\n",
    "stats.chi2.ppf(1-0.05/2, df=len(obs)-1)"
   ]
  },
  {
   "cell_type": "code",
   "execution_count": 34,
   "id": "7a68fd52",
   "metadata": {},
   "outputs": [
    {
     "name": "stdout",
     "output_type": "stream",
     "text": [
      "46.416666666666664\n"
     ]
    },
    {
     "data": {
      "text/plain": [
       "9.348403604496148"
      ]
     },
     "execution_count": 34,
     "metadata": {},
     "output_type": "execute_result"
    }
   ],
   "source": [
    "# prob 2.2\n",
    "obs = [38, 43, 10, 5]\n",
    "exp = [96/4, 96/4, 96/4, 96/4]\n",
    "\n",
    "alpha = 0.05\n",
    "chi2 = np.sum(np.divide(np.subtract(obs, exp)**2, exp)); print(chi2)\n",
    "stats.chi2.ppf(1-alpha/2, df=len(obs)-1)"
   ]
  },
  {
   "cell_type": "code",
   "execution_count": 36,
   "id": "655be7fd",
   "metadata": {},
   "outputs": [
    {
     "name": "stdout",
     "output_type": "stream",
     "text": [
      "6.2020202020202015\n"
     ]
    },
    {
     "data": {
      "text/plain": [
       "9.348403604496148"
      ]
     },
     "execution_count": 36,
     "metadata": {},
     "output_type": "execute_result"
    }
   ],
   "source": [
    "# prob 2.4\n",
    "obs = [61, 55, 41, 41]\n",
    "exp = [198/4, 198/4, 198/4, 198/4]\n",
    "\n",
    "alpha = 0.05\n",
    "chi2 = np.sum(np.divide(np.subtract(obs, exp)**2, exp)); print(chi2)\n",
    "stats.chi2.ppf(1-alpha/2, df=len(obs)-1)"
   ]
  },
  {
   "cell_type": "code",
   "execution_count": 41,
   "id": "f71f4eef",
   "metadata": {},
   "outputs": [
    {
     "name": "stdout",
     "output_type": "stream",
     "text": [
      "0.8617021276595745\n"
     ]
    },
    {
     "data": {
      "text/plain": [
       "7.377758908227871"
      ]
     },
     "execution_count": 41,
     "metadata": {},
     "output_type": "execute_result"
    }
   ],
   "source": [
    "# prob 2.6\n",
    "obs = [141, 291, 132]\n",
    "exp = np.multiply(np.sum(obs), [1/4, 1/2, 1/4])\n",
    "\n",
    "alpha = 0.05\n",
    "chi2 = np.sum(np.divide(np.subtract(obs, exp)**2, exp)); print(chi2)\n",
    "stats.chi2.ppf(1-alpha/2, df=len(obs)-1)"
   ]
  },
  {
   "cell_type": "code",
   "execution_count": 42,
   "id": "b47b3e53",
   "metadata": {},
   "outputs": [
    {
     "name": "stdout",
     "output_type": "stream",
     "text": [
      "40.39164735509392\n"
     ]
    },
    {
     "data": {
      "text/plain": [
       "16.74960234363904"
      ]
     },
     "execution_count": 42,
     "metadata": {},
     "output_type": "execute_result"
    }
   ],
   "source": [
    "# prob 2.8\n",
    "obs = [462, 171, 76, 57, 92, 74]\n",
    "exp = np.multiply(np.sum(obs), [0.59, 0.15, 0.06, 0.06, 0.07, 0.07])\n",
    "\n",
    "alpha = 0.01\n",
    "chi2 = np.sum(np.divide(np.subtract(obs, exp)**2, exp)); print(chi2)\n",
    "stats.chi2.ppf(1-alpha/2, df=len(obs)-1)"
   ]
  },
  {
   "cell_type": "code",
   "execution_count": 52,
   "id": "6fa43922",
   "metadata": {},
   "outputs": [
    {
     "name": "stdout",
     "output_type": "stream",
     "text": [
      "0.125 0.3750000000000001 0.3750000000000001 0.125\n"
     ]
    }
   ],
   "source": [
    "# prob 2.10\n",
    "# 1\n",
    "print(\n",
    "    stats.binom.pmf(k=0,n=3,p=0.5),\n",
    "    stats.binom.pmf(k=1,n=3,p=0.5),\n",
    "    stats.binom.pmf(k=2,n=3,p=0.5),\n",
    "    stats.binom.pmf(k=3,n=3,p=0.5),\n",
    ")"
   ]
  },
  {
   "cell_type": "code",
   "execution_count": 53,
   "id": "531e0d3a",
   "metadata": {},
   "outputs": [
    {
     "name": "stdout",
     "output_type": "stream",
     "text": [
      "39.893333333333345\n"
     ]
    },
    {
     "data": {
      "text/plain": [
       "9.348403604496148"
      ]
     },
     "execution_count": 53,
     "metadata": {},
     "output_type": "execute_result"
    }
   ],
   "source": [
    "# 2\n",
    "obs = [31, 40, 16, 13]\n",
    "p = [stats.binom.pmf(k=0,n=3,p=0.5),\n",
    "    stats.binom.pmf(k=1,n=3,p=0.5),\n",
    "    stats.binom.pmf(k=2,n=3,p=0.5),\n",
    "    stats.binom.pmf(k=3,n=3,p=0.5)]\n",
    "exp = np.multiply(np.sum(obs), p)\n",
    "\n",
    "alpha = 0.05\n",
    "chi2 = np.sum(np.divide(np.subtract(obs, exp)**2, exp)); print(chi2)\n",
    "stats.chi2.ppf(1-alpha/2, df=len(obs)-1)"
   ]
  },
  {
   "cell_type": "markdown",
   "id": "677b115e",
   "metadata": {},
   "source": [
    "## 15.3 동질성 검정\n",
    "- 모집단을 분류된 범주에 따라 2원 분할표로 표현 후, 모집단들이 각 범주에 대하여 같은 반응을 보이는지 검정\n",
    "- 각 반응범주에서 관측된 비율을 가지고 모집단 별로 같은지 조사\n",
    "$$H_0: p_{A1}=p_{B1},\\  p_{A2}=p_{B2},\\ p_{A3}=p_{B3},$$\n",
    "$$칸의\\ 추정기대도수=\\frac{칸이\\ 속한\\ 행의\\ 합계\\times 칸이\\ 속한\\ 열의\\ 합계}{전체\\ 합계}$$\n",
    "\n",
    "> **분할표에서의 $\\chi^2$ 동질성 검정**\n",
    ">\n",
    "> - r개의 모집단에서 독립적으로 추출한 표본을 c개의 반응범주로 분류\n",
    ">    - 각 칸의 추정기대도수 : $\\frac{(행의\\ 합 \\times 열의 합)}{(전체 합}$\n",
    ">    - $\\chi^2$의 자유도 : r(c-1) - (c-1) = (r-1)(c-1)\n",
    ">        - 각 r개의 행이 독립인 모집단, c개의 범주 \n",
    ">        => 성질 1) 모수가 알려져 있다면 자유도 r(c-1)\n",
    ">        => 성질 2) 각 범주 공통비율 $p_k$를 추정하면, 자유도는 추정한 모수의 개수만큼 감소, $\\sum p_k=1$로부터 추정 모수의 개수는 (c-1)\n",
    ">    - $\\chi^2 = \\sum\\frac{(O-E)^2}{E}$\n",
    ">    - 기각역$ R: \\chi^2 \\geq \\chi^2_\\alpha$"
   ]
  },
  {
   "cell_type": "code",
   "execution_count": 233,
   "id": "54761bc6",
   "metadata": {},
   "outputs": [
    {
     "data": {
      "text/html": [
       "<div>\n",
       "<style scoped>\n",
       "    .dataframe tbody tr th:only-of-type {\n",
       "        vertical-align: middle;\n",
       "    }\n",
       "\n",
       "    .dataframe tbody tr th {\n",
       "        vertical-align: top;\n",
       "    }\n",
       "\n",
       "    .dataframe thead th {\n",
       "        text-align: right;\n",
       "    }\n",
       "</style>\n",
       "<table border=\"1\" class=\"dataframe\">\n",
       "  <thead>\n",
       "    <tr style=\"text-align: right;\">\n",
       "      <th>1</th>\n",
       "      <th>mid</th>\n",
       "      <th>ng</th>\n",
       "      <th>ok</th>\n",
       "    </tr>\n",
       "    <tr>\n",
       "      <th>0</th>\n",
       "      <th></th>\n",
       "      <th></th>\n",
       "      <th></th>\n",
       "    </tr>\n",
       "  </thead>\n",
       "  <tbody>\n",
       "    <tr>\n",
       "      <th>a</th>\n",
       "      <td>24</td>\n",
       "      <td>19</td>\n",
       "      <td>37</td>\n",
       "    </tr>\n",
       "    <tr>\n",
       "      <th>b</th>\n",
       "      <td>33</td>\n",
       "      <td>20</td>\n",
       "      <td>17</td>\n",
       "    </tr>\n",
       "  </tbody>\n",
       "</table>\n",
       "</div>"
      ],
      "text/plain": [
       "1  mid  ng  ok\n",
       "0             \n",
       "a   24  19  37\n",
       "b   33  20  17"
      ]
     },
     "execution_count": 233,
     "metadata": {},
     "output_type": "execute_result"
    }
   ],
   "source": [
    "# example 5\n",
    "data = pd.DataFrame([['a', 'ok', 37], ['a', 'mid', 24], ['a', 'ng', 19], ['b', 'ok', 17], ['b', 'mid', 33], ['b', 'ng', 20]])\n",
    "diet = pd.crosstab(columns=data[1], index=data[0], values=data[2], aggfunc='sum')#, margins=True)\n",
    "\n",
    "diet"
   ]
  },
  {
   "cell_type": "code",
   "execution_count": 269,
   "id": "65f0f301",
   "metadata": {},
   "outputs": [
    {
     "name": "stdout",
     "output_type": "stream",
     "text": [
      "8.22398544438018 5.991464547107979\n"
     ]
    }
   ],
   "source": [
    "# expectation\n",
    "diet_exp = pd.DataFrame(index=diet.index, columns=diet.columns)\n",
    "all_sum = np.sum(diet.sum())\n",
    "row_sum = col_sum = 0\n",
    "\n",
    "for row in list(diet_exp.index):\n",
    "    row_sum = np.sum(diet.loc[row, :])\n",
    "    for col in list(diet_exp.columns):\n",
    "        col_sum = np.sum(diet.loc[:, col])\n",
    "        diet_exp.loc[row,col] = row_sum * col_sum / all_sum\n",
    "\n",
    "# chi square calculation        \n",
    "diet_chi = pd.DataFrame(index=diet.index, columns=diet.columns)\n",
    "for row in list(diet_exp.index):\n",
    "    for col in list(diet_exp.columns):\n",
    "        diet_chi.loc[row,col] = (diet.loc[row,col]-diet_exp.loc[row,col])**2/diet_exp.loc[row,col]\n",
    "\n",
    "f_val = np.sum(diet_chi.sum())\n",
    "\n",
    "alpha = 0.05\n",
    "print(f_val, stats.chi2.ppf(1-alpha, df=(len(diet.index)-1) * (len(diet.columns)-1)))"
   ]
  },
  {
   "cell_type": "code",
   "execution_count": 263,
   "id": "bdbac252",
   "metadata": {},
   "outputs": [
    {
     "data": {
      "text/plain": [
       "7.377758908227871"
      ]
     },
     "execution_count": 263,
     "metadata": {},
     "output_type": "execute_result"
    }
   ],
   "source": [
    "stats.chi2.ppf(1-alpha/2, df=2)"
   ]
  },
  {
   "cell_type": "code",
   "execution_count": 264,
   "id": "1c8d5c72",
   "metadata": {},
   "outputs": [
    {
     "data": {
      "text/html": [
       "<div>\n",
       "<style scoped>\n",
       "    .dataframe tbody tr th:only-of-type {\n",
       "        vertical-align: middle;\n",
       "    }\n",
       "\n",
       "    .dataframe tbody tr th {\n",
       "        vertical-align: top;\n",
       "    }\n",
       "\n",
       "    .dataframe thead th {\n",
       "        text-align: right;\n",
       "    }\n",
       "</style>\n",
       "<table border=\"1\" class=\"dataframe\">\n",
       "  <thead>\n",
       "    <tr style=\"text-align: right;\">\n",
       "      <th>1</th>\n",
       "      <th>addict</th>\n",
       "      <th>ok</th>\n",
       "    </tr>\n",
       "    <tr>\n",
       "      <th>0</th>\n",
       "      <th></th>\n",
       "      <th></th>\n",
       "    </tr>\n",
       "  </thead>\n",
       "  <tbody>\n",
       "    <tr>\n",
       "      <th>biz</th>\n",
       "      <td>67</td>\n",
       "      <td>233</td>\n",
       "    </tr>\n",
       "    <tr>\n",
       "      <th>edu</th>\n",
       "      <td>51</td>\n",
       "      <td>199</td>\n",
       "    </tr>\n",
       "    <tr>\n",
       "      <th>merch</th>\n",
       "      <td>83</td>\n",
       "      <td>267</td>\n",
       "    </tr>\n",
       "    <tr>\n",
       "      <th>office</th>\n",
       "      <td>32</td>\n",
       "      <td>268</td>\n",
       "    </tr>\n",
       "  </tbody>\n",
       "</table>\n",
       "</div>"
      ],
      "text/plain": [
       "1       addict   ok\n",
       "0                  \n",
       "biz         67  233\n",
       "edu         51  199\n",
       "merch       83  267\n",
       "office      32  268"
      ]
     },
     "execution_count": 264,
     "metadata": {},
     "output_type": "execute_result"
    }
   ],
   "source": [
    "# example 6\n",
    "data = pd.DataFrame([['office', 'addict', 32], ['office', 'ok', 268], \n",
    "                     ['edu', 'addict', 51], ['edu', 'ok', 199], \n",
    "                     ['biz', 'addict', 67], ['biz', 'ok', 233],\n",
    "                     ['merch', 'addict', 83], ['merch', 'ok', 267]])\n",
    "addict = pd.crosstab(columns=data[1], index=data[0], values=data[2], aggfunc='sum')#, margins=True)\n",
    "\n",
    "addict"
   ]
  },
  {
   "cell_type": "code",
   "execution_count": 268,
   "id": "568061b9",
   "metadata": {},
   "outputs": [
    {
     "name": "stdout",
     "output_type": "stream",
     "text": [
      "20.596749762391923 7.814727903251179\n"
     ]
    }
   ],
   "source": [
    "# expectation\n",
    "addict_exp = pd.DataFrame(index=addict.index, columns=addict.columns)\n",
    "all_sum = np.sum(addict.sum())\n",
    "row_sum = col_sum = 0\n",
    "\n",
    "for row in list(addict_exp.index):\n",
    "    row_sum = np.sum(addict.loc[row, :])\n",
    "    for col in list(addict_exp.columns):\n",
    "        col_sum = np.sum(addict.loc[:, col])\n",
    "        addict_exp.loc[row,col] = row_sum * col_sum / all_sum\n",
    "\n",
    "# chi square calculation        \n",
    "addict_chi = pd.DataFrame(index=addict.index, columns=addict.columns)\n",
    "for row in list(addict_exp.index):\n",
    "    for col in list(addict_exp.columns):\n",
    "        addict_chi.loc[row,col] = (addict.loc[row,col]-addict_exp.loc[row,col])**2/addict_exp.loc[row,col]\n",
    "\n",
    "f_val = np.sum(addict_chi.sum())\n",
    "\n",
    "alpha = 0.05\n",
    "print(f_val, stats.chi2.ppf(1-alpha, df=(len(addict.index)-1)*(len(addict.columns)-1)))"
   ]
  },
  {
   "cell_type": "code",
   "execution_count": 272,
   "id": "767d6e89",
   "metadata": {},
   "outputs": [
    {
     "data": {
      "text/html": [
       "<div>\n",
       "<style scoped>\n",
       "    .dataframe tbody tr th:only-of-type {\n",
       "        vertical-align: middle;\n",
       "    }\n",
       "\n",
       "    .dataframe tbody tr th {\n",
       "        vertical-align: top;\n",
       "    }\n",
       "\n",
       "    .dataframe thead th {\n",
       "        text-align: right;\n",
       "    }\n",
       "</style>\n",
       "<table border=\"1\" class=\"dataframe\">\n",
       "  <thead>\n",
       "    <tr style=\"text-align: right;\">\n",
       "      <th>1</th>\n",
       "      <th>no sprout</th>\n",
       "      <th>sprout</th>\n",
       "    </tr>\n",
       "    <tr>\n",
       "      <th>0</th>\n",
       "      <th></th>\n",
       "      <th></th>\n",
       "    </tr>\n",
       "  </thead>\n",
       "  <tbody>\n",
       "    <tr>\n",
       "      <th>no pro</th>\n",
       "      <td>24</td>\n",
       "      <td>126</td>\n",
       "    </tr>\n",
       "    <tr>\n",
       "      <th>pro</th>\n",
       "      <td>12</td>\n",
       "      <td>88</td>\n",
       "    </tr>\n",
       "  </tbody>\n",
       "</table>\n",
       "</div>"
      ],
      "text/plain": [
       "1       no sprout  sprout\n",
       "0                        \n",
       "no pro         24     126\n",
       "pro            12      88"
      ]
     },
     "execution_count": 272,
     "metadata": {},
     "output_type": "execute_result"
    }
   ],
   "source": [
    "# example 7\n",
    "data = pd.DataFrame([\n",
    "    ['pro', 'sprout', 88], ['pro', 'no sprout', 12],\n",
    "    ['no pro', 'sprout', 126], ['no pro', 'no sprout', 24]\n",
    "])\n",
    "sprout = pd.crosstab(columns=data[1], index=data[0], values=data[2], aggfunc='sum')\n",
    "sprout"
   ]
  },
  {
   "cell_type": "code",
   "execution_count": 273,
   "id": "282930ae",
   "metadata": {},
   "outputs": [
    {
     "name": "stdout",
     "output_type": "stream",
     "text": [
      "0.7788161993769473 3.841458820694124\n"
     ]
    }
   ],
   "source": [
    "sprout_exp = pd.DataFrame(index=sprout.index, columns=sprout.columns)\n",
    "all_sum = np.sum(sprout.sum())\n",
    "row_sum = col_sum = 0\n",
    "\n",
    "for row in list(sprout_exp.index):\n",
    "    row_sum = np.sum(sprout.loc[row, :])\n",
    "    for col in list(sprout_exp.columns):\n",
    "        col_sum = np.sum(sprout.loc[:, col])\n",
    "        sprout_exp.loc[row,col] = row_sum * col_sum / all_sum\n",
    "\n",
    "# chi square calculation        \n",
    "sprout_chi = pd.DataFrame(index=sprout.index, columns=sprout.columns)\n",
    "for row in list(sprout_exp.index):\n",
    "    for col in list(sprout_exp.columns):\n",
    "        sprout_chi.loc[row,col] = (sprout.loc[row,col]-sprout_exp.loc[row,col])**2/sprout_exp.loc[row,col]\n",
    "\n",
    "f_val = np.sum(sprout_chi.sum())\n",
    "\n",
    "alpha = 0.05\n",
    "print(f_val, stats.chi2.ppf(1-alpha, df=(len(sprout.index)-1)*(len(sprout.columns)-1)))"
   ]
  },
  {
   "cell_type": "code",
   "execution_count": 276,
   "id": "a4b8f052",
   "metadata": {},
   "outputs": [
    {
     "name": "stdout",
     "output_type": "stream",
     "text": [
      "24.60796923859296 9.487729036781154\n"
     ]
    }
   ],
   "source": [
    "# prob 3.2\n",
    "data = pd.DataFrame([\n",
    "    ['a', 'no', 36], ['a', 'listen', 55], ['a', 'buy', 109],\n",
    "    ['b', 'no', 45], ['b', 'listen', 56], ['b', 'buy', 49],\n",
    "    ['c', 'no', 54], ['c', 'listen', 78], ['c', 'buy', 168],    \n",
    "])\n",
    "\n",
    "market = pd.crosstab(columns=data[1], index=data[0], values=data[2], aggfunc='sum')\n",
    "\n",
    "market_exp = pd.DataFrame(index=market.index, columns=market.columns)\n",
    "all_sum = np.sum(market.sum())\n",
    "row_sum = col_sum = 0\n",
    "\n",
    "for row in list(market_exp.index):\n",
    "    row_sum = np.sum(market.loc[row, :])\n",
    "    for col in list(market_exp.columns):\n",
    "        col_sum = np.sum(market.loc[:, col])\n",
    "        market_exp.loc[row,col] = row_sum * col_sum / all_sum\n",
    "\n",
    "# chi square calculation        \n",
    "market_chi = pd.DataFrame(index=market.index, columns=market.columns)\n",
    "for row in list(market_exp.index):\n",
    "    for col in list(market_exp.columns):\n",
    "        market_chi.loc[row,col] = (market.loc[row,col]-market_exp.loc[row,col])**2/market_exp.loc[row,col]\n",
    "\n",
    "f_val = np.sum(market_chi.sum())\n",
    "\n",
    "alpha = 0.05\n",
    "print(f_val, stats.chi2.ppf(1-alpha, df=(len(market.index)-1)*(len(market.columns)-1)))"
   ]
  },
  {
   "cell_type": "code",
   "execution_count": 278,
   "id": "16c52644",
   "metadata": {},
   "outputs": [
    {
     "name": "stdout",
     "output_type": "stream",
     "text": [
      "0.20098039215686275 3.841458820694124\n"
     ]
    }
   ],
   "source": [
    "# prob 3.4\n",
    "# 1\n",
    "data = pd.DataFrame([\n",
    "    ['yes','pos',23], ['yes','impos',18],\n",
    "    ['no','pos',25], ['no', 'impos', 16]\n",
    "])\n",
    "\n",
    "deaf = pd.crosstab(columns=data[1], index=data[0], values=data[2], aggfunc='sum')\n",
    "\n",
    "deaf_exp = pd.DataFrame(index=deaf.index, columns=deaf.columns)\n",
    "all_sum = np.sum(deaf.sum())\n",
    "row_sum = col_sum = 0\n",
    "\n",
    "for row in list(deaf_exp.index):\n",
    "    row_sum = np.sum(deaf.loc[row, :])\n",
    "    for col in list(deaf_exp.columns):\n",
    "        col_sum = np.sum(deaf.loc[:, col])\n",
    "        deaf_exp.loc[row,col] = row_sum * col_sum / all_sum\n",
    "\n",
    "# chi square calculation        \n",
    "deaf_chi = pd.DataFrame(index=deaf.index, columns=deaf.columns)\n",
    "for row in list(deaf_exp.index):\n",
    "    for col in list(deaf_exp.columns):\n",
    "        deaf_chi.loc[row,col] = (deaf.loc[row,col]-deaf_exp.loc[row,col])**2/deaf_exp.loc[row,col]\n",
    "\n",
    "f_val = np.sum(deaf_chi.sum())\n",
    "\n",
    "alpha = 0.05\n",
    "print(f_val, stats.chi2.ppf(1-alpha, df=(len(deaf.index)-1)*(len(deaf.columns)-1)))"
   ]
  },
  {
   "cell_type": "code",
   "execution_count": 279,
   "id": "633f2973",
   "metadata": {},
   "outputs": [
    {
     "data": {
      "text/html": [
       "<div>\n",
       "<style scoped>\n",
       "    .dataframe tbody tr th:only-of-type {\n",
       "        vertical-align: middle;\n",
       "    }\n",
       "\n",
       "    .dataframe tbody tr th {\n",
       "        vertical-align: top;\n",
       "    }\n",
       "\n",
       "    .dataframe thead th {\n",
       "        text-align: right;\n",
       "    }\n",
       "</style>\n",
       "<table border=\"1\" class=\"dataframe\">\n",
       "  <thead>\n",
       "    <tr style=\"text-align: right;\">\n",
       "      <th>1</th>\n",
       "      <th>impos</th>\n",
       "      <th>pos</th>\n",
       "    </tr>\n",
       "    <tr>\n",
       "      <th>0</th>\n",
       "      <th></th>\n",
       "      <th></th>\n",
       "    </tr>\n",
       "  </thead>\n",
       "  <tbody>\n",
       "    <tr>\n",
       "      <th>no</th>\n",
       "      <td>16</td>\n",
       "      <td>25</td>\n",
       "    </tr>\n",
       "    <tr>\n",
       "      <th>yes</th>\n",
       "      <td>18</td>\n",
       "      <td>23</td>\n",
       "    </tr>\n",
       "  </tbody>\n",
       "</table>\n",
       "</div>"
      ],
      "text/plain": [
       "1    impos  pos\n",
       "0              \n",
       "no      16   25\n",
       "yes     18   23"
      ]
     },
     "execution_count": 279,
     "metadata": {},
     "output_type": "execute_result"
    }
   ],
   "source": [
    "# 2\n",
    "# 두 모비율\n",
    "alpha = 0.05\n",
    "deaf"
   ]
  },
  {
   "cell_type": "code",
   "execution_count": null,
   "id": "e93890eb",
   "metadata": {},
   "outputs": [],
   "source": []
  },
  {
   "cell_type": "code",
   "execution_count": null,
   "id": "aff2b07a",
   "metadata": {},
   "outputs": [],
   "source": []
  },
  {
   "cell_type": "code",
   "execution_count": null,
   "id": "288c070f",
   "metadata": {},
   "outputs": [],
   "source": []
  },
  {
   "cell_type": "code",
   "execution_count": null,
   "id": "4388c743",
   "metadata": {},
   "outputs": [],
   "source": []
  },
  {
   "cell_type": "code",
   "execution_count": null,
   "id": "94191ba7",
   "metadata": {},
   "outputs": [],
   "source": []
  },
  {
   "cell_type": "code",
   "execution_count": null,
   "id": "83c04a3d",
   "metadata": {},
   "outputs": [],
   "source": []
  },
  {
   "cell_type": "code",
   "execution_count": null,
   "id": "98822c81",
   "metadata": {},
   "outputs": [],
   "source": []
  }
 ],
 "metadata": {
  "kernelspec": {
   "display_name": "adp",
   "language": "python",
   "name": "adp_class"
  },
  "language_info": {
   "codemirror_mode": {
    "name": "ipython",
    "version": 3
   },
   "file_extension": ".py",
   "mimetype": "text/x-python",
   "name": "python",
   "nbconvert_exporter": "python",
   "pygments_lexer": "ipython3",
   "version": "3.7.13"
  }
 },
 "nbformat": 4,
 "nbformat_minor": 5
}
