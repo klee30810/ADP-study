{
 "cells": [
  {
   "cell_type": "code",
   "execution_count": 1,
   "id": "ed610f76",
   "metadata": {},
   "outputs": [],
   "source": [
    "import pandas as pd\n",
    "import numpy as np\n",
    "\n",
    "from scipy import stats\n",
    "import statsmodels.formula.api as sm\n",
    "from statsmodels import regression\n",
    "import statsmodels\n",
    "\n",
    "import matplotlib.pyplot as plt\n",
    "import seaborn as sns\n",
    "from matplotlib import font_manager, rc, rcParams"
   ]
  },
  {
   "cell_type": "markdown",
   "id": "c389ce15",
   "metadata": {},
   "source": [
    "# 15. 범주형 자료분석\n",
    "## 15.1 서론\n",
    "- 범주형 자료 : 관측치들이 몇 개의 범주로 분류되고 각 범주의 도수로 자료가 주어지는 것"
   ]
  },
  {
   "cell_type": "code",
   "execution_count": 24,
   "id": "f1a77ea3",
   "metadata": {},
   "outputs": [
    {
     "data": {
      "text/plain": [
       "Power_divergenceResult(statistic=2.62, pvalue=0.26982005638468687)"
      ]
     },
     "execution_count": 24,
     "metadata": {},
     "output_type": "execute_result"
    }
   ],
   "source": [
    "# example 9 \n",
    "obs = [18,55,27]\n",
    "pr = [0.25, 0.5, 0.25]\n",
    "n = np.sum(obs)\n",
    "exp = np.multiply(n, pr)\n",
    "df = len(obs) - 1\n",
    "\n",
    "stats.chisquare(obs, exp) # 적합도 검정"
   ]
  },
  {
   "cell_type": "code",
   "execution_count": 25,
   "id": "29af87bb",
   "metadata": {},
   "outputs": [
    {
     "data": {
      "text/plain": [
       "(8.22398544438018,\n",
       " 0.01637511094543408,\n",
       " 2,\n",
       " array([[30.4, 20.8, 28.8],\n",
       "        [26.6, 18.2, 25.2]]))"
      ]
     },
     "execution_count": 25,
     "metadata": {},
     "output_type": "execute_result"
    }
   ],
   "source": [
    "# example 10\n",
    "data = pd.DataFrame([['a', 'ok', 37], ['a', 'mid', 24], ['a', 'ng', 19], ['b', 'ok', 17], ['b', 'mid', 33], ['b', 'ng', 20]])\n",
    "diet = pd.crosstab(columns=data[1], index=data[0], values=data[2], aggfunc='sum')#, margins=True)\n",
    "\n",
    "stats.chi2_contingency(diet) # 동질성 검정"
   ]
  },
  {
   "cell_type": "code",
   "execution_count": 2,
   "id": "b7ae5553",
   "metadata": {},
   "outputs": [
    {
     "name": "stdout",
     "output_type": "stream",
     "text": [
      "0.18 0.55 0.27\n"
     ]
    }
   ],
   "source": [
    "# example 1\n",
    "a = 18 ; b = 55 ; c = 27\n",
    "all_sum = 100\n",
    "pa = a / all_sum\n",
    "pb = b / all_sum\n",
    "pc = c / all_sum\n",
    "print(pa, pb, pc)"
   ]
  },
  {
   "cell_type": "code",
   "execution_count": 4,
   "id": "b2390178",
   "metadata": {},
   "outputs": [
    {
     "data": {
      "text/html": [
       "<div>\n",
       "<style scoped>\n",
       "    .dataframe tbody tr th:only-of-type {\n",
       "        vertical-align: middle;\n",
       "    }\n",
       "\n",
       "    .dataframe tbody tr th {\n",
       "        vertical-align: top;\n",
       "    }\n",
       "\n",
       "    .dataframe thead th {\n",
       "        text-align: right;\n",
       "    }\n",
       "</style>\n",
       "<table border=\"1\" class=\"dataframe\">\n",
       "  <thead>\n",
       "    <tr style=\"text-align: right;\">\n",
       "      <th>1</th>\n",
       "      <th>mid</th>\n",
       "      <th>ng</th>\n",
       "      <th>ok</th>\n",
       "      <th>All</th>\n",
       "    </tr>\n",
       "    <tr>\n",
       "      <th>0</th>\n",
       "      <th></th>\n",
       "      <th></th>\n",
       "      <th></th>\n",
       "      <th></th>\n",
       "    </tr>\n",
       "  </thead>\n",
       "  <tbody>\n",
       "    <tr>\n",
       "      <th>a</th>\n",
       "      <td>24</td>\n",
       "      <td>19</td>\n",
       "      <td>37</td>\n",
       "      <td>80</td>\n",
       "    </tr>\n",
       "    <tr>\n",
       "      <th>b</th>\n",
       "      <td>33</td>\n",
       "      <td>20</td>\n",
       "      <td>17</td>\n",
       "      <td>70</td>\n",
       "    </tr>\n",
       "    <tr>\n",
       "      <th>All</th>\n",
       "      <td>57</td>\n",
       "      <td>39</td>\n",
       "      <td>54</td>\n",
       "      <td>150</td>\n",
       "    </tr>\n",
       "  </tbody>\n",
       "</table>\n",
       "</div>"
      ],
      "text/plain": [
       "1    mid  ng  ok  All\n",
       "0                    \n",
       "a     24  19  37   80\n",
       "b     33  20  17   70\n",
       "All   57  39  54  150"
      ]
     },
     "execution_count": 4,
     "metadata": {},
     "output_type": "execute_result"
    }
   ],
   "source": [
    "# example 2\n",
    "data = pd.DataFrame([['a', 'ok', 37], ['a', 'mid', 24], ['a', 'ng', 19], ['b', 'ok', 17], ['b', 'mid', 33], ['b', 'ng', 20]])\n",
    "diet = pd.crosstab(columns=data[1], index=data[0], values=data[2], aggfunc='sum', margins=True)\n",
    "\n",
    "diet"
   ]
  },
  {
   "cell_type": "code",
   "execution_count": 13,
   "id": "24a34648",
   "metadata": {},
   "outputs": [
    {
     "data": {
      "text/plain": [
       "'동질성 검정의 귀무가설은 p_{Ai} = p_{Bi}'"
      ]
     },
     "execution_count": 13,
     "metadata": {},
     "output_type": "execute_result"
    }
   ],
   "source": [
    "diet_ratio = pd.crosstab(columns=data[1], index=data[0], values=data[2], aggfunc='sum', margins=True, normalize='columns')\n",
    "diet_ratio\n",
    "\"동질성 검정의 귀무가설은 p_{Ai} = p_{Bi}\""
   ]
  },
  {
   "cell_type": "code",
   "execution_count": 15,
   "id": "593cb237",
   "metadata": {},
   "outputs": [
    {
     "name": "stdout",
     "output_type": "stream",
     "text": [
      "1       less  much   ok   All\n",
      "0                            \n",
      "female    25   388  196   609\n",
      "male      26   378  237   641\n",
      "All       51   766  433  1250\n"
     ]
    },
    {
     "data": {
      "text/plain": [
       "'독립성 검정 : 방영에 대한 의견은 개인의 성별과 무관하다는 귀무가설 검정'"
      ]
     },
     "execution_count": 15,
     "metadata": {},
     "output_type": "execute_result"
    }
   ],
   "source": [
    "# example 3\n",
    "data = pd.DataFrame([['male', 'much', 378], ['male', 'ok', 237], ['male', 'less', 26], ['female', 'much', 388], ['female', 'ok', 196], ['female', 'less', 25]])\n",
    "watch = pd.crosstab(columns=data[1], index=data[0], values=data[2], aggfunc='sum', margins=True)\n",
    "\n",
    "print(watch)\n",
    "\"독립성 검정 : 방영에 대한 의견은 개인의 성별과 무관하다는 귀무가설 검정\""
   ]
  },
  {
   "cell_type": "markdown",
   "id": "6e71d5b8",
   "metadata": {},
   "source": [
    "## 15.2 피어슨의 $\\chi^2$(카이제곱) 적합도 검정\n",
    "- 귀무가설에서 제시한 각 범주의 비율이 실제 자료에 적합한가?\n",
    "$$H_0:p_1=p_{10},\\dots,p_k=p_{k0}$$\n",
    "$$Observed=n_i\\quad Expected=n\\times p_{i0] \\\\ \\chi^2=\\sum\\frac{(O-E)^2}{E}=\\sum^k_{i=1}\\frac{(n_i-np_{i0})^2}{np_{i0}} \\ quad df=(범주의\\ 갯수)-1$$\n",
    "\n",
    "> **피어슨의 $\\chi^2$ 적합도 검정**\n",
    ">\n",
    "> $$H0:p_1=p_{10}, \\dots, p_k=p_{k0}$$\n",
    "> $$\\chi^2=\\sum\\frac{(O-E)^2}{E}=\\sum^k_{i=1}\\frac{(n_i-np_{i0})^2}{np_{i0}} \\quad df=(범주의\\ 갯수)-1$$\n",
    "> 유의수준 $\\alpha$에 대한 기각역은 $R:\\chi^2\\geq\\chi^2_\\alpha(k-1)$\n",
    "\n",
    "> **$\\chi^2$ 분포의 특성**\n",
    ">\n",
    "> 1) 독립인 표본으로부터 계산된 $\\chi^2$통계량들을 더하면, 그 합도 $\\chi^2$ 분포를 따르며, 자유도는 각 자유도의 합과 같다 $$\\chi^2(k_1)+\\dots+\\chi^2(k_r)\\sim \\chi^2(k_1+\\dots+k_r)$$\n",
    "> 2) $\\chi^2$통계량을 계산하는데 만약 모수의 추정치를 사용하였다면, 통계량 분포의 자유도는 추정한 모수의 개수만큼 감소하게 된다 $$\\chi^2의 자유도=(모수를\\ 알고\\ 있을\\ 경우의\\ 자유도)-(추정된\\ 모수의\\ 수)$$\n",
    "\n",
    "- 피어슨 $\\chi^2$검정은 표본의 크기가 큰 경우에만 적합 : 각 칸의 기대도수가 5 이상이면 가능\n",
    "    - 기대도수가 5보다 작은 칸이 많은 경우에는, 여러 칸을 합하여 기대도수를 크게 하거나, $2\\times 2$ 분할표에서는 피셔의 정확검정법 사용"
   ]
  },
  {
   "cell_type": "code",
   "execution_count": 33,
   "id": "3bbc56c6",
   "metadata": {},
   "outputs": [
    {
     "name": "stdout",
     "output_type": "stream",
     "text": [
      "2.62\n"
     ]
    },
    {
     "data": {
      "text/plain": [
       "7.377758908227871"
      ]
     },
     "execution_count": 33,
     "metadata": {},
     "output_type": "execute_result"
    }
   ],
   "source": [
    "# example 4\n",
    "obs = [18, 55, 27]\n",
    "exp = [25, 50 ,25]\n",
    "chi2 = np.sum(np.divide(np.subtract(obs, exp)**2, exp)); print(chi2)\n",
    "stats.chi2.ppf(1-0.05/2, df=len(obs)-1)"
   ]
  },
  {
   "cell_type": "code",
   "execution_count": 34,
   "id": "ab96eecb",
   "metadata": {},
   "outputs": [
    {
     "name": "stdout",
     "output_type": "stream",
     "text": [
      "46.416666666666664\n"
     ]
    },
    {
     "data": {
      "text/plain": [
       "9.348403604496148"
      ]
     },
     "execution_count": 34,
     "metadata": {},
     "output_type": "execute_result"
    }
   ],
   "source": [
    "# prob 2.2\n",
    "obs = [38, 43, 10, 5]\n",
    "exp = [96/4, 96/4, 96/4, 96/4]\n",
    "\n",
    "alpha = 0.05\n",
    "chi2 = np.sum(np.divide(np.subtract(obs, exp)**2, exp)); print(chi2)\n",
    "stats.chi2.ppf(1-alpha/2, df=len(obs)-1)"
   ]
  },
  {
   "cell_type": "code",
   "execution_count": 36,
   "id": "288ebde3",
   "metadata": {},
   "outputs": [
    {
     "name": "stdout",
     "output_type": "stream",
     "text": [
      "6.2020202020202015\n"
     ]
    },
    {
     "data": {
      "text/plain": [
       "9.348403604496148"
      ]
     },
     "execution_count": 36,
     "metadata": {},
     "output_type": "execute_result"
    }
   ],
   "source": [
    "# prob 2.4\n",
    "obs = [61, 55, 41, 41]\n",
    "exp = [198/4, 198/4, 198/4, 198/4]\n",
    "\n",
    "alpha = 0.05\n",
    "chi2 = np.sum(np.divide(np.subtract(obs, exp)**2, exp)); print(chi2)\n",
    "stats.chi2.ppf(1-alpha/2, df=len(obs)-1)"
   ]
  },
  {
   "cell_type": "code",
   "execution_count": 41,
   "id": "8706a74b",
   "metadata": {},
   "outputs": [
    {
     "name": "stdout",
     "output_type": "stream",
     "text": [
      "0.8617021276595745\n"
     ]
    },
    {
     "data": {
      "text/plain": [
       "7.377758908227871"
      ]
     },
     "execution_count": 41,
     "metadata": {},
     "output_type": "execute_result"
    }
   ],
   "source": [
    "# prob 2.6\n",
    "obs = [141, 291, 132]\n",
    "exp = np.multiply(np.sum(obs), [1/4, 1/2, 1/4])\n",
    "\n",
    "alpha = 0.05\n",
    "chi2 = np.sum(np.divide(np.subtract(obs, exp)**2, exp)); print(chi2)\n",
    "stats.chi2.ppf(1-alpha/2, df=len(obs)-1)"
   ]
  },
  {
   "cell_type": "code",
   "execution_count": 42,
   "id": "4bf3254c",
   "metadata": {},
   "outputs": [
    {
     "name": "stdout",
     "output_type": "stream",
     "text": [
      "40.39164735509392\n"
     ]
    },
    {
     "data": {
      "text/plain": [
       "16.74960234363904"
      ]
     },
     "execution_count": 42,
     "metadata": {},
     "output_type": "execute_result"
    }
   ],
   "source": [
    "# prob 2.8\n",
    "obs = [462, 171, 76, 57, 92, 74]\n",
    "exp = np.multiply(np.sum(obs), [0.59, 0.15, 0.06, 0.06, 0.07, 0.07])\n",
    "\n",
    "alpha = 0.01\n",
    "chi2 = np.sum(np.divide(np.subtract(obs, exp)**2, exp)); print(chi2)\n",
    "stats.chi2.ppf(1-alpha/2, df=len(obs)-1)"
   ]
  },
  {
   "cell_type": "code",
   "execution_count": 52,
   "id": "2531ef32",
   "metadata": {},
   "outputs": [
    {
     "name": "stdout",
     "output_type": "stream",
     "text": [
      "0.125 0.3750000000000001 0.3750000000000001 0.125\n"
     ]
    }
   ],
   "source": [
    "# prob 2.10\n",
    "# 1\n",
    "print(\n",
    "    stats.binom.pmf(k=0,n=3,p=0.5),\n",
    "    stats.binom.pmf(k=1,n=3,p=0.5),\n",
    "    stats.binom.pmf(k=2,n=3,p=0.5),\n",
    "    stats.binom.pmf(k=3,n=3,p=0.5),\n",
    ")"
   ]
  },
  {
   "cell_type": "code",
   "execution_count": 53,
   "id": "01d61339",
   "metadata": {},
   "outputs": [
    {
     "name": "stdout",
     "output_type": "stream",
     "text": [
      "39.893333333333345\n"
     ]
    },
    {
     "data": {
      "text/plain": [
       "9.348403604496148"
      ]
     },
     "execution_count": 53,
     "metadata": {},
     "output_type": "execute_result"
    }
   ],
   "source": [
    "# 2\n",
    "obs = [31, 40, 16, 13]\n",
    "p = [stats.binom.pmf(k=0,n=3,p=0.5),\n",
    "    stats.binom.pmf(k=1,n=3,p=0.5),\n",
    "    stats.binom.pmf(k=2,n=3,p=0.5),\n",
    "    stats.binom.pmf(k=3,n=3,p=0.5)]\n",
    "exp = np.multiply(np.sum(obs), p)\n",
    "\n",
    "alpha = 0.05\n",
    "chi2 = np.sum(np.divide(np.subtract(obs, exp)**2, exp)); print(chi2)\n",
    "stats.chi2.ppf(1-alpha/2, df=len(obs)-1)"
   ]
  },
  {
   "cell_type": "markdown",
   "id": "86f0f30b",
   "metadata": {},
   "source": [
    "## 15.3 동질성 검정\n",
    "- 모집단을 분류된 범주에 따라 2원 분할표로 표현 후, 모집단들이 각 범주에 대하여 같은 반응을 보이는지 검정\n",
    "- 각 반응범주에서 관측된 비율을 가지고 모집단 별로 같은지 조사\n",
    "$$H_0: p_{A1}=p_{B1},\\  p_{A2}=p_{B2},\\ p_{A3}=p_{B3},$$\n",
    "$$칸의\\ 추정기대도수=\\frac{칸이\\ 속한\\ 행의\\ 합계\\times 칸이\\ 속한\\ 열의\\ 합계}{전체\\ 합계}$$\n",
    "\n",
    "> **분할표에서의 $\\chi^2$ 동질성 검정**\n",
    ">\n",
    "> - r개의 모집단에서 독립적으로 추출한 표본을 c개의 반응범주로 분류\n",
    ">    - 각 칸의 추정기대도수 : $\\frac{(행의\\ 합 \\times 열의 합)}{(전체 합}$\n",
    ">    - $\\chi^2$의 자유도 : r(c-1) - (c-1) = (r-1)(c-1)\n",
    ">        - 각 r개의 행이 독립인 모집단, c개의 범주 \n",
    ">        => 성질 1) 모수가 알려져 있다면 자유도 r(c-1)\n",
    ">        => 성질 2) 각 범주 공통비율 $p_k$를 추정하면, 자유도는 추정한 모수의 개수만큼 감소, $\\sum p_k=1$로부터 추정 모수의 개수는 (c-1)\n",
    ">    - $\\chi^2 = \\sum\\frac{(O-E)^2}{E}$\n",
    ">    - 기각역$ R: \\chi^2 \\geq \\chi^2_\\alpha$"
   ]
  },
  {
   "cell_type": "code",
   "execution_count": 233,
   "id": "ed471830",
   "metadata": {},
   "outputs": [
    {
     "data": {
      "text/html": [
       "<div>\n",
       "<style scoped>\n",
       "    .dataframe tbody tr th:only-of-type {\n",
       "        vertical-align: middle;\n",
       "    }\n",
       "\n",
       "    .dataframe tbody tr th {\n",
       "        vertical-align: top;\n",
       "    }\n",
       "\n",
       "    .dataframe thead th {\n",
       "        text-align: right;\n",
       "    }\n",
       "</style>\n",
       "<table border=\"1\" class=\"dataframe\">\n",
       "  <thead>\n",
       "    <tr style=\"text-align: right;\">\n",
       "      <th>1</th>\n",
       "      <th>mid</th>\n",
       "      <th>ng</th>\n",
       "      <th>ok</th>\n",
       "    </tr>\n",
       "    <tr>\n",
       "      <th>0</th>\n",
       "      <th></th>\n",
       "      <th></th>\n",
       "      <th></th>\n",
       "    </tr>\n",
       "  </thead>\n",
       "  <tbody>\n",
       "    <tr>\n",
       "      <th>a</th>\n",
       "      <td>24</td>\n",
       "      <td>19</td>\n",
       "      <td>37</td>\n",
       "    </tr>\n",
       "    <tr>\n",
       "      <th>b</th>\n",
       "      <td>33</td>\n",
       "      <td>20</td>\n",
       "      <td>17</td>\n",
       "    </tr>\n",
       "  </tbody>\n",
       "</table>\n",
       "</div>"
      ],
      "text/plain": [
       "1  mid  ng  ok\n",
       "0             \n",
       "a   24  19  37\n",
       "b   33  20  17"
      ]
     },
     "execution_count": 233,
     "metadata": {},
     "output_type": "execute_result"
    }
   ],
   "source": [
    "# example 5\n",
    "data = pd.DataFrame([['a', 'ok', 37], ['a', 'mid', 24], ['a', 'ng', 19], ['b', 'ok', 17], ['b', 'mid', 33], ['b', 'ng', 20]])\n",
    "diet = pd.crosstab(columns=data[1], index=data[0], values=data[2], aggfunc='sum')#, margins=True)\n",
    "\n",
    "diet"
   ]
  },
  {
   "cell_type": "code",
   "execution_count": 269,
   "id": "dce48baa",
   "metadata": {},
   "outputs": [
    {
     "name": "stdout",
     "output_type": "stream",
     "text": [
      "8.22398544438018 5.991464547107979\n"
     ]
    }
   ],
   "source": [
    "# expectation\n",
    "diet_exp = pd.DataFrame(index=diet.index, columns=diet.columns)\n",
    "all_sum = np.sum(diet.sum())\n",
    "row_sum = col_sum = 0\n",
    "\n",
    "for row in list(diet_exp.index):\n",
    "    row_sum = np.sum(diet.loc[row, :])\n",
    "    for col in list(diet_exp.columns):\n",
    "        col_sum = np.sum(diet.loc[:, col])\n",
    "        diet_exp.loc[row,col] = row_sum * col_sum / all_sum\n",
    "\n",
    "# chi square calculation        \n",
    "diet_chi = pd.DataFrame(index=diet.index, columns=diet.columns)\n",
    "for row in list(diet_exp.index):\n",
    "    for col in list(diet_exp.columns):\n",
    "        diet_chi.loc[row,col] = (diet.loc[row,col]-diet_exp.loc[row,col])**2/diet_exp.loc[row,col]\n",
    "\n",
    "f_val = np.sum(diet_chi.sum())\n",
    "\n",
    "alpha = 0.05\n",
    "print(f_val, stats.chi2.ppf(1-alpha, df=(len(diet.index)-1) * (len(diet.columns)-1)))"
   ]
  },
  {
   "cell_type": "code",
   "execution_count": 263,
   "id": "e05f04df",
   "metadata": {},
   "outputs": [
    {
     "data": {
      "text/plain": [
       "7.377758908227871"
      ]
     },
     "execution_count": 263,
     "metadata": {},
     "output_type": "execute_result"
    }
   ],
   "source": [
    "stats.chi2.ppf(1-alpha/2, df=2)"
   ]
  },
  {
   "cell_type": "code",
   "execution_count": 213,
   "id": "ab3300b6",
   "metadata": {},
   "outputs": [
    {
     "data": {
      "text/plain": [
       "25.2"
      ]
     },
     "execution_count": 213,
     "metadata": {},
     "output_type": "execute_result"
    }
   ],
   "source": [
    "np.sum(diet.loc[:, 'ok']) * np.sum(diet.loc['b',:]) / all_sum"
   ]
  },
  {
   "cell_type": "code",
   "execution_count": 264,
   "id": "98c6196b",
   "metadata": {},
   "outputs": [
    {
     "data": {
      "text/html": [
       "<div>\n",
       "<style scoped>\n",
       "    .dataframe tbody tr th:only-of-type {\n",
       "        vertical-align: middle;\n",
       "    }\n",
       "\n",
       "    .dataframe tbody tr th {\n",
       "        vertical-align: top;\n",
       "    }\n",
       "\n",
       "    .dataframe thead th {\n",
       "        text-align: right;\n",
       "    }\n",
       "</style>\n",
       "<table border=\"1\" class=\"dataframe\">\n",
       "  <thead>\n",
       "    <tr style=\"text-align: right;\">\n",
       "      <th>1</th>\n",
       "      <th>addict</th>\n",
       "      <th>ok</th>\n",
       "    </tr>\n",
       "    <tr>\n",
       "      <th>0</th>\n",
       "      <th></th>\n",
       "      <th></th>\n",
       "    </tr>\n",
       "  </thead>\n",
       "  <tbody>\n",
       "    <tr>\n",
       "      <th>biz</th>\n",
       "      <td>67</td>\n",
       "      <td>233</td>\n",
       "    </tr>\n",
       "    <tr>\n",
       "      <th>edu</th>\n",
       "      <td>51</td>\n",
       "      <td>199</td>\n",
       "    </tr>\n",
       "    <tr>\n",
       "      <th>merch</th>\n",
       "      <td>83</td>\n",
       "      <td>267</td>\n",
       "    </tr>\n",
       "    <tr>\n",
       "      <th>office</th>\n",
       "      <td>32</td>\n",
       "      <td>268</td>\n",
       "    </tr>\n",
       "  </tbody>\n",
       "</table>\n",
       "</div>"
      ],
      "text/plain": [
       "1       addict   ok\n",
       "0                  \n",
       "biz         67  233\n",
       "edu         51  199\n",
       "merch       83  267\n",
       "office      32  268"
      ]
     },
     "execution_count": 264,
     "metadata": {},
     "output_type": "execute_result"
    }
   ],
   "source": [
    "# example 6\n",
    "data = pd.DataFrame([['office', 'addict', 32], ['office', 'ok', 268], \n",
    "                     ['edu', 'addict', 51], ['edu', 'ok', 199], \n",
    "                     ['biz', 'addict', 67], ['biz', 'ok', 233],\n",
    "                     ['merch', 'addict', 83], ['merch', 'ok', 267]])\n",
    "addict = pd.crosstab(columns=data[1], index=data[0], values=data[2], aggfunc='sum')#, margins=True)\n",
    "\n",
    "addict"
   ]
  },
  {
   "cell_type": "code",
   "execution_count": 268,
   "id": "d347d2cd",
   "metadata": {},
   "outputs": [
    {
     "name": "stdout",
     "output_type": "stream",
     "text": [
      "20.596749762391923 7.814727903251179\n"
     ]
    }
   ],
   "source": [
    "# expectation\n",
    "addict_exp = pd.DataFrame(index=addict.index, columns=addict.columns)\n",
    "all_sum = np.sum(addict.sum())\n",
    "row_sum = col_sum = 0\n",
    "\n",
    "for row in list(addict_exp.index):\n",
    "    row_sum = np.sum(addict.loc[row, :])\n",
    "    for col in list(addict_exp.columns):\n",
    "        col_sum = np.sum(addict.loc[:, col])\n",
    "        addict_exp.loc[row,col] = row_sum * col_sum / all_sum\n",
    "\n",
    "# chi square calculation        \n",
    "addict_chi = pd.DataFrame(index=addict.index, columns=addict.columns)\n",
    "for row in list(addict_exp.index):\n",
    "    for col in list(addict_exp.columns):\n",
    "        addict_chi.loc[row,col] = (addict.loc[row,col]-addict_exp.loc[row,col])**2/addict_exp.loc[row,col]\n",
    "\n",
    "f_val = np.sum(addict_chi.sum())\n",
    "\n",
    "alpha = 0.05\n",
    "print(f_val, stats.chi2.ppf(1-alpha, df=(len(addict.index)-1)*(len(addict.columns)-1)))"
   ]
  },
  {
   "cell_type": "code",
   "execution_count": 272,
   "id": "e0bf2b37",
   "metadata": {},
   "outputs": [
    {
     "data": {
      "text/html": [
       "<div>\n",
       "<style scoped>\n",
       "    .dataframe tbody tr th:only-of-type {\n",
       "        vertical-align: middle;\n",
       "    }\n",
       "\n",
       "    .dataframe tbody tr th {\n",
       "        vertical-align: top;\n",
       "    }\n",
       "\n",
       "    .dataframe thead th {\n",
       "        text-align: right;\n",
       "    }\n",
       "</style>\n",
       "<table border=\"1\" class=\"dataframe\">\n",
       "  <thead>\n",
       "    <tr style=\"text-align: right;\">\n",
       "      <th>1</th>\n",
       "      <th>no sprout</th>\n",
       "      <th>sprout</th>\n",
       "    </tr>\n",
       "    <tr>\n",
       "      <th>0</th>\n",
       "      <th></th>\n",
       "      <th></th>\n",
       "    </tr>\n",
       "  </thead>\n",
       "  <tbody>\n",
       "    <tr>\n",
       "      <th>no pro</th>\n",
       "      <td>24</td>\n",
       "      <td>126</td>\n",
       "    </tr>\n",
       "    <tr>\n",
       "      <th>pro</th>\n",
       "      <td>12</td>\n",
       "      <td>88</td>\n",
       "    </tr>\n",
       "  </tbody>\n",
       "</table>\n",
       "</div>"
      ],
      "text/plain": [
       "1       no sprout  sprout\n",
       "0                        \n",
       "no pro         24     126\n",
       "pro            12      88"
      ]
     },
     "execution_count": 272,
     "metadata": {},
     "output_type": "execute_result"
    }
   ],
   "source": [
    "# example 7\n",
    "data = pd.DataFrame([\n",
    "    ['pro', 'sprout', 88], ['pro', 'no sprout', 12],\n",
    "    ['no pro', 'sprout', 126], ['no pro', 'no sprout', 24]\n",
    "])\n",
    "sprout = pd.crosstab(columns=data[1], index=data[0], values=data[2], aggfunc='sum')\n",
    "sprout"
   ]
  },
  {
   "cell_type": "code",
   "execution_count": 273,
   "id": "c9e19a8c",
   "metadata": {},
   "outputs": [
    {
     "name": "stdout",
     "output_type": "stream",
     "text": [
      "0.7788161993769473 3.841458820694124\n"
     ]
    }
   ],
   "source": [
    "sprout_exp = pd.DataFrame(index=sprout.index, columns=sprout.columns)\n",
    "all_sum = np.sum(sprout.sum())\n",
    "row_sum = col_sum = 0\n",
    "\n",
    "for row in list(sprout_exp.index):\n",
    "    row_sum = np.sum(sprout.loc[row, :])\n",
    "    for col in list(sprout_exp.columns):\n",
    "        col_sum = np.sum(sprout.loc[:, col])\n",
    "        sprout_exp.loc[row,col] = row_sum * col_sum / all_sum\n",
    "\n",
    "# chi square calculation        \n",
    "sprout_chi = pd.DataFrame(index=sprout.index, columns=sprout.columns)\n",
    "for row in list(sprout_exp.index):\n",
    "    for col in list(sprout_exp.columns):\n",
    "        sprout_chi.loc[row,col] = (sprout.loc[row,col]-sprout_exp.loc[row,col])**2/sprout_exp.loc[row,col]\n",
    "\n",
    "f_val = np.sum(sprout_chi.sum())\n",
    "\n",
    "alpha = 0.05\n",
    "print(f_val, stats.chi2.ppf(1-alpha, df=(len(sprout.index)-1)*(len(sprout.columns)-1)))"
   ]
  },
  {
   "cell_type": "code",
   "execution_count": 276,
   "id": "00770cdb",
   "metadata": {},
   "outputs": [
    {
     "name": "stdout",
     "output_type": "stream",
     "text": [
      "24.60796923859296 9.487729036781154\n"
     ]
    }
   ],
   "source": [
    "# prob 3.2\n",
    "data = pd.DataFrame([\n",
    "    ['a', 'no', 36], ['a', 'listen', 55], ['a', 'buy', 109],\n",
    "    ['b', 'no', 45], ['b', 'listen', 56], ['b', 'buy', 49],\n",
    "    ['c', 'no', 54], ['c', 'listen', 78], ['c', 'buy', 168],    \n",
    "])\n",
    "\n",
    "market = pd.crosstab(columns=data[1], index=data[0], values=data[2], aggfunc='sum')\n",
    "\n",
    "market_exp = pd.DataFrame(index=market.index, columns=market.columns)\n",
    "all_sum = np.sum(market.sum())\n",
    "row_sum = col_sum = 0\n",
    "\n",
    "for row in list(market_exp.index):\n",
    "    row_sum = np.sum(market.loc[row, :])\n",
    "    for col in list(market_exp.columns):\n",
    "        col_sum = np.sum(market.loc[:, col])\n",
    "        market_exp.loc[row,col] = row_sum * col_sum / all_sum\n",
    "\n",
    "# chi square calculation        \n",
    "market_chi = pd.DataFrame(index=market.index, columns=market.columns)\n",
    "for row in list(market_exp.index):\n",
    "    for col in list(market_exp.columns):\n",
    "        market_chi.loc[row,col] = (market.loc[row,col]-market_exp.loc[row,col])**2/market_exp.loc[row,col]\n",
    "\n",
    "f_val = np.sum(market_chi.sum())\n",
    "\n",
    "alpha = 0.05\n",
    "print(f_val, stats.chi2.ppf(1-alpha, df=(len(market.index)-1)*(len(market.columns)-1)))"
   ]
  },
  {
   "cell_type": "code",
   "execution_count": 278,
   "id": "3068e3bf",
   "metadata": {},
   "outputs": [
    {
     "name": "stdout",
     "output_type": "stream",
     "text": [
      "0.20098039215686275 3.841458820694124\n"
     ]
    }
   ],
   "source": [
    "# prob 3.4\n",
    "# 1\n",
    "data = pd.DataFrame([\n",
    "    ['yes','pos',23], ['yes','impos',18],\n",
    "    ['no','pos',25], ['no', 'impos', 16]\n",
    "])\n",
    "\n",
    "deaf = pd.crosstab(columns=data[1], index=data[0], values=data[2], aggfunc='sum')\n",
    "\n",
    "deaf_exp = pd.DataFrame(index=deaf.index, columns=deaf.columns)\n",
    "all_sum = np.sum(deaf.sum())\n",
    "row_sum = col_sum = 0\n",
    "\n",
    "for row in list(deaf_exp.index):\n",
    "    row_sum = np.sum(deaf.loc[row, :])\n",
    "    for col in list(deaf_exp.columns):\n",
    "        col_sum = np.sum(deaf.loc[:, col])\n",
    "        deaf_exp.loc[row,col] = row_sum * col_sum / all_sum\n",
    "\n",
    "# chi square calculation        \n",
    "deaf_chi = pd.DataFrame(index=deaf.index, columns=deaf.columns)\n",
    "for row in list(deaf_exp.index):\n",
    "    for col in list(deaf_exp.columns):\n",
    "        deaf_chi.loc[row,col] = (deaf.loc[row,col]-deaf_exp.loc[row,col])**2/deaf_exp.loc[row,col]\n",
    "\n",
    "f_val = np.sum(deaf_chi.sum())\n",
    "\n",
    "alpha = 0.05\n",
    "print(f_val, stats.chi2.ppf(1-alpha, df=(len(deaf.index)-1)*(len(deaf.columns)-1)))"
   ]
  },
  {
   "cell_type": "code",
   "execution_count": 281,
   "id": "f5e7e139",
   "metadata": {},
   "outputs": [
    {
     "data": {
      "text/plain": [
       "0.21936532601033856"
      ]
     },
     "execution_count": 281,
     "metadata": {},
     "output_type": "execute_result"
    }
   ],
   "source": [
    "# 2 \n",
    "# 두 모비율\n",
    "alpha = 0.05\n",
    "\n",
    "p_yes = 23/48 ; p_no = 18/34\n",
    "n_yes = 48 ; n_no = 34\n",
    "z_alpha = stats.norm.ppf(1-alpha/2)\n",
    "z_alpha * np.sqrt(((p_yes*(1-p_yes)/n_yes)+(p_no*(1-p_no)/n_no)))"
   ]
  },
  {
   "cell_type": "code",
   "execution_count": 284,
   "id": "f9a27a2e",
   "metadata": {},
   "outputs": [
    {
     "name": "stdout",
     "output_type": "stream",
     "text": [
      "0.9571042230081135 3.841458820694124\n"
     ]
    }
   ],
   "source": [
    "# prob 3.6 \n",
    "# 1\n",
    "data = pd.DataFrame([\n",
    "    ['a','die',58], ['a','survive',57],\n",
    "    ['c','die',56], ['c', 'survive', 42]\n",
    "])\n",
    "\n",
    "pesticide = pd.crosstab(columns=data[1], index=data[0], values=data[2], aggfunc='sum')\n",
    "\n",
    "pesticide_exp = pd.DataFrame(index=pesticide.index, columns=pesticide.columns)\n",
    "all_sum = np.sum(pesticide.sum())\n",
    "row_sum = col_sum = 0\n",
    "\n",
    "for row in list(pesticide_exp.index):\n",
    "    row_sum = np.sum(pesticide.loc[row, :])\n",
    "    for col in list(pesticide_exp.columns):\n",
    "        col_sum = np.sum(pesticide.loc[:, col])\n",
    "        pesticide_exp.loc[row,col] = row_sum * col_sum / all_sum\n",
    "\n",
    "# chi square calculation        \n",
    "pesticide_chi = pd.DataFrame(index=pesticide.index, columns=pesticide.columns)\n",
    "for row in list(pesticide_exp.index):\n",
    "    for col in list(pesticide_exp.columns):\n",
    "        pesticide_chi.loc[row,col] = (pesticide.loc[row,col]-pesticide_exp.loc[row,col])**2/pesticide_exp.loc[row,col]\n",
    "\n",
    "f_val = np.sum(pesticide_chi.sum())\n",
    "\n",
    "alpha = 0.05\n",
    "print(f_val, stats.chi2.ppf(1-alpha, df=(len(pesticide.index)-1)*(len(pesticide.columns)-1)))"
   ]
  },
  {
   "cell_type": "code",
   "execution_count": 286,
   "id": "43244463",
   "metadata": {},
   "outputs": [
    {
     "data": {
      "text/plain": [
       "0.1339776592557308"
      ]
     },
     "execution_count": 286,
     "metadata": {},
     "output_type": "execute_result"
    }
   ],
   "source": [
    "# 2\n",
    "alpha = 0.05\n",
    "\n",
    "n_a = 115 ; n_c = 98\n",
    "p_a = 58/n_a ; p_c = 56/n_c\n",
    "\n",
    "z_alpha = stats.norm.ppf(1-alpha/2)\n",
    "z_alpha * np.sqrt(((p_a*(1-p_a)/n_a)+(p_c*(1-p_c)/n_c)))"
   ]
  },
  {
   "cell_type": "markdown",
   "id": "f777cd03",
   "metadata": {},
   "source": [
    "## 15.4 독립성 검정\n",
    "- 한 임의표본의 각 원소에 대하여 두 가지 특성을 관찰한다면 자료들은 이 두 가지 특성에 따라 동시에 분류 가능. 행이나 열 어느 쪽의 합도 고정되지 않은 분햘표\n",
    "- 두 특성이 독립이려면 두 사건의 곱사건 확률이 각 사건의 확률의 곱으로 나타나야 함 $$p_{Mi}=p_M p_i\\\\ H_0:각\\ 칸의\\ 확률은\\ 그\\ 칸이\\ 속한\\ 열의\\ 합\\ 확률과\\ 행의\\ 합\\ 확률의\\ 곱으로\\ 표현됨$$\n",
    "- 기대도수 : 표본의 수에 각 칸의 확률 곱하여 얻어짐$$총\\ 도수 \\times p_{Mi} = 총\\ 도수 \\times p_{M} \\times p_{i} \\\\ 추정기대도수 = \\frac{칸이\\ 속한\\ 열의\\ 합\\times 칸이\\ 속한\\ 행의\\ 합}{전체\\ 합} $$\n",
    "- $\\chi^2의\\ 자유도=(칸의\\ 수) - 1 - (추정한\\ 모수의\\ 개수)$\n",
    "$$\\chi^2 = \\sum_n\\frac{(O-E)^2}{E} \\\\ \\chi^2의 자유도=모집단\\ 사이즈-1\\ 추정하는\\ 모수의\\ 갯수가\\ 열에서\\ c-1\\ 행에서\\ r-1 \\\\rc-1-(r-1)-(c-1)$$\n",
    "- **독립성 검정은 동질성 검정과 검정통계량, 자유도, 기각역이 모두 동일하고, 단지 검정하고자 하는 가설이 달라서 검정결과에 대한 해석이 달라짐**"
   ]
  },
  {
   "cell_type": "code",
   "execution_count": 291,
   "id": "0b355f8a",
   "metadata": {},
   "outputs": [
    {
     "data": {
      "text/html": [
       "<div>\n",
       "<style scoped>\n",
       "    .dataframe tbody tr th:only-of-type {\n",
       "        vertical-align: middle;\n",
       "    }\n",
       "\n",
       "    .dataframe tbody tr th {\n",
       "        vertical-align: top;\n",
       "    }\n",
       "\n",
       "    .dataframe thead th {\n",
       "        text-align: right;\n",
       "    }\n",
       "</style>\n",
       "<table border=\"1\" class=\"dataframe\">\n",
       "  <thead>\n",
       "    <tr style=\"text-align: right;\">\n",
       "      <th>1</th>\n",
       "      <th>less</th>\n",
       "      <th>much</th>\n",
       "      <th>ok</th>\n",
       "      <th>All</th>\n",
       "    </tr>\n",
       "    <tr>\n",
       "      <th>0</th>\n",
       "      <th></th>\n",
       "      <th></th>\n",
       "      <th></th>\n",
       "      <th></th>\n",
       "    </tr>\n",
       "  </thead>\n",
       "  <tbody>\n",
       "    <tr>\n",
       "      <th>female</th>\n",
       "      <td>0.0200</td>\n",
       "      <td>0.3104</td>\n",
       "      <td>0.1568</td>\n",
       "      <td>0.4872</td>\n",
       "    </tr>\n",
       "    <tr>\n",
       "      <th>male</th>\n",
       "      <td>0.0208</td>\n",
       "      <td>0.3024</td>\n",
       "      <td>0.1896</td>\n",
       "      <td>0.5128</td>\n",
       "    </tr>\n",
       "    <tr>\n",
       "      <th>All</th>\n",
       "      <td>0.0408</td>\n",
       "      <td>0.6128</td>\n",
       "      <td>0.3464</td>\n",
       "      <td>1.0000</td>\n",
       "    </tr>\n",
       "  </tbody>\n",
       "</table>\n",
       "</div>"
      ],
      "text/plain": [
       "1         less    much      ok     All\n",
       "0                                     \n",
       "female  0.0200  0.3104  0.1568  0.4872\n",
       "male    0.0208  0.3024  0.1896  0.5128\n",
       "All     0.0408  0.6128  0.3464  1.0000"
      ]
     },
     "execution_count": 291,
     "metadata": {},
     "output_type": "execute_result"
    }
   ],
   "source": [
    "# example 8\n",
    "data = pd.DataFrame([['male', 'much', 378], ['male', 'ok', 237], ['male', 'less', 26], ['female', 'much', 388], ['female', 'ok', 196], ['female', 'less', 25]])\n",
    "watch = pd.crosstab(columns=data[1], index=data[0], values=data[2], aggfunc='sum', margins=True)\n",
    "\n",
    "watch_p = np.divide(watch, 1250)\n",
    "watch_p"
   ]
  },
  {
   "cell_type": "code",
   "execution_count": 321,
   "id": "6a6c33c0",
   "metadata": {},
   "outputs": [
    {
     "name": "stdout",
     "output_type": "stream",
     "text": [
      "3.2152804022430193 5.991464547107979\n"
     ]
    }
   ],
   "source": [
    "watch_exp = pd.DataFrame(index=watch.index, columns=watch.columns)\n",
    "all_sum = np.sum(watch.sum())\n",
    "row_sum = col_sum = 0\n",
    "\n",
    "for row in list(watch_exp.index):\n",
    "    row_sum = np.sum(watch.loc[row, :])\n",
    "    for col in list(watch_exp.columns):\n",
    "        col_sum = np.sum(watch.loc[:, col])\n",
    "        watch_exp.loc[row,col] = row_sum * col_sum / all_sum\n",
    "\n",
    "# chi square calculation        \n",
    "watch_chi = pd.DataFrame(index=watch.index, columns=watch.columns)\n",
    "for row in list(watch_exp.index):\n",
    "    for col in list(watch_exp.columns):\n",
    "        watch_chi.loc[row,col] = (watch.loc[row,col]-watch_exp.loc[row,col])**2/watch_exp.loc[row,col]\n",
    "\n",
    "f_val = np.sum(watch_chi.sum()); \n",
    "\n",
    "alpha = 0.05\n",
    "print(f_val, stats.chi2.ppf(1-alpha, df=(len(work.index)-1)*(len(work.columns)-1)))"
   ]
  },
  {
   "cell_type": "code",
   "execution_count": 320,
   "id": "07c2ce47",
   "metadata": {},
   "outputs": [
    {
     "name": "stdout",
     "output_type": "stream",
     "text": [
      "38.968841696690546 2.705543454095404\n"
     ]
    }
   ],
   "source": [
    "# prob 4.2\n",
    "data = pd.DataFrame([['symp', 'alco', 54], ['symp', 'ok', 27], ['no symp', 'alco', 22], ['no symp', 'ok', 82]])\n",
    "stress = pd.crosstab(columns=data[1], index=data[0], values=data[2], aggfunc='sum')\n",
    "                     \n",
    "stress_exp = pd.DataFrame(index=stress.index, columns=stress.columns)\n",
    "all_sum = np.sum(stress.sum())\n",
    "row_sum = col_sum = 0\n",
    "\n",
    "for row in list(stress_exp.index):\n",
    "    row_sum = np.sum(stress.loc[row, :])\n",
    "    for col in list(stress_exp.columns):\n",
    "        col_sum = np.sum(stress.loc[:, col])\n",
    "        stress_exp.loc[row,col] = row_sum * col_sum / all_sum\n",
    "\n",
    "# chi square calculation        \n",
    "stress_chi = pd.DataFrame(index=stress.index, columns=stress.columns)\n",
    "for row in list(stress_exp.index):\n",
    "    for col in list(stress_exp.columns):\n",
    "        stress_chi.loc[row,col] = (stress.loc[row,col]-stress_exp.loc[row,col])**2/stress_exp.loc[row,col]\n",
    "\n",
    "f_val = np.sum(stress_chi.sum()); \n",
    "\n",
    "alpha = 0.1\n",
    "print(f_val, stats.chi2.ppf(1-alpha, df=(len(stress.index)-1)*(len(stress.columns)-1)))"
   ]
  },
  {
   "cell_type": "code",
   "execution_count": 319,
   "id": "523107bd",
   "metadata": {},
   "outputs": [
    {
     "name": "stdout",
     "output_type": "stream",
     "text": [
      "27.847152847152852 5.991464547107979\n"
     ]
    }
   ],
   "source": [
    "# prob 4.4\n",
    "data = pd.DataFrame([\n",
    "    ['list', 'pro', 112], ['list', 'ok', 36], ['list', 'con', 28], \n",
    "    ['no list', 'pro', 84], ['no list', 'ok', 68], ['no list', 'con', 72],\n",
    "])\n",
    "budget = pd.crosstab(columns=data[1], index=data[0], values=data[2], aggfunc='sum')\n",
    "                     \n",
    "budget_exp = pd.DataFrame(index=budget.index, columns=budget.columns)\n",
    "all_sum = np.sum(budget.sum())\n",
    "row_sum = col_sum = 0\n",
    "\n",
    "for row in list(budget_exp.index):\n",
    "    row_sum = np.sum(budget.loc[row, :])\n",
    "    for col in list(budget_exp.columns):\n",
    "        col_sum = np.sum(budget.loc[:, col])\n",
    "        budget_exp.loc[row,col] = row_sum * col_sum / all_sum\n",
    "\n",
    "# chi square calculation        \n",
    "budget_chi = pd.DataFrame(index=budget.index, columns=budget.columns)\n",
    "for row in list(budget_exp.index):\n",
    "    for col in list(budget_exp.columns):\n",
    "        budget_chi.loc[row,col] = (budget.loc[row,col]-budget_exp.loc[row,col])**2/budget_exp.loc[row,col]\n",
    "\n",
    "f_val = np.sum(budget_chi.sum()); \n",
    "\n",
    "alpha = 0.05\n",
    "print(f_val, stats.chi2.ppf(1-alpha, df=(len(budget.index)-1)*(len(budget.columns)-1)))"
   ]
  },
  {
   "cell_type": "code",
   "execution_count": 318,
   "id": "e3e726e9",
   "metadata": {},
   "outputs": [
    {
     "name": "stdout",
     "output_type": "stream",
     "text": [
      "4.134243697478992 5.991464547107979\n"
     ]
    }
   ],
   "source": [
    "# prob 4.6\n",
    "\n",
    "data = pd.DataFrame([\n",
    "    ['great', 'work', 9], ['great', 'quit', 9], \n",
    "    ['ok', 'work', 8], ['ok', 'quit', 12], \n",
    "    ['bad', 'work', 3], ['bad', 'quit', 14],\n",
    "])\n",
    "work = pd.crosstab(columns=data[1], index=data[0], values=data[2], aggfunc='sum')\n",
    "                     \n",
    "work_exp = pd.DataFrame(index=work.index, columns=work.columns)\n",
    "all_sum = np.sum(work.sum())\n",
    "row_sum = col_sum = 0\n",
    "\n",
    "for row in list(work_exp.index):\n",
    "    row_sum = np.sum(work.loc[row, :])\n",
    "    for col in list(work_exp.columns):\n",
    "        col_sum = np.sum(work.loc[:, col])\n",
    "        work_exp.loc[row,col] = row_sum * col_sum / all_sum\n",
    "\n",
    "# chi square calculation        \n",
    "work_chi = pd.DataFrame(index=work.index, columns=work.columns)\n",
    "for row in list(work_exp.index):\n",
    "    for col in list(work_exp.columns):\n",
    "        work_chi.loc[row,col] = (work.loc[row,col]-work_exp.loc[row,col])**2/work_exp.loc[row,col]\n",
    "\n",
    "f_val = np.sum(work_chi.sum()); \n",
    "\n",
    "alpha = 0.05\n",
    "print(f_val, stats.chi2.ppf(1-alpha, df=(len(work.index)-1)*(len(work.columns)-1)))"
   ]
  },
  {
   "cell_type": "code",
   "execution_count": 310,
   "id": "58a63006",
   "metadata": {},
   "outputs": [
    {
     "name": "stdout",
     "output_type": "stream",
     "text": [
      "Power_divergenceResult(statistic=28.200000000000003, pvalue=1.1361214318167942e-05)\n"
     ]
    },
    {
     "data": {
      "text/plain": [
       "11.143286781877796"
      ]
     },
     "execution_count": 310,
     "metadata": {},
     "output_type": "execute_result"
    }
   ],
   "source": [
    "# prob 5.2\n",
    "obs = [14, 18, 18, 26, 24]\n",
    "exp = np.multiply(np.sum(obs), [0.2, 0.3, 0.2, 0.2, 0.1])\n",
    "\n",
    "alpha = 0.05\n",
    "print(stats.chisquare(obs, exp))\n",
    "stats.chi2.ppf(1-alpha/2, df=len(obs)-1)"
   ]
  },
  {
   "cell_type": "code",
   "execution_count": 314,
   "id": "605f7641",
   "metadata": {},
   "outputs": [
    {
     "name": "stdout",
     "output_type": "stream",
     "text": [
      "Power_divergenceResult(statistic=72.45486313337217, pvalue=4.161301079039476e-11)\n"
     ]
    },
    {
     "data": {
      "text/plain": [
       "26.756848916469636"
      ]
     },
     "execution_count": 314,
     "metadata": {},
     "output_type": "execute_result"
    }
   ],
   "source": [
    "# prob 5.4 \n",
    "obs = [3478, 3333, 3771, 3542, 3479, 3304, 3476, 3495, 3490, 3331, 3188, 3321]\n",
    "\n",
    "alpha = 0.01\n",
    "print(stats.chisquare(obs))\n",
    "stats.chi2.ppf(1-alpha/2, df=len(obs)-1)"
   ]
  },
  {
   "cell_type": "code",
   "execution_count": 317,
   "id": "c963caaf",
   "metadata": {},
   "outputs": [
    {
     "name": "stdout",
     "output_type": "stream",
     "text": [
      "2.5785790922964797 1.959963984540054\n"
     ]
    }
   ],
   "source": [
    "# prob 5.6\n",
    "# 1\n",
    "n1 = 84+417 ; n2 = 43+357\n",
    "p1 = 84/n1 ; p2 = 43/n2\n",
    "alpha = 0.05\n",
    "\n",
    "p = (p1*n1+p2*n2)/(n1+n2)\n",
    "z_val = (p1-p2)/(np.sqrt(p * (1-p)) * np.sqrt(1/n1+1/n2))\n",
    "z_alpha = stats.norm.ppf(1-alpha/2)\n",
    "print(z_val, z_alpha)"
   ]
  },
  {
   "cell_type": "code",
   "execution_count": 322,
   "id": "047c64d3",
   "metadata": {},
   "outputs": [
    {
     "name": "stdout",
     "output_type": "stream",
     "text": [
      "6.649070135228531 3.841458820694124\n"
     ]
    }
   ],
   "source": [
    "# 2 \n",
    "data = pd.DataFrame([\n",
    "    ['exps', 'abn', 84], ['exps', 'nor', 417], \n",
    "    ['no exps', 'abn', 43], ['no exps', 'nor', 357], \n",
    "])\n",
    "rad = pd.crosstab(columns=data[1], index=data[0], values=data[2], aggfunc='sum')\n",
    "\n",
    "rad_exp = pd.DataFrame(index=rad.index, columns=rad.columns)\n",
    "all_sum = np.sum(rad.sum())\n",
    "row_sum = col_sum = 0\n",
    "\n",
    "for row in list(rad_exp.index):\n",
    "    row_sum = np.sum(rad.loc[row, :])\n",
    "    for col in list(rad_exp.columns):\n",
    "        col_sum = np.sum(rad.loc[:, col])\n",
    "        rad_exp.loc[row,col] = row_sum * col_sum / all_sum\n",
    "\n",
    "# chi square calculation        \n",
    "rad_chi = pd.DataFrame(index=rad.index, columns=rad.columns)\n",
    "for row in list(rad_exp.index):\n",
    "    for col in list(rad_exp.columns):\n",
    "        rad_chi.loc[row,col] = (rad.loc[row,col]-rad_exp.loc[row,col])**2/rad_exp.loc[row,col]\n",
    "\n",
    "f_val = np.sum(rad_chi.sum()); \n",
    "\n",
    "alpha = 0.05\n",
    "print(f_val, stats.chi2.ppf(1-alpha, df=(len(rad.index)-1)*(len(rad.columns)-1)))"
   ]
  },
  {
   "cell_type": "code",
   "execution_count": 340,
   "id": "03e75a6c",
   "metadata": {},
   "outputs": [
    {
     "name": "stdout",
     "output_type": "stream",
     "text": [
      "10.08958289445966 7.814727903251179\n"
     ]
    }
   ],
   "source": [
    "# prob 5.8 \n",
    "# 1\n",
    "data = pd.DataFrame([\n",
    "    ['a', 'ok', 23], ['a', 'pain', 52-23], \n",
    "    ['b', 'ok', 30], ['b', 'pain', 48-30], \n",
    "    ['c', 'ok', 19], ['c', 'pain', 50-19], \n",
    "    ['d', 'ok', 29], ['d', 'pain', 45-29], \n",
    "])\n",
    "painkiller = pd.crosstab(columns=data[1], index=data[0], values=data[2], aggfunc='sum')\n",
    "\n",
    "painkiller_exp = pd.DataFrame(index=painkiller.index, columns=painkiller.columns)\n",
    "all_sum = np.sum(painkiller.sum())\n",
    "row_sum = col_sum = 0\n",
    "\n",
    "for row in list(painkiller_exp.index):\n",
    "    row_sum = np.sum(painkiller.loc[row, :])\n",
    "    for col in list(painkiller_exp.columns):\n",
    "        col_sum = np.sum(painkiller.loc[:, col])\n",
    "        painkiller_exp.loc[row,col] = row_sum * col_sum / all_sum\n",
    "\n",
    "# chi square calculation        \n",
    "painkiller_chi = pd.DataFrame(index=painkiller.index, columns=painkiller.columns)\n",
    "for row in list(painkiller_exp.index):\n",
    "    for col in list(painkiller_exp.columns):\n",
    "        painkiller_chi.loc[row,col] = (painkiller.loc[row,col]-painkiller_exp.loc[row,col])**2/painkiller_exp.loc[row,col]\n",
    "\n",
    "f_val = np.sum(painkiller_chi.sum()); \n",
    "\n",
    "alpha = 0.05\n",
    "print(f_val, stats.chi2.ppf(1-alpha, df=(len(painkiller.index)-1)*(len(painkiller.columns)-1)))"
   ]
  },
  {
   "cell_type": "code",
   "execution_count": 352,
   "id": "43eb486d",
   "metadata": {},
   "outputs": [
    {
     "name": "stdout",
     "output_type": "stream",
     "text": [
      "0.4423076923076923 0.1349913661443207\n",
      "0.625 0.13695664696509088\n",
      "0.38 0.13453978580000311\n",
      "0.6444444444444445 0.13985832113105579\n"
     ]
    }
   ],
   "source": [
    "# 2\n",
    "n1 = 52; p1 = 23/n1\n",
    "n2 = 48; p2 = 30/n2\n",
    "n3 = 50; p3 = 19/n3\n",
    "n4 = 45; p4 = 29/n4\n",
    "\n",
    "alpha = 0.05\n",
    "z_alpha = stats.norm.ppf(1-alpha/2)\n",
    "print(p1, z_alpha*np.sqrt(p1 * (1-p1)/n1))\n",
    "print(p2, z_alpha*np.sqrt(p2 * (1-p2)/n2))\n",
    "print(p3, z_alpha*np.sqrt(p3 * (1-p3)/n3))\n",
    "print(p4, z_alpha*np.sqrt(p4 * (1-p4)/n4))"
   ]
  },
  {
   "cell_type": "code",
   "execution_count": 353,
   "id": "aceda27d",
   "metadata": {},
   "outputs": [
    {
     "data": {
      "text/plain": [
       "0.010051405351573783"
      ]
     },
     "execution_count": 353,
     "metadata": {},
     "output_type": "execute_result"
    }
   ],
   "source": [
    "# prob 5.10\n",
    "# 1 p4 - p3 > 0?\n",
    "data = pd.DataFrame([\n",
    "    ['c', 'no pain', 19], ['c', 'pain', 50-19], \n",
    "    ['d', 'no pain', 29], ['d', 'pain', 45-29], \n",
    "])\n",
    "rad = pd.crosstab(columns=data[1], index=data[0], values=data[2], aggfunc='sum')\n",
    "\n",
    "rad_exp = pd.DataFrame(index=rad.index, columns=rad.columns)\n",
    "all_sum = np.sum(rad.sum())\n",
    "row_sum = col_sum = 0\n",
    "\n",
    "for row in list(rad_exp.index):\n",
    "    row_sum = np.sum(rad.loc[row, :])\n",
    "    for col in list(rad_exp.columns):\n",
    "        col_sum = np.sum(rad.loc[:, col])\n",
    "        rad_exp.loc[row,col] = row_sum * col_sum / all_sum\n",
    "\n",
    "# chi square calculation        \n",
    "rad_chi = pd.DataFrame(index=rad.index, columns=rad.columns)\n",
    "for row in list(rad_exp.index):\n",
    "    for col in list(rad_exp.columns):\n",
    "        rad_chi.loc[row,col] = (rad.loc[row,col]-rad_exp.loc[row,col])**2/rad_exp.loc[row,col]\n",
    "\n",
    "f_val = np.sum(rad_chi.sum()); \n",
    "\n",
    "alpha = 0.05\n",
    "1-stats.chi2.cdf(f_val,df=(len(rad.index)-1)*(len(rad.columns)-1))\n",
    "# print(f_val, stats.chi2.ppf(1-alpha, df=(len(rad.index)-1)*(len(rad.columns)-1)))"
   ]
  },
  {
   "cell_type": "code",
   "execution_count": 354,
   "id": "6520ff77",
   "metadata": {},
   "outputs": [
    {
     "name": "stdout",
     "output_type": "stream",
     "text": [
      "0.2644444444444445 0.1940652054148508\n"
     ]
    }
   ],
   "source": [
    "# 2 p4 - p3 95% ci?\n",
    "alpha = 0.05\n",
    "z_alpha = stats.norm.ppf(1-alpha/2)\n",
    "print(p4-p3, z_alpha * np.sqrt(p3*(1-p3)/n3 + p4*(1-p4)/n4))"
   ]
  },
  {
   "cell_type": "code",
   "execution_count": 355,
   "id": "f99eb4b9",
   "metadata": {},
   "outputs": [
    {
     "name": "stdout",
     "output_type": "stream",
     "text": [
      "20.430658917338693 5.991464547107979\n"
     ]
    }
   ],
   "source": [
    "# prob 5.11\n",
    "data = pd.DataFrame([\n",
    "    ['test', 'bad', 4], ['test', 'ok', 8], ['test', 'better', 37],\n",
    "    ['comp', 'bad', 8], ['comp', 'ok', 25], ['comp', 'better', 14],\n",
    "])\n",
    "\n",
    "heart = pd.crosstab(columns=data[1], index=data[0], values=data[2], aggfunc='sum')\n",
    "heart_exp = pd.DataFrame(index=heart.index, columns=heart.columns)\n",
    "all_sum = np.sum(heart.sum())\n",
    "row_sum = col_sum = 0\n",
    "\n",
    "for row in list(heart_exp.index):\n",
    "    row_sum = np.sum(heart.loc[row, :])\n",
    "    for col in list(heart_exp.columns):\n",
    "        col_sum = np.sum(heart.loc[:, col])\n",
    "        heart_exp.loc[row,col] = row_sum * col_sum / all_sum\n",
    "\n",
    "# chi square calculation        \n",
    "heart_chi = pd.DataFrame(index=heart.index, columns=heart.columns)\n",
    "for row in list(heart_exp.index):\n",
    "    for col in list(heart_exp.columns):\n",
    "        heart_chi.loc[row,col] = (heart.loc[row,col]-heart_exp.loc[row,col])**2/heart_exp.loc[row,col]\n",
    "\n",
    "f_val = np.sum(heart_chi.sum()); \n",
    "\n",
    "alpha = 0.05\n",
    "print(f_val, stats.chi2.ppf(1-alpha, df=(len(heart.index)-1)*(len(heart.columns)-1)))"
   ]
  },
  {
   "cell_type": "code",
   "execution_count": 356,
   "id": "c677ca34",
   "metadata": {},
   "outputs": [
    {
     "name": "stdout",
     "output_type": "stream",
     "text": [
      "0.7551020408163265 0.12040525894563049\n",
      "0.2978723404255319 0.13074415780890009\n"
     ]
    }
   ],
   "source": [
    "# prob 5.12\n",
    "# 1\n",
    "n_test = 49 ; n_comp = 47\n",
    "p_test = 37/49 ; p_comp = 14/47\n",
    "alpha = 0.05\n",
    "z_alpha = stats.norm.ppf(1-alpha/2)\n",
    "print(p_test, z_alpha * np.sqrt(p_test*(1-p_test)/n_test))\n",
    "print(p_comp, z_alpha * np.sqrt(p_comp*(1-p_comp)/n_comp))"
   ]
  },
  {
   "cell_type": "code",
   "execution_count": 357,
   "id": "dac4fc36",
   "metadata": {},
   "outputs": [
    {
     "name": "stdout",
     "output_type": "stream",
     "text": [
      "0.4572297003907946 0.14916400055424656\n"
     ]
    }
   ],
   "source": [
    "# 2\n",
    "alpha = 0.1\n",
    "z_alpha = stats.norm.ppf(1-alpha/2)\n",
    "\n",
    "print(p_test-p_comp, z_alpha * np.sqrt(p_test*(1-p_test)/n_test + p_comp*(1-p_comp)/n_comp))"
   ]
  },
  {
   "cell_type": "code",
   "execution_count": 358,
   "id": "078a998e",
   "metadata": {},
   "outputs": [
    {
     "name": "stdout",
     "output_type": "stream",
     "text": [
      "10.327442153990082 5.991464547107979\n"
     ]
    }
   ],
   "source": [
    "# prob 5.14\n",
    "data = pd.DataFrame([\n",
    "    ['man', 'pro', 93], ['man', 'ok', 72], ['man', 'con', 21],\n",
    "    ['woman', 'pro', 55], ['woman', 'ok', 79], ['woman', 'con', 30],\n",
    "])\n",
    "\n",
    "sex = pd.crosstab(columns=data[1], index=data[0], values=data[2], aggfunc='sum')\n",
    "sex_exp = pd.DataFrame(index=sex.index, columns=sex.columns)\n",
    "all_sum = np.sum(sex.sum())\n",
    "row_sum = col_sum = 0\n",
    "\n",
    "for row in list(sex_exp.index):\n",
    "    row_sum = np.sum(sex.loc[row, :])\n",
    "    for col in list(sex_exp.columns):\n",
    "        col_sum = np.sum(sex.loc[:, col])\n",
    "        sex_exp.loc[row,col] = row_sum * col_sum / all_sum\n",
    "\n",
    "# chi square calculation        \n",
    "sex_chi = pd.DataFrame(index=sex.index, columns=sex.columns)\n",
    "for row in list(sex_exp.index):\n",
    "    for col in list(sex_exp.columns):\n",
    "        sex_chi.loc[row,col] = (sex.loc[row,col]-sex_exp.loc[row,col])**2/sex_exp.loc[row,col]\n",
    "\n",
    "f_val = np.sum(sex_chi.sum()); \n",
    "\n",
    "alpha = 0.05\n",
    "print(f_val, stats.chi2.ppf(1-alpha, df=(len(sex.index)-1)*(len(sex.columns)-1)))"
   ]
  },
  {
   "cell_type": "code",
   "execution_count": 359,
   "id": "df44c2d2",
   "metadata": {},
   "outputs": [
    {
     "name": "stdout",
     "output_type": "stream",
     "text": [
      "4.106219731185721 3.841458820694124\n"
     ]
    }
   ],
   "source": [
    "# prob 5.16\n",
    "data = pd.DataFrame([\n",
    "    ['have', 'one', 28], ['have', 'no', 19],\n",
    "    ['no have', 'one', 35], ['no have', 'no', 50], \n",
    "])\n",
    "\n",
    "gene = pd.crosstab(columns=data[1], index=data[0], values=data[2], aggfunc='sum')\n",
    "gene_exp = pd.DataFrame(index=gene.index, columns=gene.columns)\n",
    "all_sum = np.sum(gene.sum())\n",
    "row_sum = col_sum = 0\n",
    "\n",
    "for row in list(gene_exp.index):\n",
    "    row_sum = np.sum(gene.loc[row, :])\n",
    "    for col in list(gene_exp.columns):\n",
    "        col_sum = np.sum(gene.loc[:, col])\n",
    "        gene_exp.loc[row,col] = row_sum * col_sum / all_sum\n",
    "\n",
    "# chi square calculation        \n",
    "gene_chi = pd.DataFrame(index=gene.index, columns=gene.columns)\n",
    "for row in list(gene_exp.index):\n",
    "    for col in list(gene_exp.columns):\n",
    "        gene_chi.loc[row,col] = (gene.loc[row,col]-gene_exp.loc[row,col])**2/gene_exp.loc[row,col]\n",
    "\n",
    "f_val = np.sum(gene_chi.sum()); \n",
    "\n",
    "alpha = 0.05\n",
    "print(f_val, stats.chi2.ppf(1-alpha, df=(len(gene.index)-1)*(len(gene.columns)-1)))"
   ]
  }
 ],
 "metadata": {
  "kernelspec": {
   "display_name": "adp",
   "language": "python",
   "name": "adp_class"
  },
  "language_info": {
   "codemirror_mode": {
    "name": "ipython",
    "version": 3
   },
   "file_extension": ".py",
   "mimetype": "text/x-python",
   "name": "python",
   "nbconvert_exporter": "python",
   "pygments_lexer": "ipython3",
   "version": "3.7.13"
  }
 },
 "nbformat": 4,
 "nbformat_minor": 5
}
