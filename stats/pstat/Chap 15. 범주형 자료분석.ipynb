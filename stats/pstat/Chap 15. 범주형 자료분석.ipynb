{
 "cells": [
  {
   "cell_type": "code",
   "execution_count": 1,
   "id": "63be01d8",
   "metadata": {},
   "outputs": [],
   "source": [
    "import pandas as pd\n",
    "import numpy as np\n",
    "\n",
    "from scipy import stats\n",
    "import statsmodels.formula.api as sm\n",
    "from statsmodels import regression\n",
    "import statsmodels\n",
    "\n",
    "import matplotlib.pyplot as plt\n",
    "import seaborn as sns\n",
    "from matplotlib import font_manager, rc, rcParams"
   ]
  },
  {
   "cell_type": "markdown",
   "id": "b106023a",
   "metadata": {},
   "source": [
    "# 15. 범주형 자료분석\n",
    "## 15.1 서론\n",
    "- 범주형 자료 : 관측치들이 몇 개의 범주로 분류되고 각 범주의 도수로 자료가 주어지는 것"
   ]
  },
  {
   "cell_type": "code",
   "execution_count": 2,
   "id": "6733be8b",
   "metadata": {},
   "outputs": [
    {
     "name": "stdout",
     "output_type": "stream",
     "text": [
      "0.18 0.55 0.27\n"
     ]
    }
   ],
   "source": [
    "# example 1\n",
    "a = 18 ; b = 55 ; c = 27\n",
    "all_sum = 100\n",
    "pa = a / all_sum\n",
    "pb = b / all_sum\n",
    "pc = c / all_sum\n",
    "print(pa, pb, pc)"
   ]
  },
  {
   "cell_type": "code",
   "execution_count": null,
   "id": "3a8c9a59",
   "metadata": {},
   "outputs": [],
   "source": [
    "# example 3\n"
   ]
  }
 ],
 "metadata": {
  "kernelspec": {
   "display_name": "adp",
   "language": "python",
   "name": "adp_class"
  },
  "language_info": {
   "codemirror_mode": {
    "name": "ipython",
    "version": 3
   },
   "file_extension": ".py",
   "mimetype": "text/x-python",
   "name": "python",
   "nbconvert_exporter": "python",
   "pygments_lexer": "ipython3",
   "version": "3.7.13"
  }
 },
 "nbformat": 4,
 "nbformat_minor": 5
}
