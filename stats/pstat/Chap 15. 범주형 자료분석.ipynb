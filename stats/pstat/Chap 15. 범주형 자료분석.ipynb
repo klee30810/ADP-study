{
 "cells": [
  {
   "cell_type": "code",
   "execution_count": 1,
   "id": "5c790392",
   "metadata": {},
   "outputs": [],
   "source": [
    "import pandas as pd\n",
    "import numpy as np\n",
    "\n",
    "from scipy import stats\n",
    "import statsmodels.formula.api as sm\n",
    "from statsmodels import regression\n",
    "import statsmodels\n",
    "\n",
    "import matplotlib.pyplot as plt\n",
    "import seaborn as sns\n",
    "from matplotlib import font_manager, rc, rcParams"
   ]
  },
  {
   "cell_type": "markdown",
   "id": "5c481b5a",
   "metadata": {},
   "source": [
    "# 15. 범주형 자료분석\n",
    "## 15.1 서론\n",
    "- 범주형 자료 : 관측치들이 몇 개의 범주로 분류되고 각 범주의 도수로 자료가 주어지는 것"
   ]
  },
  {
   "cell_type": "code",
   "execution_count": 24,
   "id": "d382e17d",
   "metadata": {},
   "outputs": [
    {
     "data": {
      "text/plain": [
       "Power_divergenceResult(statistic=2.62, pvalue=0.26982005638468687)"
      ]
     },
     "execution_count": 24,
     "metadata": {},
     "output_type": "execute_result"
    }
   ],
   "source": [
    "# example 9 \n",
    "obs = [18,55,27]\n",
    "pr = [0.25, 0.5, 0.25]\n",
    "n = np.sum(obs)\n",
    "exp = np.multiply(n, pr)\n",
    "df = len(obs) - 1\n",
    "\n",
    "stats.chisquare(obs, exp) # 적합도 검정"
   ]
  },
  {
   "cell_type": "code",
   "execution_count": 25,
   "id": "4bc190f8",
   "metadata": {},
   "outputs": [
    {
     "data": {
      "text/plain": [
       "(8.22398544438018,\n",
       " 0.01637511094543408,\n",
       " 2,\n",
       " array([[30.4, 20.8, 28.8],\n",
       "        [26.6, 18.2, 25.2]]))"
      ]
     },
     "execution_count": 25,
     "metadata": {},
     "output_type": "execute_result"
    }
   ],
   "source": [
    "# example 10\n",
    "data = pd.DataFrame([['a', 'ok', 37], ['a', 'mid', 24], ['a', 'ng', 19], ['b', 'ok', 17], ['b', 'mid', 33], ['b', 'ng', 20]])\n",
    "diet = pd.crosstab(columns=data[1], index=data[0], values=data[2], aggfunc='sum')#, margins=True)\n",
    "\n",
    "stats.chi2_contingency(diet) # 동질성 검정"
   ]
  },
  {
   "cell_type": "code",
   "execution_count": 2,
   "id": "edf254d9",
   "metadata": {},
   "outputs": [
    {
     "name": "stdout",
     "output_type": "stream",
     "text": [
      "0.18 0.55 0.27\n"
     ]
    }
   ],
   "source": [
    "# example 1\n",
    "a = 18 ; b = 55 ; c = 27\n",
    "all_sum = 100\n",
    "pa = a / all_sum\n",
    "pb = b / all_sum\n",
    "pc = c / all_sum\n",
    "print(pa, pb, pc)"
   ]
  },
  {
   "cell_type": "code",
   "execution_count": 4,
   "id": "2254b055",
   "metadata": {},
   "outputs": [
    {
     "data": {
      "text/html": [
       "<div>\n",
       "<style scoped>\n",
       "    .dataframe tbody tr th:only-of-type {\n",
       "        vertical-align: middle;\n",
       "    }\n",
       "\n",
       "    .dataframe tbody tr th {\n",
       "        vertical-align: top;\n",
       "    }\n",
       "\n",
       "    .dataframe thead th {\n",
       "        text-align: right;\n",
       "    }\n",
       "</style>\n",
       "<table border=\"1\" class=\"dataframe\">\n",
       "  <thead>\n",
       "    <tr style=\"text-align: right;\">\n",
       "      <th>1</th>\n",
       "      <th>mid</th>\n",
       "      <th>ng</th>\n",
       "      <th>ok</th>\n",
       "      <th>All</th>\n",
       "    </tr>\n",
       "    <tr>\n",
       "      <th>0</th>\n",
       "      <th></th>\n",
       "      <th></th>\n",
       "      <th></th>\n",
       "      <th></th>\n",
       "    </tr>\n",
       "  </thead>\n",
       "  <tbody>\n",
       "    <tr>\n",
       "      <th>a</th>\n",
       "      <td>24</td>\n",
       "      <td>19</td>\n",
       "      <td>37</td>\n",
       "      <td>80</td>\n",
       "    </tr>\n",
       "    <tr>\n",
       "      <th>b</th>\n",
       "      <td>33</td>\n",
       "      <td>20</td>\n",
       "      <td>17</td>\n",
       "      <td>70</td>\n",
       "    </tr>\n",
       "    <tr>\n",
       "      <th>All</th>\n",
       "      <td>57</td>\n",
       "      <td>39</td>\n",
       "      <td>54</td>\n",
       "      <td>150</td>\n",
       "    </tr>\n",
       "  </tbody>\n",
       "</table>\n",
       "</div>"
      ],
      "text/plain": [
       "1    mid  ng  ok  All\n",
       "0                    \n",
       "a     24  19  37   80\n",
       "b     33  20  17   70\n",
       "All   57  39  54  150"
      ]
     },
     "execution_count": 4,
     "metadata": {},
     "output_type": "execute_result"
    }
   ],
   "source": [
    "# example 2\n",
    "data = pd.DataFrame([['a', 'ok', 37], ['a', 'mid', 24], ['a', 'ng', 19], ['b', 'ok', 17], ['b', 'mid', 33], ['b', 'ng', 20]])\n",
    "diet = pd.crosstab(columns=data[1], index=data[0], values=data[2], aggfunc='sum', margins=True)\n",
    "\n",
    "diet"
   ]
  },
  {
   "cell_type": "code",
   "execution_count": 13,
   "id": "9baaf365",
   "metadata": {},
   "outputs": [
    {
     "data": {
      "text/plain": [
       "'동질성 검정의 귀무가설은 p_{Ai} = p_{Bi}'"
      ]
     },
     "execution_count": 13,
     "metadata": {},
     "output_type": "execute_result"
    }
   ],
   "source": [
    "diet_ratio = pd.crosstab(columns=data[1], index=data[0], values=data[2], aggfunc='sum', margins=True, normalize='columns')\n",
    "diet_ratio\n",
    "\"동질성 검정의 귀무가설은 p_{Ai} = p_{Bi}\""
   ]
  },
  {
   "cell_type": "code",
   "execution_count": 15,
   "id": "8df8054f",
   "metadata": {},
   "outputs": [
    {
     "name": "stdout",
     "output_type": "stream",
     "text": [
      "1       less  much   ok   All\n",
      "0                            \n",
      "female    25   388  196   609\n",
      "male      26   378  237   641\n",
      "All       51   766  433  1250\n"
     ]
    },
    {
     "data": {
      "text/plain": [
       "'독립성 검정 : 방영에 대한 의견은 개인의 성별과 무관하다는 귀무가설 검정'"
      ]
     },
     "execution_count": 15,
     "metadata": {},
     "output_type": "execute_result"
    }
   ],
   "source": [
    "# example 3\n",
    "data = pd.DataFrame([['male', 'much', 378], ['male', 'ok', 237], ['male', 'less', 26], ['female', 'much', 388], ['female', 'ok', 196], ['female', 'less', 25]])\n",
    "watch = pd.crosstab(columns=data[1], index=data[0], values=data[2], aggfunc='sum', margins=True)\n",
    "\n",
    "print(watch)\n",
    "\"독립성 검정 : 방영에 대한 의견은 개인의 성별과 무관하다는 귀무가설 검정\""
   ]
  },
  {
   "cell_type": "markdown",
   "id": "d456dae5",
   "metadata": {},
   "source": [
    "## 15.2 피어슨의 $\\chi^2$(카이제곱) 적합도 검정\n",
    "- 귀무가설에서 제시한 각 범주의 비율이 실제 자료에 적합한가?\n",
    "$$H_0:p_1=p_{10},\\dots,p_k=p_{k0}$$\n",
    "$$Observed=n_i\\quad Expected=n\\times p_{i0] \\\\ \\chi^2=\\sum\\frac{(O-E)^2}{E}=\\sum^k_{i=1}\\frac{(n_i-np_{i0})^2}{np_{i0}} \\ quad df=(범주의\\ 갯수)-1$$\n",
    "\n",
    "> **피어슨의 $\\chi^2$ 적합도 검정**\n",
    ">\n",
    "> $$H0:p_1=p_{10}, \\dots, p_k=p_{k0}$$\n",
    "> $$\\chi^2=\\sum\\frac{(O-E)^2}{E}=\\sum^k_{i=1}\\frac{(n_i-np_{i0})^2}{np_{i0}} \\quad df=(범주의\\ 갯수)-1$$\n",
    "> 유의수준 $\\alpha$에 대한 기각역은 $R:\\chi^2\\geq\\chi^2_\\alpha(k-1)$\n",
    "\n",
    "> **$\\chi^2$ 분포의 특성**\n",
    ">\n",
    "> 1) 독립인 표본으로부터 계산된 $\\chi^2$통계량들을 더하면, 그 합도 $\\chi^2$ 분포를 따르며, 자유도는 각 자유도의 합과 같다 $$\\chi^2(k_1)+\\dots+\\chi^2(k_r)\\sim \\chi^2(k_1+\\dots+k_r)$$\n",
    "> 2) $\\chi^2$통계량을 계산하는데 만약 모수의 추정치를 사용하였다면, 통계량 분포의 자유도는 추정한 모수의 개수만큼 감소하게 된다 $$\\chi^2의 자유도=(모수를\\ 알고\\ 있을\\ 경우의\\ 자유도)-(추정된\\ 모수의\\ 수)$$\n",
    "\n",
    "- 피어슨 $\\chi^2$검정은 표본의 크기가 큰 경우에만 적합 : 각 칸의 기대도수가 5 이상이면 가능\n",
    "    - 기대도수가 5보다 작은 칸이 많은 경우에는, 여러 칸을 합하여 기대도수를 크게 하거나, $2\\times 2$ 분할표에서는 피셔의 정확검정법 사용"
   ]
  },
  {
   "cell_type": "code",
   "execution_count": 33,
   "id": "e7d77407",
   "metadata": {},
   "outputs": [
    {
     "name": "stdout",
     "output_type": "stream",
     "text": [
      "2.62\n"
     ]
    },
    {
     "data": {
      "text/plain": [
       "7.377758908227871"
      ]
     },
     "execution_count": 33,
     "metadata": {},
     "output_type": "execute_result"
    }
   ],
   "source": [
    "# example 4\n",
    "obs = [18, 55, 27]\n",
    "exp = [25, 50 ,25]\n",
    "chi2 = np.sum(np.divide(np.subtract(obs, exp)**2, exp)); print(chi2)\n",
    "stats.chi2.ppf(1-0.05/2, df=len(obs)-1)"
   ]
  },
  {
   "cell_type": "code",
   "execution_count": 34,
   "id": "badc2f33",
   "metadata": {},
   "outputs": [
    {
     "name": "stdout",
     "output_type": "stream",
     "text": [
      "46.416666666666664\n"
     ]
    },
    {
     "data": {
      "text/plain": [
       "9.348403604496148"
      ]
     },
     "execution_count": 34,
     "metadata": {},
     "output_type": "execute_result"
    }
   ],
   "source": [
    "# prob 2.2\n",
    "obs = [38, 43, 10, 5]\n",
    "exp = [96/4, 96/4, 96/4, 96/4]\n",
    "\n",
    "alpha = 0.05\n",
    "chi2 = np.sum(np.divide(np.subtract(obs, exp)**2, exp)); print(chi2)\n",
    "stats.chi2.ppf(1-alpha/2, df=len(obs)-1)"
   ]
  },
  {
   "cell_type": "code",
   "execution_count": 36,
   "id": "2bdcf8f2",
   "metadata": {},
   "outputs": [
    {
     "name": "stdout",
     "output_type": "stream",
     "text": [
      "6.2020202020202015\n"
     ]
    },
    {
     "data": {
      "text/plain": [
       "9.348403604496148"
      ]
     },
     "execution_count": 36,
     "metadata": {},
     "output_type": "execute_result"
    }
   ],
   "source": [
    "# prob 2.4\n",
    "obs = [61, 55, 41, 41]\n",
    "exp = [198/4, 198/4, 198/4, 198/4]\n",
    "\n",
    "alpha = 0.05\n",
    "chi2 = np.sum(np.divide(np.subtract(obs, exp)**2, exp)); print(chi2)\n",
    "stats.chi2.ppf(1-alpha/2, df=len(obs)-1)"
   ]
  },
  {
   "cell_type": "code",
   "execution_count": 41,
   "id": "9dd0d192",
   "metadata": {},
   "outputs": [
    {
     "name": "stdout",
     "output_type": "stream",
     "text": [
      "0.8617021276595745\n"
     ]
    },
    {
     "data": {
      "text/plain": [
       "7.377758908227871"
      ]
     },
     "execution_count": 41,
     "metadata": {},
     "output_type": "execute_result"
    }
   ],
   "source": [
    "# prob 2.6\n",
    "obs = [141, 291, 132]\n",
    "exp = np.multiply(np.sum(obs), [1/4, 1/2, 1/4])\n",
    "\n",
    "alpha = 0.05\n",
    "chi2 = np.sum(np.divide(np.subtract(obs, exp)**2, exp)); print(chi2)\n",
    "stats.chi2.ppf(1-alpha/2, df=len(obs)-1)"
   ]
  },
  {
   "cell_type": "code",
   "execution_count": 42,
   "id": "0a5c113f",
   "metadata": {},
   "outputs": [
    {
     "name": "stdout",
     "output_type": "stream",
     "text": [
      "40.39164735509392\n"
     ]
    },
    {
     "data": {
      "text/plain": [
       "16.74960234363904"
      ]
     },
     "execution_count": 42,
     "metadata": {},
     "output_type": "execute_result"
    }
   ],
   "source": [
    "# prob 2.8\n",
    "obs = [462, 171, 76, 57, 92, 74]\n",
    "exp = np.multiply(np.sum(obs), [0.59, 0.15, 0.06, 0.06, 0.07, 0.07])\n",
    "\n",
    "alpha = 0.01\n",
    "chi2 = np.sum(np.divide(np.subtract(obs, exp)**2, exp)); print(chi2)\n",
    "stats.chi2.ppf(1-alpha/2, df=len(obs)-1)"
   ]
  },
  {
   "cell_type": "code",
   "execution_count": 52,
   "id": "a12a9a4c",
   "metadata": {},
   "outputs": [
    {
     "name": "stdout",
     "output_type": "stream",
     "text": [
      "0.125 0.3750000000000001 0.3750000000000001 0.125\n"
     ]
    }
   ],
   "source": [
    "# prob 2.10\n",
    "# 1\n",
    "print(\n",
    "    stats.binom.pmf(k=0,n=3,p=0.5),\n",
    "    stats.binom.pmf(k=1,n=3,p=0.5),\n",
    "    stats.binom.pmf(k=2,n=3,p=0.5),\n",
    "    stats.binom.pmf(k=3,n=3,p=0.5),\n",
    ")"
   ]
  },
  {
   "cell_type": "code",
   "execution_count": 53,
   "id": "39167a99",
   "metadata": {},
   "outputs": [
    {
     "name": "stdout",
     "output_type": "stream",
     "text": [
      "39.893333333333345\n"
     ]
    },
    {
     "data": {
      "text/plain": [
       "9.348403604496148"
      ]
     },
     "execution_count": 53,
     "metadata": {},
     "output_type": "execute_result"
    }
   ],
   "source": [
    "# 2\n",
    "obs = [31, 40, 16, 13]\n",
    "p = [stats.binom.pmf(k=0,n=3,p=0.5),\n",
    "    stats.binom.pmf(k=1,n=3,p=0.5),\n",
    "    stats.binom.pmf(k=2,n=3,p=0.5),\n",
    "    stats.binom.pmf(k=3,n=3,p=0.5)]\n",
    "exp = np.multiply(np.sum(obs), p)\n",
    "\n",
    "alpha = 0.05\n",
    "chi2 = np.sum(np.divide(np.subtract(obs, exp)**2, exp)); print(chi2)\n",
    "stats.chi2.ppf(1-alpha/2, df=len(obs)-1)"
   ]
  },
  {
   "cell_type": "markdown",
   "id": "c9730c00",
   "metadata": {},
   "source": [
    "## 15.3 동질성 검정\n",
    "- 모집단을 분류된 범주에 따라 2원 분할표로 표현 후, 모집단들이 각 범주에 대하여 같은 반응을 보이는지 검정\n",
    "- 각 반응범주에서 관측된 비율을 가지고 모집단 별로 같은지 조사\n",
    "$$H_0: p_{A1}=p_{B1},\\  p_{A2}=p_{B2},\\ p_{A3}=p_{B3},$$\n",
    "$$칸의\\ 추정기대도수=\\frac{칸이\\ 속한\\ 행의\\ 합계\\times 칸이\\ 속한\\ 열의\\ 합계}{전체\\ 합계}$$"
   ]
  },
  {
   "cell_type": "code",
   "execution_count": 159,
   "id": "54a999a1",
   "metadata": {},
   "outputs": [
    {
     "data": {
      "text/html": [
       "<div>\n",
       "<style scoped>\n",
       "    .dataframe tbody tr th:only-of-type {\n",
       "        vertical-align: middle;\n",
       "    }\n",
       "\n",
       "    .dataframe tbody tr th {\n",
       "        vertical-align: top;\n",
       "    }\n",
       "\n",
       "    .dataframe thead th {\n",
       "        text-align: right;\n",
       "    }\n",
       "</style>\n",
       "<table border=\"1\" class=\"dataframe\">\n",
       "  <thead>\n",
       "    <tr style=\"text-align: right;\">\n",
       "      <th>1</th>\n",
       "      <th>mid</th>\n",
       "      <th>ng</th>\n",
       "      <th>ok</th>\n",
       "    </tr>\n",
       "    <tr>\n",
       "      <th>0</th>\n",
       "      <th></th>\n",
       "      <th></th>\n",
       "      <th></th>\n",
       "    </tr>\n",
       "  </thead>\n",
       "  <tbody>\n",
       "    <tr>\n",
       "      <th>a</th>\n",
       "      <td>24</td>\n",
       "      <td>19</td>\n",
       "      <td>37</td>\n",
       "    </tr>\n",
       "    <tr>\n",
       "      <th>b</th>\n",
       "      <td>33</td>\n",
       "      <td>20</td>\n",
       "      <td>17</td>\n",
       "    </tr>\n",
       "  </tbody>\n",
       "</table>\n",
       "</div>"
      ],
      "text/plain": [
       "1  mid  ng  ok\n",
       "0             \n",
       "a   24  19  37\n",
       "b   33  20  17"
      ]
     },
     "execution_count": 159,
     "metadata": {},
     "output_type": "execute_result"
    }
   ],
   "source": [
    "# example 5\n",
    "data = pd.DataFrame([['a', 'ok', 37], ['a', 'mid', 24], ['a', 'ng', 19], ['b', 'ok', 17], ['b', 'mid', 33], ['b', 'ng', 20]])\n",
    "diet = pd.crosstab(columns=data[1], index=data[0], values=data[2], aggfunc='sum')#, margins=True)\n",
    "\n",
    "diet"
   ]
  },
  {
   "cell_type": "code",
   "execution_count": 160,
   "id": "22a15005",
   "metadata": {},
   "outputs": [
    {
     "name": "stdout",
     "output_type": "stream",
     "text": [
      "a ok\n",
      "80 54\n",
      "a mid\n",
      "80 57\n",
      "a ng\n",
      "80 39\n",
      "b ok\n",
      "70.0 45.8\n",
      "b mid\n",
      "70.0 63.4\n",
      "b ng\n",
      "70.0 40.8\n"
     ]
    },
    {
     "data": {
      "text/html": [
       "<div>\n",
       "<style scoped>\n",
       "    .dataframe tbody tr th:only-of-type {\n",
       "        vertical-align: middle;\n",
       "    }\n",
       "\n",
       "    .dataframe tbody tr th {\n",
       "        vertical-align: top;\n",
       "    }\n",
       "\n",
       "    .dataframe thead th {\n",
       "        text-align: right;\n",
       "    }\n",
       "</style>\n",
       "<table border=\"1\" class=\"dataframe\">\n",
       "  <thead>\n",
       "    <tr style=\"text-align: right;\">\n",
       "      <th>1</th>\n",
       "      <th>mid</th>\n",
       "      <th>ng</th>\n",
       "      <th>ok</th>\n",
       "    </tr>\n",
       "    <tr>\n",
       "      <th>0</th>\n",
       "      <th></th>\n",
       "      <th></th>\n",
       "      <th></th>\n",
       "    </tr>\n",
       "  </thead>\n",
       "  <tbody>\n",
       "    <tr>\n",
       "      <th>a</th>\n",
       "      <td>30.400000</td>\n",
       "      <td>20.80</td>\n",
       "      <td>28.800000</td>\n",
       "    </tr>\n",
       "    <tr>\n",
       "      <th>b</th>\n",
       "      <td>29.586667</td>\n",
       "      <td>19.04</td>\n",
       "      <td>21.373333</td>\n",
       "    </tr>\n",
       "  </tbody>\n",
       "</table>\n",
       "</div>"
      ],
      "text/plain": [
       "1        mid     ng         ok\n",
       "0                             \n",
       "a  30.400000  20.80  28.800000\n",
       "b  29.586667  19.04  21.373333"
      ]
     },
     "execution_count": 160,
     "metadata": {},
     "output_type": "execute_result"
    }
   ],
   "source": [
    "diet_exp = pd.DataFrame(diet)\n",
    "all_sum = np.sum(diet.sum())\n",
    "row_sum = col_sum = 0\n",
    "\n",
    "\n",
    "for row in ['a', 'b']:\n",
    "    row_sum = 0\n",
    "    row_sum = np.sum(diet.loc[row, :])\n",
    "    for col in ['ok', 'mid', 'ng']:\n",
    "        print(row, col)\n",
    "        col_sum = 0\n",
    "        col_sum = np.sum(diet.loc[:, col])\n",
    "        print(row_sum, col_sum)\n",
    "        diet_exp.loc[row,col] = row_sum * col_sum / all_sum\n",
    "        \n",
    "diet_exp        "
   ]
  },
  {
   "cell_type": "code",
   "execution_count": 134,
   "id": "5b76642f",
   "metadata": {},
   "outputs": [
    {
     "name": "stdout",
     "output_type": "stream",
     "text": [
      "63.4 70.0\n"
     ]
    }
   ],
   "source": [
    "print(\n",
    "    np.sum(diet.loc[:, 'mid']),\n",
    "    np.sum(diet.loc['b',:])\n",
    ")"
   ]
  },
  {
   "cell_type": "code",
   "execution_count": 151,
   "id": "8b7ea7e8",
   "metadata": {},
   "outputs": [
    {
     "data": {
      "text/plain": [
       "28.8"
      ]
     },
     "execution_count": 151,
     "metadata": {},
     "output_type": "execute_result"
    }
   ],
   "source": [
    "np.sum(diet.loc[:, 'ok']) * np.sum(diet.loc['a',:]) / all_sum"
   ]
  },
  {
   "cell_type": "code",
   "execution_count": 152,
   "id": "ef80ccdc",
   "metadata": {},
   "outputs": [
    {
     "data": {
      "text/plain": [
       "54"
      ]
     },
     "execution_count": 152,
     "metadata": {},
     "output_type": "execute_result"
    }
   ],
   "source": [
    "np.sum(diet.loc[:, 'ok'])"
   ]
  },
  {
   "cell_type": "code",
   "execution_count": null,
   "id": "635e3bf3",
   "metadata": {},
   "outputs": [],
   "source": []
  },
  {
   "cell_type": "code",
   "execution_count": null,
   "id": "fc7650a0",
   "metadata": {},
   "outputs": [],
   "source": []
  },
  {
   "cell_type": "code",
   "execution_count": null,
   "id": "d8d22766",
   "metadata": {},
   "outputs": [],
   "source": []
  },
  {
   "cell_type": "code",
   "execution_count": null,
   "id": "c9f56d94",
   "metadata": {},
   "outputs": [],
   "source": []
  },
  {
   "cell_type": "code",
   "execution_count": null,
   "id": "21329527",
   "metadata": {},
   "outputs": [],
   "source": []
  },
  {
   "cell_type": "code",
   "execution_count": null,
   "id": "e910962d",
   "metadata": {},
   "outputs": [],
   "source": []
  },
  {
   "cell_type": "code",
   "execution_count": null,
   "id": "eb271143",
   "metadata": {},
   "outputs": [],
   "source": []
  },
  {
   "cell_type": "code",
   "execution_count": null,
   "id": "e2604f7a",
   "metadata": {},
   "outputs": [],
   "source": []
  },
  {
   "cell_type": "code",
   "execution_count": null,
   "id": "edf2ff97",
   "metadata": {},
   "outputs": [],
   "source": []
  },
  {
   "cell_type": "code",
   "execution_count": null,
   "id": "a6e08a86",
   "metadata": {},
   "outputs": [],
   "source": []
  },
  {
   "cell_type": "code",
   "execution_count": null,
   "id": "6fbc33fb",
   "metadata": {},
   "outputs": [],
   "source": []
  },
  {
   "cell_type": "code",
   "execution_count": null,
   "id": "832ddf40",
   "metadata": {},
   "outputs": [],
   "source": []
  },
  {
   "cell_type": "code",
   "execution_count": null,
   "id": "76fac1ee",
   "metadata": {},
   "outputs": [],
   "source": []
  }
 ],
 "metadata": {
  "kernelspec": {
   "display_name": "adp",
   "language": "python",
   "name": "adp_class"
  },
  "language_info": {
   "codemirror_mode": {
    "name": "ipython",
    "version": 3
   },
   "file_extension": ".py",
   "mimetype": "text/x-python",
   "name": "python",
   "nbconvert_exporter": "python",
   "pygments_lexer": "ipython3",
   "version": "3.7.13"
  }
 },
 "nbformat": 4,
 "nbformat_minor": 5
}
