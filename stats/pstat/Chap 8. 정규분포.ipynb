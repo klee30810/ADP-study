{
 "cells": [
  {
   "cell_type": "markdown",
   "id": "0ea75cc1",
   "metadata": {},
   "source": [
    "# Chap 8. 정규분포"
   ]
  },
  {
   "cell_type": "code",
   "execution_count": 2,
   "id": "03ef5a63",
   "metadata": {},
   "outputs": [],
   "source": [
    "import numpy as np\n",
    "import pandas as pd\n",
    "import seaborn as sns\n",
    "import matplotlib.pyplot as plt"
   ]
  },
  {
   "cell_type": "code",
   "execution_count": 8,
   "id": "20010997",
   "metadata": {},
   "outputs": [
    {
     "name": "stdout",
     "output_type": "stream",
     "text": [
      "0.08534345082196698 0.914656549178033\n"
     ]
    }
   ],
   "source": [
    "# norm 사용 전 표준화 필요\n",
    "from scipy.stats import norm\n",
    "\n",
    "print(norm.cdf(x=-1.37), norm.cdf(x=1.37))"
   ]
  },
  {
   "cell_type": "code",
   "execution_count": 11,
   "id": "5b533f99",
   "metadata": {},
   "outputs": [
    {
     "data": {
      "text/plain": [
       "0.6677228739562764"
      ]
     },
     "execution_count": 11,
     "metadata": {},
     "output_type": "execute_result"
    }
   ],
   "source": [
    "# example 6\n",
    "\n",
    "norm.cdf(x=63, loc=60, scale=4) - norm.cdf(x=55, loc=60, scale=4)"
   ]
  },
  {
   "cell_type": "code",
   "execution_count": 12,
   "id": "6d377046",
   "metadata": {},
   "outputs": [
    {
     "data": {
      "text/plain": [
       "0.09680048458561036"
      ]
     },
     "execution_count": 12,
     "metadata": {},
     "output_type": "execute_result"
    }
   ],
   "source": [
    "# example 7\n",
    "norm.cdf(x=50, loc=63, scale=100**0.5)"
   ]
  },
  {
   "cell_type": "code",
   "execution_count": 17,
   "id": "81212336",
   "metadata": {},
   "outputs": [
    {
     "name": "stdout",
     "output_type": "stream",
     "text": [
      "90.0 6.0\n"
     ]
    }
   ],
   "source": [
    "n = 150\n",
    "p = 0.6\n",
    "print(n*p,np.sqrt(n*p*(1-p)))"
   ]
  },
  {
   "cell_type": "code",
   "execution_count": 36,
   "id": "52fdc145",
   "metadata": {},
   "outputs": [
    {
     "name": "stdout",
     "output_type": "stream",
     "text": [
      "<class 'pandas.core.frame.DataFrame'>\n",
      "RangeIndex: 11 entries, 0 to 10\n",
      "Data columns (total 6 columns):\n",
      " #   Column  Non-Null Count  Dtype  \n",
      "---  ------  --------------  -----  \n",
      " 0   0       11 non-null     int64  \n",
      " 1   1       11 non-null     int64  \n",
      " 2   2       11 non-null     int64  \n",
      " 3   3       11 non-null     int64  \n",
      " 4   4       11 non-null     int64  \n",
      " 5   5       6 non-null      float64\n",
      "dtypes: float64(1), int64(5)\n",
      "memory usage: 656.0 bytes\n"
     ]
    }
   ],
   "source": [
    "# example 12\n",
    "path = '../data/pstat/예제, 연습문제/'\n",
    "data = pd.read_excel(path + 'ch8.xlsx',sheet_name='예제12',header=None)\n",
    "data.info()"
   ]
  },
  {
   "cell_type": "code",
   "execution_count": 37,
   "id": "d977fe1d",
   "metadata": {},
   "outputs": [
    {
     "data": {
      "text/plain": [
       "count      61.000000\n",
       "mean     3800.901639\n",
       "std       513.552422\n",
       "min      2866.000000\n",
       "25%      3470.000000\n",
       "50%      3738.000000\n",
       "75%      4071.000000\n",
       "max      5157.000000\n",
       "dtype: float64"
      ]
     },
     "execution_count": 37,
     "metadata": {},
     "output_type": "execute_result"
    }
   ],
   "source": [
    "data.stack().describe()"
   ]
  },
  {
   "cell_type": "code",
   "execution_count": 38,
   "id": "40e8e6d0",
   "metadata": {},
   "outputs": [
    {
     "data": {
      "image/png": "[encoded data removed]",
      "text/plain": [
       "<Figure size 360x360 with 1 Axes>"
      ]
     },
     "metadata": {
      "needs_background": "light"
     },
     "output_type": "display_data"
    }
   ],
   "source": [
    "import seaborn as sns\n",
    "\n",
    "data = data.stack().values\n",
    "sns.displot(data, kind='hist');"
   ]
  },
  {
   "cell_type": "code",
   "execution_count": 44,
   "id": "8c051699",
   "metadata": {},
   "outputs": [
    {
     "data": {
      "image/png": "[encoded data removed]",
      "text/plain": [
       "<Figure size 432x288 with 1 Axes>"
      ]
     },
     "metadata": {
      "needs_background": "light"
     },
     "output_type": "display_data"
    }
   ],
   "source": [
    "import statsmodels.api as sm\n",
    "\n",
    "sm.qqplot(data, line='s');"
   ]
  },
  {
   "cell_type": "code",
   "execution_count": 45,
   "id": "f2757391",
   "metadata": {},
   "outputs": [
    {
     "name": "stdout",
     "output_type": "stream",
     "text": [
      "<class 'pandas.core.frame.DataFrame'>\n",
      "RangeIndex: 10 entries, 0 to 9\n",
      "Data columns (total 5 columns):\n",
      " #   Column  Non-Null Count  Dtype  \n",
      "---  ------  --------------  -----  \n",
      " 0   0       10 non-null     float64\n",
      " 1   1       10 non-null     float64\n",
      " 2   2       10 non-null     float64\n",
      " 3   3       10 non-null     float64\n",
      " 4   4       9 non-null      float64\n",
      "dtypes: float64(5)\n",
      "memory usage: 528.0 bytes\n"
     ]
    }
   ],
   "source": [
    "# example 13 \n",
    "path = '../data/pstat/예제, 연습문제/'\n",
    "data = pd.read_excel(path + 'ch8.xlsx',sheet_name='예제13',header=None)\n",
    "data.info()"
   ]
  },
  {
   "cell_type": "code",
   "execution_count": 48,
   "id": "0fa04eb7",
   "metadata": {},
   "outputs": [
    {
     "data": {
      "text/plain": [
       "count    49.000000\n",
       "mean     12.018367\n",
       "std      10.032482\n",
       "min       0.700000\n",
       "25%       5.200000\n",
       "50%       8.300000\n",
       "75%      17.100000\n",
       "max      44.800000\n",
       "dtype: float64"
      ]
     },
     "execution_count": 48,
     "metadata": {},
     "output_type": "execute_result"
    }
   ],
   "source": [
    "data.stack().describe()"
   ]
  },
  {
   "cell_type": "code",
   "execution_count": 50,
   "id": "78eaf95d",
   "metadata": {},
   "outputs": [
    {
     "data": {
      "image/png": "[encoded data removed]",
      "text/plain": [
       "<Figure size 432x288 with 1 Axes>"
      ]
     },
     "metadata": {
      "needs_background": "light"
     },
     "output_type": "display_data"
    }
   ],
   "source": [
    "data = data.stack().values\n",
    "sm.qqplot(data,line='s');"
   ]
  },
  {
   "cell_type": "code",
   "execution_count": 53,
   "id": "b5ac2cec",
   "metadata": {},
   "outputs": [
    {
     "data": {
      "image/png": "[encoded data removed]",
      "text/plain": [
       "<Figure size 360x360 with 1 Axes>"
      ]
     },
     "metadata": {
      "needs_background": "light"
     },
     "output_type": "display_data"
    }
   ],
   "source": [
    "sns.displot(data, kind='hist');"
   ]
  },
  {
   "cell_type": "code",
   "execution_count": 54,
   "id": "5fdd723b",
   "metadata": {},
   "outputs": [
    {
     "data": {
      "image/png": "[encoded data removed]",
      "text/plain": [
       "<Figure size 432x288 with 1 Axes>"
      ]
     },
     "metadata": {
      "needs_background": "light"
     },
     "output_type": "display_data"
    }
   ],
   "source": [
    "data2 = np.sqrt(data)\n",
    "sm.qqplot(data2,line='s');"
   ]
  },
  {
   "cell_type": "code",
   "execution_count": 55,
   "id": "55b6c572",
   "metadata": {},
   "outputs": [
    {
     "data": {
      "image/png": "[encoded data removed]",
      "text/plain": [
       "<Figure size 432x288 with 1 Axes>"
      ]
     },
     "metadata": {
      "needs_background": "light"
     },
     "output_type": "display_data"
    }
   ],
   "source": [
    "data4 = np.power(data, 0.25)\n",
    "sm.qqplot(data4,line='s');"
   ]
  },
  {
   "cell_type": "code",
   "execution_count": 67,
   "id": "2050b3b2",
   "metadata": {},
   "outputs": [
    {
     "data": {
      "text/html": [
       "<div>\n",
       "<style scoped>\n",
       "    .dataframe tbody tr th:only-of-type {\n",
       "        vertical-align: middle;\n",
       "    }\n",
       "\n",
       "    .dataframe tbody tr th {\n",
       "        vertical-align: top;\n",
       "    }\n",
       "\n",
       "    .dataframe thead th {\n",
       "        text-align: right;\n",
       "    }\n",
       "</style>\n",
       "<table border=\"1\" class=\"dataframe\">\n",
       "  <thead>\n",
       "    <tr style=\"text-align: right;\">\n",
       "      <th></th>\n",
       "      <th>0</th>\n",
       "    </tr>\n",
       "  </thead>\n",
       "  <tbody>\n",
       "    <tr>\n",
       "      <th>0</th>\n",
       "      <td>9.51</td>\n",
       "    </tr>\n",
       "    <tr>\n",
       "      <th>1</th>\n",
       "      <td>0.28</td>\n",
       "    </tr>\n",
       "    <tr>\n",
       "      <th>2</th>\n",
       "      <td>1.63</td>\n",
       "    </tr>\n",
       "    <tr>\n",
       "      <th>3</th>\n",
       "      <td>1.39</td>\n",
       "    </tr>\n",
       "    <tr>\n",
       "      <th>4</th>\n",
       "      <td>1.58</td>\n",
       "    </tr>\n",
       "    <tr>\n",
       "      <th>5</th>\n",
       "      <td>3.04</td>\n",
       "    </tr>\n",
       "    <tr>\n",
       "      <th>6</th>\n",
       "      <td>1.49</td>\n",
       "    </tr>\n",
       "    <tr>\n",
       "      <th>7</th>\n",
       "      <td>1.79</td>\n",
       "    </tr>\n",
       "    <tr>\n",
       "      <th>8</th>\n",
       "      <td>3.89</td>\n",
       "    </tr>\n",
       "    <tr>\n",
       "      <th>9</th>\n",
       "      <td>0.98</td>\n",
       "    </tr>\n",
       "    <tr>\n",
       "      <th>10</th>\n",
       "      <td>314.46</td>\n",
       "    </tr>\n",
       "    <tr>\n",
       "      <th>11</th>\n",
       "      <td>361.81</td>\n",
       "    </tr>\n",
       "    <tr>\n",
       "      <th>12</th>\n",
       "      <td>36.23</td>\n",
       "    </tr>\n",
       "    <tr>\n",
       "      <th>13</th>\n",
       "      <td>2253.48</td>\n",
       "    </tr>\n",
       "    <tr>\n",
       "      <th>14</th>\n",
       "      <td>21.57</td>\n",
       "    </tr>\n",
       "    <tr>\n",
       "      <th>15</th>\n",
       "      <td>7.94</td>\n",
       "    </tr>\n",
       "    <tr>\n",
       "      <th>16</th>\n",
       "      <td>46.38</td>\n",
       "    </tr>\n",
       "    <tr>\n",
       "      <th>17</th>\n",
       "      <td>2.60</td>\n",
       "    </tr>\n",
       "    <tr>\n",
       "      <th>18</th>\n",
       "      <td>3.71</td>\n",
       "    </tr>\n",
       "    <tr>\n",
       "      <th>19</th>\n",
       "      <td>37.26</td>\n",
       "    </tr>\n",
       "  </tbody>\n",
       "</table>\n",
       "</div>"
      ],
      "text/plain": [
       "          0\n",
       "0      9.51\n",
       "1      0.28\n",
       "2      1.63\n",
       "3      1.39\n",
       "4      1.58\n",
       "5      3.04\n",
       "6      1.49\n",
       "7      1.79\n",
       "8      3.89\n",
       "9      0.98\n",
       "10   314.46\n",
       "11   361.81\n",
       "12    36.23\n",
       "13  2253.48\n",
       "14    21.57\n",
       "15     7.94\n",
       "16    46.38\n",
       "17     2.60\n",
       "18     3.71\n",
       "19    37.26"
      ]
     },
     "execution_count": 67,
     "metadata": {},
     "output_type": "execute_result"
    }
   ],
   "source": [
    "# prob 6.23\n",
    "path = '../data/pstat/연습문제 추가/'\n",
    "data = pd.read_csv(path + '8장-6-23.txt', header=None)\n",
    "data"
   ]
  },
  {
   "cell_type": "code",
   "execution_count": 72,
   "id": "b5bbce06",
   "metadata": {},
   "outputs": [
    {
     "data": {
      "image/png": "[encoded data removed]",
      "text/plain": [
       "<Figure size 432x288 with 1 Axes>"
      ]
     },
     "metadata": {
      "needs_background": "light"
     },
     "output_type": "display_data"
    }
   ],
   "source": [
    "data1 = data[:10]\n",
    "sm.qqplot(data1, line='s');"
   ]
  },
  {
   "cell_type": "code",
   "execution_count": 78,
   "id": "c1388c3c",
   "metadata": {},
   "outputs": [
    {
     "data": {
      "image/png": "[encoded data removed]",
      "text/plain": [
       "<Figure size 402.25x360 with 1 Axes>"
      ]
     },
     "metadata": {
      "needs_background": "light"
     },
     "output_type": "display_data"
    }
   ],
   "source": [
    "sns.displot(data1, kind='hist');"
   ]
  },
  {
   "cell_type": "code",
   "execution_count": 84,
   "id": "5d7bd265",
   "metadata": {},
   "outputs": [
    {
     "name": "stdout",
     "output_type": "stream",
     "text": [
      "ShapiroResult(statistic=0.7017288208007812, pvalue=0.0009244532557204366)\n",
      "ShapiroResult(statistic=0.8631885647773743, pvalue=0.083198182284832)\n",
      "ShapiroResult(statistic=0.9366642832756042, pvalue=0.5165274739265442)\n",
      "ShapiroResult(statistic=0.9023624062538147, pvalue=0.26601091027259827)\n"
     ]
    }
   ],
   "source": [
    "# 1\n",
    "data1_sqrt = np.power(data1, 0.5)\n",
    "data1_log = np.log(data1)\n",
    "data1_out = data1[0][1:]\n",
    "\n",
    "print(stats.shapiro(data1))\n",
    "print(stats.shapiro(data1_sqrt))\n",
    "print(stats.shapiro(data1_log))\n",
    "print(stats.shapiro(data1_out))"
   ]
  },
  {
   "cell_type": "code",
   "execution_count": 96,
   "id": "346b9e1e",
   "metadata": {},
   "outputs": [
    {
     "data": {
      "image/png": "[encoded data removed]",
      "text/plain": [
       "<Figure size 432x288 with 1 Axes>"
      ]
     },
     "metadata": {
      "needs_background": "light"
     },
     "output_type": "display_data"
    }
   ],
   "source": [
    "data2 = data[10:]\n",
    "sm.qqplot(data2, line='s');"
   ]
  },
  {
   "cell_type": "code",
   "execution_count": 97,
   "id": "72edd526",
   "metadata": {},
   "outputs": [
    {
     "data": {
      "image/png": "[encoded data removed]",
      "text/plain": [
       "<Figure size 402.25x360 with 1 Axes>"
      ]
     },
     "metadata": {
      "needs_background": "light"
     },
     "output_type": "display_data"
    }
   ],
   "source": [
    "sns.displot(data2, kind='hist');"
   ]
  },
  {
   "cell_type": "code",
   "execution_count": 105,
   "id": "39c00188",
   "metadata": {},
   "outputs": [
    {
     "data": {
      "text/plain": [
       "10    314.46\n",
       "11    361.81\n",
       "12     36.23\n",
       "14     21.57\n",
       "15      7.94\n",
       "16     46.38\n",
       "17      2.60\n",
       "18      3.71\n",
       "19     37.26\n",
       "Name: 0, dtype: float64"
      ]
     },
     "execution_count": 105,
     "metadata": {},
     "output_type": "execute_result"
    }
   ],
   "source": [
    "data2[0].loc[data2[0] != data2[0][13]]"
   ]
  },
  {
   "cell_type": "code",
   "execution_count": 103,
   "id": "8be6f983",
   "metadata": {},
   "outputs": [
    {
     "name": "stdout",
     "output_type": "stream",
     "text": [
      "None\n"
     ]
    }
   ],
   "source": [
    "print(list(data2[0]).remove(data2[0][13]))"
   ]
  },
  {
   "cell_type": "code",
   "execution_count": 106,
   "id": "13a56aba",
   "metadata": {},
   "outputs": [
    {
     "name": "stdout",
     "output_type": "stream",
     "text": [
      "ShapiroResult(statistic=0.5008418560028076, pvalue=3.7203715237410506e-06)\n",
      "ShapiroResult(statistic=0.7031463384628296, pvalue=0.0009617549367249012)\n",
      "ShapiroResult(statistic=0.9494376182556152, pvalue=0.6618516445159912)\n",
      "ShapiroResult(statistic=0.6523432731628418, pvalue=0.0003931820683646947)\n"
     ]
    }
   ],
   "source": [
    "data2_sqrt = np.power(data2, 0.5)\n",
    "data2_log = np.log(data2)\n",
    "data2_out = data2[0].loc[data2[0] != data2[0][13]]\n",
    "\n",
    "print(stats.shapiro(data2))\n",
    "print(stats.shapiro(data2_sqrt))\n",
    "print(stats.shapiro(data2_log))\n",
    "print(stats.shapiro(data2_out))"
   ]
  },
  {
   "cell_type": "code",
   "execution_count": 89,
   "id": "75259247",
   "metadata": {},
   "outputs": [
    {
     "data": {
      "image/png": "[encoded data removed]",
      "text/plain": [
       "<Figure size 432x288 with 1 Axes>"
      ]
     },
     "metadata": {
      "needs_background": "light"
     },
     "output_type": "display_data"
    }
   ],
   "source": [
    "sm.qqplot(data2_log,line='s');"
   ]
  },
  {
   "cell_type": "code",
   "execution_count": 108,
   "id": "41d39b93",
   "metadata": {},
   "outputs": [
    {
     "data": {
      "image/png": "[encoded data removed]",
      "text/plain": [
       "<Figure size 402.25x360 with 1 Axes>"
      ]
     },
     "metadata": {
      "needs_background": "light"
     },
     "output_type": "display_data"
    }
   ],
   "source": [
    "sns.displot(data2_log, kind='hist');"
   ]
  },
  {
   "cell_type": "code",
   "execution_count": null,
   "id": "cb3fe8af",
   "metadata": {},
   "outputs": [],
   "source": []
  }
 ],
 "metadata": {
  "kernelspec": {
   "display_name": "adp",
   "language": "python",
   "name": "adp_class"
  },
  "language_info": {
   "codemirror_mode": {
    "name": "ipython",
    "version": 3
   },
   "file_extension": ".py",
   "mimetype": "text/x-python",
   "name": "python",
   "nbconvert_exporter": "python",
   "pygments_lexer": "ipython3",
   "version": "3.7.13"
  }
 },
 "nbformat": 4,
 "nbformat_minor": 5
}
