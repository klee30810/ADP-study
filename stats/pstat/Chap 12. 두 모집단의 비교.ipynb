{
 "cells": [
  {
   "cell_type": "markdown",
   "id": "4f16c457",
   "metadata": {},
   "source": [
    "# Chap 12. 두 모집단의 비교"
   ]
  },
  {
   "cell_type": "markdown",
   "id": "4de6c351",
   "metadata": {},
   "source": [
    "## 12.2 두 개의 독립표본\n",
    "- 두 모집단으로부터 적당한 수의 표본을 추출하여 두 개의 독립인 표본을 얻게 된다.\n",
    "\n",
    "### 모평균의 차$(\\mu_1-\\mu_2)$에 대한 추론 (표본의 크기가 클 때)\n",
    "- 두 표본평균의 차 이용. 두 표본의 크기가 모두 큰 경우(30이상), 중심극한정리에 의해 $$\\bar{X} \\sim N(\\mu_1, \\frac{\\sigma^2_1}{n_1}),\\quad \\bar{Y} \\sim N(\\mu_2, \\frac{\\sigma^2_2}{n_2}) \\\\ (\\bar{X}\\pm \\bar{Y}) \\sim N(\\mu_1\\pm \\mu_2,\\ \\sigma^2_1+\\sigma^2_2)$$\n",
    "\n",
    "- 두 표본이 서로 독립이므로 두 표본의 차인 $\\bar{X}-\\bar{Y}$도 다음과 같은 정규분포를 따른다 $$(\\bar{X}-\\bar{Y})\\sim N(\\mu_1 - \\mu_2,\\ \\frac{\\sigma^2_1}{n_1}+\\frac{\\sigma_2^2}{n_2})$$\n",
    "\n",
    "- 표준화 된 확률변수 $[(\\bar{X}-\\bar{Y})-(\\mu_1-\\mu_2)]/\\sqrt{\\sigma^2_1/n_1+\\sigma^2_2/n_2}$ 표준정규분포를 따르고, 모분산을 모를 때에는 이를 표본분산으로 대체하여도 표준정규분포를 따른다. $$Z=\\frac{(\\bar{X}-\\bar{Y})-(\\mu_1-\\mu_2)}{\\sqrt{s^2_1/n_1+s^2_2/n_2}}\\sim\\ N(0,1)$$\n",
    "\n",
    "> 표본의 크기 $n_1과 n_2$가 모두 30이상일 때 $(\\mu_1-\\mu_2)$에 대한 $100(1-\\alpha)$%의 신뢰구간은 $$(\\bar{X}-\\bar{Y})\\pm z_{\\alpha/2}\\times \\sqrt{\\frac{s^2_1}{n_1}+\\frac{s^2_2}{n_2}}$$"
   ]
  },
  {
   "cell_type": "code",
   "execution_count": 7,
   "id": "3ec29766",
   "metadata": {},
   "outputs": [],
   "source": [
    "from scipy import stats\n",
    "import numpy as np"
   ]
  },
  {
   "cell_type": "code",
   "execution_count": 10,
   "id": "f3b08b0d",
   "metadata": {},
   "outputs": [
    {
     "data": {
      "text/plain": [
       "[26.90021421219224, 77.09978578780776]"
      ]
     },
     "execution_count": 10,
     "metadata": {},
     "output_type": "execute_result"
    }
   ],
   "source": [
    "# example 3 \n",
    "n_a = 50\n",
    "n_b = 100\n",
    "mu_a = 453\n",
    "mu_b = 401\n",
    "s_a = 80\n",
    "s_b = 60\n",
    "alpha = 0.05\n",
    "\n",
    "ci = [(mu_a-mu_b)-stats.norm.ppf(1-alpha/2)*np.sqrt(np.power(s_a,2)/n_a+np.power(s_b,2)/n_b), \n",
    "      (mu_a-mu_b)+stats.norm.ppf(1-alpha/2)*np.sqrt(np.power(s_a,2)/n_a+np.power(s_b,2)/n_b)]\n",
    "ci"
   ]
  },
  {
   "cell_type": "code",
   "execution_count": 21,
   "id": "7ec51d4d",
   "metadata": {},
   "outputs": [
    {
     "name": "stdout",
     "output_type": "stream",
     "text": [
      "0.9999755179989782 4.060517809103758\n"
     ]
    }
   ],
   "source": [
    "# example 4\n",
    "alpha = 0.01\n",
    "z_val = (mu_a - mu_b)/(np.sqrt((np.power(s_a,2)/n_a + np.power(s_b,2)/n_b)))\n",
    "\n",
    "# stats.norm.ppf(1-alpha/2)\n",
    "print(stats.norm.cdf(z_val), z_val)"
   ]
  },
  {
   "cell_type": "markdown",
   "id": "eafcf881",
   "metadata": {},
   "source": [
    "### 모평균의 차$(\\mu_1-\\mu_2)$에 대한 추론 (표본의 크기가 작을 때)\n",
    "- 표본의 크기가 작을 때는 일반적으로 두 모집단에 대하여 정규분포 가정 필요\n",
    "- 두 모집단의 표준편차에 대한 가정 필요 : \"두 모집단의 표준편차가 같거나 다르다\"\n",
    "    - 표본의 표준편차 이용 : $s_1/s_2$이용\n",
    "    \n",
    "> **표본의 크기가 작을 경우, 필요한 가정**\n",
    ">\n",
    "> 1) 두 모집단이 모두 정규분포를 따른다\n",
    ">\n",
    "> 2) 두 모집단의 표준편차가 일치한다 $(\\sigma_1=\\sigma_2=\\sigma)$\n",
    "$$(\\bar{X}-\\bar{Y}) \\sim N(\\mu_1 - \\mu_2, \\sigma^2(\\frac{1}{n_1}+\\frac{1}{n_2}))$$\n",
    "\n",
    "- 공통 표준편차 $\\sigma$를 모르는 (대다수 의) 경우, 추정량 필요\n",
    "$$s^2_p=\\frac{\\sum^{n_1}_{i=1}(X_i-\\bar{X})^2+\\sum^{n_2}_{i=1}(Y_i-\\bar{Y})^2}{n_1+n_2-2}=\\frac{(n_1-1)s^2_1+(n_2-1)s^2_2}{n_1+n_2-2}$$\n",
    "\n",
    "> 두 정규모집단에서 독립적으로 추출된 두 표본으로부터 얻게 되는 표준화된 확률변수는 자유도가 $(n_1+n_2-2)$인 t 분포를 따른다 $$t=\\frac{(\\bar{X}-\\bar{Y})-(\\mu_1-\\mu_2)}{s_p\\sqrt{\\frac{1}{n_1}+\\frac{1}{n_2}}}\\sim t(n_1+n_2-2)$$\n",
    "\n",
    "> **모평균의 차$(\\mu_1-\\mu_2)$에 대한 신뢰구간 (모표준편차가 같을 때)**\n",
    ">\n",
    "> 두 모집단이 모두 정규분포를 다르고 두 모표준편차가 같을 때 $(\\mu_1-\\mu_2)$에 대한 $100(1-\\alpha)$% 신뢰구간은 $$추정량 \\pm (t값) \\times (추정된\\ 표준오차) \\\\(\\bar{X}-\\bar{Y})\\pm t_{\\alpha/2}(n_1+n_2-2)\\times s_p\\sqrt{\\frac{1}{n_1}+\\frac{1}{n_2}}$$\n",
    "\n",
    "> **$H_0\\ :\\ \\mu_1-\\mu_2=\\delta_0$에 대한 검정(모표준편차가 같을 때)**\n",
    ">\n",
    "> 두 모집단이 모두 정규분포를 따르고 두 모표준편차가 같을 때 가설 $H_0:\\mu_1-\\mu_2=\\delta_0$에 대한 검정통계량은 다음과 같다 $$t=\\frac{(\\bar{X}-\\bar{Y})-\\delta_0}{s_p\\sqrt{\\frac{1}{n_1}+\\frac{1}{n_2}}}$$\n",
    "> 검정통계량은 $H_0$이 맞을 때 자유도가 $(n_1+n_2-2)$인 t분포를 따른다. 각 대립가설에 대하여 유의수준 $\\alpha$를 같는 기각역은 다음과 같다 $$H_1\\ :\\ \\mu_1-\\mu_2<\\delta_0일때,\\quad R:t\\leq-t_a(n_1+n_2-2)\\\\ H_1\\ :\\ \\mu_1-\\mu_2>\\delta_0일때,\\quad R:t\\geq t_a(n_1+n_2-2)\\\\ H_1\\ :\\ \\mu_1-\\mu_2\\neq\\delta_0일때,\\quad R:|t|\\geq-t_{\\alpha/2}(n_1+n_2-2)$$\n",
    "\n",
    "> **모평균의 차($\\mu_1-\\mu_2$)에 대한 추론 (표본의 크기가 작고 두 모표준편차가 다를 때)**\n",
    ">\n",
    "> 모평균의 차($\\mu_1-\\mu_2$)에 대한 $100(1-\\alpha)$% 신뢰구간은 근사적으로 $$(\\bar{X}-\\bar{Y})\\pm t*_{\\alpha/2}(n_1+n_2-2)\\times\\sqrt{\\frac{s^2_1}{n_1}+\\frac{s^2_2}{n_2}}$$\n",
    "> 이때 t\\*의 자유도는 $(n_1-1), (n_2-1)$ 중 작은 값이다\n",
    "> 가설 $H_0:\\mu_1-\\mu_2=\\delta_0$에 대한 검정통계량은 다음과 같다. $$t*=\\frac{(\\bar{X}-\\bar{Y})-\\delta_0}{\\sqrt{\\frac{s^2_1}{n_1}+\\frac{s^2_2}{n_2}}} $$\n",
    "> 이 검정통계량은 $H_0$이 맞을 때 근사적으로 자유도가 $(n_1-1),\\ (n_2-1)$중 작은 값인 t분포를 따른다. 보수적인 성질을 갖게 되어, 신뢰구간이 넓어지고 실제 신뢰도가 $100(1-\\alpha)$% 이상이 된다. 검정의 경우 기각역이 좁아지는 경향으로 실제 유의수준이 $\\alpha$이하가 되어 귀무가설을 기각하지 못할 가능성이 높게 된다\n"
   ]
  },
  {
   "cell_type": "code",
   "execution_count": 32,
   "id": "2833a862",
   "metadata": {},
   "outputs": [
    {
     "data": {
      "text/plain": [
       "2.888888888888889"
      ]
     },
     "execution_count": 32,
     "metadata": {},
     "output_type": "execute_result"
    }
   ],
   "source": [
    "# example 5\n",
    "data1 = [8,5,7,6,9,7]\n",
    "data2 = [2,6,4,7,6]\n",
    "\n",
    "sum_square1 = sum(list(map(lambda x : np.power(x,2),data1)))\n",
    "sum_square2 = sum(list(map(lambda x : np.power(x,2),data2)))\n",
    "\n",
    "s2_p=((sum_square1 - len(data1)*np.power(np.mean(data1),2))+(sum_square2 - len(data2)*np.power(np.mean(data2),2)))/(len(data1)+len(data2)-2)\n",
    "s2_p"
   ]
  },
  {
   "cell_type": "code",
   "execution_count": 50,
   "id": "ada8fff4",
   "metadata": {},
   "outputs": [
    {
     "data": {
      "text/plain": [
       "[-4.004393045812584, 9.81208535350489]"
      ]
     },
     "execution_count": 50,
     "metadata": {},
     "output_type": "execute_result"
    }
   ],
   "source": [
    "# example 6\n",
    "nature_data = [44,44,56,46,47,38,58,53,49,35,46,30,41]\n",
    "artif_data = [35,47,55,29,40,39,32,41,42,57,51,39]\n",
    "alpha = 0.05\n",
    "\n",
    "nature_bar = np.mean(nature_data)\n",
    "artif_bar = np.mean(artif_data)\n",
    "nature_std = np.std(nature_data, ddof=1)\n",
    "artif_std = np.std(artif_data, ddof=1)\n",
    "\n",
    "s_p = np.sqrt(((len(artif_data)-1)*np.power(artif_std,2) + (len(nature_data)-1)*np.power(nature_std,2))/(len(artif_data)+len(nature_data)-2))\n",
    "t_alpha = stats.t.ppf(1-alpha/2, df=len(nature_data)+len(artif_data)-1)\n",
    "\n",
    "ci = [(nature_bar - artif_bar)-t_alpha*s_p*np.sqrt((1/len(nature_data)+1/len(artif_data))), (nature_bar - artif_bar)+t_alpha*s_p*np.sqrt((1/len(nature_data)+1/len(artif_data)))]\n",
    "ci\n"
   ]
  },
  {
   "cell_type": "code",
   "execution_count": 56,
   "id": "3cea3f74",
   "metadata": {},
   "outputs": [
    {
     "data": {
      "text/plain": [
       "0.8026988376793643"
      ]
     },
     "execution_count": 56,
     "metadata": {},
     "output_type": "execute_result"
    }
   ],
   "source": [
    "# example 7\n",
    "t_val = (nature_bar - artif_bar) / (s_p * np.sqrt(1/len(nature_data) + 1/len(artif_data))); t_val\n",
    "stats.t.cdf(t_val, df=len(nature_data)+len(artif_data)-2)"
   ]
  },
  {
   "cell_type": "code",
   "execution_count": 57,
   "id": "dc148d66",
   "metadata": {},
   "outputs": [
    {
     "data": {
      "text/plain": [
       "0.8598476654573151"
      ]
     },
     "execution_count": 57,
     "metadata": {},
     "output_type": "execute_result"
    }
   ],
   "source": [
    "# example 8\n",
    "n1 = 13 ; n2 = 11\n",
    "x_bar1 = 2.4 ; x_bar2 = 2.15\n",
    "s1 = 0.72 ; s2 = 0.35\n",
    "alpha = 0.05\n",
    "\n",
    "t_val = (x_bar1 - x_bar2) / np.sqrt((s1**2/n1)+(s2**2/n2))\n",
    "stats.t.cdf(t_val, df=n1+n2-2)"
   ]
  },
  {
   "cell_type": "code",
   "execution_count": 60,
   "id": "30a43bce",
   "metadata": {},
   "outputs": [
    {
     "name": "stdout",
     "output_type": "stream",
     "text": [
      "-7.477535561851235 -2.1224644381487585\n"
     ]
    }
   ],
   "source": [
    "# prob 2.2\n",
    "n1 = 90; n2 = 100\n",
    "bar1 = 76.4; bar2 = 81.2\n",
    "s1 = 8.2; s2 = 7.6\n",
    "alpha = 0.02\n",
    "\n",
    "z_alpha = stats.norm.ppf(1-alpha/2)\n",
    "\n",
    "print((bar1-bar2)-z_alpha * np.sqrt(s1**2/n1 + s2**2/n2), (bar1-bar2)+z_alpha * np.sqrt(s1**2/n1 + s2**2/n2))"
   ]
  },
  {
   "cell_type": "code",
   "execution_count": 61,
   "id": "03fb5639",
   "metadata": {},
   "outputs": [
    {
     "name": "stdout",
     "output_type": "stream",
     "text": [
      "-38.87784026658479 0.8778402665847906\n"
     ]
    }
   ],
   "source": [
    "# prob 2.4 \n",
    "n1 = 79 ; n2 = 62\n",
    "bar1 = 109; bar2 = 128\n",
    "s1 = 46.2 ; s2 = 53.4\n",
    "alpha = 0.02\n",
    "\n",
    "z_alpha = stats.norm.ppf(1-alpha/2)\n",
    "\n",
    "print((bar1-bar2)-z_alpha * np.sqrt(s1**2/n1 + s2**2/n2), (bar1-bar2)+z_alpha * np.sqrt(s1**2/n1 + s2**2/n2))"
   ]
  },
  {
   "cell_type": "code",
   "execution_count": 63,
   "id": "07f62919",
   "metadata": {},
   "outputs": [
    {
     "data": {
      "text/plain": [
       "0.20892341873493436"
      ]
     },
     "execution_count": 63,
     "metadata": {},
     "output_type": "execute_result"
    }
   ],
   "source": [
    "# prob 2.6\n",
    "# 1\n",
    "n1 = 66; n2 = 38\n",
    "bar1 = 305 ; bar2 = 311\n",
    "s1 = 29 ; s2 = 40\n",
    "alpha = 0.01\n",
    "\n",
    "z_val = (bar1 - bar2) / np.sqrt(s1**2/n1 + s2**2/n2)\n",
    "stats.norm.cdf(z_val)"
   ]
  },
  {
   "cell_type": "code",
   "execution_count": 68,
   "id": "63583606",
   "metadata": {},
   "outputs": [
    {
     "name": "stdout",
     "output_type": "stream",
     "text": [
      "-25.07639207780786 13.07639207780786\n"
     ]
    }
   ],
   "source": [
    "# 2\n",
    "z_alpha = stats.norm.ppf(1-alpha/2)\n",
    "print((bar1-bar2)-z_alpha * np.sqrt(s1**2/n1 + s2**2/n2), (bar1-bar2)+z_alpha * np.sqrt(s1**2/n1 + s2**2/n2))"
   ]
  },
  {
   "cell_type": "code",
   "execution_count": 13,
   "id": "08346db4",
   "metadata": {},
   "outputs": [
    {
     "name": "stdout",
     "output_type": "stream",
     "text": [
      "-38.18183196260197\n"
     ]
    },
    {
     "data": {
      "text/plain": [
       "0.0"
      ]
     },
     "execution_count": 13,
     "metadata": {},
     "output_type": "execute_result"
    }
   ],
   "source": [
    "# prob 2.8\n",
    "# bar1 > bar2 ; bar1 - bar2 > 0\n",
    "n1 = 75 ; n2 = 64\n",
    "bar1 = 130000 ; bar2 = 1200000\n",
    "s1 = 170000 ; s2 = 160000\n",
    "alpha = 0.05\n",
    "\n",
    "z_val = (bar1 - bar2) / np.sqrt(s1**2/n1 + s2**2/n2); print(z_val)\n",
    "stats.norm.cdf(z_val)"
   ]
  },
  {
   "cell_type": "code",
   "execution_count": 16,
   "id": "a8729af5",
   "metadata": {},
   "outputs": [
    {
     "name": "stdout",
     "output_type": "stream",
     "text": [
      "1.6448536269514729\n",
      "3.1098242423786364\n"
     ]
    },
    {
     "data": {
      "text/plain": [
       "0.9990640065139811"
      ]
     },
     "execution_count": 16,
     "metadata": {},
     "output_type": "execute_result"
    }
   ],
   "source": [
    "# prob 2.10\n",
    "# bar1 < bar2 ? \n",
    "n1 = 48 ; bar1 = 7.92 ; s1 = 3.45\n",
    "n2 = 38 ; bar2 = 5.8 ; s2 = 2.87\n",
    "alpha = 0.05\n",
    "\n",
    "z_alpha = -stats.norm.ppf(alpha) ; print(z_alpha)\n",
    "z_val = (bar1 - bar2) / np.sqrt(s1**2/n1 + s2**2/n2); print(z_val)\n",
    "stats.norm.cdf(z_val)"
   ]
  },
  {
   "cell_type": "code",
   "execution_count": 18,
   "id": "715807cb",
   "metadata": {},
   "outputs": [
    {
     "data": {
      "text/plain": [
       "[10.278343152337277, 13.641656847662725]"
      ]
     },
     "execution_count": 18,
     "metadata": {},
     "output_type": "execute_result"
    }
   ],
   "source": [
    "# prob 2.12\n",
    "# - 모집단이 정규분포\n",
    "# 1 : bar1 - bar2 95% ci?\n",
    "n1 = 9; n2 = 6\n",
    "bar1 = 16.18 ; bar2 = 4.22\n",
    "s1 = 1.54 ; s2 = 1.37\n",
    "alpha = 0.05\n",
    "\n",
    "s_p = np.sqrt(((n1-1)*s1**2 + (n2-1)*s2**2)/(n1+n2-2))\n",
    "t_alpha = stats.t.ppf(1-alpha/2, df=n1+n2-2)\n",
    "ci = [(bar1-bar2)-t_alpha * s_p * np.sqrt(1/n1+1/n2), (bar1-bar2)+t_alpha * s_p * np.sqrt(1/n1+1/n2)]\n",
    "ci"
   ]
  },
  {
   "cell_type": "code",
   "execution_count": 20,
   "id": "66e791e0",
   "metadata": {},
   "outputs": [
    {
     "name": "stdout",
     "output_type": "stream",
     "text": [
      "2.5179468525631274\n",
      "2.6503088378527013\n"
     ]
    },
    {
     "data": {
      "text/plain": [
       "0.0764828089830108"
      ]
     },
     "execution_count": 20,
     "metadata": {},
     "output_type": "execute_result"
    }
   ],
   "source": [
    "# 2\n",
    "# H0 : bar1 - bar2 = 10 / H1 : bar1-bar2>10\n",
    "alpha = 0.01\n",
    "\n",
    "t_val = (bar1-bar2-10) / (s_p * np.sqrt(1/n1 + 1/n2)); print(t_val)\n",
    "t_alpha = stats.t.ppf(1-alpha, df=n1+n2-2); print(t_alpha)\n",
    "stats.t.cdf(1-t_val, df=n1+n2-2)"
   ]
  },
  {
   "cell_type": "code",
   "execution_count": 49,
   "id": "f04bad64",
   "metadata": {},
   "outputs": [
    {
     "data": {
      "text/plain": [
       "[-3.411980729699348, 26.411980729699348]"
      ]
     },
     "execution_count": 49,
     "metadata": {},
     "output_type": "execute_result"
    }
   ],
   "source": [
    "# prob 2.14\n",
    "# 두 모집단의 표준편차는 다르다\n",
    "# 1 : bar1 - bar2, 98% ci\n",
    "n1 = 7 ; n2 = 8\n",
    "bar1 = 86.2 ; bar2 = 74.7\n",
    "s1 = 14.2 ; s2 = 5.5\n",
    "alpha = 0.02\n",
    "\n",
    "t_alpha = stats.t.ppf(1-alpha, df=n1-1)\n",
    "# t_alpha = stats.norm.ppf(1-alpha)\n",
    "\n",
    "ci = [(bar1-bar2) - t_alpha * np.sqrt(s1**2/n1 + s2**2/n2), (bar1-bar2) + t_alpha * np.sqrt(s1**2/n1+s2**2/n2)]\n",
    "ci"
   ]
  },
  {
   "cell_type": "code",
   "execution_count": 32,
   "id": "0127e13d",
   "metadata": {},
   "outputs": [
    {
     "data": {
      "text/plain": [
       "[-3.629286152076144, 26.629286152076144]"
      ]
     },
     "execution_count": 32,
     "metadata": {},
     "output_type": "execute_result"
    }
   ],
   "source": [
    "# case t-dist\n",
    "t_alpha = stats.t.ppf(1-alpha/2, df=n1+n2-2)\n",
    "# t_alpha = stats.norm.ppf(1-alpha)\n",
    "\n",
    "ci = [(bar1-bar2) - t_alpha * np.sqrt(s1**2/n1 + s2**2/n2), (bar1-bar2) + t_alpha * np.sqrt(s1**2/n1+s2**2/n2)]\n",
    "ci"
   ]
  },
  {
   "cell_type": "code",
   "execution_count": 33,
   "id": "49f005bd",
   "metadata": {},
   "outputs": [
    {
     "data": {
      "text/plain": [
       "[-2.843779637510451, 25.84377963751045]"
      ]
     },
     "execution_count": 33,
     "metadata": {},
     "output_type": "execute_result"
    }
   ],
   "source": [
    "# case std same\n",
    "s_p = np.sqrt(((n1-1)*s1**2 + (n2-1)*s2**2)/(n1+n2-2))\n",
    "t_alpha = stats.t.ppf(1-alpha/2, df=n1+n2-2)\n",
    "\n",
    "ci = [(bar1-bar2) - t_alpha * s_p * np.sqrt(1/n1 + 1/n2), (bar1-bar2) + t_alpha * s_p * np.sqrt(1/n1 + 1/n2)]\n",
    "ci"
   ]
  },
  {
   "cell_type": "code",
   "execution_count": 36,
   "id": "ceaad5d3",
   "metadata": {},
   "outputs": [
    {
     "data": {
      "text/plain": [
       "1.1235252918598552e-06"
      ]
     },
     "execution_count": 36,
     "metadata": {},
     "output_type": "execute_result"
    }
   ],
   "source": [
    "# 2. H0 : bar1-bar2 = 20,  H1 : bar1-bar2 < 20?\n",
    "alpha = 0.025\n",
    "\n",
    "t_val = (bar1-bar2) - 20 / (np.sqrt(s1**2/n1+s2**2/n2))\n",
    "stats.t.cdf(-t_val, df=n1+n2-2)"
   ]
  },
  {
   "cell_type": "code",
   "execution_count": 39,
   "id": "350fab01",
   "metadata": {},
   "outputs": [
    {
     "name": "stdout",
     "output_type": "stream",
     "text": [
      "3.0118034995258207\n"
     ]
    },
    {
     "data": {
      "text/plain": [
       "0.998701496757293"
      ]
     },
     "execution_count": 39,
     "metadata": {},
     "output_type": "execute_result"
    }
   ],
   "source": [
    "# prob 2.16\n",
    "n1 = 52 ; n2= 67\n",
    "bar1 = 2.52 ; bar2 = 1.63\n",
    "s1 = 1.84 ; s2 = 1.22\n",
    "# bar1 - bar2 > 0?\n",
    "z_val = (bar1-bar2) / np.sqrt(s1**2/n1 + s2**2/n2); print(z_val)\n",
    "stats.norm.cdf(z_val)"
   ]
  },
  {
   "cell_type": "code",
   "execution_count": 48,
   "id": "cb58130d",
   "metadata": {},
   "outputs": [
    {
     "data": {
      "text/plain": [
       "[2.648095168665095, 12.9519048313349]"
      ]
     },
     "execution_count": 48,
     "metadata": {},
     "output_type": "execute_result"
    }
   ],
   "source": [
    "# prob 2.18\n",
    "n1 = 20; n2 = 10\n",
    "bar1 = 46.3 ; bar2 = 38.5\n",
    "s1 = 5 ; s2 = 5.8\n",
    "alpha = 0.02\n",
    "\n",
    "# 98% ci?\n",
    "# 모집단 정규분포 가정 & 모 표준편차는 다름\n",
    "\n",
    "t_alpha = stats.t.ppf(1-alpha,df=n2-1)\n",
    "ci = [(bar1-bar2) - t_alpha * np.sqrt(s1**2/n1 + s2**2/n2), (bar1-bar2) + t_alpha * np.sqrt(s1**2/n1 + s2**2/n2)]\n",
    "ci"
   ]
  },
  {
   "cell_type": "code",
   "execution_count": 68,
   "id": "af2eaae7",
   "metadata": {},
   "outputs": [
    {
     "name": "stdout",
     "output_type": "stream",
     "text": [
      "-1.8331129326536337 -1.3274567757165552\n"
     ]
    },
    {
     "data": {
      "text/plain": [
       "[1.2189471866797383, -7.618947186679737]"
      ]
     },
     "execution_count": 68,
     "metadata": {},
     "output_type": "execute_result"
    }
   ],
   "source": [
    "# prob 2.20\n",
    "# 1. bar1 - bar2 < 0?\n",
    "n1 = 10 ; n2=10\n",
    "data1 = [15,20,11,23,16,21,18,16,27,24]\n",
    "data2 = [23,31,13,19,23,17,28,16,25,28]\n",
    "bar1 = np.mean(data1); s1 = np.std(data1, ddof=1)\n",
    "bar2 = np.mean(data2); s2 = np.std(data2, ddof=1)\n",
    "alpha = 0.05\n",
    "\n",
    "# 2.\n",
    "# print(bar1-bar2)\n",
    "t_alpha = stats.t.ppf(alpha,df=n2-1)\n",
    "t_val = (bar1-bar2)/np.sqrt(s1**2/n1+s2**2/n2)\n",
    "print(t_alpha, t_val)\n",
    "ci = [(bar1-bar2) - t_alpha * np.sqrt(s1**2/n1 + s2**2/n2), (bar1-bar2) + t_alpha * np.sqrt(s1**2/n1 + s2**2/n2)]\n",
    "ci"
   ]
  },
  {
   "cell_type": "code",
   "execution_count": 65,
   "id": "420b923b",
   "metadata": {},
   "outputs": [
    {
     "name": "stdout",
     "output_type": "stream",
     "text": [
      "-2.0150483726691575 -2.5747873451362637\n"
     ]
    }
   ],
   "source": [
    "# prob 2.22\n",
    "n1 = 6 ; n2 = 6\n",
    "bar1 = 41.8 ; bar2 = 60.8\n",
    "s1 = 7.6 ; s2 = 16.4\n",
    "\n",
    "# 모집단 정규본포 & 모집단의 모 표준편차 다름\n",
    "# bar1 - bar2 = 0 or bar1 - bar2 < 0\n",
    "\n",
    "alpha = 0.05\n",
    "t_alpha = stats.t.ppf(alpha, df=n1-1)\n",
    "t_val = (bar1-bar2)/np.sqrt(s1**2/n1+s2**2/n2)\n",
    "print(t_alpha, t_val)"
   ]
  },
  {
   "cell_type": "code",
   "execution_count": 81,
   "id": "7cf3940c",
   "metadata": {},
   "outputs": [
    {
     "data": {
      "text/plain": [
       "[-6.200288157315095, 2.4002881573150976]"
      ]
     },
     "execution_count": 81,
     "metadata": {},
     "output_type": "execute_result"
    }
   ],
   "source": [
    "# prob 2.24\n",
    "# sample means subtraction's 98% confidence interval\n",
    "# prep : both populations are normally distributed\n",
    "# 1\n",
    "n1 = 15; n2 = 11\n",
    "bar1 = 28.1 ; bar2 = 30\n",
    "s1 = 3.6 ; s2 = 5.2\n",
    "alpha = 0.02\n",
    "\n",
    "t_alpha = stats.t.ppf(1-alpha, df=min(n1,n2)-1)\n",
    "ci = [(bar1-bar2)-t_alpha*np.sqrt(s1**2/n1 + s2**2/n2),\n",
    "     (bar1-bar2)+t_alpha*np.sqrt(s1**2/n1 + s2**2/n2)]\n",
    "ci"
   ]
  },
  {
   "cell_type": "code",
   "execution_count": 77,
   "id": "d6c05305",
   "metadata": {},
   "outputs": [
    {
     "data": {
      "text/plain": [
       "[8.704628770504883, 31.295371229495117]"
      ]
     },
     "execution_count": 77,
     "metadata": {},
     "output_type": "execute_result"
    }
   ],
   "source": [
    "# 2\n",
    "# normal dist due to large sample size\n",
    "n1 = 130; n2 = 96\n",
    "bar1 = 410 ; bar2 = 390\n",
    "s1 = 26 ; s2 = 42\n",
    "alpha = 0.02\n",
    "\n",
    "z_alpha = stats.norm.ppf(1-alpha/2)\n",
    "ci = [(bar1-bar2)-z_alpha*np.sqrt(s1**2/n1 + s2**2/n2),\n",
    "     (bar1-bar2)+z_alpha*np.sqrt(s1**2/n1 + s2**2/n2)]\n",
    "ci"
   ]
  },
  {
   "cell_type": "code",
   "execution_count": 79,
   "id": "c80256e6",
   "metadata": {},
   "outputs": [
    {
     "data": {
      "text/plain": [
       "[-0.31540320857508075, 0.17540320857508063]"
      ]
     },
     "execution_count": 79,
     "metadata": {},
     "output_type": "execute_result"
    }
   ],
   "source": [
    "# 3\n",
    "# t dist\n",
    "n1 = 12; n2 = 14\n",
    "bar1 = 1.25 ; bar2 = 1.32\n",
    "s1 = 0.082 ; s2 = 0.326\n",
    "alpha = 0.02\n",
    "\n",
    "t_alpha = stats.t.ppf(1-alpha/2, df=min(n1,n2)-1)\n",
    "ci = [(bar1-bar2)-t_alpha*np.sqrt(s1**2/n1 + s2**2/n2),\n",
    "     (bar1-bar2)+t_alpha*np.sqrt(s1**2/n1 + s2**2/n2)]\n",
    "ci"
   ]
  },
  {
   "cell_type": "code",
   "execution_count": null,
   "id": "05818e12",
   "metadata": {},
   "outputs": [],
   "source": [
    "# 4\n",
    "# normal dist due to large sample size\n",
    "n1 = 130; n2 = 96\n",
    "bar1 = 410 ; bar2 = 390\n",
    "s1 = 26 ; s2 = 42\n",
    "alpha = 0.02\n",
    "\n",
    "z_alpha = stats.norm.ppf(1-alpha/2)\n",
    "ci = [(bar1-bar2)-z_alpha*np.sqrt(s1**2/n1 + s2**2/n2),\n",
    "     (bar1-bar2)+z_alpha*np.sqrt(s1**2/n1 + s2**2/n2)]\n",
    "ci"
   ]
  },
  {
   "cell_type": "code",
   "execution_count": null,
   "id": "ac5a9ec3",
   "metadata": {},
   "outputs": [],
   "source": []
  },
  {
   "cell_type": "code",
   "execution_count": null,
   "id": "e6a10eef",
   "metadata": {},
   "outputs": [],
   "source": []
  },
  {
   "cell_type": "code",
   "execution_count": null,
   "id": "59be64bc",
   "metadata": {},
   "outputs": [],
   "source": []
  },
  {
   "cell_type": "code",
   "execution_count": null,
   "id": "7ddd1651",
   "metadata": {},
   "outputs": [],
   "source": []
  },
  {
   "cell_type": "code",
   "execution_count": null,
   "id": "1faa6bfd",
   "metadata": {},
   "outputs": [],
   "source": []
  },
  {
   "cell_type": "code",
   "execution_count": null,
   "id": "d8ae86ea",
   "metadata": {},
   "outputs": [],
   "source": []
  },
  {
   "cell_type": "code",
   "execution_count": null,
   "id": "88aa2dec",
   "metadata": {},
   "outputs": [],
   "source": []
  },
  {
   "cell_type": "code",
   "execution_count": null,
   "id": "7bf99e93",
   "metadata": {},
   "outputs": [],
   "source": []
  },
  {
   "cell_type": "code",
   "execution_count": null,
   "id": "ce7a0262",
   "metadata": {},
   "outputs": [],
   "source": []
  },
  {
   "cell_type": "code",
   "execution_count": null,
   "id": "00c7a6f8",
   "metadata": {},
   "outputs": [],
   "source": []
  },
  {
   "cell_type": "code",
   "execution_count": null,
   "id": "0f30c0ab",
   "metadata": {},
   "outputs": [],
   "source": []
  },
  {
   "cell_type": "code",
   "execution_count": null,
   "id": "01166037",
   "metadata": {},
   "outputs": [],
   "source": []
  },
  {
   "cell_type": "code",
   "execution_count": null,
   "id": "ef29a2df",
   "metadata": {},
   "outputs": [],
   "source": []
  },
  {
   "cell_type": "code",
   "execution_count": null,
   "id": "0ce8be80",
   "metadata": {},
   "outputs": [],
   "source": []
  },
  {
   "cell_type": "code",
   "execution_count": null,
   "id": "d3f1b302",
   "metadata": {},
   "outputs": [],
   "source": []
  },
  {
   "cell_type": "code",
   "execution_count": null,
   "id": "e9349d13",
   "metadata": {},
   "outputs": [],
   "source": []
  },
  {
   "cell_type": "code",
   "execution_count": null,
   "id": "3d5662a3",
   "metadata": {},
   "outputs": [],
   "source": []
  },
  {
   "cell_type": "code",
   "execution_count": null,
   "id": "5002e03b",
   "metadata": {},
   "outputs": [],
   "source": []
  }
 ],
 "metadata": {
  "kernelspec": {
   "display_name": "adp",
   "language": "python",
   "name": "adp_class"
  },
  "language_info": {
   "codemirror_mode": {
    "name": "ipython",
    "version": 3
   },
   "file_extension": ".py",
   "mimetype": "text/x-python",
   "name": "python",
   "nbconvert_exporter": "python",
   "pygments_lexer": "ipython3",
   "version": "3.7.13"
  }
 },
 "nbformat": 4,
 "nbformat_minor": 5
}
