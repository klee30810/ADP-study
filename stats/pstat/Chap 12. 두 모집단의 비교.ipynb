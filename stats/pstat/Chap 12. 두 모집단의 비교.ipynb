{
 "cells": [
  {
   "cell_type": "markdown",
   "id": "4f16c457",
   "metadata": {},
   "source": [
    "# Chap 12. 두 모집단의 비교"
   ]
  },
  {
   "cell_type": "markdown",
   "id": "4de6c351",
   "metadata": {},
   "source": [
    "## 12.2 두 개의 독립표본\n",
    "- 두 모집단으로부터 적당한 수의 표본을 추출하여 두 개의 독립인 표본을 얻게 된다.\n",
    "\n",
    "### 모평균의 차$(\\mu_1-\\mu_2)$에 대한 추론 (표본의 크기가 클 때)\n",
    "- 두 표본평균의 차 이용. 두 표본의 크기가 모두 큰 경우(30이상), 중심극한정리에 의해 $$\\bar{X} \\sim N(\\mu_1, \\frac{\\sigma^2_1}{n_1}),\\quad \\bar{Y} \\sim N(\\mu_2, \\frac{\\sigma^2_2}{n_2}) \\\\ (\\bar{X}\\pm \\bar{Y}) \\sim N(\\mu_1\\pm \\mu_2,\\ \\sigma^2_1+\\sigma^2_2)$$\n",
    "\n",
    "- 두 표본이 서로 독립이므로 두 표본의 차인 $\\bar{X}-\\bar{Y}$도 다음과 같은 정규분포를 따른다 $$(\\bar{X}-\\bar{Y})\\sim N(\\mu_1 - \\mu_2,\\ \\frac{\\sigma^2_1}{n_1}+\\frac{\\sigma_2^2}{n_2})$$\n",
    "\n",
    "- 표준화 된 확률변수 $[(\\bar{X}-\\bar{Y})-(\\mu_1-\\mu_2)]/\\sqrt{\\sigma^2_1/n_1+\\sigma^2_2/n_2}$ 표준정규분포를 따르고, 모분산을 모를 때에는 이를 표본분산으로 대체하여도 표준정규분포를 따른다. $$Z=\\frac{(\\bar{X}-\\bar{Y})-(\\mu_1-\\mu_2)}{\\sqrt{s^2_1/n_1+s^2_2/n_2}}\\sim\\ N(0,1)$$\n",
    "\n",
    "> 표본의 크기 $n_1과 n_2$가 모두 30이상일 때 $(\\mu_1-\\mu_2)$에 대한 $100(1-\\alpha)$%의 신뢰구간은 $$(\\bar{X}-\\bar{Y})\\pm z_{\\alpha/2}\\times \\sqrt{\\frac{s^2_1}{n_1}+\\frac{s^2_2}{n_2}}$$"
   ]
  },
  {
   "cell_type": "code",
   "execution_count": 7,
   "id": "3ec29766",
   "metadata": {},
   "outputs": [],
   "source": [
    "from scipy import stats\n",
    "import numpy as np"
   ]
  },
  {
   "cell_type": "code",
   "execution_count": 10,
   "id": "f3b08b0d",
   "metadata": {},
   "outputs": [
    {
     "data": {
      "text/plain": [
       "[26.90021421219224, 77.09978578780776]"
      ]
     },
     "execution_count": 10,
     "metadata": {},
     "output_type": "execute_result"
    }
   ],
   "source": [
    "# example 3 \n",
    "n_a = 50\n",
    "n_b = 100\n",
    "mu_a = 453\n",
    "mu_b = 401\n",
    "s_a = 80\n",
    "s_b = 60\n",
    "alpha = 0.05\n",
    "\n",
    "ci = [(mu_a-mu_b)-stats.norm.ppf(1-alpha/2)*np.sqrt(np.power(s_a,2)/n_a+np.power(s_b,2)/n_b), \n",
    "      (mu_a-mu_b)+stats.norm.ppf(1-alpha/2)*np.sqrt(np.power(s_a,2)/n_a+np.power(s_b,2)/n_b)]\n",
    "ci"
   ]
  },
  {
   "cell_type": "code",
   "execution_count": 21,
   "id": "7ec51d4d",
   "metadata": {},
   "outputs": [
    {
     "name": "stdout",
     "output_type": "stream",
     "text": [
      "0.9999755179989782 4.060517809103758\n"
     ]
    }
   ],
   "source": [
    "# example 4\n",
    "alpha = 0.01\n",
    "z_val = (mu_a - mu_b)/(np.sqrt((np.power(s_a,2)/n_a + np.power(s_b,2)/n_b)))\n",
    "\n",
    "# stats.norm.ppf(1-alpha/2)\n",
    "print(stats.norm.cdf(z_val), z_val)"
   ]
  },
  {
   "cell_type": "markdown",
   "id": "eafcf881",
   "metadata": {},
   "source": [
    "### 모평균의 차$(\\mu_1-\\mu_2)$에 대한 추론 (표본의 크기가 작을 때)\n",
    "- 표본의 크기가 작을 때는 일반적으로 두 모집단에 대하여 정규분포 가정 필요\n",
    "- 두 모집단의 표준편차에 대한 가정 필요 : \"두 모집단의 표준편차가 같거나 다르다\"\n",
    "    - 표본의 표준편차 이용 : $s_1/s_2$이용\n",
    "    \n",
    "> **표본의 크기가 작을 경우, 필요한 가정**\n",
    ">\n",
    "> 1) 두 모집단이 모두 정규분포를 따른다\n",
    ">\n",
    "> 2) 두 모집단의 표준편차가 일치한다 $(\\sigma_1=\\sigma_2=\\sigma)$\n",
    "$$(\\bar{X}-\\bar{Y}) \\sim N(\\mu_1 - \\mu_2, \\sigma^2(\\frac{1}{n_1}+\\frac{1}{n_2}))$$\n",
    "\n",
    "- 공통 표준편차 $\\sigma$를 모르는 (대다수 의) 경우, 추정량 필요\n",
    "$$s^2_p=\\frac{\\sum^{n_1}_{i=1}(X_i-\\bar{X})^2+\\sum^{n_2}_{i=1}(Y_i-\\bar{Y})^2}{n_1+n_2-2}=\\frac{(n_1-1)s^2_1+(n_2-1)s^2_2}{n_1+n_2-2}$$\n",
    "\n",
    "> 두 정규모집단에서 독립적으로 추출된 두 표본으로부터 얻게 되는 표준화된 확률변수는 자유도가 $(n_1+n_2-2)$인 t 분포를 따른다 $$t=\\frac{(\\bar{X}-\\bar{Y})-(\\mu_1-\\mu_2)}{s_p\\sqrt{\\frac{1}{n_1}+\\frac{1}{n_2}}}\\sim t(n_1+n_2-2)$$\n",
    "\n",
    "> **모평균의 차$(\\mu_1-\\mu_2)$에 대한 신뢰구간 (모표준편차가 같을 때)**\n",
    ">\n",
    "> 두 모집단이 모두 정규분포를 다르고 두 모표준편차가 같을 때 $(\\mu_1-\\mu_2)$에 대한 $100(1-\\alpha)$% 신뢰구간은 $$추정량 \\pm (t값) \\times (추정된\\ 표준오차) \\\\(\\bar{X}-\\bar{Y})\\pm t_{\\alpha/2}(n_1+n_2-2)\\times s_p\\sqrt{\\frac{1}{n_1}+\\frac{1}{n_2}}$$\n",
    "\n",
    "> **$H_0\\ :\\ \\mu_1-\\mu_2=\\delta_0$에 대한 검정(모표준편차가 같을 때)**\n",
    ">\n",
    "> 두 모집단이 모두 정규분포를 따르고 두 모표준편차가 같을 때 가설 $H_0:\\mu_1-\\mu_2=\\delta_0$에 대한 검정통계량은 다음과 같다 $$t=\\frac{(\\bar{X}-\\bar{Y})-\\delta_0}{s_p\\sqrt{\\frac{1}{n_1}+\\frac{1}{n_2}}}$$\n",
    "> 검정통계량은 $H_0$이 맞을 때 자유도가 $(n_1+n_2-2)$인 t분포를 따른다. 각 대립가설에 대하여 유의수준 $\\alpha$를 같는 기각역은 다음과 같다 $$H_1\\ :\\ \\mu_1-\\mu_2<\\delta_0일때,\\quad R:t\\leq-t_a(n_1+n_2-2)\\\\ H_1\\ :\\ \\mu_1-\\mu_2>\\delta_0일때,\\quad R:t\\geq t_a(n_1+n_2-2)\\\\ H_1\\ :\\ \\mu_1-\\mu_2\\neq\\delta_0일때,\\quad R:|t|\\geq-t_{\\alpha/2}(n_1+n_2-2)$$\n",
    "\n",
    "> **모평균의 차($\\mu_1-\\mu_2$)에 대한 추론 (표본의 크기가 작고 두 모표준편차가 다를 때)**\n",
    ">\n",
    "> 모평균의 차($\\mu_1-\\mu_2$)에 대한 $100(1-\\alpha)$% 신뢰구간은 근사적으로 $$(\\bar{X}-\\bar{Y})\\pm t*_{\\alpha/2}(n_1+n_2-2)\\times\\sqrt{\\frac{s^2_1}{n_1}+\\frac{s^2_2}{n_2}}$$\n",
    "> 이때 t\\*의 자유도는 $(n_1-1), (n_2-1)$ 중 작은 값이다\n",
    "> 가설 $H_0:\\mu_1-\\mu_2=\\delta_0$에 대한 검정통계량은 다음과 같다. $$t*=\\frac{(\\bar{X}-\\bar{Y})-\\delta_0}{\\sqrt{\\frac{s^2_1}{n_1}+\\frac{s^2_2}{n_2}}} $$\n",
    "> 이 검정통계량은 $H_0$이 맞을 때 근사적으로 자유도가 $(n_1-1),\\ (n_2-1)$중 작은 값인 t분포를 따른다. 보수적인 성질을 갖게 되어, 신뢰구간이 넓어지고 실제 신뢰도가 $100(1-\\alpha)$% 이상이 된다. 검정의 경우 기각역이 좁아지는 경향으로 실제 유의수준이 $\\alpha$이하가 되어 귀무가설을 기각하지 못할 가능성이 높게 된다\n"
   ]
  },
  {
   "cell_type": "code",
   "execution_count": 32,
   "id": "2833a862",
   "metadata": {},
   "outputs": [
    {
     "data": {
      "text/plain": [
       "2.888888888888889"
      ]
     },
     "execution_count": 32,
     "metadata": {},
     "output_type": "execute_result"
    }
   ],
   "source": [
    "# example 5\n",
    "data1 = [8,5,7,6,9,7]\n",
    "data2 = [2,6,4,7,6]\n",
    "\n",
    "sum_square1 = sum(list(map(lambda x : np.power(x,2),data1)))\n",
    "sum_square2 = sum(list(map(lambda x : np.power(x,2),data2)))\n",
    "\n",
    "s2_p=((sum_square1 - len(data1)*np.power(np.mean(data1),2))+(sum_square2 - len(data2)*np.power(np.mean(data2),2)))/(len(data1)+len(data2)-2)\n",
    "s2_p"
   ]
  },
  {
   "cell_type": "code",
   "execution_count": 50,
   "id": "ada8fff4",
   "metadata": {},
   "outputs": [
    {
     "data": {
      "text/plain": [
       "[-4.004393045812584, 9.81208535350489]"
      ]
     },
     "execution_count": 50,
     "metadata": {},
     "output_type": "execute_result"
    }
   ],
   "source": [
    "# example 6\n",
    "nature_data = [44,44,56,46,47,38,58,53,49,35,46,30,41]\n",
    "artif_data = [35,47,55,29,40,39,32,41,42,57,51,39]\n",
    "alpha = 0.05\n",
    "\n",
    "nature_bar = np.mean(nature_data)\n",
    "artif_bar = np.mean(artif_data)\n",
    "nature_std = np.std(nature_data, ddof=1)\n",
    "artif_std = np.std(artif_data, ddof=1)\n",
    "\n",
    "s_p = np.sqrt(((len(artif_data)-1)*np.power(artif_std,2) + (len(nature_data)-1)*np.power(nature_std,2))/(len(artif_data)+len(nature_data)-2))\n",
    "t_alpha = stats.t.ppf(1-alpha/2, df=len(nature_data)+len(artif_data)-1)\n",
    "\n",
    "ci = [(nature_bar - artif_bar)-t_alpha*s_p*np.sqrt((1/len(nature_data)+1/len(artif_data))), (nature_bar - artif_bar)+t_alpha*s_p*np.sqrt((1/len(nature_data)+1/len(artif_data)))]\n",
    "ci\n"
   ]
  },
  {
   "cell_type": "code",
   "execution_count": 56,
   "id": "3cea3f74",
   "metadata": {},
   "outputs": [
    {
     "data": {
      "text/plain": [
       "0.8026988376793643"
      ]
     },
     "execution_count": 56,
     "metadata": {},
     "output_type": "execute_result"
    }
   ],
   "source": [
    "# example 7\n",
    "t_val = (nature_bar - artif_bar) / (s_p * np.sqrt(1/len(nature_data) + 1/len(artif_data))); t_val\n",
    "stats.t.cdf(t_val, df=len(nature_data)+len(artif_data)-2)"
   ]
  },
  {
   "cell_type": "code",
   "execution_count": 57,
   "id": "dc148d66",
   "metadata": {},
   "outputs": [
    {
     "data": {
      "text/plain": [
       "0.8598476654573151"
      ]
     },
     "execution_count": 57,
     "metadata": {},
     "output_type": "execute_result"
    }
   ],
   "source": [
    "# example 8\n",
    "n1 = 13 ; n2 = 11\n",
    "x_bar1 = 2.4 ; x_bar2 = 2.15\n",
    "s1 = 0.72 ; s2 = 0.35\n",
    "alpha = 0.05\n",
    "\n",
    "t_val = (x_bar1 - x_bar2) / np.sqrt((s1**2/n1)+(s2**2/n2))\n",
    "stats.t.cdf(t_val, df=n1+n2-2)"
   ]
  },
  {
   "cell_type": "code",
   "execution_count": 60,
   "id": "30a43bce",
   "metadata": {},
   "outputs": [
    {
     "name": "stdout",
     "output_type": "stream",
     "text": [
      "-7.477535561851235 -2.1224644381487585\n"
     ]
    }
   ],
   "source": [
    "# prob 2.2\n",
    "n1 = 90; n2 = 100\n",
    "bar1 = 76.4; bar2 = 81.2\n",
    "s1 = 8.2; s2 = 7.6\n",
    "alpha = 0.02\n",
    "\n",
    "z_alpha = stats.norm.ppf(1-alpha/2)\n",
    "\n",
    "print((bar1-bar2)-z_alpha * np.sqrt(s1**2/n1 + s2**2/n2), (bar1-bar2)+z_alpha * np.sqrt(s1**2/n1 + s2**2/n2))"
   ]
  },
  {
   "cell_type": "code",
   "execution_count": 61,
   "id": "03fb5639",
   "metadata": {},
   "outputs": [
    {
     "name": "stdout",
     "output_type": "stream",
     "text": [
      "-38.87784026658479 0.8778402665847906\n"
     ]
    }
   ],
   "source": [
    "# prob 2.4 \n",
    "n1 = 79 ; n2 = 62\n",
    "bar1 = 109; bar2 = 128\n",
    "s1 = 46.2 ; s2 = 53.4\n",
    "alpha = 0.02\n",
    "\n",
    "z_alpha = stats.norm.ppf(1-alpha/2)\n",
    "\n",
    "print((bar1-bar2)-z_alpha * np.sqrt(s1**2/n1 + s2**2/n2), (bar1-bar2)+z_alpha * np.sqrt(s1**2/n1 + s2**2/n2))"
   ]
  },
  {
   "cell_type": "code",
   "execution_count": 63,
   "id": "07f62919",
   "metadata": {},
   "outputs": [
    {
     "data": {
      "text/plain": [
       "0.20892341873493436"
      ]
     },
     "execution_count": 63,
     "metadata": {},
     "output_type": "execute_result"
    }
   ],
   "source": [
    "# prob 2.6\n",
    "# 1\n",
    "n1 = 66; n2 = 38\n",
    "bar1 = 305 ; bar2 = 311\n",
    "s1 = 29 ; s2 = 40\n",
    "alpha = 0.01\n",
    "\n",
    "z_val = (bar1 - bar2) / np.sqrt(s1**2/n1 + s2**2/n2)\n",
    "stats.norm.cdf(z_val)"
   ]
  },
  {
   "cell_type": "code",
   "execution_count": 68,
   "id": "63583606",
   "metadata": {},
   "outputs": [
    {
     "name": "stdout",
     "output_type": "stream",
     "text": [
      "-25.07639207780786 13.07639207780786\n"
     ]
    }
   ],
   "source": [
    "# 2\n",
    "z_alpha = stats.norm.ppf(1-alpha/2)\n",
    "print((bar1-bar2)-z_alpha * np.sqrt(s1**2/n1 + s2**2/n2), (bar1-bar2)+z_alpha * np.sqrt(s1**2/n1 + s2**2/n2))"
   ]
  },
  {
   "cell_type": "code",
   "execution_count": 13,
   "id": "08346db4",
   "metadata": {},
   "outputs": [
    {
     "name": "stdout",
     "output_type": "stream",
     "text": [
      "-38.18183196260197\n"
     ]
    },
    {
     "data": {
      "text/plain": [
       "0.0"
      ]
     },
     "execution_count": 13,
     "metadata": {},
     "output_type": "execute_result"
    }
   ],
   "source": [
    "# prob 2.8\n",
    "# bar1 > bar2 ; bar1 - bar2 > 0\n",
    "n1 = 75 ; n2 = 64\n",
    "bar1 = 130000 ; bar2 = 1200000\n",
    "s1 = 170000 ; s2 = 160000\n",
    "alpha = 0.05\n",
    "\n",
    "z_val = (bar1 - bar2) / np.sqrt(s1**2/n1 + s2**2/n2); print(z_val)\n",
    "stats.norm.cdf(z_val)"
   ]
  },
  {
   "cell_type": "code",
   "execution_count": 16,
   "id": "a8729af5",
   "metadata": {},
   "outputs": [
    {
     "name": "stdout",
     "output_type": "stream",
     "text": [
      "1.6448536269514729\n",
      "3.1098242423786364\n"
     ]
    },
    {
     "data": {
      "text/plain": [
       "0.9990640065139811"
      ]
     },
     "execution_count": 16,
     "metadata": {},
     "output_type": "execute_result"
    }
   ],
   "source": [
    "# prob 2.10\n",
    "# bar1 < bar2 ? \n",
    "n1 = 48 ; bar1 = 7.92 ; s1 = 3.45\n",
    "n2 = 38 ; bar2 = 5.8 ; s2 = 2.87\n",
    "alpha = 0.05\n",
    "\n",
    "z_alpha = -stats.norm.ppf(alpha) ; print(z_alpha)\n",
    "z_val = (bar1 - bar2) / np.sqrt(s1**2/n1 + s2**2/n2); print(z_val)\n",
    "stats.norm.cdf(z_val)"
   ]
  },
  {
   "cell_type": "code",
   "execution_count": 18,
   "id": "715807cb",
   "metadata": {},
   "outputs": [
    {
     "data": {
      "text/plain": [
       "[10.278343152337277, 13.641656847662725]"
      ]
     },
     "execution_count": 18,
     "metadata": {},
     "output_type": "execute_result"
    }
   ],
   "source": [
    "# prob 2.12\n",
    "# - 모집단이 정규분포\n",
    "# 1 : bar1 - bar2 95% ci?\n",
    "n1 = 9; n2 = 6\n",
    "bar1 = 16.18 ; bar2 = 4.22\n",
    "s1 = 1.54 ; s2 = 1.37\n",
    "alpha = 0.05\n",
    "\n",
    "s_p = np.sqrt(((n1-1)*s1**2 + (n2-1)*s2**2)/(n1+n2-2))\n",
    "t_alpha = stats.t.ppf(1-alpha/2, df=n1+n2-2)\n",
    "ci = [(bar1-bar2)-t_alpha * s_p * np.sqrt(1/n1+1/n2), (bar1-bar2)+t_alpha * s_p * np.sqrt(1/n1+1/n2)]\n",
    "ci"
   ]
  },
  {
   "cell_type": "code",
   "execution_count": 20,
   "id": "66e791e0",
   "metadata": {},
   "outputs": [
    {
     "name": "stdout",
     "output_type": "stream",
     "text": [
      "2.5179468525631274\n",
      "2.6503088378527013\n"
     ]
    },
    {
     "data": {
      "text/plain": [
       "0.0764828089830108"
      ]
     },
     "execution_count": 20,
     "metadata": {},
     "output_type": "execute_result"
    }
   ],
   "source": [
    "# 2\n",
    "# H0 : bar1 - bar2 = 10 / H1 : bar1-bar2>10\n",
    "alpha = 0.01\n",
    "\n",
    "t_val = (bar1-bar2-10) / (s_p * np.sqrt(1/n1 + 1/n2)); print(t_val)\n",
    "t_alpha = stats.t.ppf(1-alpha, df=n1+n2-2); print(t_alpha)\n",
    "stats.t.cdf(1-t_val, df=n1+n2-2)"
   ]
  },
  {
   "cell_type": "code",
   "execution_count": 49,
   "id": "f04bad64",
   "metadata": {},
   "outputs": [
    {
     "data": {
      "text/plain": [
       "[-3.411980729699348, 26.411980729699348]"
      ]
     },
     "execution_count": 49,
     "metadata": {},
     "output_type": "execute_result"
    }
   ],
   "source": [
    "# prob 2.14\n",
    "# 두 모집단의 표준편차는 다르다\n",
    "# 1 : bar1 - bar2, 98% ci\n",
    "n1 = 7 ; n2 = 8\n",
    "bar1 = 86.2 ; bar2 = 74.7\n",
    "s1 = 14.2 ; s2 = 5.5\n",
    "alpha = 0.02\n",
    "\n",
    "t_alpha = stats.t.ppf(1-alpha, df=n1-1)\n",
    "# t_alpha = stats.norm.ppf(1-alpha)\n",
    "\n",
    "ci = [(bar1-bar2) - t_alpha * np.sqrt(s1**2/n1 + s2**2/n2), (bar1-bar2) + t_alpha * np.sqrt(s1**2/n1+s2**2/n2)]\n",
    "ci"
   ]
  },
  {
   "cell_type": "code",
   "execution_count": 32,
   "id": "ee423316",
   "metadata": {},
   "outputs": [
    {
     "data": {
      "text/plain": [
       "[-3.629286152076144, 26.629286152076144]"
      ]
     },
     "execution_count": 32,
     "metadata": {},
     "output_type": "execute_result"
    }
   ],
   "source": [
    "# case t-dist\n",
    "t_alpha = stats.t.ppf(1-alpha/2, df=n1+n2-2)\n",
    "# t_alpha = stats.norm.ppf(1-alpha)\n",
    "\n",
    "ci = [(bar1-bar2) - t_alpha * np.sqrt(s1**2/n1 + s2**2/n2), (bar1-bar2) + t_alpha * np.sqrt(s1**2/n1+s2**2/n2)]\n",
    "ci"
   ]
  },
  {
   "cell_type": "code",
   "execution_count": 33,
   "id": "bd46a017",
   "metadata": {},
   "outputs": [
    {
     "data": {
      "text/plain": [
       "[-2.843779637510451, 25.84377963751045]"
      ]
     },
     "execution_count": 33,
     "metadata": {},
     "output_type": "execute_result"
    }
   ],
   "source": [
    "# case std same\n",
    "s_p = np.sqrt(((n1-1)*s1**2 + (n2-1)*s2**2)/(n1+n2-2))\n",
    "t_alpha = stats.t.ppf(1-alpha/2, df=n1+n2-2)\n",
    "\n",
    "ci = [(bar1-bar2) - t_alpha * s_p * np.sqrt(1/n1 + 1/n2), (bar1-bar2) + t_alpha * s_p * np.sqrt(1/n1 + 1/n2)]\n",
    "ci"
   ]
  },
  {
   "cell_type": "code",
   "execution_count": 36,
   "id": "3ff38ac1",
   "metadata": {},
   "outputs": [
    {
     "data": {
      "text/plain": [
       "1.1235252918598552e-06"
      ]
     },
     "execution_count": 36,
     "metadata": {},
     "output_type": "execute_result"
    }
   ],
   "source": [
    "# 2. H0 : bar1-bar2 = 20,  H1 : bar1-bar2 < 20?\n",
    "alpha = 0.025\n",
    "\n",
    "t_val = (bar1-bar2) - 20 / (np.sqrt(s1**2/n1+s2**2/n2))\n",
    "stats.t.cdf(-t_val, df=n1+n2-2)"
   ]
  },
  {
   "cell_type": "code",
   "execution_count": 39,
   "id": "350fab01",
   "metadata": {},
   "outputs": [
    {
     "name": "stdout",
     "output_type": "stream",
     "text": [
      "3.0118034995258207\n"
     ]
    },
    {
     "data": {
      "text/plain": [
       "0.998701496757293"
      ]
     },
     "execution_count": 39,
     "metadata": {},
     "output_type": "execute_result"
    }
   ],
   "source": [
    "# prob 2.16\n",
    "n1 = 52 ; n2= 67\n",
    "bar1 = 2.52 ; bar2 = 1.63\n",
    "s1 = 1.84 ; s2 = 1.22\n",
    "# bar1 - bar2 > 0?\n",
    "z_val = (bar1-bar2) / np.sqrt(s1**2/n1 + s2**2/n2); print(z_val)\n",
    "stats.norm.cdf(z_val)"
   ]
  },
  {
   "cell_type": "code",
   "execution_count": 48,
   "id": "cb58130d",
   "metadata": {},
   "outputs": [
    {
     "data": {
      "text/plain": [
       "[2.648095168665095, 12.9519048313349]"
      ]
     },
     "execution_count": 48,
     "metadata": {},
     "output_type": "execute_result"
    }
   ],
   "source": [
    "# prob 2.18\n",
    "n1 = 20; n2 = 10\n",
    "bar1 = 46.3 ; bar2 = 38.5\n",
    "s1 = 5 ; s2 = 5.8\n",
    "alpha = 0.02\n",
    "\n",
    "# 98% ci?\n",
    "# 모집단 정규분포 가정 & 모 표준편차는 다름\n",
    "\n",
    "t_alpha = stats.t.ppf(1-alpha,df=n2-1)\n",
    "ci = [(bar1-bar2) - t_alpha * np.sqrt(s1**2/n1 + s2**2/n2), (bar1-bar2) + t_alpha * np.sqrt(s1**2/n1 + s2**2/n2)]\n",
    "ci"
   ]
  },
  {
   "cell_type": "code",
   "execution_count": 68,
   "id": "af2eaae7",
   "metadata": {},
   "outputs": [
    {
     "name": "stdout",
     "output_type": "stream",
     "text": [
      "-1.8331129326536337 -1.3274567757165552\n"
     ]
    },
    {
     "data": {
      "text/plain": [
       "[1.2189471866797383, -7.618947186679737]"
      ]
     },
     "execution_count": 68,
     "metadata": {},
     "output_type": "execute_result"
    }
   ],
   "source": [
    "# prob 2.20\n",
    "# 1. bar1 - bar2 < 0?\n",
    "n1 = 10 ; n2=10\n",
    "data1 = [15,20,11,23,16,21,18,16,27,24]\n",
    "data2 = [23,31,13,19,23,17,28,16,25,28]\n",
    "bar1 = np.mean(data1); s1 = np.std(data1, ddof=1)\n",
    "bar2 = np.mean(data2); s2 = np.std(data2, ddof=1)\n",
    "alpha = 0.05\n",
    "\n",
    "# 2.\n",
    "# print(bar1-bar2)\n",
    "t_alpha = stats.t.ppf(alpha,df=n2-1)\n",
    "t_val = (bar1-bar2)/np.sqrt(s1**2/n1+s2**2/n2)\n",
    "print(t_alpha, t_val)\n",
    "ci = [(bar1-bar2) - t_alpha * np.sqrt(s1**2/n1 + s2**2/n2), (bar1-bar2) + t_alpha * np.sqrt(s1**2/n1 + s2**2/n2)]\n",
    "ci"
   ]
  },
  {
   "cell_type": "code",
   "execution_count": 65,
   "id": "420b923b",
   "metadata": {},
   "outputs": [
    {
     "name": "stdout",
     "output_type": "stream",
     "text": [
      "-2.0150483726691575 -2.5747873451362637\n"
     ]
    }
   ],
   "source": [
    "# prob 2.22\n",
    "n1 = 6 ; n2 = 6\n",
    "bar1 = 41.8 ; bar2 = 60.8\n",
    "s1 = 7.6 ; s2 = 16.4\n",
    "\n",
    "# 모집단 정규본포 & 모집단의 모 표준편차 다름\n",
    "# bar1 - bar2 = 0 or bar1 - bar2 < 0\n",
    "\n",
    "alpha = 0.05\n",
    "t_alpha = stats.t.ppf(alpha, df=n1-1)\n",
    "t_val = (bar1-bar2)/np.sqrt(s1**2/n1+s2**2/n2)\n",
    "print(t_alpha, t_val)"
   ]
  },
  {
   "cell_type": "code",
   "execution_count": 81,
   "id": "7cf3940c",
   "metadata": {},
   "outputs": [
    {
     "data": {
      "text/plain": [
       "[-6.200288157315095, 2.4002881573150976]"
      ]
     },
     "execution_count": 81,
     "metadata": {},
     "output_type": "execute_result"
    }
   ],
   "source": [
    "# prob 2.24\n",
    "# sample means subtraction's 98% confidence interval\n",
    "# prep : both populations are normally distributed\n",
    "# 1\n",
    "n1 = 15; n2 = 11\n",
    "bar1 = 28.1 ; bar2 = 30\n",
    "s1 = 3.6 ; s2 = 5.2\n",
    "alpha = 0.02\n",
    "\n",
    "t_alpha = stats.t.ppf(1-alpha, df=min(n1,n2)-1)\n",
    "ci = [(bar1-bar2)-t_alpha*np.sqrt(s1**2/n1 + s2**2/n2),\n",
    "     (bar1-bar2)+t_alpha*np.sqrt(s1**2/n1 + s2**2/n2)]\n",
    "ci"
   ]
  },
  {
   "cell_type": "code",
   "execution_count": 77,
   "id": "6132d552",
   "metadata": {},
   "outputs": [
    {
     "data": {
      "text/plain": [
       "[8.704628770504883, 31.295371229495117]"
      ]
     },
     "execution_count": 77,
     "metadata": {},
     "output_type": "execute_result"
    }
   ],
   "source": [
    "# 2\n",
    "# normal dist due to large sample size\n",
    "n1 = 130; n2 = 96\n",
    "bar1 = 410 ; bar2 = 390\n",
    "s1 = 26 ; s2 = 42\n",
    "alpha = 0.02\n",
    "\n",
    "z_alpha = stats.norm.ppf(1-alpha/2)\n",
    "ci = [(bar1-bar2)-z_alpha*np.sqrt(s1**2/n1 + s2**2/n2),\n",
    "     (bar1-bar2)+z_alpha*np.sqrt(s1**2/n1 + s2**2/n2)]\n",
    "ci"
   ]
  },
  {
   "cell_type": "code",
   "execution_count": 79,
   "id": "7b3e1065",
   "metadata": {},
   "outputs": [
    {
     "data": {
      "text/plain": [
       "[-0.31540320857508075, 0.17540320857508063]"
      ]
     },
     "execution_count": 79,
     "metadata": {},
     "output_type": "execute_result"
    }
   ],
   "source": [
    "# 3\n",
    "# t dist\n",
    "n1 = 12; n2 = 14\n",
    "bar1 = 1.25 ; bar2 = 1.32\n",
    "s1 = 0.082 ; s2 = 0.326\n",
    "alpha = 0.02\n",
    "\n",
    "t_alpha = stats.t.ppf(1-alpha/2, df=min(n1,n2)-1)\n",
    "ci = [(bar1-bar2)-t_alpha*np.sqrt(s1**2/n1 + s2**2/n2),\n",
    "     (bar1-bar2)+t_alpha*np.sqrt(s1**2/n1 + s2**2/n2)]\n",
    "ci"
   ]
  },
  {
   "cell_type": "code",
   "execution_count": 82,
   "id": "771f3212",
   "metadata": {},
   "outputs": [
    {
     "data": {
      "text/plain": [
       "[7.3602502709123, 18.83974972908769]"
      ]
     },
     "execution_count": 82,
     "metadata": {},
     "output_type": "execute_result"
    }
   ],
   "source": [
    "# 4\n",
    "# normal dist due to large sample size\n",
    "n1 = 60; n2 = 50\n",
    "bar1 = 75.6 ; bar2 = 62.5\n",
    "s1 = 17.6 ; s2 = 6.8\n",
    "alpha = 0.02\n",
    "\n",
    "z_alpha = stats.norm.ppf(1-alpha/2)\n",
    "ci = [(bar1-bar2)-z_alpha*np.sqrt(s1**2/n1 + s2**2/n2),\n",
    "     (bar1-bar2)+z_alpha*np.sqrt(s1**2/n1 + s2**2/n2)]\n",
    "ci"
   ]
  },
  {
   "cell_type": "markdown",
   "id": "aefd6655",
   "metadata": {},
   "source": [
    "## 12.3 짝비교\n",
    "- 처리효과 비교 : 반응값들의 차이가 처리효과 차이에 의해서만 발생 필요 => 실제로 만족시키기 어려움, 차라리 다양한 실험단위를 대상으로 비교 필요\n",
    "- 짝비교 (matched pair comparisons): 실험단위들을 짝지어, 각각의 쌍으로 만듬. \n",
    "    - 같은 쌍의 단위는 서로 비슷 & 다른 쌍의 실험단위와는 서로 다른 조건\n",
    "    - **각 쌍에서 처리효과를 비교함으로써 실험단위들이 비슷해야한다는 조건을 만족시킬 뿐 만 아니라 각 쌍들의 조건을 다르게 함으로써 다양한 조건의 실험단위를 대상으로 비교해야한다는 조건 만족**\n",
    "    ex) 두 치료제 모두 나이에 따라 치료효과의 차이가 많다. 어린 환자쌍에서는 $X_i$, $Y_i$ 모두 작음. $X_i, Y_i$는 높은 상관관계, 각 쌍의 나이가 서로 비슷하므로 나이에 의한 차이를 어느정도 제거 가능하고(다양한 나이의 사람들을 임의로 나누어 비교하면 나누어진 그룸의 나이 분포에 따라 반응 값의 차이가 많이 날 것), 두 치료제의 치료효과 잘 얻을 수 있음 => 상관관계 비슷한 것 끼리 짝지어 전체적인 변화의 폭을 줄임\n",
    "    \n",
    "> **평균 차(처리효과의 차) $\\delta$에 대한 추론 (표본의 크기가 작을 때)**\n",
    ">\n",
    ">  두 반응값의 차 $D_1, D_2, \\dots, D_n$을 $N(\\delta, \\sigma_D^2)$로부터 추출한 표본이라고 하자. 이때 표본의 평균과 표준편차를 구하면 다음과 같다. $$\\bar{D}=\\frac{1}{n}\\sum^n_{i=1}D_i,\\quad s^2_D=\\frac{\\sum^n_{i=1}(D_i-\\bar{D})^2}{n-1}$$\n",
    ">(1) 모평균 $\\delta$에 대한 $100(1-\\alpha)$% 신뢰구간은 다음과 같이 구할 수 있다 $$\\bar{D}\\pm t_{\\alpha/2}(n-1)\\times s_D/\\sqrt{n}$$\n",
    ">(2) 귀무가설 $H_0:\\delta=\\delta_0$에 대한 검정통계량은 $$t=\\frac{\\bar{D}-\\delta_0}{s_D/\\sqrt{n}}$$\n",
    ">이고, $H_0$이 맞을 때, 자유도가 (n-1)인 t분포를 따른다.\n",
    "\n",
    "* 표본의 크기가 크다면 정규분포 이용\n",
    "- 각 쌍마다 두 가지 처리가 미리 정해져 있지 않아서(처리가 확실히 정해져 있지 않아서), 어떻게 배정할 것인가가 과제가 된다면, 확률적으로 환자에게 여러 조건들이 한 쪽의 처리에만 영향을 주지 않도록 무작위로 배정 : **랜덤화**"
   ]
  },
  {
   "cell_type": "code",
   "execution_count": 115,
   "id": "8a696074",
   "metadata": {},
   "outputs": [],
   "source": [
    "def get_std(d):\n",
    "    result = 0\n",
    "    for i in range(len(d)):\n",
    "        temp = (d[i] - np.mean(d))**2\n",
    "        result = result + temp\n",
    "\n",
    "    return np.sqrt(result/(len(d)-1))\n"
   ]
  },
  {
   "cell_type": "code",
   "execution_count": 83,
   "id": "c4095ceb",
   "metadata": {},
   "outputs": [
    {
     "data": {
      "text/plain": [
       "[2.7220831430525037, 14.877916856947497]"
      ]
     },
     "execution_count": 83,
     "metadata": {},
     "output_type": "execute_result"
    }
   ],
   "source": [
    "# example 9\n",
    "# 1\n",
    "alpha = 0.05\n",
    "d = [2,8,10,6,18,10,4,26,18,-8,0,32,0,-4,10]\n",
    "bar = np.mean(d)\n",
    "s = np.std(d, ddof=1)\n",
    "\n",
    "t_alpha = stats.t.ppf(1-alpha/2, df=len(d)-1)\n",
    "ci = [bar-t_alpha*s/np.sqrt(len(d)), bar+t_alpha*s/np.sqrt(len(d))]\n",
    "ci"
   ]
  },
  {
   "cell_type": "code",
   "execution_count": 88,
   "id": "18adffa5",
   "metadata": {},
   "outputs": [
    {
     "name": "stdout",
     "output_type": "stream",
     "text": [
      "3.1053604874661094\n",
      "2.624494067560231\n"
     ]
    },
    {
     "data": {
      "text/plain": [
       "0.9961252819466729"
      ]
     },
     "execution_count": 88,
     "metadata": {},
     "output_type": "execute_result"
    }
   ],
   "source": [
    "# 2\n",
    "# H0 : d = 0; H1 : d > 0\n",
    "alpha = 0.01\n",
    "n = len(d)\n",
    "t_val = (bar)/(s/np.sqrt(n)); print(t_val)\n",
    "t_alpha = stats.t.ppf(1-alpha, df=n-1) ; print(t_alpha)\n",
    "stats.t.cdf(t_val,df=n-1)"
   ]
  },
  {
   "cell_type": "code",
   "execution_count": 95,
   "id": "9c187711",
   "metadata": {},
   "outputs": [
    {
     "data": {
      "text/plain": [
       "0.4662524041201567"
      ]
     },
     "execution_count": 95,
     "metadata": {},
     "output_type": "execute_result"
    }
   ],
   "source": [
    "# prob 3.2\n",
    "# 1\n",
    "x = [5,3,7,5,8,7] ; y=[4,2,4,6,8,9]\n",
    "d = np.subtract(x,y)\n",
    "\n",
    "t_val = np.mean(d)/(np.std(d, ddof=1)/np.sqrt(len(d)))\n",
    "t_val"
   ]
  },
  {
   "cell_type": "code",
   "execution_count": 96,
   "id": "5ed7d691",
   "metadata": {},
   "outputs": [
    {
     "data": {
      "text/plain": [
       "5"
      ]
     },
     "execution_count": 96,
     "metadata": {},
     "output_type": "execute_result"
    }
   ],
   "source": [
    "# 2\n",
    "len(d)-1"
   ]
  },
  {
   "cell_type": "code",
   "execution_count": 97,
   "id": "f88bdb57",
   "metadata": {},
   "outputs": [
    {
     "name": "stdout",
     "output_type": "stream",
     "text": [
      "2.868661559608736\n",
      "1.9431802803927816\n"
     ]
    }
   ],
   "source": [
    "# prob 3.6\n",
    "alpha = 0.05\n",
    "yes = [68,75,62,86,52,46,72]\n",
    "no = [61, 69, 64, 76, 52, 38, 68]\n",
    "d = np.subtract(yes, no)\n",
    "\n",
    "t_val = np.mean(d)/(np.std(d, ddof=1)/np.sqrt(len(d))) ; print(t_val)\n",
    "t_alpha = stats.t.ppf(1-alpha, df = len(d)-1) ; print(t_alpha)"
   ]
  },
  {
   "cell_type": "code",
   "execution_count": 121,
   "id": "4c7d2d90",
   "metadata": {},
   "outputs": [
    {
     "name": "stdout",
     "output_type": "stream",
     "text": [
      "3.0 5.2363671737633135\n"
     ]
    }
   ],
   "source": [
    "# prob 3.8\n",
    "yes = [35, 48, 65, 33, 61, 54, 49, 37, 58, 65]\n",
    "no = [33, 40, 55, 41, 62, 54, 40, 35, 59, 56]\n",
    "d = np.subtract(yes, no)\n",
    "alpha = 0.02\n",
    "\n",
    "bar = np.mean(d) ; s_d = np.std(d, ddof=1)\n",
    "t_alpha = stats.t.ppf(1-alpha/2, df=len(d)-1)\n",
    "\n",
    "print(bar, t_alpha*s_d/np.sqrt(len(d)))"
   ]
  },
  {
   "cell_type": "code",
   "execution_count": 126,
   "id": "2db0ef1f",
   "metadata": {},
   "outputs": [
    {
     "name": "stdout",
     "output_type": "stream",
     "text": [
      "1.4855627054164149 2.3060041350333704\n",
      "0.9121506409446661\n"
     ]
    }
   ],
   "source": [
    "# prob 3.10\n",
    "a = [90, 86, 72, 65, 44, 52, 46, 38, 43]\n",
    "b = [85, 87, 70, 62, 44, 53, 42, 35, 46]\n",
    "d = np.subtract(a, b)\n",
    "alpha = 0.05\n",
    "n = len(d) ; s = np.std(d, ddof=1)\n",
    "\n",
    "t_val = np.mean(d)/(s / np.sqrt(n))\n",
    "t_alpha = stats.t.ppf(1-alpha/2,df=n-1)\n",
    "print(t_val, t_alpha)\n",
    "print(stats.t.cdf(t_val, df=n-1))"
   ]
  },
  {
   "cell_type": "code",
   "execution_count": 127,
   "id": "b9e9a78d",
   "metadata": {},
   "outputs": [
    {
     "data": {
      "text/plain": [
       "0.799560732754004"
      ]
     },
     "execution_count": 127,
     "metadata": {},
     "output_type": "execute_result"
    }
   ],
   "source": [
    "# prob 3.12\n",
    "# 1\n",
    "a = [23, 39, 19, 28, 42, 43, 33, 29]\n",
    "b = [20, 21, 40, 34, 33, 18, 33, 21]\n",
    "d = np.subtract(a,b)\n",
    "n = len(d); s=np.std(d, ddof=1)\n",
    "alpha = 0.05\n",
    "\n",
    "t_val = np.mean(d) / (s/np.sqrt(n))\n",
    "stats.t.cdf(t_val, df=n-1)"
   ]
  },
  {
   "cell_type": "markdown",
   "id": "b1e0f356",
   "metadata": {},
   "source": [
    "## 12.4 두 모비율 차에 대한 추론\n",
    "- 두 모집단의 비율 $p_1-p_2$=0에 대한 가설검정\n",
    "$$\\hat{p_1}=\\frac{X}{n_1}\\sim N(p_1,\\ \\frac{p_1(1-p_1)}{n_1}),\\quad \\hat{p_2}=\\frac{X}{n_2}\\sim N(p_2,\\ \\frac{p_2(1-p_2)}{n_2})$$\n",
    "\n",
    "- 두 표본이 서로 독립이므로, 정규분포의 성질을 이용하면 평균이 $(p_1-p_2)$, 분산이 $p_1(1-p_1)/n_1+p_2(1-p_2)/n_2$인 정규분포를 따른다.\n",
    "$$Z=\\frac{(\\hat{p_1}-\\hat{p_2})-(p_1-p_2)}{\\sqrt{\\frac{p_1(1-p_1)}{n_1}+\\frac{p_2(1-p_2}{n_2}}}\\sim\\ n(0,\\ 1)$$\n",
    "\n",
    "> **모비율의 차 $(p_1-p_2)$에 대한 신뢰구간 (표본의 크기가 클 때)** \n",
    ">\n",
    ">$(p_1-p_2)$에 대한 신뢰구간은 $(추정량)\\pm (z값) \\times (표준오차)$의 식에 따라 $$(\\hat{p_1}-\\hat{p_2})\\pm z_{\\alpha/2}\\times \\sqrt{\\frac{p_1(1-p_1)}{n_1}+\\frac{p_2(1-p_2)}{n_2}}$$\n",
    "\n",
    "-  표본의 크기가 클 때 두 모비율이 같은가 검정, H0:$p_1=p_2$ $$(\\hat{p_1}-\\hat{p_2})\\sim N(0,\\ p(1-p)(\\frac{1}{n_1}+\\frac{1}{n_2}))$$\n",
    "    - p는 모비율이 같은 두 모집단의 공통 비율 : $$\\hat{p}=\\frac{X+Y}{n_1+n_2}$$\n",
    "    \n",
    "> **$H_0:p_1=p_2$에 대한 검정 (표본의 크기가 클 때)**    \n",
    "> $$ Z=\\frac{(\\hat{p_1}-\\hat{p_2})}{\\sqrt{\\hat{p}(1-\\hat{p})}\\sqrt{\\frac{1}{n_1}+\\frac{1}{n_2}}} $$\n",
    ">$\\hat{p}=\\frac{X+Y}{n_1+n_2}$는 귀무가설 하에서 공통비율 p추정량\n",
    ">\n",
    ">각 대립가설에 대하여 유의수준 $\\alpha$를 갖는 기각역은 다음과 같다.\n",
    ">\n",
    "> $$H_1:p_1>p_2일 때,\\quad R\\ :\\ Z\\geq z_{\\alpha} \\\\ H_1:p_1<p_2일 때,\\quad R\\ :\\ Z\\leq -z_{\\alpha} \\\\ \n",
    "H_1:p_1\\neq p_2일 때,\\quad R\\ :\\ |Z|\\geq z_{\\alpha/2}$$"
   ]
  },
  {
   "cell_type": "code",
   "execution_count": 132,
   "id": "f2f0be32",
   "metadata": {},
   "outputs": [
    {
     "name": "stdout",
     "output_type": "stream",
     "text": [
      "0.040000000000000036 0.08659403915971892\n"
     ]
    }
   ],
   "source": [
    "# example 10\n",
    "n1 = 100 ; n2 = 150\n",
    "p1 = 88/100 ; p2 = 126/150 ; diff = p1-p2\n",
    "alpha = 0.05\n",
    "z_alpha = stats.norm.ppf(1-alpha/2)\n",
    "\n",
    "print(diff, z_alpha * np.sqrt(p1*(1-p1)/n1 + p2*(1-p2)/n2))"
   ]
  },
  {
   "cell_type": "code",
   "execution_count": 149,
   "id": "8a926eb7",
   "metadata": {},
   "outputs": [
    {
     "name": "stdout",
     "output_type": "stream",
     "text": [
      "0.8825056370227606\n",
      "1.6448536269514722\n",
      "0.8112482836210018\n"
     ]
    }
   ],
   "source": [
    "# example 11\n",
    "# H0 : p1=p2\n",
    "p = (p1*n1+p2*n2)/(n1+n2)\n",
    "z_val = (p1-p2)/(np.sqrt(p*(1-p))*np.sqrt(1/n1+1/n2)); print(z_val)\n",
    "z_alpha = stats.norm.ppf(1-alpha); print(z_alpha)\n",
    "print(stats.norm.cdf(z_val))"
   ]
  },
  {
   "cell_type": "code",
   "execution_count": 153,
   "id": "08582fe0",
   "metadata": {},
   "outputs": [
    {
     "name": "stdout",
     "output_type": "stream",
     "text": [
      "4.685921324041449 1.959963984540054\n"
     ]
    }
   ],
   "source": [
    "# prob 4.2\n",
    "# 1\n",
    "n1 = 62+38 ; n2 = 29+71\n",
    "p1 = 62/n1 ; p2 = 29/n2\n",
    "alpha = 0.05\n",
    "\n",
    "p = (p1*n1+p2*n2)/(n1+n2)\n",
    "z_val = (p1-p2)/(np.sqrt(p * (1-p)) * np.sqrt(1/n1+1/n2))\n",
    "z_alpha = stats.norm.ppf(1-alpha/2)\n",
    "print(z_val, z_alpha)"
   ]
  },
  {
   "cell_type": "code",
   "execution_count": 154,
   "id": "48a525e0",
   "metadata": {},
   "outputs": [
    {
     "name": "stdout",
     "output_type": "stream",
     "text": [
      "0.33\n",
      "0.13023072100454852\n"
     ]
    }
   ],
   "source": [
    "# 2\n",
    "# p1 - p2, 95% CI\n",
    "print(p1-p2)\n",
    "print(z_alpha * np.sqrt((p1*(1-p1)/n1)+(p2*(1-p2)/n2)))"
   ]
  },
  {
   "cell_type": "code",
   "execution_count": 156,
   "id": "a7a4cf3e",
   "metadata": {},
   "outputs": [
    {
     "name": "stdout",
     "output_type": "stream",
     "text": [
      "-2.505641985248842 -1.9599639845400545\n"
     ]
    }
   ],
   "source": [
    "# prob 4.3\n",
    "# 1 : p1-p2 < 0 ?\n",
    "n1 = 52+68 ; n2 = 88+62\n",
    "p1 = 52/n1 ; p2 = 88/n2\n",
    "alpha = 0.05\n",
    "\n",
    "p = (p1*n1+p2*n2)/(n1+n2)\n",
    "z_val = (p1-p2)/(np.sqrt(p * (1-p)) * np.sqrt(1/n1+1/n2))\n",
    "z_alpha = stats.norm.ppf(alpha/2)\n",
    "print(z_val, z_alpha)"
   ]
  },
  {
   "cell_type": "code",
   "execution_count": 158,
   "id": "b5bcfb11",
   "metadata": {},
   "outputs": [
    {
     "name": "stdout",
     "output_type": "stream",
     "text": [
      "-0.15333333333333332\n",
      "0.11862055821587053\n"
     ]
    }
   ],
   "source": [
    "# p1 - p2, 95% CI\n",
    "z_alpha = stats.norm.ppf(1-alpha/2)\n",
    "print(p1-p2)\n",
    "print(z_alpha * np.sqrt((p1*(1-p1)/n1)+(p2*(1-p2)/n2)))"
   ]
  },
  {
   "cell_type": "code",
   "execution_count": 161,
   "id": "737fcba7",
   "metadata": {},
   "outputs": [
    {
     "name": "stdout",
     "output_type": "stream",
     "text": [
      "0.43333333333333335\n",
      "0.08866094380932975\n",
      "0.5866666666666667\n",
      "0.07880402194230698\n"
     ]
    }
   ],
   "source": [
    "# prob 4.4\n",
    "print(p1)\n",
    "print(z_alpha * np.sqrt((p1*(1-p1)/n1)))\n",
    "\n",
    "print(p2)\n",
    "print(z_alpha * np.sqrt((p2*(1-p2)/n2)))"
   ]
  },
  {
   "cell_type": "code",
   "execution_count": 166,
   "id": "91a8978a",
   "metadata": {},
   "outputs": [
    {
     "name": "stdout",
     "output_type": "stream",
     "text": [
      "-0.45124716553287986\n",
      "0.22586156780611705\n"
     ]
    }
   ],
   "source": [
    "# prob 4.6\n",
    "n1 = 16+33 ; n2 = 42+12\n",
    "p1 = 16/n1 ; p2 = 42/n2\n",
    "alpha = 0.01\n",
    "\n",
    "z_alpha = stats.norm.ppf(1-alpha/2)\n",
    "print(p1-p2)\n",
    "print(z_alpha * np.sqrt((p1*(1-p1)/n1)+(p2*(1-p2)/n2)))"
   ]
  },
  {
   "cell_type": "code",
   "execution_count": 173,
   "id": "f22a4ef1",
   "metadata": {},
   "outputs": [
    {
     "name": "stdout",
     "output_type": "stream",
     "text": [
      "0.11414374189831486\n",
      "0.10624778040999466\n"
     ]
    }
   ],
   "source": [
    "# prob 4.8\n",
    "# p1 > p2 ?\n",
    "n1 = 21+85 ; n2 = 11+120\n",
    "p1 = 21/n1 ; p2 = 11/n2\n",
    "alpha = 0.01\n",
    "\n",
    "z_alpha = stats.norm.ppf(1-alpha)\n",
    "print(p1-p2)\n",
    "print(z_alpha * np.sqrt((p1*(1-p1)/n1)+(p2*(1-p2)/n2)))"
   ]
  },
  {
   "cell_type": "code",
   "execution_count": 174,
   "id": "eff055ac",
   "metadata": {},
   "outputs": [
    {
     "name": "stdout",
     "output_type": "stream",
     "text": [
      "0.30714285714285716\n",
      "0.19870090330991372\n"
     ]
    }
   ],
   "source": [
    "# prob 4.10\n",
    "# p1 neq p2 ?\n",
    "n1 = 34+6 ; n2 = 19+16\n",
    "p1 = 34/n1 ; p2 = 19/n2\n",
    "alpha = 0.05\n",
    "\n",
    "z_alpha = stats.norm.ppf(1-alpha/2)\n",
    "print(p1-p2)\n",
    "print(z_alpha * np.sqrt((p1*(1-p1)/n1)+(p2*(1-p2)/n2)))"
   ]
  },
  {
   "cell_type": "code",
   "execution_count": 178,
   "id": "61f028ac",
   "metadata": {},
   "outputs": [
    {
     "data": {
      "text/plain": [
       "1.0"
      ]
     },
     "execution_count": 178,
     "metadata": {},
     "output_type": "execute_result"
    }
   ],
   "source": [
    "# prob 4.11\n",
    "# p1 > p2 ?\n",
    "n1 = 250 ; n2 = 250\n",
    "p1 = 172/n1 ; p2 = 120/n2\n",
    "alpha = 0.05\n",
    "\n",
    "p_hat = (p1+p2) / (n1+n2)\n",
    "z_val = (p1-p2) / (np.sqrt(p_hat * (1-p_hat)) * np.sqrt(1/n1 + 1/n2))\n",
    "stats.norm.cdf(z_val)"
   ]
  },
  {
   "cell_type": "code",
   "execution_count": 179,
   "id": "89069e9b",
   "metadata": {},
   "outputs": [
    {
     "name": "stdout",
     "output_type": "stream",
     "text": [
      "0.20799999999999996\n",
      "0.08446112256559635\n"
     ]
    }
   ],
   "source": [
    "# prob 4.12\n",
    "# p1-p2 95% ci?\n",
    "n1 = 250 ; n2 = 250\n",
    "p1 = 172/n1 ; p2 = 120/n2\n",
    "alpha = 0.05\n",
    "\n",
    "z_alpha = stats.norm.ppf(1-alpha/2)\n",
    "print(p1-p2)\n",
    "print(z_alpha * np.sqrt((p1*(1-p1)/n1)+(p2*(1-p2)/n2)))"
   ]
  },
  {
   "cell_type": "code",
   "execution_count": 184,
   "id": "794e55a8",
   "metadata": {},
   "outputs": [
    {
     "name": "stdout",
     "output_type": "stream",
     "text": [
      "1.959963984540054 1.058793093827826\n",
      "0.8551529902156827\n"
     ]
    }
   ],
   "source": [
    "# prob 4.14\n",
    "# p1-p2 ?\n",
    "p1 = 0.62; p2=0.51\n",
    "# 1\n",
    "n1 = 42; n2 = 50\n",
    "x = p1*n1 ; y = p2*n2\n",
    "alpha = 0.05\n",
    "\n",
    "z_alpha = stats.norm.ppf(1-alpha/2)\n",
    "\n",
    "p_hat = (x+y) / (n1+n2)\n",
    "z_val = (p1-p2) / (np.sqrt(p_hat * (1-p_hat)) * np.sqrt(1/n1 + 1/n2))\n",
    "\n",
    "print(z_alpha, z_val)\n",
    "print(stats.norm.cdf(z_val))"
   ]
  },
  {
   "cell_type": "code",
   "execution_count": 185,
   "id": "781b84e8",
   "metadata": {},
   "outputs": [
    {
     "name": "stdout",
     "output_type": "stream",
     "text": [
      "1.959963984540054 2.2449367821401975\n",
      "0.9876139043857186\n"
     ]
    }
   ],
   "source": [
    "# 2\n",
    "n1 = 200; n2 = 210\n",
    "x = p1*n1 ; y = p2*n2\n",
    "alpha = 0.05\n",
    "\n",
    "z_alpha = stats.norm.ppf(1-alpha/2)\n",
    "\n",
    "p_hat = (x+y) / (n1+n2)\n",
    "z_val = (p1-p2) / (np.sqrt(p_hat * (1-p_hat)) * np.sqrt(1/n1 + 1/n2))\n",
    "\n",
    "print(z_alpha, z_val)\n",
    "print(stats.norm.cdf(z_val))"
   ]
  },
  {
   "cell_type": "code",
   "execution_count": 195,
   "id": "dc4e262a",
   "metadata": {},
   "outputs": [
    {
     "name": "stdout",
     "output_type": "stream",
     "text": [
      "2.5758293035489004 0.29223377615443863\n",
      "0.6149460557201821\n"
     ]
    }
   ],
   "source": [
    "# 3\n",
    "n1 = 200; n2 = 210\n",
    "x = p1*n1 ; y = p2*n2\n",
    "alpha = 0.01\n",
    "\n",
    "z_alpha = stats.norm.ppf(1-alpha/2)\n",
    "\n",
    "p_hat = (x+y) / (n1+n2)\n",
    "z_val = (p1-p2) / (np.sqrt(p_hat * (1-p_hat)) * np.sqrt(1/n1 + 1/n2))\n",
    "\n",
    "print(z_alpha, z_val)\n",
    "print(stats.norm.cdf(z_val))"
   ]
  },
  {
   "cell_type": "code",
   "execution_count": 188,
   "id": "750e8f29",
   "metadata": {},
   "outputs": [
    {
     "name": "stdout",
     "output_type": "stream",
     "text": [
      "1.2815515655446004 0.9195090507493319\n",
      "0.8210853131026674\n"
     ]
    }
   ],
   "source": [
    "# prob 4.16\n",
    "n1 = 41+119 ; n2 = 39+121 ; n3 = 78+72 ; n4 = 43+157\n",
    "p1 = 41/n1 ; p2 = 39/n2 ; p3 = 78/n3 ; p4 = 43/n4\n",
    "# 1 p1 > p4 ?\n",
    "alpha = 0.10\n",
    "\n",
    "z_alpha = stats.norm.ppf(1-alpha)\n",
    "p_hat = (41+43) / (n1+n4)\n",
    "z_val = (p1-p4) / (np.sqrt(p_hat * (1-p_hat)) * np.sqrt(1/n1 + 1/n4))\n",
    "\n",
    "print(z_alpha, z_val)\n",
    "print(stats.norm.cdf(z_val))"
   ]
  },
  {
   "cell_type": "code",
   "execution_count": 190,
   "id": "ea00d6ff",
   "metadata": {},
   "outputs": [
    {
     "name": "stdout",
     "output_type": "stream",
     "text": [
      "1.6448536269514722 5.937232588461083\n",
      "0.9999999985506335\n"
     ]
    }
   ],
   "source": [
    "# 2 p3 > p4 ?\n",
    "alpha = 0.05\n",
    "\n",
    "z_alpha = stats.norm.ppf(1-alpha)\n",
    "p_hat = (78+43) / (n3+n4)\n",
    "z_val = (p3-p4) / (np.sqrt(p_hat * (1-p_hat)) * np.sqrt(1/n3 + 1/n4))\n",
    "\n",
    "print(z_alpha, z_val)\n",
    "print(stats.norm.cdf(z_val))"
   ]
  },
  {
   "cell_type": "code",
   "execution_count": 192,
   "id": "8405b7cf",
   "metadata": {},
   "outputs": [
    {
     "name": "stdout",
     "output_type": "stream",
     "text": [
      "0.25625\n",
      "0.06764466122271007\n",
      "0.24375\n",
      "0.06652625952773725\n",
      "0.52\n",
      "0.07995115682487042\n",
      "0.215\n",
      "0.05693602604953436\n"
     ]
    }
   ],
   "source": [
    "# prob 4.18\n",
    "z_alpha = stats.norm.ppf(1-alpha/2)\n",
    "\n",
    "print(p1)\n",
    "print(z_alpha * np.sqrt((p1*(1-p1)/n1)))\n",
    "\n",
    "print(p2)\n",
    "print(z_alpha * np.sqrt((p2*(1-p2)/n2)))\n",
    "\n",
    "print(p3)\n",
    "print(z_alpha * np.sqrt((p3*(1-p3)/n3)))\n",
    "\n",
    "print(p4)\n",
    "print(z_alpha * np.sqrt((p4*(1-p4)/n4)))"
   ]
  },
  {
   "cell_type": "markdown",
   "id": "542eef9f",
   "metadata": {},
   "source": [
    "## 5. 종합문제"
   ]
  },
  {
   "cell_type": "code",
   "execution_count": 201,
   "id": "176eb717",
   "metadata": {},
   "outputs": [
    {
     "data": {
      "text/plain": [
       "0.9166239137609054"
      ]
     },
     "execution_count": 201,
     "metadata": {},
     "output_type": "execute_result"
    }
   ],
   "source": [
    "# prob 5.2\n",
    "# mu1 - mu2 = 10?\n",
    "n1=28 ; n2=24\n",
    "mu_diff = 10\n",
    "alpha = 0.05\n",
    "\n",
    "# 1\n",
    "s1 = 21; s2 = 29\n",
    "\n",
    "t_val = mu_diff / ( np.sqrt(s1**2/n1 + s2**2/n2))\n",
    "stats.t.cdf(t_val, df=n1+n2-2)"
   ]
  },
  {
   "cell_type": "code",
   "execution_count": 202,
   "id": "ee3cf9e0",
   "metadata": {},
   "outputs": [
    {
     "data": {
      "text/plain": [
       "0.9966554165808091"
      ]
     },
     "execution_count": 202,
     "metadata": {},
     "output_type": "execute_result"
    }
   ],
   "source": [
    "# 2\n",
    "s1 = 11; s2 = 14\n",
    "\n",
    "t_val = mu_diff / ( np.sqrt(s1**2/n1 + s2**2/n2))\n",
    "stats.t.cdf(t_val, df=n1+n2-2)"
   ]
  },
  {
   "cell_type": "code",
   "execution_count": 207,
   "id": "66f67a9e",
   "metadata": {},
   "outputs": [],
   "source": [
    "# prob 5.4\n",
    "n1 = 40; n2 = 48\n",
    "mu1 = 15.62 ; mu2 = 27.75\n",
    "s1 = 2.88 ; s2 = 4.32\n",
    "diff = 10\n",
    "\n",
    "# 1\n",
    "# H0 : mu1 - mu2 = -10, H1 : mu1 - mu2 < -10"
   ]
  },
  {
   "cell_type": "code",
   "execution_count": 208,
   "id": "521695a9",
   "metadata": {},
   "outputs": [
    {
     "name": "stdout",
     "output_type": "stream",
     "text": [
      "-2.7586600577109293\n"
     ]
    }
   ],
   "source": [
    "# 2\n",
    "z_val = ((mu1-mu2) - (-10))/np.sqrt(s1**2/n1 + s2**2/n2)\n",
    "print(z_val)"
   ]
  },
  {
   "cell_type": "code",
   "execution_count": 209,
   "id": "3d5662a3",
   "metadata": {},
   "outputs": [
    {
     "data": {
      "text/plain": [
       "0.002901943757060193"
      ]
     },
     "execution_count": 209,
     "metadata": {},
     "output_type": "execute_result"
    }
   ],
   "source": [
    "# 3\n",
    "stats.norm.cdf(z_val)"
   ]
  },
  {
   "cell_type": "code",
   "execution_count": 211,
   "id": "5002e03b",
   "metadata": {},
   "outputs": [
    {
     "name": "stdout",
     "output_type": "stream",
     "text": [
      "0.6099999999999994\n",
      "0.48101616350731924\n"
     ]
    }
   ],
   "source": [
    "# prob 5.6\n",
    "n1 = 55 ; n2 = 58\n",
    "mu1 = 5.64 ; mu2 = 5.03\n",
    "s1 = 1.25 ; s2 = 1.82\n",
    "alpha = 0.10\n",
    "\n",
    "# 1 mu1 - mu2 90% ci?\n",
    "z_alpha = stats.norm.ppf(1-alpha/2)\n",
    "print(mu1-mu2)\n",
    "print(z_alpha * np.sqrt((s1**2/n1) + s2**2/n2))"
   ]
  },
  {
   "cell_type": "code",
   "execution_count": 213,
   "id": "3bc50fbe",
   "metadata": {},
   "outputs": [
    {
     "name": "stdout",
     "output_type": "stream",
     "text": [
      "5.64\n",
      "0.33035186220245305\n"
     ]
    }
   ],
   "source": [
    "# 2 mu1 95% ci?\n",
    "alpha = 0.05\n",
    "\n",
    "z_alpha = stats.norm.ppf(1-alpha/2)\n",
    "print(mu1)\n",
    "print(z_alpha * np.sqrt(s1**2/n1))"
   ]
  },
  {
   "cell_type": "code",
   "execution_count": 214,
   "id": "010719c9",
   "metadata": {},
   "outputs": [
    {
     "data": {
      "text/plain": [
       "0.0071848458341360255"
      ]
     },
     "execution_count": 214,
     "metadata": {},
     "output_type": "execute_result"
    }
   ],
   "source": [
    "# prob 5.8\n",
    "# mu1 < mu2?\n",
    "n1 = 10; n2 = 12\n",
    "mu1 = 78.3 ; mu2 = 85.6\n",
    "s1 = 4.8 ; s2 = 6.5\n",
    "alpha = 0.05\n",
    "\n",
    "t_val = (mu1 - mu2) / np.sqrt((s1**2/n1 + s2**2/n2))\n",
    "stats.t.cdf(t_val, df=min(n1, n2)-1)"
   ]
  },
  {
   "cell_type": "code",
   "execution_count": 227,
   "id": "edd891c2",
   "metadata": {},
   "outputs": [
    {
     "name": "stdout",
     "output_type": "stream",
     "text": [
      "1.0999999999999996\n",
      "1.1178915336967659\n"
     ]
    }
   ],
   "source": [
    "# prob 5.10\n",
    "n1 = 11 ; n2 = 13\n",
    "mu1 = 10.7 ; mu2 = 9.6\n",
    "s1 = np.sqrt(1.36) ; s2 = np.sqrt(2.17)\n",
    "\n",
    "# 1 : mu1-mu2 95 ci?\n",
    "alpha = 0.05\n",
    "t_alpha = stats.t.ppf(1-alpha/2, df=n1+n2-2)\n",
    "\n",
    "print(mu1-mu2)\n",
    "print(t_alpha * np.sqrt(s1**2/n1 + s2**2/n2))"
   ]
  },
  {
   "cell_type": "code",
   "execution_count": 221,
   "id": "5e73e637",
   "metadata": {},
   "outputs": [],
   "source": [
    "# 2 : 두 모집단은 정규분포 가정"
   ]
  },
  {
   "cell_type": "code",
   "execution_count": 222,
   "id": "8cc4d3d3",
   "metadata": {},
   "outputs": [
    {
     "name": "stdout",
     "output_type": "stream",
     "text": [
      "6.47181599065856\n",
      "2.059538552753294\n"
     ]
    },
    {
     "data": {
      "text/plain": [
       "0.9999769895073105"
      ]
     },
     "execution_count": 222,
     "metadata": {},
     "output_type": "execute_result"
    }
   ],
   "source": [
    "# prob 5.12\n",
    "# mu1 - mu2 > 0\n",
    "n1 = 12 ; n2 = 15\n",
    "mu1 = 73.9 ; mu2 = 62.4\n",
    "s1 = 3.7 ; s2 = 5.5\n",
    "alpha = 0.05\n",
    "\n",
    "t_val = (mu1-mu2) / np.sqrt(s1**2/n1 + s2**2/n2); print(t_val)\n",
    "t_alpha = stats.t.ppf(1-alpha/2, df=n1+n2-2); print(t_alpha)\n",
    "stats.t.cdf(t_val, df=min(n1, n2)-1)"
   ]
  },
  {
   "cell_type": "code",
   "execution_count": 224,
   "id": "88635ad5",
   "metadata": {},
   "outputs": [
    {
     "name": "stdout",
     "output_type": "stream",
     "text": [
      "73.9 1.9181809794974323\n",
      "62.4 2.55032506466688\n"
     ]
    }
   ],
   "source": [
    "# prob 5.14\n",
    "alpha = 0.1\n",
    "t_alpha = stats.t.ppf(1-alpha/2, df=min(n1, n2)-1)\n",
    "\n",
    "print(mu1, t_alpha*np.sqrt(s1**2/n1))\n",
    "print(mu2, t_alpha*np.sqrt(s2**2/n2))"
   ]
  },
  {
   "cell_type": "code",
   "execution_count": 228,
   "id": "d8011134",
   "metadata": {},
   "outputs": [
    {
     "name": "stdout",
     "output_type": "stream",
     "text": [
      "1.3599999999999994 2.4885416708519568\n",
      "2.0422724563012373 1.1161117264388836\n"
     ]
    }
   ],
   "source": [
    "# prob 5.16\n",
    "n1 = 16 ; n2 = 16\n",
    "mu1 = 15.26 ; mu2 = 13.9\n",
    "s1 = 2.62 ; s2 = 4.11\n",
    "\n",
    "# 1 : mu diff 95%, mu diff exist?\n",
    "alpha = 0.05\n",
    "t_alpha = stats.t.ppf(1-alpha/2, df=n1+n2-2)\n",
    "print(mu1-mu2, t_alpha * np.sqrt(s1**2/n1 + s2**2/n2))\n",
    "\n",
    "t_val = (mu1-mu2)/np.sqrt((s1**2/n1 + s2**2/n2))\n",
    "print(t_alpha, t_val)"
   ]
  },
  {
   "cell_type": "code",
   "execution_count": 231,
   "id": "af1d7772",
   "metadata": {},
   "outputs": [
    {
     "name": "stdout",
     "output_type": "stream",
     "text": [
      "1.7457760040268908\n",
      "2.896459442760522\n"
     ]
    }
   ],
   "source": [
    "# prob 5.18\n",
    "diff = [-1.26, -0.82, 1.32, 3.16, 4.62, 0.6, -0.55, 1.54, 2.18]\n",
    "# 1: avg diff exists?\n",
    "alpha = 0.02\n",
    "mu = np.mean(diff)\n",
    "s = np.std(diff, ddof=1)\n",
    "\n",
    "t_val = mu/(s/np.sqrt(n)); print(t_val)\n",
    "t_alpha = stats.t.ppf(1-alpha/2, df=len(diff)-1); print(t_alpha)"
   ]
  },
  {
   "cell_type": "code",
   "execution_count": 234,
   "id": "c89b8748",
   "metadata": {},
   "outputs": [
    {
     "name": "stdout",
     "output_type": "stream",
     "text": [
      "1.198888888888889 1.2039863305670457\n"
     ]
    }
   ],
   "source": [
    "# 2\n",
    "alpha = 0.1\n",
    "t_alpha = stats.t.ppf(1-alpha/2, df=len(diff)-1);\n",
    "print(mu, t_alpha*s/np.sqrt(len(diff)))"
   ]
  },
  {
   "cell_type": "code",
   "execution_count": 235,
   "id": "96758a12",
   "metadata": {},
   "outputs": [
    {
     "name": "stdout",
     "output_type": "stream",
     "text": [
      "2.0 1.5453475380979864\n"
     ]
    }
   ],
   "source": [
    "# prob 5.20\n",
    "diff = [3, 3, -1, -1, 3, -1, 4, 2, 4, 4]\n",
    "mu = np.mean(diff)\n",
    "s = np.std(diff, ddof=1)\n",
    "alpha = 0.05\n",
    "t_alpha = stats.t.ppf(1-alpha/2, df=len(diff)-1)\n",
    "\n",
    "print(mu, t_alpha*s/np.sqrt(len(diff)))"
   ]
  },
  {
   "cell_type": "code",
   "execution_count": 241,
   "id": "525e609f",
   "metadata": {},
   "outputs": [
    {
     "name": "stdout",
     "output_type": "stream",
     "text": [
      "-2.6248359528792573 0.017084056133314218\n",
      "-2.3646242510103\n",
      "-6.25 -5.630409608113976\n"
     ]
    }
   ],
   "source": [
    "# prob 5.22\n",
    "# diff ? ci?\n",
    "diff = [-10, -10, 4, -14, 3, -10, -3, -10]\n",
    "mu = np.mean(diff)\n",
    "s = np.std(diff, ddof=1)\n",
    "alpha = 0.05\n",
    "t_alpha = stats.t.ppf(alpha/2, df=len(diff)-1)\n",
    "\n",
    "t_val = mu/(s/np.sqrt(len(diff)))\n",
    "print(t_val, stats.t.cdf(t_val, df=len(diff)-1))\n",
    "print(t_alpha)\n",
    "print(mu, t_alpha*s/np.sqrt(len(diff)))"
   ]
  },
  {
   "cell_type": "code",
   "execution_count": 250,
   "id": "28c625bb",
   "metadata": {},
   "outputs": [
    {
     "data": {
      "text/plain": [
       "0.08629450487786083"
      ]
     },
     "execution_count": 250,
     "metadata": {},
     "output_type": "execute_result"
    }
   ],
   "source": [
    "# prob 5.24\n",
    "n1 = 10 ; n2 = 10\n",
    "mu1 = 2.5 ; mu2 = 3.1\n",
    "s1 = 0.8 ; s2 = 1\n",
    "\n",
    "# 1 mu1-mu2 < 0 ?\n",
    "s_p = np.sqrt(((n1-1)*s1**2+(n2-1)*s2**2)/(n1+n2-2))\n",
    "t_val = (mu1-mu2) / (s_p * np.sqrt(1/n1 + 1/n2))\n",
    "stats.t.cdf(t_val, df=min(n1, n2)-1)"
   ]
  },
  {
   "cell_type": "code",
   "execution_count": 251,
   "id": "6d56e1e0",
   "metadata": {},
   "outputs": [
    {
     "name": "stdout",
     "output_type": "stream",
     "text": [
      "-0.6000000000000001 -0.850808580553769\n"
     ]
    }
   ],
   "source": [
    "# 2 mu1-mu2 95% ci?\n",
    "alpha = 0.05\n",
    "t_alpha = stats.t.ppf(alpha/2, df = n1+n2-2)\n",
    "s_p = np.sqrt(((n1-1)*s1**2+(n2-1)*s2**2)/(n1+n2-2))\n",
    "\n",
    "print(mu1-mu2, t_alpha*s_p *np.sqrt(1/n1 + 1/n2))"
   ]
  },
  {
   "cell_type": "code",
   "execution_count": 253,
   "id": "3716a8e8",
   "metadata": {},
   "outputs": [
    {
     "data": {
      "text/plain": [
       "0.038494356369237155"
      ]
     },
     "execution_count": 253,
     "metadata": {},
     "output_type": "execute_result"
    }
   ],
   "source": [
    "# prob 5.26\n",
    "# p1 > p2 ?\n",
    "n1 = 7+43 ; n2 = 43+122\n",
    "p1 = 7/n1 ; p2 = 43/n2\n",
    "alpha = 0.05\n",
    "\n",
    "p_hat = (7+43) / (n1+n2)\n",
    "z_val = (p1-p2) / (np.sqrt(p_hat * (1-p_hat)) * np.sqrt(1/n1 + 1/n2))\n",
    "stats.norm.cdf(z_val)"
   ]
  },
  {
   "cell_type": "code",
   "execution_count": 256,
   "id": "3f31fd05",
   "metadata": {},
   "outputs": [
    {
     "name": "stdout",
     "output_type": "stream",
     "text": [
      "2.4523272761008155\n"
     ]
    },
    {
     "data": {
      "text/plain": [
       "0.007096775144303846"
      ]
     },
     "execution_count": 256,
     "metadata": {},
     "output_type": "execute_result"
    }
   ],
   "source": [
    "# prob 5.28\n",
    "# p1 > p2 ?\n",
    "n1 = 27+15 ; n2 = 14+24\n",
    "p1 = 27/n1 ; p2 = 14/n2\n",
    "alpha = 0.05\n",
    "\n",
    "p_hat = (27+14) / (n1+n2)\n",
    "z_val = (p1-p2) / (np.sqrt(p_hat * (1-p_hat)) * np.sqrt(1/n1 + 1/n2))\n",
    "print(z_val)\n",
    "1-stats.norm.cdf(z_val)"
   ]
  },
  {
   "cell_type": "code",
   "execution_count": 259,
   "id": "5a90be92",
   "metadata": {},
   "outputs": [
    {
     "name": "stdout",
     "output_type": "stream",
     "text": [
      "2.635896522023709\n"
     ]
    },
    {
     "data": {
      "text/plain": [
       "0.004195765870867674"
      ]
     },
     "execution_count": 259,
     "metadata": {},
     "output_type": "execute_result"
    }
   ],
   "source": [
    "# prob 5.30\n",
    "n1 = 38+62 ; n2 = 21+79\n",
    "p1 = 38/n1 ; p2 = 21/n2\n",
    "# 1 p2 > p1?\n",
    "p_hat = (38+21) / (n1+n2)\n",
    "z_val = (p1-p2) / (np.sqrt(p_hat * (1-p_hat)) * np.sqrt(1/n1 + 1/n2))\n",
    "print(z_val)\n",
    "1-stats.norm.cdf(z_val)"
   ]
  },
  {
   "cell_type": "code",
   "execution_count": 260,
   "id": "f6777994",
   "metadata": {},
   "outputs": [
    {
     "name": "stdout",
     "output_type": "stream",
     "text": [
      "0.17 0.12419121210893673\n"
     ]
    }
   ],
   "source": [
    "# 2 p1 - p2 95% ci?\n",
    "alpha = 0.05\n",
    "z_alpha = stats.norm.ppf(1-alpha/2)\n",
    "print(p1-p2, z_alpha * np.sqrt((p1*(1-p1)/n1+(p2*(1-p2)/n2))))"
   ]
  },
  {
   "cell_type": "code",
   "execution_count": null,
   "id": "adc96c3f",
   "metadata": {},
   "outputs": [],
   "source": []
  },
  {
   "cell_type": "code",
   "execution_count": null,
   "id": "d6c4ca76",
   "metadata": {},
   "outputs": [],
   "source": []
  },
  {
   "cell_type": "code",
   "execution_count": null,
   "id": "db509667",
   "metadata": {},
   "outputs": [],
   "source": []
  }
 ],
 "metadata": {
  "kernelspec": {
   "display_name": "adp",
   "language": "python",
   "name": "adp_class"
  },
  "language_info": {
   "codemirror_mode": {
    "name": "ipython",
    "version": 3
   },
   "file_extension": ".py",
   "mimetype": "text/x-python",
   "name": "python",
   "nbconvert_exporter": "python",
   "pygments_lexer": "ipython3",
   "version": "3.7.13"
  }
 },
 "nbformat": 4,
 "nbformat_minor": 5
}
