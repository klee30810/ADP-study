{
 "cells": [
  {
   "cell_type": "code",
   "execution_count": 3,
   "id": "33d5e569",
   "metadata": {},
   "outputs": [],
   "source": [
    "import pandas as pd\n",
    "import numpy as np\n",
    "\n",
    "from scipy import stats\n",
    "\n",
    "import matplotlib.pyplot as plt\n",
    "import seaborn as sns\n",
    "import seaborn.objects as so\n",
    "\n",
    "plt.rcParams['font.family'] = 'AppleGothic'\n",
    "plt.rcParams['font.size'] = 12\n",
    "plt.rcParams['axes.unicode_minus'] = False\n",
    "\n",
    "import warnings\n",
    "warnings.filterwarnings('ignore')"
   ]
  },
  {
   "cell_type": "markdown",
   "id": "72395505",
   "metadata": {},
   "source": [
    "# 2. 전처리\n",
    "## 2-1 결측치 처리"
   ]
  },
  {
   "cell_type": "code",
   "execution_count": 7,
   "id": "467d288d",
   "metadata": {},
   "outputs": [
    {
     "name": "stdout",
     "output_type": "stream",
     "text": [
      "Alcohol      23\n",
      "Malicacid     0\n",
      "Ash          23\n",
      "Magnesium     0\n",
      "Hue           0\n",
      "dtype: int64\n"
     ]
    }
   ],
   "source": [
    "from numpy.random import randint\n",
    "\n",
    "wine = pd.read_csv(\"https://raw.githubusercontent.com/algoboni/pythoncodebook1-1/main/2-1_wine.csv\",\n",
    "                  index_col=0).filter(['Alcohol', 'Malicacid', 'Ash', 'Magnesium', 'Hue'])\n",
    "\n",
    "wine_m = wine.copy()\n",
    "for col in ['Alcohol', 'Ash']:\n",
    "    random_idx = randint(0, len(wine), 25)\n",
    "    wine_m.loc[random_idx, col] = np.nan\n",
    "print(wine_m.isna().sum())"
   ]
  },
  {
   "cell_type": "code",
   "execution_count": 9,
   "id": "fcc7b020",
   "metadata": {},
   "outputs": [],
   "source": [
    "from sklearn.impute import SimpleImputer\n",
    "\n",
    "# 결측치를 0으로 대치\n",
    "wine_imp = wine_m.fillna(0)\n",
    "\n",
    "# 결측치를 대표값으로 대치\n",
    "# strategy = 'mean', 'median', or 'most_frequent'\n",
    "imputer = SimpleImputer(missing_values=np.nan, strategy='mean')\n",
    "wine_imp1 = imputer.fit_transform(wine_m)\n",
    "wine_imp1 = pd.DataFrame(wine_imp1, columns=wine_m.columns)"
   ]
  },
  {
   "cell_type": "markdown",
   "id": "3c49ef2a",
   "metadata": {},
   "source": [
    "### 단순확률대치법\n",
    "- 유사한 데이터셋에서 랜덤하게 샘플링한 값으로 대치\n",
    "    - Hot-deck : 현재 진행중인 연구에서 비슷한 성향 데이터 중 랜덤 선택\n",
    "    - Cold-deck : 외부 출처 혹은 비슷한 연구에서 대체할 데이터 가져오는 것"
   ]
  },
  {
   "cell_type": "code",
   "execution_count": 10,
   "id": "785b2a0f",
   "metadata": {},
   "outputs": [],
   "source": [
    "# Hot-Deck\n",
    "# wine이 wine_m과 비슷한 성향이라고 가정하고 wine에서 랜덤하게 선택하여 wine_m 대치\n",
    "wine_imp2 = wine_m.copy()\n",
    "\n",
    "for feature in ['Alcohol', 'Ash']:\n",
    "    missing_idx = wine_imp2.loc[wine_imp2[feature].isna()==True].index\n",
    "    wine_imp2.loc[missing_idx, feature] = wine[feature].sample(len(missing_idx)).values"
   ]
  },
  {
   "cell_type": "markdown",
   "id": "fc60b676",
   "metadata": {},
   "source": [
    "### 다른 변수들로 모델링하여 결측값 예측\n",
    "- KNN imputer : 정확할 때가 많지만, 전체 데이터셋을 올려야해서 메모리가 많이 필요하고 이상치에 민감, \n",
    "- 기타 회귀 및 분류 알고리즘 이용 가능"
   ]
  },
  {
   "cell_type": "code",
   "execution_count": 11,
   "id": "54bb742c",
   "metadata": {},
   "outputs": [],
   "source": [
    "from sklearn.impute import KNNImputer\n",
    "\n",
    "imputer = KNNImputer(n_neighbors=3)\n",
    "wine_imp3 = imputer.fit_transform(wine_m)\n",
    "wine_imp3 = pd.DataFrame(wine_imp3, columns=wine_m.columns)"
   ]
  },
  {
   "cell_type": "markdown",
   "id": "e2b1567e",
   "metadata": {},
   "source": [
    "### 보간법\n",
    "- 시계열 데이터 결측치 대치 : linear, polynomial, spline\n",
    "- 맨 앞의 결측치는 보간되지 않으므로 단순하게 다음값으로 채움"
   ]
  },
  {
   "cell_type": "code",
   "execution_count": 12,
   "id": "466d7ecb",
   "metadata": {},
   "outputs": [],
   "source": [
    "wine_imp4 = wine_m.interpolate(method='linear')"
   ]
  },
  {
   "cell_type": "markdown",
   "id": "67720c48",
   "metadata": {},
   "source": [
    "## 2-2. 이상치 처리\n",
    "- 이상치 데이터 판정기준\n",
    "\n",
    "1) ESD : mean-3\\*std < data < mean+3\\*std \n",
    "\n",
    "2) 기하평균 - 2.5 \\* std < data < 기하평균 + 2.5 \\* std\n",
    "\n",
    "3) Q1 - 1.5\\* IQR < data < Q3 + 1.5\\* IQR\n",
    "\n",
    "4) DBSCAN 통해 -1로 분류되는 값\n",
    "\n",
    "- 이상치 처리방법 : 절단, 조정, 클리핑"
   ]
  },
  {
   "cell_type": "markdown",
   "id": "961927e4",
   "metadata": {},
   "source": [
    "### 절단\n",
    "- 절단 후 새로운 이상치 생길 수 있으나 이는 분석가가 상황에 맞게 설정 필요"
   ]
  },
  {
   "cell_type": "code",
   "execution_count": 14,
   "id": "4de3afed",
   "metadata": {},
   "outputs": [],
   "source": [
    "wine = pd.read_csv(\"https://raw.githubusercontent.com/algoboni/pythoncodebook1-1/main/2-1_wine.csv\",\n",
    "                  index_col=0).filter(['Alcohol', 'Malicacid', 'Ash', 'Magnesium', 'Hue'])\n",
    "\n",
    "IQR = wine['Malicacid'].quantile(0.75) - wine['Malicacid'].quantile(0.25)\n",
    "top = wine['Malicacid'].quantile(0.75) + IQR * 1.5\n",
    "down = wine['Malicacid'].quantile(0.25) - IQR * 1.5\n",
    "\n",
    "out_id = wine.loc[(wine['Malicacid']>=top) | (wine['Malicacid']<=down)].index\n",
    "\n",
    "# 절단\n",
    "prep_df = wine[['Malicacid']].drop(out_id, axis=0)"
   ]
  },
  {
   "cell_type": "markdown",
   "id": "db76fbac",
   "metadata": {},
   "source": [
    "### 조정\n",
    "- 이상치를 앞서 정해진 이상치의 상한과 하한선으로 보정"
   ]
  },
  {
   "cell_type": "code",
   "execution_count": 15,
   "id": "5f98b5b5",
   "metadata": {},
   "outputs": [],
   "source": [
    "prep_df2 = wine[['Malicacid']].clip(down, top)"
   ]
  },
  {
   "cell_type": "markdown",
   "id": "c488909b",
   "metadata": {},
   "source": [
    "### 클리핑\n",
    "- 이상치 상, 하한을 특정값으로 지정하여, 벗어나는 값을 조정\n",
    "- 이상치 경계값에 대한 확실한 정보를 가지고 있거나, 데이터를 특정 경계값으로 제한하고 싶을 때"
   ]
  },
  {
   "cell_type": "code",
   "execution_count": 16,
   "id": "74470e39",
   "metadata": {},
   "outputs": [],
   "source": [
    "prep_df3 = wine[['Malicacid']].clip(1,5)"
   ]
  },
  {
   "cell_type": "markdown",
   "id": "5d45b5ef",
   "metadata": {},
   "source": [
    "## 2-3 클래스 불균형 처리\n",
    "- 오버샘플링 & 언더샘플링"
   ]
  },
  {
   "cell_type": "code",
   "execution_count": 17,
   "id": "48791e35",
   "metadata": {},
   "outputs": [
    {
     "name": "stdout",
     "output_type": "stream",
     "text": [
      "3 front rows: \n",
      "    mean radius  mean texture  mean area  target\n",
      "0        17.99         10.38     1001.0     0.0\n",
      "1        20.57         17.77     1326.0     0.0\n",
      "2        19.69         21.25     1203.0     0.0 \n",
      "\n",
      "original data class distribution: Counter({1.0: 357, 0.0: 212})\n",
      "imbalanced data class distribution:  Counter({1.0: 250, 0.0: 50})\n"
     ]
    }
   ],
   "source": [
    "from sklearn.datasets import load_breast_cancer\n",
    "from collections import Counter\n",
    "\n",
    "data = load_breast_cancer()\n",
    "df = pd.DataFrame(np.c_[data['data'], data['target']], \n",
    "                  columns = list(data.feature_names) + ['target'])\n",
    "\n",
    "df = df.filter(['mean radius', 'mean texture', 'mean area', 'target'])\n",
    "print(\"3 front rows: \\n\", df.head(3), \"\\n\")\n",
    "print(\"original data class distribution:\", Counter(df['target']))\n",
    "\n",
    "\n",
    "df1 = df.loc[df['target']==0].sample(50)\n",
    "df2 = df.loc[df['target']==1].sample(250)\n",
    "imb_df = pd.concat([df1, df2]).reset_index(drop=True)\n",
    "print(\"imbalanced data class distribution: \", Counter(imb_df['target']))\n",
    "\n",
    "features = imb_df.drop('target', axis=1)\n",
    "target = imb_df['target']"
   ]
  },
  {
   "cell_type": "markdown",
   "id": "420400b9",
   "metadata": {},
   "source": [
    "### 랜덤 오버샘플링\n",
    "- 기존에 존재하는 소수의 클래스를 단순복제\n",
    "- 분포의 편화는 없으나 소수 클래스인 데이터가 많아지면서 해당 클래스에 대한 가중치가 높아지게 된다. 한편 단순히 동일 데이터의 증가이므로 과적할 될 수도 있다"
   ]
  },
  {
   "cell_type": "code",
   "execution_count": 40,
   "id": "86930083",
   "metadata": {},
   "outputs": [
    {
     "name": "stdout",
     "output_type": "stream",
     "text": [
      "imbalanced data class distribution:  Counter({1.0: 250, 0.0: 50})\n",
      "oversampled data class distribution:  Counter({0.0: 250, 1.0: 250})\n"
     ]
    },
    {
     "data": {
      "image/png": "[encoded data removed]",
      "text/plain": [
       "<Figure size 1000x500 with 2 Axes>"
      ]
     },
     "metadata": {},
     "output_type": "display_data"
    }
   ],
   "source": [
    "from imblearn.over_sampling import RandomOverSampler\n",
    "\n",
    "os = RandomOverSampler(random_state=0)\n",
    "bal_features, bal_target = os.fit_resample(features, target)\n",
    "print(\"imbalanced data class distribution: \", Counter(target))\n",
    "print(\"oversampled data class distribution: \", Counter(bal_target))\n",
    "\n",
    "over_df1 = pd.DataFrame(np.c_[bal_features, bal_target], columns = imb_df.columns)\n",
    "\n",
    "fig, ax = plt.subplots(1,2, figsize=(10,5))\n",
    "so.Plot(data=imb_df, x='mean radius', y='mean texture', color='target').add(so.Dots(alpha=0.5))\\\n",
    " .label(title='imbalanced').on(ax[0]).plot()\n",
    "\n",
    "ax[1].set_title(\"oversampled\")\n",
    "sns.scatterplot(x='mean radius', y='mean texture', hue='target', data=over_df1,\n",
    "               ax=ax[1], alpha=0.5, style='target', markers=['s', '>']);\n",
    "\n",
    "plt.show()"
   ]
  },
  {
   "cell_type": "markdown",
   "id": "f57072c0",
   "metadata": {},
   "source": [
    "### SMOTE (synthetic minority oversampling technique)\n",
    "- 임의의 소수 클래스 데이터로부터 인근 소수 클래스 사이에 새로운 데이터 생성\n",
    "    - 임의의 소수 클래스 x를 잡고 가장 가까운 k개의 이웃을 찾은 다음, k개의 이웃과 x사이에 임의의 새로운 데이터 x' 생성"
   ]
  },
  {
   "cell_type": "code",
   "execution_count": 41,
   "id": "7163d633",
   "metadata": {},
   "outputs": [
    {
     "name": "stdout",
     "output_type": "stream",
     "text": [
      "imbalanced data class distribution:  Counter({1.0: 250, 0.0: 50})\n",
      "oversampled data class distribution:  Counter({0.0: 250, 1.0: 250})\n"
     ]
    }
   ],
   "source": [
    "from imblearn.over_sampling import SMOTE\n",
    "\n",
    "os = SMOTE(random_state=0, k_neighbors=3)\n",
    "bal_features, bal_target = os.fit_resample(features, target)\n",
    "print(\"imbalanced data class distribution: \", Counter(target))\n",
    "print(\"oversampled data class distribution: \", Counter(bal_target))\n",
    "\n",
    "over_df2 = pd.DataFrame(np.c_[bal_features, bal_target], columns = imb_df.columns)"
   ]
  },
  {
   "cell_type": "markdown",
   "id": "14f696f7",
   "metadata": {},
   "source": [
    "### Borderline SMOTE\n",
    "- 다수, 소수의 클래스를 구분하는 선을 그을 때 서로 인접해있는 경계선에 있는 소수 클래스의 데이터에 대해서 SMOTE\n",
    "    - 임의의 소수 클래스 데이터 x와 근접하는 데이터들의 클래스를 살펴보고 여기에 소수와 다수 클래스가 모두 존재하면 이 데이터를 경계데이터롤 분류한다. \n",
    "    - 그렇지 않은 경우 소수 클래스 데이터 x는 고려하지 않는다"
   ]
  },
  {
   "cell_type": "code",
   "execution_count": 42,
   "id": "dfaec9ed",
   "metadata": {},
   "outputs": [
    {
     "name": "stdout",
     "output_type": "stream",
     "text": [
      "imbalanced data class distribution:  Counter({1.0: 250, 0.0: 50})\n",
      "oversampled data class distribution:  Counter({0.0: 250, 1.0: 250})\n"
     ]
    }
   ],
   "source": [
    "from imblearn.over_sampling import BorderlineSMOTE\n",
    "\n",
    "os = BorderlineSMOTE(random_state=0, k_neighbors=3)\n",
    "bal_features, bal_target = os.fit_resample(features, target)\n",
    "print(\"imbalanced data class distribution: \", Counter(target))\n",
    "print(\"oversampled data class distribution: \", Counter(bal_target))\n",
    "\n",
    "over_df3 = pd.DataFrame(np.c_[bal_features, bal_target], columns = imb_df.columns)"
   ]
  },
  {
   "cell_type": "markdown",
   "id": "760ba06f",
   "metadata": {},
   "source": [
    "### K-means SMOTE"
   ]
  },
  {
   "cell_type": "code",
   "execution_count": 47,
   "id": "8bb11b70",
   "metadata": {},
   "outputs": [
    {
     "name": "stdout",
     "output_type": "stream",
     "text": [
      "imbalanced data class distribution:  Counter({1.0: 250, 0.0: 50})\n",
      "oversampled data class distribution:  Counter({0.0: 251, 1.0: 250})\n"
     ]
    }
   ],
   "source": [
    "from imblearn.over_sampling import KMeansSMOTE\n",
    "\n",
    "os = KMeansSMOTE(random_state=0, k_neighbors=3)\n",
    "bal_features, bal_target = os.fit_resample(features, target)\n",
    "print(\"imbalanced data class distribution: \", Counter(target))\n",
    "print(\"oversampled data class distribution: \", Counter(bal_target))\n",
    "\n",
    "over_df4 = pd.DataFrame(np.c_[bal_features, bal_target], columns = imb_df.columns)"
   ]
  },
  {
   "cell_type": "markdown",
   "id": "25a03868",
   "metadata": {},
   "source": [
    "### SVM SMOTE\n",
    "- 소수 클래스인 support vector 데이터들을 경계데이터로 삼고 SMOTE 적용"
   ]
  },
  {
   "cell_type": "code",
   "execution_count": 48,
   "id": "dbfe6b45",
   "metadata": {},
   "outputs": [
    {
     "name": "stdout",
     "output_type": "stream",
     "text": [
      "imbalanced data class distribution:  Counter({1.0: 250, 0.0: 50})\n",
      "oversampled data class distribution:  Counter({0.0: 250, 1.0: 250})\n"
     ]
    }
   ],
   "source": [
    "from imblearn.over_sampling import SVMSMOTE\n",
    "\n",
    "os = SVMSMOTE(random_state=0, k_neighbors=3)\n",
    "bal_features, bal_target = os.fit_resample(features, target)\n",
    "print(\"imbalanced data class distribution: \", Counter(target))\n",
    "print(\"oversampled data class distribution: \", Counter(bal_target))\n",
    "\n",
    "over_df5 = pd.DataFrame(np.c_[bal_features, bal_target], columns = imb_df.columns)"
   ]
  },
  {
   "cell_type": "markdown",
   "id": "254a6fbe",
   "metadata": {},
   "source": [
    "### ADASYN (Adaptive synthetic sampling)\n",
    "- 가중치를 통한 SMOTE\n",
    "    - 인접한 데이터의 소수 클래스와 다수 클래스의 비율에 따라 생성되는 샘플의 개수 정해짐\n",
    "    - 생성 샘플계수 : 소수 클래스 필도에 반비례"
   ]
  },
  {
   "cell_type": "code",
   "execution_count": 49,
   "id": "2bd3d85b",
   "metadata": {},
   "outputs": [
    {
     "name": "stdout",
     "output_type": "stream",
     "text": [
      "imbalanced data class distribution:  Counter({1.0: 250, 0.0: 50})\n",
      "oversampled data class distribution:  Counter({0.0: 258, 1.0: 250})\n"
     ]
    }
   ],
   "source": [
    "from imblearn.over_sampling import ADASYN\n",
    "\n",
    "os = ADASYN(random_state=0, n_neighbors=3)\n",
    "bal_features, bal_target = os.fit_resample(features, target)\n",
    "print(\"imbalanced data class distribution: \", Counter(target))\n",
    "print(\"oversampled data class distribution: \", Counter(bal_target))\n",
    "\n",
    "over_df6 = pd.DataFrame(np.c_[bal_features, bal_target], columns = imb_df.columns)"
   ]
  },
  {
   "cell_type": "code",
   "execution_count": 50,
   "id": "a279df91",
   "metadata": {},
   "outputs": [
    {
     "data": {
      "text/html": [
       "<div>\n",
       "<style scoped>\n",
       "    .dataframe tbody tr th:only-of-type {\n",
       "        vertical-align: middle;\n",
       "    }\n",
       "\n",
       "    .dataframe tbody tr th {\n",
       "        vertical-align: top;\n",
       "    }\n",
       "\n",
       "    .dataframe thead th {\n",
       "        text-align: right;\n",
       "    }\n",
       "</style>\n",
       "<table border=\"1\" class=\"dataframe\">\n",
       "  <thead>\n",
       "    <tr style=\"text-align: right;\">\n",
       "      <th></th>\n",
       "      <th>no oversampling</th>\n",
       "      <th>RandomOverSampler</th>\n",
       "      <th>SMOTE</th>\n",
       "      <th>BorderlineSMOTE</th>\n",
       "      <th>KMeansSMOTE</th>\n",
       "      <th>SVMSMOTE</th>\n",
       "      <th>ADASYN</th>\n",
       "    </tr>\n",
       "  </thead>\n",
       "  <tbody>\n",
       "    <tr>\n",
       "      <th>train acc</th>\n",
       "      <td>0.942222</td>\n",
       "      <td>0.882667</td>\n",
       "      <td>0.88</td>\n",
       "      <td>0.821333</td>\n",
       "      <td>0.976</td>\n",
       "      <td>0.856</td>\n",
       "      <td>0.779528</td>\n",
       "    </tr>\n",
       "    <tr>\n",
       "      <th>test acc</th>\n",
       "      <td>0.92</td>\n",
       "      <td>0.848</td>\n",
       "      <td>0.864</td>\n",
       "      <td>0.816</td>\n",
       "      <td>0.928571</td>\n",
       "      <td>0.808</td>\n",
       "      <td>0.795276</td>\n",
       "    </tr>\n",
       "    <tr>\n",
       "      <th>train f1</th>\n",
       "      <td>0.966057</td>\n",
       "      <td>0.891626</td>\n",
       "      <td>0.889435</td>\n",
       "      <td>0.833747</td>\n",
       "      <td>0.97733</td>\n",
       "      <td>0.861538</td>\n",
       "      <td>0.792079</td>\n",
       "    </tr>\n",
       "    <tr>\n",
       "      <th>test f1</th>\n",
       "      <td>0.953846</td>\n",
       "      <td>0.834783</td>\n",
       "      <td>0.849558</td>\n",
       "      <td>0.788991</td>\n",
       "      <td>0.921739</td>\n",
       "      <td>0.781818</td>\n",
       "      <td>0.775862</td>\n",
       "    </tr>\n",
       "  </tbody>\n",
       "</table>\n",
       "</div>"
      ],
      "text/plain": [
       "          no oversampling RandomOverSampler     SMOTE BorderlineSMOTE  \\\n",
       "train acc        0.942222          0.882667      0.88        0.821333   \n",
       "test acc             0.92             0.848     0.864           0.816   \n",
       "train f1         0.966057          0.891626  0.889435        0.833747   \n",
       "test f1          0.953846          0.834783  0.849558        0.788991   \n",
       "\n",
       "          KMeansSMOTE  SVMSMOTE    ADASYN  \n",
       "train acc       0.976     0.856  0.779528  \n",
       "test acc     0.928571     0.808  0.795276  \n",
       "train f1      0.97733  0.861538  0.792079  \n",
       "test f1      0.921739  0.781818  0.775862  "
      ]
     },
     "execution_count": 50,
     "metadata": {},
     "output_type": "execute_result"
    }
   ],
   "source": [
    "from sklearn.linear_model import LogisticRegression\n",
    "from sklearn.model_selection import train_test_split\n",
    "from sklearn.metrics import f1_score, accuracy_score\n",
    "\n",
    "data = [imb_df, over_df1, over_df2, over_df3, over_df4, over_df5, over_df6]\n",
    "data_title = ['no oversampling', 'RandomOverSampler', 'SMOTE', 'BorderlineSMOTE', \n",
    "              'KMeansSMOTE', 'SVMSMOTE', 'ADASYN']\n",
    "\n",
    "scores = pd.DataFrame(index=['train acc', 'test acc', 'train f1', 'test f1'], columns=data_title)\n",
    "\n",
    "for df, title in zip(data, data_title):\n",
    "    features = df.drop('target', axis=1)\n",
    "    target = df['target']\n",
    "    \n",
    "    X_train, X_test, y_train, y_test = train_test_split(features, target, random_state=1)\n",
    "    lr = LogisticRegression(max_iter=30)\n",
    "    lr.fit(X_train, y_train)\n",
    "    \n",
    "    pred_train = lr.predict(X_train)\n",
    "    pred_test = lr.predict(X_test)\n",
    "    \n",
    "    scores.loc['train acc', title] = accuracy_score(y_train, pred_train)\n",
    "    scores.loc['test acc', title] = accuracy_score(y_test, pred_test)\n",
    "    scores.loc['train f1', title] = f1_score(y_train, pred_train)\n",
    "    scores.loc['test f1', title] = f1_score(y_test, pred_test)\n",
    "\n",
    "scores"
   ]
  },
  {
   "cell_type": "markdown",
   "id": "41dc99ec",
   "metadata": {},
   "source": [
    "## 2-4 변수변환\n",
    "- 특성의 scale을 바꾸는 것, 각 특성에 개별적 수행 => **트리 기반을 제외한 모델은 변수전환이 필수적**\n",
    "\n",
    "### 2-4-1 수치형 변수변환\n",
    "- 선형변환 : 표준화, 최소최대 스케일링, robust scaling, quantile scaling\n",
    "- 비선형변환 : 로그벼환, box-cox, yeo-johnson\n",
    "- 구간분할\n",
    "- 순위 변환"
   ]
  },
  {
   "cell_type": "code",
   "execution_count": 51,
   "id": "d7169728",
   "metadata": {},
   "outputs": [],
   "source": [
    "diabetes = pd.read_csv(\"https://raw.githubusercontent.com/algoboni/pythoncodebook1-1/main/2-4_diabetes.csv\")\n",
    "\n",
    "X = diabetes[['Pregnancies', 'BloodPressure', 'BMI', 'Age']]\n",
    "y = diabetes['Outcome']"
   ]
  },
  {
   "cell_type": "markdown",
   "id": "2f0d6aa5",
   "metadata": {},
   "source": [
    "### 표준화\n",
    "- $\\frac{데이터포인트 - 데이터\\ 평균}{데이터\\ 표준편차}$ : 평균을 0, 분산을 1로 변경하여 모든 특성이 같은 크기를 가지게 한다.\n",
    "- 표준점수 z는 원수치가 평균에서 얼마나 떨어져있나 나타내나, 최소 최대값의 크기를 제한하지는 않는다.ㅡ"
   ]
  },
  {
   "cell_type": "code",
   "execution_count": 55,
   "id": "0567f8ce",
   "metadata": {},
   "outputs": [],
   "source": [
    "from sklearn.preprocessing import StandardScaler\n",
    "ss = StandardScaler()\n",
    "ss_X = ss.fit_transform(X)\n",
    "ss_X = pd.DataFrame(ss_X, columns=X.columns)"
   ]
  },
  {
   "cell_type": "markdown",
   "id": "e164fb8e",
   "metadata": {},
   "source": [
    "### 최소최대 스케일링\n",
    "- 모든 특성이 정확하게 0-1 : $\\frac{데이터값 - 최솟값}{최댓값-최솟값}$\n",
    "- 처음부터 범위가 정해진 변수는 최소최대 스케일링이 자연스러움\n",
    "- 변환 후에 평균이 정확이 0이 되지 않고, 이상치의 영향력이 커, 표준화 방법이 더 자주 쓰인다"
   ]
  },
  {
   "cell_type": "code",
   "execution_count": 56,
   "id": "c5df554e",
   "metadata": {},
   "outputs": [],
   "source": [
    "from sklearn.preprocessing import MinMaxScaler\n",
    "mm = MinMaxScaler()\n",
    "mm_X = mm.fit_transform(X)\n",
    "mm_X = pd.DataFrame(mm_X, columns=X.columns)"
   ]
  },
  {
   "cell_type": "markdown",
   "id": "51e572c9",
   "metadata": {},
   "source": [
    "### Robust scaling\n",
    "- 특성이 같은 스케일이라 표준화 스케일링과 비슷하나, 평균과 분산 대신 중앙값과 사분위수를 사용한다. \n",
    "- 이상치의 영향력이 없음 $\\frac{데이터 - 중앙값}{3사분위수-1사분위수}$"
   ]
  },
  {
   "cell_type": "code",
   "execution_count": 57,
   "id": "58c605ec",
   "metadata": {},
   "outputs": [],
   "source": [
    "from sklearn.preprocessing import RobustScaler\n",
    "rs = RobustScaler()\n",
    "rs_X = rs.fit_transform(X)\n",
    "rs_X = pd.DataFrame(rs_X, columns=X.columns)"
   ]
  },
  {
   "cell_type": "markdown",
   "id": "16bd1d49",
   "metadata": {},
   "source": [
    "### Quantile Scaling\n",
    "- 균등분포, 정규분포에 가깝게 데이터 변환\n",
    "- 데이터의 1000개의 분위를 사용하여 분포를 재배치 : 이상치에 민감하지 않으며 전체 데이터를 0~1사이로 압축\n",
    "    - 기본값보다 작은 크기의 데이터가 입력될 경우, 데이터의 개수대로 n_quantiles값 설정\n",
    "    - Rank Gauss 방법으로서 수치형 변수를 순위로 변환한 뒤 순서를 유지한 채 정규분포가 되도록\n",
    "    - 전체 데이터를 -5 ~ 5사이로 압축"
   ]
  },
  {
   "cell_type": "code",
   "execution_count": 58,
   "id": "a5995ffd",
   "metadata": {},
   "outputs": [],
   "source": [
    "from sklearn.preprocessing import QuantileTransformer\n",
    "# uniform, normal\n",
    "qtu = QuantileTransformer(output_distribution='uniform', n_quantiles=len(X))\n",
    "qtu_X = qtu.fit_transform(X)\n",
    "qtu_X = pd.DataFrame(qtu_X, columns=X.columns)"
   ]
  },
  {
   "cell_type": "markdown",
   "id": "0a09cffc",
   "metadata": {},
   "source": [
    "### 로그변환\n",
    "- 큰 수의 범위를 압축하고, 작은 수의 범위르 확장"
   ]
  },
  {
   "cell_type": "code",
   "execution_count": 59,
   "id": "387c4656",
   "metadata": {},
   "outputs": [
    {
     "data": {
      "text/plain": [
       "np.float64(3.6906279246480533)"
      ]
     },
     "execution_count": 59,
     "metadata": {},
     "output_type": "execute_result"
    }
   ],
   "source": [
    "np.log1p(39.07)"
   ]
  },
  {
   "cell_type": "markdown",
   "id": "f86fc0b5",
   "metadata": {},
   "source": [
    "### 거듭제곱 변환\n",
    "- Box-cox : 데이터를 정규 분포에 가깝게 만들거나, 데이터 분산 안정화, 양수 데이터에만 적용 가능\n",
    "- Yeo-Johnson : 데이터 분산 안정화, 음수를 포함하는 실수 전체 적용 가능"
   ]
  },
  {
   "cell_type": "code",
   "execution_count": 62,
   "id": "11122306",
   "metadata": {},
   "outputs": [],
   "source": [
    "realestate = pd.read_csv('https://raw.githubusercontent.com/algoboni/pythoncodebook1-1/main/2-4_BHP.csv').dropna().reset_index(drop=True) # 결측치 삭제 후, 인덱스 리셋\n",
    "X = realestate[['bath', 'balcony']] # 수치형 변수 두개만 사용\n",
    "y = realestate[['price']]"
   ]
  },
  {
   "cell_type": "code",
   "execution_count": 63,
   "id": "2f55a7b7",
   "metadata": {},
   "outputs": [
    {
     "name": "stdout",
     "output_type": "stream",
     "text": [
      "raw:  [[39.07]]\n",
      "box-cox:  [[-1.06667464]]\n",
      "box-cox inv:  [[39.07]]\n"
     ]
    }
   ],
   "source": [
    "from sklearn.preprocessing import PowerTransformer\n",
    "\n",
    "PTB = PowerTransformer(method='box-cox')\n",
    "PTY = PowerTransformer(method='yeo-johnson')\n",
    "y_ptb = pd.DataFrame(PTB.fit_transform(np.reshape([y], (-1,1))))\n",
    "y_pty = pd.DataFrame(PTY.fit_transform(np.reshape([y], (-1,1))))\n",
    "y_ptb_inv = pd.DataFrame(PTB.inverse_transform(y_ptb))\n",
    "\n",
    "print(\"raw: \", y.head(1).values)\n",
    "print(\"box-cox: \", y_ptb.head(1).values)\n",
    "print(\"box-cox inv: \", y_ptb_inv.head(1).values)"
   ]
  },
  {
   "cell_type": "markdown",
   "id": "e248fa93",
   "metadata": {},
   "source": [
    "### 순위로 변환\n",
    "- 데이터를 순위로 변환한 후 순위를 전체 데이터의 개수로 나누면 모든 데이터 값이 0~1범위에 들어감\n",
    "  - 수치의 크기나 간격 정보는 소실"
   ]
  },
  {
   "cell_type": "code",
   "execution_count": 64,
   "id": "ca02e1ca",
   "metadata": {},
   "outputs": [
    {
     "data": {
      "text/html": [
       "<div>\n",
       "<style scoped>\n",
       "    .dataframe tbody tr th:only-of-type {\n",
       "        vertical-align: middle;\n",
       "    }\n",
       "\n",
       "    .dataframe tbody tr th {\n",
       "        vertical-align: top;\n",
       "    }\n",
       "\n",
       "    .dataframe thead th {\n",
       "        text-align: right;\n",
       "    }\n",
       "</style>\n",
       "<table border=\"1\" class=\"dataframe\">\n",
       "  <thead>\n",
       "    <tr style=\"text-align: right;\">\n",
       "      <th></th>\n",
       "      <th>bath</th>\n",
       "      <th>balcony</th>\n",
       "    </tr>\n",
       "  </thead>\n",
       "  <tbody>\n",
       "    <tr>\n",
       "      <th>mean</th>\n",
       "      <td>3748.500000</td>\n",
       "      <td>3748.50000</td>\n",
       "    </tr>\n",
       "    <tr>\n",
       "      <th>std</th>\n",
       "      <td>1926.118911</td>\n",
       "      <td>2010.62683</td>\n",
       "    </tr>\n",
       "    <tr>\n",
       "      <th>max</th>\n",
       "      <td>7282.500000</td>\n",
       "      <td>7295.50000</td>\n",
       "    </tr>\n",
       "    <tr>\n",
       "      <th>min</th>\n",
       "      <td>2.000000</td>\n",
       "      <td>503.00000</td>\n",
       "    </tr>\n",
       "  </tbody>\n",
       "</table>\n",
       "</div>"
      ],
      "text/plain": [
       "             bath     balcony\n",
       "mean  3748.500000  3748.50000\n",
       "std   1926.118911  2010.62683\n",
       "max   7282.500000  7295.50000\n",
       "min      2.000000   503.00000"
      ]
     },
     "metadata": {},
     "output_type": "display_data"
    }
   ],
   "source": [
    "rank_X = X.rank(ascending=False)\n",
    "display(rank_X.describe().loc[['mean', 'std', 'max', 'min'], :], )"
   ]
  },
  {
   "cell_type": "markdown",
   "id": "b08e7ba9",
   "metadata": {},
   "source": [
    "### 구간 분할\n",
    "- 수치형 변수를 구간 별로 나누어 범주형 변수로 변환하는 방법\n",
    "    - 순서가 있는 범주형 변수 : 순서를 수치화하여 사용\n",
    "    - 범주형 변수로서 원핫 인코딩 적용 가능\n",
    "- cut : bin수를 지정하거나 bin의 범위 지정\n",
    "- KBinsDiscretizer : n_bins에 구간 수를 지정하여, 각 구간을 하나의 특성으로 삼는 원핫 인코딩 적용"
   ]
  },
  {
   "cell_type": "code",
   "execution_count": 67,
   "id": "77e8898d",
   "metadata": {},
   "outputs": [
    {
     "data": {
      "text/html": [
       "<div>\n",
       "<style scoped>\n",
       "    .dataframe tbody tr th:only-of-type {\n",
       "        vertical-align: middle;\n",
       "    }\n",
       "\n",
       "    .dataframe tbody tr th {\n",
       "        vertical-align: top;\n",
       "    }\n",
       "\n",
       "    .dataframe thead th {\n",
       "        text-align: right;\n",
       "    }\n",
       "</style>\n",
       "<table border=\"1\" class=\"dataframe\">\n",
       "  <thead>\n",
       "    <tr style=\"text-align: right;\">\n",
       "      <th></th>\n",
       "      <th>bath</th>\n",
       "      <th>balcony</th>\n",
       "    </tr>\n",
       "  </thead>\n",
       "  <tbody>\n",
       "    <tr>\n",
       "      <th>0</th>\n",
       "      <td>2.0</td>\n",
       "      <td>1.0</td>\n",
       "    </tr>\n",
       "    <tr>\n",
       "      <th>1</th>\n",
       "      <td>5.0</td>\n",
       "      <td>3.0</td>\n",
       "    </tr>\n",
       "    <tr>\n",
       "      <th>2</th>\n",
       "      <td>3.0</td>\n",
       "      <td>1.0</td>\n",
       "    </tr>\n",
       "    <tr>\n",
       "      <th>3</th>\n",
       "      <td>2.0</td>\n",
       "      <td>1.0</td>\n",
       "    </tr>\n",
       "    <tr>\n",
       "      <th>4</th>\n",
       "      <td>5.0</td>\n",
       "      <td>3.0</td>\n",
       "    </tr>\n",
       "    <tr>\n",
       "      <th>...</th>\n",
       "      <td>...</td>\n",
       "      <td>...</td>\n",
       "    </tr>\n",
       "    <tr>\n",
       "      <th>7491</th>\n",
       "      <td>2.0</td>\n",
       "      <td>1.0</td>\n",
       "    </tr>\n",
       "    <tr>\n",
       "      <th>7492</th>\n",
       "      <td>3.0</td>\n",
       "      <td>3.0</td>\n",
       "    </tr>\n",
       "    <tr>\n",
       "      <th>7493</th>\n",
       "      <td>4.0</td>\n",
       "      <td>0.0</td>\n",
       "    </tr>\n",
       "    <tr>\n",
       "      <th>7494</th>\n",
       "      <td>2.0</td>\n",
       "      <td>1.0</td>\n",
       "    </tr>\n",
       "    <tr>\n",
       "      <th>7495</th>\n",
       "      <td>4.0</td>\n",
       "      <td>1.0</td>\n",
       "    </tr>\n",
       "  </tbody>\n",
       "</table>\n",
       "<p>7496 rows × 2 columns</p>\n",
       "</div>"
      ],
      "text/plain": [
       "      bath  balcony\n",
       "0      2.0      1.0\n",
       "1      5.0      3.0\n",
       "2      3.0      1.0\n",
       "3      2.0      1.0\n",
       "4      5.0      3.0\n",
       "...    ...      ...\n",
       "7491   2.0      1.0\n",
       "7492   3.0      3.0\n",
       "7493   4.0      0.0\n",
       "7494   2.0      1.0\n",
       "7495   4.0      1.0\n",
       "\n",
       "[7496 rows x 2 columns]"
      ]
     },
     "execution_count": 67,
     "metadata": {},
     "output_type": "execute_result"
    }
   ],
   "source": [
    "X"
   ]
  },
  {
   "cell_type": "code",
   "execution_count": 72,
   "id": "e53795bc",
   "metadata": {},
   "outputs": [
    {
     "data": {
      "text/html": [
       "<div>\n",
       "<style scoped>\n",
       "    .dataframe tbody tr th:only-of-type {\n",
       "        vertical-align: middle;\n",
       "    }\n",
       "\n",
       "    .dataframe tbody tr th {\n",
       "        vertical-align: top;\n",
       "    }\n",
       "\n",
       "    .dataframe thead th {\n",
       "        text-align: right;\n",
       "    }\n",
       "</style>\n",
       "<table border=\"1\" class=\"dataframe\">\n",
       "  <thead>\n",
       "    <tr style=\"text-align: right;\">\n",
       "      <th></th>\n",
       "      <th>bath</th>\n",
       "      <th>count</th>\n",
       "    </tr>\n",
       "  </thead>\n",
       "  <tbody>\n",
       "    <tr>\n",
       "      <th>0</th>\n",
       "      <td>(0.992, 3.0]</td>\n",
       "      <td>6774</td>\n",
       "    </tr>\n",
       "    <tr>\n",
       "      <th>1</th>\n",
       "      <td>(3.0, 5.0]</td>\n",
       "      <td>642</td>\n",
       "    </tr>\n",
       "    <tr>\n",
       "      <th>2</th>\n",
       "      <td>(5.0, 7.0]</td>\n",
       "      <td>77</td>\n",
       "    </tr>\n",
       "    <tr>\n",
       "      <th>3</th>\n",
       "      <td>(7.0, 9.0]</td>\n",
       "      <td>3</td>\n",
       "    </tr>\n",
       "  </tbody>\n",
       "</table>\n",
       "</div>"
      ],
      "text/plain": [
       "           bath  count\n",
       "0  (0.992, 3.0]   6774\n",
       "1    (3.0, 5.0]    642\n",
       "2    (5.0, 7.0]     77\n",
       "3    (7.0, 9.0]      3"
      ]
     },
     "execution_count": 72,
     "metadata": {},
     "output_type": "execute_result"
    }
   ],
   "source": [
    "pd.cut(X['bath'], bins=4).value_counts().reset_index()"
   ]
  },
  {
   "cell_type": "code",
   "execution_count": 75,
   "id": "8e997db1",
   "metadata": {},
   "outputs": [
    {
     "name": "stdout",
     "output_type": "stream",
     "text": [
      "bin edges:  [1. 2. 3. 9.] \n",
      "\n",
      "   (1, 2)  (2, 3)  (3, 9)\n",
      "0     0.0     1.0     0.0\n",
      "1     0.0     0.0     1.0\n",
      "2     0.0     0.0     1.0\n"
     ]
    }
   ],
   "source": [
    "# bin 수 지정\n",
    "binned = pd.cut(X['bath'], bins=4)\n",
    "freq_df = pd.DataFrame(binned.value_counts()).reset_index().rename(columns={'bath':'계급', 'count':'빈도'}).sort_values(by='계급', ascending=True)\n",
    "\n",
    "# bin 범위 지정\n",
    "bin_edges = [0, 2, 4, 6, float('inf')]\n",
    "binned2 = pd.cut(X['bath'], bin_edges, right=False)\n",
    "freq_df2 = pd.DataFrame(binned2.value_counts()).reset_index().rename(columns={'bath':'계급', 'count':'빈도'}).sort_values(by='계급', ascending=True)\n",
    "\n",
    "# KBins\n",
    "from sklearn.preprocessing import KBinsDiscretizer\n",
    "\n",
    "kb = KBinsDiscretizer(n_bins=3, strategy='quantile')\n",
    "kb.fit(np.array(X['bath']).reshape(-1,1))\n",
    "print(\"bin edges: \", kb.bin_edges_[0], '\\n')\n",
    "\n",
    "kbbin = kb.bin_edges_[0]\n",
    "bin_edges = []\n",
    "for i in range(len(kbbin)):\n",
    "    if len(kbbin)-1 != i:\n",
    "        tup = (int(kbbin[i]), int(kbbin[i+1]))\n",
    "        bin_edges.append(tup)\n",
    "kbinned = kb.transform(np.array(X['bath']).reshape(-1,1))        \n",
    "result = pd.DataFrame(kbinned.toarray(), columns=bin_edges)\n",
    "print(result.head(3))"
   ]
  },
  {
   "cell_type": "markdown",
   "id": "85c6e88e",
   "metadata": {},
   "source": [
    "### 2-4-2 범주형 변수 변환\n",
    "- 원핫인코딩, 더미코딩, 숫자로 표현된 범주형 특성 변환, 레이블 인코딩, 특징 해싱, 빈도 인코딩"
   ]
  },
  {
   "cell_type": "code",
   "execution_count": 76,
   "id": "33c91ec4",
   "metadata": {},
   "outputs": [],
   "source": [
    "estate = pd.read_csv(\"https://raw.githubusercontent.com/algoboni/pythoncodebook1-1/main/2-4_BHP.csv\").dropna().reset_index(drop=True)"
   ]
  },
  {
   "cell_type": "markdown",
   "id": "281f5422",
   "metadata": {},
   "source": [
    "### 원핫 인코딩\n",
    "- 범주형 변수의 모든 수준을 각각 새로운 특성으로 삼아서 0,1을 가지도록 데이터 변환\n",
    "    - 더미코딩과 유사하지만, 더미코딩은 모든 수준 중에서 한 가지 수준은 제외하고 나머지 수준들로 새로운 특성을 삼음"
   ]
  },
  {
   "cell_type": "code",
   "execution_count": 78,
   "id": "662492e3",
   "metadata": {},
   "outputs": [
    {
     "name": "stdout",
     "output_type": "stream",
     "text": [
      "범주형 변수의 수준 갯수:  area_type    4\n",
      "dtype: int64\n",
      "              area_type\n",
      "0  Super built-up  Area\n",
      "1            Plot  Area\n",
      "2  Super built-up  Area\n",
      "3  Super built-up  Area\n",
      "4            Plot  Area \n",
      "\n"
     ]
    }
   ],
   "source": [
    "print(\"범주형 변수의 수준 갯수: \", estate[['area_type']].nunique())\n",
    "print(estate[['area_type']].head(5), '\\n')\n",
    "\n",
    "from sklearn.preprocessing import OneHotEncoder\n",
    "ohe = OneHotEncoder()\n",
    "result = pd.DataFrame(ohe.fit_transform(estate[['area_type']]).toarray(), columns=ohe.get_feature_names_out())"
   ]
  },
  {
   "cell_type": "markdown",
   "id": "91c29966",
   "metadata": {},
   "source": [
    "### 더미코딩\n",
    "- 범주형 변수의 수준이 n개 일때 가변수를 n개 만들어버리면 다중공선성이 생기므로 이를 방지하기 위해 n-1개의 가변수를 만드는 것\n",
    "    - pd.get_dummies(drop_first=True)\n",
    "    - 범주형 변수의 수준 개수가 너무 많을 경우 정보가 적은 특징의 대량 생산가능 => 다른 인코딩 혹은 수준 갯수 줄이는 방법 생각"
   ]
  },
  {
   "cell_type": "code",
   "execution_count": 79,
   "id": "f3f60ba0",
   "metadata": {},
   "outputs": [],
   "source": [
    "result2 = pd.get_dummies(estate['area_type'], drop_first=True)"
   ]
  },
  {
   "cell_type": "markdown",
   "id": "5e592412",
   "metadata": {},
   "source": [
    "### 숫자로 표현된 범주형 특성 변환\n",
    "- 명목척도인 변수임에도 불구하고 데이터 작성규칙에 따라 단순히 숫자로 입력되어 있는 경우라면, 연속형 변수로 다루면 안된다. 이를 위해 해당 타입을 범주형으로 변경하는 방법 사용"
   ]
  },
  {
   "cell_type": "code",
   "execution_count": 80,
   "id": "cb175aae",
   "metadata": {},
   "outputs": [],
   "source": [
    "estate['area_type'] = estate['area_type'].map({'Super built-up  Area':0, 'Plot  Area':1, 'Built-up  Area':2, 'Carpet  Area':3})\n",
    "estate['area_type'] = estate['area_type'].astype('category')"
   ]
  },
  {
   "cell_type": "markdown",
   "id": "e979961c",
   "metadata": {},
   "source": [
    "### 레이블 인코딩\n",
    "- 판다스 시리즈 + replace, map / LabelEncoder\n",
    "    - 사이킷런 : 범주명을 오름차순으로 정렬하여 자동으로 수치를 매기므로, 서열의 대응 여부를 classes_로 확인 필요\n",
    "- 서열척도 : 순서의 정보를 가지는 수치형 레이블 그대로 사용\n",
    "- 명목척도 : 레이블 수치는 의미가 없으므로 원핫인코딩이나 더미 코딩"
   ]
  },
  {
   "cell_type": "code",
   "execution_count": 81,
   "id": "4b25882a",
   "metadata": {},
   "outputs": [],
   "source": [
    "case1 = estate['size'].replace({'1 RK':0, '1 BHK':1, '2 Bedroom':2, '2 BHK':3, '3 Bedroom':4,\n",
    "                               '3 BHK':5, '4 Bedroom':6, '4 BHK':7, '5 Bedroom':8, '5 BHK':9,\n",
    "                               '6 Bedroom':10, '6 BHK':11, '7 BHK':12, '9 BHK':13, '11 BHK':14})\n",
    "\n",
    "from sklearn.preprocessing import LabelEncoder\n",
    "le = LabelEncoder()\n",
    "case2 = le.fit_transform(estate['size'])\n"
   ]
  },
  {
   "cell_type": "markdown",
   "id": "b68fae7a",
   "metadata": {},
   "source": [
    "### 특징 해싱\n",
    "- 늘어날 특징의 개수를 한정하면서 변수 변환을 하는 방법\n",
    "- 변환 후의 특징의 개수르 사전에 정하고, 해시함수를 이용하여 수준별로 1로 표시할 위치를 결정\n",
    "    - 원핫 인코딩은 수준마다 다른 위치에 1 표시\n",
    "    - 특징해싱 : 해시함수에 따른 계산에 의해 다른 수준에서도 같은 위치에 1 표시 가능 => 희소행렬 반환\n",
    "- 모델학습비용을 줄이고, 희귀범주 처리를 쉽게 하나, 선형 또는 커널모델에만 적합하고 해시된 특징은 해석 불가    "
   ]
  },
  {
   "cell_type": "code",
   "execution_count": 102,
   "id": "9df4d5b1",
   "metadata": {},
   "outputs": [],
   "source": [
    "from sklearn.feature_extraction import FeatureHasher\n",
    "\n",
    "fh = FeatureHasher(n_features=5, input_type='string')\n",
    "hash_df = fh.transform([[item] for item in estate['size']])\n",
    "hash_df = pd.DataFrame(hash_df.todense(), columns=[f\"feature_{i}\" for i in range(hash_df.shape[1])])"
   ]
  },
  {
   "cell_type": "markdown",
   "id": "e8715824",
   "metadata": {},
   "source": [
    "### 빈도 인코딩\n",
    "- 각 수준의 빈도로 범주형 변수르 대체하는 방법\n",
    "    - 수준의 출현빈도와 타겟변수 간의 관련성이 있을 때 유효\n",
    "- 동일한 값이 발생할 수 있으며, 학습과 검증용 데이터에 대해 동일한 기준으로 빈도인코딩 필요"
   ]
  },
  {
   "cell_type": "code",
   "execution_count": 103,
   "id": "43f656be",
   "metadata": {},
   "outputs": [],
   "source": [
    "fe = estate[['availability', 'society', 'total_sqft']]\n",
    "for col in ['availability', 'society', 'total_sqft']:\n",
    "    freq = fe[col].value_counts()\n",
    "    fe[col] = fe[col].map(freq)"
   ]
  },
  {
   "cell_type": "code",
   "execution_count": null,
   "id": "3ea75732",
   "metadata": {},
   "outputs": [],
   "source": []
  },
  {
   "cell_type": "code",
   "execution_count": null,
   "id": "485dd8e3",
   "metadata": {},
   "outputs": [],
   "source": []
  },
  {
   "cell_type": "code",
   "execution_count": null,
   "id": "64d98a1f",
   "metadata": {},
   "outputs": [],
   "source": []
  },
  {
   "cell_type": "code",
   "execution_count": null,
   "id": "17af3f6e",
   "metadata": {},
   "outputs": [],
   "source": []
  },
  {
   "cell_type": "code",
   "execution_count": null,
   "id": "58864c7c",
   "metadata": {},
   "outputs": [],
   "source": []
  },
  {
   "cell_type": "code",
   "execution_count": null,
   "id": "a1891e85",
   "metadata": {},
   "outputs": [],
   "source": []
  },
  {
   "cell_type": "code",
   "execution_count": null,
   "id": "a5fd7694",
   "metadata": {},
   "outputs": [],
   "source": []
  },
  {
   "cell_type": "code",
   "execution_count": null,
   "id": "f4184349",
   "metadata": {},
   "outputs": [],
   "source": []
  },
  {
   "cell_type": "code",
   "execution_count": null,
   "id": "9b8bab6e",
   "metadata": {},
   "outputs": [],
   "source": []
  },
  {
   "cell_type": "code",
   "execution_count": null,
   "id": "22724a8d",
   "metadata": {},
   "outputs": [],
   "source": []
  },
  {
   "cell_type": "code",
   "execution_count": null,
   "id": "489b6b36",
   "metadata": {},
   "outputs": [],
   "source": []
  },
  {
   "cell_type": "code",
   "execution_count": null,
   "id": "ce118e79",
   "metadata": {},
   "outputs": [],
   "source": []
  },
  {
   "cell_type": "code",
   "execution_count": null,
   "id": "dce07e5b",
   "metadata": {},
   "outputs": [],
   "source": []
  },
  {
   "cell_type": "code",
   "execution_count": null,
   "id": "6fe0ab78",
   "metadata": {},
   "outputs": [],
   "source": []
  }
 ],
 "metadata": {
  "kernelspec": {
   "display_name": "adp",
   "language": "python",
   "name": "adp_class"
  },
  "language_info": {
   "codemirror_mode": {
    "name": "ipython",
    "version": 3
   },
   "file_extension": ".py",
   "mimetype": "text/x-python",
   "name": "python",
   "nbconvert_exporter": "python",
   "pygments_lexer": "ipython3",
   "version": "3.10.16"
  }
 },
 "nbformat": 4,
 "nbformat_minor": 5
}
