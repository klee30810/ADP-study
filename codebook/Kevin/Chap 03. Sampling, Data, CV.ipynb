{
 "cells": [
  {
   "cell_type": "code",
   "execution_count": 1,
   "id": "3ba76b79",
   "metadata": {},
   "outputs": [],
   "source": [
    "import pandas as pd\n",
    "import numpy as np\n",
    "\n",
    "from scipy import stats\n",
    "\n",
    "import matplotlib.pyplot as plt\n",
    "import seaborn as sns\n",
    "import seaborn.objects as so\n",
    "\n",
    "import warnings\n",
    "warnings.filterwarnings('ignore')"
   ]
  },
  {
   "cell_type": "markdown",
   "id": "e9067cd7",
   "metadata": {},
   "source": [
    "## 3-1 표본추출\n",
    "### 단순랜덤추출법\n",
    "- 각 샘플에 번호를 부여하여 임의의 n개를 추출, 샘플이 추출 될 확률은 동일"
   ]
  },
  {
   "cell_type": "code",
   "execution_count": null,
   "id": "96bc4e06",
   "metadata": {},
   "outputs": [],
   "source": [
    "data_list = [1,2,3,4,5, 'a', 'b', 'c']\n",
    "print(\"random.sample: \", random.sample(data_list, 4))\n",
    "print(\"np.random.choice\", np.random.choice(data_list, 4, replace=True))\n",
    "print(\"0~10 사이 정수 중 난수 3개 생성: \", np.random.randint(0,10,3))\n",
    "print(\"0~1 사이 실수 2*2 배열로 생성: \", np.random.rand(2,2))"
   ]
  },
  {
   "cell_type": "markdown",
   "id": "0c27096b",
   "metadata": {},
   "source": [
    "### 계통추출법\n",
    "- 번호를 부여한 샘플은 나열하고, 구간을 N/n으로 나눈다. 각 구간의 임의로 샘플을 선택하고 특정 인터벌 단위로 샘플 추출"
   ]
  },
  {
   "cell_type": "code",
   "execution_count": null,
   "id": "2b97af94",
   "metadata": {},
   "outputs": [],
   "source": [
    "ata, n = iris, 8; N = len(data); K = N//n\n",
    "index = data[:K].sample(1).index\n",
    "\n",
    "sys_df = pd.DataFrame()\n",
    "while len(sys_df) < n:\n",
    "    sys_df = sys_df.append(data.loc[index, :])\n",
    "    index += K"
   ]
  },
  {
   "cell_type": "markdown",
   "id": "f30c7df4",
   "metadata": {},
   "source": [
    "### 집락추출법\n",
    "- 군집별로 랜덤추출법 수행\n",
    "    - 지역표본추출, 다단계표본추출 : 군집 내 요소들은 상이하지만 군집과 군집은 비교적 유사\n",
    "    - 층화추출법에서 층을 집락으로 대치\n",
    "    \n",
    "### 층화추출법\n",
    "- 계층별로 랜덤추출법 수행 : 각 층 내 요소들은 유사하지만, 층과 층의 요소들은 상이\n",
    "    - 비례층화추출법, 불비례층화추출법"
   ]
  },
  {
   "cell_type": "code",
   "execution_count": null,
   "id": "1a7ffd4e",
   "metadata": {},
   "outputs": [],
   "source": [
    "# 비례층화추출법 : 원본 데이터의 비율대로 추출\n",
    "data, stratum, sampling_n = iris, 'target', 9\n",
    "\n",
    "levels = data[stratum].unique()\n",
    "total = data[stratum].value_counts().sum()\n",
    "prop_val = data[stratum].value_counts()/total\n",
    "n = prop_val * sampling_n\n",
    "\n",
    "result = pd.DataFrame()\n",
    "for level in levels:\n",
    "    temp_df = data[data[stratum]==level].sample(int(n[level]))\n",
    "    result = pd.concat([result, temp_df])\n",
    "print(result)"
   ]
  },
  {
   "cell_type": "code",
   "execution_count": null,
   "id": "54e6e981",
   "metadata": {},
   "outputs": [],
   "source": [
    "# 불비례층화추출법 : 임의로 정한 특정비율대로 샘플링\n",
    "data, stratum, sampling_n, proportion = iris, 'target', 10, {0:0.2, 1:0.5, 2:0.3}\n",
    "\n",
    "levels = list(proportion.keys())\n",
    "prop_val = np.array(list(proportion.values()))\n",
    "total = sum(prop_val)\n",
    "n = prop_val * sampling_n\n",
    "\n",
    "result = pd.DataFrame()\n",
    "for level in levels:\n",
    "    temp_df = data[data[stratum]==level].sample(int(n[level]))\n",
    "    result = pd.concat([result, temp_df])\n",
    "print(result)"
   ]
  },
  {
   "cell_type": "markdown",
   "id": "f55082ba",
   "metadata": {},
   "source": [
    "## 3-2 데이터분할\n",
    "- 과적합을 피함으로써 일반화된 성능확보\n",
    "### 일반적 데이터 분할 및 홀드아웃"
   ]
  },
  {
   "cell_type": "code",
   "execution_count": 3,
   "id": "30db5bff",
   "metadata": {},
   "outputs": [],
   "source": [
    "from sklearn.datasets import load_iris\n",
    "\n",
    "data = load_iris()\n",
    "iris_cols = list(data['feature_names']) + ['target']\n",
    "iris = pd.DataFrame(np.c_[data['data'], data['target']], columns=[col.replace(\" (cm)\", '') for col in iris_cols])\n"
   ]
  },
  {
   "cell_type": "code",
   "execution_count": 4,
   "id": "6d280408",
   "metadata": {},
   "outputs": [],
   "source": [
    "from sklearn.model_selection import train_test_split\n",
    "\n",
    "X = iris.drop('target', axis=1)\n",
    "y = iris['target']\n",
    "\n",
    "X_train, X_test, y_train, y_test = train_test_split(X, y, test_size=0.3)"
   ]
  },
  {
   "cell_type": "markdown",
   "id": "d3f3b079",
   "metadata": {},
   "source": [
    "### Shuffle Split\n",
    "- 무작위 순열 교차 검증\n",
    "    - 데이터 크기가 작은 경우, 분할 샘플들이 유사할 수 있다."
   ]
  },
  {
   "cell_type": "code",
   "execution_count": 6,
   "id": "979faece",
   "metadata": {},
   "outputs": [],
   "source": [
    "from sklearn.model_selection import ShuffleSplit\n",
    "from collections import Counter\n",
    "\n",
    "ss = ShuffleSplit(test_size=0.5, train_size=0.5, n_splits=4)\n",
    "for i, (train_idx, test_idx) in enumerate(ss.split(X)):\n",
    "    X_train, X_test, y_train, y_test = X.iloc[train_idx, :], X.iloc[test_idx, :], y.iloc[train_idx], y.iloc[test_idx]"
   ]
  },
  {
   "cell_type": "markdown",
   "id": "c283a99a",
   "metadata": {},
   "source": [
    "### K-fold 분할\n",
    "- 데이터를 k개 집단으로 나눈 뒤, k-1개 집단을 학습용, 1개 집단을 검증용으로 사용"
   ]
  },
  {
   "cell_type": "code",
   "execution_count": null,
   "id": "0b0ee399",
   "metadata": {},
   "outputs": [],
   "source": [
    "from sklearn.model_selection import KFold\n",
    "\n",
    "kf = KFold(n_splits=4, shuffle=False)\n",
    "for i, (train_idx, test_idx) in enumerate(kf.split(X)):\n",
    "    X_train, X_test, y_train, y_test = X.iloc[train_idx, :], X.iloc[test_idx, :], y.iloc[train_idx], y.iloc[test_idx]"
   ]
  },
  {
   "cell_type": "markdown",
   "id": "0afbf175",
   "metadata": {},
   "source": [
    "### Stratified K-Fold\n",
    "- KFold 과정 중에서, 집단 간 클래스 불균형을 막기 위해, 타겟 변수 클래스(범주형 타겟) 들이 일정한 비율로 배치되도록 함"
   ]
  },
  {
   "cell_type": "code",
   "execution_count": null,
   "id": "b043aad2",
   "metadata": {},
   "outputs": [],
   "source": [
    "from sklearn.model_selection import StratifiedKFold\n",
    "\n",
    "skf = StratifiedKFold(n_splits=4)\n",
    "for i, (train_idx, test_idx) in enumerate(skf.split(X, y)):\n",
    "    X_train, X_test, y_train, y_test = X.iloc[train_idx, :], X.iloc[test_idx, :], y.iloc[train_idx], y.iloc[test_idx]"
   ]
  },
  {
   "cell_type": "markdown",
   "id": "43dfc022",
   "metadata": {},
   "source": [
    "### Group K-Fold 분할\n",
    "- 범주형 변수인 group 수준별 데이터를 각 분할마다 검증용 데이터로 진행하도록 하는 방법\n",
    "- group 수준의 개수는 fold 갯수 보다 같거나 커야 함"
   ]
  },
  {
   "cell_type": "code",
   "execution_count": null,
   "id": "28b99193",
   "metadata": {},
   "outputs": [],
   "source": [
    "from sklearn.model_selection import GroupKFold\n",
    "\n",
    "gkf = GroupKFold(n_splits=4)\n",
    "# 분할 시, group 고려하므로 split의 group를 입력\n",
    "for i, (train_idx, test_idx) in enumerate(gkf.split(X, y, group)):\n",
    "    X_train, X_test, y_train, y_test = X.iloc[train_idx, :], X.iloc[test_idx, :], y.iloc[train_idx], y.iloc[test_idx]"
   ]
  },
  {
   "cell_type": "markdown",
   "id": "015d257d",
   "metadata": {},
   "source": [
    "## 3-3 교차검증\n",
    "- 학습용 데이터와 검증용 데이터를 앞서 언급한 분할 방법들로 다양하게 분할하고, 여러 파라미터 조건 하에 학습하여 교차검증함으로써 최적화된 일반화 모델 완성\n",
    "\n",
    "### 분할 샘플들로 교차검증"
   ]
  },
  {
   "cell_type": "code",
   "execution_count": null,
   "id": "b1d156fb",
   "metadata": {},
   "outputs": [],
   "source": [
    "from sklearn.model_selection import cross_validate, StratifiedKFold\n",
    "from sklearn.linear_model import LogisticRegression\n",
    "\n",
    "X = iris.drop('target', axis=1)\n",
    "y = iris['target']\n",
    "\n",
    "logreg = LogisticRegression(max_iter=300, C=0.1)\n",
    "skf = StratifiedKFold(n_splits=4)\n",
    "result = cross_validate(logreg, X, y, cv=skf, return_train_score=True)\n",
    "print(pd.DataFrame(result))"
   ]
  },
  {
   "cell_type": "markdown",
   "id": "5813cc28",
   "metadata": {},
   "source": [
    "### 파라미터 후보들로 교차검증"
   ]
  },
  {
   "cell_type": "code",
   "execution_count": null,
   "id": "f4f76db2",
   "metadata": {},
   "outputs": [],
   "source": [
    "from sklearn.model_selection import GridSearchCV\n",
    "\n",
    "logreg = LogisticRegression(max_iter=300)\n",
    "param_grid = {'C':[0.01, 0.1, 1], 'solver':['lbfgs', 'liblinear']}\n",
    "skf = StratifiedKFold(n_splits=4)\n",
    "grid = GridSearchCV(logreg, param_grid, cv=skf)\n",
    "grid.fit(X,y)\n",
    "\n",
    "print(pd.DataFrame(grid.cv_results_))"
   ]
  },
  {
   "cell_type": "code",
   "execution_count": null,
   "id": "ceaf7de5",
   "metadata": {},
   "outputs": [],
   "source": []
  }
 ],
 "metadata": {
  "kernelspec": {
   "display_name": "adp",
   "language": "python",
   "name": "adp_class"
  },
  "language_info": {
   "codemirror_mode": {
    "name": "ipython",
    "version": 3
   },
   "file_extension": ".py",
   "mimetype": "text/x-python",
   "name": "python",
   "nbconvert_exporter": "python",
   "pygments_lexer": "ipython3",
   "version": "3.10.16"
  }
 },
 "nbformat": 4,
 "nbformat_minor": 5
}
