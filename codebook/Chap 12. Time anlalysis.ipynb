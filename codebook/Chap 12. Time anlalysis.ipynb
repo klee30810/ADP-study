{
 "cells": [
  {
   "cell_type": "markdown",
   "id": "27a9edfb",
   "metadata": {},
   "source": [
    "# Chap 12. Time analysis\n",
    "- 시간 순서대로 정렬된 데이터에서 의미 있는 요약과 통계 정보 추출 + 미래 행동 예측\n",
    "- 시계열 데이터는 시간 흐름에 따라 서로 연결된 형태여야 하고 되도록 규칙적인 간격으로 수집해야 한다.\n",
    "- 종류\n",
    "    - 일변량 : 시간에 대해 측정된 변수가 하나만 있는 경우\n",
    "    - 다변량 : 각 타임스탬프에서 측정된 변수가 여러개 인 경우"
   ]
  },
  {
   "cell_type": "code",
   "execution_count": null,
   "id": "1aa881bc",
   "metadata": {},
   "outputs": [],
   "source": []
  },
  {
   "cell_type": "code",
   "execution_count": null,
   "id": "680c82d8",
   "metadata": {},
   "outputs": [],
   "source": []
  },
  {
   "cell_type": "code",
   "execution_count": null,
   "id": "c17b7c50",
   "metadata": {},
   "outputs": [],
   "source": []
  },
  {
   "cell_type": "code",
   "execution_count": null,
   "id": "3d7774cf",
   "metadata": {},
   "outputs": [],
   "source": []
  },
  {
   "cell_type": "code",
   "execution_count": null,
   "id": "9460457f",
   "metadata": {},
   "outputs": [],
   "source": []
  },
  {
   "cell_type": "code",
   "execution_count": null,
   "id": "4365379a",
   "metadata": {},
   "outputs": [],
   "source": []
  },
  {
   "cell_type": "code",
   "execution_count": null,
   "id": "23152d5f",
   "metadata": {},
   "outputs": [],
   "source": []
  },
  {
   "cell_type": "code",
   "execution_count": null,
   "id": "538e919c",
   "metadata": {},
   "outputs": [],
   "source": []
  },
  {
   "cell_type": "code",
   "execution_count": null,
   "id": "93e164c7",
   "metadata": {},
   "outputs": [],
   "source": []
  }
 ],
 "metadata": {
  "kernelspec": {
   "display_name": "adp",
   "language": "python",
   "name": "adp_class"
  },
  "language_info": {
   "codemirror_mode": {
    "name": "ipython",
    "version": 3
   },
   "file_extension": ".py",
   "mimetype": "text/x-python",
   "name": "python",
   "nbconvert_exporter": "python",
   "pygments_lexer": "ipython3",
   "version": "3.7.16"
  }
 },
 "nbformat": 4,
 "nbformat_minor": 5
}
