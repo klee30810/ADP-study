{
 "cells": [
  {
   "cell_type": "code",
   "execution_count": 3,
   "id": "78d8d6e2",
   "metadata": {},
   "outputs": [],
   "source": [
    "import pandas as pd\n",
    "import numpy as np\n",
    "import matplotlib.pyplot as plt\n",
    "import seaborn as sns\n",
    "\n",
    "import math\n",
    "from scipy import stats"
   ]
  },
  {
   "cell_type": "markdown",
   "id": "c7c477df",
   "metadata": {},
   "source": [
    "# 4. 확률분포\n",
    "## 4-1. 특수한 이산형 확률분포들\n",
    "### 베르누이 분포\n",
    "- 동등한 실험 조건 하에서, 실험의 결과가 단지 두 가지의 가능한 결과만 가질 때\n",
    "- 성공의 횟수를 확률변수 X라 하면, X는 성공률이 p인 베르누이 분포를 따른다\n",
    "$$ X \\sim Bernoulli(1, p) \\newline f(x)=p^x(1-p)^{1-x}, x=0\\ or\\ 1,\\ 0\\geq p \\leq 1\\newline E(X) = p, \\quad Var(X)=p(1-p)$$ "
   ]
  },
  {
   "cell_type": "code",
   "execution_count": 5,
   "id": "f755de6f",
   "metadata": {},
   "outputs": [
    {
     "name": "stdout",
     "output_type": "stream",
     "text": [
      "기댓값 : 0.3, 분산 : 0.21\n",
      "기댓값 : 0.3, 분산 : 0.21\n"
     ]
    }
   ],
   "source": [
    "p = 0.3; q = 1-p ; E = p ; V = p * (1-p)\n",
    "print(f\"기댓값 : {round(E, 3)}, 분산 : {round(V, 3)}\")\n",
    "\n",
    "E2, V2 = stats.bernoulli.stats(p)\n",
    "print(f\"기댓값 : {round(float(E2), 3)}, 분산 : {round(float(V2), 3)}\")"
   ]
  },
  {
   "cell_type": "markdown",
   "id": "00f51cf5",
   "metadata": {},
   "source": [
    "### 이항분포\n",
    "- 성공의 확률이 p인 베르누이 시행을 독립적으로 n번 반복시행\n",
    "- 이항분포 B(n,p)는 n>20, np>=4, n(1-p)>=5일 때, 정규분포 N(np, np(1-p))로 근사한다\n",
    "- P<=0.1, np=0.1~10, n>=50일 때, 포아송 분포 P(np)로 근사한다.\n",
    "$$ X \\sim Bin(n, p) \\newline f(x) = {}_n \\mathrm{ C }_kp^x(1-p)^{n-x}, \\quad x=0,1,\\dots,n\\newline E(X)=np,\\quad Var(X)=np(1-p)$$"
   ]
  },
  {
   "cell_type": "code",
   "execution_count": 6,
   "id": "495f78cb",
   "metadata": {},
   "outputs": [
    {
     "name": "stdout",
     "output_type": "stream",
     "text": [
      "기댓값 : 0.3, 분산 : 0.27\n",
      "기댓값 : 0.3, 분산 : 0.27\n"
     ]
    }
   ],
   "source": [
    "from numpy import math\n",
    "fac = math.factorial\n",
    "def combi(a, b):\n",
    "    result = fac(a)/fac(b)/fac(a-b)\n",
    "    return result\n",
    "\n",
    "n = 3 # 근로자 샘플 개수\n",
    "p = 0.1 # 떠날 확률\n",
    "\n",
    "E = n*p; V = n*p*(1-p)\n",
    "E2, V2 = stats.binom.stats(n, p)\n",
    "\n",
    "print(f\"기댓값 : {round(E, 3)}, 분산 : {round(V, 3)}\")\n",
    "print(f\"기댓값 : {round(float(E2), 3)}, 분산 : {round(float(V2), 3)}\")"
   ]
  },
  {
   "cell_type": "code",
   "execution_count": 7,
   "id": "a91cbb67",
   "metadata": {},
   "outputs": [
    {
     "name": "stdout",
     "output_type": "stream",
     "text": [
      "pmf : 0.243\n",
      "pmf : 0.243\n"
     ]
    }
   ],
   "source": [
    "# 1명이 금년에 회사를 떠날 확률?\n",
    "x = 1\n",
    "pmf = combi(n, x) * p**x * (1-p)**(n-x)\n",
    "print(f\"pmf : {round(pmf,3)}\")\n",
    "print(f\"pmf : {round(stats.binom.pmf(x, n, p),3)}\")"
   ]
  },
  {
   "cell_type": "code",
   "execution_count": 8,
   "id": "2591ec8a",
   "metadata": {},
   "outputs": [
    {
     "name": "stdout",
     "output_type": "stream",
     "text": [
      "cdf : 0.972\n",
      "cdf : 0.972\n"
     ]
    }
   ],
   "source": [
    "# 1명 이하로 떠날 확률?\n",
    "cdf = 0\n",
    "for i in range(0, x+1):\n",
    "    cdf += stats.binom.pmf(i, n, p)\n",
    "print(f\"cdf : {round(cdf,3)}\")\n",
    "print(f\"cdf : {round(stats.binom.cdf(x, n, p),3)}\")"
   ]
  },
  {
   "cell_type": "code",
   "execution_count": 11,
   "id": "976da799",
   "metadata": {},
   "outputs": [
    {
     "name": "stdout",
     "output_type": "stream",
     "text": [
      "이항분포 0.028, 정규분포 근사 0.028\n"
     ]
    }
   ],
   "source": [
    "# 이항분포 정규분포 근사\n",
    "x, n, p = 10, 30, 0.5\n",
    "b_result = stats.binom.pmf(x, n, p)\n",
    "E = n*p\n",
    "sigma = np.sqrt(E*(1-p))\n",
    "zstat1 = (x-0.5-E)/sigma\n",
    "zstat2 = (x+0.5-E)/sigma\n",
    "n_result = stats.norm.cdf(zstat2) - stats.norm.cdf(zstat1)\n",
    "\n",
    "print(f\"이항분포 {round(b_result,3)}, 정규분포 근사 {round(n_result,3)}\")"
   ]
  },
  {
   "cell_type": "code",
   "execution_count": 13,
   "id": "d63e06bf",
   "metadata": {},
   "outputs": [
    {
     "name": "stdout",
     "output_type": "stream",
     "text": [
      "이항분포 0.017, 포아송분포 근사 0.018\n"
     ]
    }
   ],
   "source": [
    "# 이항분포 포아송분포 근사\n",
    "x, n, p = 10, 100, 0.05\n",
    "b_result = stats.binom.pmf(x, n, p)\n",
    "E = n*p\n",
    "p_result = stats.poisson.pmf(x, E)\n",
    "print(f\"이항분포 {round(b_result,3)}, 포아송분포 근사 {round(p_result,3)}\")"
   ]
  },
  {
   "cell_type": "markdown",
   "id": "0d773d61",
   "metadata": {},
   "source": [
    "### 음이항분포\n",
    "- 성공 확률이 p인 베르누이 시행을 독립적으로 반복 시행할 때, k번 성공할 때까지의 시행횟수를 확률변수 X로 하는 경우 (1)과 k번 성공할 때까지의 실패횟수를 확률변수 X로 하는 경우 (2)의 확률변수 X는 모두 k,p를 모수로 같는 음이항분포\n",
    "- 셀 수 있지만 값이 무한한 무한확률변수, 음이항분포 k=1이면 음이항분포는 기하분포가 된다\n",
    "\n",
    "$$ X \\sim NB(k,p)$$\n",
    "1) 확률변수 X = 시행횟수\n",
    "$$f(x) = {}_{(x-1)} \\mathrm{ C }_{(k-1)}p^k(1-p)^{x-k},\\quad x=k,k+1,\\dots, \\quad k>0 \\newline E(X)=k/p,\\quad Var(X)=k(1-p)/p^2$$\n",
    "2) 확률변수 X = 실패횟수\n",
    "$$f(x) = {}_{(x+k-1)} \\mathrm{ C }_{(k-1)}p^k(1-p)^{x},\\quad x=0,1,2,\\dots, \\quad k>0 \\newline E(X)=k(1-p)/p,\\quad Var(X)=k(1-p)/p^2$$"
   ]
  },
  {
   "cell_type": "code",
   "execution_count": 16,
   "id": "6317e70b",
   "metadata": {},
   "outputs": [
    {
     "name": "stdout",
     "output_type": "stream",
     "text": [
      "수기 : 기대값 4.667, 분산 15.556\n",
      "라이브러리 : 기대값 4.667, 분산 15.556\n",
      "수기 : pmf 0.123\n",
      "라이브러리 : pmf 0.123\n",
      "수기 : cdf 0.472\n",
      "라이브러리 : cdf 0.472\n"
     ]
    }
   ],
   "source": [
    "# a가 승리할 확률이 0.3일 때, 5번 경기를 치르는 상황\n",
    "from numpy import math\n",
    "fac = math.factorial\n",
    "def combi(a,b):\n",
    "    result = fac(a)/fac(b)/fac(a-b)\n",
    "    return result\n",
    "\n",
    "n = 5; k = 2 ; p = 0.3; q = 1 - p; case = 2\n",
    "if case == 1:\n",
    "    x = n ; E = k/p ; V = k*q/p**2\n",
    "    pmf = combi(x-1, k-1) * p**k * q**(x-k)\n",
    "    E2, V2 = np.nan, np.nan # No library\n",
    "    pkg_pmf, pkg_cdf = np.nan, np.nan\n",
    "    cdf = 0\n",
    "    for i in range(k, x+1):\n",
    "        cdf += combi(i-1, k-1) * p**k * q**(i-k)\n",
    "\n",
    "elif case == 2:\n",
    "    x = n-k ; E = k*q/p ; V = k*q/p**2\n",
    "    pmf = combi(x+k-1, k-1) * p**k * q**x\n",
    "    E2, V2 = stats.nbinom.stats(k, p)\n",
    "    pkg_pmf, pkg_cdf = stats.nbinom.pmf(x, k, p), stats.nbinom.cdf(x, k, p)\n",
    "    cdf = 0\n",
    "    for i in range(0, x+1):\n",
    "        cdf += stats.nbinom.pmf(i, k, p)\n",
    "\n",
    "print(f\"수기 : 기대값 {round(E, 3)}, 분산 {round(V, 3)}\")        \n",
    "print(f\"라이브러리 : 기대값 {round(float(E2), 3)}, 분산 {round(float(V2), 3)}\")\n",
    "print(f\"수기 : pmf {round(pmf, 3)}\")        \n",
    "print(f\"라이브러리 : pmf {round(pkg_pmf, 3)}\")\n",
    "print(f\"수기 : cdf {round(cdf, 3)}\")        \n",
    "print(f\"라이브러리 : cdf {round(pkg_cdf, 3)}\")"
   ]
  },
  {
   "cell_type": "markdown",
   "id": "7acc41d6",
   "metadata": {},
   "source": [
    "### 기하분포\n",
    "- 성공의 확률이 p인 베르누이 시행을 처음으로 성공할 떄까지의 시행횟수를 확률변수 X일 경우 (1)과, 처음 성공할 떄 까지의 실패횟수를 확률변수 X라 하는 경우(2)의 확률변수 X는 성공확률 p를 모수로 갖는 기하분포를 따른다.\n",
    "- 셀 수 있지만 값이 무한한 무한확률변수. 무기억성(실패를 많이 했다고 해서 실패가 앞으로 성공할 가능성에 영향을 미치지 않음\n",
    "1) 확률변수 X = 시행횟수\n",
    "$$f(x) = p(1-p)^{x-1},\\quad x=1,2,3,\\dots \\newline E(X)=1/p,\\ Var(X)=(1-p)/p^2$$\n",
    "2) 확률변수 X = 실패횟수\n",
    "$$f(x) = p(1-p)^{x},\\quad x=0,1,2,\\dots \\newline E(X)=(1-p)/p,\\ Var(X)=(1-p)/p^2$$"
   ]
  },
  {
   "cell_type": "code",
   "execution_count": 17,
   "id": "9edc192f",
   "metadata": {},
   "outputs": [
    {
     "name": "stdout",
     "output_type": "stream",
     "text": [
      "수기 : 기대값 6.0, 분산 30.0\n",
      "라이브러리 : 기대값 6.0, 분산 30.0\n",
      "수기 : pmf 0.116\n",
      "라이브러리 : pmf 0.116\n",
      "수기 : cdf 0.421\n",
      "라이브러리 : cdf 0.421\n"
     ]
    }
   ],
   "source": [
    "# 하나의 주사위를 세번 던질 때 세번째 시행에서 앞면이 6이 나올 확률?\n",
    "n = 3; p = 1/6; q = 1-p\n",
    "\n",
    "case = 1\n",
    "if case==1:# 확률변수 X가 처음으로 성공할 때까지의 시행횟수 x인 경우\n",
    "    x=n; E=1/p; V=q/p**2\n",
    "    pmf = p*q**(x-1)\n",
    "    E2, V2 = stats.geom.stats(p, moments='mv')\n",
    "    pkg_pmf, pkg_cdf = stats.geom.pmf(x, p), stats.geom.cdf(x, p)\n",
    "    cdf = 0\n",
    "    for i in range(1, x+1):\n",
    "        cdf += p * q**(i-1)\n",
    "elif case==2: # 확률변수 X가 처음으로 성공할 때까지의 실패횟수 x인 경우\n",
    "    x=n; E=1/p; V=q/p**2\n",
    "    pmf = p*q**(x-1)\n",
    "    E2, V2 = np.nan, np.nan # No library\n",
    "    pkg_pmf, pkg_cdf = np.nan, np.nan\n",
    "    for i in range(0, x):\n",
    "        cdf += p * q**(i)\n",
    "        \n",
    "print(f\"수기 : 기대값 {round(E, 3)}, 분산 {round(V, 3)}\")        \n",
    "print(f\"라이브러리 : 기대값 {round(float(E2), 3)}, 분산 {round(float(V2), 3)}\")\n",
    "print(f\"수기 : pmf {round(pmf, 3)}\")        \n",
    "print(f\"라이브러리 : pmf {round(pkg_pmf, 3)}\")\n",
    "print(f\"수기 : cdf {round(cdf, 3)}\")        \n",
    "print(f\"라이브러리 : cdf {round(pkg_cdf, 3)}\")        "
   ]
  },
  {
   "cell_type": "markdown",
   "id": "f00ee3a9",
   "metadata": {},
   "source": [
    "### 초기하분포\n",
    "- 크기 N의 유한모집단 중 크기 n의 확률표본을 뽑을 경우, N개 중, k개는 성공으로, 나머지 (N-k)개는 실패로 분류하여 비복원으로 뽑을 때 성공횟수를 X라 하면, 확률변수 X는 N,k,n을 모수로 하는 초기하분포를 따른다.\n",
    "- 첫 시도결과에 따라 시도들이 달라지는 종속관계가 있는 경우\n",
    "- 모집단의 크기 N이 충분히 큰 경우, n개 시행 중 성공확률이 k/N인 이항분포 B(n, k/N)로 근사\n",
    "$$X\\sim HG(N, k, n)\\newline f(x)=\\frac{{}_k C_x\\ {}_{(N-k)}C_{(n-x)}}{{}_N C_n}\\quad x=0,1,\\dots,n\\newline E(X)=nk/N,\\ Var(x)=\\frac{nk}{N}\\frac{(N-k)}{N}\\frac{N-n}{N-1}$$"
   ]
  },
  {
   "cell_type": "code",
   "execution_count": 25,
   "id": "2233bec0",
   "metadata": {},
   "outputs": [
    {
     "name": "stdout",
     "output_type": "stream",
     "text": [
      "수기 : 기대값 0.2, 분산 0.178\n",
      "라이브러리 : 기대값 0.2, 분산 0.178\n",
      "수기 : pmf 0.182\n",
      "라이브러리 : pmf 0.182\n",
      "수기 : cdf 0.991\n",
      "라이브러리 : cdf 0.991\n"
     ]
    }
   ],
   "source": [
    "from numpy import math\n",
    "fac = math.factorial\n",
    "def combi(a,b):\n",
    "    return fac(a)/fac(b)/fac(a-b)\n",
    "\n",
    "# 상자 속에 빨간 공이 90개, 파란 공이 10개 들어있다. 임의로 1개를 두 번 꺼내고 다시 넣지 않을 때 1개가 파란공이 될 확률은?\n",
    "N = 100 # 모집단 수\n",
    "k = 10 # 성공요소 수\n",
    "n = 2 # 시행 횟수\n",
    "x = 1 # 확인하고자 하는 사건 (1개 파란공)\n",
    "P = k/N # 모비율\n",
    "\n",
    "E = n*P; V = n*P*(1-P)*((N-n)/(N-1))\n",
    "E2, V2 = stats.hypergeom.stats(N,k,n)\n",
    "pmf = combi(k,x)*combi(N-k,n-x)/combi(N,n)\n",
    "\n",
    "cdf = 0\n",
    "for i in range(0, x+1):\n",
    "    cdf += stats.hypergeom.pmf(i, N, k, n)\n",
    "\n",
    "print(f\"수기 : 기대값 {round(E, 3)}, 분산 {round(V, 3)}\")        \n",
    "print(f\"라이브러리 : 기대값 {round(float(E2), 3)}, 분산 {round(float(V2), 3)}\")\n",
    "print(f\"수기 : pmf {round(pmf, 3)}\")        \n",
    "print(f\"라이브러리 : pmf {round(stats.hypergeom.pmf(x, N, k, n), 3)}\")\n",
    "print(f\"수기 : cdf {round(cdf, 3)}\")        \n",
    "print(f\"라이브러리 : cdf {round(stats.hypergeom.cdf(x, N, k, n), 3)}\")        "
   ]
  },
  {
   "cell_type": "code",
   "execution_count": 26,
   "id": "160d8ba4",
   "metadata": {},
   "outputs": [
    {
     "name": "stdout",
     "output_type": "stream",
     "text": [
      "0.18000000000000005 0.18181818181818166\n"
     ]
    }
   ],
   "source": [
    "# 초기하 분포의 이항근사\n",
    "\n",
    "b_result = stats.binom.pmf(x, n, k/N)\n",
    "h_result = stats.hypergeom.pmf(x, N, k, n)\n",
    "print(b_result, h_result)"
   ]
  },
  {
   "cell_type": "markdown",
   "id": "930ca96d",
   "metadata": {},
   "source": [
    "### 포아송 분포\n",
    "- 단위시간, 단위면적, 단위공간 내에서 발생하는 어떤 사것의 횟수를 확률변수 X라고 할 때, 확률변수는 $\\lambda$(단위 시간 내에서 발생하는 사건의 평균값)을 모수로 갖는 포아송 분포를 따른다.\n",
    "- 셀 수 는 있지만 값이 무한확률변수이며, 사건발생횟수는 다른 시공간에 대해 독립이며, 평균 출현횟수는 일정\n",
    "- $\\lambda \\geq 5$일 때, 정규분포에 근사하고, $\\lambda < 5$ 일 때, 왼쪽으로 치우치고 오른쪽으로 긴 꼬리가 있는 비대칭분포를 가짐\n",
    "$$f(x) = \\frac{e^{-\\lambda}\\lambda^x}{x!},\\quad x=0,1,2,\\dots \\newline E(X)=\\lambda,\\quad Var(X)=\\lambda$$"
   ]
  },
  {
   "cell_type": "code",
   "execution_count": 5,
   "id": "f4f958f4",
   "metadata": {},
   "outputs": [
    {
     "name": "stdout",
     "output_type": "stream",
     "text": [
      "수기 : 기대값 3, 분산 3\n",
      "라이브러리 : 기대값 3.0, 분산 3.0\n",
      "수기 : pmf 0.168\n",
      "라이브러리 : pmf 0.168\n",
      "수기 : cdf 0.815\n",
      "라이브러리 : cdf 0.815\n"
     ]
    }
   ],
   "source": [
    "# 주말 저녁 시간 당 평균 6명이 응급실, 어떤 주말 저녁 30분 내 4명이 도착할 확률?\n",
    "x = 4; lam = 3\n",
    "E = lam; V = lam\n",
    "E2, V2 = stats.poisson.stats(lam, moments='mv')\n",
    "print(f\"수기 : 기대값 {round(E, 3)}, 분산 {round(V, 3)}\")        \n",
    "print(f\"라이브러리 : 기대값 {round(float(E2), 3)}, 분산 {round(float(V2), 3)}\")\n",
    "\n",
    "pmf = np.exp(-lam)*lam**x/math.factorial(x)\n",
    "print(f\"수기 : pmf {round(pmf, 3)}\")        \n",
    "print(f\"라이브러리 : pmf {round(stats.poisson.pmf(x, lam), 3)}\")\n",
    "\n",
    "cdf = 0\n",
    "for i in range(0, x+1):\n",
    "    cdf += stats.poisson.pmf(i, lam)\n",
    "print(f\"수기 : cdf {round(cdf, 3)}\")        \n",
    "print(f\"라이브러리 : cdf {round(stats.poisson.cdf(x, lam), 3)}\")        "
   ]
  },
  {
   "cell_type": "code",
   "execution_count": 6,
   "id": "966af0df",
   "metadata": {},
   "outputs": [
    {
     "name": "stdout",
     "output_type": "stream",
     "text": [
      "0.007383492859331415 0.00581630651834512\n"
     ]
    }
   ],
   "source": [
    "# 포아송 분포 정규근사\n",
    "\n",
    "x = 10; lam = 20; \n",
    "E = V = lam;\n",
    "sigma = np.sqrt(V)\n",
    "zstat1 = (x-0.5-lam)/sigma\n",
    "zstat2 = (x+0.5-lam)/sigma\n",
    "n_result = stats.norm.cdf(zstat2) - stats.norm.cdf(zstat1)\n",
    "p_result = stats.poisson.pmf(x, lam)\n",
    "\n",
    "print(n_result, p_result)"
   ]
  },
  {
   "cell_type": "markdown",
   "id": "eee9583a",
   "metadata": {},
   "source": [
    "## 4-2 특수한 연속형 확률분포들\n",
    "### 균일분포\n",
    "- 구간 (a,b)에서 확률변수 X가 균일하게 분포\n",
    "$$X \\sim U(a,b)\\newline f(x)=1/(b-a),\\quad a<x<b,\\quad E(X)=(a+b)/2,\\quad Var(X)=(b-a)^2/12$$"
   ]
  },
  {
   "cell_type": "code",
   "execution_count": 8,
   "id": "67bfcbff",
   "metadata": {},
   "outputs": [
    {
     "name": "stdout",
     "output_type": "stream",
     "text": [
      "cdf : 0.3\n",
      "수기 : 기대값 10.0, 분산 8.333\n"
     ]
    }
   ],
   "source": [
    "# 확률변수 X가 (5, 15)에서 균일분포를 따를 때 12,15 사이의 확률은?\n",
    "a = 5; b = 15; p = 1/(b-a)\n",
    "range_ = [(12, 15)]\n",
    "E = (b+a)/2 ; V = (b-a)**2/12\n",
    "\n",
    "cdf = 0\n",
    "for (x1, x2) in range_:\n",
    "    cdf += (x2-x1) * p\n",
    "\n",
    "print(f\"cdf : {round(cdf,3)}\")\n",
    "print(f\"수기 : 기대값 {round(E, 3)}, 분산 {round(V, 3)}\")  "
   ]
  },
  {
   "cell_type": "code",
   "execution_count": 10,
   "id": "63718821",
   "metadata": {},
   "outputs": [
    {
     "name": "stdout",
     "output_type": "stream",
     "text": [
      "cdf : 0.333\n",
      "수기 : 기대값 15.0, 분산 75.0\n"
     ]
    }
   ],
   "source": [
    "# 버스가 오전 7시부터 15분 간격으로 정류장 출발. 한 승객이 정류장에 도착하는 시간은 7시~7시30분 사이의 균등분포를 따를 때, 이 승객이 버스를 5분 미만 기다릴 확률은?\n",
    "a = 0 ; b = 30 ; p = 1/(b-a)\n",
    "range_ = [(10, 15), (25, 30)]\n",
    "\n",
    "E = (b+a)/2 ; V = (b-a)**2/12\n",
    "cdf = 0\n",
    "for (x1, x2) in range_:\n",
    "    cdf += (x2-x1) * p\n",
    "    \n",
    "print(f\"cdf : {round(cdf,3)}\")\n",
    "print(f\"수기 : 기대값 {round(E, 3)}, 분산 {round(V, 3)}\")  "
   ]
  },
  {
   "cell_type": "markdown",
   "id": "ddffe3f3",
   "metadata": {},
   "source": [
    "### 정규분포\n",
    "- 곡선 중심위치 평균 / 곡선의 퍼진 정도 표준편차\n",
    "- 왜도 0, 첨도 3 / 양측꼬리는 x축에 닿지 않고 무한대 / 평균에 대해 좌우대칭\n",
    "\n",
    "$$\n",
    "X \\sim N(\\mu, \\sigma^2)\\newline f(x)=\\frac{1}{\\sqrt{2\\pi\\sigma}}e^{-\\frac{1}{2}(\\frac{x-\\mu}{\\sigma})^2} \\newline E(X)=\\mu,\\quad Var(x)=\\sigma^2\n",
    "$$\n",
    "\n",
    "- 확률은 정규곡선의 밑 면적으로 주어지나, 계산이 복잡하므로 평균과 표준편차를 이용하여 X를 표준화한 후 구한다. \n",
    "- 표준화 $Z=(X-\\mu)/\\sigma$로 변환, 평균 0과 표준편차 1인 표준정규분포 따름\n",
    "$$\n",
    "Z \\sim N(0, 1)\\newline f(x)=\\frac{1}{\\sqrt{2\\pi}}e^{-\\frac{x^2}{2}} \\newline E(X)=0,\\quad Var(x)=1\n",
    "$$"
   ]
  },
  {
   "cell_type": "code",
   "execution_count": 12,
   "id": "164dee54",
   "metadata": {},
   "outputs": [
    {
     "name": "stdout",
     "output_type": "stream",
     "text": [
      "cdf : 0.669\n",
      "수기 : 기대값 30, 분산 64\n"
     ]
    }
   ],
   "source": [
    "E = 30; V = 64; S = np.sqrt(V)\n",
    "x1 = 26; x2 = 46\n",
    "\n",
    "zstat1 = (x1-E)/S\n",
    "zstat2 = (x2-E)/S\n",
    "cdf = stats.norm.cdf(zstat2) - stats.norm.cdf(zstat1)\n",
    "print(f\"cdf : {round(cdf,3)}\")\n",
    "print(f\"수기 : 기대값 {round(E, 3)}, 분산 {round(V, 3)}\")  "
   ]
  },
  {
   "cell_type": "code",
   "execution_count": 13,
   "id": "443bb767",
   "metadata": {},
   "outputs": [
    {
     "name": "stdout",
     "output_type": "stream",
     "text": [
      "cdf : 0.95\n",
      "수기 : 기대값 0, 분산 1\n"
     ]
    }
   ],
   "source": [
    "E = 0; V = 1; S = np.sqrt(V)\n",
    "x1 = -1.96; x2 = 1.96\n",
    "\n",
    "zstat1 = (x1-E)/S\n",
    "zstat2 = (x2-E)/S\n",
    "cdf = stats.norm.cdf(zstat2) - stats.norm.cdf(zstat1)\n",
    "print(f\"cdf : {round(cdf,3)}\")\n",
    "print(f\"수기 : 기대값 {round(E, 3)}, 분산 {round(V, 3)}\")  "
   ]
  },
  {
   "cell_type": "markdown",
   "id": "fb89e8f8",
   "metadata": {},
   "source": [
    "### 지수분포\n",
    "- 한번의 사건이 발생할 떄까지 소요되는 시간의 분포\n",
    "- 어떤 사건이 포아송분포에 의해서 발생될 때, 지정된 시점으로부터 이 사건이 일어날 떄까지 걸린 시간\n",
    "- $\\lambda$ 단위시간 동안에 평균적으로 발생한 사건의 획수\n",
    "$$X\\sim\\epsilon(\\lambda)\\newline f(x)=\\lambda e^{-\\lambda x},\\quad x>0,\\lambda>0 \\newline E(X)=1/\\lambda, \\quad Var(X)=1/\\lambda^2$$"
   ]
  },
  {
   "cell_type": "code",
   "execution_count": 14,
   "id": "67d729ad",
   "metadata": {},
   "outputs": [
    {
     "name": "stdout",
     "output_type": "stream",
     "text": [
      "cdf : 0.487\n",
      "수기 : 기대값 3.0, 분산 9.0\n"
     ]
    }
   ],
   "source": [
    "# 자동차들 사이 시간 간격이 평균 3분인 지수확률 분포를 따르는 경우, 연속한 두 대의 차량이 도착하는 시간이 2분 이내일 확류은?\n",
    "lam = 1/3  # 3분동안 1건\n",
    "x = 2\n",
    "\n",
    "E = 1/lam ; V = 1/(lam**2)\n",
    "cdf = stats.expon.cdf(x, scale=1/lam)\n",
    "print(f\"cdf : {round(cdf,3)}\")\n",
    "print(f\"수기 : 기대값 {round(E, 3)}, 분산 {round(V, 3)}\")  "
   ]
  },
  {
   "cell_type": "markdown",
   "id": "72d64163",
   "metadata": {},
   "source": [
    "### 감마분포\n",
    "- $\\alpha$번의 사건이 발생할 때 까지의 대기시간 분포. 지수분포의 ㅇ리반화된 형태\n",
    "    - 감마분포에서 $\\alpha=1$인 경우, $\\beta=1/\\lambda$인 지수분포\n",
    "$$\n",
    "X \\sim \\Gamma(\\alpha, \\beta) \\newline\n",
    "f(x) = \\frac{1}{\\Gamma(\\alpha)\\beta^\\alpha}x^{\\alpha-1}e^{-\\frac{X}{\\beta}},\\quad x>0, \\alpha>0, \\beta>0 \\newline\n",
    "E(X)=\\alpha\\beta=\\alpha/\\lambda,\\quad Var(X)=\\alpha\\beta^2=\\alpha/\\lambda^2\n",
    "$$"
   ]
  },
  {
   "cell_type": "code",
   "execution_count": 17,
   "id": "cc996f37",
   "metadata": {},
   "outputs": [
    {
     "name": "stdout",
     "output_type": "stream",
     "text": [
      "cdf : 0.706\n",
      "수기 : 기대값 2.0, 분산 1.0\n"
     ]
    }
   ],
   "source": [
    "# 낚시를 하는데 어부가 물고기를 30분에 한 마리씩 잡는다. 어부가 4마리의 물고기를 잡을 때까지 걸리는 시간이 1시간에서 3시간 사이로 소요도리 확률은?\n",
    "lam = 2 ; beta = 1/lam ; alpha=4\n",
    "E = alpha * beta; V = alpha * beta**2\n",
    "range_ = (1,3)\n",
    "\n",
    "cdf = stats.gamma.cdf(range_[1], alpha, scale=beta) - stats.gamma.cdf(range_[0], alpha, scale=beta)\n",
    "print(f\"cdf : {round(cdf,3)}\")\n",
    "print(f\"수기 : 기대값 {round(E, 3)}, 분산 {round(V, 3)}\")  "
   ]
  },
  {
   "cell_type": "code",
   "execution_count": 18,
   "id": "77fc7abf",
   "metadata": {},
   "outputs": [
    {
     "name": "stdout",
     "output_type": "stream",
     "text": [
      "cdf : 0.82\n",
      "수기 : 기대값 12.5, 분산 7.812\n"
     ]
    }
   ],
   "source": [
    "# 배송 시간이 alpha=20, lambda=1.6인 감마분포를 따를 때, 20개 철반을 배송할 떄 걸리는 시간이 15분 이내일 확률은?\n",
    "lam = 1.6 ; beta = 1/lam ; alpha = 20\n",
    "E = alpha * beta; V = alpha * beta**2\n",
    "range_ = (0, 15)\n",
    "\n",
    "cdf = stats.gamma.cdf(range_[1], alpha, scale=beta) - stats.gamma.cdf(range_[0], alpha, scale=beta)\n",
    "print(f\"cdf : {round(cdf,3)}\")\n",
    "print(f\"수기 : 기대값 {round(E, 3)}, 분산 {round(V, 3)}\")  "
   ]
  },
  {
   "cell_type": "markdown",
   "id": "7c2ec49f",
   "metadata": {},
   "source": [
    "### 카이제곱분포\n",
    "- 감마분포의 자유도 n인 경우 : $\\alpha = n/2, \\beta=2$\n",
    "- 모집단이 정규분포인 대표본에서 모분산 $\\sigma^2$을 추정/검정하거나, 비모수 검정 중에서 범주형 변수들에 대한 적합도 검정, 독립성 검정, 동질성 검정에 사용\n",
    "$$ X \\sim X^2_{(n)} \\newline f(x)=\\frac{1}{\\gamma(\\frac{\\pi}{2}) 2^{\\frac{n}{2}}}x^{\\frac{n}{2}-1}e^{-\\frac{x}{2}}, \\quad x>0, n>0 \\newline E(X)=n,\\quad Var(X)=2n$$"
   ]
  },
  {
   "cell_type": "markdown",
   "id": "4ee8dbf0",
   "metadata": {},
   "source": [
    "### t분포\n",
    "- 표본 평균을 표본 분산으로 표준화한 값이 확률분포. 모분산을 모르는 상황에서 표본 평균 추정/검정\n",
    "- 자유도가 증가할수록 표준정규분포 수렴. 주로 30개 이하의 소표본에 사용\n",
    "$$ X\\sim t_{(k)} \\newline f(x)=\\frac{\\gamma(\\frac{k+1}{2})}{\\gamma(\\frac{k}{2})\\sqrt{\\pi k}}(1+\\frac{x^2}{k})^{-\\frac{k+1}{2}},\\quad -\\inf <x< \\inf \\newline E(X)=0,\\quad Var(X)=k/(k-2),\\quad k>2$$\n"
   ]
  },
  {
   "cell_type": "markdown",
   "id": "be166168",
   "metadata": {},
   "source": [
    "### F분포\n",
    "- 두 모집단의 모분산 비의 추정/검정과 세 집단 이상의 모평균 비교\n",
    "- 확률변수 X가 자유도 (m,n)인 F분포를 따를 때\n",
    "$$\n",
    "X \\sim F_{(m,n)}\\\\ f(x)=\n",
    "\\begin{cases}\n",
    "    \\frac{\\Gamma(\\frac{m+n}{2})(\\frac{m}{n})^{\\frac{m}{2}}}{\\Gamma(\\frac{m}{2})\\Gamma(\\frac{n}{2})}\\cdot\\frac{x^{\\frac{m}{2}-1}}{(1+\\frac{m}{n}x)^{\\frac{m+n}{2}}} , & x > 0 \\\\\n",
    "    0, & x \\leq 0\n",
    "\\end{cases} \\\\\n",
    "E(X)=n/(n-2),\\quad n>2 \\\\ Var(X)=\\frac{2n^2(m+n-2)}{m(n-2)^2(n-4)}, \\quad n>4\n",
    "$$"
   ]
  },
  {
   "cell_type": "markdown",
   "id": "70075380",
   "metadata": {},
   "source": [
    "### Practice"
   ]
  },
  {
   "cell_type": "code",
   "execution_count": 32,
   "id": "fcfe39f5",
   "metadata": {},
   "outputs": [
    {
     "data": {
      "text/plain": [
       "4.0"
      ]
     },
     "execution_count": 32,
     "metadata": {},
     "output_type": "execute_result"
    }
   ],
   "source": [
    "# 권총 사격 선수가 과녁을 맞출 확률이 80%. 총 5번 사격 시 평균적으로 몇 번 과녁을 맞추는가?\n",
    "E, V = stats.binom.stats(n=5, p=0.8)\n",
    "float(E)"
   ]
  },
  {
   "cell_type": "code",
   "execution_count": 35,
   "id": "54475ef0",
   "metadata": {},
   "outputs": [
    {
     "data": {
      "text/plain": [
       "0.21"
      ]
     },
     "execution_count": 35,
     "metadata": {},
     "output_type": "execute_result"
    }
   ],
   "source": [
    "# 전체 청소년의 40%가 11시 이전에 잠을 잔다고 하면, \n",
    "# 임의로 선택한 10명의 청소년 중에서 3명이 11시 이전에 잠을 잘 확률?\n",
    "round(stats.binom.pmf(k=3, n=10, p=0.4), 2)"
   ]
  },
  {
   "cell_type": "code",
   "execution_count": 43,
   "id": "ac41752d",
   "metadata": {},
   "outputs": [
    {
     "data": {
      "text/plain": [
       "0.03"
      ]
     },
     "execution_count": 43,
     "metadata": {},
     "output_type": "execute_result"
    }
   ],
   "source": [
    "# 어느 아파트 단지에서 밤 11시부터 새벽 2시 사이에 배달되는 음식 배달 건수는 시간당 평균 5건\n",
    "# 음식 배달 건수의 분포가 포아송분포를 따를 때, 오늘 새벽 12시와 1시 사이에 배달이 1건만 발생할 확률?\n",
    "round(stats.poisson.pmf(1, 5),2)"
   ]
  },
  {
   "cell_type": "code",
   "execution_count": 47,
   "id": "25be0ab7",
   "metadata": {},
   "outputs": [
    {
     "data": {
      "text/plain": [
       "80.38"
      ]
     },
     "execution_count": 47,
     "metadata": {},
     "output_type": "execute_result"
    }
   ],
   "source": [
    "# 전공 시험 성적 분포는 평균이 65, 표준편차 12인 정규분포\n",
    "# 최고점수 10%까지 A+라면, A+를 위하여 최소 몇 점을 받아야 하는가\n",
    "z_val = stats.norm.ppf(1-0.1)\n",
    "round(65 + z_val * 12, 2)"
   ]
  }
 ],
 "metadata": {
  "kernelspec": {
   "display_name": "adp",
   "language": "python",
   "name": "adp_class"
  },
  "language_info": {
   "codemirror_mode": {
    "name": "ipython",
    "version": 3
   },
   "file_extension": ".py",
   "mimetype": "text/x-python",
   "name": "python",
   "nbconvert_exporter": "python",
   "pygments_lexer": "ipython3",
   "version": "3.7.13"
  }
 },
 "nbformat": 4,
 "nbformat_minor": 5
}
