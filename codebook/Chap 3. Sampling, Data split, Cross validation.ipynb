{
 "cells": [
  {
   "cell_type": "code",
   "execution_count": 2,
   "id": "3fd1ba69",
   "metadata": {},
   "outputs": [],
   "source": [
    "import random\n",
    "import pandas as pd\n",
    "import numpy as np\n",
    "import matplotlib.pyplot as plt\n",
    "import seaborn as sns"
   ]
  },
  {
   "cell_type": "markdown",
   "id": "0ecd0027",
   "metadata": {},
   "source": [
    "## 3-1 표본추출\n",
    "### 단순랜덤추출법\n",
    "- 각 샘플에 번호를 부여하여 임의의 n개를 추출, 샘플이 추출 될 확률은 동일"
   ]
  },
  {
   "cell_type": "code",
   "execution_count": 4,
   "id": "78c457cd",
   "metadata": {},
   "outputs": [
    {
     "data": {
      "text/html": [
       "<div>\n",
       "<style scoped>\n",
       "    .dataframe tbody tr th:only-of-type {\n",
       "        vertical-align: middle;\n",
       "    }\n",
       "\n",
       "    .dataframe tbody tr th {\n",
       "        vertical-align: top;\n",
       "    }\n",
       "\n",
       "    .dataframe thead th {\n",
       "        text-align: right;\n",
       "    }\n",
       "</style>\n",
       "<table border=\"1\" class=\"dataframe\">\n",
       "  <thead>\n",
       "    <tr style=\"text-align: right;\">\n",
       "      <th></th>\n",
       "      <th>sepal length</th>\n",
       "      <th>sepal width</th>\n",
       "      <th>petal length</th>\n",
       "      <th>petal width</th>\n",
       "      <th>target</th>\n",
       "    </tr>\n",
       "  </thead>\n",
       "  <tbody>\n",
       "    <tr>\n",
       "      <th>0</th>\n",
       "      <td>5.1</td>\n",
       "      <td>3.5</td>\n",
       "      <td>1.4</td>\n",
       "      <td>0.2</td>\n",
       "      <td>0.0</td>\n",
       "    </tr>\n",
       "    <tr>\n",
       "      <th>1</th>\n",
       "      <td>4.9</td>\n",
       "      <td>3.0</td>\n",
       "      <td>1.4</td>\n",
       "      <td>0.2</td>\n",
       "      <td>0.0</td>\n",
       "    </tr>\n",
       "    <tr>\n",
       "      <th>2</th>\n",
       "      <td>4.7</td>\n",
       "      <td>3.2</td>\n",
       "      <td>1.3</td>\n",
       "      <td>0.2</td>\n",
       "      <td>0.0</td>\n",
       "    </tr>\n",
       "    <tr>\n",
       "      <th>3</th>\n",
       "      <td>4.6</td>\n",
       "      <td>3.1</td>\n",
       "      <td>1.5</td>\n",
       "      <td>0.2</td>\n",
       "      <td>0.0</td>\n",
       "    </tr>\n",
       "    <tr>\n",
       "      <th>4</th>\n",
       "      <td>5.0</td>\n",
       "      <td>3.6</td>\n",
       "      <td>1.4</td>\n",
       "      <td>0.2</td>\n",
       "      <td>0.0</td>\n",
       "    </tr>\n",
       "  </tbody>\n",
       "</table>\n",
       "</div>"
      ],
      "text/plain": [
       "   sepal length  sepal width  petal length  petal width  target\n",
       "0           5.1          3.5           1.4          0.2     0.0\n",
       "1           4.9          3.0           1.4          0.2     0.0\n",
       "2           4.7          3.2           1.3          0.2     0.0\n",
       "3           4.6          3.1           1.5          0.2     0.0\n",
       "4           5.0          3.6           1.4          0.2     0.0"
      ]
     },
     "execution_count": 4,
     "metadata": {},
     "output_type": "execute_result"
    }
   ],
   "source": [
    "from sklearn.datasets import load_iris\n",
    "\n",
    "data = load_iris()\n",
    "iris_cols = list(data['feature_names']) + ['target']\n",
    "iris = pd.DataFrame(np.c_[data['data'], data['target']], columns=[col.replace(\" (cm)\", '') for col in iris_cols])\n",
    "iris.head()"
   ]
  },
  {
   "cell_type": "code",
   "execution_count": 8,
   "id": "e46ae493",
   "metadata": {},
   "outputs": [
    {
     "name": "stdout",
     "output_type": "stream",
     "text": [
      "    sepal length  sepal width  petal length  petal width  target\n",
      "19           5.1          3.8           1.5          0.3     0.0\n",
      "49           5.0          3.3           1.4          0.2     0.0\n",
      "18           5.7          3.8           1.7          0.3     0.0\n",
      "     sepal length  sepal width  petal length  petal width  target\n",
      "31            5.4          3.4           1.5          0.4     0.0\n",
      "34            4.9          3.1           1.5          0.2     0.0\n",
      "80            5.5          2.4           3.8          1.1     1.0\n",
      "132           6.4          2.8           5.6          2.2     2.0\n",
      "   petal length  petal width  target\n",
      "0           1.4          0.2     0.0\n",
      "1           1.4          0.2     0.0\n",
      "2           1.3          0.2     0.0\n"
     ]
    }
   ],
   "source": [
    "print(iris.sample(n=3, replace=False))\n",
    "print(iris.sample(frac=0.03))\n",
    "print(iris.sample(n=3, axis=1).head(3))"
   ]
  },
  {
   "cell_type": "code",
   "execution_count": 10,
   "id": "4f598d8b",
   "metadata": {},
   "outputs": [
    {
     "name": "stdout",
     "output_type": "stream",
     "text": [
      "random.sample:  [5, 1, 3, 'b']\n",
      "np.random.choice ['a' '4' '4' 'c']\n"
     ]
    }
   ],
   "source": [
    "data_list = [1,2,3,4,5, 'a', 'b', 'c']\n",
    "print(\"random.sample: \", random.sample(data_list, 4))\n",
    "print(\"np.random.choice\", np.random.choice(data_list, 4, replace=True))"
   ]
  },
  {
   "cell_type": "code",
   "execution_count": 11,
   "id": "92b64105",
   "metadata": {},
   "outputs": [
    {
     "name": "stdout",
     "output_type": "stream",
     "text": [
      "0~10 사이 정수 중 난수 3개 생성:  [9 1 9]\n",
      "0~1 사이 실수 2*2 배열로 생성:  [[0.1553241  0.33852583]\n",
      " [0.58367196 0.62946181]]\n"
     ]
    }
   ],
   "source": [
    "print(\"0~10 사이 정수 중 난수 3개 생성: \", np.random.randint(0,10,3))\n",
    "print(\"0~1 사이 실수 2*2 배열로 생성: \", np.random.rand(2,2))"
   ]
  },
  {
   "cell_type": "markdown",
   "id": "8abdeb63",
   "metadata": {},
   "source": [
    "### 계통추출법\n",
    "- 번호를 부여한 샘플은 나열하고, 구간을 N/n으로 나눈다. 각 구간의 임의로 샘플을 선택하고 특정 인터벌 단위로 샘플 추출"
   ]
  },
  {
   "cell_type": "code",
   "execution_count": 12,
   "id": "f625cacd",
   "metadata": {},
   "outputs": [
    {
     "name": "stdout",
     "output_type": "stream",
     "text": [
      "N: 150\n",
      "n: 8\n",
      "K: 18\n",
      "     sepal length  sepal width  petal length  petal width  target\n",
      "17            5.1          3.5           1.4          0.3     0.0\n",
      "35            5.0          3.2           1.2          0.2     0.0\n",
      "53            5.5          2.3           4.0          1.3     1.0\n",
      "71            6.1          2.8           4.0          1.3     1.0\n",
      "89            5.5          2.5           4.0          1.3     1.0\n",
      "107           7.3          2.9           6.3          1.8     2.0\n",
      "125           7.2          3.2           6.0          1.8     2.0\n",
      "143           6.8          3.2           5.9          2.3     2.0\n"
     ]
    }
   ],
   "source": [
    "data, n = iris, 8\n",
    "N = len(data)\n",
    "K = N//n\n",
    "index = data[:K].sample(1).index\n",
    "\n",
    "sys_df = pd.DataFrame()\n",
    "while len(sys_df) < n:\n",
    "    sys_df = sys_df.append(data.loc[index, :])\n",
    "    index += K\n",
    "\n",
    "print(f\"N: {N}\")\n",
    "print(f\"n: {n}\")\n",
    "print(f\"K: {K}\")\n",
    "print(sys_df)"
   ]
  },
  {
   "cell_type": "markdown",
   "id": "9a71995c",
   "metadata": {},
   "source": [
    "### 집락추출법\n",
    "- 군집별로 랜덤추출법 수행\n",
    "    - 지역표본추출, 다단계표본추출 : 군집 내 요소들은 상이하지만 군집과 군집은 비교적 유사\n",
    "    - 층화추출법에서 층을 집락으로 대치\n",
    "### 층화추출법\n",
    "- 계층별로 랜덤추출법 수행 : 각 층 내 요소들은 유사하지만, 층과 층의 요소들은 상이\n",
    "    - 비례층화추출법, 불비례층화추출법"
   ]
  },
  {
   "cell_type": "code",
   "execution_count": 13,
   "id": "a26cd51e",
   "metadata": {},
   "outputs": [
    {
     "name": "stdout",
     "output_type": "stream",
     "text": [
      "0.0    50\n",
      "1.0    50\n",
      "2.0    50\n",
      "Name: target, dtype: int64\n"
     ]
    }
   ],
   "source": [
    "# target을 층 혹은 집락이라고 가정\n",
    "print(iris['target'].value_counts())"
   ]
  },
  {
   "cell_type": "code",
   "execution_count": 18,
   "id": "2e141283",
   "metadata": {},
   "outputs": [
    {
     "name": "stdout",
     "output_type": "stream",
     "text": [
      "     sepal length  sepal width  petal length  petal width  target\n",
      "44            5.1          3.8           1.9          0.4     0.0\n",
      "12            4.8          3.0           1.4          0.1     0.0\n",
      "4             5.0          3.6           1.4          0.2     0.0\n",
      "80            5.5          2.4           3.8          1.1     1.0\n",
      "58            6.6          2.9           4.6          1.3     1.0\n",
      "74            6.4          2.9           4.3          1.3     1.0\n",
      "148           6.2          3.4           5.4          2.3     2.0\n",
      "141           6.9          3.1           5.1          2.3     2.0\n",
      "146           6.3          2.5           5.0          1.9     2.0\n"
     ]
    }
   ],
   "source": [
    "# 비례층화추출법 : 원본 데이터의 비율대로 추출\n",
    "data, stratum, sampling_n = iris, 'target', 9\n",
    "\n",
    "levels = data[stratum].unique()\n",
    "total = data[stratum].value_counts().sum()\n",
    "prop_val = data[stratum].value_counts()/total\n",
    "n = prop_val * sampling_n\n",
    "\n",
    "result = pd.DataFrame()\n",
    "for level in levels:\n",
    "    temp_df = data[data[stratum]==level].sample(int(n[level]))\n",
    "    result = pd.concat([result, temp_df])\n",
    "print(result)"
   ]
  },
  {
   "cell_type": "code",
   "execution_count": 19,
   "id": "27e133a6",
   "metadata": {},
   "outputs": [
    {
     "name": "stdout",
     "output_type": "stream",
     "text": [
      "     sepal length  sepal width  petal length  petal width  target\n",
      "12            4.8          3.0           1.4          0.1     0.0\n",
      "43            5.0          3.5           1.6          0.6     0.0\n",
      "57            4.9          2.4           3.3          1.0     1.0\n",
      "67            5.8          2.7           4.1          1.0     1.0\n",
      "77            6.7          3.0           5.0          1.7     1.0\n",
      "63            6.1          2.9           4.7          1.4     1.0\n",
      "78            6.0          2.9           4.5          1.5     1.0\n",
      "128           6.4          2.8           5.6          2.1     2.0\n",
      "142           5.8          2.7           5.1          1.9     2.0\n",
      "139           6.9          3.1           5.4          2.1     2.0\n"
     ]
    }
   ],
   "source": [
    "# 불비례층화추출법 : 임의로 정한 특정비율대로 샘플링\n",
    "data, stratum, sampling_n, proportion = iris, 'target', 10, {0:0.2, 1:0.5, 2:0.3}\n",
    "\n",
    "levels = list(proportion.keys())\n",
    "prop_val = np.array(list(proportion.values()))\n",
    "total = sum(prop_val)\n",
    "n = prop_val * sampling_n\n",
    "\n",
    "result = pd.DataFrame()\n",
    "for level in levels:\n",
    "    temp_df = data[data[stratum]==level].sample(int(n[level]))\n",
    "    result = pd.concat([result, temp_df])\n",
    "print(result)"
   ]
  },
  {
   "cell_type": "markdown",
   "id": "f941acfa",
   "metadata": {},
   "source": [
    "## 3-2 데이터분할\n",
    "- 과적합을 피함으로써 일반화된 성능확보\n",
    "### 일반적 데이터 분할 및 홀드아웃"
   ]
  },
  {
   "cell_type": "code",
   "execution_count": 20,
   "id": "e92e895b",
   "metadata": {},
   "outputs": [],
   "source": [
    "from sklearn.model_selection import train_test_split\n",
    "\n",
    "X = iris.drop('target', axis=1)\n",
    "y = iris['target']\n",
    "\n",
    "X_train, X_test, y_train, y_test = train_test_split(X, y, test_size=0.3)"
   ]
  },
  {
   "cell_type": "markdown",
   "id": "fa68c4a9",
   "metadata": {},
   "source": [
    "### Shuffle Split\n",
    "- 무작위 순열 교차 검증\n",
    "    - 데이터 크기가 작은 경우, 분할 샘플들이 유사할 수 있다."
   ]
  },
  {
   "cell_type": "code",
   "execution_count": 26,
   "id": "82adf436",
   "metadata": {},
   "outputs": [
    {
     "name": "stdout",
     "output_type": "stream",
     "text": [
      "sample 0 => train_idx [ 58 116 130], test_index:[ 70  75 139]\n",
      "\tX_train 비율 : 0.5, X_test 비율 : 0.5\n",
      "\ty_train 타겟 구성 : Counter({1.0: 26, 2.0: 26, 0.0: 23})\n",
      "\ty_test 타겟 구성 : Counter({0.0: 27, 1.0: 24, 2.0: 24}) \n",
      "\n",
      "sample 1 => train_idx [136 112 143], test_index:[130  73  74]\n",
      "\tX_train 비율 : 0.5, X_test 비율 : 0.5\n",
      "\ty_train 타겟 구성 : Counter({2.0: 26, 0.0: 25, 1.0: 24})\n",
      "\ty_test 타겟 구성 : Counter({1.0: 26, 0.0: 25, 2.0: 24}) \n",
      "\n",
      "sample 2 => train_idx [ 50  81 138], test_index:[47 73 59]\n",
      "\tX_train 비율 : 0.5, X_test 비율 : 0.5\n",
      "\ty_train 타겟 구성 : Counter({0.0: 29, 1.0: 28, 2.0: 18})\n",
      "\ty_test 타겟 구성 : Counter({2.0: 32, 1.0: 22, 0.0: 21}) \n",
      "\n",
      "sample 3 => train_idx [115  42  22], test_index:[ 67  63 102]\n",
      "\tX_train 비율 : 0.5, X_test 비율 : 0.5\n",
      "\ty_train 타겟 구성 : Counter({1.0: 26, 0.0: 25, 2.0: 24})\n",
      "\ty_test 타겟 구성 : Counter({2.0: 26, 0.0: 25, 1.0: 24}) \n",
      "\n"
     ]
    }
   ],
   "source": [
    "from sklearn.model_selection import ShuffleSplit\n",
    "from collections import Counter\n",
    "\n",
    "ss = ShuffleSplit(test_size=0.5, train_size=0.5, n_splits=4)\n",
    "for i, (train_idx, test_idx) in enumerate(ss.split(X)):\n",
    "    print(f\"sample {i} => train_idx {train_idx[:3]}, test_index:{test_idx[:3]}\")\n",
    "    X_train, X_test, y_train, y_test = X.iloc[train_idx, :], X.iloc[test_idx, :], y.iloc[train_idx], y.iloc[test_idx]\n",
    "    print(f\"\\tX_train 비율 : {len(X_train)/len(X)}, X_test 비율 : {len(X_test)/len(X)}\")\n",
    "    print(f\"\\ty_train 타겟 구성 : {Counter(y_train)}\")\n",
    "    print(f\"\\ty_test 타겟 구성 : {Counter(y_test)} \\n\")"
   ]
  },
  {
   "cell_type": "markdown",
   "id": "1377d67f",
   "metadata": {},
   "source": [
    "### K-fold 분할\n",
    "- 데이터를 k개 집단으로 나눈 뒤, k-1개 집단을 학습용, 1개 집단을 검증용으로 사용"
   ]
  },
  {
   "cell_type": "code",
   "execution_count": 27,
   "id": "e88fe4b1",
   "metadata": {},
   "outputs": [
    {
     "name": "stdout",
     "output_type": "stream",
     "text": [
      "sample 0 => train_idx [38 39 40], test_index:[0 1 2]\n",
      "\tX_train 비율 : 0.7466666666666667, X_test 비율 : 0.25333333333333335\n",
      "\ty_train 타겟 구성 : Counter({1.0: 50, 2.0: 50, 0.0: 12})\n",
      "\ty_test 타겟 구성 : Counter({0.0: 38}) \n",
      "\n",
      "sample 1 => train_idx [0 1 2], test_index:[38 39 40]\n",
      "\tX_train 비율 : 0.7466666666666667, X_test 비율 : 0.25333333333333335\n",
      "\ty_train 타겟 구성 : Counter({2.0: 50, 0.0: 38, 1.0: 24})\n",
      "\ty_test 타겟 구성 : Counter({1.0: 26, 0.0: 12}) \n",
      "\n",
      "sample 2 => train_idx [0 1 2], test_index:[76 77 78]\n",
      "\tX_train 비율 : 0.7533333333333333, X_test 비율 : 0.24666666666666667\n",
      "\ty_train 타겟 구성 : Counter({0.0: 50, 2.0: 37, 1.0: 26})\n",
      "\ty_test 타겟 구성 : Counter({1.0: 24, 2.0: 13}) \n",
      "\n",
      "sample 3 => train_idx [0 1 2], test_index:[113 114 115]\n",
      "\tX_train 비율 : 0.7533333333333333, X_test 비율 : 0.24666666666666667\n",
      "\ty_train 타겟 구성 : Counter({0.0: 50, 1.0: 50, 2.0: 13})\n",
      "\ty_test 타겟 구성 : Counter({2.0: 37}) \n",
      "\n"
     ]
    }
   ],
   "source": [
    "from sklearn.model_selection import KFold\n",
    "\n",
    "kf = KFold(n_splits=4, shuffle=False)\n",
    "for i, (train_idx, test_idx) in enumerate(kf.split(X)):\n",
    "    print(f\"sample {i} => train_idx {train_idx[:3]}, test_index:{test_idx[:3]}\")\n",
    "    X_train, X_test, y_train, y_test = X.iloc[train_idx, :], X.iloc[test_idx, :], y.iloc[train_idx], y.iloc[test_idx]\n",
    "    print(f\"\\tX_train 비율 : {len(X_train)/len(X)}, X_test 비율 : {len(X_test)/len(X)}\")\n",
    "    print(f\"\\ty_train 타겟 구성 : {Counter(y_train)}\")\n",
    "    print(f\"\\ty_test 타겟 구성 : {Counter(y_test)} \\n\")"
   ]
  },
  {
   "cell_type": "markdown",
   "id": "bab3a152",
   "metadata": {},
   "source": [
    "### Stratified K-Fold\n",
    "- KFold 과정 중에서, 집단 간 클래스 불균형을 막기 위해, 타겟 변수 클래스 들이 일정한 비율로 배치되도록 함"
   ]
  },
  {
   "cell_type": "code",
   "execution_count": 28,
   "id": "2e338a6c",
   "metadata": {},
   "outputs": [
    {
     "name": "stdout",
     "output_type": "stream",
     "text": [
      "sample 0 => train_idx [13 14 15], test_index:[0 1 2]\n",
      "\tX_train 비율 : 0.7466666666666667, X_test 비율 : 0.25333333333333335\n",
      "\ty_train 타겟 구성 : Counter({1.0: 38, 0.0: 37, 2.0: 37})\n",
      "\ty_test 타겟 구성 : Counter({0.0: 13, 2.0: 13, 1.0: 12}) \n",
      "\n",
      "sample 1 => train_idx [0 1 2], test_index:[13 14 15]\n",
      "\tX_train 비율 : 0.7466666666666667, X_test 비율 : 0.25333333333333335\n",
      "\ty_train 타겟 구성 : Counter({1.0: 38, 0.0: 37, 2.0: 37})\n",
      "\ty_test 타겟 구성 : Counter({0.0: 13, 2.0: 13, 1.0: 12}) \n",
      "\n",
      "sample 2 => train_idx [0 1 2], test_index:[26 27 28]\n",
      "\tX_train 비율 : 0.7533333333333333, X_test 비율 : 0.24666666666666667\n",
      "\ty_train 타겟 구성 : Counter({0.0: 38, 2.0: 38, 1.0: 37})\n",
      "\ty_test 타겟 구성 : Counter({1.0: 13, 0.0: 12, 2.0: 12}) \n",
      "\n",
      "sample 3 => train_idx [0 1 2], test_index:[38 39 40]\n",
      "\tX_train 비율 : 0.7533333333333333, X_test 비율 : 0.24666666666666667\n",
      "\ty_train 타겟 구성 : Counter({0.0: 38, 2.0: 38, 1.0: 37})\n",
      "\ty_test 타겟 구성 : Counter({1.0: 13, 0.0: 12, 2.0: 12}) \n",
      "\n"
     ]
    }
   ],
   "source": [
    "from sklearn.model_selection import StratifiedKFold\n",
    "\n",
    "skf = StratifiedKFold(n_splits=4)\n",
    "for i, (train_idx, test_idx) in enumerate(skf.split(X, y)):\n",
    "    print(f\"sample {i} => train_idx {train_idx[:3]}, test_index:{test_idx[:3]}\")\n",
    "    X_train, X_test, y_train, y_test = X.iloc[train_idx, :], X.iloc[test_idx, :], y.iloc[train_idx], y.iloc[test_idx]\n",
    "    print(f\"\\tX_train 비율 : {len(X_train)/len(X)}, X_test 비율 : {len(X_test)/len(X)}\")\n",
    "    print(f\"\\ty_train 타겟 구성 : {Counter(y_train)}\")\n",
    "    print(f\"\\ty_test 타겟 구성 : {Counter(y_test)} \\n\")"
   ]
  },
  {
   "cell_type": "code",
   "execution_count": null,
   "id": "31308211",
   "metadata": {},
   "outputs": [],
   "source": []
  },
  {
   "cell_type": "code",
   "execution_count": null,
   "id": "4d112959",
   "metadata": {},
   "outputs": [],
   "source": []
  },
  {
   "cell_type": "code",
   "execution_count": null,
   "id": "775dd1be",
   "metadata": {},
   "outputs": [],
   "source": []
  },
  {
   "cell_type": "code",
   "execution_count": null,
   "id": "324a5310",
   "metadata": {},
   "outputs": [],
   "source": []
  }
 ],
 "metadata": {
  "kernelspec": {
   "display_name": "adp",
   "language": "python",
   "name": "adp_class"
  },
  "language_info": {
   "codemirror_mode": {
    "name": "ipython",
    "version": 3
   },
   "file_extension": ".py",
   "mimetype": "text/x-python",
   "name": "python",
   "nbconvert_exporter": "python",
   "pygments_lexer": "ipython3",
   "version": "3.7.13"
  }
 },
 "nbformat": 4,
 "nbformat_minor": 5
}
