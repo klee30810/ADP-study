{
 "cells": [
  {
   "cell_type": "code",
   "execution_count": 1,
   "id": "de686ef3",
   "metadata": {},
   "outputs": [],
   "source": [
    "import pandas as pd\n",
    "import numpy as np\n",
    "\n",
    "from scipy import stats"
   ]
  },
  {
   "cell_type": "markdown",
   "id": "256990ea",
   "metadata": {},
   "source": [
    "# 5. 추정과 가설 검정\n",
    "- 구간추정 : 점추정 + 오차의 개념\n",
    "- 가설검정 : 귀무가설과 대립가설을 세우고, 귀무가설의 모수와 표본에서 얻은 값으로 검정통계량을 계산하여 귀무가설의 기각여부 판단\n",
    "    - 검정 통계량이 채택역에 있는지 여부 / 유의수준과 유의확률의 비교 / 검정하고자 하는 값의 신뢰구간 아래 여부\n",
    "- 1종오류 : 귀무가설이 참인데 대립가설을 채택하는 오류\n",
    "- 2종오류 : 대립가설이 참인데 귀무가설을 채택하는 오류 (1-2종오류 : 검정력)\n",
    "    - 두 오류는 트레이드 오프\n",
    "    \n",
    "## 5-1 일표본\n",
    "### 모평균의 추정과 가설 검정 : Z분포, t분포\n",
    "$\\mu:\\ 모평균,\\ \\mu_0:\\ 귀무가설의\\ 모평균,\\ \\sigma:\\ 모표준편차,\\ X:\\ 표본평균,\\ S:\\ 표본표준편차,\\\\ n:\\ 표본의\\ 크기, \\ z_{\\alpha/2}:\\ 신뢰계수,\\ t_{\\alpha/2,(n-1)}:\\ 신뢰계수 $\n",
    "- 추정\n",
    "    - 표본의 크기가 30 이상이거나, 모집단의 분산을 아는 경우\n",
    "    $$ Z=\\frac{X-\\mu}{\\sigma/\\sqrt{n}}\\sim N(0,1) \\\\ \\bar{X}-z_{\\alpha/2}\\frac{\\sigma}{\\sqrt{n}}<\\mu<bar{X}+z_{\\alpha/2}\\frac{\\sigma}{\\sqrt{n}}$$\n",
    "    - 표본의 크기가 30 미만이고, 모집단의 분산을 모르는 경우\n",
    "    $$ t=\\frac{X-\\mu}{S/\\sqrt{n}}\\sim t_{(n-1)} \\\\ \\bar{X}-t_{\\alpha/2, (n-1)}\\frac{S}{\\sqrt{n}}<\\mu<bar{X}+t_{\\alpha/2,(n-1)}\\frac{S}{\\sqrt{n}}$$\n",
    "- 가설검정\n",
    "    - 표본의 크기가 30 이상이거나 모집단의 분산을 아는 경우 $Z=\\frac{X-\\mu_0}{\\sigma/\\sqrt{n}} \\sim N(0,1)$\n",
    "    - 표본의 크기가 30 미만이고 모집단의 분산을 모르는 경우 $t=\\frac{X-\\mu_0}{S/\\sqrt{n}} \\sim t_{(n-1)}$\n",
    "- 중심극한정리 : 표본의 개수가 커질수록 표본평균의 확률분포는 정규분포에 가까워짐\n",
    "- 큰 수의 법칙 : 표본 개수가 커질수록 표본평균의 값은 모평균의 값에 가까워짐"
   ]
  },
  {
   "cell_type": "code",
   "execution_count": 5,
   "id": "3c4b4065",
   "metadata": {},
   "outputs": [
    {
     "name": "stdout",
     "output_type": "stream",
     "text": [
      "[추정]\n",
      " 점 추정량: 31100.000 \n",
      " 구간추정량 : 29630.027~32569.973\n",
      " 오차의 한계: 1469.973\n"
     ]
    }
   ],
   "source": [
    "# 모표준편차를 아는 경우\n",
    "## 모평균 추정\n",
    "x = 31100; n = 36; sigma = 4500; conf_a = 0.05\n",
    "\n",
    "se = sigma / np.sqrt(n)\n",
    "conf_z = stats.norm.ppf(1-conf_a/2)\n",
    "me = conf_z * se # 허용오차 margin of error\n",
    "\n",
    "print(\"[추정]\\n 점 추정량: {:.3f} \\n 구간추정량 : {:.3f}~{:.3f}\\n 오차의 한계: {:.3f}\".format(x, x-me, x+me, me))"
   ]
  },
  {
   "cell_type": "code",
   "execution_count": 6,
   "id": "7ac7024a",
   "metadata": {},
   "outputs": [
    {
     "name": "stdout",
     "output_type": "stream",
     "text": [
      "[표본 규모]\n",
      "유의수준 0.05에서 오차의 한계를 500 이하로 하려면: 표본 규모 311.2 이상\n"
     ]
    }
   ],
   "source": [
    "# 오차의 한계에 따른 표본 규모\n",
    "## 오차의 한계가 500 이하일 확률이 0.95가 되도록 모집단 평균의 추정치를 원하는 경우, 표본 규모는 얼마가 되어야 하는가?\n",
    "me = 500; conf_a = 1-0.95; conf_z = stats.norm.ppf(conf_a/2)\n",
    "ssize = conf_z**2 * sigma**2 / me**2\n",
    "print(\"[표본 규모]\")\n",
    "print(\"유의수준 {:.2f}에서 오차의 한계를 {} 이하로 하려면: 표본 규모 {:.1f} 이상\".format(conf_a, me, ssize))"
   ]
  },
  {
   "cell_type": "code",
   "execution_count": 16,
   "id": "ac4fa064",
   "metadata": {},
   "outputs": [
    {
     "name": "stdout",
     "output_type": "stream",
     "text": [
      "[검정]\n",
      " 임계값 : +/-1.960, 검정통계량: 1.467\n",
      " 유의수준 : 0.050, 유의확률: 0.142\n"
     ]
    }
   ],
   "source": [
    "# 모평균의 가설검정\n",
    "# H0 : mu = mu0, H1 : mu != mu0\n",
    "x = 31100; n = 36; sigma = 4500; mu0 = 30000; test_a = 0.05\n",
    "\n",
    "se = sigma/np.sqrt(n)\n",
    "zstat = (x-mu0)/se\n",
    "\n",
    "ways = 'two'\n",
    "if ways == 'two':\n",
    "    sp = (1-stats.norm.cdf(np.abs(zstat)))*2\n",
    "    cv = stats.norm.ppf(1-test_a/2)\n",
    "    cv = \"+/-{:.3f}\".format(cv)\n",
    "elif ways == 'one-right':\n",
    "    sp = (1-stats.norm.cdf(zstat))\n",
    "    cv = stats.norm.ppf(1-test_a)\n",
    "    cv = \"{:.3f}\".format(cv)\n",
    "elif ways == 'one-left':\n",
    "    sp = (1-stats.norm.cdf(zstat))\n",
    "    cv = stats.norm.ppf(test_a)\n",
    "    cv = \"{:.3f}\".format(cv)\n",
    "\n",
    "print(\"[검정]\")        \n",
    "print(\" 임계값 : {}, 검정통계량: {:.3f}\".format(cv, zstat))\n",
    "print(\" 유의수준 : {:.3f}, 유의확률: {:.3f}\".format(test_a, sp))"
   ]
  },
  {
   "cell_type": "code",
   "execution_count": 12,
   "id": "5d7c1dde",
   "metadata": {},
   "outputs": [
    {
     "name": "stdout",
     "output_type": "stream",
     "text": [
      "[추정]\n",
      " 점 추정량 : 650.000\n",
      " 구간 추정량 : 620.693~679.307\n",
      " 오차의 한계 : 29.307\n"
     ]
    }
   ],
   "source": [
    "# 모표준편차 모르는 경우\n",
    "## 모평균의 추정\n",
    "x = 650; n = 16; s = 55; conf_a = 0.05 ; df = n-1\n",
    "\n",
    "se = s / np.sqrt(n)\n",
    "conf_t = stats.t.ppf(1-conf_a/2, df)\n",
    "me = conf_t * se\n",
    "\n",
    "print(\"[추정]\")\n",
    "print(\" 점 추정량 : {:.3f}\".format(x))\n",
    "print(\" 구간 추정량 : {:.3f}~{:.3f}\".format(x-me, x+me))\n",
    "print(\" 오차의 한계 : {:.3f}\".format(me))"
   ]
  },
  {
   "cell_type": "code",
   "execution_count": 15,
   "id": "6082e1b1",
   "metadata": {},
   "outputs": [
    {
     "name": "stdout",
     "output_type": "stream",
     "text": [
      "[표본규모]\n",
      " 유의수준 0.05에서 오차의 한계를 20.00 이하로 하려면: 표본크기 34.4 이상\n"
     ]
    }
   ],
   "source": [
    "## 오차의 한계에 따른 표본 규모\n",
    "## 오차의 한계가 20이하일 확률이 0.95가 되도록 모집단의 평균 추정치를 원하는 경우, 표본 규모는 얼마?\n",
    "\n",
    "me2 = 20; conf_a2 = 1-0.95; conf_t2 = stats.t.ppf(conf_a2/2, df)\n",
    "ssize = conf_t2**2 * s**2 / me2**2\n",
    "\n",
    "print(\"[표본규모]\")\n",
    "print(f\" 유의수준 {conf_a2:.2f}에서 오차의 한계를 {me2:.2f} 이하로 하려면: 표본크기 {ssize:.1f} 이상\")"
   ]
  },
  {
   "cell_type": "code",
   "execution_count": 19,
   "id": "963080b7",
   "metadata": {},
   "outputs": [
    {
     "name": "stdout",
     "output_type": "stream",
     "text": [
      "[검정]\n",
      " 임계값 : 1.753, 검정통계량: 1.467\n",
      " 유의수준 : 0.050, 유의확률: 0.082\n"
     ]
    }
   ],
   "source": [
    "# 모평균의 가설검정 (one-sample t-test)\n",
    "# H0 : mu = mu0, H1 : mu > mu0\n",
    "mu0 = 600; test_a = 0.05; x = 650; n = 16; s = 55; df = n-1\n",
    "\n",
    "se = s / np.sqrt(n)\n",
    "tstat = (x-mu0)/se\n",
    "\n",
    "ways = 'one-right'\n",
    "if ways == 'two':\n",
    "    sp = (1-stats.t.cdf(np.abs(zstat), df))*2\n",
    "    cv = stats.t.ppf(1-test_a/2, df)\n",
    "    cv = \"+/-{:.3f}\".format(cv)\n",
    "elif ways == 'one-right':\n",
    "    sp = (1-stats.t.cdf(zstat, df))\n",
    "    cv = stats.t.ppf(1-test_a, df)\n",
    "    cv = \"{:.3f}\".format(cv)\n",
    "elif ways == 'one-left':\n",
    "    sp = (1-stats.t.cdf(zstat, df))\n",
    "    cv = stats.t.ppf(test_a, df)\n",
    "    cv = \"{:.3f}\".format(cv)\n",
    "\n",
    "print(\"[검정]\")        \n",
    "print(\" 임계값 : {}, 검정통계량: {:.3f}\".format(cv, zstat))\n",
    "print(\" 유의수준 : {:.3f}, 유의확률: {:.3f}\".format(test_a, sp))"
   ]
  },
  {
   "cell_type": "markdown",
   "id": "44bf9558",
   "metadata": {},
   "source": [
    "### 모비율의 추정과 가설검정 : Z 분포\n",
    "$p: 모비율, p_0:귀무가설의 모비율, \\hat{p}:표본비율, n: 표본의 크기, z_{\\alpha/2}:신뢰계수$\n",
    "\n",
    "[추정]\n",
    "$$\n",
    "Z=\\frac{\\hat{p}-p}{\\sqrt{\\hat{p}(1-\\hat{p})}/n}\\quad \\sim N(0,1) \\\\\n",
    "\\hat{p} - z_{\\alpha/2}\\sqrt{\\frac{\\hat{p}(1-\\hat{p})}{n}} < p < \\hat{p} + z_{\\alpha/2}\\sqrt{\\frac{\\hat{p}(1-\\hat{p})}{n}}\n",
    "$$\n",
    "\n",
    "[가설검정]\n",
    "$$ Z=\\frac{\\hat{p}-p_0}{\\sqrt{p_0(1-p_0)}/n}\\quad \\sim N(0,1) $$"
   ]
  },
  {
   "cell_type": "code",
   "execution_count": 21,
   "id": "1cc6dc3d",
   "metadata": {},
   "outputs": [
    {
     "name": "stdout",
     "output_type": "stream",
     "text": [
      "[추정]\n",
      " 점 추정량 : 0.440\n",
      " 구간 추정량 : 0.396~0.484\n",
      " 오차의 한계 : 0.044\n"
     ]
    }
   ],
   "source": [
    "# 모비율의 추정\n",
    "n = 500; p = 220/500 ; conf_a = 0.05\n",
    "se = np.sqrt(p*(1-p)/n)\n",
    "conf_z = stats.norm.ppf(1-conf_a/2)\n",
    "me = conf_z * se\n",
    "\n",
    "print(\"[추정]\")\n",
    "print(\" 점 추정량 : {:.3f}\".format(p))\n",
    "print(\" 구간 추정량 : {:.3f}~{:.3f}\".format(p-me, p+me))\n",
    "print(\" 오차의 한계 : {:.3f}\".format(me))"
   ]
  },
  {
   "cell_type": "code",
   "execution_count": 22,
   "id": "ed16194f",
   "metadata": {},
   "outputs": [
    {
     "name": "stdout",
     "output_type": "stream",
     "text": [
      "[표본규모]\n",
      " 유의수준 0.01에서 오차의 한계를 0.03 이하로 하려면: 표본크기 1816.5 이상\n"
     ]
    }
   ],
   "source": [
    "# 표본규모 계산 : 모비율 p를 아는 경우에는 P를 사용, 아니면 표본비율 p로 계산, 두 정보 모두 없다면 p=0.5로 계산\n",
    "## 오차의 한계가 0.03 이하일 확률이 0.99가 되도록 모집단 비율의 추정치를 원하는 경우, 표본 규모는 얼마?\n",
    "\n",
    "me2 = 0.03; conf_a2 = 1-0.99; conf_z2 = stats.norm.ppf(1-conf_a2/2)\n",
    "ssize = conf_z2**2 * p * (1-p) / me2 ** 2\n",
    "print(\"[표본규모]\")\n",
    "print(f\" 유의수준 {conf_a2:.2f}에서 오차의 한계를 {me2:.2f} 이하로 하려면: 표본크기 {ssize:.1f} 이상\")"
   ]
  },
  {
   "cell_type": "code",
   "execution_count": 25,
   "id": "961ee5a0",
   "metadata": {},
   "outputs": [
    {
     "name": "stdout",
     "output_type": "stream",
     "text": [
      "[검정]\n",
      " 임계값 : +/-1.960, 검정통계량: -2.683\n",
      " 유의수준 : 0.050, 유의확률: 0.007\n"
     ]
    }
   ],
   "source": [
    "# 모비율의 가설검정\n",
    "## H0: P = P0, H1: P != P0\n",
    "n = 500; p = 220/500 ; P0 = 0.5; test_a = 0.05\n",
    "se = np.sqrt(P0 * (1-P0)/n); zstat = (p - P0)/se\n",
    "\n",
    "ways = 'two' # 'one-right(P>P0)', 'one-left(P<P0)'\n",
    "if ways == 'two':\n",
    "    sp = (1-stats.norm.cdf(np.abs(zstat)))*2\n",
    "    cv = stats.norm.ppf(1-test_a/2)\n",
    "    cv = \"+/-{:.3f}\".format(cv)\n",
    "elif ways == 'one-right':\n",
    "    sp = (1-stats.norm.cdf(zstat))\n",
    "    cv = stats.norm.ppf(1-test_a)\n",
    "    cv = \"{:.3f}\".format(cv)\n",
    "elif ways == 'one-left':\n",
    "    sp = (1-stats.norm.cdf(zstat))\n",
    "    cv = stats.norm.ppf(test_a)\n",
    "    cv = \"{:.3f}\".format(cv)\n",
    "\n",
    "print(\"[검정]\")        \n",
    "print(\" 임계값 : {}, 검정통계량: {:.3f}\".format(cv, zstat))\n",
    "print(\" 유의수준 : {:.3f}, 유의확률: {:.3f}\".format(test_a, sp))"
   ]
  },
  {
   "cell_type": "markdown",
   "id": "a002fb9f",
   "metadata": {},
   "source": [
    "### 모분산의 추정과 가설검정 : 카이제곱 분포\n",
    "$\\alpha: 모표준편차,\\ \\sigma_0: 귀무가설의 모표준편차,\\ \\mu:\\ 모평균,\\ S:\\ 표본표준편차,\\ n:\\ 표본의 크기, \\ \\chi^2_{\\alpha/2,n-1}: 신뢰계수$\n",
    "\n",
    "[추정]\n",
    "- 모평균을 모르는 경우\n",
    "$$\n",
    "\\chi^2 = \\frac{(n-1)S^2}{\\sigma^2} \\sim \\chi^2_{(n-1)} \\\\\n",
    "(n-1)S^2/\\chi^2_{\\alpha/2,n-1} < \\sigma^2 < (n-1)S^2/\\chi^2_{(1-\\alpha)/2,n-1}\n",
    "$$\n",
    "- 모평균을 아는 경우\n",
    "$$\n",
    "\\chi^2 = \\frac{\\sum^n_{i=1}(x_i-\\mu)^2}{\\sigma^2} \\sim \\chi^2_{(n-1)} \\\\\n",
    "\\sum^n_{i=1}(x_i-\\mu)^2/\\chi^2_{\\alpha/2,n-1} < \\sigma^2 < \\sum^n_{i=1}(x_i-\\mu)^2/\\chi^2_{(1-\\alpha)/2,n-1}\n",
    "$$\n",
    "\n",
    "[가설검정]\n",
    "- 모평균을 모르는 경우의 통계량\n",
    "$$ \\chi^2=\\frac{(n-1)S^2}{\\sigma^2_0} \\sim \\chi^2_{(n-1)}$$\n",
    "- 모평균을 아는 경유의 통계량\n",
    "$$ \\chi^2=\\frac{\\sum^n_{i=1}(x_i-\\mu)^2}{\\sigma^2_0} \\sim \\chi^2_{(n-1)}$$"
   ]
  },
  {
   "cell_type": "code",
   "execution_count": 26,
   "id": "a41c23da",
   "metadata": {},
   "outputs": [
    {
     "name": "stdout",
     "output_type": "stream",
     "text": [
      "[추정]\n",
      "점 추정량: 3.400\n",
      "구간 추정량: 1.609 ~ 11.332\n"
     ]
    }
   ],
   "source": [
    "# 모평균을 모르는 경우\n",
    "## 모분산의 추정\n",
    "n = 10; v = 3.4; df = n-1 ; conf_a = 0.05\n",
    "\n",
    "conf_c1 = stats.chi2.ppf(1-conf_a/2, df)\n",
    "conf_c2 = stats.chi2.ppf(conf_a/2, df)\n",
    "cr1 = df * v / conf_c1\n",
    "cr2 = df * v / conf_c2\n",
    "\n",
    "print(\"[추정]\")\n",
    "print(f\"점 추정량: {v:.3f}\")\n",
    "print(f\"구간 추정량: {cr1:.3f} ~ {cr2:.3f}\")"
   ]
  },
  {
   "cell_type": "code",
   "execution_count": 30,
   "id": "972aaa1c",
   "metadata": {},
   "outputs": [
    {
     "name": "stdout",
     "output_type": "stream",
     "text": [
      "[검정]\n",
      "임계값 : 3.325, 검정통계량 8.500\n",
      "유의수준: 0.050, 유의확률: 0.515\n"
     ]
    }
   ],
   "source": [
    "# 가설검정 (왼쪽 검정)\n",
    "# H0 : sigma^2 = v0, H1 : sigma^2 < v0\n",
    "n = 10; v = 3.4; df = n-1; v0 = 3.6; test_a = 0.05\n",
    "\n",
    "cstat = df * v / v0\n",
    "\n",
    "ways = 'one-left' # 'two', 'one-right(sigma^2>v0)', 'one-left(sigma^2<v0)'\n",
    "if ways == 'two':\n",
    "    if stats.chi2.cdf(stats, df) < 0.5:\n",
    "        sp = stats.chi2.cdf(cstat, df)*2\n",
    "    else: \n",
    "        sp = (1-stats.chi2.cdf(cstat, df))*2\n",
    "    cv1 = stats.chi2.ppf(test_a/2, df)\n",
    "    cv2 = stats.chi2.ppf(1-test_a/2, df)\n",
    "    cv = f\"{cv1:.3f}와 {cv2:.3f}\"\n",
    "elif ways == 'one-right':\n",
    "    sp = 1 - stats.chi2.cdf(cstat, df)\n",
    "    cv = stats.chi2.ppf(1-test_a, df) \n",
    "    cv = f\"{cv:.3f}\"\n",
    "elif ways == 'one-left':\n",
    "    sp = stats.chi2.cdf(cstat, df)\n",
    "    cv = stats.chi2.ppf(test_a, df) \n",
    "    cv = f\"{cv:.3f}\"    \n",
    "    \n",
    "print(\"[검정]\")\n",
    "print(f\"임계값 : {cv}, 검정통계량 {cstat:.3f}\")\n",
    "print(f\"유의수준: {test_a:.3f}, 유의확률: {sp:.3f}\")"
   ]
  },
  {
   "cell_type": "code",
   "execution_count": null,
   "id": "711fda6d",
   "metadata": {},
   "outputs": [],
   "source": []
  },
  {
   "cell_type": "code",
   "execution_count": null,
   "id": "972e28f9",
   "metadata": {},
   "outputs": [],
   "source": []
  },
  {
   "cell_type": "code",
   "execution_count": null,
   "id": "21d8bb4a",
   "metadata": {},
   "outputs": [],
   "source": []
  },
  {
   "cell_type": "code",
   "execution_count": null,
   "id": "af37f897",
   "metadata": {},
   "outputs": [],
   "source": []
  },
  {
   "cell_type": "code",
   "execution_count": null,
   "id": "6465b85a",
   "metadata": {},
   "outputs": [],
   "source": []
  },
  {
   "cell_type": "code",
   "execution_count": null,
   "id": "0ce7f9f4",
   "metadata": {},
   "outputs": [],
   "source": []
  },
  {
   "cell_type": "code",
   "execution_count": null,
   "id": "3a89bffb",
   "metadata": {},
   "outputs": [],
   "source": []
  },
  {
   "cell_type": "code",
   "execution_count": null,
   "id": "90b12003",
   "metadata": {},
   "outputs": [],
   "source": []
  }
 ],
 "metadata": {
  "kernelspec": {
   "display_name": "adp",
   "language": "python",
   "name": "adp_class"
  },
  "language_info": {
   "codemirror_mode": {
    "name": "ipython",
    "version": 3
   },
   "file_extension": ".py",
   "mimetype": "text/x-python",
   "name": "python",
   "nbconvert_exporter": "python",
   "pygments_lexer": "ipython3",
   "version": "3.7.13"
  }
 },
 "nbformat": 4,
 "nbformat_minor": 5
}
