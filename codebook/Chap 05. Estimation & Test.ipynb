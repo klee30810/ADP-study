{
 "cells": [
  {
   "cell_type": "code",
   "execution_count": 1,
   "id": "d88fe558",
   "metadata": {},
   "outputs": [],
   "source": [
    "import pandas as pd\n",
    "import numpy as np\n",
    "\n",
    "from scipy import stats"
   ]
  },
  {
   "cell_type": "markdown",
   "id": "36a97183",
   "metadata": {},
   "source": [
    "# 5. 추정과 가설 검정\n",
    "- 구간추정 : 점추정 + 오차의 개념\n",
    "- 가설검정 : 귀무가설과 대립가설을 세우고, 귀무가설의 모수와 표본에서 얻은 값으로 검정통계량을 계산하여 귀무가설의 기각여부 판단\n",
    "    - 검정 통계량이 채택역에 있는지 여부 / 유의수준과 유의확률의 비교 / 검정하고자 하는 값의 신뢰구간 아래 여부\n",
    "- 1종오류 : 귀무가설이 참인데 대립가설을 채택하는 오류\n",
    "- 2종오류 : 대립가설이 참인데 귀무가설을 채택하는 오류 (1-2종오류 : 검정력)\n",
    "    - 두 오류는 트레이드 오프\n",
    "    \n",
    "## 5-1 일표본\n",
    "### 모평균의 추정과 가설 검정 : Z분포, t분포\n",
    "$\\mu:\\ 모평균,\\ \\mu_0:\\ 귀무가설의\\ 모평균,\\ \\sigma:\\ 모표준편차,\\ X:\\ 표본평균,\\ S:\\ 표본표준편차,\\\\ n:\\ 표본의\\ 크기, \\ z_{\\alpha/2}:\\ 신뢰계수,\\ t_{\\alpha/2,(n-1)}:\\ 신뢰계수 $\n",
    "- 추정\n",
    "    - 표본의 크기가 30 이상이거나, 모집단의 분산을 아는 경우\n",
    "    $$ Z=\\frac{X-\\mu}{\\sigma/\\sqrt{n}}\\sim N(0,1) \\\\ \\bar{X}-z_{\\alpha/2}\\frac{\\sigma}{\\sqrt{n}}<\\mu<bar{X}+z_{\\alpha/2}\\frac{\\sigma}{\\sqrt{n}}$$\n",
    "    - 표본의 크기가 30 미만이고, 모집단의 분산을 모르는 경우\n",
    "    $$ t=\\frac{X-\\mu}{S/\\sqrt{n}}\\sim t_{(n-1)} \\\\ \\bar{X}-t_{\\alpha/2, (n-1)}\\frac{S}{\\sqrt{n}}<\\mu<bar{X}+t_{\\alpha/2,(n-1)}\\frac{S}{\\sqrt{n}}$$\n",
    "- 가설검정\n",
    "    - 표본의 크기가 30 이상이거나 모집단의 분산을 아는 경우 $Z=\\frac{X-\\mu_0}{\\sigma/\\sqrt{n}} \\sim N(0,1)$\n",
    "    - 표본의 크기가 30 미만이고 모집단의 분산을 모르는 경우 $t=\\frac{X-\\mu_0}{S/\\sqrt{n}} \\sim t_{(n-1)}$\n",
    "- 중심극한정리 : 표본의 개수가 커질수록 표본평균의 확률분포는 정규분포에 가까워짐\n",
    "- 큰 수의 법칙 : 표본 개수가 커질수록 표본평균의 값은 모평균의 값에 가까워짐"
   ]
  },
  {
   "cell_type": "code",
   "execution_count": null,
   "id": "e8fe99c5",
   "metadata": {},
   "outputs": [],
   "source": []
  },
  {
   "cell_type": "code",
   "execution_count": null,
   "id": "6128ae62",
   "metadata": {},
   "outputs": [],
   "source": []
  },
  {
   "cell_type": "code",
   "execution_count": null,
   "id": "ca56a883",
   "metadata": {},
   "outputs": [],
   "source": []
  },
  {
   "cell_type": "code",
   "execution_count": null,
   "id": "a3af03e8",
   "metadata": {},
   "outputs": [],
   "source": []
  },
  {
   "cell_type": "code",
   "execution_count": null,
   "id": "4540dbfb",
   "metadata": {},
   "outputs": [],
   "source": []
  },
  {
   "cell_type": "code",
   "execution_count": null,
   "id": "adb234f5",
   "metadata": {},
   "outputs": [],
   "source": []
  },
  {
   "cell_type": "code",
   "execution_count": null,
   "id": "c09975f8",
   "metadata": {},
   "outputs": [],
   "source": []
  },
  {
   "cell_type": "code",
   "execution_count": null,
   "id": "f6670385",
   "metadata": {},
   "outputs": [],
   "source": []
  },
  {
   "cell_type": "code",
   "execution_count": null,
   "id": "179f6a9c",
   "metadata": {},
   "outputs": [],
   "source": []
  },
  {
   "cell_type": "code",
   "execution_count": null,
   "id": "d691a518",
   "metadata": {},
   "outputs": [],
   "source": []
  }
 ],
 "metadata": {
  "kernelspec": {
   "display_name": "adp",
   "language": "python",
   "name": "adp_class"
  },
  "language_info": {
   "codemirror_mode": {
    "name": "ipython",
    "version": 3
   },
   "file_extension": ".py",
   "mimetype": "text/x-python",
   "name": "python",
   "nbconvert_exporter": "python",
   "pygments_lexer": "ipython3",
   "version": "3.7.13"
  }
 },
 "nbformat": 4,
 "nbformat_minor": 5
}
