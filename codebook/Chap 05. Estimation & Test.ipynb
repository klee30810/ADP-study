{
 "cells": [
  {
   "cell_type": "code",
   "execution_count": 84,
   "id": "f53a85c0",
   "metadata": {},
   "outputs": [],
   "source": [
    "import pandas as pd\n",
    "import numpy as np\n",
    "\n",
    "from scipy import stats\n",
    "\n",
    "import warnings\n",
    "warnings.filterwarnings('ignore')"
   ]
  },
  {
   "cell_type": "markdown",
   "id": "e1ea235f",
   "metadata": {},
   "source": [
    "# 5. 추정과 가설 검정\n",
    "- 구간추정 : 점추정 + 오차의 개념\n",
    "- 가설검정 : 귀무가설과 대립가설을 세우고, 귀무가설의 모수와 표본에서 얻은 값으로 검정통계량을 계산하여 귀무가설의 기각여부 판단\n",
    "    - 검정 통계량이 채택역에 있는지 여부 / 유의수준과 유의확률의 비교 / 검정하고자 하는 값의 신뢰구간 아래 여부\n",
    "- 1종오류 : 귀무가설이 참인데 대립가설을 채택하는 오류\n",
    "- 2종오류 : 대립가설이 참인데 귀무가설을 채택하는 오류 (1-2종오류 : 검정력)\n",
    "    - 두 오류는 트레이드 오프\n",
    "    \n",
    "## 5-1 일표본\n",
    "### 모평균의 추정과 가설 검정 : Z분포, t분포\n",
    "$\\mu:\\ 모평균,\\ \\mu_0:\\ 귀무가설의\\ 모평균,\\ \\sigma:\\ 모표준편차,\\ X:\\ 표본평균,\\ S:\\ 표본표준편차,\\\\ n:\\ 표본의\\ 크기, \\ z_{\\alpha/2}:\\ 신뢰계수,\\ t_{\\alpha/2,(n-1)}:\\ 신뢰계수 $\n",
    "- 추정\n",
    "    - 표본의 크기가 30 이상이거나, 모집단의 분산을 아는 경우\n",
    "    $$ Z=\\frac{X-\\mu}{\\sigma/\\sqrt{n}}\\sim N(0,1) \\\\ \\bar{X}-z_{\\alpha/2}\\frac{\\sigma}{\\sqrt{n}}<\\mu<bar{X}+z_{\\alpha/2}\\frac{\\sigma}{\\sqrt{n}}$$\n",
    "    - 표본의 크기가 30 미만이고, 모집단의 분산을 모르는 경우\n",
    "    $$ t=\\frac{X-\\mu}{S/\\sqrt{n}}\\sim t_{(n-1)} \\\\ \\bar{X}-t_{\\alpha/2, (n-1)}\\frac{S}{\\sqrt{n}}<\\mu<bar{X}+t_{\\alpha/2,(n-1)}\\frac{S}{\\sqrt{n}}$$\n",
    "- 가설검정\n",
    "    - 표본의 크기가 30 이상이거나 모집단의 분산을 아는 경우 $Z=\\frac{X-\\mu_0}{\\sigma/\\sqrt{n}} \\sim N(0,1)$\n",
    "    - 표본의 크기가 30 미만이고 모집단의 분산을 모르는 경우 $t=\\frac{X-\\mu_0}{S/\\sqrt{n}} \\sim t_{(n-1)}$\n",
    "- 중심극한정리 : 표본의 개수가 커질수록 표본평균의 확률분포는 정규분포에 가까워짐\n",
    "- 큰 수의 법칙 : 표본 개수가 커질수록 표본평균의 값은 모평균의 값에 가까워짐"
   ]
  },
  {
   "cell_type": "code",
   "execution_count": 2,
   "id": "8cb27c8a",
   "metadata": {},
   "outputs": [
    {
     "name": "stdout",
     "output_type": "stream",
     "text": [
      "[추정]\n",
      " 점 추정량: 31100.000 \n",
      " 구간추정량 : 29630.027~32569.973\n",
      " 오차의 한계: 1469.973\n"
     ]
    }
   ],
   "source": [
    "# 모표준편차를 아는 경우\n",
    "## 모평균 추정\n",
    "x = 31100; n = 36; sigma = 4500; conf_a = 0.05\n",
    "\n",
    "se = sigma / np.sqrt(n)\n",
    "conf_z = stats.norm.ppf(1-conf_a/2)\n",
    "me = conf_z * se # 허용오차 margin of error\n",
    "\n",
    "print(\"[추정]\\n 점 추정량: {:.3f} \\n 구간추정량 : {:.3f}~{:.3f}\\n 오차의 한계: {:.3f}\".format(x, x-me, x+me, me))"
   ]
  },
  {
   "cell_type": "code",
   "execution_count": 3,
   "id": "f71a58fc",
   "metadata": {},
   "outputs": [
    {
     "name": "stdout",
     "output_type": "stream",
     "text": [
      "[표본 규모]\n",
      "유의수준 0.05에서 오차의 한계를 500 이하로 하려면: 표본 규모 311.2 이상\n"
     ]
    }
   ],
   "source": [
    "# 오차의 한계에 따른 표본 규모\n",
    "## 오차의 한계가 500 이하일 확률이 0.95가 되도록 모집단 평균의 추정치를 원하는 경우, 표본 규모는 얼마가 되어야 하는가?\n",
    "me = 500; conf_a = 1-0.95; conf_z = stats.norm.ppf(conf_a/2)\n",
    "ssize = conf_z**2 * sigma**2 / me**2\n",
    "print(\"[표본 규모]\")\n",
    "print(\"유의수준 {:.2f}에서 오차의 한계를 {} 이하로 하려면: 표본 규모 {:.1f} 이상\".format(conf_a, me, ssize))"
   ]
  },
  {
   "cell_type": "code",
   "execution_count": 4,
   "id": "6c319588",
   "metadata": {},
   "outputs": [
    {
     "name": "stdout",
     "output_type": "stream",
     "text": [
      "[검정]\n",
      " 임계값 : +/-1.960, 검정통계량: 1.467\n",
      " 유의수준 : 0.050, 유의확률: 0.142\n"
     ]
    }
   ],
   "source": [
    "# 모평균의 가설검정\n",
    "# H0 : mu = mu0, H1 : mu != mu0\n",
    "x = 31100; n = 36; sigma = 4500; mu0 = 30000; test_a = 0.05\n",
    "\n",
    "se = sigma/np.sqrt(n)\n",
    "zstat = (x-mu0)/se\n",
    "\n",
    "ways = 'two'\n",
    "if ways == 'two':\n",
    "    sp = (1-stats.norm.cdf(np.abs(zstat)))*2\n",
    "    cv = stats.norm.ppf(1-test_a/2)\n",
    "    cv = \"+/-{:.3f}\".format(cv)\n",
    "elif ways == 'one-right':\n",
    "    sp = (1-stats.norm.cdf(zstat))\n",
    "    cv = stats.norm.ppf(1-test_a)\n",
    "    cv = \"{:.3f}\".format(cv)\n",
    "elif ways == 'one-left':\n",
    "    sp = (1-stats.norm.cdf(zstat))\n",
    "    cv = stats.norm.ppf(test_a)\n",
    "    cv = \"{:.3f}\".format(cv)\n",
    "\n",
    "print(\"[검정]\")        \n",
    "print(\" 임계값 : {}, 검정통계량: {:.3f}\".format(cv, zstat))\n",
    "print(\" 유의수준 : {:.3f}, 유의확률: {:.3f}\".format(test_a, sp))"
   ]
  },
  {
   "cell_type": "code",
   "execution_count": 5,
   "id": "60b45563",
   "metadata": {},
   "outputs": [
    {
     "name": "stdout",
     "output_type": "stream",
     "text": [
      "[추정]\n",
      " 점 추정량 : 650.000\n",
      " 구간 추정량 : 620.693~679.307\n",
      " 오차의 한계 : 29.307\n"
     ]
    }
   ],
   "source": [
    "# 모표준편차 모르는 경우\n",
    "## 모평균의 추정\n",
    "x = 650; n = 16; s = 55; conf_a = 0.05 ; df = n-1\n",
    "\n",
    "se = s / np.sqrt(n)\n",
    "conf_t = stats.t.ppf(1-conf_a/2, df)\n",
    "me = conf_t * se\n",
    "\n",
    "print(\"[추정]\")\n",
    "print(\" 점 추정량 : {:.3f}\".format(x))\n",
    "print(\" 구간 추정량 : {:.3f}~{:.3f}\".format(x-me, x+me))\n",
    "print(\" 오차의 한계 : {:.3f}\".format(me))"
   ]
  },
  {
   "cell_type": "code",
   "execution_count": 6,
   "id": "8453ffcc",
   "metadata": {},
   "outputs": [
    {
     "name": "stdout",
     "output_type": "stream",
     "text": [
      "[표본규모]\n",
      " 유의수준 0.05에서 오차의 한계를 20.00 이하로 하려면: 표본크기 34.4 이상\n"
     ]
    }
   ],
   "source": [
    "## 오차의 한계에 따른 표본 규모\n",
    "## 오차의 한계가 20이하일 확률이 0.95가 되도록 모집단의 평균 추정치를 원하는 경우, 표본 규모는 얼마?\n",
    "\n",
    "me2 = 20; conf_a2 = 1-0.95; conf_t2 = stats.t.ppf(conf_a2/2, df)\n",
    "ssize = conf_t2**2 * s**2 / me2**2\n",
    "\n",
    "print(\"[표본규모]\")\n",
    "print(f\" 유의수준 {conf_a2:.2f}에서 오차의 한계를 {me2:.2f} 이하로 하려면: 표본크기 {ssize:.1f} 이상\")"
   ]
  },
  {
   "cell_type": "code",
   "execution_count": 7,
   "id": "6b485d1d",
   "metadata": {},
   "outputs": [
    {
     "name": "stdout",
     "output_type": "stream",
     "text": [
      "[검정]\n",
      " 임계값 : 1.753, 검정통계량: 1.467\n",
      " 유의수준 : 0.050, 유의확률: 0.082\n"
     ]
    }
   ],
   "source": [
    "# 모평균의 가설검정 (one-sample t-test)\n",
    "# H0 : mu = mu0, H1 : mu > mu0\n",
    "mu0 = 600; test_a = 0.05; x = 650; n = 16; s = 55; df = n-1\n",
    "\n",
    "se = s / np.sqrt(n)\n",
    "tstat = (x-mu0)/se\n",
    "\n",
    "ways = 'one-right'\n",
    "if ways == 'two':\n",
    "    sp = (1-stats.t.cdf(np.abs(zstat), df))*2\n",
    "    cv = stats.t.ppf(1-test_a/2, df)\n",
    "    cv = \"+/-{:.3f}\".format(cv)\n",
    "elif ways == 'one-right':\n",
    "    sp = (1-stats.t.cdf(zstat, df))\n",
    "    cv = stats.t.ppf(1-test_a, df)\n",
    "    cv = \"{:.3f}\".format(cv)\n",
    "elif ways == 'one-left':\n",
    "    sp = (1-stats.t.cdf(zstat, df))\n",
    "    cv = stats.t.ppf(test_a, df)\n",
    "    cv = \"{:.3f}\".format(cv)\n",
    "\n",
    "print(\"[검정]\")        \n",
    "print(\" 임계값 : {}, 검정통계량: {:.3f}\".format(cv, zstat))\n",
    "print(\" 유의수준 : {:.3f}, 유의확률: {:.3f}\".format(test_a, sp))"
   ]
  },
  {
   "cell_type": "markdown",
   "id": "9eba2eeb",
   "metadata": {},
   "source": [
    "### 모비율의 추정과 가설검정 : Z 분포\n",
    "$p: 모비율, p_0:귀무가설의 모비율, \\hat{p}:표본비율, n: 표본의 크기, z_{\\alpha/2}:신뢰계수$\n",
    "\n",
    "[추정]\n",
    "$$\n",
    "Z=\\frac{\\hat{p}-p}{\\sqrt{\\hat{p}(1-\\hat{p})}/n}\\quad \\sim N(0,1) \\\\\n",
    "\\hat{p} - z_{\\alpha/2}\\sqrt{\\frac{\\hat{p}(1-\\hat{p})}{n}} < p < \\hat{p} + z_{\\alpha/2}\\sqrt{\\frac{\\hat{p}(1-\\hat{p})}{n}}\n",
    "$$\n",
    "\n",
    "[가설검정]\n",
    "$$ Z=\\frac{\\hat{p}-p_0}{\\sqrt{p_0(1-p_0)}/n}\\quad \\sim N(0,1) $$"
   ]
  },
  {
   "cell_type": "code",
   "execution_count": 8,
   "id": "97a7b2fb",
   "metadata": {},
   "outputs": [
    {
     "name": "stdout",
     "output_type": "stream",
     "text": [
      "[추정]\n",
      " 점 추정량 : 0.440\n",
      " 구간 추정량 : 0.396~0.484\n",
      " 오차의 한계 : 0.044\n"
     ]
    }
   ],
   "source": [
    "# 모비율의 추정\n",
    "n = 500; p = 220/500 ; conf_a = 0.05\n",
    "se = np.sqrt(p*(1-p)/n)\n",
    "conf_z = stats.norm.ppf(1-conf_a/2)\n",
    "me = conf_z * se\n",
    "\n",
    "print(\"[추정]\")\n",
    "print(\" 점 추정량 : {:.3f}\".format(p))\n",
    "print(\" 구간 추정량 : {:.3f}~{:.3f}\".format(p-me, p+me))\n",
    "print(\" 오차의 한계 : {:.3f}\".format(me))"
   ]
  },
  {
   "cell_type": "code",
   "execution_count": 9,
   "id": "f65c3254",
   "metadata": {},
   "outputs": [
    {
     "name": "stdout",
     "output_type": "stream",
     "text": [
      "[표본규모]\n",
      " 유의수준 0.01에서 오차의 한계를 0.03 이하로 하려면: 표본크기 1816.5 이상\n"
     ]
    }
   ],
   "source": [
    "# 표본규모 계산 : 모비율 p를 아는 경우에는 P를 사용, 아니면 표본비율 p로 계산, 두 정보 모두 없다면 p=0.5로 계산\n",
    "## 오차의 한계가 0.03 이하일 확률이 0.99가 되도록 모집단 비율의 추정치를 원하는 경우, 표본 규모는 얼마?\n",
    "\n",
    "me2 = 0.03; conf_a2 = 1-0.99; conf_z2 = stats.norm.ppf(1-conf_a2/2)\n",
    "ssize = conf_z2**2 * p * (1-p) / me2 ** 2\n",
    "print(\"[표본규모]\")\n",
    "print(f\" 유의수준 {conf_a2:.2f}에서 오차의 한계를 {me2:.2f} 이하로 하려면: 표본크기 {ssize:.1f} 이상\")"
   ]
  },
  {
   "cell_type": "code",
   "execution_count": 10,
   "id": "e5d49342",
   "metadata": {},
   "outputs": [
    {
     "name": "stdout",
     "output_type": "stream",
     "text": [
      "[검정]\n",
      " 임계값 : +/-1.960, 검정통계량: -2.683\n",
      " 유의수준 : 0.050, 유의확률: 0.007\n"
     ]
    }
   ],
   "source": [
    "# 모비율의 가설검정\n",
    "## H0: P = P0, H1: P != P0\n",
    "n = 500; p = 220/500 ; P0 = 0.5; test_a = 0.05\n",
    "se = np.sqrt(P0 * (1-P0)/n); zstat = (p - P0)/se\n",
    "\n",
    "ways = 'two' # 'one-right(P>P0)', 'one-left(P<P0)'\n",
    "if ways == 'two':\n",
    "    sp = (1-stats.norm.cdf(np.abs(zstat)))*2\n",
    "    cv = stats.norm.ppf(1-test_a/2)\n",
    "    cv = \"+/-{:.3f}\".format(cv)\n",
    "elif ways == 'one-right':\n",
    "    sp = (1-stats.norm.cdf(zstat))\n",
    "    cv = stats.norm.ppf(1-test_a)\n",
    "    cv = \"{:.3f}\".format(cv)\n",
    "elif ways == 'one-left':\n",
    "    sp = (1-stats.norm.cdf(zstat))\n",
    "    cv = stats.norm.ppf(test_a)\n",
    "    cv = \"{:.3f}\".format(cv)\n",
    "\n",
    "print(\"[검정]\")        \n",
    "print(\" 임계값 : {}, 검정통계량: {:.3f}\".format(cv, zstat))\n",
    "print(\" 유의수준 : {:.3f}, 유의확률: {:.3f}\".format(test_a, sp))"
   ]
  },
  {
   "cell_type": "markdown",
   "id": "3a4403c4",
   "metadata": {},
   "source": [
    "### 모분산의 추정과 가설검정 : 카이제곱 분포\n",
    "$\\alpha: 모표준편차,\\ \\sigma_0: 귀무가설의 모표준편차,\\ \\mu:\\ 모평균,\\ S:\\ 표본표준편차,\\ n:\\ 표본의 크기, \\ \\chi^2_{\\alpha/2,n-1}: 신뢰계수$\n",
    "\n",
    "[추정]\n",
    "- 모평균을 모르는 경우\n",
    "$$\n",
    "\\chi^2 = \\frac{(n-1)S^2}{\\sigma^2} \\sim \\chi^2_{(n-1)} \\\\\n",
    "(n-1)S^2/\\chi^2_{\\alpha/2,n-1} < \\sigma^2 < (n-1)S^2/\\chi^2_{(1-\\alpha)/2,n-1}\n",
    "$$\n",
    "- 모평균을 아는 경우\n",
    "$$\n",
    "\\chi^2 = \\frac{\\sum^n_{i=1}(x_i-\\mu)^2}{\\sigma^2} \\sim \\chi^2_{(n-1)} \\\\\n",
    "\\sum^n_{i=1}(x_i-\\mu)^2/\\chi^2_{\\alpha/2,n-1} < \\sigma^2 < \\sum^n_{i=1}(x_i-\\mu)^2/\\chi^2_{(1-\\alpha)/2,n-1}\n",
    "$$\n",
    "\n",
    "[가설검정]\n",
    "- 모평균을 모르는 경우의 통계량\n",
    "$$ \\chi^2=\\frac{(n-1)S^2}{\\sigma^2_0} \\sim \\chi^2_{(n-1)}$$\n",
    "- 모평균을 아는 경유의 통계량\n",
    "$$ \\chi^2=\\frac{\\sum^n_{i=1}(x_i-\\mu)^2}{\\sigma^2_0} \\sim \\chi^2_{(n-1)}$$"
   ]
  },
  {
   "cell_type": "code",
   "execution_count": 11,
   "id": "290f7115",
   "metadata": {},
   "outputs": [
    {
     "name": "stdout",
     "output_type": "stream",
     "text": [
      "[추정]\n",
      "점 추정량: 3.400\n",
      "구간 추정량: 1.609 ~ 11.332\n"
     ]
    }
   ],
   "source": [
    "# 모평균을 모르는 경우\n",
    "## 모분산의 추정\n",
    "n = 10; v = 3.4; df = n-1 ; conf_a = 0.05\n",
    "\n",
    "conf_c1 = stats.chi2.ppf(1-conf_a/2, df)\n",
    "conf_c2 = stats.chi2.ppf(conf_a/2, df)\n",
    "cr1 = df * v / conf_c1\n",
    "cr2 = df * v / conf_c2\n",
    "\n",
    "print(\"[추정]\")\n",
    "print(f\"점 추정량: {v:.3f}\")\n",
    "print(f\"구간 추정량: {cr1:.3f} ~ {cr2:.3f}\")"
   ]
  },
  {
   "cell_type": "code",
   "execution_count": 12,
   "id": "8b16574b",
   "metadata": {},
   "outputs": [
    {
     "name": "stdout",
     "output_type": "stream",
     "text": [
      "[검정]\n",
      "임계값 : 3.325, 검정통계량 8.500\n",
      "유의수준: 0.050, 유의확률: 0.515\n"
     ]
    }
   ],
   "source": [
    "# 가설검정 (왼쪽 검정)\n",
    "# H0 : sigma^2 = v0, H1 : sigma^2 < v0\n",
    "n = 10; v = 3.4; df = n-1; v0 = 3.6; test_a = 0.05\n",
    "\n",
    "cstat = df * v / v0\n",
    "\n",
    "ways = 'one-left' # 'two', 'one-right(sigma^2>v0)', 'one-left(sigma^2<v0)'\n",
    "if ways == 'two':\n",
    "    if stats.chi2.cdf(stats, df) < 0.5:\n",
    "        sp = stats.chi2.cdf(cstat, df)*2\n",
    "    else: \n",
    "        sp = (1-stats.chi2.cdf(cstat, df))*2\n",
    "    cv1 = stats.chi2.ppf(test_a/2, df)\n",
    "    cv2 = stats.chi2.ppf(1-test_a/2, df)\n",
    "    cv = f\"{cv1:.3f}와 {cv2:.3f}\"\n",
    "elif ways == 'one-right':\n",
    "    sp = 1 - stats.chi2.cdf(cstat, df)\n",
    "    cv = stats.chi2.ppf(1-test_a, df) \n",
    "    cv = f\"{cv:.3f}\"\n",
    "elif ways == 'one-left':\n",
    "    sp = stats.chi2.cdf(cstat, df)\n",
    "    cv = stats.chi2.ppf(test_a, df) \n",
    "    cv = f\"{cv:.3f}\"    \n",
    "    \n",
    "print(\"[검정]\")\n",
    "print(f\"임계값 : {cv}, 검정통계량 {cstat:.3f}\")\n",
    "print(f\"유의수준: {test_a:.3f}, 유의확률: {sp:.3f}\")"
   ]
  },
  {
   "cell_type": "markdown",
   "id": "3728899c",
   "metadata": {},
   "source": [
    "## 5.2 이표본 (Two-sample)\n",
    "### 독립표본 모평균 차이의 추정과 가설검정 : Z분포, t분표\n",
    "$\\mu_1-\\mu_2:\\ 모평균의\\ 차,\\ \\mu_{0,(1)}-\\mu_{0,(2)}:\\ 귀무가설\\ 모평균의\\ 차,\\ X_1-X_2:\\ 표본평균의\\ 차,\\ \\sigma_1, \\sigma_2:\\ 각\\ 표본의\\ 모표준편차,\\ S_1,S_2:\\ 각\\ 표본의\\ 표본표준편차,\\ n_1, n_2:\\ 각\\ 표본의\\ 크기,\\ z_{\\frac{\\alpha}{2}}:\\ 신뢰계수, t_{\\frac{\\alpha}{2},(n_1+n_2-2)}:\\ 신뢰계수\\, t_{\\frac{\\alpha}{2},(df)}:\\ 신뢰계수$\n",
    "\n",
    "[추정] \n",
    "- 표본의 크기가 30이상이고 모집단의 분산을 아는 경우\n",
    "$$\n",
    "Z = \\frac{X_1-X_2-(\\mu_1-\\mu_2)}{\\sqrt{\\sigma^2_1/n_1 + \\sigma^2_2/n_2}}\\quad \\sim N(0,1) \\\\\n",
    "(\\bar{X_1}-\\bar{X}_2)-z_{\\frac{\\alpha}{2}}\\sqrt{\\frac{\\sigma^2_1}{n_1}+\\frac{\\sigma^2_2}{n_2}} < \\mu_1 - \\mu_2 < (\\bar{X_1}-\\bar{X}_2)+z_{\\frac{\\alpha}{2}}\\sqrt{\\frac{\\sigma^2_1}{n_1}+\\frac{\\sigma^2_2}{n_2}}\n",
    "$$\n",
    "- 표본의 크기가 30 이상이고, 모집단의 분산을 모르는 경우\n",
    "$$\n",
    "Z = \\frac{X_1-X_2-(\\mu_1-\\mu_2)}{\\sqrt{s^2_1/n_1 + s^2_2/n_2}}\\quad \\sim N(0,1) \\\\\n",
    "(\\bar{X_1}-\\bar{X}_2)-z_{\\frac{\\alpha}{2}}\\sqrt{\\frac{s^2_1}{n_1}+\\frac{s^2_2}{n_2}} < \\mu_1 - \\mu_2 < (\\bar{X_1}-\\bar{X}_2)+z_{\\frac{\\alpha}{2}}\\sqrt{\\frac{s^2_1}{n_1}+\\frac{s^2_2}{n_2}}\n",
    "$$\n",
    "- 표본의 크기가 30 미만이고, 모집단의 분산을 모르지만 두 모집단의 분산이 같다는 것을 알고 있을 경우\n",
    "$$\n",
    "t = \\frac{X_1-X_2-(\\mu_1-\\mu_2)}{s_p\\sqrt{1/n_1+1/n_2}}\\quad \\sim t_{(n_1+n_2-2)} \\\\\n",
    "**합동표본분산\\ S^2_p=\\frac{(n_1-1)S^2_1+(n_2-1)S^2_2}{(n_1+n_2-2)} \\\\\n",
    "(X_1-X_2)-t_{\\frac{\\alpha}{2},(n_1+n_2-2)S_p\\sqrt{\\frac{1}{n_1}+\\frac{1}{n_2}}} < \\mu_1 - \\mu_2 <\n",
    "(X_1-X_2)+t_{\\frac{\\alpha}{2},(n_1+n_2-2)S_p\\sqrt{\\frac{1}{n_1}+\\frac{1}{n_2}}}\n",
    "$$\n",
    "- 표본의 크기가 30 미만이고, 모집단의 분산을 모르지만 두 모집단의 분산이 다르다는 것을 알고 있을 경우\n",
    "$$\n",
    "t = \\frac{X_1-X_2-(\\mu_1-\\mu_2)}{\\sqrt{s^2_1/n_1+s^2_2/n_2}}\\quad \\sim t_{(df)} \\\\\n",
    "**자유도\\ df=\\frac{(\\frac{S^2_1}{n_1} + \\frac{S^2_2}{n_2})^2}{\\frac{1}{n_1-1}(\\frac{S^2_1}{n_1})^2+\\frac{1}{n_2-1}(\\frac{S^2_2}{n_2})^2} \\\\\n",
    "(X_1-X_2)-t_{\\frac{\\alpha}{2},(df)\\sqrt{\\frac{S^2_1}{n_1}+\\frac{S^2_2}{n_2}}} < \\mu_1 - \\mu_2 <\n",
    "(X_1-X_2)+t_{\\frac{\\alpha}{2},(df)\\sqrt{\\frac{S^2_1}{n_1}+\\frac{S^2_2}{n_2}}}\n",
    "$$\n",
    "\n",
    "[가설검정] : t 분포를 활용한 검정을 t 검정이라고 함\n",
    "- 표본의 크기가 30이상이고 모집단의 분산을 아는 경우 통계량\n",
    "$$ Z = \\frac{X_1-X_2-(\\mu_{0(1)}-\\mu_{0(2)})}{\\sqrt{\\sigma^2_1/n_1 + \\sigma^2_2/n_2}} \\sim N(0,1) $$\n",
    "- 표본의 크기가 30이상이고 모집단의 분산을 모르는 경우 통계량\n",
    "$$ Z = \\frac{X_1-X_2-(\\mu_{0(1)}-\\mu_{0(2)})}{\\sqrt{S^2_1/n_1 + S^2_2/n_2}} \\sim N(0,1) $$\n",
    "- 표본의 크기가 30 미만이고 모집단의 분산을 모르지만 두 모집단의 분산이 같다는 것을 알고 있을 경우의 통계량\n",
    "$$t=\\frac{X_1-X_2-(\\mu_{0(1)}-\\mu_{0(2)})}{s_p\\sqrt{1/n_1+1/n_2}} \\sim t_{(n_1+n_2-2)}$$\n",
    "- 표본의 크기가 30 미만이고 모집단의 분산을 모르지만 두 모집단의 분산이 다르다는 것을 알고 있을 경우의 통계량\n",
    "$$t=\\frac{X_1-X_2-(\\mu_{0(1)}-\\mu_{0(2)})}{\\sqrt{S^2_1/n_1+S^2_2/n_2}} \\sim t_{(df)}$$\n"
   ]
  },
  {
   "cell_type": "code",
   "execution_count": 14,
   "id": "c1f6974a",
   "metadata": {},
   "outputs": [
    {
     "name": "stdout",
     "output_type": "stream",
     "text": [
      "[추정]\n",
      " 점 추정량: 8.000\n",
      " 구간 추정량: 5.353~10.647\n",
      " 오차의 한계: 2.647\n"
     ]
    }
   ],
   "source": [
    "# 표본의 크기가 30 이상이고 모집단의 분산을 아는 경우\n",
    "## 독립표본 모평균 차이의 추정\n",
    "x1 = 78; x2 = 70; sigma1 = 4.8; sigma2 = 3.1; n1 = 16; n2 = 25; conf_a = 0.05\n",
    "\n",
    "d = x1 - x2\n",
    "se = np.sqrt(sigma1**2/n1 + sigma2**2/n2)\n",
    "conf_z = stats.norm.ppf(1-conf_a/2)\n",
    "me = conf_z * se\n",
    "\n",
    "print('[추정]')\n",
    "print(f\" 점 추정량: {d:.3f}\")\n",
    "print(f\" 구간 추정량: {d-me:.3f}~{d+me:.3f}\")\n",
    "print(f\" 오차의 한계: {me:.3f}\")"
   ]
  },
  {
   "cell_type": "code",
   "execution_count": 16,
   "id": "85e74504",
   "metadata": {},
   "outputs": [
    {
     "name": "stdout",
     "output_type": "stream",
     "text": [
      "[검정]\n",
      "임계값 : +/- 1.960, 검정통계량 5.923\n",
      "유의수준: 0.050, 유의확률: 0.000\n"
     ]
    }
   ],
   "source": [
    "## 독립표본 모평균 차이의 가설검정\n",
    "# H0 : 모평균의 차 = D0, H1: 모평균의 차 != D0\n",
    "test_a = 0.05; d0 = 0; \n",
    "d = x1 - x2\n",
    "df = n1+n2-2\n",
    "se = np.sqrt(sigma1**2/n1 + sigma2**2/n2)\n",
    "zstat = (x1-x2-d0)/se\n",
    "\n",
    "ways = 'two'\n",
    "if ways == 'two':\n",
    "    sp = (1-stats.norm.cdf(np.abs(zstat)))*2\n",
    "    cv = stats.norm.ppf(1-test_a/2)\n",
    "    cv = f\"+/- {cv:.3f}\"\n",
    "elif ways == 'one-right':\n",
    "    sp = (1-stats.norm.cdf(zstat))\n",
    "    cv = stats.norm.ppf(1-test_a)\n",
    "    cv = f\"+/- {cv:.3f}\"\n",
    "elif ways == 'one-left':\n",
    "    sp = (stats.norm.cdf(zstat))\n",
    "    cv = stats.norm.ppf(test_a)\n",
    "    cv = f\"+/- {cv:.3f}\"\n",
    "\n",
    "print(\"[검정]\")\n",
    "print(f\"임계값 : {cv}, 검정통계량 {zstat:.3f}\")\n",
    "print(f\"유의수준: {test_a:.3f}, 유의확률: {sp:.3f}\")"
   ]
  },
  {
   "cell_type": "code",
   "execution_count": 17,
   "id": "2353822c",
   "metadata": {},
   "outputs": [
    {
     "name": "stdout",
     "output_type": "stream",
     "text": [
      "[추정]\n",
      " 점 추정량: 4.000\n",
      " 구간 추정량: 0.001~7.999\n",
      " 오차의 한계: 3.999\n",
      " 합동 분산: 20.05\n"
     ]
    }
   ],
   "source": [
    "# 표본의 크기가 30 미만이고 모집단의 분산을 모르지만 같다는 것을 알고 있을 경우\n",
    "## 독립표본 모평균의 차이 추정\n",
    "x1=85; x2=81; s1=4; s2=5; n1=12; n2=10; conf_a=0.05\n",
    "\n",
    "d = x1 - x2\n",
    "df = n1+n2-2\n",
    "pv = (s1**2*(n1-1) + s2**2*(n2-1)) / df # pooled variance\n",
    "se = np.sqrt(pv) * np.sqrt(1/n1 + 1/n2)\n",
    "conf_t = stats.t.ppf(1-conf_a/2, df)\n",
    "me = conf_t * se\n",
    "\n",
    "print(\"[추정]\")\n",
    "print(f\" 점 추정량: {d:.3f}\")\n",
    "print(f\" 구간 추정량: {d-me:.3f}~{d+me:.3f}\")\n",
    "print(f\" 오차의 한계: {me:.3f}\")\n",
    "print(f\" 합동 분산: {pv:.2f}\")"
   ]
  },
  {
   "cell_type": "code",
   "execution_count": 18,
   "id": "81890397",
   "metadata": {},
   "outputs": [
    {
     "name": "stdout",
     "output_type": "stream",
     "text": [
      "[검정]\n",
      "임계값 : +/- 2.086, 검정통계량 2.086\n",
      "유의수준: 0.050, 유의확률: 0.050\n"
     ]
    }
   ],
   "source": [
    "## 독립표본 모평균 차이의 가설검정\n",
    "# H0 : 모평균의 차 = D0, H1: 모평균의 차 != D0\n",
    "test_a = 0.05; d0 = 0; \n",
    "d = x1 - x2\n",
    "df = n1+n2-2\n",
    "pv = (s1**2*(n1-1) + s2**2*(n2-1)) / df\n",
    "se = np.sqrt(pv) * np.sqrt(1/n1 + 1/n2)\n",
    "tstat = (x1-x2-d0)/se\n",
    "\n",
    "ways = 'two'\n",
    "if ways == 'two':\n",
    "    sp = (1-stats.t.cdf(np.abs(tstat), df))*2\n",
    "    cv = stats.t.ppf(1-test_a/2, df)\n",
    "    cv = f\"+/- {cv:.3f}\"\n",
    "elif ways == 'one-right':\n",
    "    sp = (1-stats.t.cdf(tstat, df))\n",
    "    cv = stats.norm.ppf(1-test_a, df)\n",
    "    cv = f\"+/- {cv:.3f}\"\n",
    "elif ways == 'one-left':\n",
    "    sp = (stats.t.cdf(tstat, df))\n",
    "    cv = stats.t.ppf(test_a, df)\n",
    "    cv = f\"+/- {cv:.3f}\"\n",
    "\n",
    "print(\"[검정]\")\n",
    "print(f\"임계값 : {cv}, 검정통계량 {tstat:.3f}\")\n",
    "print(f\"유의수준: {test_a:.3f}, 유의확률: {sp:.3f}\")"
   ]
  },
  {
   "cell_type": "code",
   "execution_count": 21,
   "id": "a882a02c",
   "metadata": {},
   "outputs": [
    {
     "name": "stdout",
     "output_type": "stream",
     "text": [
      "[추정]\n",
      " 점 추정량: 4.000\n",
      " 구간 추정량: -0.128~8.128\n",
      " 오차의 한계: 4.128\n",
      " 자유도: 17.17\n"
     ]
    }
   ],
   "source": [
    "# 표본의 크기가 30 미만이고 모집단의 분산을 모르지만 다르다고 알고 있을 경우\n",
    "## 독립표본 모평균 차이의 추정\n",
    "x1=85; x2=81; s1=4; s2=5; n1=12; n2=10; conf_a=0.05\n",
    "\n",
    "d = x1 - x2\n",
    "df = ((s1**2)/n1 + (s2**2)/n2)**2 / (1/(n1-1) * ((s1**2)/n1)**2 + 1/(n2-1)*((s2**2)/n2)**2)\n",
    "se = np.sqrt(s1**2/n1 + s2**2/n2)\n",
    "conf_t = stats.t.ppf(1-conf_a/2, df)\n",
    "me = conf_t * se\n",
    "\n",
    "print(\"[추정]\")\n",
    "print(f\" 점 추정량: {d:.3f}\")\n",
    "print(f\" 구간 추정량: {d-me:.3f}~{d+me:.3f}\")\n",
    "print(f\" 오차의 한계: {me:.3f}\")\n",
    "print(f\" 자유도: {df:.2f}\")"
   ]
  },
  {
   "cell_type": "code",
   "execution_count": 25,
   "id": "30e5a8e6",
   "metadata": {},
   "outputs": [
    {
     "name": "stdout",
     "output_type": "stream",
     "text": [
      "[검정]\n",
      "임계값 : +/- 2.108, 검정통계량 2.043\n",
      "유의수준: 0.050, 유의확률: 0.057\n"
     ]
    }
   ],
   "source": [
    "## 독립표본 모평균 차이의 가설검정\n",
    "# H0 : 모평균의 차 = D0, H1: 모평균의 차 != D0\n",
    "teste_a = 0.05; d0=0;\n",
    "d = x1 - x2\n",
    "df = ((s1**2)/n1 + (s2**2)/n2)**2 / (1/(n1-1)*((s1**2)/n1)**2 + 1/(n2-1)*((s2**2)/n2)**2)\n",
    "se = np.sqrt(s1**2/n1 + s2**2/n2)\n",
    "tstat = (x1-x2-d0)/se\n",
    "\n",
    "ways = 'two'\n",
    "if ways == 'two':\n",
    "    sp = (1-stats.t.cdf(np.abs(tstat), df))*2\n",
    "    cv = stats.t.ppf(1-test_a/2, df)\n",
    "    cv = f\"+/- {cv:.3f}\"\n",
    "elif ways == 'one-right':\n",
    "    sp = 1-stats.t.cdf(tstat, df)\n",
    "    cv = stats.t.ppf(1-test_a, df)\n",
    "    cv = f\"{cv:.3f}\"\n",
    "elif ways == 'one-left':\n",
    "    sp = stats.t.cdf(tstat, df)\n",
    "    cv = stats.t.ppf(test_a, df)\n",
    "    cv = f\"{cv:.3f}\"\n",
    "\n",
    "print(\"[검정]\")\n",
    "print(f\"임계값 : {cv}, 검정통계량 {tstat:.3f}\")\n",
    "print(f\"유의수준: {test_a:.3f}, 유의확률: {sp:.3f}\")    "
   ]
  },
  {
   "cell_type": "code",
   "execution_count": 27,
   "id": "84e3347e",
   "metadata": {},
   "outputs": [
    {
     "name": "stdout",
     "output_type": "stream",
     "text": [
      "[라이브러리 검정] equal_var=True, alternative='two-sided'\n",
      " 검정통계량: -3.564, 유의확률: 0.009\n",
      "[라이브러리 검정] equal_var=False, alternative='two-sided'\n",
      " 검정통계량: -3.656, 유의확률: 0.008\n"
     ]
    }
   ],
   "source": [
    "# 라이브러리를 통한 독립표본 t-test\n",
    "from scipy.stats import ttest_ind\n",
    "x1 = [1,3,5,7,9]\n",
    "x2 = [9,11,13,15]\n",
    "\n",
    "# equal_var : 모집단 분산 동일 여부, alternative: 대립가설 형태\n",
    "tstat, p = ttest_ind(x1, x2, equal_var = True, alternative='two-sided')\n",
    "print(f\"[라이브러리 검정] equal_var=True, alternative='two-sided'\")\n",
    "print(f\" 검정통계량: {tstat:.3f}, 유의확률: {p:.3f}\")\n",
    "\n",
    "tstat, p = ttest_ind(x1, x2, equal_var = False, alternative='two-sided')\n",
    "print(f\"[라이브러리 검정] equal_var=False, alternative='two-sided'\")\n",
    "print(f\" 검정통계량: {tstat:.3f}, 유의확률: {p:.3f}\")"
   ]
  },
  {
   "cell_type": "markdown",
   "id": "00c957dc",
   "metadata": {},
   "source": [
    "### 대응표본 모평균의 차이의 추정과 가설 검정: Z분포, t분포\n",
    "$\\mu_1-\\mu_2:\\ 모평균의 차,\\ D_0:\\ 귀무가설의\\ 모평균의\\ 차,\\ D:\\ 표본평균의\\ 차,\\ S_D:\\ 각\\ 대응표본의\\ 차의\\ 표본표준편차,\\ n:\\ 표본의\\ 크기, \\ z_{\\frac{\\alpha}{2}}:\\ 신뢰계수,\\ t_{\\frac{\\alpha}{2},n-1}:\\ 신뢰계수 $\n",
    "\n",
    "[추정]\n",
    "- 표본의 크기가 30 이상인 경우\n",
    "$$\n",
    "Z=\\frac{D-(\\mu_1-\\mu_2)}{S_D/\\sqrt{n}}\\sim\\ N(0,1) \\\\ **각\\ 대응표본의\\ 차의\\ 표본분산\\ S_D^2=\\frac{\\sum(D_i-D)^2}{n-1} \\\\ \\bar{D}-z_{\\frac{\\alpha}{2}}S_D/\\sqrt{n} < \\mu_1-\\mu_2 < \\bar{D}+z_{\\frac{\\alpha}{2}}S_D/\\sqrt{n}\n",
    "$$\n",
    "\n",
    "- 표본의 크기가 30 미만인 경우\n",
    "$$\n",
    "t=\\frac{D-(\\mu_1-\\mu_2)}{S_D/\\sqrt{n}}\\sim\\ t_{(n-1)} \\\\ **각\\ 대응표본의\\ 차의\\ 표본분산\\ S_D^2=\\frac{\\sum(D_i-D)^2}{n-1} \\\\ \\bar{D}-t_{\\frac{\\alpha}{2}, n-1}S_D/\\sqrt{n} < \\mu_1-\\mu_2 < \\bar{D}+t_{\\frac{\\alpha}{2}, n-1}S_D/\\sqrt{n}\n",
    "$$\n",
    "\n",
    "[가설 검정] 아래 t 분포를 활용한 검정을 '대응표본 t검정'이라고 한다\n",
    "- 표본의 크기가 30이상인 경우의 통계량\n",
    "$$\n",
    "Z=\\frac{D-D_0}{S_D/\\sqrt{n}}\\sim N(0,1) \\\\\n",
    "**각\\ 대응표본의\\ 차의\\ 표본분산\\ S_D^2=\\frac{\\sum(D_i-D)^2}{n-1}\n",
    "$$\n",
    "- 표본의 크기가 30미만인 경우의 통계량\n",
    "$$\n",
    "t=\\frac{D-D_0}{S_D/\\sqrt{n}}\\sim t_{(n-1)} \\\\\n",
    "**각\\ 대응표본의\\ 차의\\ 표본분산\\ S_D^2=\\frac{\\sum(D_i-D)^2}{n-1}\n",
    "$$"
   ]
  },
  {
   "cell_type": "code",
   "execution_count": 30,
   "id": "69011b26",
   "metadata": {},
   "outputs": [
    {
     "name": "stdout",
     "output_type": "stream",
     "text": [
      "[추정]\n",
      " 점 추정량: -1.000\n",
      " 구간 추정량: -3.893~1.893\n",
      " 오차의 한계: 2.893\n"
     ]
    }
   ],
   "source": [
    "# 표본 크기가 30 미만인 경우\n",
    "## 대응표본 모평균 차이의 추정\n",
    "x1 = np.array([75, 83, 96, 77, 81, 90, 82, 67, 94, 85, 78, 82, 96, 80, 87, 81])\n",
    "x2 = np.array([80, 90, 92, 75, 86, 90, 81, 70, 89, 88, 82, 79, 91, 90, 78, 89])\n",
    "n = len(x1)\n",
    "df = n-1\n",
    "conf_a = 0.05\n",
    "\n",
    "d = x1-x2\n",
    "d_mean = np.mean(d)\n",
    "d_std = np.sqrt(1/df * sum((d-d_mean)**2))\n",
    "se = d_std / np.sqrt(n)\n",
    "conf_t = stats.t.ppf(1-conf_a/2, df)\n",
    "me = conf_t * se\n",
    "\n",
    "print(\"[추정]\")\n",
    "print(f\" 점 추정량: {d_mean:.3f}\")\n",
    "print(f\" 구간 추정량: {d_mean-me:.3f}~{d_mean+me:.3f}\")\n",
    "print(f\" 오차의 한계: {me:.3f}\")"
   ]
  },
  {
   "cell_type": "code",
   "execution_count": 31,
   "id": "d248765c",
   "metadata": {},
   "outputs": [
    {
     "name": "stdout",
     "output_type": "stream",
     "text": [
      "[검정]\n",
      "임계값 : +/- 2.131, 검정통계량 -0.737\n",
      "유의수준: 0.050, 유의확률: 0.473\n"
     ]
    }
   ],
   "source": [
    "## 대응표본 모평균 차이의 가설검정\n",
    "test_a = 0.05\n",
    "d0 = 0\n",
    "d = x1 - x2\n",
    "d_mean = np.mean(d)\n",
    "d_std = np.sqrt(1/df * sum((d-d_mean)**2))\n",
    "se = d_std / np.sqrt(n)\n",
    "tstat = (d_mean - d0)/se\n",
    "\n",
    "ways = 'two'\n",
    "if ways == 'two':\n",
    "    sp = (1-stats.t.cdf(np.abs(tstat), df))*2\n",
    "    cv = stats.t.ppf(1-test_a/2, df)\n",
    "    cv = f\"+/- {cv:.3f}\"\n",
    "elif ways == 'one-right':\n",
    "    sp = 1-stats.t.cdf(tstat, df)\n",
    "    cv = stats.t.ppf(1-test_a, df)\n",
    "    cv = f\"{cv:.3f}\"\n",
    "elif ways == 'one-left':\n",
    "    sp = stats.t.cdf(tstat, df)\n",
    "    cv = stats.t.ppf(test_a, df)\n",
    "    cv = f\"{cv:.3f}\"\n",
    "    \n",
    "print(\"[검정]\")\n",
    "print(f\"임계값 : {cv}, 검정통계량 {tstat:.3f}\")\n",
    "print(f\"유의수준: {test_a:.3f}, 유의확률: {sp:.3f}\")    "
   ]
  },
  {
   "cell_type": "code",
   "execution_count": 32,
   "id": "0f7c7703",
   "metadata": {},
   "outputs": [
    {
     "name": "stdout",
     "output_type": "stream",
     "text": [
      "[라이브러리 검정]\n",
      " 검정통계량: -0.737, 유의확률: 0.473\n"
     ]
    }
   ],
   "source": [
    "from scipy.stats import ttest_rel\n",
    "tstat, p = ttest_rel(x1, x2, alternative='two-sided')\n",
    "print(\"[라이브러리 검정]\")\n",
    "print(f\" 검정통계량: {tstat:.3f}, 유의확률: {p:.3f}\")"
   ]
  },
  {
   "cell_type": "code",
   "execution_count": 34,
   "id": "39079af5",
   "metadata": {},
   "outputs": [
    {
     "name": "stdout",
     "output_type": "stream",
     "text": [
      "[추정]\n",
      " 점 추정량: 2.275\n",
      " 구간 추정량: -0.506~5.056\n",
      " 오차의 한계: 2.781\n"
     ]
    }
   ],
   "source": [
    "# 표본 크기가 30 이상인 경우\n",
    "## 대응표본 모평균 차이의 추정\n",
    "np.random.seed(0)\n",
    "x1 = np.random.randint(80, 100, 40)\n",
    "x2 = np.random.randint(80, 100, 40)\n",
    "n = len(x1)\n",
    "df = n-1\n",
    "conf_a - 0.05\n",
    "\n",
    "d = x1 - x2\n",
    "d_mean = np.mean(d)\n",
    "d_std = np.sqrt(1/df * sum((d-d_mean)**2))\n",
    "se = d_std / np.sqrt(n)\n",
    "conf_z = stats.norm.ppf(1-conf_a/2)\n",
    "me = conf_z * se\n",
    "\n",
    "print(\"[추정]\")\n",
    "print(f\" 점 추정량: {d_mean:.3f}\")\n",
    "print(f\" 구간 추정량: {d_mean-me:.3f}~{d_mean+me:.3f}\")\n",
    "print(f\" 오차의 한계: {me:.3f}\")"
   ]
  },
  {
   "cell_type": "code",
   "execution_count": 36,
   "id": "81850bfa",
   "metadata": {},
   "outputs": [
    {
     "name": "stdout",
     "output_type": "stream",
     "text": [
      "[검정]\n",
      "임계값 : +/- 1.960, 검정통계량 1.604\n",
      "유의수준: 0.050, 유의확률: 0.109\n"
     ]
    }
   ],
   "source": [
    "## 대응표본 모평균 차이의 가설검정\n",
    "# H0: 모평균의 차 = D0, H1: 모평균의 차 != D0\n",
    "test_a = 0.05; d0 = 0;\n",
    "d = x1-x2\n",
    "d_mean = np.mean(d)\n",
    "d_std = np.sqrt(1/df * sum((d-d_mean)**2))\n",
    "se = d_std / np.sqrt(n)\n",
    "zstat = (d_mean - d0) / se\n",
    "\n",
    "ways = 'two'\n",
    "if ways == 'two':\n",
    "    sp = (1-stats.norm.cdf(np.abs(zstat)))*2\n",
    "    cv = stats.norm.ppf(1-test_a/2)\n",
    "    cv = f\"+/- {cv:.3f}\"\n",
    "elif ways == 'one-right':\n",
    "    sp = 1-stats.norm.cdf(zstat)\n",
    "    cv = stats.norm.ppf(1-test_a)\n",
    "    cv = f\"{cv:.3f}\"\n",
    "elif ways == 'one-left':\n",
    "    sp = stats.norm.cdf(zstat)\n",
    "    cv = stats.norm.ppf(test_a)\n",
    "    cv = f\"{cv:.3f}\"\n",
    "\n",
    "print(\"[검정]\")\n",
    "print(f\"임계값 : {cv}, 검정통계량 {zstat:.3f}\")\n",
    "print(f\"유의수준: {test_a:.3f}, 유의확률: {sp:.3f}\")    "
   ]
  },
  {
   "cell_type": "code",
   "execution_count": 37,
   "id": "bc068fc1",
   "metadata": {},
   "outputs": [
    {
     "name": "stdout",
     "output_type": "stream",
     "text": [
      "[라이브러리 검정]\n",
      " 검정통계량: 1.604, 유의확률: 0.117\n"
     ]
    }
   ],
   "source": [
    "from scipy.stats import ttest_rel\n",
    "tstat, p = ttest_rel(x1, x2, alternative='two-sided')\n",
    "\n",
    "print(\"[라이브러리 검정]\")\n",
    "print(f\" 검정통계량: {tstat:.3f}, 유의확률: {p:.3f}\")"
   ]
  },
  {
   "cell_type": "markdown",
   "id": "0ab03ac8",
   "metadata": {},
   "source": [
    "### 모비율 차이의 추정과 가설 검정 : Z분포\n",
    "$p_1 - p_2 :\\ 모비율의\\ 차, D_0:\\ 귀무가설의\\ 모비율의\\ 차,\\ \\hat{p_1}-\\hat{p_2}:\\ 표본비율의\\ 차, \\ \\hat{p}:\\ 합동표본비율,\\ n_1,n_2:\\ 각\\ 표본의\\ 크기, z_{\\frac{\\alpha}{2}}:\\ 신뢰계수$\n",
    "[추정]\n",
    "$$\n",
    "Z = \\frac{\\hat{p_1} - \\hat{p_2}-(p_1-p_2)}{\\sqrt{\\frac{\\hat{p_1}(1-\\hat{p_1}}{n_1}+\\frac{\\hat{p_2}(1-\\hat{p_2}}{n_2}}} \\sim N(0,1) \\\\\n",
    "\\hat{p_1}-\\hat{p_2}-z_{\\frac{\\alpha}{2}}\\sqrt{\\frac{\\hat{p_1}(1-\\hat{p_1})}{n_1}+\\frac{\\hat{p_2}(1-\\hat{p_2})}{n_2}} < p_1 - p_2 < \\hat{p_1}-\\hat{p_2}+z_{\\frac{\\alpha}{2}}\\sqrt{\\frac{\\hat{p_1}(1-\\hat{p_1})}{n_1}+\\frac{\\hat{p_2}(1-\\hat{p_2})}{n_2}}\n",
    "$$\n",
    "[가설 검정]\n",
    "$$\n",
    "Z=\\frac{\\hat{p_1}-\\hat{p_2}-(D_0)}{\\sqrt{\\hat{p}(1-\\hat{p})(\\frac{1}{n_1}+\\frac{1}{n_2})}} \\sim N(0,1) \\\\ **합동표본비율\\ \\hat{p}=\\frac{n_1\\hat{p_1}+n_2\\hat{p_2}}{n_1+n_2}\n",
    "$$"
   ]
  },
  {
   "cell_type": "code",
   "execution_count": 38,
   "id": "9678d51d",
   "metadata": {},
   "outputs": [
    {
     "name": "stdout",
     "output_type": "stream",
     "text": [
      "[추정]\n",
      " 점 추정량: 0.080\n",
      " 구간 추정량: -0.020~0.180\n",
      " 오차의 한계: 0.100\n"
     ]
    }
   ],
   "source": [
    "# 독립표본 모비율 차이의 추정\n",
    "n1 = 250; p1 =120/250; n2=150; p2=60/150; conf_a=0.05\n",
    "\n",
    "d = p1-p2\n",
    "conf_z = stats.norm.ppf(1-conf_a/2)\n",
    "se1 = np.sqrt(p1*(1-p1)/n1 + p2*(1-p2)/n2)\n",
    "me1 = conf_z * se1\n",
    "\n",
    "print(\"[추정]\")\n",
    "print(f\" 점 추정량: {d:.3f}\")\n",
    "print(f\" 구간 추정량: {d-me1:.3f}~{d+me1:.3f}\")\n",
    "print(f\" 오차의 한계: {me1:.3f}\")"
   ]
  },
  {
   "cell_type": "code",
   "execution_count": 39,
   "id": "b7c53539",
   "metadata": {},
   "outputs": [
    {
     "name": "stdout",
     "output_type": "stream",
     "text": [
      "[검정]\n",
      "임계값 : 1.645, 검정통계량 1.557\n",
      "유의수준: 0.050, 유의확률: 0.060\n"
     ]
    }
   ],
   "source": [
    "# 독립표본 모비율 차이의 가설검정\n",
    "# H0 : 모비율의 차 = D0, 캠페인 후의 인지도가 증가여부를 검정\n",
    "test_a = 0.05\n",
    "d0 = 0\n",
    "\n",
    "pe = (n1*p1+n2*p2) / (n1+n2)\n",
    "se2 = np.sqrt(pe*(1-pe)*(1/n1+1/n2))\n",
    "zstat = (d-d0)/se2\n",
    "\n",
    "ways = 'one-right'\n",
    "if ways == 'two':\n",
    "    sp = (1-stats.norm.cdf(np.abs(zstat)))*2\n",
    "    cv = stats.norm.ppf(1-test_a/2)\n",
    "    cv = f\"+/-{cv:.3f}\"\n",
    "elif ways == 'one-right':\n",
    "    sp = 1-stats.norm.cdf(zstat)\n",
    "    cv = stats.norm.ppf(1-test_a)\n",
    "    cv = f\"{cv:.3f}\"\n",
    "elif ways == 'one-left':\n",
    "    sp = stats.norm.cdf(zstat)\n",
    "    cv = stats.norm.ppf(test_a)\n",
    "    cv = f\"{cv:.3f}\"\n",
    "    \n",
    "print(\"[검정]\")\n",
    "print(f\"임계값 : {cv}, 검정통계량 {zstat:.3f}\")\n",
    "print(f\"유의수준: {test_a:.3f}, 유의확률: {sp:.3f}\")    "
   ]
  },
  {
   "cell_type": "markdown",
   "id": "dc73cbe2",
   "metadata": {},
   "source": [
    "### 모분산 비의 추정과 가설검정: F분포\n",
    "- 두 모집단의 분산을 비교하는 경우 분산의 차이를 비교하지 않고 분산의 비를 계산한다. 이 분산비가 1보다 큰지 작은지 여부 확인\n",
    "$\\sigma_1, \\sigma_2:\\ 각\\ 모표준편차,\\ S_1, S_2:\\ 각\\ 표본표준편차,\\ m,n:\\ 각\\ 표본의\\ 크기,\\ F_{1-\\frac{\\alpha}{2},n-1,m-1}:\\ 신뢰계수$\n",
    "[추정]\n",
    "$$\n",
    "F = (\\frac{S^2_1/\\sigma^2_1}{S^2_2/\\sigma^2_2}) = \\frac{\\frac{(m-1)S^2_1}{\\sigma^2_1}/(m-1)}{\\frac{(n-1)S^2_1}{\\sigma^2_1}/(n-1)}\\sim F_{(m-1, n-1)} \\\\\n",
    "F_{1-\\frac{\\alpha}{2},n-1,m-1}S^2_1/S^2_2 < \\sigma^2_1/\\sigma^2_2 < F_{\\frac{\\alpha}{2},n-1,m-1}S^2_1/S^2_2\n",
    "$$\n",
    "[가설 검정]\n",
    "$$ F=S^2_1/S^2_2 \\sim F_{(m-1,n-1}$$\n",
    "[F분포의 특성]\n",
    "$$ \\frac{1}{F_{(1-\\frac{\\alpha}{2},m-1,n-2)}} = F_{(\\frac{\\alpha}{2},n-1,m-1)}$$"
   ]
  },
  {
   "cell_type": "code",
   "execution_count": 42,
   "id": "e74e0947",
   "metadata": {},
   "outputs": [
    {
     "name": "stdout",
     "output_type": "stream",
     "text": [
      "[추정]\n",
      " 점 추정량: 0.764\n",
      " 구간 추정량: 0.190~3.075\n"
     ]
    }
   ],
   "source": [
    "# 모분산 비의 추정\n",
    "sample1 = [272, 255, 278, 282, 296, 312, 356, 296, 302, 312]\n",
    "sample2 = [276, 280, 369, 285, 303, 317, 290, 250, 313, 307]\n",
    "n1 = len(sample1); n2 = len(sample2)\n",
    "df1 = n1-1; df2 = n2-1\n",
    "v1 = np.std(sample1, ddof=1)**2\n",
    "v2 = np.std(sample2, ddof=1)**2\n",
    "conf_a = 0.05\n",
    "fstat = v1/v2\n",
    "f1 = stats.f.ppf(conf_a/2, df1, df2)\n",
    "f2 = stats.f.ppf(1-conf_a/2, df1, df2)\n",
    "cr1 = f1 * fstat\n",
    "cr2 = f2 * fstat\n",
    "\n",
    "print(\"[추정]\")\n",
    "print(f\" 점 추정량: {fstat:.3f}\")\n",
    "print(f\" 구간 추정량: {cr1:.3f}~{cr2:.3f}\")"
   ]
  },
  {
   "cell_type": "code",
   "execution_count": 43,
   "id": "32234273",
   "metadata": {},
   "outputs": [
    {
     "name": "stdout",
     "output_type": "stream",
     "text": [
      "[검정]\n",
      "임계값 : 0.315, 검정통계량 0.764\n",
      "유의수준: 0.050, 유의확률: 0.347\n"
     ]
    }
   ],
   "source": [
    "# 모분산 비의 가설검정\n",
    "v0 = 1; test_a = 0.05\n",
    "## H0 : 모분산1=모분산2, H1: 모분산1 < 모분산2\n",
    "ways = 'one-left'\n",
    "if ways == 'two':\n",
    "    if stats.f.cdf(fstat,df1, df2) < 0.5:\n",
    "        sp = stats.f.cdf(fstat, df1, df2) * 2\n",
    "    else:\n",
    "        sp = (1-stats.f.cdf(fstat, df1, df2))*2\n",
    "    cv1 = stats.f.ppf(test_a/2, df1, df2)\n",
    "    cv2 = stats.f.ppf(1-test_a/2, df1, df2)\n",
    "    cv = f\"{cv1:.3f}와 {cv2:.3f}\"\n",
    "elif ways == 'one-right':\n",
    "    sp = 1-stats.f.cdf(fstat, df1, df2)\n",
    "    cv = stats.f.ppf(1-test_a, df1, df2)\n",
    "    cv = f\"{cv:.3f}\"\n",
    "elif ways == 'one-left':\n",
    "    sp = stats.f.cdf(fstat, df1, df2)\n",
    "    cv = stats.f.ppf(test_a, df1, df2)\n",
    "    cv = f\"{cv:.3f}\"\n",
    "print(\"[검정]\")\n",
    "print(f\"임계값 : {cv}, 검정통계량 {fstat:.3f}\")\n",
    "print(f\"유의수준: {test_a:.3f}, 유의확률: {sp:.3f}\")        "
   ]
  },
  {
   "cell_type": "markdown",
   "id": "5e782351",
   "metadata": {},
   "source": [
    "## 5-3 분산분석의 가정\n",
    "- 분산분석의 가정 \n",
    "1. 정규성 : 각 표본의 반응변수는 정규분포\n",
    "2. 등분산성 : 모든 집단의 반응변수의 분산이 동일\n",
    "3. 독립성 : 각 관찰값은 독립적 => 일반적으로 수집한 관찰값은 독립적으로 수집되었다고 보기 때문에 독립성 검정은 하지 않는 편\n",
    "\n",
    "- 정규성 검정 : Shapiro(소규모 샘플), Anderson-Darling(대규모 샘플), Komogorov-Smirov, Jarque-Bera, QQplot\n",
    "    - H0 : 표본의 모집단이 정규분포와 차이가 없다 (정규성 만족)\n",
    "    - H1 : 표본의 모집단이 정규분포와 차이가 있다 (정규성 불만족)    \n",
    "- 등분산 검정 : Bartlett(정규성 만족), Levene(정규성 불반족)    \n",
    "    - H0 : 집단 간 모분산에는 차이가 없다 (등분산성 만족)\n",
    "    - H1 : 집단 간 모분산이 모두 같다고 할 수 없다 (등분산성 불만족)    \n"
   ]
  },
  {
   "cell_type": "markdown",
   "id": "34d7889d",
   "metadata": {},
   "source": [
    "### 정규성 검정"
   ]
  },
  {
   "cell_type": "code",
   "execution_count": 51,
   "id": "a6ca2e42",
   "metadata": {},
   "outputs": [
    {
     "name": "stdout",
     "output_type": "stream",
     "text": [
      "shapiro: 0.993, 0.869\n",
      "anderson : 0.181, cv 0.759, significant level 0.05\n",
      "kstest : 0.058, 0.867\n",
      "jarque_bera: 0.597, 0.742\n"
     ]
    },
    {
     "data": {
      "image/png": "[encoded data removed]",
      "text/plain": [
       "<Figure size 1000x300 with 2 Axes>"
      ]
     },
     "metadata": {},
     "output_type": "display_data"
    }
   ],
   "source": [
    "data = stats.norm.rvs(size=100, random_state=0)\n",
    "\n",
    "from scipy.stats import shapiro, anderson, jarque_bera, kstest, zscore, probplot\n",
    "\n",
    "# shapiro\n",
    "sstat, p = shapiro(data)\n",
    "print(f\"shapiro: {sstat:.3f}, {p:.3f}\")\n",
    "\n",
    "# darling anderson\n",
    "dstat, cv, sl = anderson(data, dist='norm')\n",
    "print(f\"anderson : {dstat:.3f}, cv {cv[2]:.3f}, significant level {sl[2]*0.01}\")\n",
    "\n",
    "# kstests\n",
    "kstat, p = kstest(data, cdf=stats.norm.cdf)\n",
    "print(f\"kstest : {kstat:.3f}, {p:.3f}\")\n",
    "\n",
    "# jarque_bera\n",
    "jstat, p = jarque_bera(data)\n",
    "print(f\"jarque_bera: {jstat:.3f}, {p:.3f}\")\n",
    "\n",
    "# qqplot\n",
    "import matplotlib.pyplot as plt\n",
    "\n",
    "zdata = zscore(data)\n",
    "fig,ax = plt.subplots(1,2, figsize=(10,3))\n",
    "(osm, odr), (slope, intercept, r) = probplot(zdata, plot=ax[0])\n",
    "ax[0].set_title('QQ plot')\n",
    "\n",
    "# histogram\n",
    "ax[1].hist(data)\n",
    "ax[1].set_title('histogram')\n",
    "plt.show()"
   ]
  },
  {
   "cell_type": "markdown",
   "id": "a903f7ff",
   "metadata": {},
   "source": [
    "### k표본 등분산 검정 (Levene)"
   ]
  },
  {
   "cell_type": "code",
   "execution_count": 60,
   "id": "133cba88",
   "metadata": {},
   "outputs": [
    {
     "name": "stdout",
     "output_type": "stream",
     "text": [
      "[수기 검정]\n",
      " 오른쪽 검정 임계값: 3.885, 검정통계량: 0.145\n",
      " 유의수준: 0.050, 유의확률: 0.867\n"
     ]
    }
   ],
   "source": [
    "# 표본 수가 동일한 Levene 검정\n",
    "\n",
    "data = pd.DataFrame({'fac1':[48,54,57,54,62], 'fac2':[73,63,66,64,74], 'fac3':[51,63,61,54,56]})\n",
    "test_a = 0.05\n",
    "\n",
    "# 수기 검정\n",
    "n1 = len(data['fac1']); n2 = len(data['fac2']); n3 = len(data['fac3'])\n",
    "N = n1+n2+n3; k = data.shape[1]\n",
    "df1 = k-1; df2 = N-k; df3 = N-1\n",
    "\n",
    "means = np.array(data.mean(axis=0))\n",
    "zij1 = np.abs(data['fac1']-means[0])\n",
    "zij2 = np.abs(data['fac2']-means[1])\n",
    "zij3 = np.abs(data['fac3']-means[2])\n",
    "zi1 = zij1.mean()\n",
    "zi2 = zij2.mean()\n",
    "zi3 = zij3.mean()\n",
    "z = (zij1.sum() + zij2.sum() + zij3.sum()) / (len(zij1) + len(zij2) + len(zij3))\n",
    "\n",
    "F = (N-k) / (k-1) * (n1*(zi1-z)**2 + n2*(zi2-z)**2 + n3*(zi3-z)**2) / sum((zij1-zi1)**2 + (zij2-zi2)**2 + (zij3-zi3)**2)\n",
    "\n",
    "cv = stats.f.ppf(1-test_a, df1, df2)\n",
    "sp = 1-stats.f.cdf(F, df1, df2)\n",
    "\n",
    "print(\"[수기 검정]\")\n",
    "print(f\" 오른쪽 검정 임계값: {cv:.3f}, 검정통계량: {F:.3f}\")\n",
    "print(f\" 유의수준: {test_a:.3f}, 유의확률: {sp:.3f}\")"
   ]
  },
  {
   "cell_type": "code",
   "execution_count": 61,
   "id": "8e2bf05b",
   "metadata": {},
   "outputs": [
    {
     "name": "stdout",
     "output_type": "stream",
     "text": [
      "[라이브러리 검증]\n",
      " stat : 0.145, p-value: 0.867\n"
     ]
    }
   ],
   "source": [
    "# 라이브러리 검정 : 표본 수가 같든지 다르든지 상관이 없다\n",
    "lstat, p = stats.levene(data['fac1'], data['fac2'], data['fac3'], center='mean')\n",
    "print(\"[라이브러리 검증]\")\n",
    "print(f\" stat : {lstat:.3f}, p-value: {p:.3f}\")"
   ]
  },
  {
   "cell_type": "code",
   "execution_count": 65,
   "id": "a7ceb5c1",
   "metadata": {},
   "outputs": [
    {
     "name": "stdout",
     "output_type": "stream",
     "text": [
      "[수기 검정]\n",
      " 오른쪽 검정 임계값: 3.982, 검정통계량: 0.096\n",
      " 유의수준: 0.050, 유의확률: 0.909\n"
     ]
    }
   ],
   "source": [
    "# 표본 수가 다른 Levene 검정\n",
    "data = [[36,41,42,49], [40,48,39,45,44], [35,37,42,34,32]]\n",
    "test_a = 0.05\n",
    "\n",
    "means = []\n",
    "N = 0\n",
    "k_sample_n = [] # 모집단 별 표본 갯수\n",
    "for d in data:\n",
    "    means.append(np.mean(d))\n",
    "    N += len(d)\n",
    "    k_sample_n.append(len(d))\n",
    "k_sample_n = np.array(k_sample_n)    \n",
    "\n",
    "k = len(k_sample_n)\n",
    "n1 = k_sample_n[0]; n2 = k_sample_n[1]; n3 = k_sample_n[2]; \n",
    "df1 = k-1; df2 = N-k; df3 = N-1;\n",
    "zij1 = np.abs(data[0] - means[0]); zij2 = np.abs(data[1] - means[1]); zij3 = np.abs(data[2] - means[2]);\n",
    "zi1 = zij1.mean(); zi2 = zij2.mean(); zi3 = zij3.mean()\n",
    "z = (zij1.sum() + zij2.sum() + zij3.sum()) / (len(zij1) + len(zij2) + len(zij3))\n",
    "\n",
    "F = (N-k) / (k-1) * (n1*(zi1-z)**2 + n2*(zi2-z)**2 + n3*(zi3-z)**2) / (sum((zij1-zi1)**2) + sum((zij2-zi2)**2) + sum((zij3-zi3)**2))\n",
    "\n",
    "cv = stats.f.ppf(1-test_a, df1, df2)\n",
    "sp = 1-stats.f.cdf(F, df1, df2)\n",
    "\n",
    "print(\"[수기 검정]\")\n",
    "print(f\" 오른쪽 검정 임계값: {cv:.3f}, 검정통계량: {F:.3f}\")\n",
    "print(f\" 유의수준: {test_a:.3f}, 유의확률: {sp:.3f}\")"
   ]
  },
  {
   "cell_type": "code",
   "execution_count": 66,
   "id": "9c2ab557",
   "metadata": {},
   "outputs": [
    {
     "name": "stdout",
     "output_type": "stream",
     "text": [
      "[라이브러리 검증]\n",
      " stat : 0.096, p-value: 0.909\n"
     ]
    }
   ],
   "source": [
    "# 라이브러리 검정\n",
    "lstat, p = stats.levene(data[0], data[1], data[2], center='mean')\n",
    "print(\"[라이브러리 검증]\")\n",
    "print(f\" stat : {lstat:.3f}, p-value: {p:.3f}\")"
   ]
  },
  {
   "cell_type": "markdown",
   "id": "8a7ffb95",
   "metadata": {},
   "source": [
    "### k표본 등분산 검정 (Bartlett)"
   ]
  },
  {
   "cell_type": "code",
   "execution_count": 69,
   "id": "0a25ee25",
   "metadata": {},
   "outputs": [
    {
     "name": "stdout",
     "output_type": "stream",
     "text": [
      "[라이브러리 검증]\n",
      " stat : 1.082, p-value: 0.582\n"
     ]
    }
   ],
   "source": [
    "# 정규성 샘플 생성\n",
    "data1 = stats.norm.rvs(size=50, random_state=0)\n",
    "data2 = stats.norm.rvs(size=50, random_state=1)\n",
    "data3 = stats.norm.rvs(size=50, random_state=2)\n",
    "\n",
    "bstat, p = stats.bartlett(data1, data2, data3)\n",
    "print(\"[라이브러리 검증]\")\n",
    "print(f\" stat : {bstat:.3f}, p-value: {p:.3f}\")"
   ]
  },
  {
   "cell_type": "markdown",
   "id": "9dee0f4c",
   "metadata": {},
   "source": [
    "## 5-4 분산분석 : F분포\n",
    "- 분산분석의 모든 가정(정규성, 등분산성, 독립성)을 만족할 때 standard ANOVA wlsgod\n",
    "- 등분산을 만족하지 않거나 샘플이 불균형인 경우 각 상황에 맞는 분산분석과 사후검정을 진행한다\n",
    "- 사후 검정 : k개 집단 중에서 적어도 한 집단의 모평균이 다르다고 판단(대립가설 채택)될 때, 어느 집단 간의 모평균이 다른지 확인하는 과정\n",
    "\n",
    "1) 정규성, 등분산, 샘플사이즈 동일\n",
    "    - 분산분석 : standard ANOVA\n",
    "    - 사후검정 : Tukey HSD, snk, Dunnett, Duncan, REGWQ, REGWF\n",
    "2) 정규성, 등분산, 샘플사이즈 다름\n",
    "    - 분산분석 : standard ANOVA\n",
    "    - 사후검정 : Fisher's LSD, Scheffe, Dunnett, Tukey HSD, Bonferroni, sidak, Hochberg GT2, Gabrial\n",
    "3) 정규성, 이분산\n",
    "    - 분산분석 : Welch's ANOVA, Brown-Forsythe ANOVA\n",
    "    - 사후검정 : GamesHowell, Dunnett T3, Dunnett C, Tamhane T2\n",
    "    \n",
    "- Standard ANOVA는 종속변수와 독립변수의 개수에 따라서 구분\n",
    "    1) 일원배치 분산분석 (One-way) : 종속변수 1개, 독립변수 1개\n",
    "    2) 이원배치 분산분석 (Two-way) : 종속변수 1개, 독립변수 2개\n",
    "    3) 다원배치 분산분석 (Multi-way) : 종속변수 1개, 독립변수 3개 이상\n",
    "    4) 다변량 분산분석 (MANOVA, Multivariate) : 종속변수 2개 이상\n"
   ]
  },
  {
   "cell_type": "markdown",
   "id": "7b1b616e",
   "metadata": {},
   "source": [
    "- 일원배치 분산분석 : 집단을 나타내는 변수인 인자의 개수가 1개, F통계량 이용\n",
    "    - 모집단 수에는 제한이 없으며, 각 표본의 수는 같지 않아도 됨\n",
    "    - H0 : 집단 간 모평균에는 차이가 없다, H1 : 집단 간 모평균이 모두 같다고 할 수 없다"
   ]
  },
  {
   "cell_type": "markdown",
   "id": "4ddb8d6b",
   "metadata": {},
   "source": [
    "### 등분산인 one-way ANOVA"
   ]
  },
  {
   "cell_type": "code",
   "execution_count": 71,
   "id": "6f9f274f",
   "metadata": {},
   "outputs": [
    {
     "name": "stdout",
     "output_type": "stream",
     "text": [
      "[수기 검정]\n",
      " 수준별 평균\n",
      "  [78.33333333 80.5        84.33333333 75.33333333]\n",
      " 수준별 표본의 분산\n",
      " [ 9.86666667 13.1        11.46666667 15.06666667]\n",
      " 자유도 3, 20\n",
      " SSTR: 258.125, SSE: 247.500, SST: 505.625\n",
      " MSR: 86.042, MSE: 12.375, F: 6.953\n",
      " 오른쪽 검정의 임계값: 3.098, 검정통계량: 6.953\n",
      " 유의수준: 0.050, 유의확률 0.002\n"
     ]
    }
   ],
   "source": [
    "# one-way ANOVA (수준 별 샘플 사이즈가 동일한 완전확률화계획법)\n",
    "## 각 수준의 모집단이 정규분포를 따르고 분산이 동일하다고 가정\n",
    "data = pd.DataFrame({'A0':[76,80,78,79,83,74], 'A1':[82,75,83,78,85,80], 'A2':[79,87,88,86,84,82], 'A3':[81,74,76,78,73,70]})\n",
    "test_a = 0.05\n",
    "\n",
    "means = np.array(data.mean(axis=0)) # 모집단 별 평균\n",
    "mu = np.mean(data.values) # 전체 평균\n",
    "Vs = np.array(data.std(axis=0, ddof=1)**2) # 모집단(수준)별 분산\n",
    "n = len(data.values.flatten()) # 표본 전체 개수\n",
    "k = data.shape[0] # 모집단 별 표본 개수\n",
    "level = data.shape[1] # 모집단(수준)의 개수\n",
    "dfr = level-1 # 모집단 자유도\n",
    "dfe = n - dfr - 1 # 오차 자유도\n",
    "\n",
    "print('[수기 검정]')\n",
    "print(\" 수준별 평균\\n \", means)\n",
    "print(\" 수준별 표본의 분산\\n\", Vs)\n",
    "print(f\" 자유도 {dfr}, {dfe}\")\n",
    "\n",
    "SSTR = (k * (means - mu)**2).sum() # 처리제곱 : 처리 평균들과 전체 평균의 제곱합\n",
    "SSE = ((k-1) * Vs).sum() # 오차제곱 : 처리분산들과 오차 자유도를 곱한 합\n",
    "SST = ((data.values - mu)**2).sum() # SSTR + SSE\n",
    "MSR = SSTR/dfr\n",
    "MSE = SSE/dfe\n",
    "F = MSR / MSE\n",
    "\n",
    "print(f\" SSTR: {SSTR:.3f}, SSE: {SSE:.3f}, SST: {SST:.3f}\")\n",
    "print(f\" MSR: {MSR:.3f}, MSE: {MSE:.3f}, F: {F:.3f}\")\n",
    "\n",
    "cv = stats.f.ppf(1-test_a, dfr, dfe)\n",
    "sp = 1-stats.f.cdf(F, dfr, dfe)\n",
    "print(f\" 오른쪽 검정의 임계값: {cv:.3f}, 검정통계량: {F:.3f}\")\n",
    "print(f\" 유의수준: {test_a:.3f}, 유의확률 {sp:.3f}\")"
   ]
  },
  {
   "cell_type": "code",
   "execution_count": 72,
   "id": "ad0d0414",
   "metadata": {},
   "outputs": [
    {
     "name": "stdout",
     "output_type": "stream",
     "text": [
      "[라이브러리 검정]\n",
      " stat6.953, p-value: 0.002\n"
     ]
    }
   ],
   "source": [
    "from statsmodels.stats.oneway import anova_oneway\n",
    "\n",
    "oa = anova_oneway(data=data.melt()['value'], groups=data.melt()['variable'], use_var='equal')\n",
    "\n",
    "print(\"[라이브러리 검정]\")\n",
    "print(f\" stat{oa.statistic:.3f}, p-value: {oa.pvalue:.3f}\")"
   ]
  },
  {
   "cell_type": "code",
   "execution_count": 73,
   "id": "10c6411f",
   "metadata": {},
   "outputs": [
    {
     "name": "stdout",
     "output_type": "stream",
     "text": [
      "data.melt: \n",
      "   variable  value\n",
      "0       A0     76\n",
      "1       A0     80\n",
      "2       A0     78\n",
      " Multiple Comparison of Means - Tukey HSD, FWER=0.05 \n",
      "=====================================================\n",
      "group1 group2 meandiff p-adj   lower    upper  reject\n",
      "-----------------------------------------------------\n",
      "    A0     A1   2.1667  0.713   -3.518  7.8513  False\n",
      "    A0     A2      6.0 0.0363   0.3153 11.6847   True\n",
      "    A0     A3     -3.0  0.469  -8.6847  2.6847  False\n",
      "    A1     A2   3.8333 0.2647  -1.8513   9.518  False\n",
      "    A1     A3  -5.1667 0.0831 -10.8513   0.518  False\n",
      "    A2     A3     -9.0 0.0014 -14.6847 -3.3153   True\n",
      "-----------------------------------------------------\n"
     ]
    },
    {
     "data": {
      "image/png": "[encoded data removed]",
      "text/plain": [
       "<Figure size 1000x600 with 1 Axes>"
      ]
     },
     "metadata": {},
     "output_type": "display_data"
    },
    {
     "data": {
      "text/plain": [
       "'\\n사후 검정 결과 A0-A2, A2-A3간의 모평균 사이가 있는 것 확인\\n'"
      ]
     },
     "execution_count": 73,
     "metadata": {},
     "output_type": "execute_result"
    }
   ],
   "source": [
    "# 사후 검정 (정규성, 등분산성, 샘플사이즈 동일 - Tukey HSD)\n",
    "from statsmodels.sandbox.stats.multicomp import MultiComparison\n",
    "from scipy.stats import ttest_ind\n",
    "\n",
    "org_data = data.melt()\n",
    "print(\"data.melt: \\n\", org_data.head(3))\n",
    "\n",
    "mc = MultiComparison(data=org_data['value'], groups=org_data['variable']).tukeyhsd(alpha=0.05)\n",
    "print(mc)\n",
    "\n",
    "mc.plot_simultaneous()\n",
    "plt.show()\n",
    "\n",
    "\"\"\"\n",
    "사후 검정 결과 A0-A2, A2-A3간의 모평균 사이가 있는 것 확인\n",
    "\"\"\""
   ]
  },
  {
   "cell_type": "code",
   "execution_count": 76,
   "id": "279eeedd",
   "metadata": {},
   "outputs": [
    {
     "name": "stdout",
     "output_type": "stream",
     "text": [
      "[데이터 확인]\n",
      "      A0    A1    A2    A3\n",
      "0  81.0  65.0  72.0  89.0\n",
      "1  75.0  80.0  67.0  94.0\n",
      "2  69.0  73.0  62.0  79.0\n",
      "3  90.0  79.0  76.0  88.0\n",
      "4  72.0  81.0  80.0   NaN\n",
      "5  83.0  69.0   NaN   NaN\n",
      "[수기검정]\n",
      " 수준 별 평균\n",
      " [78.33333333333333, 74.5, 71.4, 87.5]\n",
      " 수준 별 표본의 분산\n",
      " [60.66666667 43.1        50.8        39.        ]\n",
      " 자유도 3, 17\n",
      " SSTR: 643.633, SSE: 839.033, SST: 1482.667\n",
      " MSR: 214.544, MSE: 49.355, F: 4.347\n",
      " 오른쪽 검정의 임계값: 3.197, 검정통계량: 4.347\n",
      " 유의수준: 0.050, 유의확률 0.019\n"
     ]
    }
   ],
   "source": [
    "# one-way ANOVA (수준 별 샘플 사이즈가 다른 완전확률화계획법)\n",
    "## 각 수준의 모집단이 정규분포를 따르고 분산이 동일하다고 가정\n",
    "\n",
    "data = [[81,75,69,90,72,83], [65,80,73,79,81,69], [72,67,62,76,80], [89,94,79,88]]\n",
    "data_df = pd.DataFrame(data, index=['A%d' %i for i in range(len(data))]).T\n",
    "data_1d = sum(data, [])\n",
    "test_a = 0.05\n",
    "print(\"[데이터 확인]\\n\", data_df)\n",
    "\n",
    "means = []; Vs = []; n = 0; k =[]\n",
    "for d in data:\n",
    "    means.append(np.mean(d))\n",
    "    Vs.append(np.std(d, ddof=1)**2)\n",
    "    n += len(d)\n",
    "    k.append(len(d))\n",
    "mu = np.mean(data_1d)\n",
    "Vs = np.array(Vs)\n",
    "k = np.array(k)\n",
    "dfr = len(k)-1\n",
    "dfe = n-1-dfr\n",
    "print('[수기검정]')\n",
    "print(\" 수준 별 평균\\n\", means)\n",
    "print(\" 수준 별 표본의 분산\\n\", Vs)\n",
    "print(f\" 자유도 {dfr}, {dfe}\")\n",
    "\n",
    "SSTR = (k * (means - mu)**2).sum()\n",
    "SSE = ((k-1) * Vs).sum()\n",
    "SST = ((data_1d - mu)**2).sum()\n",
    "MSR = SSTR / dfr ; MSE = SSE / dfe\n",
    "F = MSR / MSE\n",
    "\n",
    "print(f\" SSTR: {SSTR:.3f}, SSE: {SSE:.3f}, SST: {SST:.3f}\")\n",
    "print(f\" MSR: {MSR:.3f}, MSE: {MSE:.3f}, F: {F:.3f}\")\n",
    "\n",
    "cv = stats.f.ppf(1-test_a, dfr, dfe)\n",
    "sp = 1-stats.f.cdf(F, dfr, dfe)\n",
    "print(f\" 오른쪽 검정의 임계값: {cv:.3f}, 검정통계량: {F:.3f}\")\n",
    "print(f\" 유의수준: {test_a:.3f}, 유의확률 {sp:.3f}\")"
   ]
  },
  {
   "cell_type": "code",
   "execution_count": 80,
   "id": "6ec0d579",
   "metadata": {},
   "outputs": [
    {
     "name": "stdout",
     "output_type": "stream",
     "text": [
      "[라이브러리 검정]\n",
      " stat: 4.347, p-value: 0.019\n"
     ]
    }
   ],
   "source": [
    "oa = stats.f_oneway(*data) # *는 리스트 압축 해제 기능 # f_oneway(data[0], data[1], ...)\n",
    "print(\"[라이브러리 검정]\")\n",
    "print(f\" stat: {oa.statistic:.3f}, p-value: {oa.pvalue:.3f}\")"
   ]
  },
  {
   "cell_type": "code",
   "execution_count": 79,
   "id": "449ffce0",
   "metadata": {},
   "outputs": [
    {
     "name": "stdout",
     "output_type": "stream",
     "text": [
      "[라이브러리 검정]\n",
      "data_df.melt: \n",
      "   variable  value\n",
      "0       A0   81.0\n",
      "1       A0   75.0\n",
      "2       A0   69.0\n",
      "3       A0   90.0\n",
      "4       A0   72.0\n",
      "Test Multiple Comparison ttest_ind \n",
      "FWER=0.05 method=bonf\n",
      "alphacSidak=0.01, alphacBonf=0.008\n",
      "=============================================\n",
      "group1 group2   stat   pval  pval_corr reject\n",
      "---------------------------------------------\n",
      "    A0     A1  0.9218 0.3783       1.0  False\n",
      "    A0     A2  1.5262 0.1613    0.9678  False\n",
      "    A0     A3 -1.9591 0.0858    0.5146  False\n",
      "    A1     A2  0.7506 0.4721       1.0  False\n",
      "    A1     A3 -3.1239 0.0141    0.0849  False\n",
      "    A2     A3 -3.5486 0.0094    0.0562  False\n",
      "---------------------------------------------\n"
     ]
    }
   ],
   "source": [
    "# 사후검정 (정규성, 등분산, 샘플 사이즈 다름 - Bonferroni)\n",
    "from statsmodels.sandbox.stats.multicomp import MultiComparison\n",
    "\n",
    "org_data = data_df.melt().dropna()\n",
    "print(\"[라이브러리 검정]\")\n",
    "print(\"data_df.melt: \\n\", org_data.head())\n",
    "\n",
    "mc = MultiComparison(data = org_data['value'], groups = org_data['variable']\n",
    "                    ).allpairtest(testfunc = stats.ttest_ind, method='bonf')\n",
    "print(mc[0])"
   ]
  },
  {
   "cell_type": "markdown",
   "id": "bbc14d6a",
   "metadata": {},
   "source": [
    "### 이분산 one-way ANOVA"
   ]
  },
  {
   "cell_type": "code",
   "execution_count": 82,
   "id": "e9b15f00",
   "metadata": {},
   "outputs": [
    {
     "name": "stdout",
     "output_type": "stream",
     "text": [
      " [Welch's one-way ANOVA]\n",
      " stats: 6.019, p: 0.011\n",
      " [Brown-Forsythe one-way ANOVA]\n",
      " stats: 6.953, p: 0.002\n"
     ]
    }
   ],
   "source": [
    "# use_var 파라미터 설정\n",
    "# 'equal' : standard ANOVA, 'unequal':welch ANOVA, 'bf':brown-Forsythe\n",
    "\n",
    "data = pd.DataFrame({'A1':[76,80,78,79,83,74], 'A2':[82,75,83,78,85,80], 'A3':[79,87,88,86,84,82], 'A4':[81,74,76,78,73,70]})\n",
    "\n",
    "## welch's one-way ANOVA\n",
    "from statsmodels.stats.oneway import anova_oneway\n",
    "\n",
    "welch = anova_oneway(data=data.melt()['value'], groups=data.melt()['variable'], use_var='unequal')\n",
    "print(\" [Welch's one-way ANOVA]\")\n",
    "print(f\" stats: {welch.statistic:.3f}, p: {welch.pvalue:.3f}\")\n",
    "\n",
    "## Brown-Forsythe one-way ANOVA\n",
    "bf = anova_oneway(data=data.melt()['value'], groups=data.melt()['variable'], use_var='bf')\n",
    "print(\" [Brown-Forsythe one-way ANOVA]\")\n",
    "print(f\" stats: {bf.statistic:.3f}, p: {bf.pvalue:.3f}\")"
   ]
  },
  {
   "cell_type": "code",
   "execution_count": 85,
   "id": "7689d7a8",
   "metadata": {},
   "outputs": [
    {
     "name": "stdout",
     "output_type": "stream",
     "text": [
      "    A   B    mean(A)    mean(B)      diff        se         T        df  \\\n",
      "0  A1  A2  78.333333  80.500000 -2.166667  1.956471 -1.107436  9.805651   \n",
      "1  A1  A3  78.333333  84.333333 -6.000000  1.885618 -3.181981  9.944065   \n",
      "2  A1  A4  78.333333  75.333333  3.000000  2.038518  1.471657  9.583173   \n",
      "3  A2  A3  80.500000  84.333333 -3.833333  2.023473 -1.894432  9.955991   \n",
      "4  A2  A4  80.500000  75.333333  5.166667  2.166667  2.384615  9.951485   \n",
      "5  A3  A4  84.333333  75.333333  9.000000  2.102908  4.279788  9.819241   \n",
      "\n",
      "       pval    hedges  \n",
      "0  0.693488 -0.590196  \n",
      "1  0.041365 -1.695801  \n",
      "2  0.488889  0.784303  \n",
      "3  0.289721 -1.009616  \n",
      "4  0.143511  1.270854  \n",
      "5  0.007620  2.280865  \n"
     ]
    }
   ],
   "source": [
    "# 사후검정 (정규성, 이분산 - GamesHowell)\n",
    "from pingouin import pairwise_gameshowell\n",
    "\n",
    "org_data = data.melt()\n",
    "gw = pairwise_gameshowell(dv='value', between='variable', data=org_data)\n",
    "print(gw)"
   ]
  },
  {
   "cell_type": "markdown",
   "id": "d7c2d818",
   "metadata": {},
   "source": [
    "## 이원배치 분산분석 (Two-way ANOVA)\n",
    "- 인자의 수가 2개 이상\n",
    "- 인자의 종류에는 모수인자(Fixed), 변량인자(Random)가 있다\n",
    "    - '모수 + 모수'의 조합 별 데이터 수가 1개이면 반복이 없는 / 2개 이상이면 반복이 있는 이원배치 분산분석\n",
    "    - '모수 + 변량'의 조합 별 데이터 수가 1개이면 난괴법 혹은 확률화블럭계획법(RBD), 2개 이상이면 반복기 있는 이원배치 혼합모형(Mixed Model)\n",
    "- H0 : 변수 A에 따른 종속변수 값에는 차이가 없고, 변수 B에 따른 종속변수 값에도 차이가 없으며, AB상호작용 효과가 없다\n",
    "- H1 : 변수 A에 따른 종속변수 값에 차이가 있거나, 변수 B에 따른 종속변수 값에 차이가 있거나, AB상호작용 효과가 있다\n",
    "- 사후검정\n",
    "    - '모수 + 모수' 조합인 경우\n",
    "        - 교호작용에 대한 검증이 반드시 필요. \n",
    "            - 교호작용이 유의미할 경우 주효과 검정은 무의미하고 교호작용 효과만 검정\n",
    "            - 교호작용이 없을 경우에는 유의하지 않은 교호작용 효과를 오차항에 풀링한 후, 모수 인자들의 주효과 검정 진행\n",
    "    - '모수 + 변량' 조합인 경우\n",
    "        - 교호작용이 유의할 때, 모수인자의 주효과 검정만 의미가 있고, 교호작용이 유의하지 않으면 유의하지 않은 교호작용 효과를 오차항에 풀링한 후, 모수인자의 주효과 검정 진행\n",
    "        - 변량인자에 대한 통계량은 유의성 검정을 위한것이 아니라 이원배치 분산분석 설계의 상대적 효율성을 평가하는데 쓰임\n"
   ]
  },
  {
   "cell_type": "markdown",
   "id": "e56d8af5",
   "metadata": {},
   "source": [
    "### 등분산인 two-way ANOVA (모수인자-모수인자)"
   ]
  },
  {
   "cell_type": "code",
   "execution_count": 88,
   "id": "5cbfef00",
   "metadata": {},
   "outputs": [
    {
     "name": "stdout",
     "output_type": "stream",
     "text": [
      "[데이터 확인]\n",
      " B    1    2    3     4\n",
      "A                     \n",
      "1  [4]  [5]  [7]   [8]\n",
      "2  [3]  [7]  [8]  [10]\n",
      "3  [5]  [6]  [9]  [12]\n",
      "[수기 검정]\n",
      "ANOVA Table: \n",
      "   요인  DF    SS    MS     F        PV\n",
      "0  A   2   8.0   4.0   4.0  0.078717\n",
      "1  B   3  60.0  20.0  20.0  0.001586\n",
      "2  E   6   6.0   1.0  none      none\n"
     ]
    }
   ],
   "source": [
    "# 반복이 없는 이원배치 분산분석 : 반복이 없으므로 교호작용 효과는 검출할 수 없다\n",
    "## A, B 모두 모수인자\n",
    "data = pd.DataFrame({'A':[1,2,3,1,2,3,1,2,3,1,2,3], 'B':[1,1,1,2,2,2,3,3,3,4,4,4], 'Y':[4,3,5,5,7,6,7,8,9,8,10,12]})\n",
    "print(\"[데이터 확인]\\n\", pd.crosstab(data['A'], data['B'], values=data['Y'], aggfunc=list))\n",
    "\n",
    "n = len(data['Y']); a = len(data['A'].value_counts()); b = len(data['B'].value_counts()) # 수준 갯수\n",
    "dfa = a-1; dfb = b-1; dfe = dfa*dfb\n",
    "y_mean = data['Y'].mean(); # 전체 평균\n",
    "yi_mean = data.groupby('A').mean()['Y'].values # 인자 A별 평균\n",
    "yj_mean = data.groupby('B').mean()['Y'].values # 인자 B별 평균\n",
    "\n",
    "SST = sum((data['Y'] - y_mean)**2)\n",
    "SSA = sum((yi_mean - y_mean)**2) * b\n",
    "SSB = sum((yj_mean - y_mean)**2) * a\n",
    "\n",
    "SSE = 0 # 오차제곱합\n",
    "yij_data = data['Y'].values.reshape(-1, a)\n",
    "for i in range(a):\n",
    "    for j in range(b):\n",
    "        SSE += (yij_data[j,i] - yi_mean[i] - yj_mean[j] + y_mean)**2\n",
    "MSA = SSA / dfa; MSB = SSB / dfb; MSE = SSE/dfe\n",
    "\n",
    "atable1 = pd.DataFrame({\"요인\":['A', 'B', 'E'], 'DF':[dfa, dfb, dfe], 'SS':[SSA, SSB, SSE],\n",
    "                      'MS':[MSA, MSB, MSE], 'F':[MSA/MSE, MSB/MSE, 'none'], \n",
    "                       'PV': [1-stats.f.cdf(MSA/MSE, dfa, dfe), 1-stats.f.cdf(MSB/MSE, dfb, dfe), 'none']})\n",
    "\n",
    "print('[수기 검정]')\n",
    "print('ANOVA Table: \\n', atable1)"
   ]
  },
  {
   "cell_type": "code",
   "execution_count": 90,
   "id": "5dd3828c",
   "metadata": {},
   "outputs": [
    {
     "name": "stdout",
     "output_type": "stream",
     "text": [
      "[라이브러리 검정]\n",
      "           df  sum_sq  mean_sq     F    PR(>F)\n",
      "C(A)      2.0     8.0      4.0   4.0  0.078717\n",
      "C(B)      3.0    60.0     20.0  20.0  0.001586\n",
      "Residual  6.0     6.0      1.0   NaN       NaN\n"
     ]
    }
   ],
   "source": [
    "from statsmodels.formula.api import ols\n",
    "from statsmodels.stats.anova import anova_lm\n",
    "\n",
    "model = ols(\"Y ~ C(A)+C(B)\", data=data).fit()\n",
    "atable2 = anova_lm(model)\n",
    "print('[라이브러리 검정]')\n",
    "print(atable2)"
   ]
  },
  {
   "cell_type": "code",
   "execution_count": 95,
   "id": "927f80e4",
   "metadata": {},
   "outputs": [
    {
     "name": "stdout",
     "output_type": "stream",
     "text": [
      "[데이터 확인]\n",
      " B             1             2             3             4\n",
      "A                                                        \n",
      "1  [64, 66, 70]  [65, 63, 58]  [59, 68, 65]  [58, 50, 49]\n",
      "2  [72, 81, 64]  [57, 43, 52]  [66, 71, 59]  [57, 61, 53]\n",
      "3  [74, 51, 65]  [47, 58, 67]  [58, 45, 42]  [53, 59, 38]\n",
      "[수기 검정]\n",
      "ANOVA Table: \n",
      "     요인  DF           SS          MS         F        PV\n",
      "0    A   2   342.388889  171.194444    3.0815  0.064393\n",
      "1    B   3  1002.888889  334.296296  6.017333  0.003307\n",
      "2  AxB   6   588.944444   98.157407  1.766833  0.148795\n",
      "3    E  24  1333.333333   55.555556      None      None\n",
      "교호작용이 유의하지 않으므로, 이를 E에 풀링하고 A,B의 주효과 확인\n",
      "pooling 후, ANOVA Table:\n",
      "   요인  DF           SS          MS         F        PV\n",
      "0  A   2   342.388889  171.194444  2.671744  0.085542\n",
      "1  B   3  1002.888889  334.296296   5.21719  0.005102\n",
      "2  E  30  1922.277778   64.075926      None      None\n",
      "유의수준 0.05 기준 A의 수준별 모평균 차이는 통계적으로 유의하지 않지만, B의 수준별 모평균 차이는 통꼐적으로 유의한 것으로 나타났다. 이에 B의 사후 검정이 필요하다\n"
     ]
    }
   ],
   "source": [
    "# 반복이 있는 이원배치 분산분석\n",
    "## A, B 모두 모수인자\n",
    "data = pd.DataFrame({'A':[1,1,1,2,2,2,3,3,3, 1,1,1,2,2,2,3,3,3, 1,1,1,2,2,2,3,3,3, 1,1,1,2,2,2,3,3,3,], # 열수준\n",
    "                     'B':[1,1,1,1,1,1,1,1,1, 2,2,2,2,2,2,2,2,2, 3,3,3,3,3,3,3,3,3, 4,4,4,4,4,4,4,4,4,], # 행수준\n",
    "                     'Y':[64,66,70,72,81,64,74,51,65, 65,63,58,57,43,52,47,58,67, 59,68,65,66,71,59,58,45,42, \n",
    "                         58,50,49,57,61,53,53,59,38]})\n",
    "print(\"[데이터 확인]\\n\", pd.crosstab(data['A'], data['B'], values = data['Y'], aggfunc=list))\n",
    "\n",
    "n = len(data['Y']); a = len(data['A'].value_counts()); b = len(data['B'].value_counts())\n",
    "r = data.groupby(['A','B']).count().iloc[0,0]\n",
    "dfa = a-1; dfb = b-1; dfab = dfa*dfb; dfe = n - a*b\n",
    "\n",
    "y_mean = data['Y'].mean()\n",
    "yi_mean = data.groupby('A').mean()['Y'].values # 인자 A별 평균\n",
    "yj_mean = data.groupby('B').mean()['Y'].values # 인자 B별 평균\n",
    "yij_mean = data.groupby(['B', 'A']).mean().values.flatten().reshape(-1, a) # 인자A-B 조합별 데이터 평균\n",
    "\n",
    "SST = sum((data['Y'] - y_mean)**2)\n",
    "SSA = sum((yi_mean - y_mean)**2) * b * r\n",
    "SSB = sum((yj_mean - y_mean)**2) * a * r\n",
    "\n",
    "ssab = 0\n",
    "for i in range(a):\n",
    "    for j in range(b):\n",
    "        ssab += (yij_mean[j, i] - yi_mean[i] - yj_mean[j] + y_mean)**2\n",
    "SSAB = ssab * r\n",
    "\n",
    "SSE = 0\n",
    "yij_data = data['Y'].values.reshape(-1, a, r)\n",
    "for i in range(a):\n",
    "    for j in range(b):\n",
    "        SSE += sum((yij_data[j,i] - yij_mean[j,i])**2)\n",
    "\n",
    "MSA = SSA / dfa\n",
    "MSB = SSB / dfb\n",
    "MSAB = SSAB / dfab\n",
    "MSE = SSE / dfe\n",
    "\n",
    "atable1 = pd.DataFrame({\n",
    "    \"요인\" : ['A', 'B', 'AxB' , 'E'],\n",
    "    'DF' : [dfa, dfb, dfab, dfe],\n",
    "    'SS' : [SSA, SSB, SSAB, SSE], \n",
    "    'MS' : [MSA, MSB, MSAB, MSE],\n",
    "    'F' : [MSA/MSE, MSB/MSE, MSAB/MSE, 'None'],\n",
    "    'PV' : [1-stats.f.cdf(MSA/MSE, dfa, dfe), 1-stats.f.cdf(MSB/MSE, dfb,dfe), 1-stats.f.cdf(MSAB/MSE, dfab, dfe), 'None'],\n",
    "    })\n",
    "\n",
    "print('[수기 검정]')\n",
    "print(f\"ANOVA Table: \\n\", atable1)\n",
    "print(\"교호작용이 유의하지 않으므로, 이를 E에 풀링하고 A,B의 주효과 확인\")\n",
    "\n",
    "pooled_SSE = SSAB + SSE\n",
    "pooled_dfe = dfab + dfe\n",
    "pooled_MSE = pooled_SSE / pooled_dfe\n",
    "\n",
    "atable2 = pd.DataFrame({\n",
    "    \"요인\" : ['A', 'B', 'E'],\n",
    "    'DF' : [dfa, dfb, pooled_dfe],\n",
    "    'SS' : [SSA, SSB, pooled_SSE], \n",
    "    'MS' : [MSA, MSB, pooled_MSE],\n",
    "    'F' : [MSA/pooled_MSE, MSB/pooled_MSE, 'None'],\n",
    "    'PV' : [1-stats.f.cdf(MSA/pooled_MSE, dfa, pooled_dfe), 1-stats.f.cdf(MSB/pooled_MSE, dfb, pooled_dfe), 'None'],    \n",
    "    })\n",
    "\n",
    "print(\"pooling 후, ANOVA Table:\\n\", atable2)\n",
    "print(\"유의수준 0.05 기준 A의 수준별 모평균 차이는 통계적으로 유의하지 않지만, B의 수준별 모평균 차이는 통꼐적으로 유의한 것으로 나타났다. 이에 B의 사후 검정이 필요하다\")"
   ]
  },
  {
   "cell_type": "code",
   "execution_count": 98,
   "id": "188f54d3",
   "metadata": {},
   "outputs": [
    {
     "name": "stdout",
     "output_type": "stream",
     "text": [
      "[라이브러리 검정]\n",
      "             df       sum_sq     mean_sq         F    PR(>F)\n",
      "C(A)        2.0   342.388889  171.194444  3.081500  0.064393\n",
      "C(B)        3.0  1002.888889  334.296296  6.017333  0.003307\n",
      "C(A):C(B)   6.0   588.944444   98.157407  1.766833  0.148795\n",
      "Residual   24.0  1333.333333   55.555556       NaN       NaN\n",
      "유의수준 0.05 기준으로, 교호작용이 유의하지 않음 확인\n",
      "            df       sum_sq     mean_sq         F    PR(>F)\n",
      "C(A)       2.0   342.388889  171.194444  2.671744  0.085542\n",
      "C(B)       3.0  1002.888889  334.296296  5.217190  0.005102\n",
      "Residual  30.0  1922.277778   64.075926       NaN       NaN\n",
      "풀링 후 주효과 확인, 유의수준 0.05 기준 B는 주효과 있는 것으로 확인\n"
     ]
    }
   ],
   "source": [
    "from statsmodels.formula.api import ols\n",
    "from statsmodels.stats.anova import anova_lm\n",
    "\n",
    "model = ols(\"Y~C(A)+C(B)+C(A):C(B)\", data=data).fit()\n",
    "atable3 = anova_lm(model)\n",
    "print(\"[라이브러리 검정]\")\n",
    "print(atable3) \n",
    "print(\"유의수준 0.05 기준으로, 교호작용이 유의하지 않음 확인\")\n",
    "\n",
    "model = ols(\"Y ~ C(A) + C(B)\", data=data).fit()\n",
    "atable4 = anova_lm(model)\n",
    "print(atable4)\n",
    "print(\"풀링 후 주효과 확인, 유의수준 0.05 기준 B는 주효과 있는 것으로 확인\")"
   ]
  },
  {
   "cell_type": "markdown",
   "id": "e8db5cd1",
   "metadata": {},
   "source": [
    "### 등분산인 two-way ANOVA (모수인자-변량인자)"
   ]
  },
  {
   "cell_type": "code",
   "execution_count": 102,
   "id": "184b67be",
   "metadata": {},
   "outputs": [
    {
     "name": "stdout",
     "output_type": "stream",
     "text": [
      "[데이터 확인]\n",
      " B    1    2    3     4\n",
      "A                     \n",
      "1  [4]  [5]  [7]   [8]\n",
      "2  [3]  [7]  [8]  [10]\n",
      "3  [5]  [6]  [9]  [12]\n",
      "[수기 검정]\n",
      "ANOVA Table:\n",
      "   요인  DF    SS    MS     F        PV\n",
      "0  A   2   8.0   4.0   4.0  0.078717\n",
      "1  B   3  60.0  20.0  20.0  0.001586\n",
      "2  E   6   6.0   1.0  None      None\n",
      " B 변량의 분산 추정치: 6.333\n"
     ]
    }
   ],
   "source": [
    "# 반복이 없는 경우 : 확률화블럭계획법\n",
    "## A가 모수인자 B가 변량인자\n",
    "## 반복이 없는 이원배치 분산분석과 동일한 방법으로 진행\n",
    "\n",
    "data = pd.DataFrame({\n",
    "    'A' : [1,2,3,1,2,3,1,2,3,1,2,3],\n",
    "    'B' : [1,1,1,2,2,2,3,3,3,4,4,4],\n",
    "    'Y' : [4,3,5,5,7,6,7,8,9,8,10,12],\n",
    "})\n",
    "print(\"[데이터 확인]\\n\", pd.crosstab(data['A'], data['B'], values=data['Y'],aggfunc=list))\n",
    "\n",
    "n = len(data['Y']); a = len(data['A'].value_counts()); b = len(data['B'].value_counts())\n",
    "dfa = a-1; dfb = b-1; dfe = dfa * dfb\n",
    "\n",
    "y_mean = data['Y'].mean()\n",
    "yi_mean = data.groupby('A').mean()['Y'].values\n",
    "yj_mean = data.groupby('B').mean()['Y'].values\n",
    "\n",
    "SST = sum((data['Y'] - y_mean)**2)\n",
    "SSA = sum((yi_mean - y_mean)**2) * b\n",
    "SSB = sum((yj_mean - y_mean)**2) * a\n",
    "\n",
    "SSE = 0\n",
    "yij_data = data['Y'].values.reshape(-1,a)\n",
    "for i in range(a):\n",
    "    for j in range(b):\n",
    "        SSE += (yij_data[j,i] - yi_mean[i] - yj_mean[j] + y_mean) ** 2\n",
    "\n",
    "MSA = SSA / dfa \n",
    "MSB = SSB / dfb\n",
    "MSE = SSE / dfe\n",
    "\n",
    "atable1 = pd.DataFrame({\n",
    "    '요인': ['A','B','E'],\n",
    "    'DF' : [dfa, dfb, dfe],\n",
    "    'SS' : [SSA, SSB, SSE],\n",
    "    'MS' : [MSA, MSB, MSE],\n",
    "    'F' : [MSA/MSE, MSB/MSE, 'None'],\n",
    "    'PV' : [1-stats.f.cdf(MSA/MSE, dfa, dfe), 1-stats.f.cdf(MSB/MSE, dfb, dfe), 'None']\n",
    "    })\n",
    "\n",
    "print('[수기 검정]')\n",
    "print('ANOVA Table:\\n', atable1)\n",
    "print(f\" B 변량의 분산 추정치: {(MSB-MSE)/a:.3f}\")"
   ]
  },
  {
   "cell_type": "code",
   "execution_count": 103,
   "id": "650900e8",
   "metadata": {},
   "outputs": [
    {
     "name": "stdout",
     "output_type": "stream",
     "text": [
      "           df  sum_sq  mean_sq     F    PR(>F)\n",
      "C(A)      2.0     8.0      4.0   4.0  0.078717\n",
      "C(B)      3.0    60.0     20.0  20.0  0.001586\n",
      "Residual  6.0     6.0      1.0   NaN       NaN\n",
      "\n",
      "    모수인자 A는 주효과 검정결과 유의하지 않고, 변량인자 B는 주효과 검정 대신 모분산 추정\n",
      "\n"
     ]
    }
   ],
   "source": [
    "from statsmodels.formula.api import ols\n",
    "from statsmodels.stats.anova import anova_lm\n",
    "\n",
    "model = ols(\"Y ~ C(A) + C(B)\", data=data).fit()\n",
    "atable2 = anova_lm(model)\n",
    "print(atable2)\n",
    "print(\"\"\"\n",
    "    모수인자 A는 주효과 검정결과 유의하지 않고, 변량인자 B는 주효과 검정 대신 모분산 추정\n",
    "\"\"\")"
   ]
  },
  {
   "cell_type": "code",
   "execution_count": 107,
   "id": "bbe215db",
   "metadata": {},
   "outputs": [
    {
     "name": "stdout",
     "output_type": "stream",
     "text": [
      "[데이터 확인]\n",
      " B             1             2             3             4\n",
      "A                                                        \n",
      "1  [64, 66, 70]  [65, 63, 58]  [59, 68, 65]  [58, 50, 49]\n",
      "2  [72, 81, 64]  [57, 43, 52]  [66, 71, 59]  [57, 61, 53]\n",
      "3  [74, 51, 65]  [47, 58, 67]  [58, 45, 42]  [53, 59, 38]\n",
      "[수기 검정]\n",
      "ANOVA Table: \n",
      "     요인  DF      SS     MS         F\n",
      "0    A   2   342.4  171.2  1.744081\n",
      "1    B   3  1002.9  334.3  6.017333\n",
      "2  AxB   6   588.9   98.2  1.766833\n",
      "3    E  24  1333.3   55.6      None\n",
      " A-B 교호작용 검정 :1.767, p-value 0.149\n",
      " B 변량의 분산 추정: 30.971\n",
      "pooling 후, ANOVA table:\n",
      "   요인  DF      SS     MS         F\n",
      "0  A   2   342.4  171.2  2.671744\n",
      "1  B   3  1002.9  334.3   5.21719\n",
      "2  E  30  1922.3   64.1      None\n",
      " A 주효과 검정: 2.672, p-value 0.086\n"
     ]
    }
   ],
   "source": [
    "# 반복이 있는 경우 : 이원배치 혼합모형(mixed model)\n",
    "## A가 모수인자, B가 변량인자\n",
    "data = pd.DataFrame({\n",
    "    'A' : [1,1,1,2,2,2,3,3,3, 1,1,1,2,2,2,3,3,3, 1,1,1,2,2,2,3,3,3, 1,1,1,2,2,2,3,3,3,],\n",
    "    'B' : [1,1,1,1,1,1,1,1,1, 2,2,2,2,2,2,2,2,2, 3,3,3,3,3,3,3,3,3, 4,4,4,4,4,4,4,4,4,],\n",
    "    'Y' : [64,66,70,72,81,64,74,51,65 ,65,63,58,57,43,52,47,58,67, 59,68,65,66,71,59,58,45,42, 58,50,49,57,61,53,53,59,38]\n",
    "})\n",
    "\n",
    "print(\"[데이터 확인]\\n\", pd.crosstab(data['A'], data['B'], values=data['Y'], aggfunc=list))\n",
    "\n",
    "n = len(data['Y']); a = len(data['A'].value_counts()); b = len(data['B'].value_counts())\n",
    "r = data.groupby(['A', 'B']).count().iloc[0,0]\n",
    "dfa = a-1; dfb = b-1; afab = dfa*dfb; dfe = n - a*b\n",
    "\n",
    "y_mean = data['Y'].mean()\n",
    "yi_mean = data.groupby('A').mean()['Y'].values\n",
    "yj_mean = data.groupby('B').mean()['Y'].values\n",
    "yij_mean = data.groupby(['B', 'A']).mean().values.flatten().reshape(-1, a)\n",
    "\n",
    "SST = sum((data['Y'] - y_mean)**2)\n",
    "SSA = sum((yi_mean-y_mean)**2) * b * r\n",
    "SSB = sum((yj_mean-y_mean)**2) * a * r\n",
    "ssab = 0\n",
    "for i in range(a):\n",
    "    for j in range(b):\n",
    "        ssab += (yij_mean[j,i] - yi_mean[i] - yj_mean[j] + y_mean)**2\n",
    "SSAB = ssab * r\n",
    "SSE = 0 \n",
    "yij_data = data['Y'].values.reshape(-1, a, r)\n",
    "for i in range(a):\n",
    "    for j in range(b):\n",
    "        SSE += sum((yij_data[j,i] - yij_mean[j, i])**2)\n",
    "        \n",
    "MSA = SSA / dfa; MSB = SSB / dfb; MSAB = SSAB / dfab; MSE = SSE / dfe\n",
    "atable1 = pd.DataFrame({\n",
    "    \"요인\" : ['A', 'B', 'AxB', 'E'],\n",
    "    \"DF\" : [dfa, dfb, dfab, dfe],\n",
    "    'SS' : [SSA, SSB, SSAB, SSE],\n",
    "    'MS' : [MSA, MSB, MSAB, MSE],\n",
    "    'F' : [MSA/MSAB, MSB/MSE, MSAB/MSE, 'None']\n",
    "})\n",
    "\n",
    "print('[수기 검정]')\n",
    "print(\"ANOVA Table: \\n\", atable1.round(1))\n",
    "print(f' A-B 교호작용 검정 :{MSAB/MSE:.3f}, p-value {1-stats.f.cdf(MSAB/MSE, dfab, dfe):.3f}')\n",
    "print(f' B 변량의 분산 추정: {(MSB-MSE)/(a*r):.3f}')\n",
    "\n",
    "pooled_SSE = SSAB+SSE; pooled_dfe = dfab+dfe; pooled_MSE = pooled_SSE / pooled_dfe\n",
    "\n",
    "atable2 = pd.DataFrame({\n",
    "    \"요인\" : ['A', 'B', 'E'],\n",
    "    \"DF\" : [dfa, dfb, pooled_dfe],\n",
    "    'SS' : [SSA, SSB, pooled_SSE],\n",
    "    'MS' : [MSA, MSB, pooled_MSE],\n",
    "    'F' : [MSA/pooled_MSE, MSB/pooled_MSE, 'None']\n",
    "})\n",
    "\n",
    "print(\"pooling 후, ANOVA table:\\n\", atable2.round(1))\n",
    "print(f\" A 주효과 검정: {MSA/pooled_MSE:.3f}, p-value {1-stats.f.cdf(MSA/pooled_MSE, dfa, pooled_dfe):.3f}\")\n"
   ]
  },
  {
   "cell_type": "code",
   "execution_count": 114,
   "id": "322e64e9",
   "metadata": {},
   "outputs": [
    {
     "name": "stdout",
     "output_type": "stream",
     "text": [
      "11.185 17.386\n",
      "12.063 16.508\n"
     ]
    }
   ],
   "source": [
    "# prac 1\n",
    "# 모분산 정보가 없을 때, 모평균에 대한 95% 신뢰수준의 신뢰구간은?\n",
    "alpha = 0.05; std = 3;\n",
    "data = [10, 19, 15, 11, 13, 14, 18]\n",
    "x = np.mean(data); s = np.std(data, ddof=1); n = len(data); df=n-1;\n",
    "\n",
    "# 모분산을 모르는 경우\n",
    "se = s/np.sqrt(n)\n",
    "conf_t = stats.t.ppf(1-alpha/2, df)\n",
    "me = conf_t*se\n",
    "print(round(x-me, 3), round(x+me, 3))\n",
    "\n",
    "# 모표준편차가 3이라는 것을 알고 있을 때, 모평균에 대한 95% 신뢰구간은?\n",
    "# 모분산을 아는 경우\n",
    "se = std/np.sqrt(n)\n",
    "conf_z = stats.norm.ppf(1-alpha/2)\n",
    "me = conf_z * se\n",
    "print(round(x-me, 3), round(x+me, 3))\n",
    "\n"
   ]
  },
  {
   "cell_type": "code",
   "execution_count": 115,
   "id": "39106723",
   "metadata": {},
   "outputs": [
    {
     "data": {
      "text/plain": [
       "202.74"
      ]
     },
     "execution_count": 115,
     "metadata": {},
     "output_type": "execute_result"
    }
   ],
   "source": [
    "# prac 2\n",
    "# 어느 회사 불량률이 5%로 알려져 있다면 95% 신뢰수준에서 오차의 한계가 3$가 되도록 하는 최소 표본사이즈\n",
    "p = 0.05; me = 0.03; alpha = 0.05\n",
    "conf_z = stats.norm.ppf(1-alpha/2)\n",
    "size = conf_z ** 2 * p * (1-p) / me**2\n",
    "round(size,2)"
   ]
  },
  {
   "cell_type": "code",
   "execution_count": 119,
   "id": "a1286ef2",
   "metadata": {},
   "outputs": [
    {
     "data": {
      "text/plain": [
       "(31.71, 90.36)"
      ]
     },
     "execution_count": 119,
     "metadata": {},
     "output_type": "execute_result"
    }
   ],
   "source": [
    "# prac 3\n",
    "# 임의로 추출한 표본 30개의 분산을 계산했더니 50일 때, 신뢰도 95%로 모분산의 신뢰구간을 추정하시오\n",
    "n = 30; df = n-1; v = 50; alpha =0.05\n",
    "\n",
    "conf_c1 = stats.chi2.ppf(1-alpha/2, df)\n",
    "conf_c2 = stats.chi2.ppf(alpha/2, df)\n",
    "cr1 = df*v/conf_c1; cr2 = df*v/conf_c2\n",
    "\n",
    "round(cr1, 2), round(cr2, 2)"
   ]
  },
  {
   "cell_type": "code",
   "execution_count": 120,
   "id": "81efda29",
   "metadata": {},
   "outputs": [
    {
     "data": {
      "text/plain": [
       "(0.06, 0.44)"
      ]
     },
     "execution_count": 120,
     "metadata": {},
     "output_type": "execute_result"
    }
   ],
   "source": [
    "# prac 4\n",
    "# 뽑기 기계에서 20번 뽑기를 했더니, 그 중 5개는 미니카였다. 해당 뽑기 기계에 있는 장난감들 중 미니카의 비율을 p라고 한다면 모비율 p에 대한 95% 신뢰구간?\n",
    "p = 5/20; n = 20\n",
    "se = np.sqrt(p*(1-p)/n)\n",
    "alpha = 0.05\n",
    "conf_z = stats.norm.ppf(1-alpha/2)\n",
    "me = conf_z * se\n",
    "round(p-me, 3), round(p+me,3)"
   ]
  },
  {
   "cell_type": "code",
   "execution_count": 121,
   "id": "3868c625",
   "metadata": {},
   "outputs": [
    {
     "name": "stdout",
     "output_type": "stream",
     "text": [
      "1. 유의수준 0.050와 유의확률 0.013 비교\n",
      "2. 임계값 1.645와 검정통계량 2.224를 비교\n",
      "검정통계량의 유의확률이 작기 때문에 귀무가설을 기각하여, 성인 남성의 흠연률은 35% 보다 높다\n"
     ]
    }
   ],
   "source": [
    "# prac 5\n",
    "# A국가 성인 남성의 흡연율이 35%라고 발표하였으나, B는 그것보다 더 높은 수치를 예상. 이에 성인 남성 중 450명을 임의 추출하여 조사한 결과 180명이 흡연자\n",
    "# 가설검증 후 검정 결과 서술 (유의수준 0.05)\n",
    "p0 = 0.35; n =450; x = 180; p = x/n; alpha = 0.05\n",
    "\n",
    "se = np.sqrt(p0 * (1-p0) / n)\n",
    "zstat = (p-p0)/se\n",
    "sp = 1 - stats.norm.cdf(zstat)\n",
    "cv = stats.norm.ppf(1-alpha)\n",
    "\n",
    "print(f\"1. 유의수준 {alpha:.3f}와 유의확률 {sp:.3f} 비교\")\n",
    "print(f\"2. 임계값 {cv:.3f}와 검정통계량 {zstat:.3f}를 비교\")\n",
    "print(\"검정통계량의 유의확률이 작기 때문에 귀무가설을 기각하여, 성인 남성의 흠연률은 35% 보다 높다\")"
   ]
  },
  {
   "cell_type": "code",
   "execution_count": null,
   "id": "93073c6d",
   "metadata": {},
   "outputs": [],
   "source": [
    "# prac 6\n",
    "# 모평균을 모르는 상황에서 표본의 정보를 통해 모분산이 10인이 아닌지 여부를 검정하고자 함\n",
    "# 50개 표본 임의 추출하여 분산은 8.8로 나타남. 이를 유의수준 0.05에서 검정\n",
    "n = 50; df = n-1; v = 8.8; v0 = 10; alpha = 0.05\n",
    "\n",
    "cstat = df * v / v0\n",
    "if stats.chi2.cdf(cstat, df) < 0.5:\n",
    "    sp = (stats.chi2.cdf(cstat, df))*2\n",
    "else:\n",
    "    sp = (1-stats.chi2.cdf(cstat, df))*2\n",
    "cv1 = stats.chi2.ppf(alpha/2, df)\n",
    "cv2 = stats.chi2.ppf(1-alpha/2, df)\n",
    "\n",
    "print(f\"1. 유의수준 {alpha:.3f}와 유의확률 {sp:.3f} 비교\")\n",
    "print(f\"2. 임계값 {cv:.3f}와 검정통계량 {zstat:.3f}를 비교\")\n",
    "print(\"검정통계량의 유의확률이 작기 때문에 귀무가설을 기각하여, 성인 남성의 흠연률은 35% 보다 높다\")"
   ]
  },
  {
   "cell_type": "code",
   "execution_count": 122,
   "id": "3e61ede9",
   "metadata": {},
   "outputs": [
    {
     "name": "stdout",
     "output_type": "stream",
     "text": [
      "1. 유의수준 0.050와 유의확률 0.000를 비교\n",
      "2. 임계값 +/- 2.010와 검정통계량 26.517를 비교\n"
     ]
    }
   ],
   "source": [
    "# prac 7\n",
    "# 50명의 당뇨환자에 대해 신약 투약 전후 평균 혈당차이가 15, 표준편차가 4일 때 평균 혈당차이가 존재하는지 검정 (유의수준 0.05)\n",
    "\n",
    "n = 50; df = n-1; d_mean = 15; s = 4; alpha = 0.05\n",
    "d0 = 0; se = s / np.sqrt(n) ; tstat = (d_mean - d0)/se\n",
    "sp = (1-stats.t.cdf(np.abs(tstat), df))*2\n",
    "cv = stats.t.ppf(1-alpha/2, df)\n",
    "cv = f\"+/- {cv:.3f}\"\n",
    "\n",
    "print(f\"1. 유의수준 {alpha:.3f}와 유의확률 {sp:.3f}를 비교\")\n",
    "print(f\"2. 임계값 {cv}와 검정통계량 {tstat:.3f}를 비교\")"
   ]
  },
  {
   "cell_type": "code",
   "execution_count": 124,
   "id": "a1d5cb94",
   "metadata": {},
   "outputs": [
    {
     "name": "stdout",
     "output_type": "stream",
     "text": [
      "검정통계량 -0.851, 유의롹률 0.395\n"
     ]
    }
   ],
   "source": [
    "# prac 8 \n",
    "# 가수에 대한 호감도가 남녀별로 다른지 알아보고자 데이터를 얻음. 지지율의 차이 검정 (유의수준 0.05)\n",
    "n1 = 100; p1 = 0.3; n2 = 180; p2 = 0.35\n",
    "d = p1-p2; alpha = 0.05; d0 = 0\n",
    "\n",
    "pe = (n1*p1 + n2*p2) / (n1+n2)\n",
    "se = np.sqrt(pe * (1-pe) * (1/n1 + 1/n2))\n",
    "zstat = d/se\n",
    "sp = (1-stats.norm.cdf(np.abs(zstat)))*2\n",
    "print(f\"검정통계량 {zstat:.3f}, 유의롹률 {sp:.3f}\")"
   ]
  },
  {
   "cell_type": "code",
   "execution_count": 125,
   "id": "8868210f",
   "metadata": {},
   "outputs": [
    {
     "name": "stdout",
     "output_type": "stream",
     "text": [
      "검정통계량 -4.571, 유의롹률 0.000\n"
     ]
    }
   ],
   "source": [
    "# prac 9\n",
    "# A 브랜드의 제품 14개를 추출하여 구한 평균과 표준편차는 100, 5. B 브랜드 제품 12개를 추출하여 구한 평균과 표준편차는 110, 6\n",
    "# 두 제품의 평균 차이 검정 (유의 수준 0.05)\n",
    "x1 = 100; s1 = 5; x2 = 110; s2 = 6 ; n1 = 14; n2 = 12; alpha = 0.05\n",
    "d0 = 0; d = x1 - x2\n",
    "\n",
    "df = ((s1**2)/n1 + (s2**2)/n2)**2 / (1/(n1-1) * ((s1**2)/n1)**2 + 1/(n2-1)*((s2**2/n2)**2))\n",
    "se = np.sqrt(s1**2/n1 + s2**2/n2)\n",
    "tstat = (x1-x2-d0)/se\n",
    "sp = (1-stats.t.cdf(np.abs(tstat), df)) * 2\n",
    "print(f\"검정통계량 {tstat:.3f}, 유의롹률 {sp:.3f}\")"
   ]
  },
  {
   "cell_type": "code",
   "execution_count": 131,
   "id": "347229b9",
   "metadata": {},
   "outputs": [
    {
     "name": "stdout",
     "output_type": "stream",
     "text": [
      "   sepallength  sepalwidth  petallength  petalwidth  target\n",
      "0          5.1         3.5          1.4         0.2  setosa\n",
      "1          4.9         3.0          1.4         0.2  setosa\n",
      "2          4.7         3.2          1.3         0.2  setosa\n",
      "3          4.6         3.1          1.5         0.2  setosa\n",
      "4          5.0         3.6          1.4         0.2  setosa\n",
      "검정통계량 119.265, 유의확률 0.000\n",
      "ANOVA table: \n",
      "              df  sum_sq  mean_sq        F  PR(>F)\n",
      "C(target)    2.0  63.212   31.606  119.265     0.0\n",
      "Residual   147.0  38.956    0.265      NaN     NaN\n",
      "   Multiple Comparison of Means - Tukey HSD, FWER=0.05   \n",
      "=========================================================\n",
      "  group1     group2   meandiff p-adj lower  upper  reject\n",
      "---------------------------------------------------------\n",
      "    setosa versicolor     0.93   0.0 0.6862 1.1738   True\n",
      "    setosa  virginica    1.582   0.0 1.3382 1.8258   True\n",
      "versicolor  virginica    0.652   0.0 0.4082 0.8958   True\n",
      "---------------------------------------------------------\n"
     ]
    },
    {
     "data": {
      "image/png": "[encoded data removed]",
      "text/plain": [
       "<Figure size 1000x600 with 1 Axes>"
      ]
     },
     "metadata": {},
     "output_type": "display_data"
    }
   ],
   "source": [
    "# prac 10\n",
    "# iris target 별로 sepal length 평균의 차이 검정. 있다면 어떤 타겟들 차이인지 사후검정\n",
    "from sklearn.datasets import load_iris\n",
    "\n",
    "load = load_iris()\n",
    "feature_names = list(map(lambda x:x.replace(\"(cm)\",\"\").replace(' ', ''), load['feature_names']))\n",
    "data = pd.DataFrame(np.c_[load['data'], load['target']], columns = feature_names+['target'])\n",
    "data['target'] = data['target'].map({0:load['target_names'][0], 1:load['target_names'][1], 2:load['target_names'][2]})\n",
    "print(data.head())\n",
    "\n",
    "from statsmodels.stats.oneway import anova_oneway\n",
    "oa = anova_oneway(data=data['sepallength'], groups=data['target'], use_var='equal')\n",
    "print(f\"검정통계량 {oa.statistic:.3f}, 유의확률 {oa.pvalue:.3f}\")\n",
    "\n",
    "from statsmodels.formula.api import ols\n",
    "from statsmodels.stats.anova import anova_lm\n",
    "model = ols('sepallength ~ C(target)', data=data).fit()\n",
    "print(\"ANOVA table: \")\n",
    "print(anova_lm(model).round(3))\n",
    "\n",
    "from statsmodels.sandbox.stats.multicomp import MultiComparison\n",
    "mc = MultiComparison(data=data['sepallength'], groups=data['target']).tukeyhsd(alpha=0.05)\n",
    "print(mc)\n",
    "\n",
    "mc.plot_simultaneous()\n",
    "plt.show()"
   ]
  },
  {
   "cell_type": "code",
   "execution_count": null,
   "id": "a809725d",
   "metadata": {},
   "outputs": [],
   "source": []
  }
 ],
 "metadata": {
  "kernelspec": {
   "display_name": "adp",
   "language": "python",
   "name": "adp_class"
  },
  "language_info": {
   "codemirror_mode": {
    "name": "ipython",
    "version": 3
   },
   "file_extension": ".py",
   "mimetype": "text/x-python",
   "name": "python",
   "nbconvert_exporter": "python",
   "pygments_lexer": "ipython3",
   "version": "3.7.16"
  }
 },
 "nbformat": 4,
 "nbformat_minor": 5
}
