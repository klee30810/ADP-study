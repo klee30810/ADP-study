{
 "cells": [
  {
   "cell_type": "code",
   "execution_count": 2,
   "id": "d0faa794",
   "metadata": {},
   "outputs": [],
   "source": [
    "import random\n",
    "import pandas as pd\n",
    "import numpy as np\n",
    "import matplotlib.pyplot as plt\n",
    "import seaborn as sns"
   ]
  },
  {
   "cell_type": "markdown",
   "id": "68f42111",
   "metadata": {},
   "source": [
    "## 3-1 표본추출\n",
    "### 단순랜덤추출법\n",
    "- 각 샘플에 번호를 부여하여 임의의 n개를 추출, 샘플이 추출 될 확률은 동일"
   ]
  },
  {
   "cell_type": "code",
   "execution_count": 4,
   "id": "e8e28ebf",
   "metadata": {},
   "outputs": [
    {
     "data": {
      "text/html": [
       "<div>\n",
       "<style scoped>\n",
       "    .dataframe tbody tr th:only-of-type {\n",
       "        vertical-align: middle;\n",
       "    }\n",
       "\n",
       "    .dataframe tbody tr th {\n",
       "        vertical-align: top;\n",
       "    }\n",
       "\n",
       "    .dataframe thead th {\n",
       "        text-align: right;\n",
       "    }\n",
       "</style>\n",
       "<table border=\"1\" class=\"dataframe\">\n",
       "  <thead>\n",
       "    <tr style=\"text-align: right;\">\n",
       "      <th></th>\n",
       "      <th>sepal length</th>\n",
       "      <th>sepal width</th>\n",
       "      <th>petal length</th>\n",
       "      <th>petal width</th>\n",
       "      <th>target</th>\n",
       "    </tr>\n",
       "  </thead>\n",
       "  <tbody>\n",
       "    <tr>\n",
       "      <th>0</th>\n",
       "      <td>5.1</td>\n",
       "      <td>3.5</td>\n",
       "      <td>1.4</td>\n",
       "      <td>0.2</td>\n",
       "      <td>0.0</td>\n",
       "    </tr>\n",
       "    <tr>\n",
       "      <th>1</th>\n",
       "      <td>4.9</td>\n",
       "      <td>3.0</td>\n",
       "      <td>1.4</td>\n",
       "      <td>0.2</td>\n",
       "      <td>0.0</td>\n",
       "    </tr>\n",
       "    <tr>\n",
       "      <th>2</th>\n",
       "      <td>4.7</td>\n",
       "      <td>3.2</td>\n",
       "      <td>1.3</td>\n",
       "      <td>0.2</td>\n",
       "      <td>0.0</td>\n",
       "    </tr>\n",
       "    <tr>\n",
       "      <th>3</th>\n",
       "      <td>4.6</td>\n",
       "      <td>3.1</td>\n",
       "      <td>1.5</td>\n",
       "      <td>0.2</td>\n",
       "      <td>0.0</td>\n",
       "    </tr>\n",
       "    <tr>\n",
       "      <th>4</th>\n",
       "      <td>5.0</td>\n",
       "      <td>3.6</td>\n",
       "      <td>1.4</td>\n",
       "      <td>0.2</td>\n",
       "      <td>0.0</td>\n",
       "    </tr>\n",
       "  </tbody>\n",
       "</table>\n",
       "</div>"
      ],
      "text/plain": [
       "   sepal length  sepal width  petal length  petal width  target\n",
       "0           5.1          3.5           1.4          0.2     0.0\n",
       "1           4.9          3.0           1.4          0.2     0.0\n",
       "2           4.7          3.2           1.3          0.2     0.0\n",
       "3           4.6          3.1           1.5          0.2     0.0\n",
       "4           5.0          3.6           1.4          0.2     0.0"
      ]
     },
     "execution_count": 4,
     "metadata": {},
     "output_type": "execute_result"
    }
   ],
   "source": [
    "from sklearn.datasets import load_iris\n",
    "\n",
    "data = load_iris()\n",
    "iris_cols = list(data['feature_names']) + ['target']\n",
    "iris = pd.DataFrame(np.c_[data['data'], data['target']], columns=[col.replace(\" (cm)\", '') for col in iris_cols])\n",
    "iris.head()"
   ]
  },
  {
   "cell_type": "code",
   "execution_count": 8,
   "id": "127a06b7",
   "metadata": {},
   "outputs": [
    {
     "name": "stdout",
     "output_type": "stream",
     "text": [
      "    sepal length  sepal width  petal length  petal width  target\n",
      "19           5.1          3.8           1.5          0.3     0.0\n",
      "49           5.0          3.3           1.4          0.2     0.0\n",
      "18           5.7          3.8           1.7          0.3     0.0\n",
      "     sepal length  sepal width  petal length  petal width  target\n",
      "31            5.4          3.4           1.5          0.4     0.0\n",
      "34            4.9          3.1           1.5          0.2     0.0\n",
      "80            5.5          2.4           3.8          1.1     1.0\n",
      "132           6.4          2.8           5.6          2.2     2.0\n",
      "   petal length  petal width  target\n",
      "0           1.4          0.2     0.0\n",
      "1           1.4          0.2     0.0\n",
      "2           1.3          0.2     0.0\n"
     ]
    }
   ],
   "source": [
    "print(iris.sample(n=3, replace=False))\n",
    "print(iris.sample(frac=0.03))\n",
    "print(iris.sample(n=3, axis=1).head(3))"
   ]
  },
  {
   "cell_type": "code",
   "execution_count": 10,
   "id": "7e42bde4",
   "metadata": {},
   "outputs": [
    {
     "name": "stdout",
     "output_type": "stream",
     "text": [
      "random.sample:  [5, 1, 3, 'b']\n",
      "np.random.choice ['a' '4' '4' 'c']\n"
     ]
    }
   ],
   "source": [
    "data_list = [1,2,3,4,5, 'a', 'b', 'c']\n",
    "print(\"random.sample: \", random.sample(data_list, 4))\n",
    "print(\"np.random.choice\", np.random.choice(data_list, 4, replace=True))"
   ]
  },
  {
   "cell_type": "code",
   "execution_count": 11,
   "id": "c0f3e1b3",
   "metadata": {},
   "outputs": [
    {
     "name": "stdout",
     "output_type": "stream",
     "text": [
      "0~10 사이 정수 중 난수 3개 생성:  [9 1 9]\n",
      "0~1 사이 실수 2*2 배열로 생성:  [[0.1553241  0.33852583]\n",
      " [0.58367196 0.62946181]]\n"
     ]
    }
   ],
   "source": [
    "print(\"0~10 사이 정수 중 난수 3개 생성: \", np.random.randint(0,10,3))\n",
    "print(\"0~1 사이 실수 2*2 배열로 생성: \", np.random.rand(2,2))"
   ]
  },
  {
   "cell_type": "markdown",
   "id": "9bb645e3",
   "metadata": {},
   "source": [
    "### 계통추출법\n",
    "- 번호를 부여한 샘플은 나열하고, 구간을 N/n으로 나눈다. 각 구간의 임의로 샘플을 선택하고 특정 인터벌 단위로 샘플 추출"
   ]
  },
  {
   "cell_type": "code",
   "execution_count": 12,
   "id": "b14af5a9",
   "metadata": {},
   "outputs": [
    {
     "name": "stdout",
     "output_type": "stream",
     "text": [
      "N: 150\n",
      "n: 8\n",
      "K: 18\n",
      "     sepal length  sepal width  petal length  petal width  target\n",
      "17            5.1          3.5           1.4          0.3     0.0\n",
      "35            5.0          3.2           1.2          0.2     0.0\n",
      "53            5.5          2.3           4.0          1.3     1.0\n",
      "71            6.1          2.8           4.0          1.3     1.0\n",
      "89            5.5          2.5           4.0          1.3     1.0\n",
      "107           7.3          2.9           6.3          1.8     2.0\n",
      "125           7.2          3.2           6.0          1.8     2.0\n",
      "143           6.8          3.2           5.9          2.3     2.0\n"
     ]
    }
   ],
   "source": [
    "data, n = iris, 8\n",
    "N = len(data)\n",
    "K = N//n\n",
    "index = data[:K].sample(1).index\n",
    "\n",
    "sys_df = pd.DataFrame()\n",
    "while len(sys_df) < n:\n",
    "    sys_df = sys_df.append(data.loc[index, :])\n",
    "    index += K\n",
    "\n",
    "print(f\"N: {N}\")\n",
    "print(f\"n: {n}\")\n",
    "print(f\"K: {K}\")\n",
    "print(sys_df)"
   ]
  },
  {
   "cell_type": "markdown",
   "id": "5b51bbd2",
   "metadata": {},
   "source": [
    "### 집락추출법\n",
    "- 군집별로 랜덤추출법 수행\n",
    "    - 지역표본추출, 다단계표본추출 : 군집 내 요소들은 상이하지만 군집과 군집은 비교적 유사\n",
    "    - 층화추출법에서 층을 집락으로 대치\n",
    "### 층화추출법\n",
    "- 계층별로 랜덤추출법 수행 : 각 층 내 요소들은 유사하지만, 층과 층의 요소들은 상이\n",
    "    - 비례층화추출법, 불비례층화추출법"
   ]
  },
  {
   "cell_type": "code",
   "execution_count": 13,
   "id": "8db368ea",
   "metadata": {},
   "outputs": [
    {
     "name": "stdout",
     "output_type": "stream",
     "text": [
      "0.0    50\n",
      "1.0    50\n",
      "2.0    50\n",
      "Name: target, dtype: int64\n"
     ]
    }
   ],
   "source": [
    "# target을 층 혹은 집락이라고 가정\n",
    "print(iris['target'].value_counts())"
   ]
  },
  {
   "cell_type": "code",
   "execution_count": 18,
   "id": "027dad6a",
   "metadata": {},
   "outputs": [
    {
     "name": "stdout",
     "output_type": "stream",
     "text": [
      "     sepal length  sepal width  petal length  petal width  target\n",
      "44            5.1          3.8           1.9          0.4     0.0\n",
      "12            4.8          3.0           1.4          0.1     0.0\n",
      "4             5.0          3.6           1.4          0.2     0.0\n",
      "80            5.5          2.4           3.8          1.1     1.0\n",
      "58            6.6          2.9           4.6          1.3     1.0\n",
      "74            6.4          2.9           4.3          1.3     1.0\n",
      "148           6.2          3.4           5.4          2.3     2.0\n",
      "141           6.9          3.1           5.1          2.3     2.0\n",
      "146           6.3          2.5           5.0          1.9     2.0\n"
     ]
    }
   ],
   "source": [
    "# 비례층화추출법 : 원본 데이터의 비율대로 추출\n",
    "data, stratum, sampling_n = iris, 'target', 9\n",
    "\n",
    "levels = data[stratum].unique()\n",
    "total = data[stratum].value_counts().sum()\n",
    "prop_val = data[stratum].value_counts()/total\n",
    "n = prop_val * sampling_n\n",
    "\n",
    "result = pd.DataFrame()\n",
    "for level in levels:\n",
    "    temp_df = data[data[stratum]==level].sample(int(n[level]))\n",
    "    result = pd.concat([result, temp_df])\n",
    "print(result)"
   ]
  },
  {
   "cell_type": "code",
   "execution_count": 19,
   "id": "b0af929d",
   "metadata": {},
   "outputs": [
    {
     "name": "stdout",
     "output_type": "stream",
     "text": [
      "     sepal length  sepal width  petal length  petal width  target\n",
      "12            4.8          3.0           1.4          0.1     0.0\n",
      "43            5.0          3.5           1.6          0.6     0.0\n",
      "57            4.9          2.4           3.3          1.0     1.0\n",
      "67            5.8          2.7           4.1          1.0     1.0\n",
      "77            6.7          3.0           5.0          1.7     1.0\n",
      "63            6.1          2.9           4.7          1.4     1.0\n",
      "78            6.0          2.9           4.5          1.5     1.0\n",
      "128           6.4          2.8           5.6          2.1     2.0\n",
      "142           5.8          2.7           5.1          1.9     2.0\n",
      "139           6.9          3.1           5.4          2.1     2.0\n"
     ]
    }
   ],
   "source": [
    "# 불비례층화추출법 : 임의로 정한 특정비율대로 샘플링\n",
    "data, stratum, sampling_n, proportion = iris, 'target', 10, {0:0.2, 1:0.5, 2:0.3}\n",
    "\n",
    "levels = list(proportion.keys())\n",
    "prop_val = np.array(list(proportion.values()))\n",
    "total = sum(prop_val)\n",
    "n = prop_val * sampling_n\n",
    "\n",
    "result = pd.DataFrame()\n",
    "for level in levels:\n",
    "    temp_df = data[data[stratum]==level].sample(int(n[level]))\n",
    "    result = pd.concat([result, temp_df])\n",
    "print(result)"
   ]
  },
  {
   "cell_type": "markdown",
   "id": "e3b26c0a",
   "metadata": {},
   "source": [
    "## 3-2 데이터분할\n",
    "- 과적합을 피함으로써 일반화된 성능확보\n",
    "### 일반적 데이터 분할 및 홀드아웃"
   ]
  },
  {
   "cell_type": "code",
   "execution_count": 20,
   "id": "a276cb2b",
   "metadata": {},
   "outputs": [],
   "source": [
    "from sklearn.model_selection import train_test_split\n",
    "\n",
    "X = iris.drop('target', axis=1)\n",
    "y = iris['target']\n",
    "\n",
    "X_train, X_test, y_train, y_test = train_test_split(X, y, test_size=0.3)"
   ]
  },
  {
   "cell_type": "markdown",
   "id": "37420f66",
   "metadata": {},
   "source": [
    "### Shuffle Split\n",
    "- 무작위 순열 교차 검증\n",
    "    - 데이터 크기가 작은 경우, 분할 샘플들이 유사할 수 있다."
   ]
  },
  {
   "cell_type": "code",
   "execution_count": 26,
   "id": "91a0789d",
   "metadata": {},
   "outputs": [
    {
     "name": "stdout",
     "output_type": "stream",
     "text": [
      "sample 0 => train_idx [ 58 116 130], test_index:[ 70  75 139]\n",
      "\tX_train 비율 : 0.5, X_test 비율 : 0.5\n",
      "\ty_train 타겟 구성 : Counter({1.0: 26, 2.0: 26, 0.0: 23})\n",
      "\ty_test 타겟 구성 : Counter({0.0: 27, 1.0: 24, 2.0: 24}) \n",
      "\n",
      "sample 1 => train_idx [136 112 143], test_index:[130  73  74]\n",
      "\tX_train 비율 : 0.5, X_test 비율 : 0.5\n",
      "\ty_train 타겟 구성 : Counter({2.0: 26, 0.0: 25, 1.0: 24})\n",
      "\ty_test 타겟 구성 : Counter({1.0: 26, 0.0: 25, 2.0: 24}) \n",
      "\n",
      "sample 2 => train_idx [ 50  81 138], test_index:[47 73 59]\n",
      "\tX_train 비율 : 0.5, X_test 비율 : 0.5\n",
      "\ty_train 타겟 구성 : Counter({0.0: 29, 1.0: 28, 2.0: 18})\n",
      "\ty_test 타겟 구성 : Counter({2.0: 32, 1.0: 22, 0.0: 21}) \n",
      "\n",
      "sample 3 => train_idx [115  42  22], test_index:[ 67  63 102]\n",
      "\tX_train 비율 : 0.5, X_test 비율 : 0.5\n",
      "\ty_train 타겟 구성 : Counter({1.0: 26, 0.0: 25, 2.0: 24})\n",
      "\ty_test 타겟 구성 : Counter({2.0: 26, 0.0: 25, 1.0: 24}) \n",
      "\n"
     ]
    }
   ],
   "source": [
    "from sklearn.model_selection import ShuffleSplit\n",
    "from collections import Counter\n",
    "\n",
    "ss = ShuffleSplit(test_size=0.5, train_size=0.5, n_splits=4)\n",
    "for i, (train_idx, test_idx) in enumerate(ss.split(X)):\n",
    "    print(f\"sample {i} => train_idx {train_idx[:3]}, test_index:{test_idx[:3]}\")\n",
    "    X_train, X_test, y_train, y_test = X.iloc[train_idx, :], X.iloc[test_idx, :], y.iloc[train_idx], y.iloc[test_idx]\n",
    "    print(f\"\\tX_train 비율 : {len(X_train)/len(X)}, X_test 비율 : {len(X_test)/len(X)}\")\n",
    "    print(f\"\\ty_train 타겟 구성 : {Counter(y_train)}\")\n",
    "    print(f\"\\ty_test 타겟 구성 : {Counter(y_test)} \\n\")"
   ]
  },
  {
   "cell_type": "markdown",
   "id": "1014f003",
   "metadata": {},
   "source": [
    "### K-fold 분할\n",
    "- 데이터를 k개 집단으로 나눈 뒤, k-1개 집단을 학습용, 1개 집단을 검증용으로 사용"
   ]
  },
  {
   "cell_type": "code",
   "execution_count": 27,
   "id": "914a2295",
   "metadata": {},
   "outputs": [
    {
     "name": "stdout",
     "output_type": "stream",
     "text": [
      "sample 0 => train_idx [38 39 40], test_index:[0 1 2]\n",
      "\tX_train 비율 : 0.7466666666666667, X_test 비율 : 0.25333333333333335\n",
      "\ty_train 타겟 구성 : Counter({1.0: 50, 2.0: 50, 0.0: 12})\n",
      "\ty_test 타겟 구성 : Counter({0.0: 38}) \n",
      "\n",
      "sample 1 => train_idx [0 1 2], test_index:[38 39 40]\n",
      "\tX_train 비율 : 0.7466666666666667, X_test 비율 : 0.25333333333333335\n",
      "\ty_train 타겟 구성 : Counter({2.0: 50, 0.0: 38, 1.0: 24})\n",
      "\ty_test 타겟 구성 : Counter({1.0: 26, 0.0: 12}) \n",
      "\n",
      "sample 2 => train_idx [0 1 2], test_index:[76 77 78]\n",
      "\tX_train 비율 : 0.7533333333333333, X_test 비율 : 0.24666666666666667\n",
      "\ty_train 타겟 구성 : Counter({0.0: 50, 2.0: 37, 1.0: 26})\n",
      "\ty_test 타겟 구성 : Counter({1.0: 24, 2.0: 13}) \n",
      "\n",
      "sample 3 => train_idx [0 1 2], test_index:[113 114 115]\n",
      "\tX_train 비율 : 0.7533333333333333, X_test 비율 : 0.24666666666666667\n",
      "\ty_train 타겟 구성 : Counter({0.0: 50, 1.0: 50, 2.0: 13})\n",
      "\ty_test 타겟 구성 : Counter({2.0: 37}) \n",
      "\n"
     ]
    }
   ],
   "source": [
    "from sklearn.model_selection import KFold\n",
    "\n",
    "kf = KFold(n_splits=4, shuffle=False)\n",
    "for i, (train_idx, test_idx) in enumerate(kf.split(X)):\n",
    "    print(f\"sample {i} => train_idx {train_idx[:3]}, test_index:{test_idx[:3]}\")\n",
    "    X_train, X_test, y_train, y_test = X.iloc[train_idx, :], X.iloc[test_idx, :], y.iloc[train_idx], y.iloc[test_idx]\n",
    "    print(f\"\\tX_train 비율 : {len(X_train)/len(X)}, X_test 비율 : {len(X_test)/len(X)}\")\n",
    "    print(f\"\\ty_train 타겟 구성 : {Counter(y_train)}\")\n",
    "    print(f\"\\ty_test 타겟 구성 : {Counter(y_test)} \\n\")"
   ]
  },
  {
   "cell_type": "markdown",
   "id": "c048f2c2",
   "metadata": {},
   "source": [
    "### Stratified K-Fold\n",
    "- KFold 과정 중에서, 집단 간 클래스 불균형을 막기 위해, 타겟 변수 클래스 들이 일정한 비율로 배치되도록 함"
   ]
  },
  {
   "cell_type": "code",
   "execution_count": 28,
   "id": "c6da55f5",
   "metadata": {},
   "outputs": [
    {
     "name": "stdout",
     "output_type": "stream",
     "text": [
      "sample 0 => train_idx [13 14 15], test_index:[0 1 2]\n",
      "\tX_train 비율 : 0.7466666666666667, X_test 비율 : 0.25333333333333335\n",
      "\ty_train 타겟 구성 : Counter({1.0: 38, 0.0: 37, 2.0: 37})\n",
      "\ty_test 타겟 구성 : Counter({0.0: 13, 2.0: 13, 1.0: 12}) \n",
      "\n",
      "sample 1 => train_idx [0 1 2], test_index:[13 14 15]\n",
      "\tX_train 비율 : 0.7466666666666667, X_test 비율 : 0.25333333333333335\n",
      "\ty_train 타겟 구성 : Counter({1.0: 38, 0.0: 37, 2.0: 37})\n",
      "\ty_test 타겟 구성 : Counter({0.0: 13, 2.0: 13, 1.0: 12}) \n",
      "\n",
      "sample 2 => train_idx [0 1 2], test_index:[26 27 28]\n",
      "\tX_train 비율 : 0.7533333333333333, X_test 비율 : 0.24666666666666667\n",
      "\ty_train 타겟 구성 : Counter({0.0: 38, 2.0: 38, 1.0: 37})\n",
      "\ty_test 타겟 구성 : Counter({1.0: 13, 0.0: 12, 2.0: 12}) \n",
      "\n",
      "sample 3 => train_idx [0 1 2], test_index:[38 39 40]\n",
      "\tX_train 비율 : 0.7533333333333333, X_test 비율 : 0.24666666666666667\n",
      "\ty_train 타겟 구성 : Counter({0.0: 38, 2.0: 38, 1.0: 37})\n",
      "\ty_test 타겟 구성 : Counter({1.0: 13, 0.0: 12, 2.0: 12}) \n",
      "\n"
     ]
    }
   ],
   "source": [
    "from sklearn.model_selection import StratifiedKFold\n",
    "\n",
    "skf = StratifiedKFold(n_splits=4)\n",
    "for i, (train_idx, test_idx) in enumerate(skf.split(X, y)):\n",
    "    print(f\"sample {i} => train_idx {train_idx[:3]}, test_index:{test_idx[:3]}\")\n",
    "    X_train, X_test, y_train, y_test = X.iloc[train_idx, :], X.iloc[test_idx, :], y.iloc[train_idx], y.iloc[test_idx]\n",
    "    print(f\"\\tX_train 비율 : {len(X_train)/len(X)}, X_test 비율 : {len(X_test)/len(X)}\")\n",
    "    print(f\"\\ty_train 타겟 구성 : {Counter(y_train)}\")\n",
    "    print(f\"\\ty_test 타겟 구성 : {Counter(y_test)} \\n\")"
   ]
  },
  {
   "cell_type": "markdown",
   "id": "a83b420e",
   "metadata": {},
   "source": [
    "### Group K-Fold 분할\n",
    "- 범주형 변수인 group 수준별 데이터를 각 분할마다 검증용 데이터로 진행하도록 하는 방법\n",
    "- group 수준의 개수는 fold 갯수 보다 같거나 커야 함"
   ]
  },
  {
   "cell_type": "code",
   "execution_count": 30,
   "id": "d4e9229b",
   "metadata": {},
   "outputs": [
    {
     "name": "stdout",
     "output_type": "stream",
     "text": [
      "Counter({'g2': 42, 'g3': 36, 'g1': 36, 'g0': 36})\n",
      "   sepal length  sepal width  petal length  petal width  target group\n",
      "0           5.1          3.5           1.4          0.2     0.0    g3\n",
      "1           4.9          3.0           1.4          0.2     0.0    g1\n",
      "2           4.7          3.2           1.3          0.2     0.0    g3\n",
      "3           4.6          3.1           1.5          0.2     0.0    g2\n",
      "4           5.0          3.6           1.4          0.2     0.0    g3\n"
     ]
    }
   ],
   "source": [
    "# group 변수가 있는 데이터 생성 : g0, g1, g2, g3 4종류 수준\n",
    "iris2 = iris.copy()\n",
    "iris2['group'] = iris2['target'].apply(lambda x: f\"g{int(np.random.randint(0,4,1))}\")\n",
    "print(Counter(iris2['group']))\n",
    "print(iris2.head())"
   ]
  },
  {
   "cell_type": "code",
   "execution_count": 34,
   "id": "0402c8ba",
   "metadata": {},
   "outputs": [
    {
     "name": "stdout",
     "output_type": "stream",
     "text": [
      "sample 0 => train_idx [0 1 2], test_index:[3 5 8]\n",
      "\tX_train 비율 : 0.72, X_test 비율 : 0.28\n",
      "\ttrain 타겟 구성 : Counter({1.0: 37, 2.0: 36, 0.0: 35})\n",
      "\ttest 타겟 구성 : Counter({0.0: 15, 2.0: 14, 1.0: 13}) \n",
      "\n",
      "\ttrain 그룹 구성 : Counter({'g3': 36, 'g1': 36, 'g0': 36})\n",
      "\ttest 그룹 구성 : Counter({'g2': 42}) \n",
      "\n",
      "sample 1 => train_idx [1 3 5], test_index:[0 2 4]\n",
      "\tX_train 비율 : 0.76, X_test 비율 : 0.24\n",
      "\ttrain 타겟 구성 : Counter({2.0: 42, 1.0: 38, 0.0: 34})\n",
      "\ttest 타겟 구성 : Counter({0.0: 16, 1.0: 12, 2.0: 8}) \n",
      "\n",
      "\ttrain 그룹 구성 : Counter({'g2': 42, 'g1': 36, 'g0': 36})\n",
      "\ttest 그룹 구성 : Counter({'g3': 36}) \n",
      "\n",
      "sample 2 => train_idx [0 2 3], test_index:[ 1 14 15]\n",
      "\tX_train 비율 : 0.76, X_test 비율 : 0.24\n",
      "\ttrain 타겟 구성 : Counter({0.0: 42, 1.0: 38, 2.0: 34})\n",
      "\ttest 타겟 구성 : Counter({2.0: 16, 1.0: 12, 0.0: 8}) \n",
      "\n",
      "\ttrain 그룹 구성 : Counter({'g2': 42, 'g3': 36, 'g0': 36})\n",
      "\ttest 그룹 구성 : Counter({'g1': 36}) \n",
      "\n",
      "sample 3 => train_idx [0 1 2], test_index:[ 6  7 12]\n",
      "\tX_train 비율 : 0.76, X_test 비율 : 0.24\n",
      "\ttrain 타겟 구성 : Counter({0.0: 39, 2.0: 38, 1.0: 37})\n",
      "\ttest 타겟 구성 : Counter({1.0: 13, 2.0: 12, 0.0: 11}) \n",
      "\n",
      "\ttrain 그룹 구성 : Counter({'g2': 42, 'g3': 36, 'g1': 36})\n",
      "\ttest 그룹 구성 : Counter({'g0': 36}) \n",
      "\n"
     ]
    }
   ],
   "source": [
    "from sklearn.model_selection import GroupKFold\n",
    "\n",
    "X = iris2.drop(['target', 'group'], axis=1)\n",
    "y = iris2['target']\n",
    "group = iris2['group']\n",
    "gkf = GroupKFold(n_splits=4)\n",
    "\n",
    "# 분할 시, group 고려하므로 split의 group를 입력\n",
    "for i, (train_idx, test_idx) in enumerate(gkf.split(X, y, group)):\n",
    "    print(f\"sample {i} => train_idx {train_idx[:3]}, test_index:{test_idx[:3]}\")\n",
    "    X_train, X_test, y_train, y_test = X.iloc[train_idx, :], X.iloc[test_idx, :], y.iloc[train_idx], y.iloc[test_idx]\n",
    "    print(f\"\\tX_train 비율 : {len(X_train)/len(X)}, X_test 비율 : {len(X_test)/len(X)}\")\n",
    "    print(f\"\\ttrain 타겟 구성 : {Counter(y_train)}\")\n",
    "    print(f\"\\ttest 타겟 구성 : {Counter(y_test)} \\n\")\n",
    "    print(f\"\\ttrain 그룹 구성 : {Counter(group.iloc[train_idx])}\")\n",
    "    print(f\"\\ttest 그룹 구성 : {Counter(group.iloc[test_idx])} \\n\")"
   ]
  },
  {
   "cell_type": "markdown",
   "id": "bdd3add1",
   "metadata": {},
   "source": [
    "## 3-3 교차검증\n",
    "- 학습용 데이터와 검증용 데이터를 앞서 언급한 분할 방법들로 다양하게 분할하고, 여러 파라미터 조건 하에 학습하여 교차검증함으로써 최적화된 일반화 모델 완성\n",
    "\n",
    "### 분할 샘플들로 교차검증"
   ]
  },
  {
   "cell_type": "code",
   "execution_count": 36,
   "id": "47321a39",
   "metadata": {},
   "outputs": [
    {
     "name": "stdout",
     "output_type": "stream",
     "text": [
      "   fit_time  score_time  test_score  train_score\n",
      "0  0.125277    0.008743    0.894737     0.955357\n",
      "1  0.025167    0.003584    0.947368     0.964286\n",
      "2  0.025394    0.001894    0.945946     0.955752\n",
      "3  0.029940    0.002128    1.000000     0.938053\n"
     ]
    }
   ],
   "source": [
    "from sklearn.model_selection import cross_validate, StratifiedKFold\n",
    "from sklearn.linear_model import LogisticRegression\n",
    "\n",
    "X = iris.drop('target', axis=1)\n",
    "y = iris['target']\n",
    "\n",
    "logreg = LogisticRegression(max_iter=300, C=0.1)\n",
    "skf = StratifiedKFold(n_splits=4)\n",
    "result = cross_validate(logreg, X, y, cv=skf, return_train_score=True)\n",
    "print(pd.DataFrame(result))"
   ]
  },
  {
   "cell_type": "markdown",
   "id": "2f5efd0b",
   "metadata": {},
   "source": [
    "### 파라미터 후보들로 교차검증"
   ]
  },
  {
   "cell_type": "code",
   "execution_count": 38,
   "id": "ecc85fd8",
   "metadata": {},
   "outputs": [
    {
     "name": "stdout",
     "output_type": "stream",
     "text": [
      "best score : 0.97\n",
      "best parameter : {'C': 1, 'solver': 'lbfgs'}\n",
      "   mean_fit_time  std_fit_time  mean_score_time  std_score_time param_C  \\\n",
      "0       0.024490      0.012934         0.002320        0.000374    0.01   \n",
      "1       0.003007      0.000403         0.001996        0.000176    0.01   \n",
      "2       0.027247      0.002439         0.001934        0.000078     0.1   \n",
      "3       0.002729      0.000033         0.001841        0.000012     0.1   \n",
      "4       0.038688      0.003445         0.002129        0.000297       1   \n",
      "5       0.003232      0.000412         0.001891        0.000053       1   \n",
      "\n",
      "  param_solver                              params  split0_test_score  \\\n",
      "0        lbfgs      {'C': 0.01, 'solver': 'lbfgs'}           0.815789   \n",
      "1    liblinear  {'C': 0.01, 'solver': 'liblinear'}           0.684211   \n",
      "2        lbfgs       {'C': 0.1, 'solver': 'lbfgs'}           0.894737   \n",
      "3    liblinear   {'C': 0.1, 'solver': 'liblinear'}           0.815789   \n",
      "4        lbfgs         {'C': 1, 'solver': 'lbfgs'}           0.973684   \n",
      "5    liblinear     {'C': 1, 'solver': 'liblinear'}           1.000000   \n",
      "\n",
      "   split1_test_score  split2_test_score  split3_test_score  mean_test_score  \\\n",
      "0           0.894737           0.783784           0.945946         0.860064   \n",
      "1           0.684211           0.648649           0.648649         0.666430   \n",
      "2           0.947368           0.945946           1.000000         0.947013   \n",
      "3           0.842105           0.837838           0.783784         0.819879   \n",
      "4           0.973684           0.945946           1.000000         0.973329   \n",
      "5           0.947368           0.864865           1.000000         0.953058   \n",
      "\n",
      "   std_test_score  rank_test_score  \n",
      "0        0.063947                4  \n",
      "1        0.017781                6  \n",
      "2        0.037221                3  \n",
      "3        0.023109                5  \n",
      "4        0.019114                1  \n",
      "5        0.055266                2  \n"
     ]
    }
   ],
   "source": [
    "from sklearn.model_selection import GridSearchCV\n",
    "\n",
    "logreg = LogisticRegression(max_iter=300)\n",
    "param_grid = {'C':[0.01, 0.1, 1], 'solver':['lbfgs', 'liblinear']}\n",
    "skf = StratifiedKFold(n_splits=4)\n",
    "\n",
    "grid = GridSearchCV(logreg, param_grid, cv=skf)\n",
    "grid.fit(X,y)\n",
    "\n",
    "print(f\"best score : {round(grid.best_score_, 2)}\")\n",
    "print(f\"best parameter : {grid.best_params_}\")\n",
    "print(pd.DataFrame(grid.cv_results_))"
   ]
  },
  {
   "cell_type": "markdown",
   "id": "289fb359",
   "metadata": {},
   "source": [
    "## Practice "
   ]
  },
  {
   "cell_type": "code",
   "execution_count": 40,
   "id": "77b5adbf",
   "metadata": {},
   "outputs": [
    {
     "data": {
      "text/html": [
       "<div>\n",
       "<style scoped>\n",
       "    .dataframe tbody tr th:only-of-type {\n",
       "        vertical-align: middle;\n",
       "    }\n",
       "\n",
       "    .dataframe tbody tr th {\n",
       "        vertical-align: top;\n",
       "    }\n",
       "\n",
       "    .dataframe thead th {\n",
       "        text-align: right;\n",
       "    }\n",
       "</style>\n",
       "<table border=\"1\" class=\"dataframe\">\n",
       "  <thead>\n",
       "    <tr style=\"text-align: right;\">\n",
       "      <th></th>\n",
       "      <th>age</th>\n",
       "      <th>job</th>\n",
       "      <th>marital</th>\n",
       "      <th>education</th>\n",
       "      <th>default</th>\n",
       "      <th>balance</th>\n",
       "      <th>housing</th>\n",
       "      <th>loan</th>\n",
       "      <th>contact</th>\n",
       "      <th>month</th>\n",
       "      <th>y</th>\n",
       "    </tr>\n",
       "  </thead>\n",
       "  <tbody>\n",
       "    <tr>\n",
       "      <th>0</th>\n",
       "      <td>30</td>\n",
       "      <td>unemployed</td>\n",
       "      <td>married</td>\n",
       "      <td>primary</td>\n",
       "      <td>no</td>\n",
       "      <td>1787</td>\n",
       "      <td>no</td>\n",
       "      <td>no</td>\n",
       "      <td>cellular</td>\n",
       "      <td>oct</td>\n",
       "      <td>no</td>\n",
       "    </tr>\n",
       "    <tr>\n",
       "      <th>1</th>\n",
       "      <td>33</td>\n",
       "      <td>services</td>\n",
       "      <td>married</td>\n",
       "      <td>secondary</td>\n",
       "      <td>no</td>\n",
       "      <td>4789</td>\n",
       "      <td>yes</td>\n",
       "      <td>yes</td>\n",
       "      <td>cellular</td>\n",
       "      <td>may</td>\n",
       "      <td>no</td>\n",
       "    </tr>\n",
       "    <tr>\n",
       "      <th>2</th>\n",
       "      <td>35</td>\n",
       "      <td>management</td>\n",
       "      <td>single</td>\n",
       "      <td>tertiary</td>\n",
       "      <td>no</td>\n",
       "      <td>1350</td>\n",
       "      <td>yes</td>\n",
       "      <td>no</td>\n",
       "      <td>cellular</td>\n",
       "      <td>apr</td>\n",
       "      <td>no</td>\n",
       "    </tr>\n",
       "  </tbody>\n",
       "</table>\n",
       "</div>"
      ],
      "text/plain": [
       "   age         job  marital  education default  balance housing loan  \\\n",
       "0   30  unemployed  married    primary      no     1787      no   no   \n",
       "1   33    services  married  secondary      no     4789     yes  yes   \n",
       "2   35  management   single   tertiary      no     1350     yes   no   \n",
       "\n",
       "    contact month   y  \n",
       "0  cellular   oct  no  \n",
       "1  cellular   may  no  \n",
       "2  cellular   apr  no  "
      ]
     },
     "execution_count": 40,
     "metadata": {},
     "output_type": "execute_result"
    }
   ],
   "source": [
    "# practice 1\n",
    "df = pd.read_csv(\"https://raw.githubusercontent.com/algoboni/pythoncodebook1-1/main/practice1_bank.csv\")\n",
    "df.head(3)"
   ]
  },
  {
   "cell_type": "code",
   "execution_count": 44,
   "id": "74c85459",
   "metadata": {},
   "outputs": [
    {
     "data": {
      "text/html": [
       "<div>\n",
       "<style scoped>\n",
       "    .dataframe tbody tr th:only-of-type {\n",
       "        vertical-align: middle;\n",
       "    }\n",
       "\n",
       "    .dataframe tbody tr th {\n",
       "        vertical-align: top;\n",
       "    }\n",
       "\n",
       "    .dataframe thead th {\n",
       "        text-align: right;\n",
       "    }\n",
       "</style>\n",
       "<table border=\"1\" class=\"dataframe\">\n",
       "  <thead>\n",
       "    <tr style=\"text-align: right;\">\n",
       "      <th></th>\n",
       "      <th>age</th>\n",
       "      <th>job</th>\n",
       "      <th>marital</th>\n",
       "      <th>education</th>\n",
       "      <th>default</th>\n",
       "      <th>balance</th>\n",
       "      <th>housing</th>\n",
       "      <th>loan</th>\n",
       "      <th>contact</th>\n",
       "      <th>month</th>\n",
       "      <th>y</th>\n",
       "    </tr>\n",
       "  </thead>\n",
       "  <tbody>\n",
       "    <tr>\n",
       "      <th>0</th>\n",
       "      <td>30</td>\n",
       "      <td>0</td>\n",
       "      <td>0</td>\n",
       "      <td>0</td>\n",
       "      <td>0</td>\n",
       "      <td>1787</td>\n",
       "      <td>0</td>\n",
       "      <td>0</td>\n",
       "      <td>0</td>\n",
       "      <td>0</td>\n",
       "      <td>0</td>\n",
       "    </tr>\n",
       "    <tr>\n",
       "      <th>1</th>\n",
       "      <td>33</td>\n",
       "      <td>1</td>\n",
       "      <td>0</td>\n",
       "      <td>1</td>\n",
       "      <td>0</td>\n",
       "      <td>4789</td>\n",
       "      <td>1</td>\n",
       "      <td>1</td>\n",
       "      <td>0</td>\n",
       "      <td>1</td>\n",
       "      <td>0</td>\n",
       "    </tr>\n",
       "    <tr>\n",
       "      <th>2</th>\n",
       "      <td>35</td>\n",
       "      <td>2</td>\n",
       "      <td>1</td>\n",
       "      <td>2</td>\n",
       "      <td>0</td>\n",
       "      <td>1350</td>\n",
       "      <td>1</td>\n",
       "      <td>0</td>\n",
       "      <td>0</td>\n",
       "      <td>2</td>\n",
       "      <td>0</td>\n",
       "    </tr>\n",
       "    <tr>\n",
       "      <th>3</th>\n",
       "      <td>30</td>\n",
       "      <td>2</td>\n",
       "      <td>0</td>\n",
       "      <td>2</td>\n",
       "      <td>0</td>\n",
       "      <td>1476</td>\n",
       "      <td>1</td>\n",
       "      <td>1</td>\n",
       "      <td>1</td>\n",
       "      <td>3</td>\n",
       "      <td>0</td>\n",
       "    </tr>\n",
       "    <tr>\n",
       "      <th>4</th>\n",
       "      <td>59</td>\n",
       "      <td>3</td>\n",
       "      <td>0</td>\n",
       "      <td>1</td>\n",
       "      <td>0</td>\n",
       "      <td>0</td>\n",
       "      <td>1</td>\n",
       "      <td>0</td>\n",
       "      <td>1</td>\n",
       "      <td>1</td>\n",
       "      <td>0</td>\n",
       "    </tr>\n",
       "  </tbody>\n",
       "</table>\n",
       "</div>"
      ],
      "text/plain": [
       "   age  job  marital  education  default  balance  housing  loan  contact  \\\n",
       "0   30    0        0          0        0     1787        0     0        0   \n",
       "1   33    1        0          1        0     4789        1     1        0   \n",
       "2   35    2        1          2        0     1350        1     0        0   \n",
       "3   30    2        0          2        0     1476        1     1        1   \n",
       "4   59    3        0          1        0        0        1     0        1   \n",
       "\n",
       "   month  y  \n",
       "0      0  0  \n",
       "1      1  0  \n",
       "2      2  0  \n",
       "3      3  0  \n",
       "4      1  0  "
      ]
     },
     "execution_count": 44,
     "metadata": {},
     "output_type": "execute_result"
    }
   ],
   "source": [
    "# 범주형 데이터 레이블 인코딩\n",
    "df2 = df.copy()\n",
    "for col in [i for i in df.columns if df[i].dtypes == object]:\n",
    "    DICT = dict(zip(df[col].unique(), [i for i in range(df[col].nunique())]))\n",
    "    df2[col] = df2[col].map(DICT)\n",
    "    \n",
    "df2.head()"
   ]
  },
  {
   "cell_type": "code",
   "execution_count": 47,
   "id": "387626c3",
   "metadata": {},
   "outputs": [
    {
     "name": "stdout",
     "output_type": "stream",
     "text": [
      "best score : 0.88\n",
      "best parameter : {'max_depth': 7}\n",
      "   mean_fit_time  std_fit_time  mean_score_time  std_score_time  \\\n",
      "0       0.359687      0.036106         0.027570        0.002769   \n",
      "1       0.380337      0.050371         0.028793        0.004648   \n",
      "2       0.393081      0.028778         0.027554        0.001110   \n",
      "3       0.383978      0.003269         0.027667        0.000364   \n",
      "\n",
      "  param_max_depth            params  split0_test_score  split1_test_score  \\\n",
      "0               5  {'max_depth': 5}           0.885942           0.884615   \n",
      "1               6  {'max_depth': 6}           0.888594           0.881963   \n",
      "2               7  {'max_depth': 7}           0.885942           0.883289   \n",
      "3               8  {'max_depth': 8}           0.885942           0.880637   \n",
      "\n",
      "   split2_test_score  split3_test_score  split4_test_score  split5_test_score  \\\n",
      "0           0.883289           0.885790           0.884462           0.884462   \n",
      "1           0.883289           0.885790           0.884462           0.883134   \n",
      "2           0.883289           0.885790           0.887118           0.883134   \n",
      "3           0.880637           0.881806           0.884462           0.883134   \n",
      "\n",
      "   mean_test_score  std_test_score  rank_test_score  \n",
      "0         0.884760        0.000896                2  \n",
      "1         0.884539        0.002167                3  \n",
      "2         0.884760        0.001581                1  \n",
      "3         0.882770        0.001962                4  \n"
     ]
    }
   ],
   "source": [
    "from sklearn.model_selection import GridSearchCV, StratifiedKFold\n",
    "from sklearn.ensemble import RandomForestClassifier\n",
    "\n",
    "rf = RandomForestClassifier()\n",
    "param_grid = {'max_depth': [5,6,7,8]}\n",
    "skf = StratifiedKFold(n_splits=6)\n",
    "grid = GridSearchCV(rf, param_grid, cv=skf)\n",
    "\n",
    "X = df2.drop('y', axis=1)\n",
    "y = df2['y']\n",
    "grid.fit(X, y)\n",
    "\n",
    "print(f\"best score : {round(grid.best_score_, 2)}\")\n",
    "print(f\"best parameter : {grid.best_params_}\")\n",
    "print(pd.DataFrame(grid.cv_results_))"
   ]
  }
 ],
 "metadata": {
  "kernelspec": {
   "display_name": "adp",
   "language": "python",
   "name": "adp_class"
  },
  "language_info": {
   "codemirror_mode": {
    "name": "ipython",
    "version": 3
   },
   "file_extension": ".py",
   "mimetype": "text/x-python",
   "name": "python",
   "nbconvert_exporter": "python",
   "pygments_lexer": "ipython3",
   "version": "3.10.16"
  }
 },
 "nbformat": 4,
 "nbformat_minor": 5
}
