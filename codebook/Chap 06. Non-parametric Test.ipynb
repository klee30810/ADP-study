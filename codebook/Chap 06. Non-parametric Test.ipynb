{
 "cells": [
  {
   "cell_type": "code",
   "execution_count": 7,
   "id": "0acbb431",
   "metadata": {},
   "outputs": [],
   "source": [
    "import pandas as pd\n",
    "import numpy as np\n",
    "\n",
    "from scipy import stats\n",
    "\n",
    "import warnings\n",
    "warnings.filterwarnings('ignore')"
   ]
  },
  {
   "cell_type": "markdown",
   "id": "92d74c4f",
   "metadata": {},
   "source": [
    "## 6-1 카이제곱검정 : 카이제곱분포\n",
    "### 적합성 검정 : 다항 모집단 비율 차이\n",
    "- 적어도 기대도수 5 이상일 때.\n",
    "- H0 : 구해진 도수분포의 도수와 이론 도수가 차이가 없다\n",
    "- H0 : 구해진 도수분포의 도수와 이론 도수가 차이가 있다"
   ]
  },
  {
   "cell_type": "code",
   "execution_count": 2,
   "id": "f1360004",
   "metadata": {},
   "outputs": [
    {
     "name": "stdout",
     "output_type": "stream",
     "text": [
      "[수기 검정]\n",
      " 오른쪽 검정의 임계값: 7.378, 검정통계량: 4.000\n",
      " 유의수준: 0.050, 유의확률: 0.135\n",
      "[라이브러리 검정]\n",
      " 검정 통계량4.000, p-value 0.135\n"
     ]
    }
   ],
   "source": [
    "# 세 후보의 지지도가 다르다고 할 수 있을까\n",
    "data = np.array([60, 50 ,40])\n",
    "\n",
    "m0 = data.mean(); alpha = 0.05;\n",
    "df = len(data)-1\n",
    "chistat = sum((data - m0)**2/m0)\n",
    "sp = 1 - stats.chi2.cdf(chistat, df)\n",
    "cv = stats.chi2.ppf(1-alpha/2, df)\n",
    "\n",
    "print(\"[수기 검정]\")\n",
    "print(f\" 오른쪽 검정의 임계값: {cv:.3f}, 검정통계량: {chistat:.3f}\")\n",
    "print(f\" 유의수준: {alpha:.3f}, 유의확률: {sp:.3f}\")\n",
    "\n",
    "print(\"[라이브러리 검정]\")\n",
    "stat, p = stats.chisquare(data, m0)\n",
    "print(f\" 검정 통계량{stat:.3f}, p-value {p:.3f}\")"
   ]
  },
  {
   "cell_type": "markdown",
   "id": "d482da01",
   "metadata": {},
   "source": [
    "### 독립성 검정 : 한 모집단 내 여러 수준의 차이\n",
    "- 교차분석, 다수의 인자들에 의해 분할되어 있는 데이터에서 인자들이 관찰값에 영향을 주고 있는지 여부 검정\n",
    "- 검정조건\n",
    "    - 자유도가 1인 경우, 전체 데이터 수가 30보다 크면서 각 칸의 빈도가 5이상\n",
    "    - 데이터 수가 30보다 크면서 5 미만의 기대빈도의 칸이 전체 칸의 20%보다 적고 모든 칸에 1 이상의 기대빈도가 있다면 척도에 관계없이 사용 가능\n",
    "    - 각 칸의 기대빈도가 5 미만인 경우 변수들의 범주를 묶거나 이항검정법 사용\n",
    "    - 도수가 작아도 피셔의 정확검정을 이용하면 집계표의 독립성 검정 가능\n",
    "- 가설 설정\n",
    "    - H0 : 두 인자는 독립이다(연관이 없다)\n",
    "    - H1 : 두 인자는 독립이 아니다(연관이 있다)"
   ]
  },
  {
   "cell_type": "code",
   "execution_count": 4,
   "id": "547fc55f",
   "metadata": {},
   "outputs": [
    {
     "name": "stdout",
     "output_type": "stream",
     "text": [
      " 기대값\n",
      " [[20. 30.]\n",
      " [20. 30.]]\n",
      " 관찰값\n",
      " [[10 40]\n",
      " [30 20]]\n",
      "[수기 검정]\n",
      " 오른쪽 검정의 임계값: 3.841, 검정통계량: 16.667\n",
      " 유의수준: 0.050, 유의확률: 0.000\n",
      "[라이브러리 검정]\n",
      " 검정 통계량16.667, p-value 0.000, 기대값:\n",
      " [[20. 30.]\n",
      " [20. 30.]]\n"
     ]
    }
   ],
   "source": [
    "table = pd.DataFrame({\n",
    "    '성별' : ['남자', '여자'], '안경O' : [10, 30], '안경X' : [40,20]\n",
    "}).set_index('성별')\n",
    "alpha = 0.05\n",
    "\n",
    "ttl = table.sum().sum()\n",
    "exp = []\n",
    "r = table.sum(axis=1).values\n",
    "c = table.sum(axis=0).values\n",
    "for R in r:\n",
    "    for C in c:\n",
    "        exp.append(R*C/ttl)\n",
    "print(' 기대값\\n', np.array(exp).reshape(table.shape))\n",
    "obs = table.values.ravel()\n",
    "print(\" 관찰값\\n\", np.array(obs).reshape(table.shape))\n",
    "\n",
    "chistat = np.sum((obs-exp)**2/exp)\n",
    "df = (table.shape[0]-1) * (table.shape[1]-1)\n",
    "sp = 1 - stats.chi2.cdf(chistat, df)\n",
    "cv = stats.chi2.ppf(1-alpha, df)\n",
    "print(\"[수기 검정]\")\n",
    "print(f\" 오른쪽 검정의 임계값: {cv:.3f}, 검정통계량: {chistat:.3f}\")\n",
    "print(f\" 유의수준: {alpha:.3f}, 유의확률: {sp:.3f}\")\n",
    "\n",
    "print(\"[라이브러리 검정]\")\n",
    "chi2, p, df, expec = stats.chi2_contingency(table, correction=False)\n",
    "print(f\" 검정 통계량{ chi2:.3f}, p-value {p:.3f}, 기대값:\\n {expec}\")"
   ]
  },
  {
   "cell_type": "code",
   "execution_count": 5,
   "id": "a6c0d942",
   "metadata": {},
   "outputs": [
    {
     "name": "stdout",
     "output_type": "stream",
     "text": [
      "[데이터 확인]\n",
      "     승  패\n",
      "A  10  2\n",
      "B   3  5\n",
      "[라이브러리 검정]\n",
      "검정통계량 8.333, p-value 0.052\n",
      "\n"
     ]
    }
   ],
   "source": [
    "# 참고 Fisher's exact test\n",
    "table = pd.DataFrame([[10, 2], [3, 5]], index=['A', 'B'], columns = ['승', '패'])\n",
    "print(\"[데이터 확인]\\n\", table)\n",
    "\n",
    "print(\"[라이브러리 검정]\")\n",
    "stats, p = stats.fisher_exact(table, alternative='greater')\n",
    "print(f\"검정통계량 {stats:.3f}, p-value {p:.3f}\\n\")"
   ]
  },
  {
   "cell_type": "markdown",
   "id": "1a66d30c",
   "metadata": {},
   "source": [
    "### 동질성 검정 : 여러 모집단 간 여러 수준에 대한 차이\n",
    "- 속성 A,B를 가진 부모집단들로부터 정해진 표본 크기 만큼 자료를 추출하는 경우 분할표에서 부모 집단의 비율이 동일한지 여부 검정\n",
    "- H0 : 모든 집단의 분포가 차이가 없다\n",
    "- H1 : 적어도 한 집단은 분포 상 서로 차이가 있다"
   ]
  },
  {
   "cell_type": "code",
   "execution_count": 9,
   "id": "698f0318",
   "metadata": {},
   "outputs": [
    {
     "name": "stdout",
     "output_type": "stream",
     "text": [
      " 기대값\n",
      " [[70.   35.   35.  ]\n",
      " [67.5  33.75 33.75]\n",
      " [62.5  31.25 31.25]]\n",
      " 관찰값\n",
      " [[120  10  10]\n",
      " [ 30  75  30]\n",
      " [ 50  15  60]]\n",
      "[수기 검정]\n",
      " 오른쪽 검정의 임계값: 9.488, 검정통계량: 180.495\n",
      " 유의수준: 0.050, 유의확률: 0.000\n",
      "[라이브러리 검정]\n",
      " 검정 통계량 180.495, p-value 0.000, \n",
      "기대값:\n",
      " [[70.   35.   35.  ]\n",
      " [67.5  33.75 33.75]\n",
      " [62.5  31.25 31.25]]\n"
     ]
    }
   ],
   "source": [
    "table = pd.DataFrame({\n",
    "    'TV' : ['A', 'B', 'C'], '청년' : [120, 30, 50], '중년' : [10, 75, 15], '장년':[10, 30, 60]\n",
    "}).set_index('TV')\n",
    "alpha = 0.05\n",
    "\n",
    "ttl = table.sum().sum()\n",
    "exp = []\n",
    "r = table.sum(axis=1).values\n",
    "c = table.sum(axis=0).values\n",
    "for R in r:\n",
    "    for C in c:\n",
    "        exp.append(R*C/ttl)\n",
    "print(\" 기대값\\n\", np.array(exp).reshape(table.shape))        \n",
    "obs = table.values.ravel()\n",
    "print(\" 관찰값\\n\", np.array(obs).reshape(table.shape))        \n",
    "\n",
    "chistat = np.sum((obs - exp)**2 / exp)\n",
    "df = (table.shape[0]-1)*(table.shape[1]-1)\n",
    "sp = 1 - stats.chi2.cdf(chistat, df)\n",
    "cv = stats.chi2.ppf(1-alpha, df)\n",
    "print(\"[수기 검정]\")\n",
    "print(f\" 오른쪽 검정의 임계값: {cv:.3f}, 검정통계량: {chistat:.3f}\")\n",
    "print(f\" 유의수준: {alpha:.3f}, 유의확률: {sp:.3f}\")\n",
    "\n",
    "print(\"[라이브러리 검정]\")\n",
    "chi2, p, df, expec = stats.chi2_contingency(table, correction=False)\n",
    "print(f\" 검정 통계량 {chi2:.3f}, p-value {p:.3f}, \\n기대값:\\n {expec}\")"
   ]
  },
  {
   "cell_type": "markdown",
   "id": "50ea6da9",
   "metadata": {},
   "source": [
    "## 6-2 Run 검정 : Run 검정표, Z분포\n",
    "### 일표본 Run 검정\n",
    "- 한 개의 샘플이 무작위로 추출되었는지 여부 검정\n",
    "    - 런 : 동일한 관측값이 연속으로 이어진 것. 한 종류의 부호 혹은 집단이 시작하여 끝날 때까지의 한 덩어리\n",
    "- 범주형 데이터의 경우, 각 범주의 개수와 런 개수를 사용하여 검정을 진행하고, 수치형 데이터는 중앙값을 기준으로 데이터 이진화 한 후 검정 진행\n",
    "- H0 : 샘플이 무작위로 추출되었다.\n",
    "- H1 : 샘플이 무작위로 추출되지 않았다."
   ]
  },
  {
   "cell_type": "code",
   "execution_count": 25,
   "id": "8a6ebee4",
   "metadata": {},
   "outputs": [
    {
     "name": "stdout",
     "output_type": "stream",
     "text": [
      "[데이터 확인]\n",
      "Counter({1: 15, 0: 14})\n",
      "[수기 검정]\n",
      " 기대값: 15.483, 분산: 6.974, 검정통계량: -0.372, pvalue: 0.710\n",
      "[라이브러리 검정]\n",
      " 검정통계량, 0.007, pvalue : 0.995\n"
     ]
    }
   ],
   "source": [
    "from collections import Counter\n",
    "# run을 세는 함수 정의\n",
    "def count_run(data):\n",
    "    count_run = 1\n",
    "    for i, element in enumerate(data[:-1]):\n",
    "        if element == data[i+1]:\n",
    "            continue\n",
    "        else:\n",
    "            count_run += 1\n",
    "    return count_run\n",
    "\n",
    "data = ['a', 'a', 'b', 'b', 'a', 'a', 'a', 'a', 'b', 'b', 'b', 'b', 'a', 'b', 'a', 'a'\n",
    "       'b', 'b', 'a', 'a', 'b', 'b', 'b', 'a', 'a', 'b', 'b', 'a', 'b', 'a']\n",
    "data2 = list(map(lambda x: 0 if x == 'a' else 1, data))\n",
    "a, b = Counter(data2)[0], Counter(data2)[1]\n",
    "print(f\"[데이터 확인]\\n{Counter(data2)}\")\n",
    "\n",
    "print(\"[수기 검정]\")\n",
    "n1, n2 = a,b #n1, n2가 충분히 클 때 점근적 정규분포를 따름\n",
    "run = count_run(data2)\n",
    "avg = 2 * n1 * n2 / (n1+n2)+1\n",
    "var = 2*n1*n2*(2*n1*n2-n1-n2)/((n1+n2)**2)/(n1+n2-1)\n",
    "\n",
    "# 런의 총 갯수에 따라서 h 값을 정함\n",
    "if run < 2*n1*n2/(n1+n2)+0.5:\n",
    "    h = 0.5\n",
    "else:\n",
    "    h = -0.5\n",
    "    \n",
    "# n1, n2의 크기에 따라서 Z통계량 공식을 정함\n",
    "if n1<=20 or n2<=20:\n",
    "    Z = (run-avg+h) / np.sqrt(var) # 소표본\n",
    "else:\n",
    "    Z = (run-avg) / np.sqrt(var) # 대표본\n",
    "sp = (1 - stats.norm.cdf(np.abs(Z)))*2\n",
    "print(f\" 기대값: {avg:.3f}, 분산: {var:.3f}, 검정통계량: {Z:.3f}, pvalue: {sp:.3f}\")\n",
    "\n",
    "print(\"[라이브러리 검정]\")\n",
    "from statsmodels.sandbox.stats.runs import runstest_1samp\n",
    "zstat, pval = runstest_1samp(data2, cutoff = 'mean', correction=True)\n",
    "print(f\" 검정통계량, {zstat:.3f}, pvalue : {pval:.3f}\")"
   ]
  },
  {
   "cell_type": "code",
   "execution_count": 28,
   "id": "4108ef3a",
   "metadata": {},
   "outputs": [
    {
     "name": "stdout",
     "output_type": "stream",
     "text": [
      "[데이터 확인]\n",
      "Counter({0: 5, 1: 5})\n",
      "[수기 검정]\n",
      " 기대값 6.000, var: 2.222, zstat: -1.006, pvalue : 0.314\n",
      "[라이브러리 검정]\n",
      " 검정통계량 -1.006, pvalue 0.314\n"
     ]
    }
   ],
   "source": [
    "## 수치형 데이터의 경우\n",
    "from collections import Counter\n",
    "# run을 세는 함수 정의\n",
    "def count_run(data):\n",
    "    count_run = 1\n",
    "    for i, element in enumerate(data[:-1]):\n",
    "        if element == data[i+1]:\n",
    "            continue\n",
    "        else:\n",
    "            count_run += 1\n",
    "    return count_run\n",
    "\n",
    "data = [50, 60, 70, 40, 30, 20, 10, 70, 80, 100]\n",
    "median = np.median(data)\n",
    "data2 = []\n",
    "for sample in data:\n",
    "    if sample >= median:\n",
    "        data2.append(1)\n",
    "    else:\n",
    "        data2.append(0)\n",
    "print(f\"[데이터 확인]\\n{Counter(data2)}\")      \n",
    "\n",
    "n1 = Counter(data2)[0] ; n2 = Counter(data2)[1]\n",
    "run = count_run(data2)\n",
    "avg = 2*n1*n2/(n1+n2)+1\n",
    "var = 2*n1*n2*(2*n1*n2-n1-n2)/((n1+n2)**2)/(n1+n2-1)\n",
    "\n",
    "# run 갯수에 따라 h값 정함\n",
    "if run < 2*n1*n2/(n1+n2)+0.5:\n",
    "    h = 0.5\n",
    "else:\n",
    "    h = -0.5\n",
    "\n",
    "# n1, n2의 크기에 따라서 z통계량 공식을 정함\n",
    "if n1 <= 20 or n2 < 20:\n",
    "    Z = (run-avg+h) / np.sqrt(var)\n",
    "else:\n",
    "    Z = (run-avg) / np.sqrt(var)\n",
    "sp = (1-stats.norm.cdf(np.abs(Z)))*2\n",
    "print(\"[수기 검정]\")\n",
    "print(f\" 기대값 {avg:.3f}, var: {var:.3f}, zstat: {Z:.3f}, pvalue : {sp:.3f}\")\n",
    "\n",
    "from statsmodels.sandbox.stats.runs import runstest_1samp\n",
    "zstat, pval = runstest_1samp(data2, cutoff='median')\n",
    "print(\"[라이브러리 검정]\")\n",
    "print(f\" 검정통계량 {zstat:.3f}, pvalue {pval:.3f}\")"
   ]
  },
  {
   "cell_type": "markdown",
   "id": "544eac43",
   "metadata": {},
   "source": [
    "### 이표본 Run 검정\n",
    "- H0 : 두 데이터는 같은 분포에서 왔다\n",
    "- H1 : 두 데이터는 다른 분포에서 왔다"
   ]
  },
  {
   "cell_type": "code",
   "execution_count": 32,
   "id": "9179f8c0",
   "metadata": {},
   "outputs": [
    {
     "name": "stdout",
     "output_type": "stream",
     "text": [
      "[데이터 확인]\n",
      " Counter({23.0: 1, 42.0: 1, 36.0: 1, 27.0: 1, 48.0: 1, 52.0: 1, 35.0: 1, 31.0: 1}) \n",
      " Counter({43.0: 1, 56.0: 1, 38.0: 1, 20.0: 1, 46.0: 1, 51.0: 1, 36.0: 1})\n",
      "[데이터 확인]\n",
      " Counter({1: 8, 0: 7})\n",
      "[수기 검정]\n",
      " 기대값 8.467, var: 3.449, zstat: 0.018, pvalue : 0.986\n",
      "[라이브러리 검정]\n",
      "ties detected\n",
      " 검정통계량 0.018, pvalue 0.986\n"
     ]
    }
   ],
   "source": [
    "# 수치형 데이터의 경우\n",
    "# run을 세는 함수 정의\n",
    "def count_run(data):\n",
    "    count_run = 1\n",
    "    for i, element in enumerate(data[:-1]):\n",
    "        if element == data[i+1]:\n",
    "            continue\n",
    "        else:\n",
    "            count_run += 1\n",
    "    return count_run\n",
    "\n",
    "data1 = [23, 42, 36, 27, 48, 52, 35, 31]\n",
    "data2 = [43, 56, 38, 20, 46, 51, 36]\n",
    "\n",
    "data1 = list(map(lambda x: float(x), data1))\n",
    "data2 = list(map(lambda x: float(x), data2))\n",
    "print(f\"[데이터 확인]\\n {Counter(data1)} \\n {Counter(data2)}\")\n",
    "\n",
    "data = data1 + data2\n",
    "median = np.median(data)\n",
    "data3 = [1 if i >= median else 0 for i in data] # 중앙값 기준 이진화\n",
    "print(f\"[데이터 확인]\\n {Counter(data3)}\")\n",
    "\n",
    "n1 = Counter(data3)[0]; n2 = Counter(data3)[1]\n",
    "run = count_run(data3)\n",
    "avg = 2*n1*n2 / (n1+n2)+1\n",
    "var = 2*n1*n2*(2*n1*n2-n1-n2)/((n1+n2)**2) / (n1+n2-1)\n",
    "\n",
    "if run < 2*n1*n2/(n1+n2)+0.5:\n",
    "    h = 0.5\n",
    "else:\n",
    "    h = -0.5\n",
    "    \n",
    "if n1 <= 20 or n2 <= 20:\n",
    "    Z = (run-avg+h) / np.sqrt(var)\n",
    "else:\n",
    "    Z = (run-avg) / (np.sqrt(var))\n",
    "sp = (1 - stats.norm.cdf(np.abs(Z)))*2\n",
    "    \n",
    "print(\"[수기 검정]\")\n",
    "print(f\" 기대값 {avg:.3f}, var: {var:.3f}, zstat: {Z:.3f}, pvalue : {sp:.3f}\")\n",
    "\n",
    "print(\"[라이브러리 검정]\")\n",
    "from statsmodels.sandbox.stats.runs import runstest_2samp\n",
    "zstat, pval = runstest_2samp(data1, data2)\n",
    "print(f\" 검정통계량 {zstat:.3f}, pvalue {pval:.3f}\")"
   ]
  },
  {
   "cell_type": "markdown",
   "id": "c47c3147",
   "metadata": {},
   "source": [
    "## 6-3 이항변수 데이터 검정: 카이제곱 분포\n",
    "### 맥니머 검정 (McNemar's test)\n",
    "- 이항변수인 두 변수의 대응관계(paired)가 있는 데이터 분포의 차이\n",
    "- H0 : 두 변수의 데이터 분포는 차이가 없다\n",
    "- H1 : 두 변수의 데이터 분포는 차이가 있다    "
   ]
  },
  {
   "cell_type": "code",
   "execution_count": 33,
   "id": "46537f42",
   "metadata": {},
   "outputs": [
    {
     "name": "stdout",
     "output_type": "stream",
     "text": [
      "[Data check]\n",
      "       후_있음  후_없음\n",
      "전_있음     9    12\n",
      "전_없음    24    35\n",
      "[수기 검정]\n",
      " 검정통계량: 4.000, pvalue 0.046\n",
      "[Library Test]\n",
      " stat 4.0, pvalue 0.046\n"
     ]
    }
   ],
   "source": [
    "# 프로모션 전후 상품에 대한 흥미 유무\n",
    "table = pd.DataFrame([[9,12], [24,35]], index=['전_있음', '전_없음'], columns=['후_있음', '후_없음'])\n",
    "print(f\"[Data check]\\n {table}\")\n",
    "\n",
    "# H0 : 두 경우 분포가 같다\n",
    "# H1 : 두 경우 분포가 다르다\n",
    "print(\"[수기 검정]\") # 변화가 있는 b,c에 주목하고 변화가 없는 대각선은 무시\n",
    "b = table.values[0][1]\n",
    "c = table.values[1][0]\n",
    "stat = (b-c)**2 / (b+c)\n",
    "alpha = 0.05\n",
    "df = 1\n",
    "pval = 1 - stats.chi2.cdf(stat, df)\n",
    "print(f\" 검정통계량: {stat:.3f}, pvalue {pval:.3f}\")\n",
    "\n",
    "from statsmodels.stats.contingency_tables import mcnemar\n",
    "# exact 값이 True이면 이항분포, False면 카이제곱분포 사용\n",
    "print(\"[Library Test]\")\n",
    "mc = mcnemar(table.values, exact=False, correction=False)\n",
    "print(f\" stat {mc.statistic}, pvalue {mc.pvalue:.3f}\")"
   ]
  },
  {
   "cell_type": "markdown",
   "id": "af465511",
   "metadata": {},
   "source": [
    "### 코크란 Q 검정\n",
    "- 이항변수인 세 변수 이상의 대응관계가 있는 데이터 분포 검정\n",
    "- 대응관계 일원배치 분산분석의 비모수 버전\n",
    "- H1: 적어도 한 쌍의 변수의 데이터 분포는 차이가 있다."
   ]
  },
  {
   "cell_type": "code",
   "execution_count": 37,
   "id": "6b20d873",
   "metadata": {},
   "outputs": [
    {
     "name": "stdout",
     "output_type": "stream",
     "text": [
      "Check Data\n",
      "   가수1  가수2  가수3\n",
      "1    0    1    0\n",
      "2    1    1    1\n",
      "3    0    0    1\n",
      "4    1    1    1\n",
      "5    0    0    1\n",
      "6    0    0    1\n",
      "7    0    1    1\n",
      "8    0    1    1\n",
      "[Direct Test]\n",
      "stat 3.500, pvalue 0.835\n",
      "[Library Test]\n",
      " stats 6.333, pvalue 0.042\n",
      "가수1-가수2: stats 3.000, pvalue 0.083\n",
      "가수1-가수3: stats 5.000, pvalue 0.025***\n",
      "가수2-가수3: stats 1.000, pvalue 0.317\n"
     ]
    }
   ],
   "source": [
    "# 연예인 3명에 대한 호감도 비율 차이?\n",
    "from scipy.stats import chi2\n",
    "table = pd.DataFrame([\n",
    "    [0,1,0,1,0,0,0,0,], [1,1,0,1,0,0,1,1], [0,1,1,1,1,1,1,1]], index=['가수1', '가수2', '가수3'],\n",
    "    columns=[1,2,3,4,5,6,7,8]\n",
    ").T\n",
    "print(f\"Check Data\\n{table}\")\n",
    "\n",
    "# H1 : 적어도 한 쌍의 연예인은 호감도 비율이 차이가 있따\n",
    "print(\"[Direct Test]\")\n",
    "n = table.shape[0]; k = table.shape[1]; df = n-1;\n",
    "k_sums = np.array(table.sum(axis=0)); n_sums = np.array(table.sum(axis=1))\n",
    "Q1 = k * sum(k_sums**2) - sum(k_sums)**2\n",
    "Q2 = k * sum(n_sums**2) - sum(n_sums)\n",
    "stat = df * Q1 / Q2\n",
    "pval = 1 - stats.chi2.cdf(stat, df)\n",
    "print(f\"stat {stat:.3f}, pvalue {pval:.3f}\")\n",
    "\n",
    "print(\"[Library Test]\")\n",
    "from statsmodels.stats.contingency_tables import cochrans_q\n",
    "ccq = cochrans_q(table)\n",
    "print(f\" stats {ccq.statistic:.3f}, pvalue {ccq.pvalue:.3f}\")\n",
    "\n",
    "# 모든 쌍의 맥니머 검정을 통해 가수1-가수3 간 호감도 차이 확인\n",
    "from itertools import combinations\n",
    "col_comp = list(combinations(table.columns, 2))\n",
    "\n",
    "from statsmodels.stats.contingency_tables import mcnemar\n",
    "for s1, s2 in col_comp:\n",
    "    ct = pd.crosstab(table.loc[:, s1], table.loc[:, s2])\n",
    "    mc = mcnemar(ct.values, exact=False, correction=False)\n",
    "    stat, p = mc.statistic, mc.pvalue\n",
    "    msg = f\"{s1}-{s2}: stats {stat:.3f}, pvalue {p:.3f}\"\n",
    "    if p < 0.05:\n",
    "        print(msg + \"***\")\n",
    "    else:\n",
    "        print(msg)"
   ]
  },
  {
   "cell_type": "markdown",
   "id": "f00eaa0e",
   "metadata": {},
   "source": [
    "## 6-4 부호, 순위 데이터검정\n",
    "### 일표본 부호 검정: 이항분포, Z분포\n",
    "- 일표본 t 검정 대응 : n 100 이하 시, 이항분포 & 100 이상 시, 정규분포"
   ]
  },
  {
   "cell_type": "code",
   "execution_count": 45,
   "id": "40c73f0f",
   "metadata": {},
   "outputs": [
    {
     "name": "stdout",
     "output_type": "stream",
     "text": [
      "[Direct Test]\n",
      " Effective number of data 10 num of plus(stat) 5\n",
      "[binom dist. based] prob dist. table:\n",
      "        X      prob     value\n",
      "0    0.0  0.000977  0.000000\n",
      "1    1.0  0.009766  0.009766\n",
      "2    2.0  0.043945  0.087891\n",
      "3    3.0  0.117188  0.351562\n",
      "4    4.0  0.205078  0.820312\n",
      "5    5.0  0.246094  1.230469\n",
      "6    6.0  0.205078  1.230469\n",
      "7    7.0  0.117187  0.820312\n",
      "8    8.0  0.043945  0.351562\n",
      "9    9.0  0.009766  0.087891\n",
      "10  10.0  0.000977  0.009766\n",
      " expectation 5.000, var 2.500 (= 5.000, 2.500)\n",
      " stat: 5, critival value: 0, 0\n",
      "[Normal dist.] expectation 5.000, var 2.500\n",
      " stat: 0.000, critival value: +/-1.960\n",
      " sig standard: 0.050, sigp prob: 1.000\n"
     ]
    }
   ],
   "source": [
    "# data median M0 = 200 Test\n",
    "# H1 : data median is different from 200\n",
    "\n",
    "print(\"[Direct Test]\")\n",
    "data = np.array([203, 204, 197, 195, 201, 205, 198, 199, 194, 207])\n",
    "M0 = 200\n",
    "\n",
    "df = pd.DataFrame(data-M0, columns=['d'])\n",
    "df = df.query(\"d != 0\")\n",
    "plus = len(df.query(\"d > 0\"))\n",
    "minus = len(df.query(\"d < 0\"))\n",
    "n = len(df) # num of effective data \n",
    "print(f\" Effective number of data {n} num of plus(stat) {plus}\")\n",
    "\n",
    "# 검정통계량 B(plus 부호 갯수)는 B(n, p=0.5)인 이항분포를 따름\n",
    "p = 0.5\n",
    "result = pd.DataFrame()\n",
    "for i in range(0, n+1):\n",
    "    result.loc[i, 'X'] = i\n",
    "    result.loc[i, 'prob'] = stats.binom.pmf(i, n, p)\n",
    "result['value'] = result['X'] * result['prob']\n",
    "print(f\"[binom dist. based] prob dist. table:\\n\", result)\n",
    "\n",
    "mean = result.sum()['value']\n",
    "var = sum((result['X']-mean)**2 * result['prob'])\n",
    "print(f\" expectation {mean:.3f}, var {var:.3f} (= {n*p:.3f}, {n*p*(1-p):.3f})\")\n",
    "\n",
    "alpha = 0.05\n",
    "start = int(stats.binom.pmf(alpha/2, n, p))\n",
    "end = int(stats.binom.pmf(1-alpha/2, n, p))\n",
    "print(f\" stat: {plus}, critival value: {start}, {end}\")\n",
    "\n",
    "# 정규분포 근사\n",
    "mean2 = n/2; var2 = n/4; s = np.sqrt(var2)\n",
    "zstat = (plus-mean2)/s\n",
    "ways = 'two'\n",
    "if ways == 'two':\n",
    "    sp = (1-stats.norm.cdf(np.abs(zstat)))*2\n",
    "    cv = stats.norm.ppf(1-alpha/2)\n",
    "    cv = f\"+/-{cv:.3f}\"\n",
    "elif ways == 'one-right':\n",
    "    sp = (1-stats.norm.cdf(zstat))\n",
    "    cv = stats.norm.ppf(1-alpha)\n",
    "    cv = f\"{cv:.3f}\"\n",
    "elif ways == 'one-left':\n",
    "    sp = (stats.norm.cdf(zstat))\n",
    "    cv = stats.norm.ppf(alpha/2)\n",
    "    cv = f\"{cv:.3f}\"\n",
    "    \n",
    "print(f\"[Normal dist.] expectation {mean2:.3f}, var {var2:.3f}\")\n",
    "print(f\" stat: {zstat:.3f}, critival value: {cv}\")\n",
    "print(f\" sig standard: {alpha:.3f}, sigp prob: {sp:.3f}\")"
   ]
  },
  {
   "cell_type": "markdown",
   "id": "6e1364d6",
   "metadata": {},
   "source": [
    "### 이표본 부호 검정: 이항분포, Z분포\n",
    "- n이 100 이하일 경우, 부호검정 통계량은 이항분포를 따르고, 100 이상이면 정규분포를 따름\n",
    "- 대응표본 t검정에 대응"
   ]
  },
  {
   "cell_type": "code",
   "execution_count": 46,
   "id": "9e7e5225",
   "metadata": {},
   "outputs": [
    {
     "name": "stdout",
     "output_type": "stream",
     "text": [
      "[Direct Test]\n",
      " Effective number of data 8 num of plus(stat) 7\n",
      "[binom dist. based] prob dist. table:\n",
      "      X      prob    value\n",
      "0  0.0  0.003906  0.00000\n",
      "1  1.0  0.031250  0.03125\n",
      "2  2.0  0.109375  0.21875\n",
      "3  3.0  0.218750  0.65625\n",
      "4  4.0  0.273437  1.09375\n",
      "5  5.0  0.218750  1.09375\n",
      "6  6.0  0.109375  0.65625\n",
      "7  7.0  0.031250  0.21875\n",
      "8  8.0  0.003906  0.03125\n",
      " expectation 4.000, var 2.000 (= 4.000, 2.000)\n",
      " stat: 7, critival value: 0, 0\n",
      "[Normal dist.] expectation 4.000, var 2.000\n",
      " stat: 2.121, critival value: +/-1.960\n",
      " sig standard: 0.050, sigp prob: 0.034\n"
     ]
    }
   ],
   "source": [
    "# H1: A의 만족도가 더 높다\n",
    "print(\"[Direct Test]\")\n",
    "data1 = np.array([4,3,5,2,1,3,4,3])\n",
    "data2 = np.array([3,2,3,1,2,2,2,2])\n",
    "M0 = 0\n",
    "\n",
    "df = pd.DataFrame(data1-data2, columns=['d'])\n",
    "df = df.query(\"d != 0\")\n",
    "plus = len(df.query(\"d > 0\"))\n",
    "minus = len(df.query(\"d < 0\"))\n",
    "n = len(df) # num of effective data \n",
    "print(f\" Effective number of data {n} num of plus(stat) {plus}\")\n",
    "\n",
    "# 검정통계량 B(plus 부호 갯수)는 B(n, p=0.5)인 이항분포를 따름\n",
    "p = 0.5\n",
    "result = pd.DataFrame([])\n",
    "for i in range(0, n+1):\n",
    "    result.loc[i, 'X'] = i\n",
    "    result.loc[i, 'prob'] = stats.binom.pmf(i, n, p)\n",
    "result['value'] = result['X'] * result['prob']\n",
    "print(f\"[binom dist. based] prob dist. table:\\n\", result)\n",
    "\n",
    "mean = result.sum()['value']\n",
    "var = sum((result['X']-mean)**2 * result['prob'])\n",
    "print(f\" expectation {mean:.3f}, var {var:.3f} (= {n*p:.3f}, {n*p*(1-p):.3f})\")\n",
    "\n",
    "alpha = 0.05\n",
    "start = int(stats.binom.pmf(alpha/2, n, p))\n",
    "end = int(stats.binom.pmf(1-alpha/2, n, p))\n",
    "print(f\" stat: {plus}, critival value: {start}, {end}\")\n",
    "\n",
    "# 정규분포 근사\n",
    "mean2 = n/2; var2 = n/4; s = np.sqrt(var2)\n",
    "zstat = (plus-mean2)/s\n",
    "ways = 'two'\n",
    "if ways == 'two':\n",
    "    sp = (1-stats.norm.cdf(np.abs(zstat)))*2\n",
    "    cv = stats.norm.ppf(1-alpha/2)\n",
    "    cv = f\"+/-{cv:.3f}\"\n",
    "elif ways == 'one-right':\n",
    "    sp = (1-stats.norm.cdf(zstat))\n",
    "    cv = stats.norm.ppf(1-alpha)\n",
    "    cv = f\"{cv:.3f}\"\n",
    "elif ways == 'one-left':\n",
    "    sp = (stats.norm.cdf(zstat))\n",
    "    cv = stats.norm.ppf(alpha/2)\n",
    "    cv = f\"{cv:.3f}\"\n",
    "    \n",
    "print(f\"[Normal dist.] expectation {mean2:.3f}, var {var2:.3f}\")\n",
    "print(f\" stat: {zstat:.3f}, critival value: {cv}\")\n",
    "print(f\" sig standard: {alpha:.3f}, sigp prob: {sp:.3f}\")"
   ]
  },
  {
   "cell_type": "code",
   "execution_count": null,
   "id": "36cca1ea",
   "metadata": {},
   "outputs": [],
   "source": []
  },
  {
   "cell_type": "code",
   "execution_count": null,
   "id": "fe186493",
   "metadata": {},
   "outputs": [],
   "source": []
  },
  {
   "cell_type": "code",
   "execution_count": null,
   "id": "81e0e0c2",
   "metadata": {},
   "outputs": [],
   "source": []
  },
  {
   "cell_type": "code",
   "execution_count": null,
   "id": "51f7838b",
   "metadata": {},
   "outputs": [],
   "source": []
  },
  {
   "cell_type": "code",
   "execution_count": null,
   "id": "6f539182",
   "metadata": {},
   "outputs": [],
   "source": []
  },
  {
   "cell_type": "code",
   "execution_count": null,
   "id": "f77bfe37",
   "metadata": {},
   "outputs": [],
   "source": []
  },
  {
   "cell_type": "code",
   "execution_count": null,
   "id": "8ef5f78b",
   "metadata": {},
   "outputs": [],
   "source": []
  },
  {
   "cell_type": "code",
   "execution_count": null,
   "id": "4d436b2a",
   "metadata": {},
   "outputs": [],
   "source": []
  },
  {
   "cell_type": "code",
   "execution_count": null,
   "id": "ece41c6f",
   "metadata": {},
   "outputs": [],
   "source": []
  },
  {
   "cell_type": "code",
   "execution_count": null,
   "id": "39432195",
   "metadata": {},
   "outputs": [],
   "source": []
  },
  {
   "cell_type": "code",
   "execution_count": null,
   "id": "796b2d35",
   "metadata": {},
   "outputs": [],
   "source": []
  }
 ],
 "metadata": {
  "kernelspec": {
   "display_name": "adp",
   "language": "python",
   "name": "adp_class"
  },
  "language_info": {
   "codemirror_mode": {
    "name": "ipython",
    "version": 3
   },
   "file_extension": ".py",
   "mimetype": "text/x-python",
   "name": "python",
   "nbconvert_exporter": "python",
   "pygments_lexer": "ipython3",
   "version": "3.7.13"
  }
 },
 "nbformat": 4,
 "nbformat_minor": 5
}
