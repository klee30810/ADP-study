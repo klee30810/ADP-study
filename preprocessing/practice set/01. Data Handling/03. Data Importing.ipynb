{
 "cells": [
  {
   "cell_type": "markdown",
   "id": "2c63a3a3",
   "metadata": {},
   "source": [
    "# 03. Data Importing\n",
    "- os 모듈 함수로 경로 확인 & 설정 가능\n",
    "- 역슬래시는 프로그래밍 언어에서 중요한 기능을 하므로, 특별한 표현이 아님을 나타내야 함"
   ]
  },
  {
   "cell_type": "markdown",
   "id": "e9f61bb2",
   "metadata": {},
   "source": [
    "### 1. 경로 확인하기"
   ]
  },
  {
   "cell_type": "code",
   "execution_count": 1,
   "id": "71107b70",
   "metadata": {},
   "outputs": [
    {
     "data": {
      "text/plain": [
       "'/Users/klee30810/Documents/Career/ADP-study/preprocessing/practice set/01. Data Handling'"
      ]
     },
     "execution_count": 1,
     "metadata": {},
     "output_type": "execute_result"
    }
   ],
   "source": [
    "import os \n",
    "os.getcwd()"
   ]
  },
  {
   "cell_type": "code",
   "execution_count": 2,
   "id": "d37b55a7",
   "metadata": {},
   "outputs": [
    {
     "data": {
      "text/plain": [
       "<_io.TextIOWrapper name='../data/sample folder/sample data.txt' mode='r' encoding='UTF-8'>"
      ]
     },
     "execution_count": 2,
     "metadata": {},
     "output_type": "execute_result"
    }
   ],
   "source": [
    "open(\"../data/sample folder/sample data.txt\")"
   ]
  },
  {
   "cell_type": "code",
   "execution_count": null,
   "id": "a6c47135",
   "metadata": {},
   "outputs": [],
   "source": [
    "os.chdir(path) : 현재 경로를 PATH로 설정"
   ]
  },
  {
   "cell_type": "markdown",
   "id": "6e96ff4c",
   "metadata": {},
   "source": []
  },
  {
   "cell_type": "code",
   "execution_count": null,
   "id": "9438c27d",
   "metadata": {},
   "outputs": [],
   "source": []
  },
  {
   "cell_type": "code",
   "execution_count": null,
   "id": "a36152dc",
   "metadata": {},
   "outputs": [],
   "source": []
  },
  {
   "cell_type": "code",
   "execution_count": null,
   "id": "7a885a35",
   "metadata": {},
   "outputs": [],
   "source": []
  },
  {
   "cell_type": "code",
   "execution_count": null,
   "id": "6e19ce01",
   "metadata": {},
   "outputs": [],
   "source": []
  },
  {
   "cell_type": "code",
   "execution_count": null,
   "id": "93c0d572",
   "metadata": {},
   "outputs": [],
   "source": []
  },
  {
   "cell_type": "code",
   "execution_count": null,
   "id": "767388fa",
   "metadata": {},
   "outputs": [],
   "source": []
  },
  {
   "cell_type": "code",
   "execution_count": null,
   "id": "e3277477",
   "metadata": {},
   "outputs": [],
   "source": []
  },
  {
   "cell_type": "code",
   "execution_count": null,
   "id": "14b28328",
   "metadata": {},
   "outputs": [],
   "source": []
  },
  {
   "cell_type": "code",
   "execution_count": null,
   "id": "7cb25896",
   "metadata": {},
   "outputs": [],
   "source": []
  },
  {
   "cell_type": "code",
   "execution_count": null,
   "id": "242ca22e",
   "metadata": {},
   "outputs": [],
   "source": []
  }
 ],
 "metadata": {
  "kernelspec": {
   "display_name": "adp",
   "language": "python",
   "name": "adp_class"
  },
  "language_info": {
   "codemirror_mode": {
    "name": "ipython",
    "version": 3
   },
   "file_extension": ".py",
   "mimetype": "text/x-python",
   "name": "python",
   "nbconvert_exporter": "python",
   "pygments_lexer": "ipython3",
   "version": "3.7.16"
  }
 },
 "nbformat": 4,
 "nbformat_minor": 5
}
