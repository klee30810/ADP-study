{
 "cells": [
  {
   "cell_type": "markdown",
   "id": "d16021fa",
   "metadata": {},
   "source": [
    "# 1. 리스트와 튜플\n",
    "- 공통점\n",
    "1. 슬라이싱[start:end:step], 인덱싱[i] 가능\n",
    "2. for 문으로 순회 가능\n",
    "- 차이점\n",
    "1. 리스트의 요소는 바꿀수 있으나 튜플의 요소는 바꿀 수 없어, 리스트는 사전의 Key로 사용할 수 없지만, 튜플은 사전의 key로 사용 가능\n",
    "2. 순회속도는 튜플이 약간 더 빠름 => 데이터가 큰 경우에 한해서, 리스트로 작업 후, 튜플로 자료형을 바꾼 후 순회\n",
    "- 리스트 관련함수 : append(x), insert(a, x), remove(x), pop(), index(x), +, extend(list2)"
   ]
  },
  {
   "cell_type": "code",
   "execution_count": 9,
   "id": "fd61b86b",
   "metadata": {},
   "outputs": [
    {
     "name": "stdout",
     "output_type": "stream",
     "text": [
      "list  0.0038051605224609375\n",
      "tuple  0.005181074142456055\n"
     ]
    }
   ],
   "source": [
    "# 순회 속도 비교하기 : 거의 비슷...?\n",
    "import time\n",
    "\n",
    "large_L = list(range(100000))\n",
    "large_T = tuple(range(100000))\n",
    "\n",
    "start_time = time.time()\n",
    "for va1l in large_L:\n",
    "    pass\n",
    "end_time = time.time()\n",
    "print(\"list \", end_time - start_time)\n",
    "\n",
    "start_time = time.time()\n",
    "for val2 in large_T:\n",
    "    pass\n",
    "end_time = time.time()\n",
    "print(\"tuple \", end_time - start_time)"
   ]
  },
  {
   "cell_type": "code",
   "execution_count": 18,
   "id": "958e086d",
   "metadata": {},
   "outputs": [
    {
     "name": "stdout",
     "output_type": "stream",
     "text": [
      "[4, 7, 5, 1, 2, 10, 15]\n",
      "4\n"
     ]
    }
   ],
   "source": [
    "# 리스트 관련 함수\n",
    "l = [4,5,1,2,10]\n",
    "l.append(15)\n",
    "l.insert(1, 7)\n",
    "l.insert(1,1)\n",
    "l.remove(1)\n",
    "print(l)\n",
    "print(l.index(2))"
   ]
  },
  {
   "cell_type": "markdown",
   "id": "92d0baec",
   "metadata": {},
   "source": [
    "# 2. 딕셔너리\n",
    "- 키와 값 쌍으로 이루어진 테이블\n",
    "- 관련 함수 : .keys(), .values(), items()"
   ]
  },
  {
   "cell_type": "code",
   "execution_count": 21,
   "id": "d1024b42",
   "metadata": {},
   "outputs": [
    {
     "name": "stdout",
     "output_type": "stream",
     "text": [
      "{1: 1, 2: 4, 3: 9, 4: 16, 5: 20}\n"
     ]
    }
   ],
   "source": [
    "dic = {1:1, 2:4, 3:9, 4:16}\n",
    "dic[5] = 20 # 새로운 요소 추가\n",
    "print(dic)"
   ]
  },
  {
   "cell_type": "code",
   "execution_count": 22,
   "id": "15ae307c",
   "metadata": {},
   "outputs": [
    {
     "name": "stdout",
     "output_type": "stream",
     "text": [
      "dict_items([(1, 1), (2, 4), (3, 9), (4, 16), (5, 20)])\n"
     ]
    }
   ],
   "source": [
    "print(dic.items())"
   ]
  },
  {
   "cell_type": "code",
   "execution_count": 25,
   "id": "832050f6",
   "metadata": {},
   "outputs": [
    {
     "name": "stdout",
     "output_type": "stream",
     "text": [
      "1 0.5\n",
      "2 2.0\n",
      "3 4.5\n",
      "4 8.0\n",
      "5 10.0\n",
      "{1: 0.25, 2: 1.0, 3: 2.25, 4: 4.0, 5: 5.0}\n"
     ]
    }
   ],
   "source": [
    "for key, val in dic.items():\n",
    "    print(key, val)\n",
    "\n",
    "for key in dic.keys():\n",
    "    dic[key] = dic[key] * 0.5\n",
    "print(dic)"
   ]
  },
  {
   "cell_type": "markdown",
   "id": "f91bf4c9",
   "metadata": {},
   "source": [
    "# 3. 반복문과 Comprehension\n",
    "- 이터레이터 객체 생성\n",
    "1. range(start, end, stop)\n",
    "    - 값을 하나만 넣으면 end, 두 개를 넣으면 end\n",
    "2. itertools 모듈 함수\n",
    "    - itertools.product(*L) : 순회 가능한 여러개의 객체를 순서대로 순회하는 이터레이터 성생\n",
    "    - itertools.combiniations(p, r) : 이터레이터 객체 p에서 크기 r의 가능한 모든 조합\n",
    "    - itertools.permutations(p, r) : 이터레이터 객체 p에서 크기 r의 가능한 모든 순열    \n",
    "- list comprehension : [output for element iterator if 조건]\n",
    "- dictionary comprehension : {key : value for key, val in iterator if 조건}"
   ]
  },
  {
   "cell_type": "code",
   "execution_count": 26,
   "id": "77e10352",
   "metadata": {},
   "outputs": [
    {
     "name": "stdout",
     "output_type": "stream",
     "text": [
      "0 0 0\n",
      "0 0 1\n",
      "0 0 2\n",
      "0 0 3\n",
      "0 0 4\n",
      "0 1 0\n",
      "0 1 1\n",
      "0 1 2\n",
      "0 1 3\n",
      "0 1 4\n",
      "0 2 0\n",
      "0 2 1\n",
      "0 2 2\n",
      "0 2 3\n",
      "0 2 4\n",
      "0 3 0\n",
      "0 3 1\n",
      "0 3 2\n",
      "0 3 3\n",
      "0 3 4\n",
      "0 4 0\n",
      "0 4 1\n",
      "0 4 2\n",
      "0 4 3\n",
      "0 4 4\n",
      "1 0 0\n",
      "1 0 1\n",
      "1 0 2\n",
      "1 0 3\n",
      "1 0 4\n",
      "1 1 0\n",
      "1 1 1\n",
      "1 1 2\n",
      "1 1 3\n",
      "1 1 4\n",
      "1 2 0\n",
      "1 2 1\n",
      "1 2 2\n",
      "1 2 3\n",
      "1 2 4\n",
      "1 3 0\n",
      "1 3 1\n",
      "1 3 2\n",
      "1 3 3\n",
      "1 3 4\n",
      "1 4 0\n",
      "1 4 1\n",
      "1 4 2\n",
      "1 4 3\n",
      "1 4 4\n",
      "2 0 0\n",
      "2 0 1\n",
      "2 0 2\n",
      "2 0 3\n",
      "2 0 4\n",
      "2 1 0\n",
      "2 1 1\n",
      "2 1 2\n",
      "2 1 3\n",
      "2 1 4\n",
      "2 2 0\n",
      "2 2 1\n",
      "2 2 2\n",
      "2 2 3\n",
      "2 2 4\n",
      "2 3 0\n",
      "2 3 1\n",
      "2 3 2\n",
      "2 3 3\n",
      "2 3 4\n",
      "2 4 0\n",
      "2 4 1\n",
      "2 4 2\n",
      "2 4 3\n",
      "2 4 4\n",
      "3 0 0\n",
      "3 0 1\n",
      "3 0 2\n",
      "3 0 3\n",
      "3 0 4\n",
      "3 1 0\n",
      "3 1 1\n",
      "3 1 2\n",
      "3 1 3\n",
      "3 1 4\n",
      "3 2 0\n",
      "3 2 1\n",
      "3 2 2\n",
      "3 2 3\n",
      "3 2 4\n",
      "3 3 0\n",
      "3 3 1\n",
      "3 3 2\n",
      "3 3 3\n",
      "3 3 4\n",
      "3 4 0\n",
      "3 4 1\n",
      "3 4 2\n",
      "3 4 3\n",
      "3 4 4\n",
      "4 0 0\n",
      "4 0 1\n",
      "4 0 2\n",
      "4 0 3\n",
      "4 0 4\n",
      "4 1 0\n",
      "4 1 1\n",
      "4 1 2\n",
      "4 1 3\n",
      "4 1 4\n",
      "4 2 0\n",
      "4 2 1\n",
      "4 2 2\n",
      "4 2 3\n",
      "4 2 4\n",
      "4 3 0\n",
      "4 3 1\n",
      "4 3 2\n",
      "4 3 3\n",
      "4 3 4\n",
      "4 4 0\n",
      "4 4 1\n",
      "4 4 2\n",
      "4 4 3\n",
      "4 4 4\n"
     ]
    }
   ],
   "source": [
    "import itertools\n",
    "\n",
    "cnt = 0\n",
    "for a,b,c in itertools.product(range(5), range(5), range(5)):\n",
    "    print(a,b,c)"
   ]
  },
  {
   "cell_type": "code",
   "execution_count": 27,
   "id": "717de980",
   "metadata": {},
   "outputs": [
    {
     "name": "stdout",
     "output_type": "stream",
     "text": [
      "0 0 0\n",
      "1 1 1\n",
      "2 2 2\n",
      "3 3 3\n",
      "4 4 4\n"
     ]
    }
   ],
   "source": [
    "for a,b,c in zip(range(5), range(5), range(5)):\n",
    "    print(a,b,c)"
   ]
  },
  {
   "cell_type": "code",
   "execution_count": 31,
   "id": "b75321a3",
   "metadata": {},
   "outputs": [
    {
     "name": "stdout",
     "output_type": "stream",
     "text": [
      "('a', 'b', 'c')\n",
      "('a', 'b', 'd')\n",
      "('a', 'c', 'd')\n",
      "('b', 'c', 'd')\n"
     ]
    }
   ],
   "source": [
    "l = [\"a\",\"b\",\"c\",\"d\"]\n",
    "for comb in itertools.combinations(l,3):\n",
    "    print(comb)"
   ]
  },
  {
   "cell_type": "code",
   "execution_count": 32,
   "id": "6f9a1b85",
   "metadata": {},
   "outputs": [
    {
     "data": {
      "text/plain": [
       "[0, 4, 16, 36, 64]"
      ]
     },
     "execution_count": 32,
     "metadata": {},
     "output_type": "execute_result"
    }
   ],
   "source": [
    "l = [x**2 for x in range(10) if x%2 == 0]\n",
    "l"
   ]
  },
  {
   "cell_type": "code",
   "execution_count": 33,
   "id": "ca1ff87c",
   "metadata": {},
   "outputs": [
    {
     "name": "stdout",
     "output_type": "stream",
     "text": [
      "[4, 2, 3, 5, 5, 3, 4, 6, 6, 4, 5, 7]\n"
     ]
    }
   ],
   "source": [
    "X = [1,2,3,'a', 'b']\n",
    "Y = [3,1,2,'c',4]\n",
    "l = [x+y for x,y in itertools.product(X,Y) if type(x)==type(y)==int]\n",
    "print(l)"
   ]
  },
  {
   "cell_type": "code",
   "execution_count": 34,
   "id": "140e9afa",
   "metadata": {},
   "outputs": [
    {
     "data": {
      "text/plain": [
       "{2: 2, 3: 4}"
      ]
     },
     "execution_count": 34,
     "metadata": {},
     "output_type": "execute_result"
    }
   ],
   "source": [
    "dic = {1:'NaN', 2:2, 3:4, 4:'NaN'}\n",
    "dic2 = {x:y for x, y in dic.items() if y != 'NaN'}\n",
    "dic2"
   ]
  },
  {
   "cell_type": "markdown",
   "id": "0c7deb68",
   "metadata": {},
   "source": [
    "# 4. Numpy Data Structure\n",
    "- 효율적인 배열 연산을 위해 개발"
   ]
  },
  {
   "cell_type": "code",
   "execution_count": 6,
   "id": "3fb24fa3",
   "metadata": {},
   "outputs": [
    {
     "name": "stdout",
     "output_type": "stream",
     "text": [
      "np.zeros(10, dtype = int):\n",
      " [0 0 0 0 0 0 0 0 0 0]\n",
      "\n",
      "np.ones((3, 5), dtype = float):\n",
      " [[1. 1. 1. 1. 1.]\n",
      " [1. 1. 1. 1. 1.]\n",
      " [1. 1. 1. 1. 1.]]\n",
      "\n",
      "np.full((3,5), 3.14):\n",
      " [[3.14 3.14 3.14 3.14 3.14]\n",
      " [3.14 3.14 3.14 3.14 3.14]\n",
      " [3.14 3.14 3.14 3.14 3.14]]\n",
      "\n",
      "np.arange(0, 20, 2):\n",
      " [ 0  2  4  6  8 10 12 14 16 18]\n",
      "\n",
      "np.linspace(0, 1, 5):\n",
      " [0.   0.25 0.5  0.75 1.  ]\n",
      "\n",
      "np.random.random((3,3)):\n",
      " [[0.07351308 0.736391   0.28344039]\n",
      " [0.282523   0.92645362 0.75957073]\n",
      " [0.22212444 0.50195743 0.88034966]]\n",
      "\n",
      "np.random.normal(0, 1, (3, 3)):\n",
      " [[ 2.34562639 -0.10205295 -1.8663468 ]\n",
      " [-0.07840066 -1.13730109  2.22371358]\n",
      " [ 1.94213797 -0.17979095 -0.03331728]]\n",
      "\n",
      "np.random.randint(0, 10, (3, 3)):\n",
      " [[9 7 8]\n",
      " [7 9 2]\n",
      " [9 4 9]]\n",
      "\n",
      "np.eye(3):\n",
      " [[1. 0. 0.]\n",
      " [0. 1. 0.]\n",
      " [0. 0. 1.]]\n"
     ]
    }
   ],
   "source": [
    "import numpy as np\n",
    "\n",
    "print(\"np.zeros(10, dtype = int):\\n\", np.zeros(10, dtype=int))\n",
    "print(\"\\nnp.ones((3, 5), dtype = float):\\n\", np.ones((3,5), dtype=float))\n",
    "print(\"\\nnp.full((3,5), 3.14):\\n\", np.full((3,5), 3.14))\n",
    "print(\"\\nnp.arange(0, 20, 2):\\n\", np.arange(0, 20, 2))\n",
    "print(\"\\nnp.linspace(0, 1, 5):\\n\", np.linspace(0,1,5))\n",
    "print(\"\\nnp.random.random((3,3)):\\n\", np.random.random((3,3)))\n",
    "print(\"\\nnp.random.normal(0, 1, (3, 3)):\\n\", np.random.normal(0, 1, (3,3)))\n",
    "print(\"\\nnp.random.randint(0, 10, (3, 3)):\\n\", np.random.randint(0, 10, (3,3)))\n",
    "print(\"\\nnp.eye(3):\\n\", np.eye(3))"
   ]
  },
  {
   "cell_type": "code",
   "execution_count": 7,
   "id": "921ba2ec",
   "metadata": {},
   "outputs": [
    {
     "name": "stdout",
     "output_type": "stream",
     "text": [
      "x2[0, 1] 0.9313436694226871\n",
      "x2[1:4, 2]\n",
      " [0.3903141  0.5721617  0.70085865]\n",
      "x2[0, 2:4]\n",
      " [0.29631304 0.48550378]\n",
      "x2[0:3, 2:4]\n",
      " [[0.29631304 0.48550378]\n",
      " [0.3903141  0.66644969]\n",
      " [0.5721617  0.03805244]]\n"
     ]
    }
   ],
   "source": [
    "# 2차원 배열의 인덱싱 및 슬라이싱\n",
    "x2 = np.random.random(size = (10, 5))\n",
    "\n",
    "print(\"x2[0, 1]\", x2[0, 1])\n",
    "print(\"x2[1:4, 2]\\n\", x2[1:4, 2])\n",
    "print(\"x2[0, 2:4]\\n\", x2[0, 2:4])\n",
    "print(\"x2[0:3, 2:4]\\n\", x2[0:3, 2:4])"
   ]
  },
  {
   "cell_type": "markdown",
   "id": "dd604441",
   "metadata": {},
   "source": [
    "### 유니버설 함수"
   ]
  },
  {
   "cell_type": "code",
   "execution_count": 8,
   "id": "a3bf3d69",
   "metadata": {},
   "outputs": [
    {
     "name": "stdout",
     "output_type": "stream",
     "text": [
      "x + y =  [5 5 5 5]\n",
      "x - y =  [-3 -1  1  3]\n",
      "x * y =  [4 6 6 4]\n",
      "x / y =  [0.25       0.66666667 1.5        4.        ]\n",
      "log x =  [0.         0.69314718 1.09861229 1.38629436]\n"
     ]
    }
   ],
   "source": [
    "# 사용 기초\n",
    "x = np.array([1, 2, 3, 4])\n",
    "y = np.array([4, 3, 2, 1])\n",
    "\n",
    "print(\"x + y = \", x + y)\n",
    "print(\"x - y = \", x - y)\n",
    "print(\"x * y = \", x * y)\n",
    "print(\"x / y = \", x / y)\n",
    "print(\"log x = \", np.log(x))"
   ]
  },
  {
   "cell_type": "code",
   "execution_count": 12,
   "id": "29d87204",
   "metadata": {},
   "outputs": [
    {
     "name": "stdout",
     "output_type": "stream",
     "text": [
      "반복문을 사용한 경우: 44.4359\n",
      "유니버설 함수를 사용한 경우: 7.9511\n"
     ]
    }
   ],
   "source": [
    "import time\n",
    "\n",
    "# 루프와 유니버설 함수의 속도 비교\n",
    "arr_1 = np.random.randint(1, 10, size = 10 ** 8)\n",
    "arr_2 = np.random.randint(1, 10, size = 10 ** 8)\n",
    "\n",
    "### 리스트를 사용하여 벡터의 덧셈 구현\n",
    "t1 = time.time()\n",
    "output = []\n",
    "for va1, val2 in zip(arr_1, arr_2):\n",
    "    output.append(val1+val2)\n",
    "t2 = time.time()\n",
    "print(\"반복문을 사용한 경우:\", round(t2 - t1, 4))\n",
    "### 유니버설 함수를 사용하여 벡터의 덧셈 구현\n",
    "t1 = time.time()\n",
    "output = arr_1 + arr_2\n",
    "t2 = time.time()\n",
    "print(\"유니버설 함수를 사용한 경우:\", round(t2 - t1, 4))"
   ]
  },
  {
   "cell_type": "code",
   "execution_count": 16,
   "id": "217bd52b",
   "metadata": {},
   "outputs": [
    {
     "name": "stdout",
     "output_type": "stream",
     "text": [
      "np.arrange(3) + 5: [5 6 7] \n",
      "\n",
      "np.ones((3,3)) + np.arange(3)\n",
      " [[1. 2. 3.]\n",
      " [1. 2. 3.]\n",
      " [1. 2. 3.]] \n",
      "\n",
      "np.arange(3).reshape(3,1) + np.arange(3)\n",
      " [[0 1 2]\n",
      " [1 2 3]\n",
      " [2 3 4]]\n"
     ]
    }
   ],
   "source": [
    "# 브로드 캐스팅 : 다른 크기의 배열에 유니버설 함수 적용, 큰 차원의 배열에 맞게 작은 배열 확장\n",
    "print(\"np.arrange(3) + 5:\", np.arange(3)+5, '\\n')\n",
    "print(\"np.ones((3,3)) + np.arange(3)\\n\", np.ones((3,3)) + np.arange(3), '\\n')\n",
    "print(\"np.arange(3).reshape(3,1) + np.arange(3)\\n\", np.arange(3).reshape(3,1) + np.arange(3))"
   ]
  },
  {
   "cell_type": "code",
   "execution_count": 17,
   "id": "6077047c",
   "metadata": {},
   "outputs": [
    {
     "name": "stdout",
     "output_type": "stream",
     "text": [
      "Z: \n",
      " [[-0.09185379 -1.21886949  1.58410704]\n",
      " [-0.64041408 -0.48142411  0.78155086]\n",
      " [ 0.49308475 -0.59493745 -0.78531182]\n",
      " [ 1.56759254 -0.08632112  0.51798183]\n",
      " [-0.93582921  0.82553516  0.7857849 ]\n",
      " [-0.64093119  1.05478311  1.04691135]\n",
      " [ 0.51003575  0.4024175  -1.2704861 ]\n",
      " [ 1.68024058  1.95734337 -0.43501383]\n",
      " [-1.53020444 -1.38032679 -1.13951068]\n",
      " [-0.41172093 -0.47820018 -1.08601357]]\n"
     ]
    }
   ],
   "source": [
    "# z-normalization\n",
    "X = np.random.random((10, 3))\n",
    "Xmean = X.mean(axis=0)\n",
    "Xstd = X.std(axis=0)\n",
    "\n",
    "Z = (X-Xmean) / Xstd\n",
    "print(\"Z: \\n\", Z)"
   ]
  },
  {
   "cell_type": "code",
   "execution_count": 20,
   "id": "54f91528",
   "metadata": {},
   "outputs": [
    {
     "name": "stdout",
     "output_type": "stream",
     "text": [
      "3\n",
      "[3 4 5]\n"
     ]
    }
   ],
   "source": [
    "# 비교 연산자\n",
    "L = np.array([1, 2, 3, 4, 5])\n",
    "cond = L >= 3\n",
    "print(sum(cond)) # 조건을 만족하는 요소의 개수\n",
    "print(L[cond])"
   ]
  },
  {
   "cell_type": "markdown",
   "id": "69af9fd0",
   "metadata": {},
   "source": [
    "# Pandas Data Structure\n",
    "- series : 1차원 배열 자료형으로, 인덱스와 값의 쌍으로 구성\n",
    "- dataframe : 2차원 배열으로 값, 행 인덱스, 열 인덱스로 구성\n",
    "- loc (맨뒤 값 포함), iloc(맨 뒤 값 포함안함)"
   ]
  },
  {
   "cell_type": "code",
   "execution_count": 22,
   "id": "fa6193a8",
   "metadata": {},
   "outputs": [
    {
     "data": {
      "text/html": [
       "<div>\n",
       "<style scoped>\n",
       "    .dataframe tbody tr th:only-of-type {\n",
       "        vertical-align: middle;\n",
       "    }\n",
       "\n",
       "    .dataframe tbody tr th {\n",
       "        vertical-align: top;\n",
       "    }\n",
       "\n",
       "    .dataframe thead th {\n",
       "        text-align: right;\n",
       "    }\n",
       "</style>\n",
       "<table border=\"1\" class=\"dataframe\">\n",
       "  <thead>\n",
       "    <tr style=\"text-align: right;\">\n",
       "      <th></th>\n",
       "      <th>col1</th>\n",
       "      <th>col2</th>\n",
       "    </tr>\n",
       "  </thead>\n",
       "  <tbody>\n",
       "    <tr>\n",
       "      <th>a</th>\n",
       "      <td>1</td>\n",
       "      <td>5</td>\n",
       "    </tr>\n",
       "    <tr>\n",
       "      <th>b</th>\n",
       "      <td>2</td>\n",
       "      <td>6</td>\n",
       "    </tr>\n",
       "    <tr>\n",
       "      <th>c</th>\n",
       "      <td>3</td>\n",
       "      <td>7</td>\n",
       "    </tr>\n",
       "    <tr>\n",
       "      <th>d</th>\n",
       "      <td>4</td>\n",
       "      <td>8</td>\n",
       "    </tr>\n",
       "  </tbody>\n",
       "</table>\n",
       "</div>"
      ],
      "text/plain": [
       "   col1  col2\n",
       "a     1     5\n",
       "b     2     6\n",
       "c     3     7\n",
       "d     4     8"
      ]
     },
     "execution_count": 22,
     "metadata": {},
     "output_type": "execute_result"
    }
   ],
   "source": [
    "import pandas as pd\n",
    "\n",
    "S = pd.Series([1, 2, 3, 4], index = ['a', 'b', 'c', 'd'])\n",
    "df = pd.DataFrame({\"col1\": [1, 2, 3, 4],\n",
    "                  \"col2\": [5, 6, 7, 8]}, \n",
    "                  index = ['a', 'b', 'c', 'd'])\n",
    "\n",
    "df.iloc[3:20, 2:4] = 'Changed2'\n",
    "df.iloc[:25]"
   ]
  },
  {
   "cell_type": "code",
   "execution_count": null,
   "id": "ea89e35d",
   "metadata": {},
   "outputs": [],
   "source": []
  },
  {
   "cell_type": "code",
   "execution_count": null,
   "id": "f3572269",
   "metadata": {},
   "outputs": [],
   "source": []
  }
 ],
 "metadata": {
  "kernelspec": {
   "display_name": "adp",
   "language": "python",
   "name": "adp_class"
  },
  "language_info": {
   "codemirror_mode": {
    "name": "ipython",
    "version": 3
   },
   "file_extension": ".py",
   "mimetype": "text/x-python",
   "name": "python",
   "nbconvert_exporter": "python",
   "pygments_lexer": "ipython3",
   "version": "3.7.16"
  }
 },
 "nbformat": 4,
 "nbformat_minor": 5
}
