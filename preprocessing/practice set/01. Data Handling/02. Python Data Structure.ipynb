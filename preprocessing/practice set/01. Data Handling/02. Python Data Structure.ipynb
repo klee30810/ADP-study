{
 "cells": [
  {
   "cell_type": "markdown",
   "id": "d16021fa",
   "metadata": {},
   "source": [
    "# 1. 리스트와 튜플\n",
    "- 공통점\n",
    "1. 슬라이싱[start:end:step], 인덱싱[i] 가능\n",
    "2. for 문으로 순회 가능\n",
    "- 차이점\n",
    "1. 리스트의 요소는 바꿀수 있으나 튜플의 요소는 바꿀 수 없어, 리스트는 사전의 Key로 사용할 수 없지만, 튜플은 사전의 key로 사용 가능\n",
    "2. 순회속도는 튜플이 약간 더 빠름 => 데이터가 큰 경우에 한해서, 리스트로 작업 후, 튜플로 자료형을 바꾼 후 순회\n",
    "- 리스트 관련함수 : append(x), insert(a, x), remove(x), pop(), index(x), +, extend(list2)"
   ]
  },
  {
   "cell_type": "code",
   "execution_count": 9,
   "id": "fd61b86b",
   "metadata": {},
   "outputs": [
    {
     "name": "stdout",
     "output_type": "stream",
     "text": [
      "list  0.0038051605224609375\n",
      "tuple  0.005181074142456055\n"
     ]
    }
   ],
   "source": [
    "# 순회 속도 비교하기 : 거의 비슷...?\n",
    "import time\n",
    "\n",
    "large_L = list(range(100000))\n",
    "large_T = tuple(range(100000))\n",
    "\n",
    "start_time = time.time()\n",
    "for va1l in large_L:\n",
    "    pass\n",
    "end_time = time.time()\n",
    "print(\"list \", end_time - start_time)\n",
    "\n",
    "start_time = time.time()\n",
    "for val2 in large_T:\n",
    "    pass\n",
    "end_time = time.time()\n",
    "print(\"tuple \", end_time - start_time)"
   ]
  },
  {
   "cell_type": "code",
   "execution_count": 18,
   "id": "958e086d",
   "metadata": {},
   "outputs": [
    {
     "name": "stdout",
     "output_type": "stream",
     "text": [
      "[4, 7, 5, 1, 2, 10, 15]\n",
      "4\n"
     ]
    }
   ],
   "source": [
    "# 리스트 관련 함수\n",
    "l = [4,5,1,2,10]\n",
    "l.append(15)\n",
    "l.insert(1, 7)\n",
    "l.insert(1,1)\n",
    "l.remove(1)\n",
    "print(l)\n",
    "print(l.index(2))"
   ]
  },
  {
   "cell_type": "markdown",
   "id": "92d0baec",
   "metadata": {},
   "source": [
    "# 2. 딕셔너리\n",
    "- 키와 값 쌍으로 이루어진 테이블\n",
    "- 관련 함수 : .keys(), .values(), items()"
   ]
  },
  {
   "cell_type": "code",
   "execution_count": 21,
   "id": "d1024b42",
   "metadata": {},
   "outputs": [
    {
     "name": "stdout",
     "output_type": "stream",
     "text": [
      "{1: 1, 2: 4, 3: 9, 4: 16, 5: 20}\n"
     ]
    }
   ],
   "source": [
    "dic = {1:1, 2:4, 3:9, 4:16}\n",
    "dic[5] = 20 # 새로운 요소 추가\n",
    "print(dic)"
   ]
  },
  {
   "cell_type": "code",
   "execution_count": 22,
   "id": "15ae307c",
   "metadata": {},
   "outputs": [
    {
     "name": "stdout",
     "output_type": "stream",
     "text": [
      "dict_items([(1, 1), (2, 4), (3, 9), (4, 16), (5, 20)])\n"
     ]
    }
   ],
   "source": [
    "print(dic.items())"
   ]
  },
  {
   "cell_type": "code",
   "execution_count": 25,
   "id": "832050f6",
   "metadata": {},
   "outputs": [
    {
     "name": "stdout",
     "output_type": "stream",
     "text": [
      "1 0.5\n",
      "2 2.0\n",
      "3 4.5\n",
      "4 8.0\n",
      "5 10.0\n",
      "{1: 0.25, 2: 1.0, 3: 2.25, 4: 4.0, 5: 5.0}\n"
     ]
    }
   ],
   "source": [
    "for key, val in dic.items():\n",
    "    print(key, val)\n",
    "\n",
    "for key in dic.keys():\n",
    "    dic[key] = dic[key] * 0.5\n",
    "print(dic)"
   ]
  },
  {
   "cell_type": "markdown",
   "id": "f91bf4c9",
   "metadata": {},
   "source": [
    "# 3. 반복문과 Comprehension\n",
    "- 이터레이터 객체 생성\n",
    "1. range(start, end, stop)\n",
    "    - 값을 하나만 넣으면 end, 두 개를 넣으면 end\n",
    "2. itertools 모듈 함수\n",
    "    - itertools.product(*L) : 순회 가능한 여러개의 객체를 순서대로 순회하는 이터레이터 성생\n",
    "    - itertools.combiniations(p, r) : 이터레이터 객체 p에서 크기 r의 가능한 모든 조합\n",
    "    - itertools.permutations(p, r) : 이터레이터 객체 p에서 크기 r의 가능한 모든 순열    \n",
    "- list comprehension : [output for element iterator if 조건]\n",
    "- dictionary comprehension : {key : value for key, val in iterator if 조건}"
   ]
  },
  {
   "cell_type": "code",
   "execution_count": 26,
   "id": "77e10352",
   "metadata": {},
   "outputs": [
    {
     "name": "stdout",
     "output_type": "stream",
     "text": [
      "0 0 0\n",
      "0 0 1\n",
      "0 0 2\n",
      "0 0 3\n",
      "0 0 4\n",
      "0 1 0\n",
      "0 1 1\n",
      "0 1 2\n",
      "0 1 3\n",
      "0 1 4\n",
      "0 2 0\n",
      "0 2 1\n",
      "0 2 2\n",
      "0 2 3\n",
      "0 2 4\n",
      "0 3 0\n",
      "0 3 1\n",
      "0 3 2\n",
      "0 3 3\n",
      "0 3 4\n",
      "0 4 0\n",
      "0 4 1\n",
      "0 4 2\n",
      "0 4 3\n",
      "0 4 4\n",
      "1 0 0\n",
      "1 0 1\n",
      "1 0 2\n",
      "1 0 3\n",
      "1 0 4\n",
      "1 1 0\n",
      "1 1 1\n",
      "1 1 2\n",
      "1 1 3\n",
      "1 1 4\n",
      "1 2 0\n",
      "1 2 1\n",
      "1 2 2\n",
      "1 2 3\n",
      "1 2 4\n",
      "1 3 0\n",
      "1 3 1\n",
      "1 3 2\n",
      "1 3 3\n",
      "1 3 4\n",
      "1 4 0\n",
      "1 4 1\n",
      "1 4 2\n",
      "1 4 3\n",
      "1 4 4\n",
      "2 0 0\n",
      "2 0 1\n",
      "2 0 2\n",
      "2 0 3\n",
      "2 0 4\n",
      "2 1 0\n",
      "2 1 1\n",
      "2 1 2\n",
      "2 1 3\n",
      "2 1 4\n",
      "2 2 0\n",
      "2 2 1\n",
      "2 2 2\n",
      "2 2 3\n",
      "2 2 4\n",
      "2 3 0\n",
      "2 3 1\n",
      "2 3 2\n",
      "2 3 3\n",
      "2 3 4\n",
      "2 4 0\n",
      "2 4 1\n",
      "2 4 2\n",
      "2 4 3\n",
      "2 4 4\n",
      "3 0 0\n",
      "3 0 1\n",
      "3 0 2\n",
      "3 0 3\n",
      "3 0 4\n",
      "3 1 0\n",
      "3 1 1\n",
      "3 1 2\n",
      "3 1 3\n",
      "3 1 4\n",
      "3 2 0\n",
      "3 2 1\n",
      "3 2 2\n",
      "3 2 3\n",
      "3 2 4\n",
      "3 3 0\n",
      "3 3 1\n",
      "3 3 2\n",
      "3 3 3\n",
      "3 3 4\n",
      "3 4 0\n",
      "3 4 1\n",
      "3 4 2\n",
      "3 4 3\n",
      "3 4 4\n",
      "4 0 0\n",
      "4 0 1\n",
      "4 0 2\n",
      "4 0 3\n",
      "4 0 4\n",
      "4 1 0\n",
      "4 1 1\n",
      "4 1 2\n",
      "4 1 3\n",
      "4 1 4\n",
      "4 2 0\n",
      "4 2 1\n",
      "4 2 2\n",
      "4 2 3\n",
      "4 2 4\n",
      "4 3 0\n",
      "4 3 1\n",
      "4 3 2\n",
      "4 3 3\n",
      "4 3 4\n",
      "4 4 0\n",
      "4 4 1\n",
      "4 4 2\n",
      "4 4 3\n",
      "4 4 4\n"
     ]
    }
   ],
   "source": [
    "import itertools\n",
    "\n",
    "cnt = 0\n",
    "for a,b,c in itertools.product(range(5), range(5), range(5)):\n",
    "    print(a,b,c)"
   ]
  },
  {
   "cell_type": "code",
   "execution_count": 27,
   "id": "717de980",
   "metadata": {},
   "outputs": [
    {
     "name": "stdout",
     "output_type": "stream",
     "text": [
      "0 0 0\n",
      "1 1 1\n",
      "2 2 2\n",
      "3 3 3\n",
      "4 4 4\n"
     ]
    }
   ],
   "source": [
    "for a,b,c in zip(range(5), range(5), range(5)):\n",
    "    print(a,b,c)"
   ]
  },
  {
   "cell_type": "code",
   "execution_count": 31,
   "id": "b75321a3",
   "metadata": {},
   "outputs": [
    {
     "name": "stdout",
     "output_type": "stream",
     "text": [
      "('a', 'b', 'c')\n",
      "('a', 'b', 'd')\n",
      "('a', 'c', 'd')\n",
      "('b', 'c', 'd')\n"
     ]
    }
   ],
   "source": [
    "l = [\"a\",\"b\",\"c\",\"d\"]\n",
    "for comb in itertools.combinations(l,3):\n",
    "    print(comb)"
   ]
  },
  {
   "cell_type": "code",
   "execution_count": 32,
   "id": "6f9a1b85",
   "metadata": {},
   "outputs": [
    {
     "data": {
      "text/plain": [
       "[0, 4, 16, 36, 64]"
      ]
     },
     "execution_count": 32,
     "metadata": {},
     "output_type": "execute_result"
    }
   ],
   "source": [
    "l = [x**2 for x in range(10) if x%2 == 0]\n",
    "l"
   ]
  },
  {
   "cell_type": "code",
   "execution_count": 33,
   "id": "ca1ff87c",
   "metadata": {},
   "outputs": [
    {
     "name": "stdout",
     "output_type": "stream",
     "text": [
      "[4, 2, 3, 5, 5, 3, 4, 6, 6, 4, 5, 7]\n"
     ]
    }
   ],
   "source": [
    "X = [1,2,3,'a', 'b']\n",
    "Y = [3,1,2,'c',4]\n",
    "l = [x+y for x,y in itertools.product(X,Y) if type(x)==type(y)==int]\n",
    "print(l)"
   ]
  },
  {
   "cell_type": "code",
   "execution_count": 34,
   "id": "140e9afa",
   "metadata": {},
   "outputs": [
    {
     "data": {
      "text/plain": [
       "{2: 2, 3: 4}"
      ]
     },
     "execution_count": 34,
     "metadata": {},
     "output_type": "execute_result"
    }
   ],
   "source": [
    "dic = {1:'NaN', 2:2, 3:4, 4:'NaN'}\n",
    "dic2 = {x:y for x, y in dic.items() if y != 'NaN'}\n",
    "dic2"
   ]
  },
  {
   "cell_type": "code",
   "execution_count": null,
   "id": "48fc00dd",
   "metadata": {},
   "outputs": [],
   "source": []
  },
  {
   "cell_type": "code",
   "execution_count": null,
   "id": "3fb24fa3",
   "metadata": {},
   "outputs": [],
   "source": []
  },
  {
   "cell_type": "code",
   "execution_count": null,
   "id": "921ba2ec",
   "metadata": {},
   "outputs": [],
   "source": []
  },
  {
   "cell_type": "code",
   "execution_count": null,
   "id": "ada5eda8",
   "metadata": {},
   "outputs": [],
   "source": []
  },
  {
   "cell_type": "code",
   "execution_count": null,
   "id": "a3bf3d69",
   "metadata": {},
   "outputs": [],
   "source": []
  },
  {
   "cell_type": "code",
   "execution_count": null,
   "id": "29d87204",
   "metadata": {},
   "outputs": [],
   "source": []
  },
  {
   "cell_type": "code",
   "execution_count": null,
   "id": "217bd52b",
   "metadata": {},
   "outputs": [],
   "source": []
  }
 ],
 "metadata": {
  "kernelspec": {
   "display_name": "adp",
   "language": "python",
   "name": "adp_class"
  },
  "language_info": {
   "codemirror_mode": {
    "name": "ipython",
    "version": 3
   },
   "file_extension": ".py",
   "mimetype": "text/x-python",
   "name": "python",
   "nbconvert_exporter": "python",
   "pygments_lexer": "ipython3",
   "version": "3.7.16"
  }
 },
 "nbformat": 4,
 "nbformat_minor": 5
}
