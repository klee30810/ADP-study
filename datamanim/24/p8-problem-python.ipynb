{
 "cells": [
  {
   "cell_type": "code",
   "execution_count": 1,
   "id": "30a6a3a9",
   "metadata": {
    "_cell_guid": "b1076dfc-b9ad-4769-8c92-a6c4dae69d19",
    "_uuid": "8f2839f25d086af736a60e9eeb907d3b93b6e0e5",
    "execution": {
     "iopub.execute_input": "2022-11-14T19:06:43.341508Z",
     "iopub.status.busy": "2022-11-14T19:06:43.341060Z",
     "iopub.status.idle": "2022-11-14T19:06:43.357830Z",
     "shell.execute_reply": "2022-11-14T19:06:43.357036Z"
    },
    "papermill": {
     "duration": 0.028717,
     "end_time": "2022-11-14T19:06:43.360828",
     "exception": false,
     "start_time": "2022-11-14T19:06:43.332111",
     "status": "completed"
    },
    "tags": []
   },
   "outputs": [],
   "source": [
    "# This Python 3 environment comes with many helpful analytics libraries installed\n",
    "# It is defined by the kaggle/python Docker image: https://github.com/kaggle/docker-python\n",
    "# For example, here's several helpful packages to load\n",
    "\n",
    "import numpy as np # linear algebra\n",
    "import pandas as pd # data processing, CSV file I/O (e.g. pd.read_csv)\n",
    "import matplotlib.pyplot as plt\n",
    "import seaborn as sns\n",
    "\n",
    "import scipy.stats as stats\n",
    "\n",
    "# Input data files are available in the read-only \"../input/\" directory\n",
    "# For example, running this (by clicking run or pressing Shift+Enter) will list all files under the input directory\n",
    "\n",
    "\n",
    "\n",
    "# You can write up to 20GB to the current directory (/kaggle/working/) that gets preserved as output when you create a version using \"Save & Run All\" \n",
    "# You can also write temporary files to /kaggle/temp/, but they won't be saved outside of the current session"
   ]
  },
  {
   "cell_type": "markdown",
   "id": "3ba6e0e2",
   "metadata": {
    "papermill": {
     "duration": 0.005889,
     "end_time": "2022-11-14T19:06:43.373142",
     "exception": false,
     "start_time": "2022-11-14T19:06:43.367253",
     "status": "completed"
    },
    "tags": []
   },
   "source": [
    "# 머신러닝"
   ]
  },
  {
   "cell_type": "markdown",
   "id": "30913e4d",
   "metadata": {
    "papermill": {
     "duration": 0.005927,
     "end_time": "2022-11-14T19:06:43.385192",
     "exception": false,
     "start_time": "2022-11-14T19:06:43.379265",
     "status": "completed"
    },
    "tags": []
   },
   "source": [
    "## 학생 결석 여부 확인 데이터\n",
    "/kaggle/input/adp-p8/problem1.csv\n",
    "\n",
    "\n",
    "성별(sex) 바이너리 : 'F' - 여성 또는 'M' - 남성     \n",
    "나이(age) 숫자: 15 - 22     \n",
    "부모님동거여부 (Pstatus) 바이너리: T: 동거 또는 'A': 별거       \n",
    "엄마학력(Medu) 숫자 : 0 : 없음, 1 : 초등 교육, 2 : 5-9학년, 3 - 중등 교육 또는 4 - 고등 교육    \n",
    "아빠학력(Fedu) 숫자 : 0 : 없음, 1 : 초등 교육, 2 : 5-9학년, 3 - 중등 교육 또는 4 - 고등 교육   \n",
    "주보호자(guardian) 명목형 : '어머니', '아버지' 또는 '기타'     \n",
    "등하교시간(traveltime) 숫자 : 1 : 15분이하, 2 : 15 ~ 30분, 3 : 30분 ~ 1시간, 4 : 1시간 이상       \n",
    "학습시간(studytime) 숫자 : 1 : 2시간이하, 2 : 2~5시간, 3 : 5~10시간, 4 : 10시간이상    \n",
    "학고횟수(failures)  숫자 : 1, 2, 3 else 4     \n",
    "자유시간(freetime) 숫자 : 1(매우 낮음), 2, 3, 4, 5(매우 높음)   \n",
    "가족관계(famrel) 숫자 : 1(매우 나쁨), 2, 3, 4, 5(우수)    "
   ]
  },
  {
   "cell_type": "markdown",
   "id": "36c427c9",
   "metadata": {
    "papermill": {
     "duration": 0.005615,
     "end_time": "2022-11-14T19:06:43.396821",
     "exception": false,
     "start_time": "2022-11-14T19:06:43.391206",
     "status": "completed"
    },
    "tags": []
   },
   "source": [
    "### 1-1 데이터 EDA 및 시각화"
   ]
  },
  {
   "cell_type": "code",
   "execution_count": 2,
   "id": "e10e1480",
   "metadata": {
    "papermill": {
     "duration": 0.005646,
     "end_time": "2022-11-14T19:06:43.408360",
     "exception": false,
     "start_time": "2022-11-14T19:06:43.402714",
     "status": "completed"
    },
    "tags": []
   },
   "outputs": [
    {
     "data": {
      "text/html": [
       "<div>\n",
       "<style scoped>\n",
       "    .dataframe tbody tr th:only-of-type {\n",
       "        vertical-align: middle;\n",
       "    }\n",
       "\n",
       "    .dataframe tbody tr th {\n",
       "        vertical-align: top;\n",
       "    }\n",
       "\n",
       "    .dataframe thead th {\n",
       "        text-align: right;\n",
       "    }\n",
       "</style>\n",
       "<table border=\"1\" class=\"dataframe\">\n",
       "  <thead>\n",
       "    <tr style=\"text-align: right;\">\n",
       "      <th></th>\n",
       "      <th>sex</th>\n",
       "      <th>age</th>\n",
       "      <th>Pstatus</th>\n",
       "      <th>Fedu</th>\n",
       "      <th>Medu</th>\n",
       "      <th>guardian</th>\n",
       "      <th>studytime</th>\n",
       "      <th>traveltime</th>\n",
       "      <th>failures</th>\n",
       "      <th>famrel</th>\n",
       "      <th>freetime</th>\n",
       "      <th>absences</th>\n",
       "    </tr>\n",
       "  </thead>\n",
       "  <tbody>\n",
       "    <tr>\n",
       "      <th>0</th>\n",
       "      <td>F</td>\n",
       "      <td>18.0</td>\n",
       "      <td>A</td>\n",
       "      <td>4</td>\n",
       "      <td>4</td>\n",
       "      <td>mother</td>\n",
       "      <td>2</td>\n",
       "      <td>2.0</td>\n",
       "      <td>0</td>\n",
       "      <td>4</td>\n",
       "      <td>3.0</td>\n",
       "      <td>6</td>\n",
       "    </tr>\n",
       "    <tr>\n",
       "      <th>1</th>\n",
       "      <td>F</td>\n",
       "      <td>17.0</td>\n",
       "      <td>T</td>\n",
       "      <td>1</td>\n",
       "      <td>1</td>\n",
       "      <td>father</td>\n",
       "      <td>2</td>\n",
       "      <td>1.0</td>\n",
       "      <td>0</td>\n",
       "      <td>5</td>\n",
       "      <td>3.0</td>\n",
       "      <td>4</td>\n",
       "    </tr>\n",
       "    <tr>\n",
       "      <th>2</th>\n",
       "      <td>F</td>\n",
       "      <td>15.0</td>\n",
       "      <td>T</td>\n",
       "      <td>1</td>\n",
       "      <td>1</td>\n",
       "      <td>mother</td>\n",
       "      <td>2</td>\n",
       "      <td>1.0</td>\n",
       "      <td>3</td>\n",
       "      <td>4</td>\n",
       "      <td>3.0</td>\n",
       "      <td>10</td>\n",
       "    </tr>\n",
       "    <tr>\n",
       "      <th>3</th>\n",
       "      <td>F</td>\n",
       "      <td>15.0</td>\n",
       "      <td>T</td>\n",
       "      <td>2</td>\n",
       "      <td>4</td>\n",
       "      <td>mother</td>\n",
       "      <td>3</td>\n",
       "      <td>1.0</td>\n",
       "      <td>0</td>\n",
       "      <td>3</td>\n",
       "      <td>2.0</td>\n",
       "      <td>2</td>\n",
       "    </tr>\n",
       "    <tr>\n",
       "      <th>4</th>\n",
       "      <td>F</td>\n",
       "      <td>NaN</td>\n",
       "      <td>T</td>\n",
       "      <td>3</td>\n",
       "      <td>3</td>\n",
       "      <td>father</td>\n",
       "      <td>2</td>\n",
       "      <td>1.0</td>\n",
       "      <td>0</td>\n",
       "      <td>4</td>\n",
       "      <td>3.0</td>\n",
       "      <td>4</td>\n",
       "    </tr>\n",
       "  </tbody>\n",
       "</table>\n",
       "</div>"
      ],
      "text/plain": [
       "  sex   age Pstatus  Fedu  Medu guardian  studytime  traveltime  failures  \\\n",
       "0   F  18.0       A     4     4   mother          2         2.0         0   \n",
       "1   F  17.0       T     1     1   father          2         1.0         0   \n",
       "2   F  15.0       T     1     1   mother          2         1.0         3   \n",
       "3   F  15.0       T     2     4   mother          3         1.0         0   \n",
       "4   F   NaN       T     3     3   father          2         1.0         0   \n",
       "\n",
       "   famrel  freetime  absences  \n",
       "0       4       3.0         6  \n",
       "1       5       3.0         4  \n",
       "2       4       3.0        10  \n",
       "3       3       2.0         2  \n",
       "4       4       3.0         4  "
      ]
     },
     "execution_count": 2,
     "metadata": {},
     "output_type": "execute_result"
    }
   ],
   "source": [
    "df= pd.read_csv('problem1.csv')\n",
    "df.head()"
   ]
  },
  {
   "cell_type": "code",
   "execution_count": 3,
   "id": "b0e4eccf",
   "metadata": {},
   "outputs": [
    {
     "name": "stdout",
     "output_type": "stream",
     "text": [
      "<class 'pandas.core.frame.DataFrame'>\n",
      "RangeIndex: 395 entries, 0 to 394\n",
      "Data columns (total 12 columns):\n",
      " #   Column      Non-Null Count  Dtype  \n",
      "---  ------      --------------  -----  \n",
      " 0   sex         395 non-null    object \n",
      " 1   age         392 non-null    float64\n",
      " 2   Pstatus     395 non-null    object \n",
      " 3   Fedu        395 non-null    int64  \n",
      " 4   Medu        395 non-null    int64  \n",
      " 5   guardian    395 non-null    object \n",
      " 6   studytime   395 non-null    int64  \n",
      " 7   traveltime  392 non-null    float64\n",
      " 8   failures    395 non-null    int64  \n",
      " 9   famrel      395 non-null    int64  \n",
      " 10  freetime    390 non-null    float64\n",
      " 11  absences    395 non-null    int64  \n",
      "dtypes: float64(3), int64(6), object(3)\n",
      "memory usage: 37.2+ KB\n"
     ]
    }
   ],
   "source": [
    "df.info()"
   ]
  },
  {
   "cell_type": "code",
   "execution_count": null,
   "id": "dd9b0333",
   "metadata": {},
   "outputs": [
    {
     "data": {
      "text/plain": [
       "<AxesSubplot:>"
      ]
     },
     "execution_count": 10,
     "metadata": {},
     "output_type": "execute_result"
    },
    {
     "data": {
      "image/png": "[encoded data removed]",
      "text/plain": [
       "<Figure size 640x480 with 2 Axes>"
      ]
     },
     "metadata": {},
     "output_type": "display_data"
    }
   ],
   "source": [
    "# target 변수의 absences와의 상관계수 \n",
    "\n",
    "df_cor = df.corr(method='pearson')\n",
    "sns.heatmap(df_cor, xticklabels=df_cor.columns, yticklabels=df_cor.columns, cmap='RdBu_r', annot=True)"
   ]
  },
  {
   "cell_type": "markdown",
   "id": "64f765e3",
   "metadata": {},
   "source": [
    "- age가 absences와 그나마 연관성이 있어보임\n",
    "- Fedu와 Medu는 다중공선성이 있어보인다, 부모의 학력은 서로 상관이 있다. 비슷한 사람끼리 만난다."
   ]
  },
  {
   "cell_type": "code",
   "execution_count": 29,
   "id": "d803bd08",
   "metadata": {},
   "outputs": [
    {
     "ename": "ValueError",
     "evalue": "could not convert string to float: 'A'",
     "output_type": "error",
     "traceback": [
      "\u001b[0;31m---------------------------------------------------------------------------\u001b[0m",
      "\u001b[0;31mValueError\u001b[0m                                Traceback (most recent call last)",
      "\u001b[1;32m/Users/klee30810/Documents/Career/TIL/TIL_CS/adp/datamanim/24/p8-problem-python.ipynb 셀 9\u001b[0m in \u001b[0;36m<cell line: 3>\u001b[0;34m()\u001b[0m\n\u001b[1;32m      <a href='vscode-notebook-cell:/Users/klee30810/Documents/Career/TIL/TIL_CS/adp/datamanim/24/p8-problem-python.ipynb#X66sZmlsZQ%3D%3D?line=3'>4</a>\u001b[0m     \u001b[39mfor\u001b[39;00m col_name \u001b[39min\u001b[39;00m cols:\n\u001b[1;32m      <a href='vscode-notebook-cell:/Users/klee30810/Documents/Career/TIL/TIL_CS/adp/datamanim/24/p8-problem-python.ipynb#X66sZmlsZQ%3D%3D?line=4'>5</a>\u001b[0m         plt\u001b[39m.\u001b[39msubplot(\u001b[39m3\u001b[39m,\u001b[39m4\u001b[39m,i)\n\u001b[0;32m----> <a href='vscode-notebook-cell:/Users/klee30810/Documents/Career/TIL/TIL_CS/adp/datamanim/24/p8-problem-python.ipynb#X66sZmlsZQ%3D%3D?line=5'>6</a>\u001b[0m         sns\u001b[39m.\u001b[39;49mlmplot(x\u001b[39m=\u001b[39;49mcol_name, y\u001b[39m=\u001b[39;49m\u001b[39m'\u001b[39;49m\u001b[39mabsences\u001b[39;49m\u001b[39m'\u001b[39;49m, data\u001b[39m=\u001b[39;49mdf)\n\u001b[1;32m      <a href='vscode-notebook-cell:/Users/klee30810/Documents/Career/TIL/TIL_CS/adp/datamanim/24/p8-problem-python.ipynb#X66sZmlsZQ%3D%3D?line=6'>7</a>\u001b[0m         plt\u001b[39m.\u001b[39mtitle(col_name)\n\u001b[1;32m      <a href='vscode-notebook-cell:/Users/klee30810/Documents/Career/TIL/TIL_CS/adp/datamanim/24/p8-problem-python.ipynb#X66sZmlsZQ%3D%3D?line=7'>8</a>\u001b[0m plt\u001b[39m.\u001b[39mshow()\n",
      "File \u001b[0;32m~/miniconda3/envs/kmlee/lib/python3.8/site-packages/seaborn/_decorators.py:46\u001b[0m, in \u001b[0;36m_deprecate_positional_args.<locals>.inner_f\u001b[0;34m(*args, **kwargs)\u001b[0m\n\u001b[1;32m     36\u001b[0m     warnings\u001b[39m.\u001b[39mwarn(\n\u001b[1;32m     37\u001b[0m         \u001b[39m\"\u001b[39m\u001b[39mPass the following variable\u001b[39m\u001b[39m{}\u001b[39;00m\u001b[39m as \u001b[39m\u001b[39m{}\u001b[39;00m\u001b[39mkeyword arg\u001b[39m\u001b[39m{}\u001b[39;00m\u001b[39m: \u001b[39m\u001b[39m{}\u001b[39;00m\u001b[39m. \u001b[39m\u001b[39m\"\u001b[39m\n\u001b[1;32m     38\u001b[0m         \u001b[39m\"\u001b[39m\u001b[39mFrom version 0.12, the only valid positional argument \u001b[39m\u001b[39m\"\u001b[39m\n\u001b[0;32m   (...)\u001b[0m\n\u001b[1;32m     43\u001b[0m         \u001b[39mFutureWarning\u001b[39;00m\n\u001b[1;32m     44\u001b[0m     )\n\u001b[1;32m     45\u001b[0m kwargs\u001b[39m.\u001b[39mupdate({k: arg \u001b[39mfor\u001b[39;00m k, arg \u001b[39min\u001b[39;00m \u001b[39mzip\u001b[39m(sig\u001b[39m.\u001b[39mparameters, args)})\n\u001b[0;32m---> 46\u001b[0m \u001b[39mreturn\u001b[39;00m f(\u001b[39m*\u001b[39;49m\u001b[39m*\u001b[39;49mkwargs)\n",
      "File \u001b[0;32m~/miniconda3/envs/kmlee/lib/python3.8/site-packages/seaborn/regression.py:634\u001b[0m, in \u001b[0;36mlmplot\u001b[0;34m(x, y, data, hue, col, row, palette, col_wrap, height, aspect, markers, sharex, sharey, hue_order, col_order, row_order, legend, legend_out, x_estimator, x_bins, x_ci, scatter, fit_reg, ci, n_boot, units, seed, order, logistic, lowess, robust, logx, x_partial, y_partial, truncate, x_jitter, y_jitter, scatter_kws, line_kws, facet_kws, size)\u001b[0m\n\u001b[1;32m    631\u001b[0m     ax\u001b[39m.\u001b[39mupdate_datalim(xys, updatey\u001b[39m=\u001b[39m\u001b[39mFalse\u001b[39;00m)\n\u001b[1;32m    632\u001b[0m     ax\u001b[39m.\u001b[39mautoscale_view(scaley\u001b[39m=\u001b[39m\u001b[39mFalse\u001b[39;00m)\n\u001b[0;32m--> 634\u001b[0m facets\u001b[39m.\u001b[39;49mmap_dataframe(update_datalim, x\u001b[39m=\u001b[39;49mx, y\u001b[39m=\u001b[39;49my)\n\u001b[1;32m    636\u001b[0m \u001b[39m# Draw the regression plot on each facet\u001b[39;00m\n\u001b[1;32m    637\u001b[0m regplot_kws \u001b[39m=\u001b[39m \u001b[39mdict\u001b[39m(\n\u001b[1;32m    638\u001b[0m     x_estimator\u001b[39m=\u001b[39mx_estimator, x_bins\u001b[39m=\u001b[39mx_bins, x_ci\u001b[39m=\u001b[39mx_ci,\n\u001b[1;32m    639\u001b[0m     scatter\u001b[39m=\u001b[39mscatter, fit_reg\u001b[39m=\u001b[39mfit_reg, ci\u001b[39m=\u001b[39mci, n_boot\u001b[39m=\u001b[39mn_boot, units\u001b[39m=\u001b[39munits,\n\u001b[0;32m   (...)\u001b[0m\n\u001b[1;32m    643\u001b[0m     scatter_kws\u001b[39m=\u001b[39mscatter_kws, line_kws\u001b[39m=\u001b[39mline_kws,\n\u001b[1;32m    644\u001b[0m )\n",
      "File \u001b[0;32m~/miniconda3/envs/kmlee/lib/python3.8/site-packages/seaborn/axisgrid.py:777\u001b[0m, in \u001b[0;36mFacetGrid.map_dataframe\u001b[0;34m(self, func, *args, **kwargs)\u001b[0m\n\u001b[1;32m    774\u001b[0m     kwargs[\u001b[39m\"\u001b[39m\u001b[39mdata\u001b[39m\u001b[39m\"\u001b[39m] \u001b[39m=\u001b[39m data_ijk\n\u001b[1;32m    776\u001b[0m     \u001b[39m# Draw the plot\u001b[39;00m\n\u001b[0;32m--> 777\u001b[0m     \u001b[39mself\u001b[39;49m\u001b[39m.\u001b[39;49m_facet_plot(func, ax, args, kwargs)\n\u001b[1;32m    779\u001b[0m \u001b[39m# For axis labels, prefer to use positional args for backcompat\u001b[39;00m\n\u001b[1;32m    780\u001b[0m \u001b[39m# but also extract the x/y kwargs and use if no corresponding arg\u001b[39;00m\n\u001b[1;32m    781\u001b[0m axis_labels \u001b[39m=\u001b[39m [kwargs\u001b[39m.\u001b[39mget(\u001b[39m\"\u001b[39m\u001b[39mx\u001b[39m\u001b[39m\"\u001b[39m, \u001b[39mNone\u001b[39;00m), kwargs\u001b[39m.\u001b[39mget(\u001b[39m\"\u001b[39m\u001b[39my\u001b[39m\u001b[39m\"\u001b[39m, \u001b[39mNone\u001b[39;00m)]\n",
      "File \u001b[0;32m~/miniconda3/envs/kmlee/lib/python3.8/site-packages/seaborn/axisgrid.py:806\u001b[0m, in \u001b[0;36mFacetGrid._facet_plot\u001b[0;34m(self, func, ax, plot_args, plot_kwargs)\u001b[0m\n\u001b[1;32m    804\u001b[0m     plot_args \u001b[39m=\u001b[39m []\n\u001b[1;32m    805\u001b[0m     plot_kwargs[\u001b[39m\"\u001b[39m\u001b[39max\u001b[39m\u001b[39m\"\u001b[39m] \u001b[39m=\u001b[39m ax\n\u001b[0;32m--> 806\u001b[0m func(\u001b[39m*\u001b[39;49mplot_args, \u001b[39m*\u001b[39;49m\u001b[39m*\u001b[39;49mplot_kwargs)\n\u001b[1;32m    808\u001b[0m \u001b[39m# Sort out the supporting information\u001b[39;00m\n\u001b[1;32m    809\u001b[0m \u001b[39mself\u001b[39m\u001b[39m.\u001b[39m_update_legend_data(ax)\n",
      "File \u001b[0;32m~/miniconda3/envs/kmlee/lib/python3.8/site-packages/seaborn/regression.py:630\u001b[0m, in \u001b[0;36mlmplot.<locals>.update_datalim\u001b[0;34m(data, x, y, ax, **kws)\u001b[0m\n\u001b[1;32m    629\u001b[0m \u001b[39mdef\u001b[39;00m \u001b[39mupdate_datalim\u001b[39m(data, x, y, ax, \u001b[39m*\u001b[39m\u001b[39m*\u001b[39mkws):\n\u001b[0;32m--> 630\u001b[0m     xys \u001b[39m=\u001b[39m np\u001b[39m.\u001b[39;49masarray(data[[x, y]])\u001b[39m.\u001b[39;49mastype(\u001b[39mfloat\u001b[39;49m)\n\u001b[1;32m    631\u001b[0m     ax\u001b[39m.\u001b[39mupdate_datalim(xys, updatey\u001b[39m=\u001b[39m\u001b[39mFalse\u001b[39;00m)\n\u001b[1;32m    632\u001b[0m     ax\u001b[39m.\u001b[39mautoscale_view(scaley\u001b[39m=\u001b[39m\u001b[39mFalse\u001b[39;00m)\n",
      "\u001b[0;31mValueError\u001b[0m: could not convert string to float: 'A'"
     ]
    },
    {
     "data": {
      "image/png": "[encoded data removed]",
      "text/plain": [
       "<Figure size 640x480 with 1 Axes>"
      ]
     },
     "metadata": {},
     "output_type": "display_data"
    },
    {
     "data": {
      "image/png": "[encoded data removed]",
      "text/plain": [
       "<Figure size 500x500 with 1 Axes>"
      ]
     },
     "metadata": {},
     "output_type": "display_data"
    },
    {
     "data": {
      "image/png": "[encoded data removed]",
      "text/plain": [
       "<Figure size 500x500 with 1 Axes>"
      ]
     },
     "metadata": {},
     "output_type": "display_data"
    }
   ],
   "source": [
    "cols = list(set(df.columns) - set('absences'))\n",
    "\n",
    "for i in range(1,12,1):\n",
    "    for col_name in cols:\n",
    "        plt.subplot(3,4,i)\n",
    "        sns.lmplot(x=col_name, y='absences', data=df)\n",
    "        plt.title(col_name)\n",
    "plt.show()\n"
   ]
  },
  {
   "cell_type": "markdown",
   "id": "98ff78c9",
   "metadata": {
    "papermill": {
     "duration": 0.005591,
     "end_time": "2022-11-14T19:06:43.419844",
     "exception": false,
     "start_time": "2022-11-14T19:06:43.414253",
     "status": "completed"
    },
    "tags": []
   },
   "source": [
    "### 1-2 결측치 처리 및 변화 시각화, 추가 전처리가 필요하다면 이유와 기대효과를 설명하라"
   ]
  },
  {
   "cell_type": "markdown",
   "id": "4ea0c47b",
   "metadata": {
    "papermill": {
     "duration": 0.005562,
     "end_time": "2022-11-14T19:06:43.431337",
     "exception": false,
     "start_time": "2022-11-14T19:06:43.425775",
     "status": "completed"
    },
    "tags": []
   },
   "source": [
    "결측치의 갯수가 많지 않으므로 (traveltime:0.7%, freetime:1%, age: 0.7%) 해당하므로 해당 데이터를 drop 하는 정도로 마무리한다."
   ]
  },
  {
   "cell_type": "code",
   "execution_count": 15,
   "id": "6bf2f91d",
   "metadata": {},
   "outputs": [
    {
     "name": "stdout",
     "output_type": "stream",
     "text": [
      "<class 'pandas.core.frame.DataFrame'>\n",
      "Int64Index: 384 entries, 0 to 394\n",
      "Data columns (total 12 columns):\n",
      " #   Column      Non-Null Count  Dtype  \n",
      "---  ------      --------------  -----  \n",
      " 0   sex         384 non-null    object \n",
      " 1   age         384 non-null    float64\n",
      " 2   Pstatus     384 non-null    object \n",
      " 3   Fedu        384 non-null    int64  \n",
      " 4   Medu        384 non-null    int64  \n",
      " 5   guardian    384 non-null    object \n",
      " 6   studytime   384 non-null    int64  \n",
      " 7   traveltime  384 non-null    float64\n",
      " 8   failures    384 non-null    int64  \n",
      " 9   famrel      384 non-null    int64  \n",
      " 10  freetime    384 non-null    float64\n",
      " 11  absences    384 non-null    int64  \n",
      "dtypes: float64(3), int64(6), object(3)\n",
      "memory usage: 39.0+ KB\n"
     ]
    }
   ],
   "source": [
    "df = df.dropna()\n",
    "df.info()"
   ]
  },
  {
   "cell_type": "code",
   "execution_count": null,
   "id": "88ddca70",
   "metadata": {},
   "outputs": [],
   "source": []
  },
  {
   "cell_type": "code",
   "execution_count": null,
   "id": "38fad8da",
   "metadata": {},
   "outputs": [],
   "source": []
  },
  {
   "cell_type": "code",
   "execution_count": null,
   "id": "ec4c6f8b",
   "metadata": {},
   "outputs": [],
   "source": []
  },
  {
   "cell_type": "markdown",
   "id": "eface53c",
   "metadata": {
    "papermill": {
     "duration": 0.007205,
     "end_time": "2022-11-14T19:06:43.444430",
     "exception": false,
     "start_time": "2022-11-14T19:06:43.437225",
     "status": "completed"
    },
    "tags": []
   },
   "source": [
    "### 1-3 결석일수 예측모델을 2개 제시하고 선택한 근거 설명"
   ]
  },
  {
   "cell_type": "code",
   "execution_count": null,
   "id": "05159f01",
   "metadata": {
    "papermill": {
     "duration": 0.005552,
     "end_time": "2022-11-14T19:06:43.455884",
     "exception": false,
     "start_time": "2022-11-14T19:06:43.450332",
     "status": "completed"
    },
    "tags": []
   },
   "outputs": [],
   "source": []
  },
  {
   "cell_type": "markdown",
   "id": "7ceff4ac",
   "metadata": {
    "papermill": {
     "duration": 0.005561,
     "end_time": "2022-11-14T19:06:43.467316",
     "exception": false,
     "start_time": "2022-11-14T19:06:43.461755",
     "status": "completed"
    },
    "tags": []
   },
   "source": [
    "### 1-4 선정한 모델 2가지 생성 및 모델의 평가 기준을 선정하고 선정 이유 설명"
   ]
  },
  {
   "cell_type": "code",
   "execution_count": null,
   "id": "426b17e2",
   "metadata": {
    "papermill": {
     "duration": 0.005601,
     "end_time": "2022-11-14T19:06:43.478709",
     "exception": false,
     "start_time": "2022-11-14T19:06:43.473108",
     "status": "completed"
    },
    "tags": []
   },
   "outputs": [],
   "source": []
  },
  {
   "cell_type": "markdown",
   "id": "84a4bcf2",
   "metadata": {
    "papermill": {
     "duration": 0.005595,
     "end_time": "2022-11-14T19:06:43.492314",
     "exception": false,
     "start_time": "2022-11-14T19:06:43.486719",
     "status": "completed"
    },
    "tags": []
   },
   "source": [
    "### 1-5 모델이 다양한 일상 상황에서도 잘 동작한다는 것을 설명하고 시각화 하라"
   ]
  },
  {
   "cell_type": "code",
   "execution_count": null,
   "id": "77a82ee7",
   "metadata": {
    "papermill": {
     "duration": 0.005513,
     "end_time": "2022-11-14T19:06:43.503624",
     "exception": false,
     "start_time": "2022-11-14T19:06:43.498111",
     "status": "completed"
    },
    "tags": []
   },
   "outputs": [],
   "source": []
  },
  {
   "cell_type": "markdown",
   "id": "32be2179",
   "metadata": {
    "papermill": {
     "duration": 0.00561,
     "end_time": "2022-11-14T19:06:43.515171",
     "exception": false,
     "start_time": "2022-11-14T19:06:43.509561",
     "status": "completed"
    },
    "tags": []
   },
   "source": [
    "## 1-6 모델 최적화 방안에 대해 구체적으로 설명하라"
   ]
  },
  {
   "cell_type": "code",
   "execution_count": null,
   "id": "cb538cfd",
   "metadata": {
    "papermill": {
     "duration": 0.005565,
     "end_time": "2022-11-14T19:06:43.526494",
     "exception": false,
     "start_time": "2022-11-14T19:06:43.520929",
     "status": "completed"
    },
    "tags": []
   },
   "outputs": [],
   "source": []
  },
  {
   "cell_type": "markdown",
   "id": "5318c103",
   "metadata": {
    "papermill": {
     "duration": 0.00556,
     "end_time": "2022-11-14T19:06:43.537997",
     "exception": false,
     "start_time": "2022-11-14T19:06:43.532437",
     "status": "completed"
    },
    "tags": []
   },
   "source": [
    "# 통계분석"
   ]
  },
  {
   "cell_type": "markdown",
   "id": "9dd94a6f",
   "metadata": {
    "papermill": {
     "duration": 0.005575,
     "end_time": "2022-11-14T19:06:43.549350",
     "exception": false,
     "start_time": "2022-11-14T19:06:43.543775",
     "status": "completed"
    },
    "tags": []
   },
   "source": [
    "# 2\n",
    "## 광고횟수와 광고비에 따른 매출액의 데이터이다. \n",
    "/kaggle/input/adp-p8/problem2.csv"
   ]
  },
  {
   "cell_type": "markdown",
   "id": "4747744c",
   "metadata": {
    "papermill": {
     "duration": 0.005624,
     "end_time": "2022-11-14T19:06:43.560886",
     "exception": false,
     "start_time": "2022-11-14T19:06:43.555262",
     "status": "completed"
    },
    "tags": []
   },
   "source": [
    "### 2-1 광고비 변수를 가변수 처리후 다중회귀를 수행하여 회귀계수가 유의한지 검정"
   ]
  },
  {
   "cell_type": "code",
   "execution_count": null,
   "id": "aeb54e36",
   "metadata": {
    "papermill": {
     "duration": 0.005555,
     "end_time": "2022-11-14T19:06:43.572310",
     "exception": false,
     "start_time": "2022-11-14T19:06:43.566755",
     "status": "completed"
    },
    "tags": []
   },
   "outputs": [],
   "source": []
  },
  {
   "cell_type": "markdown",
   "id": "9bc9567c",
   "metadata": {
    "papermill": {
     "duration": 0.005634,
     "end_time": "2022-11-14T19:06:43.583874",
     "exception": false,
     "start_time": "2022-11-14T19:06:43.578240",
     "status": "completed"
    },
    "tags": []
   },
   "source": [
    "### 2-2 회귀식이 유의한지 판단"
   ]
  },
  {
   "cell_type": "code",
   "execution_count": null,
   "id": "8d5abd2d",
   "metadata": {
    "papermill": {
     "duration": 0.005551,
     "end_time": "2022-11-14T19:06:43.595186",
     "exception": false,
     "start_time": "2022-11-14T19:06:43.589635",
     "status": "completed"
    },
    "tags": []
   },
   "outputs": [],
   "source": []
  },
  {
   "cell_type": "markdown",
   "id": "6a96a7d6",
   "metadata": {
    "papermill": {
     "duration": 0.005599,
     "end_time": "2022-11-14T19:06:43.606715",
     "exception": false,
     "start_time": "2022-11-14T19:06:43.601116",
     "status": "completed"
    },
    "tags": []
   },
   "source": [
    "# 3\n",
    "## A생산라인의 제품 평균은 5.7mm이고 표준편차는 0.03, B생산라인의 제품 평균은 5.6mm이고 표준편차는 0.04라면 5%유의수준으로 두 제품의 평균이 차이가 있는지 여부를 검정하기 Z(0.05) = 1.65"
   ]
  },
  {
   "cell_type": "markdown",
   "id": "5403c343",
   "metadata": {
    "papermill": {
     "duration": 0.005655,
     "end_time": "2022-11-14T19:06:43.618180",
     "exception": false,
     "start_time": "2022-11-14T19:06:43.612525",
     "status": "completed"
    },
    "tags": []
   },
   "source": [
    "### 3-1 귀무가설과 대립가설을 세워라 "
   ]
  },
  {
   "cell_type": "code",
   "execution_count": null,
   "id": "2fe66966",
   "metadata": {
    "papermill": {
     "duration": 0.005554,
     "end_time": "2022-11-14T19:06:43.629656",
     "exception": false,
     "start_time": "2022-11-14T19:06:43.624102",
     "status": "completed"
    },
    "tags": []
   },
   "outputs": [],
   "source": []
  },
  {
   "cell_type": "markdown",
   "id": "ca8bedd2",
   "metadata": {
    "papermill": {
     "duration": 0.005581,
     "end_time": "2022-11-14T19:06:43.641067",
     "exception": false,
     "start_time": "2022-11-14T19:06:43.635486",
     "status": "completed"
    },
    "tags": []
   },
   "source": [
    "### 3-2 두 평균이 차이가 있는지 검정하라"
   ]
  },
  {
   "cell_type": "code",
   "execution_count": null,
   "id": "09b209dd",
   "metadata": {
    "papermill": {
     "duration": 0.005584,
     "end_time": "2022-11-14T19:06:43.652760",
     "exception": false,
     "start_time": "2022-11-14T19:06:43.647176",
     "status": "completed"
    },
    "tags": []
   },
   "outputs": [],
   "source": []
  },
  {
   "cell_type": "markdown",
   "id": "3cf14281",
   "metadata": {
    "papermill": {
     "duration": 0.00563,
     "end_time": "2022-11-14T19:06:43.664246",
     "exception": false,
     "start_time": "2022-11-14T19:06:43.658616",
     "status": "completed"
    },
    "tags": []
   },
   "source": [
    "# 4\n",
    "## 바이러스 감염 분류표를 보고 베이지안 분류 방법을 사용해 양성으로 예측된 사람이 실제로 양성일 확률을 구하라\n",
    "![image](https://github.com/Datamanim/datarepo/blob/main/adp/p8/problem4.png?raw=true)"
   ]
  },
  {
   "cell_type": "code",
   "execution_count": null,
   "id": "42fb7558",
   "metadata": {
    "papermill": {
     "duration": 0.005586,
     "end_time": "2022-11-14T19:06:43.675833",
     "exception": false,
     "start_time": "2022-11-14T19:06:43.670247",
     "status": "completed"
    },
    "tags": []
   },
   "outputs": [],
   "source": []
  },
  {
   "cell_type": "markdown",
   "id": "bb52cd27",
   "metadata": {
    "papermill": {
     "duration": 0.005603,
     "end_time": "2022-11-14T19:06:43.687318",
     "exception": false,
     "start_time": "2022-11-14T19:06:43.681715",
     "status": "completed"
    },
    "tags": []
   },
   "source": [
    "# 5 주어진 데이터에서 신뢰구간을 구하려한다\n",
    "정규분포에서 표폰을 추출함[Z(0.05) = -1.65 , Z(0.025) = -1.96, T(0.05, 8) = 1.860 , T0.025(0.025, 8) = 2.306]     \n",
    "데이터(9개) : [3.1, 3.3, 3.5, 3.7, 3.9, 4.1, 4.3 4.4, 4.7]"
   ]
  },
  {
   "cell_type": "markdown",
   "id": "05eaa8e7",
   "metadata": {
    "papermill": {
     "duration": 0.00554,
     "end_time": "2022-11-14T19:06:43.698858",
     "exception": false,
     "start_time": "2022-11-14T19:06:43.693318",
     "status": "completed"
    },
    "tags": []
   },
   "source": [
    "### 5-1 모분산을 모르는 경우 주어진 데이터의 95% 신뢰구간을 구하라"
   ]
  },
  {
   "cell_type": "code",
   "execution_count": null,
   "id": "050b1447",
   "metadata": {
    "papermill": {
     "duration": 0.005604,
     "end_time": "2022-11-14T19:06:43.710403",
     "exception": false,
     "start_time": "2022-11-14T19:06:43.704799",
     "status": "completed"
    },
    "tags": []
   },
   "outputs": [],
   "source": []
  },
  {
   "cell_type": "markdown",
   "id": "2e6af917",
   "metadata": {
    "papermill": {
     "duration": 0.005745,
     "end_time": "2022-11-14T19:06:43.722278",
     "exception": false,
     "start_time": "2022-11-14T19:06:43.716533",
     "status": "completed"
    },
    "tags": []
   },
   "source": [
    "### sigma = 0.04인걸 알고있을때의 95% 신뢰구간을 구하라 "
   ]
  },
  {
   "cell_type": "code",
   "execution_count": null,
   "id": "60ae92b9",
   "metadata": {
    "papermill": {
     "duration": 0.0056,
     "end_time": "2022-11-14T19:06:43.733845",
     "exception": false,
     "start_time": "2022-11-14T19:06:43.728245",
     "status": "completed"
    },
    "tags": []
   },
   "outputs": [],
   "source": []
  }
 ],
 "metadata": {
  "kernelspec": {
   "display_name": "Python 3.8.13 ('kmlee')",
   "language": "python",
   "name": "python3"
  },
  "language_info": {
   "codemirror_mode": {
    "name": "ipython",
    "version": 3
   },
   "file_extension": ".py",
   "mimetype": "text/x-python",
   "name": "python",
   "nbconvert_exporter": "python",
   "pygments_lexer": "ipython3",
   "version": "3.8.13"
  },
  "papermill": {
   "default_parameters": {},
   "duration": 9.428984,
   "end_time": "2022-11-14T19:06:44.361113",
   "environment_variables": {},
   "exception": null,
   "input_path": "__notebook__.ipynb",
   "output_path": "__notebook__.ipynb",
   "parameters": {},
   "start_time": "2022-11-14T19:06:34.932129",
   "version": "2.3.4"
  },
  "vscode": {
   "interpreter": {
    "hash": "d50b53f7eecc192699096c3b322d2e418f52a0f23d06ad75ff9fc286d66daf3a"
   }
  }
 },
 "nbformat": 4,
 "nbformat_minor": 5
}
