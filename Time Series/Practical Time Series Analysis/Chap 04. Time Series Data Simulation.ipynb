{
 "cells": [
  {
   "cell_type": "code",
   "execution_count": 1,
   "id": "7a336725",
   "metadata": {},
   "outputs": [],
   "source": [
    "import pandas as pd\n",
    "import numpy as np\n",
    "\n",
    "import seaborn as sns\n",
    "import seaborn.objects as os\n",
    "import matplotlib.pyplot as plt\n",
    "\n",
    "import warnings\n",
    "warnings.filterwarnings('ignore')\n",
    "\n",
    "import scipy.stats as stats\n",
    "import statsmodels.api as sm\n",
    "import statsmodels.formula.api as smf"
   ]
  },
  {
   "cell_type": "markdown",
   "id": "877ecdf5",
   "metadata": {},
   "source": [
    "# Chap 4. 시계열 데이터의 시뮬레이션\n",
    "- 시뮬레이션으로 시계열 데이터를 생성하는 방법\n",
    "    - 발견적 시뮬레이션 (heuristic) : 세상이 움직여야 하는 타당한 방식 결정 후 코드로 옮김\n",
    "    - 이산사건 시뮬레이션 (discrete event) : 세상의 규칙을 적용받는 개별 액터를 만들고 실행하여 관차\n",
    "    - 물리기반 시뮬레이션 (physics-based) : 물리법칙 적용하여 진화방식 관찰\n",
    "\n",
    "## 4.1 시계열 시뮬레이션의 특별한 점\n",
    "## 4.1.1 시뮬레이션과 예측\n",
    "- 정성적 관측을 예측보다 시뮬레이션에 통합하는 것이 더 쉬울 수 있음\n",
    "- 시뮬레이션은 확장 가능한 형태로 실행되므로 여러 시나리오 관찰 가능 / 예측은 시뮬레이션보다 신중하게 처리 필요\n",
    "- 시뮬레이션은 예측보다 위험부담이 적음 : 가상이므로 실제 자원의 투입이 필요없음\n",
    "    => 처음부터 창의적이고 탐구적인 자세로 시뮬레이션 설계 가능\n",
    "    \n",
    "## 4.2 코드로 보는 시뮬레이션\n",
    "### 4.2.1 직접 만들어보기"
   ]
  },
  {
   "cell_type": "code",
   "execution_count": null,
   "id": "6ed2a6b2",
   "metadata": {},
   "outputs": [],
   "source": []
  },
  {
   "cell_type": "code",
   "execution_count": null,
   "id": "5ae75bf8",
   "metadata": {},
   "outputs": [],
   "source": []
  },
  {
   "cell_type": "code",
   "execution_count": null,
   "id": "854105ca",
   "metadata": {},
   "outputs": [],
   "source": []
  },
  {
   "cell_type": "code",
   "execution_count": null,
   "id": "56d1c3d8",
   "metadata": {},
   "outputs": [],
   "source": []
  },
  {
   "cell_type": "code",
   "execution_count": null,
   "id": "4bba07e5",
   "metadata": {},
   "outputs": [],
   "source": []
  },
  {
   "cell_type": "code",
   "execution_count": null,
   "id": "172d8a81",
   "metadata": {},
   "outputs": [],
   "source": []
  },
  {
   "cell_type": "code",
   "execution_count": null,
   "id": "73bd1034",
   "metadata": {},
   "outputs": [],
   "source": []
  },
  {
   "cell_type": "code",
   "execution_count": null,
   "id": "2d759b53",
   "metadata": {},
   "outputs": [],
   "source": []
  },
  {
   "cell_type": "code",
   "execution_count": null,
   "id": "48ad2d43",
   "metadata": {},
   "outputs": [],
   "source": []
  },
  {
   "cell_type": "code",
   "execution_count": null,
   "id": "5ad9d368",
   "metadata": {},
   "outputs": [],
   "source": []
  },
  {
   "cell_type": "code",
   "execution_count": null,
   "id": "6b69daf2",
   "metadata": {},
   "outputs": [],
   "source": []
  },
  {
   "cell_type": "code",
   "execution_count": null,
   "id": "59f44369",
   "metadata": {},
   "outputs": [],
   "source": []
  },
  {
   "cell_type": "code",
   "execution_count": null,
   "id": "b38a6ee0",
   "metadata": {},
   "outputs": [],
   "source": []
  },
  {
   "cell_type": "code",
   "execution_count": null,
   "id": "f0c0b842",
   "metadata": {},
   "outputs": [],
   "source": []
  }
 ],
 "metadata": {
  "kernelspec": {
   "display_name": "adp",
   "language": "python",
   "name": "adp_class"
  },
  "language_info": {
   "codemirror_mode": {
    "name": "ipython",
    "version": 3
   },
   "file_extension": ".py",
   "mimetype": "text/x-python",
   "name": "python",
   "nbconvert_exporter": "python",
   "pygments_lexer": "ipython3",
   "version": "3.7.16"
  }
 },
 "nbformat": 4,
 "nbformat_minor": 5
}
