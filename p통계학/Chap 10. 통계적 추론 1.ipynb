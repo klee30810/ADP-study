{
 "cells": [
  {
   "cell_type": "markdown",
   "id": "167ecd0e",
   "metadata": {},
   "source": [
    "# Chap 10  통계적 추론 (표본의 크기가 클 때)"
   ]
  },
  {
   "cell_type": "code",
   "execution_count": 1,
   "id": "55c03712",
   "metadata": {},
   "outputs": [],
   "source": [
    "import pandas as pd\n",
    "import numpy as np\n",
    "import matplotlib.pyplot as plt\n",
    "import seaborn as sns"
   ]
  },
  {
   "cell_type": "code",
   "execution_count": 2,
   "id": "da4e6403",
   "metadata": {},
   "outputs": [
    {
     "name": "stdout",
     "output_type": "stream",
     "text": [
      "<class 'pandas.core.frame.DataFrame'>\n",
      "RangeIndex: 30 entries, 0 to 29\n",
      "Data columns (total 1 columns):\n",
      " #   Column  Non-Null Count  Dtype\n",
      "---  ------  --------------  -----\n",
      " 0   0       30 non-null     int64\n",
      "dtypes: int64(1)\n",
      "memory usage: 368.0 bytes\n"
     ]
    }
   ],
   "source": [
    "# example 12\n",
    "path = '../data/pstat/예제, 연습문제/'\n",
    "data = pd.read_excel(path + 'ch10.xlsx',sheet_name='예제1',header=None)\n",
    "data.info()"
   ]
  },
  {
   "cell_type": "code",
   "execution_count": 4,
   "id": "971b2488",
   "metadata": {},
   "outputs": [
    {
     "data": {
      "text/html": [
       "<div>\n",
       "<style scoped>\n",
       "    .dataframe tbody tr th:only-of-type {\n",
       "        vertical-align: middle;\n",
       "    }\n",
       "\n",
       "    .dataframe tbody tr th {\n",
       "        vertical-align: top;\n",
       "    }\n",
       "\n",
       "    .dataframe thead th {\n",
       "        text-align: right;\n",
       "    }\n",
       "</style>\n",
       "<table border=\"1\" class=\"dataframe\">\n",
       "  <thead>\n",
       "    <tr style=\"text-align: right;\">\n",
       "      <th></th>\n",
       "      <th>0</th>\n",
       "    </tr>\n",
       "  </thead>\n",
       "  <tbody>\n",
       "    <tr>\n",
       "      <th>count</th>\n",
       "      <td>30.000000</td>\n",
       "    </tr>\n",
       "    <tr>\n",
       "      <th>mean</th>\n",
       "      <td>160.200000</td>\n",
       "    </tr>\n",
       "    <tr>\n",
       "      <th>std</th>\n",
       "      <td>5.990798</td>\n",
       "    </tr>\n",
       "    <tr>\n",
       "      <th>min</th>\n",
       "      <td>150.000000</td>\n",
       "    </tr>\n",
       "    <tr>\n",
       "      <th>25%</th>\n",
       "      <td>156.000000</td>\n",
       "    </tr>\n",
       "    <tr>\n",
       "      <th>50%</th>\n",
       "      <td>161.000000</td>\n",
       "    </tr>\n",
       "    <tr>\n",
       "      <th>75%</th>\n",
       "      <td>165.000000</td>\n",
       "    </tr>\n",
       "    <tr>\n",
       "      <th>max</th>\n",
       "      <td>170.000000</td>\n",
       "    </tr>\n",
       "  </tbody>\n",
       "</table>\n",
       "</div>"
      ],
      "text/plain": [
       "                0\n",
       "count   30.000000\n",
       "mean   160.200000\n",
       "std      5.990798\n",
       "min    150.000000\n",
       "25%    156.000000\n",
       "50%    161.000000\n",
       "75%    165.000000\n",
       "max    170.000000"
      ]
     },
     "execution_count": 4,
     "metadata": {},
     "output_type": "execute_result"
    }
   ],
   "source": [
    "data.describe()"
   ]
  },
  {
   "cell_type": "markdown",
   "id": "636c4fd2",
   "metadata": {},
   "source": [
    "## 10.2 모평균의 추정 (표본의 크기가 클 때)\n",
    "\n",
    "### 점추정\n",
    "- 추정하고자 하는 하나의 모수에 대하여 이 n개의 확률변수로 하나의 통계량을 만들고 주어진 표본으로부터 그 값을 계산하여 하나의 수치를 제시\n",
    "- 추정량 : 모수를 추정하기 위해 만들어진 통계량\n",
    "- 추정치 : 주어진 관측값으로부터 계산된 추정량\n",
    "\n",
    "$$E(\\bar{X})=\\mu,\\quad SE(\\bar{X})=\\frac{\\sigma}{\\sqrt{n}}\\\\ \\sigma\\approx s=\\sqrt{\\frac{1}{n-1}\\sum^n_{i=1}(X_i-\\bar{X})^2}=\\sqrt{\\frac{1}{n=1}(\\sum^n_{i=1}X_i^2-n\\bar{X}^2)}$$\n",
    "\n"
   ]
  },
  {
   "cell_type": "markdown",
   "id": "f66372f1",
   "metadata": {},
   "source": [
    "### 구간추정\n",
    "- 추정량의 분포를 이용하여 표본으로부터 모수 값을 포함하리라고 하는 예상구간(신뢰구간) 제시\n",
    "- 신뢰구간이 모수를 포함확률은 1보다는 작은 일정 수준에서 유지시키면서 구간의 길이를 줄이는 것이 좋음, 모수를 포함할 확률은 대개 90%, 95%, 99% => 신뢰수준\n",
    "\n",
    "예) 모집단이 정규분포이고 표준편차 주어짐 : $N(\\mu,\\ \\sigma/\\sqrt{n})$\n",
    "    - 표준화 된 표본평균 $\\frac{\\bar(X)-\\mu}{\\sigma/\\sqrt{n}} ~ N(0,1)$\n",
    "    $$ P(|\\frac{\\bar{X}-\\mu}{\\sigma/ \\sqrt{n}}|)=1-\\alpha \\\\ if\\ \\alpha=0.05,\\quad P(\\bar{X}-z_{\\alpha/2}\\frac{\\sigma}{\\sqrt{n}}<\\mu<\\bar{X}+z_{\\alpha/2}\\frac{\\sigma}{\\sqrt{n}})=1-\\alpha$$\n",
    "=> $\\mu에\\ 대한\\ 100(1-\\alpha)\\%\\ 신뢰구간=(\\bar{X}-z_{\\alpha/2}\\frac{\\sigma}{\\sqrt{n}},\\ \\bar{X}+z_{\\alpha/2}\\frac{\\sigma}{\\sqrt{n}})\\\\ 오차범위 : z_{\\alpha/2}\\frac{\\sigma}{\\sqrt{n}}$\n",
    "    - 신뢰구간 중심 : $\\bar{X}$, 길이 : $2\\times z_{\\alpha/2}\\frac{\\sigma}{\\sqrt{n}}$\n",
    "    => $\\sigma$가 작을수록 신뢰구간의 길이가 짧아지고, 신뢰수준($\\alpha$)을 높일 수록, $z_{\\alpha/2}$가 커져시 신뢰구간의 길이가 길어진다. 주어진 $\\alpha, \\sigma$에 대해서 표본의 크기가 클 수록 신뢰구간의 길이가 짧아지므로 좀 더 정확한 정보를 얻을 수 있다\n",
    "- 신뢰구간이 계산되고 나면 그 개별 구간에 대해서는 모수를 포함할 확률을 이야기할 수 없다 : 신뢰구간은 $\\mu$를 포함하거나 그렇지 않거나 둘 중 하나이지, 95%의 확률로 $\\mu$를 포함한다는 의미는 아니다. 같은 크기의 표본을 여러번 추출하여 같은 공식에 의한 신뢰구간을 구할 경우 그 중 약 95%의 구간이 모수를 포함하리라 예상\n",
    "- 일반적인 경우 모집단의 분포나 표준편차가 알려지 있지 않다. 중심극한정리(n이 클 때, 30이상, $\\bar{X}$는 근사적으로 $N(\\mu,\\frac{\\sigma^2}{\\sqrt{n}}$를 따른다)를 이용하여\n",
    "$$ P(\\bar{X}-z_{\\alpha/2}\\frac{s}{\\sqrt{n}}<\\mu<\\bar{X}+z_{\\alpha/2}\\frac{s}{\\sqrt{n}}) = 1-\\alpha\\\\ 신뢰구간\\ :\\ (\\bar{X}-z_{\\alpha/2}\\frac{s}{\\sqrt{n}}, \\bar{X}-z_{\\alpha/2}\\frac{s}{\\sqrt{n}})$$\n"
   ]
  },
  {
   "cell_type": "markdown",
   "id": "bbedf8df",
   "metadata": {},
   "source": [
    "### 신뢰구간의 의미\n",
    "- 표본을 계속 추출하여, 신뢰구간을 지속적으로 추출할 경우, 모평균을 포함하는 구간의 비율이 신뢰수준에 가까워 지는 것"
   ]
  },
  {
   "cell_type": "markdown",
   "id": "f80eaa5e",
   "metadata": {},
   "source": [
    "### 표본크기의 결정\n",
    "- 우리가 원하는 정확도를 얻을 수 있는 범위 내에서 표본크기를 줄여야\n",
    "- 모평균의 경우 오차가 d 이하로 될 확률이 최소한 $100(1-\\alpha)\\%$가 되도록 하기 위해 필요한 최소의 표본 구하는 법\n",
    "\n",
    "$$ P(|\\bar{X}-\\mu|\\leq d) \\geq 1-\\alpha \\\\ P(\\frac{|\\bar{X}-\\mu|}{\\sigma/\\sqrt{n}}\\leq z_{\\alpha/2}) \\geq 1-\\alpha \\\\ \\therefore z_{\\alpha/2}\\frac{\\sigma}{\\sqrt{n}}\\leq d,\\quad n\\geq(z_{\\alpha/2}\\frac{\\sigma}{d})^2 $$"
   ]
  },
  {
   "cell_type": "markdown",
   "id": "2e860179",
   "metadata": {},
   "source": [
    "## 10.3 모평균에 대한 검정\n",
    "- \"높은 콜레스테롤 수치를 보이는 성인의 경우 성인병에 걸릴 위험이 높다\"\n",
    "- 캠페인 시작 시 평균 200, 표준편차 24 -> 표본 40명의 데이터의 표본평균의 200보다 조금 작거나 조금 크면 우연일 수 있으나, 우연으로 나오기 힘든 정도로 차이가 나면 의미있는 차이라고 생각할 수 있다.\n",
    "- 0.05가 거의 나오지 않을 확률이라고 치면 $P(\\bar{X}\\leq c)=0.05$를 고하고 c이하의 값이 나올 경우, 유의미한 차이가 있다고 주장할 수 있다\n",
    "- 정규분포를 가정할 시, 원 모집단의 분포는 $N(200, 24^2)$이므로, 표본 평균 X의 분포는 $N(200, 24^2/40), Z=\\frac{\\bar{X}-200}{24/\\sqrt{40}} : N(0,1)$\n",
    "$$ 0.05 = P(\\frac{\\bar{X}-200}{24/\\sqrt{40}}\\leq-1.645)=P(\\bar{X}\\leq 200-1.645\\times 24/\\sqrt{40}),\\quad c=200-1.645\\times 24/\\sqrt{40}=193.76$$\n",
    "- 검정통계량 : 검정의 결론을 내리는데 이용되는 표본의 함수\n",
    "- 기각역 : $\\bar{X}$가 취하는 구간 중에서 $H_0$가 기각되는 구간\n",
    "$$H_0이 맞을 때,\\quad \\alpha=P(\\bar{X}\\leq c)\\\\ H_1가 맞을 때,\\quad \\beta=P(\\bar{X} > c) $$\n",
    "- 유의수준 : 선택된 기각역의 $H_0$하에서 확률($\\alpha$)\n",
    "- 기각역이 구해지면 표본으로부터 검정통계량의 값을 구하여 그 값이 기각역에 포함되면 $H_0$을 기각하고, 그 값이 기각역에 포함되지 않으면 $H_0$를 기각하지 않는다\n",
    "- Z-test : 검정통계량으로 $Z=\\frac{\\bar{X}-\\mu_0}{s/\\sqrt{n}}$을 사용하고, 기각역을 $R:Z\\leq -z_a$로 표현\n",
    "- 유의 확률(p-value) : 얻어진 Z의 값을 가지고 기각할 수 있게 하는 최소의 유의수준"
   ]
  },
  {
   "cell_type": "code",
   "execution_count": 12,
   "id": "f5a8d0b9",
   "metadata": {},
   "outputs": [
    {
     "data": {
      "text/plain": [
       "2.0023735915158256"
      ]
     },
     "execution_count": 12,
     "metadata": {},
     "output_type": "execute_result"
    }
   ],
   "source": [
    "# prob 3.5, 6\n",
    "# 1 \n",
    "# \n",
    "x = 30.54\n",
    "z = (x-30)/(2/np.sqrt(55)) \n",
    "z"
   ]
  },
  {
   "cell_type": "code",
   "execution_count": 11,
   "id": "f22721c7",
   "metadata": {},
   "outputs": [
    {
     "data": {
      "text/plain": [
       "1.6449999999999994"
      ]
     },
     "execution_count": 11,
     "metadata": {},
     "output_type": "execute_result"
    }
   ],
   "source": [
    "# y-y_0 / x-x_0 = y_1 - y_0 / x_1 - x_0\n",
    "y = (1.65 - 1.64) / (0.9505 - 0.9495) * (0.95 - 0.9495) + 1.64\n",
    "y"
   ]
  },
  {
   "cell_type": "code",
   "execution_count": 30,
   "id": "eca85a46",
   "metadata": {},
   "outputs": [
    {
     "name": "stdout",
     "output_type": "stream",
     "text": [
      "-2.8109134757052265 rejected\n"
     ]
    }
   ],
   "source": [
    "# prob 3.8\n",
    "\n",
    "from scipy.stats import norm\n",
    "\n",
    "n = 40\n",
    "x_bar = 50000\n",
    "s = 9000\n",
    "\n",
    "z = (46000 - x_bar) / (s/np.sqrt(n))\n",
    "print(z, 'rejected')"
   ]
  },
  {
   "cell_type": "code",
   "execution_count": 42,
   "id": "76e5d926",
   "metadata": {},
   "outputs": [
    {
     "name": "stdout",
     "output_type": "stream",
     "text": [
      "1.70367083999984 not rejected\n",
      "0.08844259879546534\n"
     ]
    }
   ],
   "source": [
    "# prob 3.10\n",
    "# z_0.01 = 2.326\n",
    "norm.cdf(2.326)\n",
    "n = 80\n",
    "s = 210\n",
    "x_bar = 1060\n",
    "z = (1100 - x_bar) / (s/np.sqrt(n))\n",
    "print(z, 'not rejected')\n",
    "p_val = norm.cdf(z,)\n",
    "print(2*(1-norm.cdf(z)))"
   ]
  },
  {
   "cell_type": "code",
   "execution_count": 47,
   "id": "37881cbb",
   "metadata": {},
   "outputs": [
    {
     "name": "stdout",
     "output_type": "stream",
     "text": [
      "-2.4393468845452233 기각\n",
      "0.007356918302264288\n"
     ]
    }
   ],
   "source": [
    "# prob 3.12\n",
    "n = 80\n",
    "s = 1.1\n",
    "x_bar = 4.5\n",
    "z = (4.2 - x_bar) / (s/np.sqrt(n))\n",
    "print(z, '기각')\n",
    "print(norm.cdf(z))"
   ]
  },
  {
   "cell_type": "code",
   "execution_count": 48,
   "id": "423ff26a",
   "metadata": {},
   "outputs": [],
   "source": [
    "# prob 3.14\n",
    "# 1) 예\n",
    "# 2) 판단불가능\n",
    "# 3) 아니오"
   ]
  },
  {
   "cell_type": "code",
   "execution_count": 50,
   "id": "d2eca651",
   "metadata": {},
   "outputs": [
    {
     "name": "stdout",
     "output_type": "stream",
     "text": [
      "2.650270439541126 0.01 수준에서 기각 가능\n",
      "0.9959786318447904\n"
     ]
    }
   ],
   "source": [
    "# prob 3.16\n",
    "n = 30\n",
    "s = 3.1\n",
    "x_bar = 23.5\n",
    "z = (25 - x_bar) / (s/np.sqrt(n))\n",
    "print(z, '0.01 수준에서 기각 가능')\n",
    "print(norm.cdf(z))"
   ]
  },
  {
   "cell_type": "markdown",
   "id": "761f7d03",
   "metadata": {},
   "source": [
    "## 10.4 모비율에 대한 추론(표본 크기가 클 때)\n",
    "- 점추정 : 모비율에 대한 추정량으로 표본비율 사용. $\\hat{p}=\\frac{\\bar{X}}{n}$\n",
    "    - 표본 추출과정 : X의 분포는 반복 횟수 n, 성공의 확률 p의 이항분포\n",
    "    - X의 기댓값과 표준편차 : np, $\\sqrt{np(1-p)}$\n",
    "    $$ E(\\hat{p})=p,\\quad S.E.(\\hat{p})=\\sqrt{\\frac{p(1-p)}{n}} $$\n",
    "    \n",
    "- 구간추정\n",
    "    - 표본의 크기가 큰 경우에 X는 근사적으로 평균이 np이고, 분산이 np(1-p)인 정규분포를 따른다. $$ Z=\\frac{X-np}{\\sqrt{np(1-p)}}, ~ N(0,1) \\\\ Z=\\frac{\\hat{p}-p}{\\sqrt{\\frac{p(1-p)}{n}}}$$\n",
    "    : $\\hat{p}$은 평균이 p이고 표준편차가 $\\sqrt{p(1-p)/n}$인 정규분포를 따른다.\n",
    "    $$P(|\\frac{\\hat{p}-p}{\\sqrt{p(1-p)/n}}|<z_{\\alpha/2})=P(|\\hat{p}-p|<z_{\\alpha/2}\\sqrt{\\frac{p(1-p)}{n}})=1-\\alpha$$\n",
    "    \n",
    "> 구간 $(\\hat{p}-z_{\\alpha/2}\\sqrt{\\frac{p(1-p)}{n}},\\ \\hat{p}+z_{\\alpha/2}\\sqrt{\\frac{p(1-p)}{n}})$이 p를 포함할 확률이 $1-\\alpha$\n",
    "\n",
    "- 표본크기의 결정\n",
    "  - 오차가 d 이하가 될 확률이 최소한 100(1-$\\alpha$)%가 되기 위한 조건\n",
    "  $P(|\\hat{p}-p|\\leq d)\\geq 1-\\alpha$\n",
    "  - 표본의 크기가 커서 정규분포 이용 시,\n",
    "  $P(\\frac{|\\hat{p}-p}{\\sqrt{p(1-p)/n}}\\leq z_{\\alpha/2})=1-\\alpha$\n",
    "  - $\\therefore n\\geq (\\frac{z_{\\alpha/2}}{d})^2p(1-p)\\\\ d:오차$\n",
    "  - 표본 추출 전에는 p를 알 수 없으므로, 적절한 수치로 대체 필요. :p(1-p)의 최댓값 -> f(p)=p(1-p), p=0,1일 때, 최댓값 0.25\n",
    "  \n",
    "- 모비율에 대한 검정\n",
    "  - $H_0:p=p_0$,표본의 크기가 클 때, 표본 비율 $\\hat{p}=X/n$는 정규분포를 따름($N(p_0,p_0(1-p_0)/n)$) \n",
    "  $$ 검정통계량\\ Z=\\frac{\\hat{p}-p_0}{\\sqrt{\\frac{p_0(1-p_0)}{n}}}\\~N(0,1) $$"
   ]
  },
  {
   "cell_type": "markdown",
   "id": "b9bbea54",
   "metadata": {},
   "source": [
    "$$H_1:\\mu < \\mu_0, 단측검정p-val=P(Z\\leq z_0):cdf(z) // \n",
    "H_1:\\mu > \\mu_0, 단측검정p-val=1-P(Z\\leq z_0):1-cdf(z) \\\\\n",
    "H_1:\\mu \\neq \\mu_0, 양측검정p-val=P(|Z|\\geq |z_0|) = 2\\times P(Z\\geq|z_0|):2*(1-cdf(z_0)),\\ (z_0>0),\\quad or \\quad2*cdf(z_0)\\ (z_0<0)$$"
   ]
  },
  {
   "cell_type": "code",
   "execution_count": 54,
   "id": "9edef122",
   "metadata": {},
   "outputs": [],
   "source": [
    "from scipy.stats import norm"
   ]
  },
  {
   "cell_type": "code",
   "execution_count": 98,
   "id": "52043fc8",
   "metadata": {},
   "outputs": [
    {
     "name": "stdout",
     "output_type": "stream",
     "text": [
      "0.005614943326458288\n"
     ]
    }
   ],
   "source": [
    "# example 12\n",
    "p_0 = 0.3\n",
    "n = 60\n",
    "p_hat = 27/60\n",
    "\n",
    "z = (p_hat - p_0) / np.sqrt(p_0*(1-p_0)/n)\n",
    "print(1-norm.cdf(z))"
   ]
  },
  {
   "cell_type": "code",
   "execution_count": 59,
   "id": "0989faf1",
   "metadata": {},
   "outputs": [
    {
     "name": "stdout",
     "output_type": "stream",
     "text": [
      "0.06864400920692205 0.13454225804556721\n"
     ]
    }
   ],
   "source": [
    "# prob 4.1\n",
    "# 1\n",
    "n = 50; X = 31\n",
    "p = X / n\n",
    "se = np.sqrt(p * (1-p)/n)\n",
    "ci = 1.96 * np.sqrt(p * (1-p)/n)\n",
    "print(se, ci)"
   ]
  },
  {
   "cell_type": "code",
   "execution_count": 60,
   "id": "01797eb9",
   "metadata": {},
   "outputs": [
    {
     "name": "stdout",
     "output_type": "stream",
     "text": [
      "0.05472113981207022 0.10725343403165763\n"
     ]
    }
   ],
   "source": [
    "# prob 4.3\n",
    "# 1\n",
    "n = 78; X = 49\n",
    "p = X / n\n",
    "se = np.sqrt(p * (1-p)/n)\n",
    "ci = 1.96 * np.sqrt(p * (1-p)/n)\n",
    "print(se, ci)"
   ]
  },
  {
   "cell_type": "code",
   "execution_count": 74,
   "id": "6992812e",
   "metadata": {},
   "outputs": [
    {
     "name": "stdout",
     "output_type": "stream",
     "text": [
      "0.6222222222222222 0.5033307765360888 0.7411136679083556\n"
     ]
    }
   ],
   "source": [
    "# prob 4.6 \n",
    "p = 28/45\n",
    "se = np.sqrt(p*(1-p)/45)\n",
    "ci = 1.645 * se\n",
    "\n",
    "print(p, p-ci , p+ci)"
   ]
  },
  {
   "cell_type": "code",
   "execution_count": 62,
   "id": "1ed9ef4b",
   "metadata": {},
   "outputs": [
    {
     "name": "stdout",
     "output_type": "stream",
     "text": [
      "0.2900580799453365 0.016439878534231428\n"
     ]
    }
   ],
   "source": [
    "# prob 4.7\n",
    "n = 2927\n",
    "a = 1499\n",
    "b = 849\n",
    "c = 498\n",
    "d = 81\n",
    "\n",
    "p = b / n\n",
    "se = np.sqrt(p * (1-p)/n)\n",
    "ci = 1.96 * se\n",
    "print(p, ci)"
   ]
  },
  {
   "cell_type": "code",
   "execution_count": 64,
   "id": "bd9860b8",
   "metadata": {},
   "outputs": [
    {
     "name": "stdout",
     "output_type": "stream",
     "text": [
      "0.562909540259495 0.6330904597405049\n"
     ]
    }
   ],
   "source": [
    "# prob 4.8\n",
    "# 1\n",
    "p = 0.598\n",
    "n = 750\n",
    "se = np.sqrt(p*(1-p)/n)\n",
    "ci = 1.96 * se\n",
    "\n",
    "print(p -ci, p+ci)"
   ]
  },
  {
   "cell_type": "code",
   "execution_count": 65,
   "id": "4c122d15",
   "metadata": {},
   "outputs": [
    {
     "name": "stdout",
     "output_type": "stream",
     "text": [
      "0.029951231216427135 0.05404876878357287\n"
     ]
    }
   ],
   "source": [
    "# prob 4.8\n",
    "# 2\n",
    "p = 0.042\n",
    "n = 750\n",
    "se = np.sqrt(p*(1-p)/n)\n",
    "ci = 1.645 * se\n",
    "\n",
    "print(p -ci, p+ci)"
   ]
  },
  {
   "cell_type": "code",
   "execution_count": 80,
   "id": "7a90353a",
   "metadata": {},
   "outputs": [
    {
     "name": "stdout",
     "output_type": "stream",
     "text": [
      "422.81640625\n"
     ]
    }
   ],
   "source": [
    "# prob 4.10\n",
    "alpha = 10/2\n",
    "z_alpha = 1.645\n",
    "d = 0.04\n",
    "p = 0.5\n",
    "n = (z_alpha/d)**2 * p * (1-p)\n",
    "print(n)"
   ]
  },
  {
   "cell_type": "code",
   "execution_count": 79,
   "id": "69bf7459",
   "metadata": {},
   "outputs": [
    {
     "name": "stdout",
     "output_type": "stream",
     "text": [
      "141.0958024691358\n"
     ]
    }
   ],
   "source": [
    "# prob 4.12\n",
    "alpha = 5/2\n",
    "z_alpha = 1.96\n",
    "d = 0.08\n",
    "p = 28/45\n",
    "n = (z_alpha / d) ** 2 * p * (1-p)\n",
    "print(n)"
   ]
  },
  {
   "cell_type": "code",
   "execution_count": 81,
   "id": "022fb155",
   "metadata": {},
   "outputs": [],
   "source": [
    "# prob 4.14\n",
    "# 1\n",
    "# H0 : p=0.32, H1 : p<0.32\n",
    "# z = (p_hat - p)/sqrt(p * (1-p)/n)"
   ]
  },
  {
   "cell_type": "code",
   "execution_count": 92,
   "id": "4f845021",
   "metadata": {},
   "outputs": [],
   "source": [
    "# prob 4.16\n",
    "# 1 Z >= 1.28\n",
    "# 2 |Z| >= 1.645"
   ]
  },
  {
   "cell_type": "code",
   "execution_count": 93,
   "id": "bcaa5235",
   "metadata": {},
   "outputs": [
    {
     "name": "stdout",
     "output_type": "stream",
     "text": [
      "0.09004445576265485\n"
     ]
    }
   ],
   "source": [
    "# prob 4.17\n",
    "p_0 = 0.3\n",
    "# z = (p_hat - p) / np.sqrt(p*(1-p)/n) # z > 1.645\n",
    "n = 49\n",
    "p_hat = 19/49\n",
    "\n",
    "z = (p_hat - p_0) / np.sqrt(p_0*(1-p_0)/n)\n",
    "print(1-norm.cdf(z))\n"
   ]
  },
  {
   "cell_type": "code",
   "execution_count": 100,
   "id": "bec16902",
   "metadata": {},
   "outputs": [
    {
     "name": "stdout",
     "output_type": "stream",
     "text": [
      "0.024548990804632832\n"
     ]
    }
   ],
   "source": [
    "# prob 4.18\n",
    "# 1\n",
    "# H0 : p = 0.5, H1 : p < 0.5\n",
    "\n",
    "# 2\n",
    "n = 500\n",
    "p_0 = 0.5\n",
    "p_hat = 228 / n\n",
    "z_alpha = 1.96\n",
    "z = (p_hat - p_0) / np.sqrt(p_0 * (1-p_0)/n)\n",
    "print(norm.cdf(z))"
   ]
  },
  {
   "cell_type": "code",
   "execution_count": 103,
   "id": "b9b0f0e3",
   "metadata": {},
   "outputs": [
    {
     "name": "stdout",
     "output_type": "stream",
     "text": [
      "0.05891373358655136\n"
     ]
    }
   ],
   "source": [
    "# prob 4.20\n",
    "p_0 = 0.598\n",
    "n = 750\n",
    "p_hat = 0.57\n",
    "z= (p_hat - p_0) / np.sqrt(p_0*(1-p_0)/n)\n",
    "print(norm.cdf(z))\n"
   ]
  },
  {
   "cell_type": "code",
   "execution_count": 104,
   "id": "bc97050e",
   "metadata": {},
   "outputs": [
    {
     "name": "stdout",
     "output_type": "stream",
     "text": [
      "0.011691265926981281\n"
     ]
    }
   ],
   "source": [
    "# prob 4.22\n",
    "p_0 = 0.78\n",
    "n = 980\n",
    "p_hat = 0.75\n",
    "z = (p_hat - p_0) / np.sqrt(p_0*(1-p_0)/n)\n",
    "print(norm.cdf(z))"
   ]
  },
  {
   "cell_type": "code",
   "execution_count": 108,
   "id": "5a117014",
   "metadata": {},
   "outputs": [
    {
     "name": "stdout",
     "output_type": "stream",
     "text": [
      "<class 'pandas.core.frame.DataFrame'>\n",
      "RangeIndex: 30 entries, 0 to 29\n",
      "Data columns (total 1 columns):\n",
      " #   Column  Non-Null Count  Dtype\n",
      "---  ------  --------------  -----\n",
      " 0   data    30 non-null     int64\n",
      "dtypes: int64(1)\n",
      "memory usage: 368.0 bytes\n"
     ]
    }
   ],
   "source": [
    "# example 13\n",
    "path = '../data/pstat/예제, 연습문제/'\n",
    "data = pd.read_excel(path + 'ch10.xlsx',sheet_name='예제1',header=None)\n",
    "data.rename(columns={0:'data'},inplace=True)\n",
    "data.info()"
   ]
  },
  {
   "cell_type": "code",
   "execution_count": 119,
   "id": "1251c2b0",
   "metadata": {},
   "outputs": [
    {
     "name": "stdout",
     "output_type": "stream",
     "text": [
      "[1.09376498]\n",
      "1.959963984540054\n",
      "[2.14373998]\n",
      "158.05626002483402 162.34373997516596\n"
     ]
    }
   ],
   "source": [
    "from scipy import stats\n",
    "se = stats.sem(data);print(se)\n",
    "alpha = 0.05\n",
    "z_alpha = stats.norm.ppf(1-alpha/2); print(z_alpha)\n",
    "interval = z_alpha * se;print(interval)\n",
    "x_bar = np.mean(data)\n",
    "print(float(x_bar-interval), float(x_bar+interval))"
   ]
  },
  {
   "cell_type": "code",
   "execution_count": 136,
   "id": "e62ed06b",
   "metadata": {},
   "outputs": [
    {
     "name": "stdout",
     "output_type": "stream",
     "text": [
      "0.612256148309579\n",
      "0.5403682979092668\n"
     ]
    }
   ],
   "source": [
    "# example 14 //////\n",
    "mu = 159\n",
    "alpha = 0.05\n",
    "x_bar = 160.2\n",
    "s = 5.99\n",
    "se = stats.norm.ppf(1-alpha/2); \n",
    "z = (x_bar-mu)/ se; print(z)\n",
    "print(2*(1-stats.norm.cdf(z)))"
   ]
  },
  {
   "cell_type": "code",
   "execution_count": 145,
   "id": "933abd0b",
   "metadata": {
    "scrolled": true
   },
   "outputs": [
    {
     "data": {
      "text/html": [
       "<div>\n",
       "<style scoped>\n",
       "    .dataframe tbody tr th:only-of-type {\n",
       "        vertical-align: middle;\n",
       "    }\n",
       "\n",
       "    .dataframe tbody tr th {\n",
       "        vertical-align: top;\n",
       "    }\n",
       "\n",
       "    .dataframe thead th {\n",
       "        text-align: right;\n",
       "    }\n",
       "</style>\n",
       "<table border=\"1\" class=\"dataframe\">\n",
       "  <thead>\n",
       "    <tr style=\"text-align: right;\">\n",
       "      <th></th>\n",
       "      <th>data</th>\n",
       "    </tr>\n",
       "  </thead>\n",
       "  <tbody>\n",
       "    <tr>\n",
       "      <th>0</th>\n",
       "      <td>55.9</td>\n",
       "    </tr>\n",
       "    <tr>\n",
       "      <th>1</th>\n",
       "      <td>63.8</td>\n",
       "    </tr>\n",
       "    <tr>\n",
       "      <th>2</th>\n",
       "      <td>57.2</td>\n",
       "    </tr>\n",
       "    <tr>\n",
       "      <th>3</th>\n",
       "      <td>59.8</td>\n",
       "    </tr>\n",
       "    <tr>\n",
       "      <th>4</th>\n",
       "      <td>65.7</td>\n",
       "    </tr>\n",
       "    <tr>\n",
       "      <th>5</th>\n",
       "      <td>62.7</td>\n",
       "    </tr>\n",
       "    <tr>\n",
       "      <th>6</th>\n",
       "      <td>60.8</td>\n",
       "    </tr>\n",
       "    <tr>\n",
       "      <th>7</th>\n",
       "      <td>51.3</td>\n",
       "    </tr>\n",
       "    <tr>\n",
       "      <th>8</th>\n",
       "      <td>61.8</td>\n",
       "    </tr>\n",
       "    <tr>\n",
       "      <th>9</th>\n",
       "      <td>56.0</td>\n",
       "    </tr>\n",
       "    <tr>\n",
       "      <th>10</th>\n",
       "      <td>66.9</td>\n",
       "    </tr>\n",
       "    <tr>\n",
       "      <th>11</th>\n",
       "      <td>56.8</td>\n",
       "    </tr>\n",
       "    <tr>\n",
       "      <th>12</th>\n",
       "      <td>66.2</td>\n",
       "    </tr>\n",
       "    <tr>\n",
       "      <th>13</th>\n",
       "      <td>64.6</td>\n",
       "    </tr>\n",
       "    <tr>\n",
       "      <th>14</th>\n",
       "      <td>59.5</td>\n",
       "    </tr>\n",
       "    <tr>\n",
       "      <th>15</th>\n",
       "      <td>63.1</td>\n",
       "    </tr>\n",
       "    <tr>\n",
       "      <th>16</th>\n",
       "      <td>60.6</td>\n",
       "    </tr>\n",
       "    <tr>\n",
       "      <th>17</th>\n",
       "      <td>62.0</td>\n",
       "    </tr>\n",
       "    <tr>\n",
       "      <th>18</th>\n",
       "      <td>59.4</td>\n",
       "    </tr>\n",
       "    <tr>\n",
       "      <th>19</th>\n",
       "      <td>67.2</td>\n",
       "    </tr>\n",
       "    <tr>\n",
       "      <th>20</th>\n",
       "      <td>63.6</td>\n",
       "    </tr>\n",
       "    <tr>\n",
       "      <th>21</th>\n",
       "      <td>60.5</td>\n",
       "    </tr>\n",
       "    <tr>\n",
       "      <th>22</th>\n",
       "      <td>66.8</td>\n",
       "    </tr>\n",
       "    <tr>\n",
       "      <th>23</th>\n",
       "      <td>61.8</td>\n",
       "    </tr>\n",
       "    <tr>\n",
       "      <th>24</th>\n",
       "      <td>64.8</td>\n",
       "    </tr>\n",
       "    <tr>\n",
       "      <th>25</th>\n",
       "      <td>55.8</td>\n",
       "    </tr>\n",
       "    <tr>\n",
       "      <th>26</th>\n",
       "      <td>55.7</td>\n",
       "    </tr>\n",
       "    <tr>\n",
       "      <th>27</th>\n",
       "      <td>77.1</td>\n",
       "    </tr>\n",
       "    <tr>\n",
       "      <th>28</th>\n",
       "      <td>62.1</td>\n",
       "    </tr>\n",
       "    <tr>\n",
       "      <th>29</th>\n",
       "      <td>61.0</td>\n",
       "    </tr>\n",
       "    <tr>\n",
       "      <th>30</th>\n",
       "      <td>58.9</td>\n",
       "    </tr>\n",
       "    <tr>\n",
       "      <th>31</th>\n",
       "      <td>60.0</td>\n",
       "    </tr>\n",
       "    <tr>\n",
       "      <th>32</th>\n",
       "      <td>66.9</td>\n",
       "    </tr>\n",
       "    <tr>\n",
       "      <th>33</th>\n",
       "      <td>61.7</td>\n",
       "    </tr>\n",
       "    <tr>\n",
       "      <th>34</th>\n",
       "      <td>60.3</td>\n",
       "    </tr>\n",
       "    <tr>\n",
       "      <th>35</th>\n",
       "      <td>51.5</td>\n",
       "    </tr>\n",
       "    <tr>\n",
       "      <th>36</th>\n",
       "      <td>67.0</td>\n",
       "    </tr>\n",
       "    <tr>\n",
       "      <th>37</th>\n",
       "      <td>60.2</td>\n",
       "    </tr>\n",
       "    <tr>\n",
       "      <th>38</th>\n",
       "      <td>56.2</td>\n",
       "    </tr>\n",
       "    <tr>\n",
       "      <th>39</th>\n",
       "      <td>59.4</td>\n",
       "    </tr>\n",
       "    <tr>\n",
       "      <th>40</th>\n",
       "      <td>67.9</td>\n",
       "    </tr>\n",
       "    <tr>\n",
       "      <th>41</th>\n",
       "      <td>64.9</td>\n",
       "    </tr>\n",
       "    <tr>\n",
       "      <th>42</th>\n",
       "      <td>55.7</td>\n",
       "    </tr>\n",
       "    <tr>\n",
       "      <th>43</th>\n",
       "      <td>61.4</td>\n",
       "    </tr>\n",
       "    <tr>\n",
       "      <th>44</th>\n",
       "      <td>62.6</td>\n",
       "    </tr>\n",
       "    <tr>\n",
       "      <th>45</th>\n",
       "      <td>56.4</td>\n",
       "    </tr>\n",
       "    <tr>\n",
       "      <th>46</th>\n",
       "      <td>56.4</td>\n",
       "    </tr>\n",
       "    <tr>\n",
       "      <th>47</th>\n",
       "      <td>69.4</td>\n",
       "    </tr>\n",
       "    <tr>\n",
       "      <th>48</th>\n",
       "      <td>57.6</td>\n",
       "    </tr>\n",
       "    <tr>\n",
       "      <th>49</th>\n",
       "      <td>63.8</td>\n",
       "    </tr>\n",
       "  </tbody>\n",
       "</table>\n",
       "</div>"
      ],
      "text/plain": [
       "    data\n",
       "0   55.9\n",
       "1   63.8\n",
       "2   57.2\n",
       "3   59.8\n",
       "4   65.7\n",
       "5   62.7\n",
       "6   60.8\n",
       "7   51.3\n",
       "8   61.8\n",
       "9   56.0\n",
       "10  66.9\n",
       "11  56.8\n",
       "12  66.2\n",
       "13  64.6\n",
       "14  59.5\n",
       "15  63.1\n",
       "16  60.6\n",
       "17  62.0\n",
       "18  59.4\n",
       "19  67.2\n",
       "20  63.6\n",
       "21  60.5\n",
       "22  66.8\n",
       "23  61.8\n",
       "24  64.8\n",
       "25  55.8\n",
       "26  55.7\n",
       "27  77.1\n",
       "28  62.1\n",
       "29  61.0\n",
       "30  58.9\n",
       "31  60.0\n",
       "32  66.9\n",
       "33  61.7\n",
       "34  60.3\n",
       "35  51.5\n",
       "36  67.0\n",
       "37  60.2\n",
       "38  56.2\n",
       "39  59.4\n",
       "40  67.9\n",
       "41  64.9\n",
       "42  55.7\n",
       "43  61.4\n",
       "44  62.6\n",
       "45  56.4\n",
       "46  56.4\n",
       "47  69.4\n",
       "48  57.6\n",
       "49  63.8"
      ]
     },
     "execution_count": 145,
     "metadata": {},
     "output_type": "execute_result"
    }
   ],
   "source": [
    "# example 15\n",
    "\n",
    "path = '../data/pstat/예제, 연습문제/'\n",
    "data = pd.read_excel(path + 'ch3.xlsx',sheet_name='예제11',header=None)\n",
    "data = pd.DataFrame(data.stack().values)\n",
    "data.rename(columns={0:'data'},inplace=True)\n",
    "data\n",
    "# data.info()"
   ]
  },
  {
   "cell_type": "code",
   "execution_count": 146,
   "id": "ac26a6f3",
   "metadata": {},
   "outputs": [
    {
     "name": "stdout",
     "output_type": "stream",
     "text": [
      "59.801357233295455 62.946642766704535\n"
     ]
    }
   ],
   "source": [
    "#1\n",
    "\n",
    "alpha = 0.02\n",
    "x_bar = np.mean(data)\n",
    "n = len(data)\n",
    "se = stats.sem(data)\n",
    "z_alpha = stats.norm.ppf(1-alpha/2)\n",
    "interval = z_alpha * se\n",
    "print(float(x_bar-interval), float(x_bar+interval))"
   ]
  },
  {
   "cell_type": "code",
   "execution_count": 151,
   "id": "9380a446",
   "metadata": {},
   "outputs": [
    {
     "name": "stdout",
     "output_type": "stream",
     "text": [
      "[0.02105135]\n"
     ]
    }
   ],
   "source": [
    "#2\n",
    "\n",
    "mu = 60\n",
    "z_val = (x_bar-mu) / se\n",
    "p_val = (1-stats.norm.cdf(z_val))\n",
    "print(p_val)"
   ]
  },
  {
   "cell_type": "code",
   "execution_count": 153,
   "id": "c4aa7de3",
   "metadata": {},
   "outputs": [
    {
     "name": "stdout",
     "output_type": "stream",
     "text": [
      "9.4 0.23364205014281295\n"
     ]
    }
   ],
   "source": [
    "# prob 5.2 \n",
    "#1\n",
    "n = 80\n",
    "mu = 752 / n\n",
    "s = np.sqrt((345/(n-1)))\n",
    "se = s/np.sqrt(n)\n",
    "print(mu, se)"
   ]
  },
  {
   "cell_type": "code",
   "execution_count": 154,
   "id": "4e8e9b51",
   "metadata": {},
   "outputs": [
    {
     "name": "stdout",
     "output_type": "stream",
     "text": [
      "7.633136094674557 0.17220987542734803\n"
     ]
    }
   ],
   "source": [
    "# 2\n",
    "n = 169\n",
    "mu = 1290 / n\n",
    "s = np.sqrt((842/(n-1)))\n",
    "se = s/np.sqrt(n)\n",
    "print(mu, se)"
   ]
  },
  {
   "cell_type": "code",
   "execution_count": 162,
   "id": "566dca33",
   "metadata": {},
   "outputs": [
    {
     "name": "stdout",
     "output_type": "stream",
     "text": [
      "1.959963984540054\n",
      "199.14122526478346\n"
     ]
    }
   ],
   "source": [
    "# prob 5.6\n",
    "\n",
    "d = 2.5\n",
    "alpha = 0.05\n",
    "s = 18\n",
    "z_alpha = stats.norm.ppf(1-alpha/2);print(z_alpha)\n",
    "print((z_alpha*s/d)**2)"
   ]
  },
  {
   "cell_type": "code",
   "execution_count": 163,
   "id": "64043c50",
   "metadata": {},
   "outputs": [
    {
     "name": "stdout",
     "output_type": "stream",
     "text": [
      "245.85336452442397\n"
     ]
    }
   ],
   "source": [
    "# prob 5.8\n",
    "alpha = 0.05\n",
    "d = 10\n",
    "s = 80\n",
    "z_alpha = norm.ppf(1-alpha/2)\n",
    "print((z_alpha*s/d)**2)"
   ]
  },
  {
   "cell_type": "code",
   "execution_count": 170,
   "id": "7abdda23",
   "metadata": {},
   "outputs": [
    {
     "name": "stdout",
     "output_type": "stream",
     "text": [
      "2.6645825188948455\n",
      "1.959963984540054\n",
      "11.859113319453982 13.207553347212684\n"
     ]
    }
   ],
   "source": [
    "# prob 5.10\n",
    "# 1\n",
    "n = 60\n",
    "mu = 752 / n\n",
    "alpha = 0.05\n",
    "s = np.sqrt(426/n); print(s)\n",
    "z_alpha = norm.ppf(1-alpha/2);print(z_alpha)\n",
    "se = s/np.sqrt(n)\n",
    "print(mu-z_alpha*se, mu + z_alpha*se)"
   ]
  },
  {
   "cell_type": "code",
   "execution_count": 171,
   "id": "41dd6e5e",
   "metadata": {},
   "outputs": [
    {
     "name": "stdout",
     "output_type": "stream",
     "text": [
      "17.01100298169928 18.348997018300718\n"
     ]
    }
   ],
   "source": [
    "# 2\n",
    "n = 150\n",
    "mu = 2652 / n\n",
    "alpha = 0.1\n",
    "s = np.sqrt(3722/n)\n",
    "z_alpha = norm.ppf(1-alpha/2)\n",
    "se = s/np.sqrt(n)\n",
    "print(mu-z_alpha*se, mu+z_alpha*se)"
   ]
  },
  {
   "cell_type": "code",
   "execution_count": 178,
   "id": "fe4a4658",
   "metadata": {},
   "outputs": [
    {
     "name": "stdout",
     "output_type": "stream",
     "text": [
      "34.26439909541988 35.73560090458012\n"
     ]
    }
   ],
   "source": [
    "# prob 5.12\n",
    "x_bar = 35\n",
    "s = 4\n",
    "alpha = 0.1\n",
    "n = 80\n",
    "se = s/np.sqrt(n)\n",
    "z_alpha = norm.ppf(1-alpha/2)\n",
    "print(x_bar - z_alpha*se, x_bar + z_alpha*se)"
   ]
  },
  {
   "cell_type": "code",
   "execution_count": 185,
   "id": "ada981ea",
   "metadata": {},
   "outputs": [
    {
     "data": {
      "text/plain": [
       "0.019796181051403572"
      ]
     },
     "execution_count": 185,
     "metadata": {},
     "output_type": "execute_result"
    }
   ],
   "source": [
    "# prob 5.16\n",
    "# 1\n",
    "n = 100\n",
    "s = 10.6\n",
    "x_bar = 52\n",
    "\n",
    "# z_alpha * (s/np.sqrt(n)) = 2.47\n",
    "z_alpha = 2.47 / (s/np.sqrt(n))\n",
    "# norm.ppf(1-alpha/2) = z_alpha\n",
    "\n",
    "alpha = -2*(norm.cdf(z_alpha)-1)\n",
    "alpha"
   ]
  },
  {
   "cell_type": "code",
   "execution_count": 186,
   "id": "88d066a8",
   "metadata": {},
   "outputs": [
    {
     "data": {
      "text/plain": [
       "2.0775618236124576"
      ]
     },
     "execution_count": 186,
     "metadata": {},
     "output_type": "execute_result"
    }
   ],
   "source": [
    "# 2\n",
    "n = 100\n",
    "s = 10.6\n",
    "x_bar = 52\n",
    "alpha = 0.05\n",
    "z_alpha = norm.ppf(1-alpha/2)\n",
    "c = z_alpha * (s/np.sqrt(n))\n",
    "\n",
    "c"
   ]
  },
  {
   "cell_type": "code",
   "execution_count": 188,
   "id": "3a59769e",
   "metadata": {},
   "outputs": [
    {
     "name": "stdout",
     "output_type": "stream",
     "text": [
      "1.4798541752269874 1.6448536269514722\n"
     ]
    }
   ],
   "source": [
    "# prob 5.20\n",
    "# 1\n",
    "mu = 8.5\n",
    "n = 42\n",
    "x_bar = 8.79\n",
    "s = 1.27\n",
    "alpha = 0.1\n",
    "\n",
    "z = (x_bar - mu)/(s/np.sqrt(n))\n",
    "z_alpha = norm.ppf(1-alpha/2)\n",
    "print(z, z_alpha)"
   ]
  },
  {
   "cell_type": "code",
   "execution_count": 191,
   "id": "f0a0a994",
   "metadata": {},
   "outputs": [
    {
     "data": {
      "text/plain": [
       "0.13891216721212452"
      ]
     },
     "execution_count": 191,
     "metadata": {},
     "output_type": "execute_result"
    }
   ],
   "source": [
    "# 2\n",
    "(1-norm.cdf(z)) * 2"
   ]
  },
  {
   "cell_type": "code",
   "execution_count": 197,
   "id": "24898e09",
   "metadata": {},
   "outputs": [
    {
     "name": "stdout",
     "output_type": "stream",
     "text": [
      "{s: 4.90009004030438, x_bar: 23.4000000000000}\n"
     ]
    }
   ],
   "source": [
    "# prob 5.22\n",
    "# 1\n",
    "from sympy import symbols, solve\n",
    "\n",
    "n = 49\n",
    "alpha = 0.05\n",
    "# ci = (22.028, 24.772)\n",
    "# 신뢰구간 = (X-z_alpha * s / sqrt(n), X+z_alpha * s / sqrt(n))\n",
    "z_alpha = norm.ppf(1-alpha/2)\n",
    "\n",
    "x_bar, s = symbols(\"x_bar, s\")\n",
    "\n",
    "print(solve([\n",
    "    x_bar - z_alpha * s / np.sqrt(n) - 22.028,\n",
    "    x_bar + z_alpha * s / np.sqrt(n) - 24.772\n",
    "]))\n"
   ]
  },
  {
   "cell_type": "code",
   "execution_count": 198,
   "id": "826cd467",
   "metadata": {},
   "outputs": [
    {
     "name": "stdout",
     "output_type": "stream",
     "text": [
      "0.7000000000000001\n"
     ]
    }
   ],
   "source": [
    "# 2\n",
    "s = 4.9\n",
    "x_bar = 23.4\n",
    "se = s / np.sqrt(n)\n",
    "print(se)"
   ]
  },
  {
   "cell_type": "code",
   "execution_count": 200,
   "id": "2890eb0d",
   "metadata": {},
   "outputs": [
    {
     "name": "stdout",
     "output_type": "stream",
     "text": [
      "22.248602461133967 24.55139753886603\n"
     ]
    }
   ],
   "source": [
    "# 3\n",
    "alpha = 0.1\n",
    "z_alpha = norm.ppf(1-alpha/2)\n",
    "print(x_bar-z_alpha*se, x_bar+z_alpha*se)"
   ]
  },
  {
   "cell_type": "code",
   "execution_count": 204,
   "id": "99d42a9d",
   "metadata": {},
   "outputs": [
    {
     "name": "stdout",
     "output_type": "stream",
     "text": [
      "0.7161454169013247\n"
     ]
    }
   ],
   "source": [
    "# 4\n",
    "alpha = 0.05\n",
    "z_alpha = norm.ppf(1-alpha/2)\n",
    "x_hat = 23.8\n",
    "z = (x_hat- x_bar) / se\n",
    "p_val = norm.cdf(z)\n",
    "print(p_val)"
   ]
  },
  {
   "cell_type": "code",
   "execution_count": 205,
   "id": "e0f0cb02",
   "metadata": {},
   "outputs": [
    {
     "name": "stdout",
     "output_type": "stream",
     "text": [
      "0.0825\n",
      "0.07044233804568821 0.0945576619543118\n"
     ]
    }
   ],
   "source": [
    "# prob 5.24\n",
    "# 1\n",
    "n = 2000\n",
    "p = 165 / n\n",
    "print(p)\n",
    "\n",
    "# 2\n",
    "alpha = 0.05\n",
    "se = np.sqrt(p*(1-p)/n)\n",
    "z_alpha = norm.ppf(1-alpha/2)\n",
    "print(p-z_alpha*se, p+z_alpha*se)"
   ]
  },
  {
   "cell_type": "code",
   "execution_count": 211,
   "id": "79be3dc0",
   "metadata": {},
   "outputs": [
    {
     "name": "stdout",
     "output_type": "stream",
     "text": [
      "1024.3890188517676\n"
     ]
    }
   ],
   "source": [
    "# prob 5.26\n",
    "p = 0.6\n",
    "alpha = 0.05\n",
    "z_alpha = norm.ppf(alpha/2)\n",
    "d = 0.03\n",
    "\n",
    "print((z_alpha/d)**2*p*(1-p))"
   ]
  },
  {
   "cell_type": "code",
   "execution_count": 215,
   "id": "c74965a8",
   "metadata": {},
   "outputs": [
    {
     "name": "stdout",
     "output_type": "stream",
     "text": [
      "0.325 0.05447607710005287\n"
     ]
    }
   ],
   "source": [
    "# prob 5.28\n",
    "alpha = 0.1\n",
    "p_0 = 0.25\n",
    "n = 200\n",
    "p_hat = 65/200\n",
    "\n",
    "z_alpha = norm.ppf(1-alpha/2)\n",
    "se = np.sqrt(p_hat * (1-p_hat)/n)\n",
    "print(p_hat, z_alpha*se)"
   ]
  },
  {
   "cell_type": "code",
   "execution_count": 221,
   "id": "b5e4953a",
   "metadata": {},
   "outputs": [
    {
     "name": "stdout",
     "output_type": "stream",
     "text": [
      "0.07918568950333471\n"
     ]
    }
   ],
   "source": [
    "# prob 5.30\n",
    "# 1\n",
    "n = 170\n",
    "p_0 = 0.4\n",
    "p_hat = 0.453\n",
    "\n",
    "se = np.sqrt(p_0 * (1-p_0)/n)\n",
    "z = (p_hat - p_0) / se\n",
    "alpha = (1-norm.cdf(z))\n",
    "print(alpha)"
   ]
  },
  {
   "cell_type": "code",
   "execution_count": 226,
   "id": "8c0d4c2d",
   "metadata": {},
   "outputs": [
    {
     "data": {
      "text/plain": [
       "0.47364262340626123"
      ]
     },
     "execution_count": 226,
     "metadata": {},
     "output_type": "execute_result"
    }
   ],
   "source": [
    "# 2\n",
    "alpha = 0.025\n",
    "p_hat = norm.ppf(1-alpha) * se + p_0\n",
    "p_hat"
   ]
  },
  {
   "cell_type": "code",
   "execution_count": 235,
   "id": "f36e1eb9",
   "metadata": {},
   "outputs": [
    {
     "data": {
      "text/plain": [
       "0.14443750960568835"
      ]
     },
     "execution_count": 235,
     "metadata": {},
     "output_type": "execute_result"
    }
   ],
   "source": [
    "# prob 5.32\n",
    "n = 130\n",
    "p_0 = 38/n\n",
    "p_hat = 0.25\n",
    "\n",
    "se = np.sqrt(p_0 * (1-p_0)/n)\n",
    "z = (p_hat - p_0) / se\n",
    "\n",
    "p_val = norm.cdf(z)\n",
    "p_val"
   ]
  },
  {
   "cell_type": "code",
   "execution_count": 237,
   "id": "ed6325e4",
   "metadata": {},
   "outputs": [
    {
     "name": "stdout",
     "output_type": "stream",
     "text": [
      "1.1045248499292722e-05\n"
     ]
    }
   ],
   "source": [
    "# prob 5.34\n",
    "# 1\n",
    "p_0 = 0.8\n",
    "n = 200\n",
    "p_hat = 136/n\n",
    "\n",
    "se = np.sqrt(p_0 * (1-p_0)/n)\n",
    "z = (p_hat - p_0) / se\n",
    "\n",
    "print(norm.cdf(z))"
   ]
  },
  {
   "cell_type": "code",
   "execution_count": 244,
   "id": "d6a017d0",
   "metadata": {},
   "outputs": [
    {
     "name": "stdout",
     "output_type": "stream",
     "text": [
      "0.68 0.055436152973987116\n"
     ]
    }
   ],
   "source": [
    "# 2\n",
    "alpha = 0.05\n",
    "z_alpha = norm.ppf(1-alpha/2)\n",
    "\n",
    "print(p_hat, z_alpha*se)"
   ]
  },
  {
   "cell_type": "code",
   "execution_count": 247,
   "id": "504bdf33",
   "metadata": {},
   "outputs": [
    {
     "data": {
      "text/plain": [
       "15005.698518336427"
      ]
     },
     "execution_count": 247,
     "metadata": {},
     "output_type": "execute_result"
    }
   ],
   "source": [
    "# prob 5.36\n",
    "# 1\n",
    "alpha = 0.05\n",
    "d = 0.008\n",
    "p = 0.5\n",
    "\n",
    "z_alpha = norm.ppf(1-alpha/2)\n",
    "n = (z_alpha/d)**2 * p * (1-p)\n",
    "n"
   ]
  },
  {
   "cell_type": "code",
   "execution_count": 249,
   "id": "1b86e03a",
   "metadata": {},
   "outputs": [
    {
     "name": "stdout",
     "output_type": "stream",
     "text": [
      "0.14 0.03400410423800238\n"
     ]
    }
   ],
   "source": [
    "# 2\n",
    "n = 400\n",
    "p_hat = 56/n\n",
    "\n",
    "se = np.sqrt(p_hat * (1-p_hat)/n)\n",
    "z_alpha = norm.ppf(1-alpha/2)\n",
    "\n",
    "print(p_hat, z_alpha*se)"
   ]
  }
 ],
 "metadata": {
  "kernelspec": {
   "display_name": "adp",
   "language": "python",
   "name": "adp_class"
  },
  "language_info": {
   "codemirror_mode": {
    "name": "ipython",
    "version": 3
   },
   "file_extension": ".py",
   "mimetype": "text/x-python",
   "name": "python",
   "nbconvert_exporter": "python",
   "pygments_lexer": "ipython3",
   "version": "3.7.13"
  }
 },
 "nbformat": 4,
 "nbformat_minor": 5
}
