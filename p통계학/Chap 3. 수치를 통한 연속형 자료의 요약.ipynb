{
 "cells": [
  {
   "cell_type": "code",
   "execution_count": 2,
   "id": "16692fe4",
   "metadata": {},
   "outputs": [],
   "source": [
    "import pandas as pd\n",
    "import numpy as np\n",
    "import matplotlib.pyplot as plt\n",
    "import seaborn as sns"
   ]
  },
  {
   "cell_type": "code",
   "execution_count": 7,
   "id": "8c082366",
   "metadata": {},
   "outputs": [
    {
     "data": {
      "text/plain": [
       "83.0"
      ]
     },
     "metadata": {},
     "output_type": "display_data"
    },
    {
     "data": {
      "text/plain": [
       "86.0"
      ]
     },
     "metadata": {},
     "output_type": "display_data"
    }
   ],
   "source": [
    "# prac 1\n",
    "temp = [89, 74, 91, 88, 72, 84]\n",
    "display(np.mean(temp))\n",
    "display(np.median(temp))"
   ]
  },
  {
   "cell_type": "code",
   "execution_count": 8,
   "id": "c7cfb956",
   "metadata": {},
   "outputs": [
    {
     "data": {
      "text/plain": [
       "79.0"
      ]
     },
     "metadata": {},
     "output_type": "display_data"
    },
    {
     "data": {
      "text/plain": [
       "86.0"
      ]
     },
     "metadata": {},
     "output_type": "display_data"
    }
   ],
   "source": [
    "temp = [89, 50, 91, 88, 72, 84]\n",
    "display(np.mean(temp))\n",
    "display(np.median(temp))"
   ]
  },
  {
   "cell_type": "code",
   "execution_count": 13,
   "id": "a727b119",
   "metadata": {},
   "outputs": [
    {
     "data": {
      "text/plain": [
       "1740.0"
      ]
     },
     "metadata": {},
     "output_type": "display_data"
    },
    {
     "data": {
      "text/plain": [
       "1425.0"
      ]
     },
     "metadata": {},
     "output_type": "display_data"
    },
    {
     "data": {
      "text/plain": [
       "(array([3., 2., 1., 0., 0., 0., 0., 0., 0., 1.]),\n",
       " array([1160., 1419., 1678., 1937., 2196., 2455., 2714., 2973., 3232.,\n",
       "        3491., 3750.]),\n",
       " <BarContainer object of 10 artists>)"
      ]
     },
     "execution_count": 13,
     "metadata": {},
     "output_type": "execute_result"
    },
    {
     "data": {
      "image/png": "[encoded data removed]",
      "text/plain": [
       "<Figure size 432x288 with 1 Axes>"
      ]
     },
     "metadata": {
      "needs_background": "light"
     },
     "output_type": "display_data"
    }
   ],
   "source": [
    "# 2.4\n",
    "\n",
    "temp = [1425, 1160, 1385, 3750, 1725, 1275, 1460]\n",
    "display(np.mean(temp))\n",
    "display(np.median(temp))\n",
    "\n",
    "plt.hist(temp)"
   ]
  },
  {
   "cell_type": "code",
   "execution_count": 14,
   "id": "f67a151c",
   "metadata": {},
   "outputs": [
    {
     "data": {
      "text/plain": [
       "26.491666666666664"
      ]
     },
     "metadata": {},
     "output_type": "display_data"
    },
    {
     "data": {
      "text/plain": [
       "26.4"
      ]
     },
     "metadata": {},
     "output_type": "display_data"
    },
    {
     "data": {
      "text/plain": [
       "(array([2., 1., 2., 0., 1., 1., 1., 1., 1., 2.]),\n",
       " array([13.3 , 16.03, 18.76, 21.49, 24.22, 26.95, 29.68, 32.41, 35.14,\n",
       "        37.87, 40.6 ]),\n",
       " <BarContainer object of 10 artists>)"
      ]
     },
     "execution_count": 14,
     "metadata": {},
     "output_type": "execute_result"
    },
    {
     "data": {
      "image/png": "[encoded data removed]",
      "text/plain": [
       "<Figure size 432x288 with 1 Axes>"
      ]
     },
     "metadata": {
      "needs_background": "light"
     },
     "output_type": "display_data"
    }
   ],
   "source": [
    "# 2.6\n",
    "\n",
    "temp = [13.3, 16.7, 20, 25, 30.6, 37.2, 40.6, 38.9, 35, 27.8, 18.9, 13.9]\n",
    "display(np.mean(temp))\n",
    "display(np.median(temp))\n",
    "\n",
    "plt.hist(temp)"
   ]
  },
  {
   "cell_type": "code",
   "execution_count": 25,
   "id": "b047cefc",
   "metadata": {},
   "outputs": [
    {
     "data": {
      "text/plain": [
       "8.178333333333333"
      ]
     },
     "metadata": {},
     "output_type": "display_data"
    },
    {
     "data": {
      "text/plain": [
       "7.925"
      ]
     },
     "metadata": {},
     "output_type": "display_data"
    },
    {
     "data": {
      "text/plain": [
       "<matplotlib.collections.PathCollection at 0x7fc94fae80d0>"
      ]
     },
     "execution_count": 25,
     "metadata": {},
     "output_type": "execute_result"
    },
    {
     "data": {
      "image/png": "[encoded data removed]",
      "text/plain": [
       "<Figure size 432x288 with 1 Axes>"
      ]
     },
     "metadata": {
      "needs_background": "light"
     },
     "output_type": "display_data"
    }
   ],
   "source": [
    "# 2.6\n",
    "\n",
    "temp = [6.71, 7.32, 9.14, 6.71, 6.1, 8.53, 9.14, 7.32, 10.36, 10.96, 4.57, 11.28]\n",
    "display(np.mean(temp))\n",
    "display(np.median(temp))\n",
    "\n",
    "plt.scatter(x=list(range(0,len(temp),1)), y=temp)"
   ]
  },
  {
   "cell_type": "code",
   "execution_count": 26,
   "id": "06877c29",
   "metadata": {},
   "outputs": [
    {
     "data": {
      "text/plain": [
       "77.8"
      ]
     },
     "metadata": {},
     "output_type": "display_data"
    },
    {
     "data": {
      "text/plain": [
       "78.0"
      ]
     },
     "metadata": {},
     "output_type": "display_data"
    },
    {
     "data": {
      "text/plain": [
       "25.444444444444446"
      ]
     },
     "metadata": {},
     "output_type": "display_data"
    },
    {
     "data": {
      "text/plain": [
       "25.555555555555557"
      ]
     },
     "metadata": {},
     "output_type": "display_data"
    }
   ],
   "source": [
    "# 2.20\n",
    "\n",
    "temp = [76, 82, 78, 78,75]\n",
    "display(np.mean(temp))\n",
    "display(np.median(temp))\n",
    "\n",
    "cel_temp = list(map(lambda x : 5/9*(x-32),temp))\n",
    "display(np.mean(cel_temp))\n",
    "display(np.median(cel_temp))\n"
   ]
  },
  {
   "cell_type": "markdown",
   "id": "14b8a324",
   "metadata": {},
   "source": [
    "### 3.3 퍼진 정도의 측도\n"
   ]
  },
  {
   "cell_type": "code",
   "execution_count": 30,
   "id": "51f78e7b",
   "metadata": {},
   "outputs": [
    {
     "data": {
      "text/plain": [
       "83.0"
      ]
     },
     "metadata": {},
     "output_type": "display_data"
    },
    {
     "data": {
      "text/plain": [
       "54.666666666666664"
      ]
     },
     "metadata": {},
     "output_type": "display_data"
    },
    {
     "data": {
      "text/plain": [
       "7.393691004272944"
      ]
     },
     "metadata": {},
     "output_type": "display_data"
    },
    {
     "data": {
      "text/plain": [
       "7.393691004272944"
      ]
     },
     "metadata": {},
     "output_type": "display_data"
    }
   ],
   "source": [
    "temp = [89, 74, 91, 88, 72, 84]\n",
    "display(np.mean(temp))\n",
    "display(np.var(temp))\n",
    "display(np.std(temp))\n",
    "display(pow(np.var(temp),.5))"
   ]
  },
  {
   "cell_type": "code",
   "execution_count": 40,
   "id": "7cf8825b",
   "metadata": {},
   "outputs": [
    {
     "data": {
      "text/plain": [
       "65.6"
      ]
     },
     "metadata": {},
     "output_type": "display_data"
    }
   ],
   "source": [
    "# 표본 평균만 왜 분모에 -1 자유도 고려???\n",
    "\n",
    "def get_var(nums:list) -> float:\n",
    "    mean = np.mean(nums)\n",
    "    diff = list(map(lambda x : (pow(x-mean,2)),nums))\n",
    "    \n",
    "    result = np.sum(diff) / (len(nums)-1)\n",
    "    return result\n",
    "\n",
    "display(get_var(temp))        "
   ]
  },
  {
   "cell_type": "code",
   "execution_count": 52,
   "id": "45983241",
   "metadata": {},
   "outputs": [
    {
     "data": {
      "text/plain": [
       "array([76.5 , 86.  , 88.75])"
      ]
     },
     "metadata": {},
     "output_type": "display_data"
    },
    {
     "data": {
      "text/plain": [
       "12.25"
      ]
     },
     "metadata": {},
     "output_type": "display_data"
    }
   ],
   "source": [
    "# prac 8\n",
    "display(np.quantile(temp, [0.25, 0.5, 0.75]))\n",
    "\n",
    "q1, q3 = np.quantile(temp, [0.25,0.75])\n",
    "display(q3-q1)"
   ]
  },
  {
   "cell_type": "code",
   "execution_count": 53,
   "id": "b9b64ec7",
   "metadata": {},
   "outputs": [
    {
     "data": {
      "text/plain": [
       "206.66666666666666"
      ]
     },
     "metadata": {},
     "output_type": "display_data"
    },
    {
     "data": {
      "text/plain": [
       "41"
      ]
     },
     "metadata": {},
     "output_type": "display_data"
    },
    {
     "data": {
      "text/plain": [
       "array([75.  , 88.75])"
      ]
     },
     "metadata": {},
     "output_type": "display_data"
    }
   ],
   "source": [
    "# prac 9\n",
    "\n",
    "new_temp = [89, 50, 91, 88, 72, 84]\n",
    "\n",
    "display(np.var(new_temp))\n",
    "display(max(new_temp) - min(new_temp))\n",
    "display(np.quantile(new_temp, [0.25, 0.75]))"
   ]
  },
  {
   "cell_type": "code",
   "execution_count": 55,
   "id": "48952e53",
   "metadata": {},
   "outputs": [
    {
     "name": "stdout",
     "output_type": "stream",
     "text": [
      "1.1124228790324058 6.0415804477541455\n"
     ]
    }
   ],
   "source": [
    "# prac 10\n",
    "a_comp = [76300, 77400, 77900, 77200, 76900, 78800]\n",
    "b_comp = [6400, 7000, 7400, 6900, 7300, 7600]\n",
    "\n",
    "a_var = get_var(a_comp)\n",
    "b_var = get_var(b_comp)\n",
    "a_std = pow(a_var, 0.5)\n",
    "b_std = pow(b_var, 0.5)\n",
    "a_cv = a_std/np.mean(a_comp) * 100\n",
    "b_cv = b_std/np.mean(b_comp) * 100\n",
    "\n",
    "print(a_cv, b_cv)"
   ]
  },
  {
   "cell_type": "code",
   "execution_count": 58,
   "id": "9d30d687",
   "metadata": {},
   "outputs": [
    {
     "data": {
      "text/plain": [
       "[3.0, -2.0, -1.0]"
      ]
     },
     "metadata": {},
     "output_type": "display_data"
    },
    {
     "data": {
      "text/plain": [
       "0.0"
      ]
     },
     "metadata": {},
     "output_type": "display_data"
    }
   ],
   "source": [
    "# prob 3.2\n",
    "temp = [9,4,5]\n",
    "diff = list(map(lambda x : x - np.mean(temp),temp))\n",
    "display(diff)\n",
    "display(sum(diff))"
   ]
  },
  {
   "cell_type": "code",
   "execution_count": 60,
   "id": "a94a3211",
   "metadata": {},
   "outputs": [
    {
     "data": {
      "text/plain": [
       "153.0"
      ]
     },
     "metadata": {},
     "output_type": "display_data"
    },
    {
     "data": {
      "text/plain": [
       "135.75"
      ]
     },
     "metadata": {},
     "output_type": "display_data"
    },
    {
     "data": {
      "text/plain": [
       "166.25"
      ]
     },
     "metadata": {},
     "output_type": "display_data"
    }
   ],
   "source": [
    "# prac 3.24\n",
    "temp = [162, 171, 138, 145, 144, 126, 145, 162, 174, 178, 167, 98, 161, 152, 182, 136, 165, 137, 133, 143, 184, 166, 115, 115, 95, 190, 119, 144, 176, 135, 194, 147, 160, 158, 178, 162, 131, 106, 157, 154]\n",
    "display(np.median(temp))\n",
    "q1, q3 = np.quantile(temp, [0.25, 0.75])\n",
    "display(q1, q3)"
   ]
  },
  {
   "cell_type": "markdown",
   "id": "58c80dbb",
   "metadata": {},
   "source": [
    "### 3.4 Box plot"
   ]
  },
  {
   "cell_type": "code",
   "execution_count": 3,
   "id": "b9667c56",
   "metadata": {},
   "outputs": [
    {
     "data": {
      "image/png": "[encoded data removed]",
      "text/plain": [
       "<Figure size 432x288 with 1 Axes>"
      ]
     },
     "metadata": {
      "needs_background": "light"
     },
     "output_type": "display_data"
    }
   ],
   "source": [
    "men = [181, 170, 179, 183, 178, 171, 177, 174, 163, 167, 163, 173, 178, 170, 167, 177, 176, 180, 169, 178, 173, 173, 171,181,170,174,180]\n",
    "women = [161,160,158,169,162, 163, 158, 160,160,158,160,165,170,152,158,160,160,159,162,160,167,168,166,164]\n",
    "\n",
    "plt.boxplot([men, women]);\n"
   ]
  },
  {
   "cell_type": "code",
   "execution_count": 23,
   "id": "98c38584",
   "metadata": {},
   "outputs": [
    {
     "data": {
      "text/plain": [
       "(50,)"
      ]
     },
     "execution_count": 23,
     "metadata": {},
     "output_type": "execute_result"
    }
   ],
   "source": [
    "import pandas as pd\n",
    "\n",
    "path = '../data/pstat/예제, 연습문제/'\n",
    "data = pd.read_excel(path + 'ch3.xlsx', sheet_name='예제11', header=None)\n",
    "data = data.stack().values\n",
    "data.shape"
   ]
  },
  {
   "cell_type": "code",
   "execution_count": 25,
   "id": "01f12dd8",
   "metadata": {},
   "outputs": [
    {
     "data": {
      "image/png": "[encoded data removed]",
      "text/plain": [
       "<Figure size 432x288 with 1 Axes>"
      ]
     },
     "metadata": {
      "needs_background": "light"
     },
     "output_type": "display_data"
    }
   ],
   "source": [
    "# example 11\n",
    "import seaborn as sns\n",
    "\n",
    "sns.boxplot(x=data);"
   ]
  },
  {
   "cell_type": "code",
   "execution_count": 66,
   "id": "7ee6d87a",
   "metadata": {},
   "outputs": [
    {
     "data": {
      "text/plain": [
       "(27, 2)"
      ]
     },
     "execution_count": 66,
     "metadata": {},
     "output_type": "execute_result"
    }
   ],
   "source": [
    "# example 12\n",
    "import pandas as pd\n",
    "\n",
    "path = '../data/pstat/예제, 연습문제/'\n",
    "data = pd.read_excel(path + 'ch3.xlsx', sheet_name='예제12', header=0)\n",
    "# data = data.stack().values\n",
    "data.shape"
   ]
  },
  {
   "cell_type": "code",
   "execution_count": 67,
   "id": "b4f366e8",
   "metadata": {},
   "outputs": [
    {
     "data": {
      "text/plain": [
       "남자    0\n",
       "여자    3\n",
       "dtype: int64"
      ]
     },
     "execution_count": 67,
     "metadata": {},
     "output_type": "execute_result"
    }
   ],
   "source": [
    "data.isnull().sum()"
   ]
  },
  {
   "cell_type": "code",
   "execution_count": 68,
   "id": "393e52d3",
   "metadata": {},
   "outputs": [
    {
     "name": "stderr",
     "output_type": "stream",
     "text": [
      "/Users/klee30810/miniconda3/envs/adp_class/lib/python3.7/site-packages/pandas/core/indexing.py:1732: SettingWithCopyWarning: \n",
      "A value is trying to be set on a copy of a slice from a DataFrame\n",
      "\n",
      "See the caveats in the documentation: https://pandas.pydata.org/pandas-docs/stable/user_guide/indexing.html#returning-a-view-versus-a-copy\n",
      "  self._setitem_single_block(indexer, value, name)\n"
     ]
    }
   ],
   "source": [
    "data = pd.DataFrame(data.stack().values)\n",
    "data['gender']=0\n",
    "data['gender'].iloc[:27] = '남자'\n",
    "data['gender'].iloc[27:] = '여자'\n",
    "data['gender'].value_counts()\n",
    "data = data.rename(columns={0:'value'})"
   ]
  },
  {
   "cell_type": "code",
   "execution_count": 70,
   "id": "b474df23",
   "metadata": {},
   "outputs": [
    {
     "name": "stderr",
     "output_type": "stream",
     "text": [
      "/Users/klee30810/miniconda3/envs/adp_class/lib/python3.7/site-packages/IPython/core/pylabtools.py:151: UserWarning: Glyph 45224 (\\N{HANGUL SYLLABLE NAM}) missing from current font.\n",
      "  fig.canvas.print_figure(bytes_io, **kw)\n",
      "/Users/klee30810/miniconda3/envs/adp_class/lib/python3.7/site-packages/IPython/core/pylabtools.py:151: UserWarning: Glyph 51088 (\\N{HANGUL SYLLABLE JA}) missing from current font.\n",
      "  fig.canvas.print_figure(bytes_io, **kw)\n",
      "/Users/klee30810/miniconda3/envs/adp_class/lib/python3.7/site-packages/IPython/core/pylabtools.py:151: UserWarning: Glyph 50668 (\\N{HANGUL SYLLABLE YEO}) missing from current font.\n",
      "  fig.canvas.print_figure(bytes_io, **kw)\n"
     ]
    },
    {
     "data": {
      "image/png": "[encoded data removed]",
      "text/plain": [
       "<Figure size 432x288 with 1 Axes>"
      ]
     },
     "metadata": {
      "needs_background": "light"
     },
     "output_type": "display_data"
    }
   ],
   "source": [
    "import seaborn as sns\n",
    "\n",
    "sns.boxplot(x='gender', y='value', data=data);\n",
    "# sns.boxplot(y='여자', data=data);"
   ]
  },
  {
   "cell_type": "code",
   "execution_count": 76,
   "id": "62f3bacf",
   "metadata": {},
   "outputs": [
    {
     "name": "stdout",
     "output_type": "stream",
     "text": [
      "<class 'pandas.core.frame.DataFrame'>\n",
      "RangeIndex: 20 entries, 0 to 19\n",
      "Data columns (total 1 columns):\n",
      " #   Column  Non-Null Count  Dtype\n",
      "---  ------  --------------  -----\n",
      " 0   0       20 non-null     int64\n",
      "dtypes: int64(1)\n",
      "memory usage: 288.0 bytes\n"
     ]
    }
   ],
   "source": [
    "# prob 4.1\n",
    "import pandas as pd\n",
    "\n",
    "path = '../data/pstat/예제, 연습문제/'\n",
    "data = pd.read_excel(path + 'ch3.xlsx', sheet_name='4.1', header=None)\n",
    "# data = data.stack().values\n",
    "data.info()"
   ]
  },
  {
   "cell_type": "code",
   "execution_count": 77,
   "id": "26322cc5",
   "metadata": {},
   "outputs": [
    {
     "data": {
      "text/html": [
       "<div>\n",
       "<style scoped>\n",
       "    .dataframe tbody tr th:only-of-type {\n",
       "        vertical-align: middle;\n",
       "    }\n",
       "\n",
       "    .dataframe tbody tr th {\n",
       "        vertical-align: top;\n",
       "    }\n",
       "\n",
       "    .dataframe thead th {\n",
       "        text-align: right;\n",
       "    }\n",
       "</style>\n",
       "<table border=\"1\" class=\"dataframe\">\n",
       "  <thead>\n",
       "    <tr style=\"text-align: right;\">\n",
       "      <th></th>\n",
       "      <th>0</th>\n",
       "    </tr>\n",
       "  </thead>\n",
       "  <tbody>\n",
       "    <tr>\n",
       "      <th>count</th>\n",
       "      <td>20.00000</td>\n",
       "    </tr>\n",
       "    <tr>\n",
       "      <th>mean</th>\n",
       "      <td>317.80000</td>\n",
       "    </tr>\n",
       "    <tr>\n",
       "      <th>std</th>\n",
       "      <td>37.01863</td>\n",
       "    </tr>\n",
       "    <tr>\n",
       "      <th>min</th>\n",
       "      <td>248.00000</td>\n",
       "    </tr>\n",
       "    <tr>\n",
       "      <th>25%</th>\n",
       "      <td>299.50000</td>\n",
       "    </tr>\n",
       "    <tr>\n",
       "      <th>50%</th>\n",
       "      <td>317.50000</td>\n",
       "    </tr>\n",
       "    <tr>\n",
       "      <th>75%</th>\n",
       "      <td>334.00000</td>\n",
       "    </tr>\n",
       "    <tr>\n",
       "      <th>max</th>\n",
       "      <td>388.00000</td>\n",
       "    </tr>\n",
       "  </tbody>\n",
       "</table>\n",
       "</div>"
      ],
      "text/plain": [
       "               0\n",
       "count   20.00000\n",
       "mean   317.80000\n",
       "std     37.01863\n",
       "min    248.00000\n",
       "25%    299.50000\n",
       "50%    317.50000\n",
       "75%    334.00000\n",
       "max    388.00000"
      ]
     },
     "execution_count": 77,
     "metadata": {},
     "output_type": "execute_result"
    }
   ],
   "source": [
    "data.describe()"
   ]
  },
  {
   "cell_type": "code",
   "execution_count": 89,
   "id": "74ddfbfd",
   "metadata": {},
   "outputs": [
    {
     "data": {
      "image/png": "[encoded data removed]",
      "text/plain": [
       "<Figure size 432x288 with 1 Axes>"
      ]
     },
     "metadata": {
      "needs_background": "light"
     },
     "output_type": "display_data"
    }
   ],
   "source": [
    "import matplotlib.pyplot as plt\n",
    "\n",
    "leafs = [x%10 for x in data.values]\n",
    "stems = [x//10 for x in data.values]\n",
    "\n",
    "plt.stem(stems, leafs, use_line_collection=True);"
   ]
  },
  {
   "cell_type": "code",
   "execution_count": 94,
   "id": "731c4a7c",
   "metadata": {},
   "outputs": [
    {
     "name": "stdout",
     "output_type": "stream",
     "text": [
      "299.5, 317.5, 334.0\n"
     ]
    },
    {
     "data": {
      "image/png": "[encoded data removed]",
      "text/plain": [
       "<Figure size 432x288 with 1 Axes>"
      ]
     },
     "metadata": {
      "needs_background": "light"
     },
     "output_type": "display_data"
    }
   ],
   "source": [
    "import seaborn as sns\n",
    "\n",
    "sns.boxplot(y=data.values)\n",
    "print(f'{np.quantile(data.values, 0.25)}, {np.quantile(data.values, 0.5)}, {np.quantile(data.values, 0.75)}')"
   ]
  },
  {
   "cell_type": "code",
   "execution_count": 95,
   "id": "f2e9d5c6",
   "metadata": {},
   "outputs": [
    {
     "name": "stdout",
     "output_type": "stream",
     "text": [
      "<class 'pandas.core.frame.DataFrame'>\n",
      "RangeIndex: 4 entries, 0 to 3\n",
      "Data columns (total 13 columns):\n",
      " #   Column  Non-Null Count  Dtype  \n",
      "---  ------  --------------  -----  \n",
      " 0   0       4 non-null      int64  \n",
      " 1   1       4 non-null      int64  \n",
      " 2   2       4 non-null      int64  \n",
      " 3   3       4 non-null      int64  \n",
      " 4   4       4 non-null      int64  \n",
      " 5   5       4 non-null      int64  \n",
      " 6   6       4 non-null      int64  \n",
      " 7   7       4 non-null      int64  \n",
      " 8   8       4 non-null      int64  \n",
      " 9   9       4 non-null      int64  \n",
      " 10  10      4 non-null      int64  \n",
      " 11  11      4 non-null      int64  \n",
      " 12  12      3 non-null      float64\n",
      "dtypes: float64(1), int64(12)\n",
      "memory usage: 544.0 bytes\n"
     ]
    }
   ],
   "source": [
    "# example 13\n",
    "\n",
    "import pandas as pd\n",
    "\n",
    "path = '../data/pstat/예제, 연습문제/'\n",
    "data = pd.read_excel(path + 'ch2.xlsx', sheet_name='예제7', header=None)\n",
    "\n",
    "data.info()"
   ]
  },
  {
   "cell_type": "code",
   "execution_count": 96,
   "id": "d75cf7c2",
   "metadata": {},
   "outputs": [
    {
     "data": {
      "text/html": [
       "<div>\n",
       "<style scoped>\n",
       "    .dataframe tbody tr th:only-of-type {\n",
       "        vertical-align: middle;\n",
       "    }\n",
       "\n",
       "    .dataframe tbody tr th {\n",
       "        vertical-align: top;\n",
       "    }\n",
       "\n",
       "    .dataframe thead th {\n",
       "        text-align: right;\n",
       "    }\n",
       "</style>\n",
       "<table border=\"1\" class=\"dataframe\">\n",
       "  <thead>\n",
       "    <tr style=\"text-align: right;\">\n",
       "      <th></th>\n",
       "      <th>0</th>\n",
       "      <th>1</th>\n",
       "      <th>2</th>\n",
       "      <th>3</th>\n",
       "      <th>4</th>\n",
       "      <th>5</th>\n",
       "      <th>6</th>\n",
       "      <th>7</th>\n",
       "      <th>8</th>\n",
       "      <th>9</th>\n",
       "      <th>10</th>\n",
       "      <th>11</th>\n",
       "      <th>12</th>\n",
       "    </tr>\n",
       "  </thead>\n",
       "  <tbody>\n",
       "    <tr>\n",
       "      <th>0</th>\n",
       "      <td>181</td>\n",
       "      <td>161</td>\n",
       "      <td>170</td>\n",
       "      <td>160</td>\n",
       "      <td>158</td>\n",
       "      <td>169</td>\n",
       "      <td>162</td>\n",
       "      <td>179</td>\n",
       "      <td>183</td>\n",
       "      <td>178</td>\n",
       "      <td>171</td>\n",
       "      <td>177</td>\n",
       "      <td>163.0</td>\n",
       "    </tr>\n",
       "    <tr>\n",
       "      <th>1</th>\n",
       "      <td>158</td>\n",
       "      <td>160</td>\n",
       "      <td>160</td>\n",
       "      <td>158</td>\n",
       "      <td>174</td>\n",
       "      <td>160</td>\n",
       "      <td>163</td>\n",
       "      <td>167</td>\n",
       "      <td>165</td>\n",
       "      <td>163</td>\n",
       "      <td>173</td>\n",
       "      <td>178</td>\n",
       "      <td>170.0</td>\n",
       "    </tr>\n",
       "    <tr>\n",
       "      <th>2</th>\n",
       "      <td>167</td>\n",
       "      <td>177</td>\n",
       "      <td>176</td>\n",
       "      <td>170</td>\n",
       "      <td>152</td>\n",
       "      <td>158</td>\n",
       "      <td>160</td>\n",
       "      <td>160</td>\n",
       "      <td>159</td>\n",
       "      <td>180</td>\n",
       "      <td>169</td>\n",
       "      <td>162</td>\n",
       "      <td>178.0</td>\n",
       "    </tr>\n",
       "    <tr>\n",
       "      <th>3</th>\n",
       "      <td>173</td>\n",
       "      <td>173</td>\n",
       "      <td>171</td>\n",
       "      <td>171</td>\n",
       "      <td>170</td>\n",
       "      <td>160</td>\n",
       "      <td>167</td>\n",
       "      <td>168</td>\n",
       "      <td>166</td>\n",
       "      <td>164</td>\n",
       "      <td>174</td>\n",
       "      <td>180</td>\n",
       "      <td>NaN</td>\n",
       "    </tr>\n",
       "  </tbody>\n",
       "</table>\n",
       "</div>"
      ],
      "text/plain": [
       "    0    1    2    3    4    5    6    7    8    9    10   11     12\n",
       "0  181  161  170  160  158  169  162  179  183  178  171  177  163.0\n",
       "1  158  160  160  158  174  160  163  167  165  163  173  178  170.0\n",
       "2  167  177  176  170  152  158  160  160  159  180  169  162  178.0\n",
       "3  173  173  171  171  170  160  167  168  166  164  174  180    NaN"
      ]
     },
     "execution_count": 96,
     "metadata": {},
     "output_type": "execute_result"
    }
   ],
   "source": [
    "data.head()"
   ]
  },
  {
   "cell_type": "code",
   "execution_count": 110,
   "id": "55f48338",
   "metadata": {},
   "outputs": [
    {
     "name": "stdout",
     "output_type": "stream",
     "text": [
      "<class 'pandas.core.frame.DataFrame'>\n",
      "RangeIndex: 32 entries, 0 to 31\n",
      "Data columns (total 1 columns):\n",
      " #   Column  Non-Null Count  Dtype\n",
      "---  ------  --------------  -----\n",
      " 0   0       32 non-null     int64\n",
      "dtypes: int64(1)\n",
      "memory usage: 384.0 bytes\n"
     ]
    }
   ],
   "source": [
    "# prob 5.4\n",
    "path = '../data/pstat/예제, 연습문제/'\n",
    "data = pd.read_excel(path + 'ch3.xlsx', sheet_name='5.4', header=None)\n",
    "\n",
    "data.info()"
   ]
  },
  {
   "cell_type": "code",
   "execution_count": 115,
   "id": "acecd3e5",
   "metadata": {},
   "outputs": [
    {
     "name": "stdout",
     "output_type": "stream",
     "text": [
      "0    111.28125\n",
      "dtype: float64\n",
      "0    171.639648\n",
      "dtype: float64\n"
     ]
    },
    {
     "data": {
      "text/plain": [
       "<AxesSubplot:ylabel='Count'>"
      ]
     },
     "execution_count": 115,
     "metadata": {},
     "output_type": "execute_result"
    },
    {
     "data": {
      "image/png": "[encoded data removed]",
      "text/plain": [
       "<Figure size 432x288 with 1 Axes>"
      ]
     },
     "metadata": {
      "needs_background": "light"
     },
     "output_type": "display_data"
    }
   ],
   "source": [
    "print(np.mean(data))\n",
    "print(np.var(data))\n",
    "sns.histplot(data=data, bins=6)"
   ]
  },
  {
   "cell_type": "code",
   "execution_count": 158,
   "id": "fa205d3d",
   "metadata": {},
   "outputs": [
    {
     "name": "stdout",
     "output_type": "stream",
     "text": [
      "<class 'pandas.core.frame.DataFrame'>\n",
      "RangeIndex: 10 entries, 0 to 9\n",
      "Data columns (total 10 columns):\n",
      " #   Column      Non-Null Count  Dtype  \n",
      "---  ------      --------------  -----  \n",
      " 0   Unnamed: 0  10 non-null     float64\n",
      " 1   Unnamed: 1  10 non-null     float64\n",
      " 2   Unnamed: 2  10 non-null     float64\n",
      " 3   Unnamed: 3  10 non-null     float64\n",
      " 4   Unnamed: 4  10 non-null     float64\n",
      " 5   Unnamed: 5  10 non-null     float64\n",
      " 6   Unnamed: 6  10 non-null     float64\n",
      " 7   Unnamed: 7  10 non-null     float64\n",
      " 8   Unnamed: 8  10 non-null     float64\n",
      " 9   Unnamed: 9  10 non-null     float64\n",
      "dtypes: float64(10)\n",
      "memory usage: 928.0 bytes\n"
     ]
    }
   ],
   "source": [
    "# example 14\n",
    "path = '../data/pstat/예제, 연습문제/'\n",
    "data = pd.read_excel(path + 'ch2.xlsx', sheet_name='예제13', header=2)\n",
    "\n",
    "data.info()"
   ]
  },
  {
   "cell_type": "code",
   "execution_count": 159,
   "id": "d01da752",
   "metadata": {},
   "outputs": [
    {
     "data": {
      "text/plain": [
       "100"
      ]
     },
     "execution_count": 159,
     "metadata": {},
     "output_type": "execute_result"
    }
   ],
   "source": [
    "len(data.stack().values)"
   ]
  },
  {
   "cell_type": "code",
   "execution_count": 160,
   "id": "0a1c5ce1",
   "metadata": {},
   "outputs": [
    {
     "data": {
      "text/plain": [
       "count    100.000000\n",
       "mean     100.020000\n",
       "std        1.472989\n",
       "min       95.500000\n",
       "25%       99.175000\n",
       "50%      100.000000\n",
       "75%      101.100000\n",
       "max      103.700000\n",
       "dtype: float64"
      ]
     },
     "execution_count": 160,
     "metadata": {},
     "output_type": "execute_result"
    }
   ],
   "source": [
    "data = data.stack()\n",
    "data.describe()"
   ]
  },
  {
   "cell_type": "code",
   "execution_count": 140,
   "id": "b8d79de3",
   "metadata": {},
   "outputs": [
    {
     "data": {
      "text/plain": [
       "count    100.000000\n",
       "mean     100.020000\n",
       "std        1.472989\n",
       "min       95.500000\n",
       "25%       99.175000\n",
       "50%      100.000000\n",
       "75%      101.100000\n",
       "max      103.700000\n",
       "dtype: float64"
      ]
     },
     "execution_count": 140,
     "metadata": {},
     "output_type": "execute_result"
    }
   ],
   "source": [
    "data.drop(0,axis=0,inplace=True)\n",
    "data = data.stack()\n",
    "data.describe()"
   ]
  },
  {
   "cell_type": "code",
   "execution_count": 133,
   "id": "3acffe4c",
   "metadata": {},
   "outputs": [
    {
     "data": {
      "text/plain": [
       "1.9249999999999972"
      ]
     },
     "execution_count": 133,
     "metadata": {},
     "output_type": "execute_result"
    }
   ],
   "source": [
    "data = data.stack().values\n",
    "q1,q3 = np.percentile(data, [25,75])\n",
    "q3-q1"
   ]
  },
  {
   "cell_type": "code",
   "execution_count": 134,
   "id": "26dedddf",
   "metadata": {},
   "outputs": [
    {
     "data": {
      "text/plain": [
       "100.02"
      ]
     },
     "execution_count": 134,
     "metadata": {},
     "output_type": "execute_result"
    }
   ],
   "source": [
    "np.mean(data)"
   ]
  },
  {
   "cell_type": "code",
   "execution_count": null,
   "id": "918403d6",
   "metadata": {},
   "outputs": [],
   "source": []
  },
  {
   "cell_type": "code",
   "execution_count": null,
   "id": "1469097b",
   "metadata": {},
   "outputs": [],
   "source": []
  },
  {
   "cell_type": "code",
   "execution_count": null,
   "id": "ab89fcf7",
   "metadata": {},
   "outputs": [],
   "source": []
  },
  {
   "cell_type": "code",
   "execution_count": null,
   "id": "606f76a7",
   "metadata": {},
   "outputs": [],
   "source": []
  },
  {
   "cell_type": "code",
   "execution_count": null,
   "id": "74a881e1",
   "metadata": {},
   "outputs": [],
   "source": []
  }
 ],
 "metadata": {
  "kernelspec": {
   "display_name": "adp",
   "language": "python",
   "name": "adp_class"
  },
  "language_info": {
   "codemirror_mode": {
    "name": "ipython",
    "version": 3
   },
   "file_extension": ".py",
   "mimetype": "text/x-python",
   "name": "python",
   "nbconvert_exporter": "python",
   "pygments_lexer": "ipython3",
   "version": "3.7.13"
  }
 },
 "nbformat": 4,
 "nbformat_minor": 5
}
