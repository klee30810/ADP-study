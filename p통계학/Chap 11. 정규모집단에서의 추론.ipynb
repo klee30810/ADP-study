{
 "cells": [
  {
   "cell_type": "markdown",
   "id": "321c77c6",
   "metadata": {},
   "source": [
    "## 11. 정규모집단에서의 추론\n",
    "- 표본의 크기가 작을 때"
   ]
  },
  {
   "cell_type": "markdown",
   "id": "490943dd",
   "metadata": {},
   "source": [
    "## 11.1 서론\n",
    "\n",
    "- 표본의 크기가 큰 경우에는 중심극한정리에 의해 표본평균의 분포가 정규분포가 된다. 표본의 크기가 작은 경우에는 모집단의 분포에 많은 영향을 받으므로, 모든 모집단에 대하여 적용할 수 있는 일반적인 통계적 추론방법을 제시할 수 없다\n",
    "\n",
    "- t 분포를 이용하여 모집단의 분포가 정규분포를 따르가, 모집단의 표준편차가 알려져 있을 때 적용할 수 있는 모평균에 대한 추정과 검정"
   ]
  },
  {
   "cell_type": "markdown",
   "id": "d509ce5e",
   "metadata": {},
   "source": [
    "## 11.2 t 분포\n",
    "- 모집단의 분포가 $N(\\mu, \\sigma^2)$일 때, 크기가 n 인 표본의 평균 $\\bar{X}$의 분포는 정확하게 $N(\\mu, \\sigma^2/n)$\n",
    "$$ \\frac{\\bar{X}-\\mu}{\\sigma /\\sqrt{n}} \\sim N(0,1)$$\n",
    "- 일반적으로 $\\sigma$는 미지수 이므로, 표본의 크기가 큰 경우에는, 표본의 표준편차 s로 대체하여도 분포가 큰 영향을 받지 않으나, 표본의 크기가 작은 경우에는 표준정규분포와는 달라지고, 변화된 분포를 t분포라고 함\n",
    "- 정규모집단 $N(\\mu, \\sigma^2)$로부터 추출된 표본 평균과 표본 분산을 $\\bar{X}=\\frac{\\sum X_i}{n},\\quad s^2=\\frac{\\sum(X_i-\\bar{X})^2}{n-1}$일때, 표준화된 확률변수 $$ t=\\frac{\\bar{X}-\\mu}{s/\\sqrt{n}}$$는 자유도가 (n-1)인 t분포를 따르고 **t(n-1)**로 표현\n",
    "- 0을 중심으로 대칭하는 종 모양 분포이나, 양 꼬리 부분에 상대적으로 많은 확률 존재, 자유도가 증가하며 꼬리부분의 확률이 중심으로 모여 표준정규분포에 가까워짐\n",
    "\n",
    "327"
   ]
  },
  {
   "cell_type": "code",
   "execution_count": 1,
   "id": "b5ed93fc",
   "metadata": {},
   "outputs": [],
   "source": [
    "import pandas as pd\n",
    "import numpy as np\n",
    "import matplotlib.pyplot as plt\n",
    "import seaborn as sns\n",
    "\n",
    "from scipy import stats"
   ]
  },
  {
   "cell_type": "code",
   "execution_count": 2,
   "id": "9aa8e194",
   "metadata": {},
   "outputs": [
    {
     "data": {
      "text/html": [
       "<div>\n",
       "<style scoped>\n",
       "    .dataframe tbody tr th:only-of-type {\n",
       "        vertical-align: middle;\n",
       "    }\n",
       "\n",
       "    .dataframe tbody tr th {\n",
       "        vertical-align: top;\n",
       "    }\n",
       "\n",
       "    .dataframe thead th {\n",
       "        text-align: right;\n",
       "    }\n",
       "</style>\n",
       "<table border=\"1\" class=\"dataframe\">\n",
       "  <thead>\n",
       "    <tr style=\"text-align: right;\">\n",
       "      <th></th>\n",
       "      <th>0</th>\n",
       "    </tr>\n",
       "  </thead>\n",
       "  <tbody>\n",
       "    <tr>\n",
       "      <th>0</th>\n",
       "      <td>175</td>\n",
       "    </tr>\n",
       "    <tr>\n",
       "      <th>1</th>\n",
       "      <td>190</td>\n",
       "    </tr>\n",
       "    <tr>\n",
       "      <th>2</th>\n",
       "      <td>215</td>\n",
       "    </tr>\n",
       "    <tr>\n",
       "      <th>3</th>\n",
       "      <td>198</td>\n",
       "    </tr>\n",
       "    <tr>\n",
       "      <th>4</th>\n",
       "      <td>184</td>\n",
       "    </tr>\n",
       "  </tbody>\n",
       "</table>\n",
       "</div>"
      ],
      "text/plain": [
       "     0\n",
       "0  175\n",
       "1  190\n",
       "2  215\n",
       "3  198\n",
       "4  184"
      ]
     },
     "execution_count": 2,
     "metadata": {},
     "output_type": "execute_result"
    }
   ],
   "source": [
    "# example 9\n",
    "path = '../data/pstat/예제, 연습문제/'\n",
    "bacteria = pd.DataFrame(np.array([175,190,215,198,184,207,210,193,196,180]))#pd.read_excel(path + 'ch11.xlsx',sheet_name='예제4',header=None)\n",
    "bacteria.head()"
   ]
  },
  {
   "cell_type": "code",
   "execution_count": 3,
   "id": "16e2157f",
   "metadata": {},
   "outputs": [
    {
     "data": {
      "text/plain": [
       "[0    187.183813\n",
       " dtype: float64,\n",
       " 0    202.416187\n",
       " dtype: float64]"
      ]
     },
     "execution_count": 3,
     "metadata": {},
     "output_type": "execute_result"
    }
   ],
   "source": [
    "x_bar = np.mean(bacteria)\n",
    "var = np.var(bacteria, ddof=1)\n",
    "s = np.std(bacteria, ddof=1)\n",
    "n = len(bacteria)\n",
    "se = stats.sem(bacteria)\n",
    "\n",
    "alpha = 0.1\n",
    "t_alpha = stats.t.ppf(1-alpha/2, n-1)\n",
    "interval = t_alpha * se\n",
    "ci = [x_bar-interval, x_bar+interval]\n",
    "ci"
   ]
  },
  {
   "cell_type": "code",
   "execution_count": 4,
   "id": "b7dd844a",
   "metadata": {},
   "outputs": [
    {
     "data": {
      "text/plain": [
       "array([0.12113885])"
      ]
     },
     "execution_count": 4,
     "metadata": {},
     "output_type": "execute_result"
    }
   ],
   "source": [
    "t_val = (x_bar - 200) / se\n",
    "p_val = stats.t.cdf(t_val, df=n-1)\n",
    "p_val"
   ]
  },
  {
   "cell_type": "code",
   "execution_count": 5,
   "id": "3f15da17",
   "metadata": {},
   "outputs": [
    {
     "name": "stdout",
     "output_type": "stream",
     "text": [
      "1.8856180831641507 1.3721836411102863\n"
     ]
    }
   ],
   "source": [
    "# example 1\n",
    "alpha = 0.1\n",
    "print(stats.t.ppf(1-alpha,df=2), stats.t.ppf(1-alpha,df=10))"
   ]
  },
  {
   "cell_type": "code",
   "execution_count": 6,
   "id": "fdf0c7c5",
   "metadata": {},
   "outputs": [
    {
     "data": {
      "text/plain": [
       "1.8331129326536335"
      ]
     },
     "execution_count": 6,
     "metadata": {},
     "output_type": "execute_result"
    }
   ],
   "source": [
    "# example 2\n",
    "alpha = 0.1\n",
    "stats.t.ppf(1-alpha/2, df=9)"
   ]
  },
  {
   "cell_type": "code",
   "execution_count": 7,
   "id": "8b39d744",
   "metadata": {},
   "outputs": [
    {
     "name": "stdout",
     "output_type": "stream",
     "text": [
      "2.0518305164802833\n",
      "1.3253407069850462\n",
      "1.7396067260750672\n",
      "-1.7291328115213678\n"
     ]
    }
   ],
   "source": [
    "# prob 2.2\n",
    "# 1   \n",
    "print(stats.t.ppf(1-0.05/2, df=27))\n",
    "\n",
    "# 2\n",
    "print(stats.t.ppf(1-0.1, df=20))\n",
    "\n",
    "# 3\n",
    "print(stats.t.ppf(1-0.05, df=17))\n",
    "\n",
    "# 4\n",
    "print(stats.t.ppf(0.05, df=19))"
   ]
  },
  {
   "cell_type": "code",
   "execution_count": 8,
   "id": "154cf3c3",
   "metadata": {},
   "outputs": [
    {
     "name": "stdout",
     "output_type": "stream",
     "text": [
      "0.04996462178926353\n",
      "0.9900042102388948\n",
      "0.7934093703754337\n",
      "0.8899762848394801\n"
     ]
    }
   ],
   "source": [
    "# prob 2.4\n",
    "# 1\n",
    "print(stats.t.cdf(-1.740, df=17))\n",
    "\n",
    "# 2\n",
    "print(stats.t.cdf(3.143,df=6))\n",
    "\n",
    "# 3\n",
    "print(stats.t.cdf(1.330,df=10) - stats.t.cdf(-1.330, df=18))\n",
    "\n",
    "# 4\n",
    "print(stats.t.cdf(2.764, df=10)-stats.t.cdf(-1.372, df=10))"
   ]
  },
  {
   "cell_type": "code",
   "execution_count": 9,
   "id": "cb65ae80",
   "metadata": {},
   "outputs": [
    {
     "name": "stdout",
     "output_type": "stream",
     "text": [
      "2.015048372669157\n",
      "1.8124611228107335\n",
      "1.7530503556925547\n",
      "1.7247182429207857\n",
      "1.7081407612518986\n"
     ]
    }
   ],
   "source": [
    "# prob 2.6\n",
    "print(stats.t.ppf(1-0.05, df=5))\n",
    "print(stats.t.ppf(1-0.05, df=10))\n",
    "print(stats.t.ppf(1-0.05, df=15))\n",
    "print(stats.t.ppf(1-0.05, df=20))\n",
    "print(stats.t.ppf(1-0.05, df=25))"
   ]
  },
  {
   "cell_type": "code",
   "execution_count": 10,
   "id": "e69cf89b",
   "metadata": {},
   "outputs": [
    {
     "name": "stdout",
     "output_type": "stream",
     "text": [
      "2.421584703654081\n",
      "2.534466464830803\n",
      "-3.1746674431912982\n",
      "3.0028749738417986\n",
      "1.8396511415069043\n"
     ]
    }
   ],
   "source": [
    "# prob 2.8\n",
    "# 1\n",
    "print(stats.t.ppf(1-0.03, df=5))\n",
    "\n",
    "# 2\n",
    "print(stats.t.ppf(1-0.016, df=9))\n",
    "\n",
    "# 3\n",
    "print(stats.t.ppf(0.004, df=12))\n",
    "\n",
    "# 4\n",
    "print(stats.t.ppf(1-0.03/2, df=5))\n",
    "\n",
    "# 5\n",
    "print(stats.t.ppf(0.96, df=21))"
   ]
  },
  {
   "cell_type": "markdown",
   "id": "9ebd02ed",
   "metadata": {},
   "source": [
    "## 11.3 모평균에 대한 추론\n",
    "\n",
    "- 표본의 크기가 작아도 모평균 점 추정량으로 표본평균을 많이 사용.\n",
    "- 구간추정이나 검정의 경우 표본의 크기가 작을 때는 정규분포를 그대로 사용할 수 없는 경우가 많음\n",
    "    - 표본의 크기가 작을 때는, 모집단이 정규분포를 따르고 모분산이 알려져 있을 때만 정규분포 사용 가능\n",
    "    - 모집단에 대한 정규분포은 적절하더라도 모분산이 알려져 있지 않은 경우, t분포를 이용\n",
    "    \n",
    "### 구간추정\n",
    "- 정규모집단에서 추출한 표본으로부터 계산된 통계량 $\\frac{\\bar{X}-\\mu}{s\\sqrt{n}}$은 자유도가 n-1인 t분포를 따른다.\n",
    "- 따라서 상위$\\alpha/2$의 확률을 주는 값 $t_{\\alpha/2}(n-1)$에 대하여$$P(-t_{\\alpha/2}(n-1)<\\frac{\\bar{X}-\\mu}{s\\sqrt{n}}<t_{\\alpha/2}(n-1))=1-\\alpha \\\\ \\therefore P(\\bar{X}-t_{\\alpha/2}(n-1)\\frac{s}{\\sqrt{n}} < \\mu < \\bar{X}+t_{\\alpha/2}(n-1)\\frac{s}{\\sqrt{n}})=1-\\alpha$$\n",
    "- 정규모집단으로부터 표본을 추출할 때, $\\mu$에 대한 $100(1-\\alpha)$%의 신뢰구간은 $$(\\bar{X}-t_{\\alpha/2}(n-1)\\frac{s}{\\sqrt{n}},\\quad \\bar{X}+t_{\\alpha/2}(n-1)\\frac{s}{\\sqrt{n}})\\\\ \\bar{X} \\pm t_{\\alpha/2}(n-1)\\frac{s}{\\sqrt{n}}$$\n",
    "    - $\\sigma$가 알려져, s를 $\\sigma$로 대체한다면, t분포 대신 정규분포를 이용하고, 신뢰구간의 길이는 $2\\times z_{\\alpha/2}\\frac{\\sigma}{\\sqrt{n}}$\n",
    "    - $\\sigma$가 알려져 있지 않은 경우, s로 추정함으로써, 신뢰길이가 달라질 뿐 아니라, $z_{\\alpha/2}$ 대신 그보다 큰 $t_{\\alpha/2}(n-1)$를 사용함으로써 신뢰구간의 길이가 길어지게 된다.\n",
    "    - n이 커져갈 수록, $\\sigma$도 s에 의해 더 정확하게 추정되고, $t_{\\alpha/2}(n-1)$도 $z_{\\alpha/2}$에 가까워져서 두 경우 신뢰구간의 길이는 비슷하게 됨\n",
    "- **실제로 모집단이 정규분포를 따라야한다는 가정이 있으므로, 정규확률그림을 그려 판단 필요**"
   ]
  },
  {
   "cell_type": "code",
   "execution_count": 11,
   "id": "dbd6b5fe",
   "metadata": {},
   "outputs": [
    {
     "data": {
      "text/plain": [
       "1.1823976360494726"
      ]
     },
     "execution_count": 11,
     "metadata": {},
     "output_type": "execute_result"
    }
   ],
   "source": [
    "# example 3\n",
    "# 1\n",
    "mu = 39.3\n",
    "s = 2.6\n",
    "n = 15\n",
    "alpha = 0.1\n",
    "\n",
    "t_alpha = stats.t.ppf(1-alpha/2, n-1)\n",
    "interval = t_alpha * s / np.sqrt(n)\n",
    "interval"
   ]
  },
  {
   "cell_type": "code",
   "execution_count": 12,
   "id": "e3a930cc",
   "metadata": {},
   "outputs": [
    {
     "data": {
      "text/plain": [
       "[38.117602363950525, 40.48239763604947]"
      ]
     },
     "execution_count": 12,
     "metadata": {},
     "output_type": "execute_result"
    }
   ],
   "source": [
    "# 2\n",
    "ci = [mu-interval, mu+interval]\n",
    "ci"
   ]
  },
  {
   "cell_type": "markdown",
   "id": "8a3b28d0",
   "metadata": {},
   "source": [
    "### 가설검정\n",
    "- 모집단이 정규분포를 따르고 모분산이 알려져 있지 않은 경우, $\\frac{\\bar{X}-\\mu_0}{s/\\sqrt{n}}$는 정규분포를 따르지 않고, 자유도가 n-1인 t 분포를 따르게 된다. **검정통계량이 t분포를 따르는 경우 t-검정**\n",
    "- 모평균 $\\mu$에 대한 검정\n",
    "$$t=\\frac{\\bar{X}-\\mu_0}{s/\\sqrt{n}}$$\n",
    "    - 검정통계량은 $H_0$이 맞을 때 자유도가 (n-1)인 t분포를 따른다. 각 대립가설에 대한 유의수준 $\\alpha$를 갖는 기각역은 다음과 같다.\n",
    "$$H_1:\\mu<\\mu_0일\\ 때\\quad R:t\\leq-t_{\\alpha}(n-1) \\\\\n",
    "    H_1:\\mu>\\mu_0일\\ 때\\quad R:t\\geq-t_{\\alpha}(n-1) \\\\\n",
    "    H_1:\\mu\\neq\\mu_0일\\ 때\\quad R:|t|\\geq-t_{\\alpha/2}(n-1)$$\n",
    "    \n",
    "- t검정도 p값을 계산하는 것이 바람직    "
   ]
  },
  {
   "cell_type": "code",
   "execution_count": 13,
   "id": "046bf8d3",
   "metadata": {},
   "outputs": [
    {
     "name": "stdout",
     "output_type": "stream",
     "text": [
      "-1.2515695604210733\n",
      "-1.8331129326536337\n",
      "0.12113884687382763\n"
     ]
    }
   ],
   "source": [
    "# example 4\n",
    "\n",
    "data = [175, 190, 215, 198, 184, 207, 210, 193, 196, 180]\n",
    "mu = 200\n",
    "n = len(data)\n",
    "alpha = 0.05\n",
    "s = np.std(data, ddof=1)\n",
    "\n",
    "t = (np.mean(data) - mu) / (s/np.sqrt(n)); print(t)\n",
    "t_alpha = stats.t.ppf(alpha, df=n-1); print(t_alpha)\n",
    "p_value = stats.t.cdf(t, df=n-1); print(p_value)"
   ]
  },
  {
   "cell_type": "code",
   "execution_count": 14,
   "id": "1b4f6886",
   "metadata": {},
   "outputs": [
    {
     "name": "stdout",
     "output_type": "stream",
     "text": [
      "[12.605323495006326, 18.537533647850815]\n"
     ]
    }
   ],
   "source": [
    "# prob 3.2\n",
    "\n",
    "data = [12,16,15,20,17,11,18]\n",
    "n = len(data)\n",
    "s = np.std(data, ddof=1)\n",
    "alpha = 0.05\n",
    "\n",
    "t_alpha = stats.t.ppf(1-alpha/2, df=n-1)\n",
    "interval = t_alpha * s / np.sqrt(n)\n",
    "\n",
    "ci = [np.mean(data)-interval, np.mean(data)+interval]\n",
    "print(ci)"
   ]
  },
  {
   "cell_type": "code",
   "execution_count": 15,
   "id": "68184d0d",
   "metadata": {},
   "outputs": [
    {
     "name": "stdout",
     "output_type": "stream",
     "text": [
      "1.0222222222222221\n",
      "0.2635231383473649\n"
     ]
    }
   ],
   "source": [
    "# prob 3.4\n",
    "# 1\n",
    "\n",
    "data = [1.2, 0.8, 0.6, 1.1, 1.2, 0.9, 1.5, 0.9, 1.0]\n",
    "mu = np.mean(data); print(mu)\n",
    "s = np.std(data, ddof=1); print(s)"
   ]
  },
  {
   "cell_type": "code",
   "execution_count": 16,
   "id": "f4902b25",
   "metadata": {},
   "outputs": [
    {
     "data": {
      "text/plain": [
       "[0.746166942082108, 1.2982775023623363]"
      ]
     },
     "execution_count": 16,
     "metadata": {},
     "output_type": "execute_result"
    }
   ],
   "source": [
    "# 2\n",
    "alpha = 0.02\n",
    "t_alpha = stats.t.ppf(1-alpha/2, df=n-1)\n",
    "interval = t_alpha * s / np.sqrt(len(data))\n",
    "ci = [mu-interval, mu+interval]\n",
    "ci"
   ]
  },
  {
   "cell_type": "code",
   "execution_count": 17,
   "id": "4088ffd5",
   "metadata": {},
   "outputs": [
    {
     "data": {
      "text/plain": [
       "[0.34643672594272634, 0.41356327405727367]"
      ]
     },
     "execution_count": 17,
     "metadata": {},
     "output_type": "execute_result"
    }
   ],
   "source": [
    "# prob 3.6\n",
    "mu = 0.38\n",
    "s = 0.06\n",
    "n = 25\n",
    "alpha = 0.01\n",
    "\n",
    "t_alpha = stats.t.ppf(1-alpha/2, df=n-1)\n",
    "interval = t_alpha * s / np.sqrt(n)\n",
    "\n",
    "ci = [mu-interval, mu+interval]\n",
    "ci"
   ]
  },
  {
   "cell_type": "code",
   "execution_count": 18,
   "id": "f53010df",
   "metadata": {},
   "outputs": [
    {
     "name": "stdout",
     "output_type": "stream",
     "text": [
      "134.0\n",
      "12.0\n"
     ]
    }
   ],
   "source": [
    "# prob 3.8\n",
    "# 1\n",
    "n = 18\n",
    "alpha = 0.1\n",
    "t_alpha = stats.t.ppf(1-alpha/2, df=n-1)\n",
    "# interval = t_alpha * s / np.sqrt(n)\n",
    "mu = (146-122)/2 + 122; print(mu)\n",
    "interval = (146-122)/2; print(interval)"
   ]
  },
  {
   "cell_type": "code",
   "execution_count": 19,
   "id": "dbab9812",
   "metadata": {},
   "outputs": [
    {
     "name": "stdout",
     "output_type": "stream",
     "text": [
      "[119.44625830970392, 148.55374169029608]\n"
     ]
    }
   ],
   "source": [
    "# 2\n",
    "s = interval * np.sqrt(n) / t_alpha\n",
    "alpha = 0.05\n",
    "\n",
    "t_alpha = stats.t.ppf(1-alpha/2, df=n-1)\n",
    "interval = t_alpha * s / np.sqrt(n)\n",
    "\n",
    "ci = [mu-interval, mu+interval]\n",
    "print(ci)"
   ]
  },
  {
   "cell_type": "code",
   "execution_count": 20,
   "id": "3a8dc4a6",
   "metadata": {},
   "outputs": [
    {
     "name": "stdout",
     "output_type": "stream",
     "text": [
      "1.729132811521367\n",
      "1.9444069369563393\n"
     ]
    }
   ],
   "source": [
    "# prob 3.10\n",
    "n = 20\n",
    "mu = 182\n",
    "s = 2.3\n",
    "alpha = 0.05\n",
    "\n",
    "t_alpha = stats.t.ppf(1-alpha, df=n-1) ; print(t_alpha)\n",
    "t_val = -(181 - mu) / (s/np.sqrt(n)) ; print(t_val)"
   ]
  },
  {
   "cell_type": "code",
   "execution_count": 21,
   "id": "b9344f8d",
   "metadata": {},
   "outputs": [
    {
     "data": {
      "text/plain": [
       "0.966598744567122"
      ]
     },
     "execution_count": 21,
     "metadata": {},
     "output_type": "execute_result"
    }
   ],
   "source": [
    "stats.t.cdf(t_val, df=n-1)"
   ]
  },
  {
   "cell_type": "code",
   "execution_count": 22,
   "id": "6f78569c",
   "metadata": {},
   "outputs": [
    {
     "name": "stdout",
     "output_type": "stream",
     "text": [
      "2.0638985616280205\n",
      "2.500000000000002\n"
     ]
    },
    {
     "data": {
      "text/plain": [
       "0.9901729124417107"
      ]
     },
     "execution_count": 22,
     "metadata": {},
     "output_type": "execute_result"
    }
   ],
   "source": [
    "# prob 3.12\n",
    "mu_0 = 0.38\n",
    "s = 0.06\n",
    "n = 25\n",
    "alpha = 0.05\n",
    "mu = 0.35\n",
    "\n",
    "t_alpha = stats.t.ppf(1-alpha/2, df=n-1); print(t_alpha)\n",
    "t_val = -(mu - mu_0) / (s/np.sqrt(n)); print(t_val)\n",
    "stats.t.cdf(t_val, df=n-1)"
   ]
  },
  {
   "cell_type": "code",
   "execution_count": 23,
   "id": "f511418a",
   "metadata": {},
   "outputs": [
    {
     "data": {
      "text/plain": [
       "[4.101518243994926, 4.7754048329281495]"
      ]
     },
     "execution_count": 23,
     "metadata": {},
     "output_type": "execute_result"
    }
   ],
   "source": [
    "# prob 3.14\n",
    "data = [3.5, 5.1, 5.0, 3.6, 4.8, 3.6, 4.7, 4.3, 4.2, 4.5, 4.9, 4.7, 4.8]\n",
    "n = len(data)\n",
    "s = np.std(data, ddof=1)\n",
    "mu = np.mean(data)\n",
    "alpha = 0.05\n",
    "\n",
    "t_alpha = stats.t.ppf(1-alpha/2, df=n-1)\n",
    "interval = t_alpha * s / np.sqrt(n)\n",
    "\n",
    "ci = [mu-interval, mu+interval]; ci"
   ]
  },
  {
   "cell_type": "code",
   "execution_count": 24,
   "id": "de3db28f",
   "metadata": {},
   "outputs": [
    {
     "data": {
      "text/plain": [
       "[67.78375736899949, 77.61624263100052]"
      ]
     },
     "execution_count": 24,
     "metadata": {},
     "output_type": "execute_result"
    }
   ],
   "source": [
    "# prob 3.16\n",
    "n = 19\n",
    "mu = 72.7\n",
    "s = 10.2\n",
    "alpha = 0.05\n",
    "\n",
    "t_alpha = stats.t.ppf(1-alpha/2, df=n-1)\n",
    "interval = t_alpha * s / np.sqrt(n)\n",
    "\n",
    "ci = [mu-interval, mu+interval]; ci"
   ]
  },
  {
   "cell_type": "code",
   "execution_count": 25,
   "id": "81366f9a",
   "metadata": {},
   "outputs": [
    {
     "data": {
      "text/plain": [
       "0.980128308985024"
      ]
     },
     "execution_count": 25,
     "metadata": {},
     "output_type": "execute_result"
    }
   ],
   "source": [
    "# prob 3.18\n",
    "# 1\n",
    "mu_0 = 5000\n",
    "n = 27\n",
    "mu = 5500\n",
    "s = 1200\n",
    "\n",
    "t = (mu - mu_0) / (s/np.sqrt(n))\n",
    "p_val = stats.t.cdf(t, df=n-1) ; p_val"
   ]
  },
  {
   "cell_type": "code",
   "execution_count": 26,
   "id": "00f2ebb2",
   "metadata": {},
   "outputs": [
    {
     "data": {
      "text/plain": [
       "[4927.584961651284, 6072.415038348716]"
      ]
     },
     "execution_count": 26,
     "metadata": {},
     "output_type": "execute_result"
    }
   ],
   "source": [
    "# 2\n",
    "alpha = 0.02\n",
    "\n",
    "t_alpha = stats.t.ppf(1-alpha/2, df=n-1)\n",
    "interval = t_alpha * s / np.sqrt(n)\n",
    "\n",
    "ci = [mu-interval, mu+interval]; ci"
   ]
  },
  {
   "cell_type": "code",
   "execution_count": 27,
   "id": "cd0c05af",
   "metadata": {},
   "outputs": [
    {
     "name": "stdout",
     "output_type": "stream",
     "text": [
      "6.795093548095165 29.204906451904833\n",
      "129.24047830367232 174.092855029661\n"
     ]
    }
   ],
   "source": [
    "# prob 3.20\n",
    "# 1\n",
    "cd = [21, 38, 12, 15, 14, 8]\n",
    "zn = [140, 190, 130, 150, 160, 140]\n",
    "alpha = 0.05\n",
    "\n",
    "t_alpha = stats.t.ppf(1-alpha/2, len(cd)-1)\n",
    "interval_cd = t_alpha * np.std(cd, ddof=1) / np.sqrt(len(cd))\n",
    "interval_zn = t_alpha * np.std(zn, ddof=1) / np.sqrt(len(zn))\n",
    "\n",
    "print(np.mean(cd)-interval_cd, np.mean(cd)+interval_cd)\n",
    "print(np.mean(zn)-interval_zn, np.mean(zn)+interval_zn)"
   ]
  },
  {
   "cell_type": "code",
   "execution_count": 28,
   "id": "03fa25e5",
   "metadata": {},
   "outputs": [
    {
     "data": {
      "text/plain": [
       "0.2611053326750764"
      ]
     },
     "execution_count": 28,
     "metadata": {},
     "output_type": "execute_result"
    }
   ],
   "source": [
    "# 2\n",
    "mu = 12\n",
    "s = np.std(zn, ddof=1)\n",
    "n = len(zn)\n",
    "\n",
    "t_val = (mu - np.mean(cd))/(s/np.sqrt(n))\n",
    "stats.t.cdf(t_val, df=n-1)"
   ]
  },
  {
   "cell_type": "code",
   "execution_count": 29,
   "id": "6005ebf5",
   "metadata": {},
   "outputs": [
    {
     "data": {
      "text/plain": [
       "0.9428226291408562"
      ]
     },
     "execution_count": 29,
     "metadata": {},
     "output_type": "execute_result"
    }
   ],
   "source": [
    "# prob 3.22\n",
    "# 1\n",
    "# H_0 : 해당 공장의 평균 접착력 수준은 500kg이다\n",
    "\n",
    "# 2\n",
    "# ???\n",
    "\n",
    "# 3\n",
    "# 표본집단이 정규분포\n",
    "n = 15\n",
    "mu = 510\n",
    "mu_0 = 500\n",
    "s = 23\n",
    "alpha = 0.05\n",
    "\n",
    "t_val = (mu-mu_0)/(s/np.sqrt(n))\n",
    "stats.t.cdf(t_val, df=n-1)"
   ]
  },
  {
   "cell_type": "code",
   "execution_count": 30,
   "id": "9f64f7bc",
   "metadata": {},
   "outputs": [
    {
     "data": {
      "text/plain": [
       "0.9539000626287104"
      ]
     },
     "execution_count": 30,
     "metadata": {},
     "output_type": "execute_result"
    }
   ],
   "source": [
    "# 4\n",
    "z_val = (mu-mu_0) / (23/np.sqrt(n))\n",
    "stats.norm.cdf(z_val)"
   ]
  },
  {
   "cell_type": "code",
   "execution_count": 31,
   "id": "f2484ffc",
   "metadata": {},
   "outputs": [],
   "source": [
    "# prob 3.24\n",
    "# 1\n",
    "# t(25-1) 분포\n",
    "\n",
    "# 2\n",
    "n = 25\n",
    "mu = 30\n",
    "s = np.sqrt(25)\n",
    "alpha = 0.05"
   ]
  },
  {
   "cell_type": "markdown",
   "id": "f01a74d8",
   "metadata": {},
   "source": [
    "## 11.4 신뢰구간과 양측검정의 관계\n",
    "\n",
    "- 구간추정의 과정과 양측검정의 과정이 비슷\n",
    "    - $\\mu$에 대한 $100(1-\\alpha)$%의 신뢰구간 $$(\\bar{X}-t_{\\alpha/2}(n-1)\\frac{s}{\\sqrt{n}},\\ \\bar{X}+t_{\\alpha/2}(n-1)\\frac{s}{\\sqrt{n}})$$\n",
    "    - $H_0:\\mu=\\mu_0$에 대한 양측 검정에서의 기각역은 유의수준 $\\alpha$일 때, $$R:|t|=|\\frac{\\bar{X}-\\mu_0}{s/\\sqrt{n}}|\\geq t_{\\alpha/2}(n-1) \\\\ 채택영역\\ :\\ \\bar{X}-t_{\\alpha/2}(n-1)\\frac{s}{\\sqrt{n}}<\\mu_0<\\bar{X}+t_{\\alpha/2}(n-1)\\frac{s}{\\sqrt{n}}$$\n",
    "    - 따라서 $\\mu_0$이 $100(1-\\alpha)$% 신뢰구간에 포함되면, 가설 H0를 유의수준 $\\alpha$로 양측검정 한다고 할 때, 검정통계량은 채택영역에 포함되어 기각할 수 없다. $\\mu$에 대한 신뢰구간을 구하고 나면 $\\mu_0$이 그 구간에 포함되는지에 따라 가설에 대한 결론을 얻을 수 있다. 이는 비율이나 표준편차에도 해당\n",
    "\n",
    "> 모수 $\\theta$에 대한 $100(1-\\alpha)$%의 신뢰구간이 (L,U)로 구해졌을 때, 가설 $H_0:\\theta=\\theta_0$대 $H_1:\\theta\\neq\\theta_0$에 대하여 유의수준 $\\alpha$로 검정을 시행할 때 결론은 다음과 같다. $$\\theta_0\\in(L,U)\\Leftrightarrow H_0을\\ 기각할\\ 수\\ 없다.\\\\ \\theta_0\\notin(L,U)\\Leftrightarrow H_0을\\ 기각한다.$$"
   ]
  },
  {
   "cell_type": "code",
   "execution_count": 32,
   "id": "f40b9f3c",
   "metadata": {},
   "outputs": [
    {
     "data": {
      "text/plain": [
       "0.3152680377784888"
      ]
     },
     "execution_count": 32,
     "metadata": {},
     "output_type": "execute_result"
    }
   ],
   "source": [
    "# prob 5\n",
    "n = 9\n",
    "x_bar = 8.3\n",
    "s = 1.2\n",
    "mu = 8.5\n",
    "alpha = 0.05\n",
    "\n",
    "t_val = (x_bar-mu)/(s/np.sqrt(n))\n",
    "stats.t.cdf(t_val, df=n-1)"
   ]
  },
  {
   "cell_type": "code",
   "execution_count": 33,
   "id": "fa69de2d",
   "metadata": {},
   "outputs": [
    {
     "name": "stdout",
     "output_type": "stream",
     "text": [
      "7.3775983459866525 9.22240165401335\n"
     ]
    }
   ],
   "source": [
    "t_alpha = stats.t.ppf(1-alpha/2, df=n-1)\n",
    "interval = t_alpha *s/np.sqrt(n)\n",
    "\n",
    "print(x_bar-interval, x_bar+interval)"
   ]
  },
  {
   "cell_type": "code",
   "execution_count": 34,
   "id": "b2367c6a",
   "metadata": {},
   "outputs": [],
   "source": [
    "# prob 4.2\n",
    "# 1\n",
    "alpha = 0.1\n",
    "mu = 39\n",
    "x_bar = (28.12+40.48)/2\n",
    "interval = (40.48-28.12)/2\n",
    "\n",
    "t_val = (mu-x_bar) / (s/np.sqrt(n))\n",
    "# interval = t_alpha * s / np.sqrt(n)\n",
    "# t_alpha = stats.t.ppf(1-alpha/2, df=n-1)\n",
    "# "
   ]
  },
  {
   "cell_type": "code",
   "execution_count": 35,
   "id": "17e1d006",
   "metadata": {},
   "outputs": [
    {
     "data": {
      "text/plain": [
       "[1.2783732261218237, 12.284126773878176]"
      ]
     },
     "execution_count": 35,
     "metadata": {},
     "output_type": "execute_result"
    }
   ],
   "source": [
    "# prob 4.4\n",
    "# 1\n",
    "data = [1.8, 10.6, -1.2, 12.9, 15.1, -2.0, 6.25, 10.8]\n",
    "n = len(data)\n",
    "x_bar = np.mean(data)\n",
    "s = np.std(data, ddof=1)\n",
    "alpha = 0.05\n",
    "\n",
    "t_alpha = stats.t.ppf(1-alpha/2, df=n-1)\n",
    "interval = t_alpha * s / np.sqrt(n)\n",
    "ci = [x_bar-interval, x_bar+interval]; ci"
   ]
  },
  {
   "cell_type": "code",
   "execution_count": 36,
   "id": "0e272db8",
   "metadata": {},
   "outputs": [
    {
     "data": {
      "text/plain": [
       "0.9952117341379233"
      ]
     },
     "execution_count": 36,
     "metadata": {},
     "output_type": "execute_result"
    }
   ],
   "source": [
    "# 2\n",
    "mu = 15\n",
    "\n",
    "t_val = (mu - x_bar) / (s/np.sqrt(n))\n",
    "stats.t.cdf(t_val, df=n-1)"
   ]
  },
  {
   "cell_type": "markdown",
   "id": "00110822",
   "metadata": {},
   "source": [
    "## 11.5 모표준편차에 대한 추론\n",
    "\n",
    "- 모집단이 정규분포를 따른다는 가정하에서 모집단의 표준편차 추론\n",
    "- **모집단이 정규분포를 따르지 않을 때, t분포를 이용한 모평균의 대한 추론보다 심각한 오류를 범할 가능성이 더 높다**\n",
    "$$ s^2 = \\frac{\\sum(X_i-\\bar{X})^2}{n-1}$$\n",
    "\n",
    "- 점추정의 겨우 $sigma^2$의 추정량으로 $s^2$을 사용하고, 모표준펀차의 추정량으로 표본표준편차 s를 사용한다. 구간추정이나 검정은 $s^2$의 분포가 필요한데 그 분포는 $\\chi^2$분포와 연관\n",
    "> 정규모집단 $N(\\mu,\\sigma^2)$으로부터 임의추출된 표본이 $X_1, ..., X_n$일 때, $$\\chi^2=\\frac{\\sum^{n}_{i=1}(X_i1-\\bar{X})^2}{\\sigma^2}$$은 자유도가 (n-1)인 $\\chi^2$분포를 따르고, 이를 기호로 $\\chi^2(n-1)$로서 표현한다.\n",
    "\n",
    "- $\\chi^2$분포는 확률밀도함수가 양수 쪽에만 퍼져있고 오른쪽에 긴 꼬리를 갖고 있는 비대칭형. 자유도가 클 수록 0으로부터 멀리 떨어져서 넓게 분포한다.\n",
    "- $\\chi^2_\\alpha(\\gamma)$ : 자유도 $\\gamma$인 확률변수 $chi^2$에 대하여 $P[\\chi^2\\geq\\chi^2_\\alpha(\\gamma)]=\\alpha$를 만족시킨다. 하위값은 $\\chi^2_{1-\\alpha}(\\gamma)$"
   ]
  },
  {
   "cell_type": "code",
   "execution_count": 37,
   "id": "136bafff",
   "metadata": {},
   "outputs": [
    {
     "name": "stdout",
     "output_type": "stream",
     "text": [
      "8.671760204670077\n",
      "27.58711163827534\n"
     ]
    }
   ],
   "source": [
    "# example 6\n",
    "alpha = 0.05\n",
    "\n",
    "print(stats.chi2.ppf(alpha, df=17))\n",
    "print(stats.chi2.ppf(1-alpha, df=17))"
   ]
  },
  {
   "cell_type": "markdown",
   "id": "88c29870",
   "metadata": {},
   "source": [
    "- 표본분산 $s^2$를 통해 $\\sigma^2$의 신뢰구간 얻기\n",
    "$$ \\frac{(n-1)s^2}{\\sigma^2} \\sim \\chi^2(n-1) \\\\ P(\\chi^2_{1-\\alpha/2}(n-1) < \\frac{(n-1)s^2}{\\sigma^2}<\\chi^2_{\\alpha/2}(n-1))=1-\\alpha \\\\ P(\\frac{(n-1)s^2}{\\chi^2_{\\alpha/2}(n-1)} < \\sigma^2 < \\frac{(n-1)s^2}{\\chi^2_{1-\\alpha/2}(n-1)})=1-\\alpha$$\n",
    "- $\\sigma^2$의 $100(1-\\alpha)$%신뢰구간에서 경곗값 제곱근으로 $\\sigma$의 $100(1-\\alpha)$% 신뢰구간 \n",
    "$$(s\\sqrt{\\frac{n-1}{\\chi^2_{\\alpha/2}(n-1)}},\\ s\\sqrt{\\frac{n-1}{\\chi^2_{1-\\alpha/2}(n-1)}}) $$\n",
    "\n",
    "- **신뢰구간의 중심이 그 추정치인 s가 아니다!**\n",
    "    "
   ]
  },
  {
   "cell_type": "code",
   "execution_count": 38,
   "id": "e5470a00",
   "metadata": {},
   "outputs": [
    {
     "data": {
      "text/plain": [
       "[0.6580790297576886, 0.29173879732511404]"
      ]
     },
     "execution_count": 38,
     "metadata": {},
     "output_type": "execute_result"
    }
   ],
   "source": [
    "# example 7\n",
    "n = 10\n",
    "s = 0.4\n",
    "alpha = 0.1\n",
    "\n",
    "ci = [s*np.sqrt((n-1)/(stats.chi2.ppf(alpha/2, df=n-1))), s*np.sqrt((n-1)/(stats.chi2.ppf(1-alpha/2, df=n-1)))]\n",
    "ci"
   ]
  },
  {
   "cell_type": "markdown",
   "id": "68765b34",
   "metadata": {},
   "source": [
    "- 가설 $H_0:\\sigma=\\sigma_0$을 검정하기 위한 검정통계량은 \\sigma의 추정량 s를 포함하는 통계량 $$\\chi^2=\\frac{(n-1)s^2}{\\sigma^2_0}$$이 되는데, 이 통계량 $H_0$이 맞을 때 자유도가 (n-1)인 $\\chi^2$분포에서 하위 $\\alpha$의 확률을 주는 값을 이용하여 $$ R:\\chi^2\\leq\\chi^2_{1-\\alpha}(n-1)$$\n",
    "- 대립가설 $H_1:\\sigma\\neq\\sigma^2$이라면 $\\chi^2$값이 아주 크거나, 작을 때 기각하게 되므로 유의수준 $\\alpha$에서의 기각역은 자유도가 (n-1)인 $\\chi^2$분포에서 상하위 $\\alpha/2$ 확률을 주는 값을 이용하여, $$ R\\ :\\ \\chi^2\\leq\\chi^2_{1-\\alpha/2}(n-1)\\ or\\ \\chi^2\\geq\\chi^2_{1-\\alpha/2}(n-1) $$"
   ]
  },
  {
   "cell_type": "code",
   "execution_count": 39,
   "id": "325d728f",
   "metadata": {},
   "outputs": [
    {
     "name": "stdout",
     "output_type": "stream",
     "text": [
      "36.0\n",
      "16.918977604620448\n"
     ]
    }
   ],
   "source": [
    "# example 8\n",
    "n = 10 \n",
    "s = 0.4\n",
    "alpha = 0.05\n",
    "sigma_0 = 0.2\n",
    "\n",
    "chi2_val = ((n-1)*np.power(s,2))/(np.power(sigma_0,2)); print(chi2_val)\n",
    "chi2_alpha = stats.chi2.ppf(1-alpha, df=n-1); print(chi2_alpha)"
   ]
  },
  {
   "cell_type": "markdown",
   "id": "6bf5ebf6",
   "metadata": {},
   "source": [
    "- 모표준편차 $\\sigma$에 대한 추론 (정규모집단일 때)\n",
    "\n",
    "> 자료 : 표준편차가 $\\sigma$인 정규모집단으로부터 임의추출한 $X_1, ..., X_n$\n",
    ">\n",
    "> $\\sigma$의 추정량 : $ s= \\sqrt{\\frac{\\sum(X_i-\\bar{x})^2}{n-1}} $\n",
    ">\n",
    "> $\\sigma$에 대한 $100(1-\\alpha)$% 신뢰구간 $(s\\sqrt{\\frac{(n-1)}{\\chi^2_{\\alpha/2}(n-1)}},\\ s\\sqrt{\\frac{(n-1)}{\\chi^2_{1-\\alpha/2}(n-1)}})$\n",
    ">\n",
    "> 가설 $H_0:\\sigma=\\sigma_0$에 대한 검정:\n",
    ">\n",
    "> 검정통계량 : $\\chi^2=\\frac{(n-1)s^2}{\\sigma^2_0}$ $$각\\ 대립가설에\\ 대한\\ 기각역:\\\\ H_1:\\sigma>\\sigma_0,\\quad R:\\chi^2\\geq \\chi^2_\\alpha(n-1) \\\\ H_1:\\sigma<\\sigma_0,\\quad R:\\chi^2\\leq \\chi^2_{1-\\alpha}(n-1) \\\\ H_1:\\sigma\\neq\\sigma_0,\\quad R:\\chi^2\\geq \\chi^2_{\\alpha/2}(n-1)\\ or\\ \\chi^2_{1-\\alpha/2}(n-1)$$"
   ]
  },
  {
   "cell_type": "code",
   "execution_count": 40,
   "id": "211156aa",
   "metadata": {},
   "outputs": [
    {
     "data": {
      "text/plain": [
       "24.76903534390146"
      ]
     },
     "execution_count": 40,
     "metadata": {},
     "output_type": "execute_result"
    }
   ],
   "source": [
    "# prob 5.2\n",
    "# 1\n",
    "stats.chi2.ppf(1-0.1, 17)"
   ]
  },
  {
   "cell_type": "code",
   "execution_count": 41,
   "id": "175f9bca",
   "metadata": {},
   "outputs": [
    {
     "data": {
      "text/plain": [
       "13.090514188172804"
      ]
     },
     "execution_count": 41,
     "metadata": {},
     "output_type": "execute_result"
    }
   ],
   "source": [
    "# 2\n",
    "stats.chi2.ppf(0.05, 23)"
   ]
  },
  {
   "cell_type": "code",
   "execution_count": 42,
   "id": "952dc2c8",
   "metadata": {},
   "outputs": [
    {
     "data": {
      "text/plain": [
       "51.80505721331751"
      ]
     },
     "execution_count": 42,
     "metadata": {},
     "output_type": "execute_result"
    }
   ],
   "source": [
    "# 3\n",
    "stats.chi2.ppf(1-0.1,40)"
   ]
  },
  {
   "cell_type": "code",
   "execution_count": 43,
   "id": "6a57e7f0",
   "metadata": {},
   "outputs": [
    {
     "data": {
      "text/plain": [
       "2.167349909298057"
      ]
     },
     "execution_count": 43,
     "metadata": {},
     "output_type": "execute_result"
    }
   ],
   "source": [
    "# 4\n",
    "stats.chi2.ppf(0.05, 7)"
   ]
  },
  {
   "cell_type": "code",
   "execution_count": 44,
   "id": "af550047",
   "metadata": {},
   "outputs": [
    {
     "data": {
      "text/plain": [
       "5.412947441089743"
      ]
     },
     "execution_count": 44,
     "metadata": {},
     "output_type": "execute_result"
    }
   ],
   "source": [
    "# prob 5.4\n",
    "# 1\n",
    "data = [12, 18, 9, 15, 4]\n",
    "s = np.std(data, ddof=1)\n",
    "s"
   ]
  },
  {
   "cell_type": "code",
   "execution_count": 46,
   "id": "a5df5b05",
   "metadata": {},
   "outputs": [
    {
     "data": {
      "text/plain": [
       "[3.243076192348213, 15.55440561631271]"
      ]
     },
     "execution_count": 46,
     "metadata": {},
     "output_type": "execute_result"
    }
   ],
   "source": [
    "# 2\n",
    "alpha = 0.05\n",
    "n = len(data)\n",
    "\n",
    "ci = [s*np.sqrt((n-1)/stats.chi2.ppf(1-alpha/2,df=n-1)), s*np.sqrt((n-1)/stats.chi2.ppf(alpha/2,df=n-1))]\n",
    "ci"
   ]
  },
  {
   "cell_type": "code",
   "execution_count": 48,
   "id": "0597c7ad",
   "metadata": {},
   "outputs": [
    {
     "name": "stdout",
     "output_type": "stream",
     "text": [
      "<class 'pandas.core.frame.DataFrame'>\n",
      "RangeIndex: 30 entries, 0 to 29\n",
      "Data columns (total 1 columns):\n",
      " #   Column  Non-Null Count  Dtype\n",
      "---  ------  --------------  -----\n",
      " 0   0       30 non-null     int64\n",
      "dtypes: int64(1)\n",
      "memory usage: 368.0 bytes\n"
     ]
    }
   ],
   "source": [
    "# prob 5.6\n",
    "path = '../data/pstat/예제, 연습문제/'\n",
    "data = pd.read_excel(path + 'ch10.xlsx',sheet_name='예제1',header=None)\n",
    "data.info()"
   ]
  },
  {
   "cell_type": "code",
   "execution_count": 58,
   "id": "6c144ca4",
   "metadata": {},
   "outputs": [
    {
     "name": "stdout",
     "output_type": "stream",
     "text": [
      "0    155.343284\n",
      "dtype: float64\n"
     ]
    },
    {
     "data": {
      "text/plain": [
       "17.70836618282458"
      ]
     },
     "execution_count": 58,
     "metadata": {},
     "output_type": "execute_result"
    }
   ],
   "source": [
    "n = len(data)\n",
    "s = np.std(data, ddof=1)\n",
    "mu = np.mean(data)\n",
    "sigma = 6.7\n",
    "alpha = 0.05\n",
    "\n",
    "chi2_val = ((n-1)*np.power(s,2))/sigma ; print(chi2_val)\n",
    "stats.chi2.ppf(alpha, df=n-1)"
   ]
  },
  {
   "cell_type": "code",
   "execution_count": 61,
   "id": "b1b1d888",
   "metadata": {},
   "outputs": [
    {
     "data": {
      "text/plain": [
       "[1.561788198908744, 4.145202820226031]"
      ]
     },
     "execution_count": 61,
     "metadata": {},
     "output_type": "execute_result"
    }
   ],
   "source": [
    "# prob 5.8\n",
    "\n",
    "data = [226, 228, 226, 225, 232, 228, 227, 229, 225, 230]\n",
    "n = len(data)\n",
    "s = np.std(data, ddof=1)\n",
    "alpha = 0.05\n",
    "\n",
    "ci = [s*np.sqrt((n-1)/(stats.chi2.ppf(1-alpha/2, df=n-1))), s*np.sqrt((n-1)/(stats.chi2.ppf(alpha/2, df=n-1)))]\n",
    "ci"
   ]
  },
  {
   "cell_type": "code",
   "execution_count": 62,
   "id": "b4673904",
   "metadata": {},
   "outputs": [
    {
     "data": {
      "text/plain": [
       "[3.143591340213405, 6.305495307696154]"
      ]
     },
     "execution_count": 62,
     "metadata": {},
     "output_type": "execute_result"
    }
   ],
   "source": [
    "# prob 5.10\n",
    "# 1\n",
    "alpha = 0.1\n",
    "data = [7.92, 10.29, 19.89, 17.73, 10.36, 13.5, 8.81, 6.18, 7.02, 11.71, 8.33, 9.32, 14.61]\n",
    "n = len(data)\n",
    "s = np.std(data, ddof=1)\n",
    "\n",
    "ci = [s*np.sqrt((n-1)/(stats.chi2.ppf(1-alpha/2, df=n-1))), s*np.sqrt((n-1)/(stats.chi2.ppf(alpha/2, df=n-1)))]\n",
    "ci"
   ]
  },
  {
   "cell_type": "code",
   "execution_count": 63,
   "id": "25bfb65e",
   "metadata": {},
   "outputs": [
    {
     "data": {
      "text/plain": [
       "0.02130428269704225"
      ]
     },
     "execution_count": 63,
     "metadata": {},
     "output_type": "execute_result"
    }
   ],
   "source": [
    "# 2 \n",
    "sigma = 7\n",
    "\n",
    "stats.chi2.cdf((n-1)*np.power(s,2)/np.power(sigma,2), df=n-1)"
   ]
  },
  {
   "cell_type": "code",
   "execution_count": 64,
   "id": "c96857e8",
   "metadata": {},
   "outputs": [
    {
     "data": {
      "text/plain": [
       "[0.14071180272386444, 0.28913109682913746]"
      ]
     },
     "execution_count": 64,
     "metadata": {},
     "output_type": "execute_result"
    }
   ],
   "source": [
    "# prob 5.12\n",
    "alpha = 0.02\n",
    "data = [5.36, 5.62, 5.27, 5.46, 5.29, 5.29, 5.39, 5.3, 5.58, 5.44, 5.42, 5.75, 5.65, 5.34, 5.47, 5.68, 5.57, 5.79, 5.63, 5.85, 5.53, 5.1, 5.34]\n",
    "n = len(data)\n",
    "s = np.std(data, ddof=1)\n",
    "\n",
    "ci = [s * np.sqrt((n-1)/(stats.chi2.ppf(1-alpha/2, df=n-1))), s * np.sqrt((n-1)/(stats.chi2.ppf(alpha/2, df=n-1)))]\n",
    "ci"
   ]
  },
  {
   "cell_type": "code",
   "execution_count": 70,
   "id": "d1b4d982",
   "metadata": {},
   "outputs": [
    {
     "data": {
      "text/plain": [
       "[7.17552785928109, 22.307165420682775]"
      ]
     },
     "execution_count": 70,
     "metadata": {},
     "output_type": "execute_result"
    }
   ],
   "source": [
    "# prob 5.14\n",
    "# 1\n",
    "cd = [21, 38, 12, 15, 14, 8]\n",
    "zn = [140, 190, 130, 150, 160, 140]\n",
    "\n",
    "alpha = 0.1\n",
    "n = len(cd)\n",
    "s = np.std(cd, ddof=1)\n",
    "ci = [s*np.sqrt((n-1)/(stats.chi2.ppf(1-alpha/2, df=n-1))), s*np.sqrt((n-1)/(stats.chi2.ppf(alpha/2, df=n-1)))]\n",
    "\n",
    "ci"
   ]
  },
  {
   "cell_type": "code",
   "execution_count": 71,
   "id": "fd973761",
   "metadata": {},
   "outputs": [
    {
     "data": {
      "text/plain": [
       "0.22909281798353334"
      ]
     },
     "execution_count": 71,
     "metadata": {},
     "output_type": "execute_result"
    }
   ],
   "source": [
    "# 2\n",
    "n = len(zn)\n",
    "s = np.std(zn, ddof=1)\n",
    "s_bar = 30\n",
    "alpha = 0.1\n",
    "\n",
    "stats.chi2.cdf((n-1)*np.power(s,2)/np.power(s_bar,2), df=n-1)"
   ]
  },
  {
   "cell_type": "code",
   "execution_count": 79,
   "id": "19be776c",
   "metadata": {},
   "outputs": [
    {
     "data": {
      "image/png": "[encoded data removed]",
      "text/plain": [
       "<Figure size 432x288 with 1 Axes>"
      ]
     },
     "metadata": {
      "needs_background": "light"
     },
     "output_type": "display_data"
    }
   ],
   "source": [
    "# example 10\n",
    "data = [31, 35, 37, 38, 38, 38, 39, 40, 40, 41, 42, 43, 44, 44, 46, 48]\n",
    "n = len(data)\n",
    "s = np.std(data, ddof=1)\n",
    "mu = 38\n",
    "\n",
    "stats.probplot(data, plot=plt);"
   ]
  },
  {
   "cell_type": "code",
   "execution_count": 80,
   "id": "0c22a879",
   "metadata": {},
   "outputs": [
    {
     "data": {
      "text/plain": [
       "[37.97673136750427, 42.52326863249573]"
      ]
     },
     "execution_count": 80,
     "metadata": {},
     "output_type": "execute_result"
    }
   ],
   "source": [
    "alpha = 0.05\n",
    "\n",
    "mu_bar = np.mean(data)\n",
    "se = stats.sem(data);\n",
    "t_alpha = stats.t.ppf(1-alpha/2, df=n-1)\n",
    "interval = t_alpha * se\n",
    "\n",
    "ci = [mu_bar-interval, mu_bar+interval]\n",
    "ci"
   ]
  },
  {
   "cell_type": "code",
   "execution_count": 86,
   "id": "2858e365",
   "metadata": {},
   "outputs": [
    {
     "data": {
      "text/plain": [
       "0.026050840503660362"
      ]
     },
     "execution_count": 86,
     "metadata": {},
     "output_type": "execute_result"
    }
   ],
   "source": [
    "t_val = -(mu_bar - mu)/se\n",
    "p_val = stats.t.cdf(t_val, df=n-1)\n",
    "p_val"
   ]
  },
  {
   "cell_type": "code",
   "execution_count": 89,
   "id": "b30c2f83",
   "metadata": {},
   "outputs": [
    {
     "data": {
      "text/plain": [
       "0.006246031102300598"
      ]
     },
     "execution_count": 89,
     "metadata": {},
     "output_type": "execute_result"
    }
   ],
   "source": [
    "# prob 6.2\n",
    "# 1\n",
    "1-stats.t.cdf(2.71, df=23)"
   ]
  },
  {
   "cell_type": "code",
   "execution_count": 90,
   "id": "1ccba61b",
   "metadata": {},
   "outputs": [
    {
     "data": {
      "text/plain": [
       "0.005153740203325929"
      ]
     },
     "execution_count": 90,
     "metadata": {},
     "output_type": "execute_result"
    }
   ],
   "source": [
    "# 2\n",
    "1-stats.t.cdf(3.335, df=8)"
   ]
  },
  {
   "cell_type": "code",
   "execution_count": 96,
   "id": "c996bf0f",
   "metadata": {},
   "outputs": [
    {
     "data": {
      "text/plain": [
       "0.04998212471210535"
      ]
     },
     "execution_count": 96,
     "metadata": {},
     "output_type": "execute_result"
    }
   ],
   "source": [
    "# 3\n",
    "stats.t.cdf(-2.110, df=17) + (1-stats.t.cdf(2.110,df=17))"
   ]
  },
  {
   "cell_type": "code",
   "execution_count": 94,
   "id": "0c4c4463",
   "metadata": {},
   "outputs": [
    {
     "data": {
      "text/plain": [
       "0.7250761144153214"
      ]
     },
     "execution_count": 94,
     "metadata": {},
     "output_type": "execute_result"
    }
   ],
   "source": [
    "# 4\n",
    "stats.t.cdf(2.262,df=9) - stats.t.cdf(-0.703,df=9) "
   ]
  },
  {
   "cell_type": "code",
   "execution_count": 99,
   "id": "3a911d26",
   "metadata": {},
   "outputs": [
    {
     "data": {
      "text/plain": [
       "[41.79445350929237, 52.20554649070763]"
      ]
     },
     "execution_count": 99,
     "metadata": {},
     "output_type": "execute_result"
    }
   ],
   "source": [
    "# prob 6.4\n",
    "# 모집단은 정규분포이다\n",
    "n = 15\n",
    "x_bar = 47\n",
    "s = 9.4\n",
    "alpha = 0.05\n",
    "\n",
    "t_alpha = stats.t.ppf(1-alpha/2, df=n-1)\n",
    "\n",
    "ci = [x_bar - t_alpha * s / np.sqrt(n), x_bar + t_alpha * s / np.sqrt(n) ]\n",
    "ci"
   ]
  },
  {
   "cell_type": "code",
   "execution_count": 100,
   "id": "c64d2ae1",
   "metadata": {},
   "outputs": [
    {
     "data": {
      "text/plain": [
       "[36.67850783288408, 41.32149216711592]"
      ]
     },
     "execution_count": 100,
     "metadata": {},
     "output_type": "execute_result"
    }
   ],
   "source": [
    "# prob 6.6\n",
    "n = 21\n",
    "x_bar = 39\n",
    "s = 5.1\n",
    "alpha = 0.05\n",
    "\n",
    "t_alpha = stats.t.ppf(1-alpha/2, df=n-1)\n",
    "ci = [x_bar - t_alpha*s/np.sqrt(n), x_bar + t_alpha*s/np.sqrt(n)]\n",
    "ci\n"
   ]
  },
  {
   "cell_type": "code",
   "execution_count": 111,
   "id": "584ae4b5",
   "metadata": {},
   "outputs": [],
   "source": [
    "# prob 6.8\n",
    "# 1\n",
    "n = 15\n",
    "x_bar = 47\n",
    "mu = 49\n",
    "s = 9.4\n",
    "alpha = 0.05\n",
    "\n",
    "# H0 : mu = 49 / H1 : mu < 49"
   ]
  },
  {
   "cell_type": "code",
   "execution_count": 112,
   "id": "dfeecef8",
   "metadata": {},
   "outputs": [
    {
     "data": {
      "text/plain": [
       "-0.8240390098313652"
      ]
     },
     "execution_count": 112,
     "metadata": {},
     "output_type": "execute_result"
    }
   ],
   "source": [
    "# 2\n",
    "t_val = (x_bar - mu)/(s/np.sqrt(n))\n",
    "t_val"
   ]
  },
  {
   "cell_type": "code",
   "execution_count": 113,
   "id": "7cd1b8ff",
   "metadata": {},
   "outputs": [
    {
     "data": {
      "text/plain": [
       "-1.7613101357748564"
      ]
     },
     "execution_count": 113,
     "metadata": {},
     "output_type": "execute_result"
    }
   ],
   "source": [
    "# 3\n",
    "\n",
    "stats.t.ppf(alpha, df=n-1)"
   ]
  },
  {
   "cell_type": "code",
   "execution_count": 114,
   "id": "a30afd25",
   "metadata": {},
   "outputs": [
    {
     "name": "stdout",
     "output_type": "stream",
     "text": [
      "-1.5909902576697308\n",
      "-1.7396067260750676\n"
     ]
    }
   ],
   "source": [
    "# prob 6.10\n",
    "n = 18\n",
    "mu_0 = 4.1\n",
    "s = 1.6\n",
    "mu = 3.5\n",
    "alpha = 0.05\n",
    "\n",
    "t_val = (mu-mu_0)/(s/np.sqrt(n)); print(t_val)\n",
    "t_alpha = stats.t.ppf(0.05, df=n-1); print(t_alpha)"
   ]
  },
  {
   "cell_type": "code",
   "execution_count": 115,
   "id": "4274e39e",
   "metadata": {},
   "outputs": [
    {
     "name": "stdout",
     "output_type": "stream",
     "text": [
      "-20.0\n",
      "-1.7530503556925552\n"
     ]
    }
   ],
   "source": [
    "# prob 6.12\n",
    "# 1\n",
    "# 모집단은 정규분포\n",
    "n = 16\n",
    "x_bar = 182\n",
    "s_bar = 12\n",
    "mu = 190\n",
    "alpha = 0.05\n",
    "\n",
    "t_val = (x_bar - mu) / (s/np.sqrt(n)) ; print(t_val)\n",
    "t_alpha = stats.t.ppf(alpha, df=n-1) ; print(t_alpha)"
   ]
  },
  {
   "cell_type": "code",
   "execution_count": 116,
   "id": "4e05575b",
   "metadata": {},
   "outputs": [
    {
     "data": {
      "text/plain": [
       "1.577596276745219e-12"
      ]
     },
     "execution_count": 116,
     "metadata": {},
     "output_type": "execute_result"
    }
   ],
   "source": [
    "# 2\n",
    "stats.t.cdf(t_val, df=n-1)"
   ]
  },
  {
   "cell_type": "code",
   "execution_count": 119,
   "id": "eea5aadb",
   "metadata": {},
   "outputs": [
    {
     "name": "stdout",
     "output_type": "stream",
     "text": [
      "3.0\n",
      "1.7108820799094275\n",
      "0.003102868308262341\n"
     ]
    }
   ],
   "source": [
    "# prob 6.14\n",
    "mu = 12\n",
    "x_bar = 15\n",
    "s = 5\n",
    "alpha = 0.05\n",
    "n = 25\n",
    "\n",
    "t_val = (15-12) / (s/np.sqrt(n)) ; print(t_val)\n",
    "t_alpha = stats.t.ppf(1-alpha, df=n-1); print(t_alpha)\n",
    "print(1-stats.t.cdf(t_val,df=n-1))"
   ]
  },
  {
   "cell_type": "code",
   "execution_count": 124,
   "id": "425c57bb",
   "metadata": {},
   "outputs": [
    {
     "data": {
      "text/plain": [
       "0.012334029894364527"
      ]
     },
     "execution_count": 124,
     "metadata": {},
     "output_type": "execute_result"
    }
   ],
   "source": [
    "# prob 6.16\n",
    "n = 10\n",
    "x_bar = 73.2\n",
    "s_bar = 2.74\n",
    "mu = 70\n",
    "alpha = 0.05\n",
    "\n",
    "t_val = (73.2-mu) / (s_bar/np.sqrt(n))\n",
    "stats.t.cdf(1-t_val, df=n-1)"
   ]
  },
  {
   "cell_type": "code",
   "execution_count": 125,
   "id": "2e259b9b",
   "metadata": {},
   "outputs": [
    {
     "data": {
      "text/plain": [
       "0.5024295802615854"
      ]
     },
     "execution_count": 125,
     "metadata": {},
     "output_type": "execute_result"
    }
   ],
   "source": [
    "# prob 6.18\n",
    "# 1\n",
    "n = 25\n",
    "x_bar = 64.8\n",
    "s = 6.5\n",
    "mu = 65\n",
    "\n",
    "t_val = (mu-64.8) / s/np.sqrt(n)\n",
    "stats.t.cdf(t_val, df=n-1)"
   ]
  },
  {
   "cell_type": "code",
   "execution_count": 126,
   "id": "fa399624",
   "metadata": {},
   "outputs": [
    {
     "data": {
      "text/plain": [
       "2.683068130116427"
      ]
     },
     "execution_count": 126,
     "metadata": {},
     "output_type": "execute_result"
    }
   ],
   "source": [
    "# 2\n",
    "alpha = 0.05\n",
    "t_alpha = stats.t.ppf(1-alpha/2, df=n-1)\n",
    "interval = t_alpha * s / np.sqrt(n)\n",
    "interval"
   ]
  },
  {
   "cell_type": "code",
   "execution_count": 128,
   "id": "746efb78",
   "metadata": {},
   "outputs": [
    {
     "data": {
      "text/plain": [
       "[5.276897402767489, 8.556945883828943]"
      ]
     },
     "execution_count": 128,
     "metadata": {},
     "output_type": "execute_result"
    }
   ],
   "source": [
    "# 3\n",
    "alpha = 0.1\n",
    "ci = [s * np.sqrt((n-1)/(stats.chi2.ppf(1-alpha/2,df=n-1))), s * np.sqrt((n-1)/(stats.chi2.ppf(alpha/2,df=n-1)))]\n",
    "ci"
   ]
  },
  {
   "cell_type": "code",
   "execution_count": 129,
   "id": "6296e77c",
   "metadata": {},
   "outputs": [
    {
     "data": {
      "text/plain": [
       "18.54934778670325"
      ]
     },
     "execution_count": 129,
     "metadata": {},
     "output_type": "execute_result"
    }
   ],
   "source": [
    "# 6.20\n",
    "# 1\n",
    "stats.chi2.ppf(0.9, df=12)"
   ]
  },
  {
   "cell_type": "code",
   "execution_count": 130,
   "id": "bcd0f541",
   "metadata": {},
   "outputs": [
    {
     "data": {
      "text/plain": [
       "4.168159008146107"
      ]
     },
     "execution_count": 130,
     "metadata": {},
     "output_type": "execute_result"
    }
   ],
   "source": [
    "# 2\n",
    "stats.chi2.ppf(0.1, 9)"
   ]
  },
  {
   "cell_type": "code",
   "execution_count": 131,
   "id": "8226a763",
   "metadata": {},
   "outputs": [
    {
     "data": {
      "text/plain": [
       "21.337044807672633"
      ]
     },
     "execution_count": 131,
     "metadata": {},
     "output_type": "execute_result"
    }
   ],
   "source": [
    "# 3\n",
    "stats.chi2.ppf(0.5, 22)"
   ]
  },
  {
   "cell_type": "code",
   "execution_count": 132,
   "id": "0681e9f8",
   "metadata": {},
   "outputs": [
    {
     "data": {
      "text/plain": [
       "34.76425168350175"
      ]
     },
     "execution_count": 132,
     "metadata": {},
     "output_type": "execute_result"
    }
   ],
   "source": [
    "# 4\n",
    "stats.chi2.ppf(0.05, 50)"
   ]
  },
  {
   "cell_type": "code",
   "execution_count": 138,
   "id": "1e492fe0",
   "metadata": {},
   "outputs": [
    {
     "name": "stdout",
     "output_type": "stream",
     "text": [
      "8.64\n",
      "13.848425027170224\n"
     ]
    }
   ],
   "source": [
    "# prob 6.22\n",
    "mu = 12\n",
    "x_bar = 15\n",
    "s = 5\n",
    "alpha = 0.05\n",
    "n = 25\n",
    "sigma = 3\n",
    "\n",
    "chi2_val = (n-1)*np.power(sigma,2)/ np.power(s, 2) ; print(chi2_val)\n",
    "print(stats.chi2.ppf(alpha, df=n-1))"
   ]
  },
  {
   "cell_type": "code",
   "execution_count": 146,
   "id": "647b188d",
   "metadata": {},
   "outputs": [
    {
     "name": "stdout",
     "output_type": "stream",
     "text": [
      "131.55457592105623\n"
     ]
    }
   ],
   "source": [
    "# prob 6.24\n",
    "# 1\n",
    "n = 25\n",
    "alpha = 0.05\n",
    "ci = [106.8, 115.2]\n",
    "\n",
    "# s * np.sqrt((n-1)/stats.chi2.ppf(alpha/2,df=n-1)) = 106.8\n",
    "s = 106.8 / np.sqrt((n-1)/stats.chi2.ppf(1-alpha/2,df=n-1)); print(s)"
   ]
  },
  {
   "cell_type": "code",
   "execution_count": 148,
   "id": "df81dd64",
   "metadata": {},
   "outputs": [
    {
     "data": {
      "text/plain": [
       "0.0"
      ]
     },
     "execution_count": 148,
     "metadata": {},
     "output_type": "execute_result"
    }
   ],
   "source": [
    "# 2\n",
    "sigma = 8\n",
    "alpha = 0.05\n",
    "chi2_val = (n-1) * np.power(10.17,2) / np.power(sigma,2)\n",
    "stats.chi2.cdf(1-chi2_val, df=n-1)"
   ]
  },
  {
   "cell_type": "code",
   "execution_count": 149,
   "id": "4473280d",
   "metadata": {},
   "outputs": [],
   "source": [
    "# prob 6.26\n",
    "alpha = 0.1\n",
    "ci = [8.6, 15.3]\n",
    "# 8.6 = s * np.sqrt((n-1)/stats.chi2.ppf(alpha/2, df=n-1))\n",
    "# 15.3 = s * np.sqrt((n-1)/stats.chi2.ppf(alpha/2, df=n-1))\n",
    "# s = 8.6 / np.sqrt((n-1)/stats.chi2.ppf(alpha/2, df=n-1))\n",
    "# 15.3 = 8.6 / np.sqrt((n-1)/stats.chi2.ppf(alpha/2, df=n-1)) * np.sqrt((n-1)/stats.chi2.ppf(alpha/2, df=n-1))"
   ]
  }
 ],
 "metadata": {
  "kernelspec": {
   "display_name": "adp",
   "language": "python",
   "name": "adp_class"
  },
  "language_info": {
   "codemirror_mode": {
    "name": "ipython",
    "version": 3
   },
   "file_extension": ".py",
   "mimetype": "text/x-python",
   "name": "python",
   "nbconvert_exporter": "python",
   "pygments_lexer": "ipython3",
   "version": "3.7.13"
  }
 },
 "nbformat": 4,
 "nbformat_minor": 5
}
