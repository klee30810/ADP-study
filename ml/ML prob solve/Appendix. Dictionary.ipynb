{
 "cells": [
  {
   "cell_type": "markdown",
   "id": "cf6927d9",
   "metadata": {},
   "source": [
    "## A.1 피쳐 요약표"
   ]
  },
  {
   "cell_type": "code",
   "execution_count": 7,
   "id": "78e34c61",
   "metadata": {},
   "outputs": [
    {
     "data": {
      "text/plain": [
       "bin_0     int64\n",
       "bin_1     int64\n",
       "bin_2     int64\n",
       "bin_3    object\n",
       "bin_4    object\n",
       "dtype: object"
      ]
     },
     "execution_count": 7,
     "metadata": {},
     "output_type": "execute_result"
    }
   ],
   "source": [
    "import pandas as pd\n",
    "\n",
    "train = pd.read_csv('data/cat-in-the-dat/train.csv', index_col='id')\n",
    "train.dtypes[:5]"
   ]
  },
  {
   "cell_type": "code",
   "execution_count": 9,
   "id": "2d4eb630",
   "metadata": {},
   "outputs": [
    {
     "data": {
      "text/html": [
       "<div>\n",
       "<style scoped>\n",
       "    .dataframe tbody tr th:only-of-type {\n",
       "        vertical-align: middle;\n",
       "    }\n",
       "\n",
       "    .dataframe tbody tr th {\n",
       "        vertical-align: top;\n",
       "    }\n",
       "\n",
       "    .dataframe thead th {\n",
       "        text-align: right;\n",
       "    }\n",
       "</style>\n",
       "<table border=\"1\" class=\"dataframe\">\n",
       "  <thead>\n",
       "    <tr style=\"text-align: right;\">\n",
       "      <th></th>\n",
       "      <th>데이터 타입</th>\n",
       "    </tr>\n",
       "  </thead>\n",
       "  <tbody>\n",
       "    <tr>\n",
       "      <th>bin_0</th>\n",
       "      <td>int64</td>\n",
       "    </tr>\n",
       "    <tr>\n",
       "      <th>bin_1</th>\n",
       "      <td>int64</td>\n",
       "    </tr>\n",
       "    <tr>\n",
       "      <th>bin_2</th>\n",
       "      <td>int64</td>\n",
       "    </tr>\n",
       "    <tr>\n",
       "      <th>bin_3</th>\n",
       "      <td>object</td>\n",
       "    </tr>\n",
       "    <tr>\n",
       "      <th>bin_4</th>\n",
       "      <td>object</td>\n",
       "    </tr>\n",
       "  </tbody>\n",
       "</table>\n",
       "</div>"
      ],
      "text/plain": [
       "       데이터 타입\n",
       "bin_0   int64\n",
       "bin_1   int64\n",
       "bin_2   int64\n",
       "bin_3  object\n",
       "bin_4  object"
      ]
     },
     "execution_count": 9,
     "metadata": {},
     "output_type": "execute_result"
    }
   ],
   "source": [
    "summary = pd.DataFrame(train.dtypes, columns=['데이터 타입'])\n",
    "summary.head()"
   ]
  },
  {
   "cell_type": "code",
   "execution_count": 10,
   "id": "a859e17b",
   "metadata": {},
   "outputs": [
    {
     "data": {
      "text/html": [
       "<div>\n",
       "<style scoped>\n",
       "    .dataframe tbody tr th:only-of-type {\n",
       "        vertical-align: middle;\n",
       "    }\n",
       "\n",
       "    .dataframe tbody tr th {\n",
       "        vertical-align: top;\n",
       "    }\n",
       "\n",
       "    .dataframe thead th {\n",
       "        text-align: right;\n",
       "    }\n",
       "</style>\n",
       "<table border=\"1\" class=\"dataframe\">\n",
       "  <thead>\n",
       "    <tr style=\"text-align: right;\">\n",
       "      <th></th>\n",
       "      <th>index</th>\n",
       "      <th>데이터 타입</th>\n",
       "    </tr>\n",
       "  </thead>\n",
       "  <tbody>\n",
       "    <tr>\n",
       "      <th>0</th>\n",
       "      <td>bin_0</td>\n",
       "      <td>int64</td>\n",
       "    </tr>\n",
       "    <tr>\n",
       "      <th>1</th>\n",
       "      <td>bin_1</td>\n",
       "      <td>int64</td>\n",
       "    </tr>\n",
       "    <tr>\n",
       "      <th>2</th>\n",
       "      <td>bin_2</td>\n",
       "      <td>int64</td>\n",
       "    </tr>\n",
       "    <tr>\n",
       "      <th>3</th>\n",
       "      <td>bin_3</td>\n",
       "      <td>object</td>\n",
       "    </tr>\n",
       "    <tr>\n",
       "      <th>4</th>\n",
       "      <td>bin_4</td>\n",
       "      <td>object</td>\n",
       "    </tr>\n",
       "  </tbody>\n",
       "</table>\n",
       "</div>"
      ],
      "text/plain": [
       "   index  데이터 타입\n",
       "0  bin_0   int64\n",
       "1  bin_1   int64\n",
       "2  bin_2   int64\n",
       "3  bin_3  object\n",
       "4  bin_4  object"
      ]
     },
     "execution_count": 10,
     "metadata": {},
     "output_type": "execute_result"
    }
   ],
   "source": [
    "summary = summary.reset_index()\n",
    "summary.head()"
   ]
  },
  {
   "cell_type": "code",
   "execution_count": 11,
   "id": "537bb153",
   "metadata": {},
   "outputs": [
    {
     "data": {
      "text/html": [
       "<div>\n",
       "<style scoped>\n",
       "    .dataframe tbody tr th:only-of-type {\n",
       "        vertical-align: middle;\n",
       "    }\n",
       "\n",
       "    .dataframe tbody tr th {\n",
       "        vertical-align: top;\n",
       "    }\n",
       "\n",
       "    .dataframe thead th {\n",
       "        text-align: right;\n",
       "    }\n",
       "</style>\n",
       "<table border=\"1\" class=\"dataframe\">\n",
       "  <thead>\n",
       "    <tr style=\"text-align: right;\">\n",
       "      <th></th>\n",
       "      <th>피쳐</th>\n",
       "      <th>데이터 타입</th>\n",
       "    </tr>\n",
       "  </thead>\n",
       "  <tbody>\n",
       "    <tr>\n",
       "      <th>0</th>\n",
       "      <td>bin_0</td>\n",
       "      <td>int64</td>\n",
       "    </tr>\n",
       "    <tr>\n",
       "      <th>1</th>\n",
       "      <td>bin_1</td>\n",
       "      <td>int64</td>\n",
       "    </tr>\n",
       "    <tr>\n",
       "      <th>2</th>\n",
       "      <td>bin_2</td>\n",
       "      <td>int64</td>\n",
       "    </tr>\n",
       "    <tr>\n",
       "      <th>3</th>\n",
       "      <td>bin_3</td>\n",
       "      <td>object</td>\n",
       "    </tr>\n",
       "    <tr>\n",
       "      <th>4</th>\n",
       "      <td>bin_4</td>\n",
       "      <td>object</td>\n",
       "    </tr>\n",
       "  </tbody>\n",
       "</table>\n",
       "</div>"
      ],
      "text/plain": [
       "      피쳐  데이터 타입\n",
       "0  bin_0   int64\n",
       "1  bin_1   int64\n",
       "2  bin_2   int64\n",
       "3  bin_3  object\n",
       "4  bin_4  object"
      ]
     },
     "execution_count": 11,
     "metadata": {},
     "output_type": "execute_result"
    }
   ],
   "source": [
    "summary = summary.rename(columns={'index':'피쳐'})\n",
    "summary.head()"
   ]
  },
  {
   "cell_type": "code",
   "execution_count": 13,
   "id": "ffefb01c",
   "metadata": {},
   "outputs": [
    {
     "data": {
      "text/html": [
       "<div>\n",
       "<style scoped>\n",
       "    .dataframe tbody tr th:only-of-type {\n",
       "        vertical-align: middle;\n",
       "    }\n",
       "\n",
       "    .dataframe tbody tr th {\n",
       "        vertical-align: top;\n",
       "    }\n",
       "\n",
       "    .dataframe thead th {\n",
       "        text-align: right;\n",
       "    }\n",
       "</style>\n",
       "<table border=\"1\" class=\"dataframe\">\n",
       "  <thead>\n",
       "    <tr style=\"text-align: right;\">\n",
       "      <th></th>\n",
       "      <th>피쳐</th>\n",
       "      <th>데이터 타입</th>\n",
       "      <th>결측값 개수</th>\n",
       "      <th>고윳값 개수</th>\n",
       "      <th>첫 번째 값</th>\n",
       "      <th>두 번째 값</th>\n",
       "      <th>세 번째 값</th>\n",
       "    </tr>\n",
       "  </thead>\n",
       "  <tbody>\n",
       "    <tr>\n",
       "      <th>0</th>\n",
       "      <td>bin_0</td>\n",
       "      <td>int64</td>\n",
       "      <td>0</td>\n",
       "      <td>2</td>\n",
       "      <td>0</td>\n",
       "      <td>0</td>\n",
       "      <td>0</td>\n",
       "    </tr>\n",
       "    <tr>\n",
       "      <th>1</th>\n",
       "      <td>bin_1</td>\n",
       "      <td>int64</td>\n",
       "      <td>0</td>\n",
       "      <td>2</td>\n",
       "      <td>0</td>\n",
       "      <td>1</td>\n",
       "      <td>0</td>\n",
       "    </tr>\n",
       "    <tr>\n",
       "      <th>2</th>\n",
       "      <td>bin_2</td>\n",
       "      <td>int64</td>\n",
       "      <td>0</td>\n",
       "      <td>2</td>\n",
       "      <td>0</td>\n",
       "      <td>0</td>\n",
       "      <td>0</td>\n",
       "    </tr>\n",
       "    <tr>\n",
       "      <th>3</th>\n",
       "      <td>bin_3</td>\n",
       "      <td>object</td>\n",
       "      <td>0</td>\n",
       "      <td>2</td>\n",
       "      <td>T</td>\n",
       "      <td>T</td>\n",
       "      <td>F</td>\n",
       "    </tr>\n",
       "    <tr>\n",
       "      <th>4</th>\n",
       "      <td>bin_4</td>\n",
       "      <td>object</td>\n",
       "      <td>0</td>\n",
       "      <td>2</td>\n",
       "      <td>Y</td>\n",
       "      <td>Y</td>\n",
       "      <td>Y</td>\n",
       "    </tr>\n",
       "  </tbody>\n",
       "</table>\n",
       "</div>"
      ],
      "text/plain": [
       "      피쳐  데이터 타입  결측값 개수  고윳값 개수 첫 번째 값 두 번째 값 세 번째 값\n",
       "0  bin_0   int64       0       2      0      0      0\n",
       "1  bin_1   int64       0       2      0      1      0\n",
       "2  bin_2   int64       0       2      0      0      0\n",
       "3  bin_3  object       0       2      T      T      F\n",
       "4  bin_4  object       0       2      Y      Y      Y"
      ]
     },
     "execution_count": 13,
     "metadata": {},
     "output_type": "execute_result"
    }
   ],
   "source": [
    "summary['결측값 개수'] = train.isnull().sum().values\n",
    "summary['고윳값 개수'] = train.nunique().values\n",
    "summary['첫 번째 값'] = train.loc[0].values\n",
    "summary['두 번째 값'] = train.loc[1].values\n",
    "summary['세 번째 값'] = train.loc[2].values\n",
    "\n",
    "summary.head()"
   ]
  },
  {
   "cell_type": "code",
   "execution_count": 14,
   "id": "0982b861",
   "metadata": {},
   "outputs": [],
   "source": [
    "def resumetable(df):\n",
    "    summary = pd.DataFrame(train.dtypes, columns=['데이터 타입'])\n",
    "    summary = summary.reset_index()\n",
    "    summary = summary.rename(columns={'index': '피쳐'})\n",
    "\n",
    "    summary['결측값 개수'] = train.isnull().sum().values\n",
    "    summary['고윳값 개수'] = train.nunique().values\n",
    "    summary['첫 번째 값'] = train.loc[0].values\n",
    "    summary['두 번째 값'] = train.loc[1].values\n",
    "    summary['세 번째 값'] = train.loc[2].values                              \n",
    "    \n",
    "    return summary"
   ]
  },
  {
   "cell_type": "markdown",
   "id": "f6ac586d",
   "metadata": {},
   "source": [
    "## A.2 메모리 절약을 위한 데이터 다운캐스팅"
   ]
  },
  {
   "cell_type": "code",
   "execution_count": 15,
   "id": "71ebdc56",
   "metadata": {},
   "outputs": [
    {
     "data": {
      "text/plain": [
       "date                   object\n",
       "date_block_num          int64\n",
       "shop_id                 int64\n",
       "item_id                 int64\n",
       "item_price            float64\n",
       "item_cnt_day          float64\n",
       "shop_name              object\n",
       "item_name              object\n",
       "item_category_id        int64\n",
       "item_category_name     object\n",
       "dtype: object"
      ]
     },
     "execution_count": 15,
     "metadata": {},
     "output_type": "execute_result"
    }
   ],
   "source": [
    "import pandas as pd\n",
    "\n",
    "path = 'data/competitive-data-science-predict-future-sales/'\n",
    "\n",
    "sales_train = pd.read_csv(path+'sales_train.csv')\n",
    "shops = pd.read_csv(path+'shops.csv')\n",
    "items = pd.read_csv(path+'items.csv')\n",
    "item_categories = pd.read_csv(path+'item_categories.csv')\n",
    "\n",
    "train = sales_train.merge(shops, on='shop_id', how='left')\n",
    "train = train.merge(items, on='item_id', how='left')\n",
    "train = train.merge(item_categories, on='item_category_id', how='left')\n",
    "\n",
    "train.dtypes"
   ]
  },
  {
   "cell_type": "code",
   "execution_count": 16,
   "id": "f73a6870",
   "metadata": {},
   "outputs": [
    {
     "data": {
      "text/plain": [
       "Index                 23486792\n",
       "date                  23486792\n",
       "date_block_num        23486792\n",
       "shop_id               23486792\n",
       "item_id               23486792\n",
       "item_price            23486792\n",
       "item_cnt_day          23486792\n",
       "shop_name             23486792\n",
       "item_name             23486792\n",
       "item_category_id      23486792\n",
       "item_category_name    23486792\n",
       "dtype: int64"
      ]
     },
     "execution_count": 16,
     "metadata": {},
     "output_type": "execute_result"
    }
   ],
   "source": [
    "train.memory_usage()"
   ]
  },
  {
   "cell_type": "code",
   "execution_count": 17,
   "id": "88273039",
   "metadata": {},
   "outputs": [
    {
     "data": {
      "text/plain": [
       "246.3862533569336"
      ]
     },
     "execution_count": 17,
     "metadata": {},
     "output_type": "execute_result"
    }
   ],
   "source": [
    "start_mem = train.memory_usage().sum() / 1024 ** 2\n",
    "start_mem"
   ]
  },
  {
   "cell_type": "code",
   "execution_count": 18,
   "id": "a6a48957",
   "metadata": {},
   "outputs": [
    {
     "data": {
      "text/plain": [
       "date                   object\n",
       "date_block_num           int8\n",
       "shop_id                  int8\n",
       "item_id                 int16\n",
       "item_price            float32\n",
       "item_cnt_day            int16\n",
       "shop_name              object\n",
       "item_name              object\n",
       "item_category_id         int8\n",
       "item_category_name     object\n",
       "dtype: object"
      ]
     },
     "execution_count": 18,
     "metadata": {},
     "output_type": "execute_result"
    }
   ],
   "source": [
    "for col in train.columns:\n",
    "    dtype_name = train[col].dtype.name\n",
    "    if dtype_name == 'object':\n",
    "        pass\n",
    "    elif dtype_name == 'bool' : \n",
    "        train[col] = train[col].astype('int8')\n",
    "    elif dtype_name.startswith('int') or (train[col].round() == train[col]).all():\n",
    "        train[col] = pd.to_numeric(train[col], downcast='integer')\n",
    "    else:\n",
    "        train[col] = pd.to_numeric(train[col], downcast='float')\n",
    "\n",
    "train.dtypes        "
   ]
  },
  {
   "cell_type": "code",
   "execution_count": 19,
   "id": "6c6f74a5",
   "metadata": {},
   "outputs": [
    {
     "data": {
      "text/plain": [
       "Index                 23486792\n",
       "date                  23486792\n",
       "date_block_num         2935849\n",
       "shop_id                2935849\n",
       "item_id                5871698\n",
       "item_price            11743396\n",
       "item_cnt_day           5871698\n",
       "shop_name             23486792\n",
       "item_name             23486792\n",
       "item_category_id       2935849\n",
       "item_category_name    23486792\n",
       "dtype: int64"
      ]
     },
     "execution_count": 19,
     "metadata": {},
     "output_type": "execute_result"
    }
   ],
   "source": [
    "train.memory_usage()"
   ]
  },
  {
   "cell_type": "code",
   "execution_count": 20,
   "id": "8151f2f5",
   "metadata": {},
   "outputs": [
    {
     "data": {
      "text/plain": [
       "142.7920331954956"
      ]
     },
     "execution_count": 20,
     "metadata": {},
     "output_type": "execute_result"
    }
   ],
   "source": [
    "end_mem = train.memory_usage().sum() / 1024 ** 2\n",
    "end_mem"
   ]
  },
  {
   "cell_type": "code",
   "execution_count": 21,
   "id": "e67575ec",
   "metadata": {},
   "outputs": [
    {
     "name": "stdout",
     "output_type": "stream",
     "text": [
      "42.0% 압축됨\n"
     ]
    }
   ],
   "source": [
    "print(\"{:.1f}% 압축됨\".format(100 * (start_mem - end_mem)/start_mem))"
   ]
  },
  {
   "cell_type": "code",
   "execution_count": 24,
   "id": "7b3f46af",
   "metadata": {},
   "outputs": [],
   "source": [
    "def downcast(df, verbose=True):\n",
    "    start_mem = df.memory_usage().sum() / 1024 ** 2\n",
    "    \n",
    "    for col in df.columns:\n",
    "        for col in df.columns:\n",
    "            dtype_name = df[col].dtype.name\n",
    "        if dtype_name == 'object':\n",
    "            pass\n",
    "        elif dtype_name == 'bool' : \n",
    "            df[col] = df[col].astype('int8')\n",
    "        elif dtype_name.startswith('int') or (df[col].round() == df[col]).all():\n",
    "            df[col] = pd.to_numeric(df[col], downcast='integer')\n",
    "        else:\n",
    "            df[col] = pd.to_numeric(df[col], downcast='float')\n",
    "    \n",
    "    end_mem = df.memory_usage().sum() / 1024 ** 2\n",
    "    \n",
    "    if verbose:\n",
    "        print(\"{:.1f}% 압축됨\".format(100 * (start_mem - end_mem)/start_mem))\n",
    "        \n",
    "    return df"
   ]
  }
 ],
 "metadata": {
  "kernelspec": {
   "display_name": "adp",
   "language": "python",
   "name": "adp_class"
  },
  "language_info": {
   "codemirror_mode": {
    "name": "ipython",
    "version": 3
   },
   "file_extension": ".py",
   "mimetype": "text/x-python",
   "name": "python",
   "nbconvert_exporter": "python",
   "pygments_lexer": "ipython3",
   "version": "3.7.13"
  }
 },
 "nbformat": 4,
 "nbformat_minor": 5
}
