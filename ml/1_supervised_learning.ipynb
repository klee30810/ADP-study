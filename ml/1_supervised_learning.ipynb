{
 "cells": [
  {
   "cell_type": "markdown",
   "metadata": {},
   "source": [
    "1 ] 지도학습\n",
    "- 의사결정나무: CART, C5.0, C4.5, CHAID, 분리기준 (카이제곱통계량 p값, 지니 지수, 엔트로피 지수, F통계량, 분산의 감소량), 가지치기\n",
    "- 앙상블분석: 배깅, 부스팅(Adaboost), 랜덤포레스트, 스태킹, 엑스트라트리, 에이다부스트\n",
    "- 인공신경망\n",
    "    - 활성화함수(계단함수, 부호함수, 시그모이드 함수, relu함수, softmax 함수)\n",
    "    - 다층퍼셉트론\n",
    "    - ANN, DNN, CNN, RNN, GAN(InfoGAN, CycleGAN), RBM, DBN\n",
    "    - MLP-CNN-RNN 구현 및 비교\n",
    "    - ResNet, DenseNet\n",
    "    - AutoEncoder, VAE, DQN\n",
    "    - 진화 학습 (유전 알고리즘)\n",
    "    - 강화학습 (마르코프 결정과정)\n",
    "    - 대칭가중치와 심층신뢰 네트워크\n",
    "- 회귀분석\n",
    "    - 가정검토(선형성, 등분산성-잔차도, 정규성-히스토그램/QQplot/Shapiro-wilk, 오차항의 독립성-더빈왓슨검정)\n",
    "    - 단순선형회귀분석(회귀계수 검정, 결정계수 계산-SST/SSR/SSE, 회귀직선의 적합도 검토)\n",
    "    - 다중선형회귀분석(회귀계수 검정, 회귀식, 결정계수 계산, 모형의 통계적 유의성, 교호작용, 다중공선성-PCA회귀, VIF 상위변수 제거)\n",
    "    - 다항회귀분석\n",
    "    - 스플라인 회귀\n",
    "    - 로지스틱 회귀\n",
    "    - 최적회귀방정식(전진선택법, 후진제거법, 단계적선택법 - AIC/BIC)\n",
    "    - 정규화 선형회귀 Regularized Linear Regression (Ridge회귀, Lasso회귀, Elastic Net 회귀)\n",
    "    - 일반화 선형회귀 Generalized Linear Regression\n",
    "    - 회귀분석의 기울기에 영향을 주는 영향점 진단: Cook's Distance, DFBETAS, DFFITS, Leverage H\n",
    "    - 변수 선택의 기준: 결정계수, Mallow's Cp, AIC/BIC\n",
    "- 최근접 이웃법 (KNN), 가우시안 혼합모델\n",
    "- 베이지안 분류\n",
    "- SVM\n",
    "- 판별분석\n",
    "- 사례기반 추론 (Case based reasoning)\n"
   ]
  },
  {
   "cell_type": "markdown",
   "metadata": {},
   "source": [
    "# 1. 의사결정 나무\n",
    "- CHAID : 최적의 분할을 선택하는데 있어 통꼐학의 카이스퀘어 이용 => 범주형은 카이스퀘어, 연속형은 f-검정\n",
    "- CART : 속성 선택 기준으로 엔트로피 매트릭스 사용, 지니계수 혹은 분산의 감소량을 사용해서 나무의 가지를 이진 분류\n",
    "  - entropy = -sum(p_i * log_2(p_i))\n",
    "  - gini = 1 - sum((P(t=l)^2))"
   ]
  },
  {
   "cell_type": "code",
   "execution_count": 5,
   "metadata": {},
   "outputs": [],
   "source": [
    "import numpy as np \n",
    "from matplotlib import pyplot as plt\n",
    "\n",
    "from sklearn.tree import DecisionTreeClassifier, plot_tree, export_text\n",
    "from sklearn.model_selection import train_test_split, cross_val_score\n",
    "from sklearn.datasets import load_iris\n",
    "from sklearn import tree\n"
   ]
  },
  {
   "cell_type": "markdown",
   "metadata": {},
   "source": [
    "### classification"
   ]
  },
  {
   "cell_type": "code",
   "execution_count": 7,
   "metadata": {},
   "outputs": [
    {
     "data": {
      "text/plain": [
       "[Text(0.5, 0.9166666666666666, 'X[3] <= 0.8\\ngini = 0.667\\nsamples = 150\\nvalue = [50, 50, 50]'),\n",
       " Text(0.4230769230769231, 0.75, 'gini = 0.0\\nsamples = 50\\nvalue = [50, 0, 0]'),\n",
       " Text(0.5769230769230769, 0.75, 'X[3] <= 1.75\\ngini = 0.5\\nsamples = 100\\nvalue = [0, 50, 50]'),\n",
       " Text(0.3076923076923077, 0.5833333333333334, 'X[2] <= 4.95\\ngini = 0.168\\nsamples = 54\\nvalue = [0, 49, 5]'),\n",
       " Text(0.15384615384615385, 0.4166666666666667, 'X[3] <= 1.65\\ngini = 0.041\\nsamples = 48\\nvalue = [0, 47, 1]'),\n",
       " Text(0.07692307692307693, 0.25, 'gini = 0.0\\nsamples = 47\\nvalue = [0, 47, 0]'),\n",
       " Text(0.23076923076923078, 0.25, 'gini = 0.0\\nsamples = 1\\nvalue = [0, 0, 1]'),\n",
       " Text(0.46153846153846156, 0.4166666666666667, 'X[3] <= 1.55\\ngini = 0.444\\nsamples = 6\\nvalue = [0, 2, 4]'),\n",
       " Text(0.38461538461538464, 0.25, 'gini = 0.0\\nsamples = 3\\nvalue = [0, 0, 3]'),\n",
       " Text(0.5384615384615384, 0.25, 'X[2] <= 5.45\\ngini = 0.444\\nsamples = 3\\nvalue = [0, 2, 1]'),\n",
       " Text(0.46153846153846156, 0.08333333333333333, 'gini = 0.0\\nsamples = 2\\nvalue = [0, 2, 0]'),\n",
       " Text(0.6153846153846154, 0.08333333333333333, 'gini = 0.0\\nsamples = 1\\nvalue = [0, 0, 1]'),\n",
       " Text(0.8461538461538461, 0.5833333333333334, 'X[2] <= 4.85\\ngini = 0.043\\nsamples = 46\\nvalue = [0, 1, 45]'),\n",
       " Text(0.7692307692307693, 0.4166666666666667, 'X[1] <= 3.1\\ngini = 0.444\\nsamples = 3\\nvalue = [0, 1, 2]'),\n",
       " Text(0.6923076923076923, 0.25, 'gini = 0.0\\nsamples = 2\\nvalue = [0, 0, 2]'),\n",
       " Text(0.8461538461538461, 0.25, 'gini = 0.0\\nsamples = 1\\nvalue = [0, 1, 0]'),\n",
       " Text(0.9230769230769231, 0.4166666666666667, 'gini = 0.0\\nsamples = 43\\nvalue = [0, 0, 43]')]"
      ]
     },
     "execution_count": 7,
     "metadata": {},
     "output_type": "execute_result"
    },
    {
     "data": {
      "image/png": "[encoded data removed]",
      "text/plain": [
       "<Figure size 432x288 with 1 Axes>"
      ]
     },
     "metadata": {
      "needs_background": "light"
     },
     "output_type": "display_data"
    }
   ],
   "source": [
    "clf = DecisionTreeClassifier(random_state=0)\n",
    "iris = load_iris()\n",
    "X, y = iris.data, iris.target\n",
    "clf = clf.fit(X, y)\n",
    "tree.plot_tree(clf)"
   ]
  },
  {
   "cell_type": "code",
   "execution_count": 9,
   "metadata": {},
   "outputs": [
    {
     "data": {
      "text/plain": [
       "'|--- petal width (cm) <= 0.80\\n|   |--- class: 0\\n|--- petal width (cm) >  0.80\\n|   |--- petal width (cm) <= 1.75\\n|   |   |--- petal length (cm) <= 4.95\\n|   |   |   |--- petal width (cm) <= 1.65\\n|   |   |   |   |--- class: 1\\n|   |   |   |--- petal width (cm) >  1.65\\n|   |   |   |   |--- class: 2\\n|   |   |--- petal length (cm) >  4.95\\n|   |   |   |--- petal width (cm) <= 1.55\\n|   |   |   |   |--- class: 2\\n|   |   |   |--- petal width (cm) >  1.55\\n|   |   |   |   |--- petal length (cm) <= 5.45\\n|   |   |   |   |   |--- class: 1\\n|   |   |   |   |--- petal length (cm) >  5.45\\n|   |   |   |   |   |--- class: 2\\n|   |--- petal width (cm) >  1.75\\n|   |   |--- petal length (cm) <= 4.85\\n|   |   |   |--- sepal width (cm) <= 3.10\\n|   |   |   |   |--- class: 2\\n|   |   |   |--- sepal width (cm) >  3.10\\n|   |   |   |   |--- class: 1\\n|   |   |--- petal length (cm) >  4.85\\n|   |   |   |--- class: 2\\n'"
      ]
     },
     "execution_count": 9,
     "metadata": {},
     "output_type": "execute_result"
    }
   ],
   "source": [
    "r = export_text(clf, feature_names=iris['feature_names'])\n",
    "\n",
    "r"
   ]
  },
  {
   "cell_type": "markdown",
   "metadata": {},
   "source": [
    "### REGRESSION\n"
   ]
  },
  {
   "cell_type": "markdown",
   "metadata": {},
   "source": [
    "### TIPS ON pracical use\n",
    "- feature가 많으면 오버피팅 경향\n",
    "- dimensionality reduction 이전에 better features 찾기\n",
    "- number of samples required to populate the tree doubles for each additional level -> control max_depth\n",
    "- min_samples_split or min_samples_leaf to ensure that multiple smaples inform every decision in the tree by controlling which splits will be considered\n",
    "- prevent from being biased toward the classes that are dominant"
   ]
  },
  {
   "cell_type": "markdown",
   "metadata": {},
   "source": [
    "# 2. 앙상블\n",
    "- averaging : to build several estimators independently and then to average their pridictions -> variance is reduced\n",
    "- boosting : built sequentially and one tries to reduce the bias of the combined estimator"
   ]
  },
  {
   "cell_type": "code",
   "execution_count": null,
   "metadata": {},
   "outputs": [],
   "source": [
    "X = [0]"
   ]
  }
 ],
 "metadata": {
  "interpreter": {
   "hash": "d50b53f7eecc192699096c3b322d2e418f52a0f23d06ad75ff9fc286d66daf3a"
  },
  "kernelspec": {
   "display_name": "Python 3.8.12 ('kmlee')",
   "language": "python",
   "name": "python3"
  },
  "language_info": {
   "codemirror_mode": {
    "name": "ipython",
    "version": 3
   },
   "file_extension": ".py",
   "mimetype": "text/x-python",
   "name": "python",
   "nbconvert_exporter": "python",
   "pygments_lexer": "ipython3",
   "version": "3.8.12"
  },
  "orig_nbformat": 4
 },
 "nbformat": 4,
 "nbformat_minor": 2
}
